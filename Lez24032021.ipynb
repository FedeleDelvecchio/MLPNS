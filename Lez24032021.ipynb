{
  "nbformat": 4,
  "nbformat_minor": 0,
  "metadata": {
    "colab": {
      "name": "Lez24032021.ipynb",
      "provenance": [],
      "collapsed_sections": [],
      "authorship_tag": "ABX9TyMDwcoNQgNDkXzS3adT6JFG",
      "include_colab_link": true
    },
    "kernelspec": {
      "name": "python3",
      "display_name": "Python 3"
    },
    "language_info": {
      "name": "python"
    }
  },
  "cells": [
    {
      "cell_type": "markdown",
      "metadata": {
        "id": "view-in-github",
        "colab_type": "text"
      },
      "source": [
        "<a href=\"https://colab.research.google.com/github/FedeleDelvecchio/MLPNS_fed/blob/main/Lez24032021.ipynb\" target=\"_parent\"><img src=\"https://colab.research.google.com/assets/colab-badge.svg\" alt=\"Open In Colab\"/></a>"
      ]
    },
    {
      "cell_type": "markdown",
      "metadata": {
        "id": "I_OC_UlCLs6F"
      },
      "source": [
        "Nell'inferenza statistica il p-value statistic and null hypotesis rejection testing è un metodo dominante per l'inferenza scientifica anche oggi. C'è molto scetticismo sul p-value statistic method dal punto di vista filosofico.\n",
        "\n",
        "Usiamo la statistica (matematica) per inferire dei risultati di un campione di oggetti su tutta la popolazione. \n",
        "Come applicazione di questi concetti, compreso la legge dei grandi numeri, vediamo la lazione di oggi.\n",
        "Come fisici sperimentali vogliamo capire qual è \"the probability of physics givend the data\". Concetto usato nelle scienze osservazionali, o scienze come High Energy Physics,hanno dati la cui interpretazione è difficle e hanno una limitata capacità di controllo. Questo è utile anche in astrofisica perchè non è possibile riprodurre le stelle in laboratorio e quindi usiamo i dati per ottenere della fisica.\n",
        " \n",
        "**CALCOALRE LA PROABILITÀ DELLA FISICA CONSCENDO I DATI**, CI FOCALIZZIAMO SULLA\n",
        "NULL HYPOTESIS REJECTION TESTING (frequentis aproach), ma è possibile studiare anche la Bayesian inference.\n",
        "\n",
        "NHRT\n",
        "\n",
        "A distribution is a mathematical formula (model) that represent the frequency at wich I drown numbers from this distribution. We use gaussian distribution also because it has much properties and it easy da controllare matematicamente. \n",
        "\n",
        "Se Gaussiana è simmetrica, la media (also the median) è il centro della distribuzione. Each side of the mean contained in 1-std contain 34.1% of the data on each side of the mean.\n",
        " \n",
        "NHRT relates the idea of falsifiability as a principle to scientific discoveries to probabilistic inference. Sotto quest'ottica facciamo modelli e questi modelli fanno predizioni su fenomeni che accadrebbero sotto determinate circostanze.\n",
        "\n",
        "If the data:\n",
        "\n",
        "- does not falsify the model --> the model still holds.\n",
        "- falsify the model --> the model is rejected.\n",
        "\n",
        "This is ambitious project. In NHRT scietific statement would be written as:\n",
        "Under the (NULL) hypotesis i.e. if the NH model si true, then THAT thing should happen. But NHRT because of the stocasticity we say that \"something\" shoud happen. There is has a low probability of happening for something. I cannot rule out anything, because of the sthocasticity of nature. \n",
        "\n",
        "\n",
        "Something is falsified if it appens at low probability that I would rather not believe the model, than I belive that i got so unlike to hit that low probability event.\n",
        "How low is \"low\"? Depend on the physics we are doing, and depend on the model.\n",
        "If all experimental instruments are very good:\n",
        "HEP typically have 5-sigma threshold. \n",
        "In general we are satify with 3-sigma detetion (astrophysics beacusa of noise of detector). \n",
        "\n",
        "\n",
        "The level of sigma that we choose, the probability that is too low, so low that i would rather believe that my model is wrong rather than believing that I hit that probability thing. That probability is entirely domain dependent and I am free to choose as I wish. But It's very important to CHOOSE THIS THRESHOLD MUST BE CHOOSE AT THE BEGINNING OF THE EXPERIMENT, BECAUSE OTHERWISE COULD BE THE TENTATION TO MODIFY THIS THRESOLD DURING DATA ANLISYS, BECAUSE FOR EXAMPLE I CAN SAY THAT IT'S NOT 3 SIGMA, BUT IT'S MORE 2 SIGMA, AND AYBE 2 SIGMA IS ENOUGH TO REJECT THE NH. I cannot adapt my threshold on the data, threshold must be not chanced, whathever append.\n",
        "\n",
        "The trcick: we don't want to falsify our idea, in general. \n",
        "We create the NH that is the opposite of the new model. \n",
        "\n",
        "**In NHRT we create a null hypothesis that includes everything but our prediction, that we believe is the truth. And we try to falsify this null hypotesis. So we try to falsify the alternative to our model.\n",
        "If the falsification is successfull, if I successfully falsify the NH, all I am left w\\ is the alternative hypothesis wich is my innovated model**\n",
        "\n",
        "FORMULATE THE PREDICTION BASED ON WHAT WE THING THE REALITY ACTUALLY WORKS:\n",
        "This is my alternative hypothesis, NOT MY NH HYPOTHESIS.\n",
        "\n",
        "Then I have to identify **all other** outcomes, that are alternative to my idea.\n",
        "It is important to include al lpossible outcome in P(A)+ P(\\bar A) = 1 (the \n",
        "P(alternative hypothesis) + P(NULL HYPOTHESIS) = 1 i.e. contain all possible outocomes).\n",
        "\n",
        "PRACTICAL EXAMPLES:\n",
        "If I want to design a test to see if some traffic regulation that I put in plase, are decreasing traffic. What I can do is measure bunch of trip and their duration, before and after put the regulation traffic. I want to falsify what i don't believe hold.\n",
        "My ALTERNATIVE HYPOTHESIS is: traffic is grately improved (because I am the urban planner and I believe that my traffic regulator improve traffic).\n",
        "Then my NULL HYPOTHESIS is **ALL** what is left after everything else is falsified: traffic either got worse or remain the same, i.e. the average duration of trip is increased or remained the same.\n",
        "Than if I falsify the NH I am left with the alternative Hypothesis that is what I wanted.\n",
        "\n",
        "I want to falsify what I don't believe holds, so I put the opposite of what I want to hapend, in NH. --> So I am left with the alternative hypothesis that is the hypothesis that i wanted to be true (i.e. the model that I think was right: the hypotheis that I want to prove is \"right\". \n",
        "N.B. ho messo tra virgolette \"giusto\" perchè non possiamo sapere se un modello è giusto. Un modello vale finchè non viene falsificato, non possiamo essere certi che un modello sia giusto).\n",
        "\n",
        "\n",
        "\n",
        "\n",
        "**LET'S GO BACK TO 95% PROBABILITY**\n",
        "\n",
        "We need an experiment that tells us tha a certain value wil come out at certain frequency under the NH. In order to falsify the NH at some probability value, I need to know what is the frequency at wich a result of the experiment will come out.\n",
        "\n",
        "If I measure a statistical quantites I nedd to know what is the probability ditribution of my measurements, if the world is not what I thinked it is (if I am not under the innovative alternative hypothesis) if I am under the non-innovative NH.\n",
        "\n",
        "I need to look for a quantity that has a defined probability ditribution, measure that quantity and find out if the number i got appears w\\ a frequency that is less than something (i.e. less than my threshold).\n",
        "This quantites are called **PIVOTAL QUNTITIES**.\n",
        "\n",
        "THEY ARE MEASURABLE QUNATITIES THAT HAVE TO DO WITH THE DISTRIBUTION, CAUSE THEY HAVE A KNOWN DISTRIUTION THEMSELVES.\n",
        "They relates the statistical properties of my sample and the statistiacl property of the population to find whether or not what I measured is consistent with NH.\n",
        "They are also qunatites that under the null hypotesis have known distribution.\n",
        "\n",
        "If thay have a known distributoin (say for example a standard normal).\n",
        "Then I know, once I get a certain value for Z variable for example, if he was a probable value or not a probable value.\n",
        "\n",
        "The name of this pivotal quantities generally follow the name of the distributions, e.g. for the chi-sq test I am ging to measure a quantity that under the null assumption has a chi-sq distribution. That's beacuse if I have known distribution then I know wether the value that I got is probable or not. \n",
        "In term of formula, I will say that:\n",
        "\n",
        "P(pivotal qunatity|NH) ~ P(NH|Data)\n",
        "\n",
        "If the probability of the NH given the data is smaller than alpha, (where alpha is the threshold on the x axis that say if the measurement is on the center or on the tail of the distribution), then I believee that the prediction is unlikely and therfor I believe that the model is rejected and the alternative model hold. On the other hand, if P(NH|Data)>alpha then I cannot reject the original model. \n",
        "\n",
        "\n",
        "How we choose the pivotal quantites, and the test that I will use?\n",
        "The sensitivity of the test means that even there is a difference that would reject the NH, the test might not be able to find it, given a noisy data. \n",
        "\n",
        "In order to choose the right test we can use the flow-chart given in the slides.\n",
        "\n",
        "There a 2 question to ask: \n",
        "1)what I am trying to do, e.g. am I measuring difference of semple from population?\n",
        "2) or I want to see if two variables are associated, than I will one of the correlation regression test. That's because I think that there is a relation between the two variable.\n",
        "\n",
        "Most of physically test, deal with numerical data.\n",
        "\n",
        "\n",
        "**PYTHON**\n",
        "\n",
        "We will use pandas package to read out data from a url and we will make some data manipulation.\n",
        "In the z-tets we want to try to understand the difference beteween a semple and the population. SO the z-test assumes that I have knowledge of the populetion, i.e. that I have a model that describe the population and I can generate data from it.\n",
        "If for example I have a large sample, with the z-test I can believe that this sample is my population and treat it like my population (generally the population is everything and the sample is a subset). For example if I have a lot of confidence in the standard deviation of my larger sample I can use z-test as if my larger sample is my population. It is use for hystorical data for people who had a particlar desease, because I have a 100 years of data and i can treat this sample as my population statistically speaking. \n",
        "\n",
        "THE Z VALUE (Z_test) measure the difference between the mean of population and samples when the population has a known variace. I cannot measure the mean and see if it is equal or not beacuse this are distribution, and the mean also has a standard deviation, and mean of my sample is known up to a certain level of confidence wich depends on the size of the sample. The meano of the sample will tend to the mean of the population asintothically, and I don't know if the mean is different from the population means because of this asintotically behaviour or because somthing of something different. \n",
        "\n",
        "**THE Z-TEST TELLS US, SATISTICALLY SPEAKING, THESE MEANS ARE DIFFERENT ENOUGH THAT I BELIVE THIS SAMPLE DOESN'T COME FROM THAT POPULATION. THE Z QUANTITY IS THE PIVOTAL QUNATITY.**\n",
        "\n",
        "Z is larger if it's larger the diference between the means. The z value is distributed as a standard noral, that has a 0 mean. SO if the difference is zero, statistically I cannot say the these things differs. As the mean grows, Z grows so the value that I get is less probable. **In additin Z grwoth with the sqrt(n), so large differences measured on a small sample size are harder to reject (i.e. reject the null hypothesis the the sample comes from the population) than small differences on the basis of a large sample size.**\n",
        "\n",
        "**t-test** is an alternative to the z test. It measure the difference between two samples. This is usefull when I cannot make the assumption that my larger sample is my population.\n",
        "The shape of the distribtion depends on the number of degrees of freedom, and therefore depens what is the alpha probability, at what point is far away from the sample.\n",
        "\n",
        "**K-S test** very common used in physics, more than t and Z test that are used on social science and not in physics. \n",
        "It doesn't measure the difference between the means, but it answer the same question and there are 2 vesion of this that answer both question we have just answered. \n",
        "\n",
        "**Z-test: based on the mean, is this sample coming from that population?\n",
        "t-test: based on the mean and the standard deviation of the two samples, are those two samples coming from the same population?\n",
        "**The K-S answer either questions! but wiht different aporach**. It takes the distribution of number which can be theoretical or data driven exoperiental measured and create a cumulative distributoin, i.e. we are taking the cumualtinve sum of my measurement from the smaller one to the largest one. And it lokk ho wdistant are the two cumulative distribuitons. But beacuse the ditribution are not single number, and I cannot define easily what the istance is. The K-S test defines the distance between the distribution as the maximum distance between the cumulative histograms of the distribution, the maxmum vertical distance. The large this distance is, the more unlilke the two histograms are. \n",
        "\n",
        "At minus infinity the cumulative distribution is 0. In fact cumulative distribution sum is the sum of everithing fom the samllest number to the largest number: what fraction of number is gonna be smaller than -infinity? 0.\n",
        "\n",
        "Cumulative distribution is an integral so it is normlaized so at +inifinity, cumulative distribution tends to 1.\n",
        "Beacuse this is an integral and beacuse of the properties of integral the tail of cumulative disribution will converge to 0 and 1 asimpthotically, means that if I have two distributoin that are only in tail I will not be able to see this with this test! So this is powerful if the differences are near the center of the distribution.\n",
        "\n",
        "**PANDAS** is a package usefull to manipulate (e.g. convert data type) and prepairing the data (to ingestion) to make for example machine learning. \n"
      ]
    },
    {
      "cell_type": "code",
      "metadata": {
        "id": "RduGpGnHbox8"
      },
      "source": [
        "import pandas as pd\n",
        "import matplotlib.pyplot as plt\n",
        "import numpy as np"
      ],
      "execution_count": null,
      "outputs": []
    },
    {
      "cell_type": "code",
      "metadata": {
        "id": "o3_G9QsbdWI4"
      },
      "source": [
        "#link from wich we take the data https://raw.githubusercontent.com/fedhere/DSPS/master/labs/1865331.csv\n",
        "#the data represent the wheather statistic for Wilmington, Delaware from 2010 through 2019\n",
        "#I want to extract all the data that are past the beginning of 2019 and tell if statistically speaking was a year \n",
        "#with a uncaratteristically amount of precipitation"
      ],
      "execution_count": null,
      "outputs": []
    },
    {
      "cell_type": "code",
      "metadata": {
        "id": "fhZT_LwDebDm"
      },
      "source": [
        "#csv = comma separeted values file\n",
        "#pandas remove automathically all quotes, comma ecc for me\n",
        "#with pd.read_csv I can tell waht is the separator if I would remove a separator which\n",
        "#isn't a comma. Everty time he sees a separtor in the csv file, that is a new entry.\n"
      ],
      "execution_count": null,
      "outputs": []
    },
    {
      "cell_type": "markdown",
      "metadata": {
        "id": "ngUmVgqLg_sF"
      },
      "source": [
        "Usually csv file are organized, and packages are written, assuming that the onrder in wich I organize the datasets of the file, is to have:\n",
        "- observation on the x axis \n",
        "- feature (i.e. variable) on the y axis."
      ]
    },
    {
      "cell_type": "code",
      "metadata": {
        "colab": {
          "base_uri": "https://localhost:8080/",
          "height": 424
        },
        "id": "r0o5hqnNg9su",
        "outputId": "e49a679e-07c7-49dc-b3f6-ee0f00606662"
      },
      "source": [
        "df = pd.read_csv(\"https://raw.githubusercontent.com/fedhere/DSPS/master/labs/1865331.csv\")\n",
        "df  "
      ],
      "execution_count": null,
      "outputs": [
        {
          "output_type": "execute_result",
          "data": {
            "text/html": [
              "<div>\n",
              "<style scoped>\n",
              "    .dataframe tbody tr th:only-of-type {\n",
              "        vertical-align: middle;\n",
              "    }\n",
              "\n",
              "    .dataframe tbody tr th {\n",
              "        vertical-align: top;\n",
              "    }\n",
              "\n",
              "    .dataframe thead th {\n",
              "        text-align: right;\n",
              "    }\n",
              "</style>\n",
              "<table border=\"1\" class=\"dataframe\">\n",
              "  <thead>\n",
              "    <tr style=\"text-align: right;\">\n",
              "      <th></th>\n",
              "      <th>STATION</th>\n",
              "      <th>NAME</th>\n",
              "      <th>DATE</th>\n",
              "      <th>PRCP</th>\n",
              "      <th>SNOW</th>\n",
              "      <th>SNWD</th>\n",
              "      <th>WESD</th>\n",
              "      <th>WESF</th>\n",
              "    </tr>\n",
              "  </thead>\n",
              "  <tbody>\n",
              "    <tr>\n",
              "      <th>0</th>\n",
              "      <td>US1DENC0010</td>\n",
              "      <td>NEWPORT 2.4 WNW, DE US</td>\n",
              "      <td>2010-01-01</td>\n",
              "      <td>0.28</td>\n",
              "      <td>NaN</td>\n",
              "      <td>0.0</td>\n",
              "      <td>NaN</td>\n",
              "      <td>NaN</td>\n",
              "    </tr>\n",
              "    <tr>\n",
              "      <th>1</th>\n",
              "      <td>US1DENC0010</td>\n",
              "      <td>NEWPORT 2.4 WNW, DE US</td>\n",
              "      <td>2010-01-02</td>\n",
              "      <td>0.00</td>\n",
              "      <td>0.0</td>\n",
              "      <td>NaN</td>\n",
              "      <td>NaN</td>\n",
              "      <td>NaN</td>\n",
              "    </tr>\n",
              "    <tr>\n",
              "      <th>2</th>\n",
              "      <td>US1DENC0010</td>\n",
              "      <td>NEWPORT 2.4 WNW, DE US</td>\n",
              "      <td>2010-01-03</td>\n",
              "      <td>0.00</td>\n",
              "      <td>0.0</td>\n",
              "      <td>NaN</td>\n",
              "      <td>NaN</td>\n",
              "      <td>NaN</td>\n",
              "    </tr>\n",
              "    <tr>\n",
              "      <th>3</th>\n",
              "      <td>US1DENC0010</td>\n",
              "      <td>NEWPORT 2.4 WNW, DE US</td>\n",
              "      <td>2010-01-04</td>\n",
              "      <td>0.00</td>\n",
              "      <td>0.0</td>\n",
              "      <td>NaN</td>\n",
              "      <td>NaN</td>\n",
              "      <td>NaN</td>\n",
              "    </tr>\n",
              "    <tr>\n",
              "      <th>4</th>\n",
              "      <td>US1DENC0010</td>\n",
              "      <td>NEWPORT 2.4 WNW, DE US</td>\n",
              "      <td>2010-01-05</td>\n",
              "      <td>0.00</td>\n",
              "      <td>NaN</td>\n",
              "      <td>NaN</td>\n",
              "      <td>NaN</td>\n",
              "      <td>NaN</td>\n",
              "    </tr>\n",
              "    <tr>\n",
              "      <th>...</th>\n",
              "      <td>...</td>\n",
              "      <td>...</td>\n",
              "      <td>...</td>\n",
              "      <td>...</td>\n",
              "      <td>...</td>\n",
              "      <td>...</td>\n",
              "      <td>...</td>\n",
              "      <td>...</td>\n",
              "    </tr>\n",
              "    <tr>\n",
              "      <th>3533</th>\n",
              "      <td>US1DENC0010</td>\n",
              "      <td>NEWPORT 2.4 WNW, DE US</td>\n",
              "      <td>2019-09-04</td>\n",
              "      <td>0.00</td>\n",
              "      <td>0.0</td>\n",
              "      <td>NaN</td>\n",
              "      <td>NaN</td>\n",
              "      <td>NaN</td>\n",
              "    </tr>\n",
              "    <tr>\n",
              "      <th>3534</th>\n",
              "      <td>US1DENC0010</td>\n",
              "      <td>NEWPORT 2.4 WNW, DE US</td>\n",
              "      <td>2019-09-05</td>\n",
              "      <td>0.00</td>\n",
              "      <td>0.0</td>\n",
              "      <td>NaN</td>\n",
              "      <td>NaN</td>\n",
              "      <td>NaN</td>\n",
              "    </tr>\n",
              "    <tr>\n",
              "      <th>3535</th>\n",
              "      <td>US1DENC0010</td>\n",
              "      <td>NEWPORT 2.4 WNW, DE US</td>\n",
              "      <td>2019-09-06</td>\n",
              "      <td>0.00</td>\n",
              "      <td>0.0</td>\n",
              "      <td>NaN</td>\n",
              "      <td>NaN</td>\n",
              "      <td>NaN</td>\n",
              "    </tr>\n",
              "    <tr>\n",
              "      <th>3536</th>\n",
              "      <td>US1DENC0010</td>\n",
              "      <td>NEWPORT 2.4 WNW, DE US</td>\n",
              "      <td>2019-09-07</td>\n",
              "      <td>0.02</td>\n",
              "      <td>NaN</td>\n",
              "      <td>NaN</td>\n",
              "      <td>NaN</td>\n",
              "      <td>NaN</td>\n",
              "    </tr>\n",
              "    <tr>\n",
              "      <th>3537</th>\n",
              "      <td>US1DENC0010</td>\n",
              "      <td>NEWPORT 2.4 WNW, DE US</td>\n",
              "      <td>2019-09-08</td>\n",
              "      <td>0.00</td>\n",
              "      <td>0.0</td>\n",
              "      <td>NaN</td>\n",
              "      <td>NaN</td>\n",
              "      <td>NaN</td>\n",
              "    </tr>\n",
              "  </tbody>\n",
              "</table>\n",
              "<p>3538 rows × 8 columns</p>\n",
              "</div>"
            ],
            "text/plain": [
              "          STATION                    NAME        DATE  ...  SNWD  WESD  WESF\n",
              "0     US1DENC0010  NEWPORT 2.4 WNW, DE US  2010-01-01  ...   0.0   NaN   NaN\n",
              "1     US1DENC0010  NEWPORT 2.4 WNW, DE US  2010-01-02  ...   NaN   NaN   NaN\n",
              "2     US1DENC0010  NEWPORT 2.4 WNW, DE US  2010-01-03  ...   NaN   NaN   NaN\n",
              "3     US1DENC0010  NEWPORT 2.4 WNW, DE US  2010-01-04  ...   NaN   NaN   NaN\n",
              "4     US1DENC0010  NEWPORT 2.4 WNW, DE US  2010-01-05  ...   NaN   NaN   NaN\n",
              "...           ...                     ...         ...  ...   ...   ...   ...\n",
              "3533  US1DENC0010  NEWPORT 2.4 WNW, DE US  2019-09-04  ...   NaN   NaN   NaN\n",
              "3534  US1DENC0010  NEWPORT 2.4 WNW, DE US  2019-09-05  ...   NaN   NaN   NaN\n",
              "3535  US1DENC0010  NEWPORT 2.4 WNW, DE US  2019-09-06  ...   NaN   NaN   NaN\n",
              "3536  US1DENC0010  NEWPORT 2.4 WNW, DE US  2019-09-07  ...   NaN   NaN   NaN\n",
              "3537  US1DENC0010  NEWPORT 2.4 WNW, DE US  2019-09-08  ...   NaN   NaN   NaN\n",
              "\n",
              "[3538 rows x 8 columns]"
            ]
          },
          "metadata": {
            "tags": []
          },
          "execution_count": 5
        }
      ]
    },
    {
      "cell_type": "code",
      "metadata": {
        "colab": {
          "base_uri": "https://localhost:8080/"
        },
        "id": "crhGOS1eewQU",
        "outputId": "20edb930-02e1-4aff-9d5c-4396e8fd5fd5"
      },
      "source": [
        "#pd.read_csv returna value\n",
        "type(df) #this is a dat type specifically defined by the pandas package\n",
        "         #this data type does not exist in my memory stack until I import pandas"
      ],
      "execution_count": null,
      "outputs": [
        {
          "output_type": "execute_result",
          "data": {
            "text/plain": [
              "pandas.core.frame.DataFrame"
            ]
          },
          "metadata": {
            "tags": []
          },
          "execution_count": 6
        }
      ]
    },
    {
      "cell_type": "code",
      "metadata": {
        "colab": {
          "base_uri": "https://localhost:8080/",
          "height": 282
        },
        "id": "En0FX3mAfDQ3",
        "outputId": "13f94aa2-8c05-49fd-e9f4-46b860155608"
      },
      "source": [
        "df.plot()   #it will do thigs for itself (it is self aware). \n",
        "            #For example I can plot itself"
      ],
      "execution_count": null,
      "outputs": [
        {
          "output_type": "execute_result",
          "data": {
            "text/plain": [
              "<matplotlib.axes._subplots.AxesSubplot at 0x7f05c0ba7d90>"
            ]
          },
          "metadata": {
            "tags": []
          },
          "execution_count": 7
        },
        {
          "output_type": "display_data",
          "data": {
            "image/png": "[encoded data removed]",
            "text/plain": [
              "<Figure size 432x288 with 1 Axes>"
            ]
          },
          "metadata": {
            "tags": [],
            "needs_background": "light"
          }
        }
      ]
    },
    {
      "cell_type": "code",
      "metadata": {
        "colab": {
          "base_uri": "https://localhost:8080/",
          "height": 363
        },
        "id": "4ju-VySzfIbw",
        "outputId": "8c3aaada-ea33-48fc-d5f3-9ca2b934c3e0"
      },
      "source": [
        "df.head(10)"
      ],
      "execution_count": null,
      "outputs": [
        {
          "output_type": "execute_result",
          "data": {
            "text/html": [
              "<div>\n",
              "<style scoped>\n",
              "    .dataframe tbody tr th:only-of-type {\n",
              "        vertical-align: middle;\n",
              "    }\n",
              "\n",
              "    .dataframe tbody tr th {\n",
              "        vertical-align: top;\n",
              "    }\n",
              "\n",
              "    .dataframe thead th {\n",
              "        text-align: right;\n",
              "    }\n",
              "</style>\n",
              "<table border=\"1\" class=\"dataframe\">\n",
              "  <thead>\n",
              "    <tr style=\"text-align: right;\">\n",
              "      <th></th>\n",
              "      <th>STATION</th>\n",
              "      <th>NAME</th>\n",
              "      <th>DATE</th>\n",
              "      <th>PRCP</th>\n",
              "      <th>SNOW</th>\n",
              "      <th>SNWD</th>\n",
              "      <th>WESD</th>\n",
              "      <th>WESF</th>\n",
              "    </tr>\n",
              "  </thead>\n",
              "  <tbody>\n",
              "    <tr>\n",
              "      <th>0</th>\n",
              "      <td>US1DENC0010</td>\n",
              "      <td>NEWPORT 2.4 WNW, DE US</td>\n",
              "      <td>2010-01-01</td>\n",
              "      <td>0.28</td>\n",
              "      <td>NaN</td>\n",
              "      <td>0.0</td>\n",
              "      <td>NaN</td>\n",
              "      <td>NaN</td>\n",
              "    </tr>\n",
              "    <tr>\n",
              "      <th>1</th>\n",
              "      <td>US1DENC0010</td>\n",
              "      <td>NEWPORT 2.4 WNW, DE US</td>\n",
              "      <td>2010-01-02</td>\n",
              "      <td>0.00</td>\n",
              "      <td>0.0</td>\n",
              "      <td>NaN</td>\n",
              "      <td>NaN</td>\n",
              "      <td>NaN</td>\n",
              "    </tr>\n",
              "    <tr>\n",
              "      <th>2</th>\n",
              "      <td>US1DENC0010</td>\n",
              "      <td>NEWPORT 2.4 WNW, DE US</td>\n",
              "      <td>2010-01-03</td>\n",
              "      <td>0.00</td>\n",
              "      <td>0.0</td>\n",
              "      <td>NaN</td>\n",
              "      <td>NaN</td>\n",
              "      <td>NaN</td>\n",
              "    </tr>\n",
              "    <tr>\n",
              "      <th>3</th>\n",
              "      <td>US1DENC0010</td>\n",
              "      <td>NEWPORT 2.4 WNW, DE US</td>\n",
              "      <td>2010-01-04</td>\n",
              "      <td>0.00</td>\n",
              "      <td>0.0</td>\n",
              "      <td>NaN</td>\n",
              "      <td>NaN</td>\n",
              "      <td>NaN</td>\n",
              "    </tr>\n",
              "    <tr>\n",
              "      <th>4</th>\n",
              "      <td>US1DENC0010</td>\n",
              "      <td>NEWPORT 2.4 WNW, DE US</td>\n",
              "      <td>2010-01-05</td>\n",
              "      <td>0.00</td>\n",
              "      <td>NaN</td>\n",
              "      <td>NaN</td>\n",
              "      <td>NaN</td>\n",
              "      <td>NaN</td>\n",
              "    </tr>\n",
              "    <tr>\n",
              "      <th>5</th>\n",
              "      <td>US1DENC0010</td>\n",
              "      <td>NEWPORT 2.4 WNW, DE US</td>\n",
              "      <td>2010-01-06</td>\n",
              "      <td>0.00</td>\n",
              "      <td>0.0</td>\n",
              "      <td>NaN</td>\n",
              "      <td>NaN</td>\n",
              "      <td>NaN</td>\n",
              "    </tr>\n",
              "    <tr>\n",
              "      <th>6</th>\n",
              "      <td>US1DENC0010</td>\n",
              "      <td>NEWPORT 2.4 WNW, DE US</td>\n",
              "      <td>2010-01-07</td>\n",
              "      <td>0.00</td>\n",
              "      <td>0.0</td>\n",
              "      <td>NaN</td>\n",
              "      <td>NaN</td>\n",
              "      <td>NaN</td>\n",
              "    </tr>\n",
              "    <tr>\n",
              "      <th>7</th>\n",
              "      <td>US1DENC0010</td>\n",
              "      <td>NEWPORT 2.4 WNW, DE US</td>\n",
              "      <td>2010-01-08</td>\n",
              "      <td>0.05</td>\n",
              "      <td>1.1</td>\n",
              "      <td>1.0</td>\n",
              "      <td>0.1</td>\n",
              "      <td>0.1</td>\n",
              "    </tr>\n",
              "    <tr>\n",
              "      <th>8</th>\n",
              "      <td>US1DENC0010</td>\n",
              "      <td>NEWPORT 2.4 WNW, DE US</td>\n",
              "      <td>2010-01-09</td>\n",
              "      <td>0.00</td>\n",
              "      <td>0.0</td>\n",
              "      <td>0.0</td>\n",
              "      <td>NaN</td>\n",
              "      <td>NaN</td>\n",
              "    </tr>\n",
              "    <tr>\n",
              "      <th>9</th>\n",
              "      <td>US1DENC0010</td>\n",
              "      <td>NEWPORT 2.4 WNW, DE US</td>\n",
              "      <td>2010-01-10</td>\n",
              "      <td>0.00</td>\n",
              "      <td>0.0</td>\n",
              "      <td>NaN</td>\n",
              "      <td>NaN</td>\n",
              "      <td>NaN</td>\n",
              "    </tr>\n",
              "  </tbody>\n",
              "</table>\n",
              "</div>"
            ],
            "text/plain": [
              "       STATION                    NAME        DATE  ...  SNWD  WESD  WESF\n",
              "0  US1DENC0010  NEWPORT 2.4 WNW, DE US  2010-01-01  ...   0.0   NaN   NaN\n",
              "1  US1DENC0010  NEWPORT 2.4 WNW, DE US  2010-01-02  ...   NaN   NaN   NaN\n",
              "2  US1DENC0010  NEWPORT 2.4 WNW, DE US  2010-01-03  ...   NaN   NaN   NaN\n",
              "3  US1DENC0010  NEWPORT 2.4 WNW, DE US  2010-01-04  ...   NaN   NaN   NaN\n",
              "4  US1DENC0010  NEWPORT 2.4 WNW, DE US  2010-01-05  ...   NaN   NaN   NaN\n",
              "5  US1DENC0010  NEWPORT 2.4 WNW, DE US  2010-01-06  ...   NaN   NaN   NaN\n",
              "6  US1DENC0010  NEWPORT 2.4 WNW, DE US  2010-01-07  ...   NaN   NaN   NaN\n",
              "7  US1DENC0010  NEWPORT 2.4 WNW, DE US  2010-01-08  ...   1.0   0.1   0.1\n",
              "8  US1DENC0010  NEWPORT 2.4 WNW, DE US  2010-01-09  ...   0.0   NaN   NaN\n",
              "9  US1DENC0010  NEWPORT 2.4 WNW, DE US  2010-01-10  ...   NaN   NaN   NaN\n",
              "\n",
              "[10 rows x 8 columns]"
            ]
          },
          "metadata": {
            "tags": []
          },
          "execution_count": 8
        }
      ]
    },
    {
      "cell_type": "code",
      "metadata": {
        "colab": {
          "base_uri": "https://localhost:8080/"
        },
        "id": "lBGtDXjmfMmN",
        "outputId": "8070e335-0700-4e0c-c994-bdab27ad5168"
      },
      "source": [
        "#Like a dictionary, the location of columns and rows is fixed. So I can also refer to them \n",
        "#by index. Example:\n",
        "df.columns #for columns. \".columns\" is an attribute."
      ],
      "execution_count": null,
      "outputs": [
        {
          "output_type": "execute_result",
          "data": {
            "text/plain": [
              "Index(['STATION', 'NAME', 'DATE', 'PRCP', 'SNOW', 'SNWD', 'WESD', 'WESF'], dtype='object')"
            ]
          },
          "metadata": {
            "tags": []
          },
          "execution_count": 9
        }
      ]
    },
    {
      "cell_type": "code",
      "metadata": {
        "colab": {
          "base_uri": "https://localhost:8080/"
        },
        "id": "fQVVUIK3fUd_",
        "outputId": "ec00d876-a964-4e3f-f3ee-0e62413f53a1"
      },
      "source": [
        "#when I read the file in I can decide to use a specific value as an index.\n",
        "#But we are not going to do this now.\n",
        "df.index #to print the row"
      ],
      "execution_count": null,
      "outputs": [
        {
          "output_type": "execute_result",
          "data": {
            "text/plain": [
              "RangeIndex(start=0, stop=3538, step=1)"
            ]
          },
          "metadata": {
            "tags": []
          },
          "execution_count": 10
        }
      ]
    },
    {
      "cell_type": "code",
      "metadata": {
        "colab": {
          "base_uri": "https://localhost:8080/"
        },
        "id": "394vUcIpfb27",
        "outputId": "570a83a1-39e6-4ff4-8648-3e9942e55456"
      },
      "source": [
        "#I can refer to thing to with their name\n",
        "df['STATION'] #the core element of dataframe df is a series.\n",
        "              #A pandas dataframe is a collection of pandas series"
      ],
      "execution_count": null,
      "outputs": [
        {
          "output_type": "execute_result",
          "data": {
            "text/plain": [
              "0       US1DENC0010\n",
              "1       US1DENC0010\n",
              "2       US1DENC0010\n",
              "3       US1DENC0010\n",
              "4       US1DENC0010\n",
              "           ...     \n",
              "3533    US1DENC0010\n",
              "3534    US1DENC0010\n",
              "3535    US1DENC0010\n",
              "3536    US1DENC0010\n",
              "3537    US1DENC0010\n",
              "Name: STATION, Length: 3538, dtype: object"
            ]
          },
          "metadata": {
            "tags": []
          },
          "execution_count": 11
        }
      ]
    },
    {
      "cell_type": "code",
      "metadata": {
        "colab": {
          "base_uri": "https://localhost:8080/",
          "height": 424
        },
        "id": "nkI9J_1YkRzK",
        "outputId": "5223b1bf-8c30-42df-ae22-95d8e1d0459a"
      },
      "source": [
        "#I can collect more than 1 column in a list\n",
        "df[['STATION', 'NAME']]"
      ],
      "execution_count": null,
      "outputs": [
        {
          "output_type": "execute_result",
          "data": {
            "text/html": [
              "<div>\n",
              "<style scoped>\n",
              "    .dataframe tbody tr th:only-of-type {\n",
              "        vertical-align: middle;\n",
              "    }\n",
              "\n",
              "    .dataframe tbody tr th {\n",
              "        vertical-align: top;\n",
              "    }\n",
              "\n",
              "    .dataframe thead th {\n",
              "        text-align: right;\n",
              "    }\n",
              "</style>\n",
              "<table border=\"1\" class=\"dataframe\">\n",
              "  <thead>\n",
              "    <tr style=\"text-align: right;\">\n",
              "      <th></th>\n",
              "      <th>STATION</th>\n",
              "      <th>NAME</th>\n",
              "    </tr>\n",
              "  </thead>\n",
              "  <tbody>\n",
              "    <tr>\n",
              "      <th>0</th>\n",
              "      <td>US1DENC0010</td>\n",
              "      <td>NEWPORT 2.4 WNW, DE US</td>\n",
              "    </tr>\n",
              "    <tr>\n",
              "      <th>1</th>\n",
              "      <td>US1DENC0010</td>\n",
              "      <td>NEWPORT 2.4 WNW, DE US</td>\n",
              "    </tr>\n",
              "    <tr>\n",
              "      <th>2</th>\n",
              "      <td>US1DENC0010</td>\n",
              "      <td>NEWPORT 2.4 WNW, DE US</td>\n",
              "    </tr>\n",
              "    <tr>\n",
              "      <th>3</th>\n",
              "      <td>US1DENC0010</td>\n",
              "      <td>NEWPORT 2.4 WNW, DE US</td>\n",
              "    </tr>\n",
              "    <tr>\n",
              "      <th>4</th>\n",
              "      <td>US1DENC0010</td>\n",
              "      <td>NEWPORT 2.4 WNW, DE US</td>\n",
              "    </tr>\n",
              "    <tr>\n",
              "      <th>...</th>\n",
              "      <td>...</td>\n",
              "      <td>...</td>\n",
              "    </tr>\n",
              "    <tr>\n",
              "      <th>3533</th>\n",
              "      <td>US1DENC0010</td>\n",
              "      <td>NEWPORT 2.4 WNW, DE US</td>\n",
              "    </tr>\n",
              "    <tr>\n",
              "      <th>3534</th>\n",
              "      <td>US1DENC0010</td>\n",
              "      <td>NEWPORT 2.4 WNW, DE US</td>\n",
              "    </tr>\n",
              "    <tr>\n",
              "      <th>3535</th>\n",
              "      <td>US1DENC0010</td>\n",
              "      <td>NEWPORT 2.4 WNW, DE US</td>\n",
              "    </tr>\n",
              "    <tr>\n",
              "      <th>3536</th>\n",
              "      <td>US1DENC0010</td>\n",
              "      <td>NEWPORT 2.4 WNW, DE US</td>\n",
              "    </tr>\n",
              "    <tr>\n",
              "      <th>3537</th>\n",
              "      <td>US1DENC0010</td>\n",
              "      <td>NEWPORT 2.4 WNW, DE US</td>\n",
              "    </tr>\n",
              "  </tbody>\n",
              "</table>\n",
              "<p>3538 rows × 2 columns</p>\n",
              "</div>"
            ],
            "text/plain": [
              "          STATION                    NAME\n",
              "0     US1DENC0010  NEWPORT 2.4 WNW, DE US\n",
              "1     US1DENC0010  NEWPORT 2.4 WNW, DE US\n",
              "2     US1DENC0010  NEWPORT 2.4 WNW, DE US\n",
              "3     US1DENC0010  NEWPORT 2.4 WNW, DE US\n",
              "4     US1DENC0010  NEWPORT 2.4 WNW, DE US\n",
              "...           ...                     ...\n",
              "3533  US1DENC0010  NEWPORT 2.4 WNW, DE US\n",
              "3534  US1DENC0010  NEWPORT 2.4 WNW, DE US\n",
              "3535  US1DENC0010  NEWPORT 2.4 WNW, DE US\n",
              "3536  US1DENC0010  NEWPORT 2.4 WNW, DE US\n",
              "3537  US1DENC0010  NEWPORT 2.4 WNW, DE US\n",
              "\n",
              "[3538 rows x 2 columns]"
            ]
          },
          "metadata": {
            "tags": []
          },
          "execution_count": 12
        }
      ]
    },
    {
      "cell_type": "code",
      "metadata": {
        "colab": {
          "base_uri": "https://localhost:8080/"
        },
        "id": "1cej84F9fvpy",
        "outputId": "51005e51-1eb3-49d0-c5a2-63fcc46dc470"
      },
      "source": [
        "type(df['STATION'])"
      ],
      "execution_count": null,
      "outputs": [
        {
          "output_type": "execute_result",
          "data": {
            "text/plain": [
              "pandas.core.series.Series"
            ]
          },
          "metadata": {
            "tags": []
          },
          "execution_count": 13
        }
      ]
    },
    {
      "cell_type": "code",
      "metadata": {
        "colab": {
          "base_uri": "https://localhost:8080/",
          "height": 35
        },
        "id": "PwC4OgAzf68j",
        "outputId": "d9c1e612-5507-4d6d-f6d5-1b0e6bea11f7"
      },
      "source": [
        "#another way to refer to a dataframe will be to use .loc and than refer to \n",
        "#a columns and rows by their name\n",
        "\n",
        "\n",
        "df.loc[3537]['STATION'] #location for row NAMED 3537, and column NAMED station\n",
        "                        #so this extrat one elemnt of the series"
      ],
      "execution_count": null,
      "outputs": [
        {
          "output_type": "execute_result",
          "data": {
            "application/vnd.google.colaboratory.intrinsic+json": {
              "type": "string"
            },
            "text/plain": [
              "'US1DENC0010'"
            ]
          },
          "metadata": {
            "tags": []
          },
          "execution_count": 14
        }
      ]
    },
    {
      "cell_type": "code",
      "metadata": {
        "colab": {
          "base_uri": "https://localhost:8080/",
          "height": 35
        },
        "id": "HuImA2-lgJx8",
        "outputId": "9b410424-1d6f-40a4-ff1d-81486f83c4c2"
      },
      "source": [
        "#if I don't know my name but I know the location I can use\n",
        "df.iloc[3537][0]  #extract element from the row that has a number 3537 \n",
        "                  #and from the 0-st column"
      ],
      "execution_count": null,
      "outputs": [
        {
          "output_type": "execute_result",
          "data": {
            "application/vnd.google.colaboratory.intrinsic+json": {
              "type": "string"
            },
            "text/plain": [
              "'US1DENC0010'"
            ]
          },
          "metadata": {
            "tags": []
          },
          "execution_count": 15
        }
      ]
    },
    {
      "cell_type": "code",
      "metadata": {
        "colab": {
          "base_uri": "https://localhost:8080/",
          "height": 300
        },
        "id": "ot4rsg08gVPS",
        "outputId": "5aac0fec-3ec9-4387-d180-ae50dc51b21d"
      },
      "source": [
        "df.describe() #it can describe itself\n",
        "              #it extract numerical value from the data\n",
        "              #the rows 'count' are the valid entries, the other one are not a number or are null "
      ],
      "execution_count": null,
      "outputs": [
        {
          "output_type": "execute_result",
          "data": {
            "text/html": [
              "<div>\n",
              "<style scoped>\n",
              "    .dataframe tbody tr th:only-of-type {\n",
              "        vertical-align: middle;\n",
              "    }\n",
              "\n",
              "    .dataframe tbody tr th {\n",
              "        vertical-align: top;\n",
              "    }\n",
              "\n",
              "    .dataframe thead th {\n",
              "        text-align: right;\n",
              "    }\n",
              "</style>\n",
              "<table border=\"1\" class=\"dataframe\">\n",
              "  <thead>\n",
              "    <tr style=\"text-align: right;\">\n",
              "      <th></th>\n",
              "      <th>PRCP</th>\n",
              "      <th>SNOW</th>\n",
              "      <th>SNWD</th>\n",
              "      <th>WESD</th>\n",
              "      <th>WESF</th>\n",
              "    </tr>\n",
              "  </thead>\n",
              "  <tbody>\n",
              "    <tr>\n",
              "      <th>count</th>\n",
              "      <td>3538.000000</td>\n",
              "      <td>2266.00000</td>\n",
              "      <td>216.000000</td>\n",
              "      <td>175.000000</td>\n",
              "      <td>256.000000</td>\n",
              "    </tr>\n",
              "    <tr>\n",
              "      <th>mean</th>\n",
              "      <td>0.137340</td>\n",
              "      <td>0.09594</td>\n",
              "      <td>1.026852</td>\n",
              "      <td>0.160571</td>\n",
              "      <td>0.073828</td>\n",
              "    </tr>\n",
              "    <tr>\n",
              "      <th>std</th>\n",
              "      <td>0.382174</td>\n",
              "      <td>0.64966</td>\n",
              "      <td>2.738447</td>\n",
              "      <td>0.457994</td>\n",
              "      <td>0.175507</td>\n",
              "    </tr>\n",
              "    <tr>\n",
              "      <th>min</th>\n",
              "      <td>0.000000</td>\n",
              "      <td>0.00000</td>\n",
              "      <td>0.000000</td>\n",
              "      <td>0.000000</td>\n",
              "      <td>0.000000</td>\n",
              "    </tr>\n",
              "    <tr>\n",
              "      <th>25%</th>\n",
              "      <td>0.000000</td>\n",
              "      <td>0.00000</td>\n",
              "      <td>0.000000</td>\n",
              "      <td>0.000000</td>\n",
              "      <td>0.000000</td>\n",
              "    </tr>\n",
              "    <tr>\n",
              "      <th>50%</th>\n",
              "      <td>0.000000</td>\n",
              "      <td>0.00000</td>\n",
              "      <td>0.000000</td>\n",
              "      <td>0.000000</td>\n",
              "      <td>0.000000</td>\n",
              "    </tr>\n",
              "    <tr>\n",
              "      <th>75%</th>\n",
              "      <td>0.070000</td>\n",
              "      <td>0.00000</td>\n",
              "      <td>0.350000</td>\n",
              "      <td>0.100000</td>\n",
              "      <td>0.100000</td>\n",
              "    </tr>\n",
              "    <tr>\n",
              "      <th>max</th>\n",
              "      <td>6.960000</td>\n",
              "      <td>12.30000</td>\n",
              "      <td>16.400000</td>\n",
              "      <td>2.400000</td>\n",
              "      <td>1.400000</td>\n",
              "    </tr>\n",
              "  </tbody>\n",
              "</table>\n",
              "</div>"
            ],
            "text/plain": [
              "              PRCP        SNOW        SNWD        WESD        WESF\n",
              "count  3538.000000  2266.00000  216.000000  175.000000  256.000000\n",
              "mean      0.137340     0.09594    1.026852    0.160571    0.073828\n",
              "std       0.382174     0.64966    2.738447    0.457994    0.175507\n",
              "min       0.000000     0.00000    0.000000    0.000000    0.000000\n",
              "25%       0.000000     0.00000    0.000000    0.000000    0.000000\n",
              "50%       0.000000     0.00000    0.000000    0.000000    0.000000\n",
              "75%       0.070000     0.00000    0.350000    0.100000    0.100000\n",
              "max       6.960000    12.30000   16.400000    2.400000    1.400000"
            ]
          },
          "metadata": {
            "tags": []
          },
          "execution_count": 16
        }
      ]
    },
    {
      "cell_type": "code",
      "metadata": {
        "colab": {
          "base_uri": "https://localhost:8080/"
        },
        "id": "GK4_PhFGgclI",
        "outputId": "9985df68-7816-423b-8aa9-8c4a78a7eac3"
      },
      "source": [
        "#daytime funtionality \n",
        "#one of th entry is the date\n",
        "#pandas is smart to figure itself out if one entries is a date or not\n",
        "\n",
        "df[\"DATE\"] #equivalent as when we refer to a dictionary for core python element, but df is not a dictionary"
      ],
      "execution_count": null,
      "outputs": [
        {
          "output_type": "execute_result",
          "data": {
            "text/plain": [
              "0       2010-01-01\n",
              "1       2010-01-02\n",
              "2       2010-01-03\n",
              "3       2010-01-04\n",
              "4       2010-01-05\n",
              "           ...    \n",
              "3533    2019-09-04\n",
              "3534    2019-09-05\n",
              "3535    2019-09-06\n",
              "3536    2019-09-07\n",
              "3537    2019-09-08\n",
              "Name: DATE, Length: 3538, dtype: object"
            ]
          },
          "metadata": {
            "tags": []
          },
          "execution_count": 17
        }
      ]
    },
    {
      "cell_type": "code",
      "metadata": {
        "colab": {
          "base_uri": "https://localhost:8080/"
        },
        "id": "iKnIWxdNfQOV",
        "outputId": "dd36f575-2e63-44fd-96d6-f87b17a47917"
      },
      "source": [
        "#instead of using the sqare brackets I can also use df.DATE\n",
        "df.DATE"
      ],
      "execution_count": null,
      "outputs": [
        {
          "output_type": "execute_result",
          "data": {
            "text/plain": [
              "0       2010-01-01\n",
              "1       2010-01-02\n",
              "2       2010-01-03\n",
              "3       2010-01-04\n",
              "4       2010-01-05\n",
              "           ...    \n",
              "3533    2019-09-04\n",
              "3534    2019-09-05\n",
              "3535    2019-09-06\n",
              "3536    2019-09-07\n",
              "3537    2019-09-08\n",
              "Name: DATE, Length: 3538, dtype: object"
            ]
          },
          "metadata": {
            "tags": []
          },
          "execution_count": 18
        }
      ]
    },
    {
      "cell_type": "code",
      "metadata": {
        "colab": {
          "base_uri": "https://localhost:8080/"
        },
        "id": "gt-wSVGUg_BX",
        "outputId": "a7e91877-9908-4b5a-f7d9-27e55d9a324e"
      },
      "source": [
        "#since df.DATE has a type: object he has not figured out that was a date.\n",
        "#but I can do\n",
        "pd.to_datetime(df.DATE) #to_datetime is a function that convert something to a date\n",
        "                        #it tells me that is encoded as a ns precision varible (see below)"
      ],
      "execution_count": null,
      "outputs": [
        {
          "output_type": "execute_result",
          "data": {
            "text/plain": [
              "0      2010-01-01\n",
              "1      2010-01-02\n",
              "2      2010-01-03\n",
              "3      2010-01-04\n",
              "4      2010-01-05\n",
              "          ...    \n",
              "3533   2019-09-04\n",
              "3534   2019-09-05\n",
              "3535   2019-09-06\n",
              "3536   2019-09-07\n",
              "3537   2019-09-08\n",
              "Name: DATE, Length: 3538, dtype: datetime64[ns]"
            ]
          },
          "metadata": {
            "tags": []
          },
          "execution_count": 19
        }
      ]
    },
    {
      "cell_type": "code",
      "metadata": {
        "id": "8stypakkhFbx"
      },
      "source": [
        "#after I read and prepared all the data with pandas, it might be usefull to convert \n",
        "#the data into numpy array once I get to the machine learning piece for a model\n",
        "#cause a lot of model are not fully integrable with pandas dataframe\n",
        "\n",
        "#to convert some data to treat them with numpy, I can do a list of numerical variable\n",
        "listnumv = [\"PRCP\",\t\"SNOW\",\t\"SNWD\",\t\"WESD\",\t\"WESF\"]"
      ],
      "execution_count": null,
      "outputs": []
    },
    {
      "cell_type": "code",
      "metadata": {
        "colab": {
          "base_uri": "https://localhost:8080/",
          "height": 424
        },
        "id": "8PDxXwHyhKLW",
        "outputId": "fe35489a-9347-488d-c30b-f1826c86c609"
      },
      "source": [
        "df[listnumv]"
      ],
      "execution_count": null,
      "outputs": [
        {
          "output_type": "execute_result",
          "data": {
            "text/html": [
              "<div>\n",
              "<style scoped>\n",
              "    .dataframe tbody tr th:only-of-type {\n",
              "        vertical-align: middle;\n",
              "    }\n",
              "\n",
              "    .dataframe tbody tr th {\n",
              "        vertical-align: top;\n",
              "    }\n",
              "\n",
              "    .dataframe thead th {\n",
              "        text-align: right;\n",
              "    }\n",
              "</style>\n",
              "<table border=\"1\" class=\"dataframe\">\n",
              "  <thead>\n",
              "    <tr style=\"text-align: right;\">\n",
              "      <th></th>\n",
              "      <th>PRCP</th>\n",
              "      <th>SNOW</th>\n",
              "      <th>SNWD</th>\n",
              "      <th>WESD</th>\n",
              "      <th>WESF</th>\n",
              "    </tr>\n",
              "  </thead>\n",
              "  <tbody>\n",
              "    <tr>\n",
              "      <th>0</th>\n",
              "      <td>0.28</td>\n",
              "      <td>NaN</td>\n",
              "      <td>0.0</td>\n",
              "      <td>NaN</td>\n",
              "      <td>NaN</td>\n",
              "    </tr>\n",
              "    <tr>\n",
              "      <th>1</th>\n",
              "      <td>0.00</td>\n",
              "      <td>0.0</td>\n",
              "      <td>NaN</td>\n",
              "      <td>NaN</td>\n",
              "      <td>NaN</td>\n",
              "    </tr>\n",
              "    <tr>\n",
              "      <th>2</th>\n",
              "      <td>0.00</td>\n",
              "      <td>0.0</td>\n",
              "      <td>NaN</td>\n",
              "      <td>NaN</td>\n",
              "      <td>NaN</td>\n",
              "    </tr>\n",
              "    <tr>\n",
              "      <th>3</th>\n",
              "      <td>0.00</td>\n",
              "      <td>0.0</td>\n",
              "      <td>NaN</td>\n",
              "      <td>NaN</td>\n",
              "      <td>NaN</td>\n",
              "    </tr>\n",
              "    <tr>\n",
              "      <th>4</th>\n",
              "      <td>0.00</td>\n",
              "      <td>NaN</td>\n",
              "      <td>NaN</td>\n",
              "      <td>NaN</td>\n",
              "      <td>NaN</td>\n",
              "    </tr>\n",
              "    <tr>\n",
              "      <th>...</th>\n",
              "      <td>...</td>\n",
              "      <td>...</td>\n",
              "      <td>...</td>\n",
              "      <td>...</td>\n",
              "      <td>...</td>\n",
              "    </tr>\n",
              "    <tr>\n",
              "      <th>3533</th>\n",
              "      <td>0.00</td>\n",
              "      <td>0.0</td>\n",
              "      <td>NaN</td>\n",
              "      <td>NaN</td>\n",
              "      <td>NaN</td>\n",
              "    </tr>\n",
              "    <tr>\n",
              "      <th>3534</th>\n",
              "      <td>0.00</td>\n",
              "      <td>0.0</td>\n",
              "      <td>NaN</td>\n",
              "      <td>NaN</td>\n",
              "      <td>NaN</td>\n",
              "    </tr>\n",
              "    <tr>\n",
              "      <th>3535</th>\n",
              "      <td>0.00</td>\n",
              "      <td>0.0</td>\n",
              "      <td>NaN</td>\n",
              "      <td>NaN</td>\n",
              "      <td>NaN</td>\n",
              "    </tr>\n",
              "    <tr>\n",
              "      <th>3536</th>\n",
              "      <td>0.02</td>\n",
              "      <td>NaN</td>\n",
              "      <td>NaN</td>\n",
              "      <td>NaN</td>\n",
              "      <td>NaN</td>\n",
              "    </tr>\n",
              "    <tr>\n",
              "      <th>3537</th>\n",
              "      <td>0.00</td>\n",
              "      <td>0.0</td>\n",
              "      <td>NaN</td>\n",
              "      <td>NaN</td>\n",
              "      <td>NaN</td>\n",
              "    </tr>\n",
              "  </tbody>\n",
              "</table>\n",
              "<p>3538 rows × 5 columns</p>\n",
              "</div>"
            ],
            "text/plain": [
              "      PRCP  SNOW  SNWD  WESD  WESF\n",
              "0     0.28   NaN   0.0   NaN   NaN\n",
              "1     0.00   0.0   NaN   NaN   NaN\n",
              "2     0.00   0.0   NaN   NaN   NaN\n",
              "3     0.00   0.0   NaN   NaN   NaN\n",
              "4     0.00   NaN   NaN   NaN   NaN\n",
              "...    ...   ...   ...   ...   ...\n",
              "3533  0.00   0.0   NaN   NaN   NaN\n",
              "3534  0.00   0.0   NaN   NaN   NaN\n",
              "3535  0.00   0.0   NaN   NaN   NaN\n",
              "3536  0.02   NaN   NaN   NaN   NaN\n",
              "3537  0.00   0.0   NaN   NaN   NaN\n",
              "\n",
              "[3538 rows x 5 columns]"
            ]
          },
          "metadata": {
            "tags": []
          },
          "execution_count": 39
        }
      ]
    },
    {
      "cell_type": "code",
      "metadata": {
        "colab": {
          "base_uri": "https://localhost:8080/"
        },
        "id": "lPg72t0khn2j",
        "outputId": "a3d6fe48-baf2-4ac2-8190-1188035c22c2"
      },
      "source": [
        "#to see what type of data contain my df container I can do\n",
        "(df[listnumv].values).dtype #dtype is a data type object from                       "
      ],
      "execution_count": null,
      "outputs": [
        {
          "output_type": "execute_result",
          "data": {
            "text/plain": [
              "dtype('float64')"
            ]
          },
          "metadata": {
            "tags": []
          },
          "execution_count": 40
        }
      ]
    },
    {
      "cell_type": "code",
      "metadata": {
        "colab": {
          "base_uri": "https://localhost:8080/"
        },
        "id": "kHZYBV7whplS",
        "outputId": "1e1191a9-b1d1-4ca8-9a77-8e2c60d30ab6"
      },
      "source": [
        "#while to see the overall type of the container I do\n",
        "type((df[listnumv].values))   #this tells me that I converted to a numpy array\n",
        "                              #and this is ready to do tensor-flow/deep learing model ecc.. "
      ],
      "execution_count": null,
      "outputs": [
        {
          "output_type": "execute_result",
          "data": {
            "text/plain": [
              "numpy.ndarray"
            ]
          },
          "metadata": {
            "tags": []
          },
          "execution_count": 21
        }
      ]
    },
    {
      "cell_type": "markdown",
      "metadata": {
        "id": "FAEo9KnwlwT4"
      },
      "source": [
        "READ THIS DATA AND EXTRACT ONLY THE DAY THAT ARE PASS 2019 AND SAY WHAT IS THE AMOUNT OF PRECIPITATION.\n",
        "I TREAT THE DATA 2010 TROUGH 2019 AS MY POPULATION, AND EXTRACT ALL 2019 PREICPITATION AS MY SAMPLE, AND CHECK AVERAGE AMOUNT OF PRECIPITATION AND USE THE STANDARD DEVIATION OF POPULATION AS THE SIGMA AND THE SIZE OF MY SAMPLE (THE SIZE OF 2019) AS THE SQRT(n) THAT I NEED IN THE FOMRULA TO CALCULATE THE Z. bASED ON THE Z TEST I SHOULD BE ABLE TO TELL, JUST LOOKING AT THE NUMBER, WHETHER IF 2019 WAS AN UNCARATTERISTICLY RAINY **AT 2 SIGMA CONFIDENCE LEVEL**"
      ]
    },
    {
      "cell_type": "code",
      "metadata": {
        "id": "JqQtcg31hyAE"
      },
      "source": [
        "#posso riferirmi agli indici dei dataframe nell stesso modo in cui mi riferisco\n",
        "#agli indici degli array.\n",
        "#e posso quindi selezionare subsets di un array con una condizione (broadcasting)\n",
        "#siccome una serie di datetime value sono numeri posso usare gli stessi operatori \n",
        "#che uso con i numeri\n",
        "\n",
        "#pd.data funziona anche su una string\n",
        "#pd.data sono numeri e quindi posso fare le operazioni con i numeri.\n",
        "#posso usare una condizione come indice\n",
        "#cioè \" if pd.date>determinata data \"\n",
        "\n",
        "#se pandas non dovesse riconoscere la data posso urare l'argomento 'format' per dirgli\n",
        "#che convenzione per la data sto usando\n",
        "\n",
        "df19 = df[pd.to_datetime(df.DATE) >= pd.to_datetime('2019-01-01')]"
      ],
      "execution_count": null,
      "outputs": []
    },
    {
      "cell_type": "markdown",
      "metadata": {
        "id": "QS20JA1us7oo"
      },
      "source": [
        "**QUANTO SEGUE È QUELLO SVOLTO DA NOI, POI DOPO C'È LO SVOLGIMENTO DELLA PROFESSORESSA**"
      ]
    },
    {
      "cell_type": "code",
      "metadata": {
        "colab": {
          "base_uri": "https://localhost:8080/",
          "height": 300
        },
        "id": "sGE3DOKeiMvj",
        "outputId": "d41dcea6-428f-4550-a672-44615da4a0a7"
      },
      "source": [
        "df19.describe()"
      ],
      "execution_count": null,
      "outputs": [
        {
          "output_type": "execute_result",
          "data": {
            "text/html": [
              "<div>\n",
              "<style scoped>\n",
              "    .dataframe tbody tr th:only-of-type {\n",
              "        vertical-align: middle;\n",
              "    }\n",
              "\n",
              "    .dataframe tbody tr th {\n",
              "        vertical-align: top;\n",
              "    }\n",
              "\n",
              "    .dataframe thead th {\n",
              "        text-align: right;\n",
              "    }\n",
              "</style>\n",
              "<table border=\"1\" class=\"dataframe\">\n",
              "  <thead>\n",
              "    <tr style=\"text-align: right;\">\n",
              "      <th></th>\n",
              "      <th>PRCP</th>\n",
              "      <th>SNOW</th>\n",
              "      <th>SNWD</th>\n",
              "      <th>WESD</th>\n",
              "      <th>WESF</th>\n",
              "    </tr>\n",
              "  </thead>\n",
              "  <tbody>\n",
              "    <tr>\n",
              "      <th>count</th>\n",
              "      <td>251.000000</td>\n",
              "      <td>148.000000</td>\n",
              "      <td>10.000000</td>\n",
              "      <td>5.000000</td>\n",
              "      <td>9.000000</td>\n",
              "    </tr>\n",
              "    <tr>\n",
              "      <th>mean</th>\n",
              "      <td>0.140398</td>\n",
              "      <td>0.107432</td>\n",
              "      <td>0.890000</td>\n",
              "      <td>0.120000</td>\n",
              "      <td>0.055556</td>\n",
              "    </tr>\n",
              "    <tr>\n",
              "      <th>std</th>\n",
              "      <td>0.326314</td>\n",
              "      <td>0.450108</td>\n",
              "      <td>1.366626</td>\n",
              "      <td>0.130384</td>\n",
              "      <td>0.072648</td>\n",
              "    </tr>\n",
              "    <tr>\n",
              "      <th>min</th>\n",
              "      <td>0.000000</td>\n",
              "      <td>0.000000</td>\n",
              "      <td>0.000000</td>\n",
              "      <td>0.000000</td>\n",
              "      <td>0.000000</td>\n",
              "    </tr>\n",
              "    <tr>\n",
              "      <th>25%</th>\n",
              "      <td>0.000000</td>\n",
              "      <td>0.000000</td>\n",
              "      <td>0.000000</td>\n",
              "      <td>0.000000</td>\n",
              "      <td>0.000000</td>\n",
              "    </tr>\n",
              "    <tr>\n",
              "      <th>50%</th>\n",
              "      <td>0.000000</td>\n",
              "      <td>0.000000</td>\n",
              "      <td>0.000000</td>\n",
              "      <td>0.100000</td>\n",
              "      <td>0.000000</td>\n",
              "    </tr>\n",
              "    <tr>\n",
              "      <th>75%</th>\n",
              "      <td>0.100000</td>\n",
              "      <td>0.000000</td>\n",
              "      <td>1.525000</td>\n",
              "      <td>0.200000</td>\n",
              "      <td>0.100000</td>\n",
              "    </tr>\n",
              "    <tr>\n",
              "      <th>max</th>\n",
              "      <td>2.290000</td>\n",
              "      <td>3.500000</td>\n",
              "      <td>4.000000</td>\n",
              "      <td>0.300000</td>\n",
              "      <td>0.200000</td>\n",
              "    </tr>\n",
              "  </tbody>\n",
              "</table>\n",
              "</div>"
            ],
            "text/plain": [
              "             PRCP        SNOW       SNWD      WESD      WESF\n",
              "count  251.000000  148.000000  10.000000  5.000000  9.000000\n",
              "mean     0.140398    0.107432   0.890000  0.120000  0.055556\n",
              "std      0.326314    0.450108   1.366626  0.130384  0.072648\n",
              "min      0.000000    0.000000   0.000000  0.000000  0.000000\n",
              "25%      0.000000    0.000000   0.000000  0.000000  0.000000\n",
              "50%      0.000000    0.000000   0.000000  0.100000  0.000000\n",
              "75%      0.100000    0.000000   1.525000  0.200000  0.100000\n",
              "max      2.290000    3.500000   4.000000  0.300000  0.200000"
            ]
          },
          "metadata": {
            "tags": []
          },
          "execution_count": 23
        }
      ]
    },
    {
      "cell_type": "code",
      "metadata": {
        "id": "TabanhRikdyY"
      },
      "source": [
        "#adesso dobbiamo fare Z test"
      ],
      "execution_count": null,
      "outputs": []
    },
    {
      "cell_type": "code",
      "metadata": {
        "colab": {
          "base_uri": "https://localhost:8080/",
          "height": 300
        },
        "id": "m0V17uXgkkaH",
        "outputId": "f673aebe-debb-4577-c7ee-4fb897f7696d"
      },
      "source": [
        "df.describe()"
      ],
      "execution_count": null,
      "outputs": [
        {
          "output_type": "execute_result",
          "data": {
            "text/html": [
              "<div>\n",
              "<style scoped>\n",
              "    .dataframe tbody tr th:only-of-type {\n",
              "        vertical-align: middle;\n",
              "    }\n",
              "\n",
              "    .dataframe tbody tr th {\n",
              "        vertical-align: top;\n",
              "    }\n",
              "\n",
              "    .dataframe thead th {\n",
              "        text-align: right;\n",
              "    }\n",
              "</style>\n",
              "<table border=\"1\" class=\"dataframe\">\n",
              "  <thead>\n",
              "    <tr style=\"text-align: right;\">\n",
              "      <th></th>\n",
              "      <th>PRCP</th>\n",
              "      <th>SNOW</th>\n",
              "      <th>SNWD</th>\n",
              "      <th>WESD</th>\n",
              "      <th>WESF</th>\n",
              "    </tr>\n",
              "  </thead>\n",
              "  <tbody>\n",
              "    <tr>\n",
              "      <th>count</th>\n",
              "      <td>3538.000000</td>\n",
              "      <td>2266.00000</td>\n",
              "      <td>216.000000</td>\n",
              "      <td>175.000000</td>\n",
              "      <td>256.000000</td>\n",
              "    </tr>\n",
              "    <tr>\n",
              "      <th>mean</th>\n",
              "      <td>0.137340</td>\n",
              "      <td>0.09594</td>\n",
              "      <td>1.026852</td>\n",
              "      <td>0.160571</td>\n",
              "      <td>0.073828</td>\n",
              "    </tr>\n",
              "    <tr>\n",
              "      <th>std</th>\n",
              "      <td>0.382174</td>\n",
              "      <td>0.64966</td>\n",
              "      <td>2.738447</td>\n",
              "      <td>0.457994</td>\n",
              "      <td>0.175507</td>\n",
              "    </tr>\n",
              "    <tr>\n",
              "      <th>min</th>\n",
              "      <td>0.000000</td>\n",
              "      <td>0.00000</td>\n",
              "      <td>0.000000</td>\n",
              "      <td>0.000000</td>\n",
              "      <td>0.000000</td>\n",
              "    </tr>\n",
              "    <tr>\n",
              "      <th>25%</th>\n",
              "      <td>0.000000</td>\n",
              "      <td>0.00000</td>\n",
              "      <td>0.000000</td>\n",
              "      <td>0.000000</td>\n",
              "      <td>0.000000</td>\n",
              "    </tr>\n",
              "    <tr>\n",
              "      <th>50%</th>\n",
              "      <td>0.000000</td>\n",
              "      <td>0.00000</td>\n",
              "      <td>0.000000</td>\n",
              "      <td>0.000000</td>\n",
              "      <td>0.000000</td>\n",
              "    </tr>\n",
              "    <tr>\n",
              "      <th>75%</th>\n",
              "      <td>0.070000</td>\n",
              "      <td>0.00000</td>\n",
              "      <td>0.350000</td>\n",
              "      <td>0.100000</td>\n",
              "      <td>0.100000</td>\n",
              "    </tr>\n",
              "    <tr>\n",
              "      <th>max</th>\n",
              "      <td>6.960000</td>\n",
              "      <td>12.30000</td>\n",
              "      <td>16.400000</td>\n",
              "      <td>2.400000</td>\n",
              "      <td>1.400000</td>\n",
              "    </tr>\n",
              "  </tbody>\n",
              "</table>\n",
              "</div>"
            ],
            "text/plain": [
              "              PRCP        SNOW        SNWD        WESD        WESF\n",
              "count  3538.000000  2266.00000  216.000000  175.000000  256.000000\n",
              "mean      0.137340     0.09594    1.026852    0.160571    0.073828\n",
              "std       0.382174     0.64966    2.738447    0.457994    0.175507\n",
              "min       0.000000     0.00000    0.000000    0.000000    0.000000\n",
              "25%       0.000000     0.00000    0.000000    0.000000    0.000000\n",
              "50%       0.000000     0.00000    0.000000    0.000000    0.000000\n",
              "75%       0.070000     0.00000    0.350000    0.100000    0.100000\n",
              "max       6.960000    12.30000   16.400000    2.400000    1.400000"
            ]
          },
          "metadata": {
            "tags": []
          },
          "execution_count": 25
        }
      ]
    },
    {
      "cell_type": "code",
      "metadata": {
        "id": "o1SpLSTTktFX"
      },
      "source": [
        "#possiamo calcoalre Z come (X_population -media_sample)/.."
      ],
      "execution_count": null,
      "outputs": []
    },
    {
      "cell_type": "code",
      "metadata": {
        "id": "Fpf6g2x-k3ws"
      },
      "source": [
        "z_test = ((df19.PRCP.mean()) - (df.PRCP.mean()))/(df.PRCP.std())"
      ],
      "execution_count": null,
      "outputs": []
    },
    {
      "cell_type": "code",
      "metadata": {
        "colab": {
          "base_uri": "https://localhost:8080/"
        },
        "id": "CW8AyCYQlBng",
        "outputId": "73cb7810-5316-4e09-fcf8-258a6f6c2ee7"
      },
      "source": [
        "print(z_test)"
      ],
      "execution_count": null,
      "outputs": [
        {
          "output_type": "stream",
          "text": [
            "0.008001852520072345\n"
          ],
          "name": "stdout"
        }
      ]
    },
    {
      "cell_type": "code",
      "metadata": {
        "colab": {
          "base_uri": "https://localhost:8080/",
          "height": 265
        },
        "id": "axBWfU6clWMy",
        "outputId": "6e6d1a81-74b4-48ff-dc81-1c4478023446"
      },
      "source": [
        "plt.hist(df.PRCP, bins = 50, density = True, range = (0,2))\n",
        "plt.hist(df19.PRCP, bins = 50, density = True, range = (0,2))\n",
        "plt.show()\n",
        "#anno non particolarmente piovoso"
      ],
      "execution_count": null,
      "outputs": [
        {
          "output_type": "display_data",
          "data": {
            "image/png": "[encoded data removed]",
            "text/plain": [
              "<Figure size 432x288 with 1 Axes>"
            ]
          },
          "metadata": {
            "tags": [],
            "needs_background": "light"
          }
        }
      ]
    },
    {
      "cell_type": "markdown",
      "metadata": {
        "id": "lZTJA9ek5XJG"
      },
      "source": [
        "**QUANTO SEGUE È STATO POI FATTO DALLA PROF PER CORREGGERE LO SVOLGIMENTO PRECEDENTE**"
      ]
    },
    {
      "cell_type": "code",
      "metadata": {
        "colab": {
          "base_uri": "https://localhost:8080/"
        },
        "id": "cNOjqbZInOi8",
        "outputId": "b78d6326-e739-4b54-b8d0-768f8114f2e7"
      },
      "source": [
        "pd.to_datetime(df.DATE)"
      ],
      "execution_count": null,
      "outputs": [
        {
          "output_type": "execute_result",
          "data": {
            "text/plain": [
              "0      2010-01-01\n",
              "1      2010-01-02\n",
              "2      2010-01-03\n",
              "3      2010-01-04\n",
              "4      2010-01-05\n",
              "          ...    \n",
              "3533   2019-09-04\n",
              "3534   2019-09-05\n",
              "3535   2019-09-06\n",
              "3536   2019-09-07\n",
              "3537   2019-09-08\n",
              "Name: DATE, Length: 3538, dtype: datetime64[ns]"
            ]
          },
          "metadata": {
            "tags": []
          },
          "execution_count": 30
        }
      ]
    },
    {
      "cell_type": "code",
      "metadata": {
        "colab": {
          "base_uri": "https://localhost:8080/"
        },
        "id": "jJnG0aUtnalR",
        "outputId": "7e82364e-8d12-4233-a54c-a837b67e699d"
      },
      "source": [
        "pd.to_datetime(df.DATE) > pd.to_datetime(\"2018-12-31\") #prendere le date maggori di\n",
        "                                                       #un determinata data\n",
        "                                                       \n",
        "#quando uso boolean values come indici di un array seleziono solo i valori 'true'                      "
      ],
      "execution_count": null,
      "outputs": [
        {
          "output_type": "execute_result",
          "data": {
            "text/plain": [
              "0       False\n",
              "1       False\n",
              "2       False\n",
              "3       False\n",
              "4       False\n",
              "        ...  \n",
              "3533     True\n",
              "3534     True\n",
              "3535     True\n",
              "3536     True\n",
              "3537     True\n",
              "Name: DATE, Length: 3538, dtype: bool"
            ]
          },
          "metadata": {
            "tags": []
          },
          "execution_count": 31
        }
      ]
    },
    {
      "cell_type": "code",
      "metadata": {
        "id": "-BhuPjnQnyQS"
      },
      "source": [
        "#percui seleziono tutti i valori true\n",
        "samp = df[pd.to_datetime(df.DATE) > pd.to_datetime(\"2018-12-31\")]"
      ],
      "execution_count": null,
      "outputs": []
    },
    {
      "cell_type": "code",
      "metadata": {
        "id": "E7WjkUeMoS_G"
      },
      "source": [
        "#la mia popolazione è l'inverso del sample per cui conviene convertire true \n",
        "#in false posso usare la tilde\n",
        "\n",
        "\n",
        "pop = df[~(pd.to_datetime(df.DATE) > pd.to_datetime(\"2018-12-31\"))]\n",
        "#l'operatore ~ è il BITWISE NOT e serve per negare l'espressione. È un operatore che \n",
        "#restituisce il NOT bit per bit (\"bitwise\")."
      ],
      "execution_count": null,
      "outputs": []
    },
    {
      "cell_type": "code",
      "metadata": {
        "id": "6AVsDKpGobBL"
      },
      "source": [
        "#per calcoalre z ho bisogno della popolazione e del sample e ritorno direttamente\n",
        "#l'espressione del z-value\n",
        "def z(pop,samp):\n",
        "  return (pop.mean() - samp.mean()) / (np.std(pop()) / np.sqrt(len(samp)))"
      ],
      "execution_count": null,
      "outputs": []
    },
    {
      "cell_type": "code",
      "metadata": {
        "colab": {
          "base_uri": "https://localhost:8080/"
        },
        "id": "Op4UyvJR5rbv",
        "outputId": "52dcf40b-c805-4caa-991c-3fb8b6faff90"
      },
      "source": [
        "#gli passo solo la precipitazione sia della popolazione che del sample\n",
        "\n",
        "z(pop.PRCP, samp.PRCP)  #questo è il z-value. Ma come vediamo che sta dentro o fuori\n",
        "                        #il 2-sigma scelto all'inizio?"
      ],
      "execution_count": null,
      "outputs": [
        {
          "output_type": "execute_result",
          "data": {
            "text/plain": [
              "-0.13506940185562044"
            ]
          },
          "metadata": {
            "tags": []
          },
          "execution_count": 35
        }
      ]
    },
    {
      "cell_type": "markdown",
      "metadata": {
        "id": "EwWRNtn4yYLB"
      },
      "source": [
        "Since the distribution is symmetric, non mi ineressa del fatto che ottengo una z negativa. Mi basta sapere se è dentro o fuori la regione di incertezza se voglio sapere se è stato un anno incaratteristico.\n",
        "Ovviamente se voglio sapere se ha piovuto più o meno, ha importanza sapere se è \n",
        "positivo o negativo.\n",
        "\n",
        "Questo valore z ha una distribuzione standard normal con media = 0 e standad \n",
        "deviation di 1. Per essere fuori dalle 2 sigma (cioè fuori 2 std), la Z deve essere maggiore di 2. Possiamo interpretare direttamente il valore della z come segue: di quante deviazioni standard, il valore che ho ottenuto, è lontano dalla media.\n",
        "Questo perchè la distribuzione della z è essa stessa standard normal."
      ]
    },
    {
      "cell_type": "code",
      "metadata": {
        "id": "5ULiFj95o1t3"
      },
      "source": [
        "#non siamo in grado di rigettare la null hypothesis perchè il valore che ho ottenuto \n",
        "#ha un'alta probabilità di essere ottenuto all'interno della NH.\n",
        "# --> 2019 NON PARTICOLARMENTE PIOVOSO"
      ],
      "execution_count": null,
      "outputs": []
    }
  ]
}