{
  "nbformat": 4,
  "nbformat_minor": 0,
  "metadata": {
    "colab": {
      "name": "pyBootParma_180321.ipynb",
      "provenance": [],
      "collapsed_sections": [],
      "authorship_tag": "ABX9TyNl9/MCyps/mB0c0LafrJQn",
      "include_colab_link": true
    },
    "kernelspec": {
      "name": "python3",
      "display_name": "Python 3"
    }
  },
  "cells": [
    {
      "cell_type": "markdown",
      "metadata": {
        "id": "view-in-github",
        "colab_type": "text"
      },
      "source": [
        "<a href=\"https://colab.research.google.com/github/FedeleDelvecchio/gittest_fed/blob/main/pyBootParma_180321.ipynb\" target=\"_parent\"><img src=\"https://colab.research.google.com/assets/colab-badge.svg\" alt=\"Open In Colab\"/></a>"
      ]
    },
    {
      "cell_type": "markdown",
      "metadata": {
        "id": "ymIUpZJLWSAF"
      },
      "source": [
        "this is a notebook that we are writing to learn python (per metterlo come un commento abbiamo fatto \"ctrl + m\" dove m sta per \"markdown\"). \n",
        "PER QUESTA LEZIONE SEGUIAMO https://github.com/fedhere/PyBOOT/blob/master/bootcampNB.ipynb\n",
        "\n",
        "NbViewer: https://nbviewer.jupyter.org/\n",
        "\n",
        "Python code style: https://www.python.org/dev/peps/pep-0008/"
      ]
    },
    {
      "cell_type": "code",
      "metadata": {
        "id": "DH-zsapDWaaT"
      },
      "source": [
        "#this is a comment (start a comment with \"#\")"
      ],
      "execution_count": 9,
      "outputs": []
    },
    {
      "cell_type": "markdown",
      "metadata": {
        "id": "-LEed-PEW9Dp"
      },
      "source": [
        "# Coding Cell 1"
      ]
    },
    {
      "cell_type": "code",
      "metadata": {
        "id": "favgJ5TeXBwd"
      },
      "source": [
        "intVariable = 3\n",
        "floatVariable = 3.3"
      ],
      "execution_count": 32,
      "outputs": []
    },
    {
      "cell_type": "markdown",
      "metadata": {
        "id": "3AsxKya2XCQl"
      },
      "source": [
        "# Coding Cell 2"
      ]
    },
    {
      "cell_type": "code",
      "metadata": {
        "id": "a_Vt7wyxXFR9"
      },
      "source": [
        "from __future__ import print_function, division"
      ],
      "execution_count": 10,
      "outputs": []
    },
    {
      "cell_type": "markdown",
      "metadata": {
        "id": "-317ReasXoYW"
      },
      "source": [
        "# Native python Variable"
      ]
    },
    {
      "cell_type": "code",
      "metadata": {
        "id": "Sqksh82lXu5i"
      },
      "source": [
        "stringVariable = \"hello!\" #standard declaration\n",
        "boolVar = True"
      ],
      "execution_count": 11,
      "outputs": []
    },
    {
      "cell_type": "code",
      "metadata": {
        "colab": {
          "base_uri": "https://localhost:8080/"
        },
        "id": "gQ1F1z_6YLfd",
        "outputId": "0ae5aa85-be2e-423b-cfad-eb560f70470c"
      },
      "source": [
        "print(\"hello!\")"
      ],
      "execution_count": 12,
      "outputs": [
        {
          "output_type": "stream",
          "text": [
            "hello!\n"
          ],
          "name": "stdout"
        }
      ]
    },
    {
      "cell_type": "code",
      "metadata": {
        "id": "PGWGlkHdZfNd"
      },
      "source": [
        "amax = 10"
      ],
      "execution_count": 13,
      "outputs": []
    },
    {
      "cell_type": "code",
      "metadata": {
        "colab": {
          "base_uri": "https://localhost:8080/"
        },
        "id": "EMmLtmxZYj1N",
        "outputId": "0a8097ab-f34b-4eb6-8c35-b010c7beb418"
      },
      "source": [
        "for a in range(10):\n",
        "  print(a)\n"
      ],
      "execution_count": 14,
      "outputs": [
        {
          "output_type": "stream",
          "text": [
            "0\n",
            "1\n",
            "2\n",
            "3\n",
            "4\n",
            "5\n",
            "6\n",
            "7\n",
            "8\n",
            "9\n"
          ],
          "name": "stdout"
        }
      ]
    },
    {
      "cell_type": "code",
      "metadata": {
        "id": "CZEH2affY7k1"
      },
      "source": [
        "#python is zero indexed.\n",
        "#make sure notebook can run all without problem. Otherwise is a lostt point for exams evaluation"
      ],
      "execution_count": 16,
      "outputs": []
    },
    {
      "cell_type": "code",
      "metadata": {
        "id": "2qHS05dNZ6gz"
      },
      "source": [
        ""
      ],
      "execution_count": null,
      "outputs": []
    },
    {
      "cell_type": "markdown",
      "metadata": {
        "id": "lY0JfrkTaRPF"
      },
      "source": [
        "# Variable containers"
      ]
    },
    {
      "cell_type": "code",
      "metadata": {
        "colab": {
          "base_uri": "https://localhost:8080/"
        },
        "id": "DOu1mUMZaUtP",
        "outputId": "950dc5c7-231c-4c39-d12b-1e6a9eaee94c"
      },
      "source": [
        "myList = [0, 1, 3, \"hello\", 3.3]\n",
        "myList"
      ],
      "execution_count": 18,
      "outputs": [
        {
          "output_type": "execute_result",
          "data": {
            "text/plain": [
              "[0, 1, 3, 'hello', 3.3]"
            ]
          },
          "metadata": {
            "tags": []
          },
          "execution_count": 18
        }
      ]
    },
    {
      "cell_type": "code",
      "metadata": {
        "colab": {
          "base_uri": "https://localhost:8080/"
        },
        "id": "DFB-kD9MadH6",
        "outputId": "e33bcbc6-113e-4e0d-dfa1-1448735e0ca7"
      },
      "source": [
        "type(myList)"
      ],
      "execution_count": 20,
      "outputs": [
        {
          "output_type": "execute_result",
          "data": {
            "text/plain": [
              "list"
            ]
          },
          "metadata": {
            "tags": []
          },
          "execution_count": 20
        }
      ]
    },
    {
      "cell_type": "code",
      "metadata": {
        "colab": {
          "base_uri": "https://localhost:8080/"
        },
        "id": "yqsxn_ysapci",
        "outputId": "61308207-1ff9-4c00-c073-1d709d44651a"
      },
      "source": [
        "myList[0]"
      ],
      "execution_count": 22,
      "outputs": [
        {
          "output_type": "execute_result",
          "data": {
            "text/plain": [
              "0"
            ]
          },
          "metadata": {
            "tags": []
          },
          "execution_count": 22
        }
      ]
    },
    {
      "cell_type": "code",
      "metadata": {
        "colab": {
          "base_uri": "https://localhost:8080/",
          "height": 35
        },
        "id": "xHQeeFPma7Vd",
        "outputId": "aeaa203c-d1bd-41f0-beb0-84c9694d3002"
      },
      "source": [
        "myList[3]"
      ],
      "execution_count": 24,
      "outputs": [
        {
          "output_type": "execute_result",
          "data": {
            "application/vnd.google.colaboratory.intrinsic+json": {
              "type": "string"
            },
            "text/plain": [
              "'hello'"
            ]
          },
          "metadata": {
            "tags": []
          },
          "execution_count": 24
        }
      ]
    },
    {
      "cell_type": "code",
      "metadata": {
        "colab": {
          "base_uri": "https://localhost:8080/"
        },
        "id": "sjmafKmobAsq",
        "outputId": "8697e7b2-1027-40b0-ab11-f21ee32d54f3"
      },
      "source": [
        "myList[-1]"
      ],
      "execution_count": 28,
      "outputs": [
        {
          "output_type": "execute_result",
          "data": {
            "text/plain": [
              "3.3"
            ]
          },
          "metadata": {
            "tags": []
          },
          "execution_count": 28
        }
      ]
    },
    {
      "cell_type": "code",
      "metadata": {
        "colab": {
          "base_uri": "https://localhost:8080/",
          "height": 35
        },
        "id": "4gflxauzbGHn",
        "outputId": "0c3cb85d-3b05-41f4-9992-622032fc47ea"
      },
      "source": [
        "stringVariable[-1]"
      ],
      "execution_count": 31,
      "outputs": [
        {
          "output_type": "execute_result",
          "data": {
            "application/vnd.google.colaboratory.intrinsic+json": {
              "type": "string"
            },
            "text/plain": [
              "'!'"
            ]
          },
          "metadata": {
            "tags": []
          },
          "execution_count": 31
        }
      ]
    },
    {
      "cell_type": "code",
      "metadata": {
        "colab": {
          "base_uri": "https://localhost:8080/"
        },
        "id": "v4Z1spVNbNNl",
        "outputId": "9b957f3b-4e1b-40ac-b627-6c8cd123c198"
      },
      "source": [
        "print(\"here I am in Parma but I am stuck in an apprartment due to the lockdown \" +\n",
        "      \"and I don't like it\")"
      ],
      "execution_count": 36,
      "outputs": [
        {
          "output_type": "stream",
          "text": [
            "here I am in Parma but I am stuck in an apprartment due to the lockdown and I don't like it\n"
          ],
          "name": "stdout"
        }
      ]
    },
    {
      "cell_type": "code",
      "metadata": {
        "colab": {
          "base_uri": "https://localhost:8080/"
        },
        "id": "VeDgj4fHbsUw",
        "outputId": "0e52087c-679f-433f-cad2-c02695b288ce"
      },
      "source": [
        "print(myList +\n",
        "      myList)"
      ],
      "execution_count": 39,
      "outputs": [
        {
          "output_type": "stream",
          "text": [
            "[0, 1, 3, 'hello', 3.3, 0, 1, 3, 'hello', 3.3]\n"
          ],
          "name": "stdout"
        }
      ]
    },
    {
      "cell_type": "code",
      "metadata": {
        "colab": {
          "base_uri": "https://localhost:8080/"
        },
        "id": "iI3EnxCYcAqr",
        "outputId": "c43526a8-c1b3-4842-a8ec-411c5a3f0b7e"
      },
      "source": [
        "tmplist = []\n",
        "a = 0\n",
        "while a**2 < 300:\n",
        "  a = a+1\n",
        "  tmpList.append(a**2)\n",
        "tmplist"
      ],
      "execution_count": 45,
      "outputs": [
        {
          "output_type": "execute_result",
          "data": {
            "text/plain": [
              "[]"
            ]
          },
          "metadata": {
            "tags": []
          },
          "execution_count": 45
        }
      ]
    },
    {
      "cell_type": "markdown",
      "metadata": {
        "id": "Fezsm4mxcMu8"
      },
      "source": [
        "list are really useful cause the can contain hybrid types an because the do not need to be allocated memory before they are filled so I can append things on the fly"
      ]
    },
    {
      "cell_type": "markdown",
      "metadata": {
        "id": "W4eDfpCHc1DP"
      },
      "source": [
        "list are also extremely computationally inefficient"
      ]
    },
    {
      "cell_type": "code",
      "metadata": {
        "id": "5qWaLq7bdZU5"
      },
      "source": [
        "dictVariable = {\"keyInt\": 0,\n",
        "                \"keyFloat\": 0.3,\n",
        "                \"keyString\": \"I'm a string\",\n",
        "                \"keyDict\": {} }\n",
        "              "
      ],
      "execution_count": 51,
      "outputs": []
    },
    {
      "cell_type": "code",
      "metadata": {
        "colab": {
          "base_uri": "https://localhost:8080/"
        },
        "id": "JWzwKJ6Ud9tG",
        "outputId": "d388b0e6-3b05-456f-ab0e-21751dc2bfd4"
      },
      "source": [
        "dictVariable #python print dictVariable in an alphabetical order"
      ],
      "execution_count": 53,
      "outputs": [
        {
          "output_type": "execute_result",
          "data": {
            "text/plain": [
              "{'keyDict': {}, 'keyFloat': 0.3, 'keyInt': 0, 'keyString': \"I'm a string\"}"
            ]
          },
          "metadata": {
            "tags": []
          },
          "execution_count": 53
        }
      ]
    },
    {
      "cell_type": "code",
      "metadata": {
        "id": "lPBDax-0d_m3"
      },
      "source": [
        "dictVariable = {\"keyInt\": 0,\n",
        "                \"keyFloat\": 0.3,\n",
        "                \"keyList\": [],\n",
        "                \"keyDict\": {} }"
      ],
      "execution_count": 60,
      "outputs": []
    },
    {
      "cell_type": "code",
      "metadata": {
        "colab": {
          "base_uri": "https://localhost:8080/"
        },
        "id": "ANOzC1hzebhc",
        "outputId": "e1b599a1-912f-4317-8383-3cb4d2f1e92c"
      },
      "source": [
        "dictVariable[\"keyList\"].append(0)\n",
        "dictVariable"
      ],
      "execution_count": 61,
      "outputs": [
        {
          "output_type": "execute_result",
          "data": {
            "text/plain": [
              "{'keyDict': {}, 'keyFloat': 0.3, 'keyInt': 0, 'keyList': [0]}"
            ]
          },
          "metadata": {
            "tags": []
          },
          "execution_count": 61
        }
      ]
    },
    {
      "cell_type": "code",
      "metadata": {
        "colab": {
          "base_uri": "https://localhost:8080/",
          "height": 35
        },
        "id": "kd0GgMojeiJL",
        "outputId": "11484d7f-6687-478d-f110-18888db0a8ac"
      },
      "source": [
        "#string have a lot attributes\n",
        "stringVariable.capitalize()\n",
        "# a method is a technical word wich operate in place, and don't modify the object"
      ],
      "execution_count": 63,
      "outputs": [
        {
          "output_type": "execute_result",
          "data": {
            "application/vnd.google.colaboratory.intrinsic+json": {
              "type": "string"
            },
            "text/plain": [
              "'Hello!'"
            ]
          },
          "metadata": {
            "tags": []
          },
          "execution_count": 63
        }
      ]
    },
    {
      "cell_type": "code",
      "metadata": {
        "colab": {
          "base_uri": "https://localhost:8080/",
          "height": 35
        },
        "id": "VWaclCL3fhP1",
        "outputId": "22b23dc0-5aca-46fc-eab3-57f9ab4748ff"
      },
      "source": [
        "stringVariable"
      ],
      "execution_count": 64,
      "outputs": [
        {
          "output_type": "execute_result",
          "data": {
            "application/vnd.google.colaboratory.intrinsic+json": {
              "type": "string"
            },
            "text/plain": [
              "'hello!'"
            ]
          },
          "metadata": {
            "tags": []
          },
          "execution_count": 64
        }
      ]
    },
    {
      "cell_type": "code",
      "metadata": {
        "colab": {
          "base_uri": "https://localhost:8080/"
        },
        "id": "rgpf8r1mgB6k",
        "outputId": "a6cd2727-10c4-42cb-98ca-16b84fcb938b"
      },
      "source": [
        "print(\"Hello 'you' \")"
      ],
      "execution_count": 65,
      "outputs": [
        {
          "output_type": "stream",
          "text": [
            "Hello 'you' \n"
          ],
          "name": "stdout"
        }
      ]
    },
    {
      "cell_type": "code",
      "metadata": {
        "id": "VH1kXl35gWlW"
      },
      "source": [
        ""
      ],
      "execution_count": null,
      "outputs": []
    }
  ]
}