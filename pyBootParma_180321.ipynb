{
  "nbformat": 4,
  "nbformat_minor": 0,
  "metadata": {
    "colab": {
      "name": "pyBootParma_180321.ipynb",
      "provenance": [],
      "collapsed_sections": [
        "-LEed-PEW9Dp",
        "3AsxKya2XCQl",
        "-317ReasXoYW",
        "lY0JfrkTaRPF",
        "AxVKgvV_iQSQ",
        "XJLGzUw0jr8C"
      ],
      "authorship_tag": "ABX9TyNiNjx1SSAw/wHvzBvPsoy6",
      "include_colab_link": true
    },
    "kernelspec": {
      "name": "python3",
      "display_name": "Python 3"
    }
  },
  "cells": [
    {
      "cell_type": "markdown",
      "metadata": {
        "id": "view-in-github",
        "colab_type": "text"
      },
      "source": [
        "<a href=\"https://colab.research.google.com/github/FedeleDelvecchio/MLPNS_fed/blob/main/pyBootParma_180321.ipynb\" target=\"_parent\"><img src=\"https://colab.research.google.com/assets/colab-badge.svg\" alt=\"Open In Colab\"/></a>"
      ]
    },
    {
      "cell_type": "markdown",
      "metadata": {
        "id": "ymIUpZJLWSAF"
      },
      "source": [
        "this is a notebook that we are writing to learn python (per fare questa sezione in cui scrivere gli appunti abbiamo fatto \"ctrl + m\" dove m sta per \"markdown\"). \n",
        "PER QUESTA LEZIONE SEGUIAMO https://github.com/fedhere/PyBOOT/blob/master/bootcampNB.ipynb\n",
        "\n",
        "E il notebook da nbviewer: https://nbviewer.jupyter.org/github/fedhere/PyBOOT/blob/master/bootcampNB.ipynb#lists\n",
        "\n",
        "NbViewer: https://nbviewer.jupyter.org/\n",
        "\n",
        "Python code style: https://www.python.org/dev/peps/pep-0008/"
      ]
    },
    {
      "cell_type": "code",
      "metadata": {
        "id": "DH-zsapDWaaT"
      },
      "source": [
        "#this is a comment (start a comment with \"#\")"
      ],
      "execution_count": 4,
      "outputs": []
    },
    {
      "cell_type": "markdown",
      "metadata": {
        "id": "-LEed-PEW9Dp"
      },
      "source": [
        "# Coding Cell 1"
      ]
    },
    {
      "cell_type": "code",
      "metadata": {
        "id": "favgJ5TeXBwd"
      },
      "source": [
        "intVariable = 3\n",
        "floatVariable = 3.3"
      ],
      "execution_count": 5,
      "outputs": []
    },
    {
      "cell_type": "markdown",
      "metadata": {
        "id": "3AsxKya2XCQl"
      },
      "source": [
        "# Coding Cell 2"
      ]
    },
    {
      "cell_type": "code",
      "metadata": {
        "id": "a_Vt7wyxXFR9"
      },
      "source": [
        "from __future__ import print_function, division"
      ],
      "execution_count": 6,
      "outputs": []
    },
    {
      "cell_type": "markdown",
      "metadata": {
        "id": "-317ReasXoYW"
      },
      "source": [
        "# Native python Variable"
      ]
    },
    {
      "cell_type": "code",
      "metadata": {
        "id": "Sqksh82lXu5i"
      },
      "source": [
        "stringVariable = \"hello!\" #standard declaration\n",
        "boolVar = True"
      ],
      "execution_count": 7,
      "outputs": []
    },
    {
      "cell_type": "code",
      "metadata": {
        "colab": {
          "base_uri": "https://localhost:8080/"
        },
        "id": "gQ1F1z_6YLfd",
        "outputId": "61b8720f-29e9-4f72-ce82-ff98481cbd43"
      },
      "source": [
        "print(\"hello!\")"
      ],
      "execution_count": 8,
      "outputs": [
        {
          "output_type": "stream",
          "text": [
            "hello!\n"
          ],
          "name": "stdout"
        }
      ]
    },
    {
      "cell_type": "code",
      "metadata": {
        "id": "PGWGlkHdZfNd"
      },
      "source": [
        "amax = 10"
      ],
      "execution_count": 9,
      "outputs": []
    },
    {
      "cell_type": "code",
      "metadata": {
        "colab": {
          "base_uri": "https://localhost:8080/"
        },
        "id": "EMmLtmxZYj1N",
        "outputId": "0a88410c-b9f3-4db1-9363-894ca52a9219"
      },
      "source": [
        "for a in range(10):\n",
        "  print(a)\n"
      ],
      "execution_count": 10,
      "outputs": [
        {
          "output_type": "stream",
          "text": [
            "0\n",
            "1\n",
            "2\n",
            "3\n",
            "4\n",
            "5\n",
            "6\n",
            "7\n",
            "8\n",
            "9\n"
          ],
          "name": "stdout"
        }
      ]
    },
    {
      "cell_type": "code",
      "metadata": {
        "id": "CZEH2affY7k1"
      },
      "source": [
        "#python is zero indexed.\n",
        "#make sure notebook can run all without problem. Otherwise is a lostt point for exams evaluation"
      ],
      "execution_count": 11,
      "outputs": []
    },
    {
      "cell_type": "code",
      "metadata": {
        "id": "2qHS05dNZ6gz"
      },
      "source": [
        ""
      ],
      "execution_count": 11,
      "outputs": []
    },
    {
      "cell_type": "markdown",
      "metadata": {
        "id": "lY0JfrkTaRPF"
      },
      "source": [
        "# Variable containers"
      ]
    },
    {
      "cell_type": "code",
      "metadata": {
        "colab": {
          "base_uri": "https://localhost:8080/"
        },
        "id": "DOu1mUMZaUtP",
        "outputId": "a057e09c-b24d-45df-9094-20fd03f87532"
      },
      "source": [
        "myList = [0, 1, 3, \"hello\", 3.3]\n",
        "myList"
      ],
      "execution_count": 12,
      "outputs": [
        {
          "output_type": "execute_result",
          "data": {
            "text/plain": [
              "[0, 1, 3, 'hello', 3.3]"
            ]
          },
          "metadata": {
            "tags": []
          },
          "execution_count": 12
        }
      ]
    },
    {
      "cell_type": "code",
      "metadata": {
        "colab": {
          "base_uri": "https://localhost:8080/"
        },
        "id": "DFB-kD9MadH6",
        "outputId": "a1cfcf1c-e553-4487-b2ca-cda1292e3184"
      },
      "source": [
        "type(myList)"
      ],
      "execution_count": 13,
      "outputs": [
        {
          "output_type": "execute_result",
          "data": {
            "text/plain": [
              "list"
            ]
          },
          "metadata": {
            "tags": []
          },
          "execution_count": 13
        }
      ]
    },
    {
      "cell_type": "code",
      "metadata": {
        "colab": {
          "base_uri": "https://localhost:8080/"
        },
        "id": "yqsxn_ysapci",
        "outputId": "92bae5ab-f9b6-4847-b6a2-9dd8cf1d3a34"
      },
      "source": [
        "myList[0]"
      ],
      "execution_count": 14,
      "outputs": [
        {
          "output_type": "execute_result",
          "data": {
            "text/plain": [
              "0"
            ]
          },
          "metadata": {
            "tags": []
          },
          "execution_count": 14
        }
      ]
    },
    {
      "cell_type": "code",
      "metadata": {
        "colab": {
          "base_uri": "https://localhost:8080/",
          "height": 35
        },
        "id": "xHQeeFPma7Vd",
        "outputId": "bec1b69d-9f38-47ed-e74c-a0b07b468f52"
      },
      "source": [
        "myList[3]"
      ],
      "execution_count": 15,
      "outputs": [
        {
          "output_type": "execute_result",
          "data": {
            "application/vnd.google.colaboratory.intrinsic+json": {
              "type": "string"
            },
            "text/plain": [
              "'hello'"
            ]
          },
          "metadata": {
            "tags": []
          },
          "execution_count": 15
        }
      ]
    },
    {
      "cell_type": "code",
      "metadata": {
        "colab": {
          "base_uri": "https://localhost:8080/"
        },
        "id": "sjmafKmobAsq",
        "outputId": "015ec92e-347d-423a-dd86-d8f5c5c74e7d"
      },
      "source": [
        "myList[-1]"
      ],
      "execution_count": 16,
      "outputs": [
        {
          "output_type": "execute_result",
          "data": {
            "text/plain": [
              "3.3"
            ]
          },
          "metadata": {
            "tags": []
          },
          "execution_count": 16
        }
      ]
    },
    {
      "cell_type": "code",
      "metadata": {
        "colab": {
          "base_uri": "https://localhost:8080/",
          "height": 35
        },
        "id": "4gflxauzbGHn",
        "outputId": "f132d520-4c86-4bf0-8ef0-3ccb9d7746c4"
      },
      "source": [
        "stringVariable[-1]"
      ],
      "execution_count": 17,
      "outputs": [
        {
          "output_type": "execute_result",
          "data": {
            "application/vnd.google.colaboratory.intrinsic+json": {
              "type": "string"
            },
            "text/plain": [
              "'!'"
            ]
          },
          "metadata": {
            "tags": []
          },
          "execution_count": 17
        }
      ]
    },
    {
      "cell_type": "code",
      "metadata": {
        "colab": {
          "base_uri": "https://localhost:8080/"
        },
        "id": "v4Z1spVNbNNl",
        "outputId": "ec40a335-550c-463b-b598-7697b2dddabf"
      },
      "source": [
        "print(\"here I am in Parma but I am stuck in an apprartment due to the lockdown \" +\n",
        "      \"and I don't like it\")"
      ],
      "execution_count": 18,
      "outputs": [
        {
          "output_type": "stream",
          "text": [
            "here I am in Parma but I am stuck in an apprartment due to the lockdown and I don't like it\n"
          ],
          "name": "stdout"
        }
      ]
    },
    {
      "cell_type": "code",
      "metadata": {
        "colab": {
          "base_uri": "https://localhost:8080/"
        },
        "id": "VeDgj4fHbsUw",
        "outputId": "ae669fc8-b7b8-4d96-d093-7bd94a5f6bba"
      },
      "source": [
        "print(myList +\n",
        "      myList)"
      ],
      "execution_count": 19,
      "outputs": [
        {
          "output_type": "stream",
          "text": [
            "[0, 1, 3, 'hello', 3.3, 0, 1, 3, 'hello', 3.3]\n"
          ],
          "name": "stdout"
        }
      ]
    },
    {
      "cell_type": "code",
      "metadata": {
        "colab": {
          "base_uri": "https://localhost:8080/"
        },
        "id": "iI3EnxCYcAqr",
        "outputId": "31bac58a-f85b-44ae-f2a5-9ea35202f9aa"
      },
      "source": [
        "tmplist = []\n",
        "a = 0\n",
        "while a**2 < 300:\n",
        "  a = a+1\n",
        "  tmplist.append(a**2) #append consente di aggiungere elemento alla fine della lista\n",
        "tmplist"
      ],
      "execution_count": 20,
      "outputs": [
        {
          "output_type": "execute_result",
          "data": {
            "text/plain": [
              "[1, 4, 9, 16, 25, 36, 49, 64, 81, 100, 121, 144, 169, 196, 225, 256, 289, 324]"
            ]
          },
          "metadata": {
            "tags": []
          },
          "execution_count": 20
        }
      ]
    },
    {
      "cell_type": "markdown",
      "metadata": {
        "id": "Fezsm4mxcMu8"
      },
      "source": [
        "List are really useful cause they can contain hybrid types, and because they do not need to be allocated in memory before they are filled. So I can append things on the fly."
      ]
    },
    {
      "cell_type": "markdown",
      "metadata": {
        "id": "W4eDfpCHc1DP"
      },
      "source": [
        "**List are also extremely computationally inefficient**"
      ]
    },
    {
      "cell_type": "code",
      "metadata": {
        "colab": {
          "base_uri": "https://localhost:8080/"
        },
        "id": "3OZ5XukBR7C1",
        "outputId": "b7640c8a-399c-4104-e0ca-cb88d8f4b1e1"
      },
      "source": [
        "myNestedList =  [0, 1, 3, \"hello\", 3.3, [0, 2, 3.3]]\n",
        "myNestedList"
      ],
      "execution_count": 21,
      "outputs": [
        {
          "output_type": "execute_result",
          "data": {
            "text/plain": [
              "[0, 1, 3, 'hello', 3.3, [0, 2, 3.3]]"
            ]
          },
          "metadata": {
            "tags": []
          },
          "execution_count": 21
        }
      ]
    },
    {
      "cell_type": "markdown",
      "metadata": {
        "id": "O0RMSrG7SI4E"
      },
      "source": [
        "Nella mia lista, ho l'elemento in posizione 3 che è una stringe. Una stringa si può vedere come una lista di lettere, perciò se vado nella mia lista alla posizione 3, e di quest'ultima estraggo il 2° elemento, mi restituisce la lettera \"l\" che è la lettera in posizione 2 della stringa (e quindi lista) \"hello\".\n",
        "\n",
        "Inoltre posso anche concatenare liste con append oppure rimuovere il primo o ultimo carattere di una stringa con il comando .strip\n"
      ]
    },
    {
      "cell_type": "code",
      "metadata": {
        "colab": {
          "base_uri": "https://localhost:8080/",
          "height": 35
        },
        "id": "bFMazIslSCzS",
        "outputId": "eb107612-31ad-4183-e42b-e3f8eff7543d"
      },
      "source": [
        "myNestedList[3][2]"
      ],
      "execution_count": 22,
      "outputs": [
        {
          "output_type": "execute_result",
          "data": {
            "application/vnd.google.colaboratory.intrinsic+json": {
              "type": "string"
            },
            "text/plain": [
              "'l'"
            ]
          },
          "metadata": {
            "tags": []
          },
          "execution_count": 22
        }
      ]
    },
    {
      "cell_type": "code",
      "metadata": {
        "colab": {
          "base_uri": "https://localhost:8080/",
          "height": 35
        },
        "id": "TYgpWWG-TbZx",
        "outputId": "75e2bc1f-cc75-4ff0-f456-3e66fe72fc90"
      },
      "source": [
        "myNestedList[3].strip('o')"
      ],
      "execution_count": 23,
      "outputs": [
        {
          "output_type": "execute_result",
          "data": {
            "application/vnd.google.colaboratory.intrinsic+json": {
              "type": "string"
            },
            "text/plain": [
              "'hell'"
            ]
          },
          "metadata": {
            "tags": []
          },
          "execution_count": 23
        }
      ]
    },
    {
      "cell_type": "markdown",
      "metadata": {
        "id": "NksAbAsOSwW4"
      },
      "source": [
        "**DIZIONARI**"
      ]
    },
    {
      "cell_type": "code",
      "metadata": {
        "id": "5qWaLq7bdZU5"
      },
      "source": [
        "dictVariable = {\"keyInt\": 0,\n",
        "                \"keyFloat\": 0.3,\n",
        "                \"keyString\": \"I'm a string\",\n",
        "                \"keyDict\": {} }\n",
        "              "
      ],
      "execution_count": 24,
      "outputs": []
    },
    {
      "cell_type": "code",
      "metadata": {
        "colab": {
          "base_uri": "https://localhost:8080/"
        },
        "id": "JWzwKJ6Ud9tG",
        "outputId": "b7c51c1a-1f8c-4ea3-d192-d9d124d7a40a"
      },
      "source": [
        "dictVariable #python print dictVariable in an alphabetical order"
      ],
      "execution_count": 25,
      "outputs": [
        {
          "output_type": "execute_result",
          "data": {
            "text/plain": [
              "{'keyDict': {}, 'keyFloat': 0.3, 'keyInt': 0, 'keyString': \"I'm a string\"}"
            ]
          },
          "metadata": {
            "tags": []
          },
          "execution_count": 25
        }
      ]
    },
    {
      "cell_type": "code",
      "metadata": {
        "id": "lPBDax-0d_m3"
      },
      "source": [
        "dictVariable = {\"keyInt\": 0,\n",
        "                \"keyFloat\": 0.3,\n",
        "                \"keyList\": [],\n",
        "                \"keyDict\": {} }"
      ],
      "execution_count": 26,
      "outputs": []
    },
    {
      "cell_type": "code",
      "metadata": {
        "colab": {
          "base_uri": "https://localhost:8080/"
        },
        "id": "ANOzC1hzebhc",
        "outputId": "254d8c93-a43c-410c-a4b7-259d396430af"
      },
      "source": [
        "dictVariable[\"keyList\"].append(0)\n",
        "dictVariable"
      ],
      "execution_count": 27,
      "outputs": [
        {
          "output_type": "execute_result",
          "data": {
            "text/plain": [
              "{'keyDict': {}, 'keyFloat': 0.3, 'keyInt': 0, 'keyList': [0]}"
            ]
          },
          "metadata": {
            "tags": []
          },
          "execution_count": 27
        }
      ]
    },
    {
      "cell_type": "markdown",
      "metadata": {
        "id": "WoRGjq4oUmSW"
      },
      "source": [
        "[**GLOSSARIO PYTHON**\n",
        "](https://docs.python.org/3/glossary.html#term-method)\n",
        "\n",
        "**ATTRIBUTE**: A value associated with an object which is referenced by name using dotted expressions. For example, if an object o has an attribute a it would be referenced as object.attribute\n",
        "\n",
        "**MATHOD**: A function which is defined inside a class body. If called as an attribute of an instance of that class, the method will get the instance object as its first argument (which is usually called self). See function and nested scope. A method could be think as \"show(self)\", in questo caso, show è un'azione e quindi un metodo.\n",
        "\n",
        "A livello mentale, possiamo pensare che:\n",
        "\n",
        "Attribute == characteristics. Method == operations/ actions.\n"
      ]
    },
    {
      "cell_type": "code",
      "metadata": {
        "colab": {
          "base_uri": "https://localhost:8080/",
          "height": 35
        },
        "id": "kd0GgMojeiJL",
        "outputId": "ebb0007d-3c10-452d-da48-8ae6e2d857e8"
      },
      "source": [
        "#string have a lot attributes\n",
        "stringVariable.capitalize()\n",
        "# a method is a technical word wich operate in place, and don't modify the object"
      ],
      "execution_count": 28,
      "outputs": [
        {
          "output_type": "execute_result",
          "data": {
            "application/vnd.google.colaboratory.intrinsic+json": {
              "type": "string"
            },
            "text/plain": [
              "'Hello!'"
            ]
          },
          "metadata": {
            "tags": []
          },
          "execution_count": 28
        }
      ]
    },
    {
      "cell_type": "code",
      "metadata": {
        "colab": {
          "base_uri": "https://localhost:8080/",
          "height": 35
        },
        "id": "VWaclCL3fhP1",
        "outputId": "58200189-0ec9-4573-9eb6-a1aa8143416a"
      },
      "source": [
        "stringVariable"
      ],
      "execution_count": 29,
      "outputs": [
        {
          "output_type": "execute_result",
          "data": {
            "application/vnd.google.colaboratory.intrinsic+json": {
              "type": "string"
            },
            "text/plain": [
              "'hello!'"
            ]
          },
          "metadata": {
            "tags": []
          },
          "execution_count": 29
        }
      ]
    },
    {
      "cell_type": "code",
      "metadata": {
        "colab": {
          "base_uri": "https://localhost:8080/"
        },
        "id": "rgpf8r1mgB6k",
        "outputId": "3c2a2c68-0061-486a-bc03-1913169f52db"
      },
      "source": [
        "print(\"Hello 'you' \")"
      ],
      "execution_count": 30,
      "outputs": [
        {
          "output_type": "stream",
          "text": [
            "Hello 'you' \n"
          ],
          "name": "stdout"
        }
      ]
    },
    {
      "cell_type": "code",
      "metadata": {
        "id": "VH1kXl35gWlW"
      },
      "source": [
        ""
      ],
      "execution_count": 30,
      "outputs": []
    },
    {
      "cell_type": "markdown",
      "metadata": {
        "id": "AxVKgvV_iQSQ"
      },
      "source": [
        "# Imported Variables"
      ]
    },
    {
      "cell_type": "code",
      "metadata": {
        "id": "kI2C-dpViU1p"
      },
      "source": [
        "#ingest a libraries\n",
        "import numpy"
      ],
      "execution_count": 31,
      "outputs": []
    },
    {
      "cell_type": "code",
      "metadata": {
        "colab": {
          "base_uri": "https://localhost:8080/"
        },
        "id": "bfMjcX17idtj",
        "outputId": "78b014a3-0fc8-4cf2-c0d2-49f260d2c442"
      },
      "source": [
        "numpy.abs(-3)"
      ],
      "execution_count": 32,
      "outputs": [
        {
          "output_type": "execute_result",
          "data": {
            "text/plain": [
              "3"
            ]
          },
          "metadata": {
            "tags": []
          },
          "execution_count": 32
        }
      ]
    },
    {
      "cell_type": "code",
      "metadata": {
        "colab": {
          "base_uri": "https://localhost:8080/"
        },
        "id": "WQblZGPJiwg-",
        "outputId": "68c50682-90a9-41c9-8b43-e7e51e1ef8ab"
      },
      "source": [
        "import numpy as np #I give a name to the library\n",
        "np.abs(-3)"
      ],
      "execution_count": 33,
      "outputs": [
        {
          "output_type": "execute_result",
          "data": {
            "text/plain": [
              "3"
            ]
          },
          "metadata": {
            "tags": []
          },
          "execution_count": 33
        }
      ]
    },
    {
      "cell_type": "code",
      "metadata": {
        "id": "0KciWFq4jBwL"
      },
      "source": [
        "#if i want to import only one thing from a library, I can do:\n",
        "from matplotlib import pylab as plt"
      ],
      "execution_count": 34,
      "outputs": []
    },
    {
      "cell_type": "code",
      "metadata": {
        "colab": {
          "base_uri": "https://localhost:8080/",
          "height": 0
        },
        "id": "-lBErg9JjVWa",
        "outputId": "4061a77c-c9da-43d9-9d3b-a4f6abdb3a31"
      },
      "source": [
        "plt.plot(range(10), np.zeros(10));"
      ],
      "execution_count": 35,
      "outputs": [
        {
          "output_type": "display_data",
          "data": {
            "image/png": "[encoded data removed]",
            "text/plain": [
              "<Figure size 432x288 with 1 Axes>"
            ]
          },
          "metadata": {
            "tags": [],
            "needs_background": "light"
          }
        }
      ]
    },
    {
      "cell_type": "code",
      "metadata": {
        "colab": {
          "base_uri": "https://localhost:8080/"
        },
        "id": "gDB2D_CZjgru",
        "outputId": "b8b1aaac-93f7-4384-9609-400f94dc8e45"
      },
      "source": [
        "abs(-10)"
      ],
      "execution_count": 36,
      "outputs": [
        {
          "output_type": "execute_result",
          "data": {
            "text/plain": [
              "10"
            ]
          },
          "metadata": {
            "tags": []
          },
          "execution_count": 36
        }
      ]
    },
    {
      "cell_type": "markdown",
      "metadata": {
        "id": "XJLGzUw0jr8C"
      },
      "source": [
        "#Never import as:\n",
        "#from something import * \n",
        "#o preserve the namespace, and not over-write function name"
      ]
    },
    {
      "cell_type": "code",
      "metadata": {
        "colab": {
          "base_uri": "https://localhost:8080/"
        },
        "id": "nCOlnBqZkdV5",
        "outputId": "1c9e0f30-b678-4a89-db2d-69bb0704c1e0"
      },
      "source": [
        "np.int16(3) "
      ],
      "execution_count": 37,
      "outputs": [
        {
          "output_type": "execute_result",
          "data": {
            "text/plain": [
              "3"
            ]
          },
          "metadata": {
            "tags": []
          },
          "execution_count": 37
        }
      ]
    },
    {
      "cell_type": "code",
      "metadata": {
        "colab": {
          "base_uri": "https://localhost:8080/"
        },
        "id": "pMuqklwKkq5D",
        "outputId": "aac0c26e-e3ce-4d30-979b-b9240f4b6bc8"
      },
      "source": [
        "np.uint8(3) "
      ],
      "execution_count": 38,
      "outputs": [
        {
          "output_type": "execute_result",
          "data": {
            "text/plain": [
              "3"
            ]
          },
          "metadata": {
            "tags": []
          },
          "execution_count": 38
        }
      ]
    },
    {
      "cell_type": "code",
      "metadata": {
        "colab": {
          "base_uri": "https://localhost:8080/"
        },
        "id": "Z3qaK1MSk1fY",
        "outputId": "d58d7ad8-c78b-47d4-a23f-8da0ecef9123"
      },
      "source": [
        "np.uint8(256) #255 è il numero puù grande che posso scrivere con 8 bit, senza il segno. \"u\" sta per \"unsigned\""
      ],
      "execution_count": 39,
      "outputs": [
        {
          "output_type": "execute_result",
          "data": {
            "text/plain": [
              "0"
            ]
          },
          "metadata": {
            "tags": []
          },
          "execution_count": 39
        }
      ]
    },
    {
      "cell_type": "code",
      "metadata": {
        "id": "XZM_9V_Dk8SF"
      },
      "source": [
        "npuint8 = np.uint8(256)"
      ],
      "execution_count": 40,
      "outputs": []
    },
    {
      "cell_type": "code",
      "metadata": {
        "colab": {
          "base_uri": "https://localhost:8080/"
        },
        "id": "fj3fQQ3AlaG7",
        "outputId": "8df21a40-056d-4cc2-f20a-a5e1c78fa1a0"
      },
      "source": [
        "npuint8.dtype #dtype is a method"
      ],
      "execution_count": 41,
      "outputs": [
        {
          "output_type": "execute_result",
          "data": {
            "text/plain": [
              "dtype('uint8')"
            ]
          },
          "metadata": {
            "tags": []
          },
          "execution_count": 41
        }
      ]
    },
    {
      "cell_type": "code",
      "metadata": {
        "colab": {
          "base_uri": "https://localhost:8080/"
        },
        "id": "oUdjIe1Olcul",
        "outputId": "ddf8375d-659d-4cfd-e872-98af83f5b54a"
      },
      "source": [
        "#equivalent to\n",
        "type(npuint8) #but type are attribute"
      ],
      "execution_count": 42,
      "outputs": [
        {
          "output_type": "execute_result",
          "data": {
            "text/plain": [
              "numpy.uint8"
            ]
          },
          "metadata": {
            "tags": []
          },
          "execution_count": 42
        }
      ]
    },
    {
      "cell_type": "code",
      "metadata": {
        "colab": {
          "base_uri": "https://localhost:8080/"
        },
        "id": "dFqKZjM-lpm1",
        "outputId": "28a2ee8c-96a6-4f86-ed32-369cbf4e065c"
      },
      "source": [
        "np.array([intVariable, floatVariable, 6]) #all variable became float"
      ],
      "execution_count": 43,
      "outputs": [
        {
          "output_type": "execute_result",
          "data": {
            "text/plain": [
              "array([3. , 3.3, 6. ])"
            ]
          },
          "metadata": {
            "tags": []
          },
          "execution_count": 43
        }
      ]
    },
    {
      "cell_type": "code",
      "metadata": {
        "colab": {
          "base_uri": "https://localhost:8080/"
        },
        "id": "pMJeVzStl18N",
        "outputId": "d1f24071-af8d-46a7-c71f-535d0e3f12e0"
      },
      "source": [
        "myList"
      ],
      "execution_count": 44,
      "outputs": [
        {
          "output_type": "execute_result",
          "data": {
            "text/plain": [
              "[0, 1, 3, 'hello', 3.3]"
            ]
          },
          "metadata": {
            "tags": []
          },
          "execution_count": 44
        }
      ]
    },
    {
      "cell_type": "code",
      "metadata": {
        "colab": {
          "base_uri": "https://localhost:8080/"
        },
        "id": "I0VOIVC7mKKc",
        "outputId": "35d2bc60-23df-45ae-eb0b-035b23847cd6"
      },
      "source": [
        "np.array(myList)"
      ],
      "execution_count": 45,
      "outputs": [
        {
          "output_type": "execute_result",
          "data": {
            "text/plain": [
              "array(['0', '1', '3', 'hello', '3.3'], dtype='<U21')"
            ]
          },
          "metadata": {
            "tags": []
          },
          "execution_count": 45
        }
      ]
    },
    {
      "cell_type": "code",
      "metadata": {
        "colab": {
          "base_uri": "https://localhost:8080/"
        },
        "id": "xmOvwyYgmO27",
        "outputId": "ff7a4ffd-59bf-4cdb-fc34-c28ccc3fb24e"
      },
      "source": [
        "np.ones(75)"
      ],
      "execution_count": 46,
      "outputs": [
        {
          "output_type": "execute_result",
          "data": {
            "text/plain": [
              "array([1., 1., 1., 1., 1., 1., 1., 1., 1., 1., 1., 1., 1., 1., 1., 1., 1.,\n",
              "       1., 1., 1., 1., 1., 1., 1., 1., 1., 1., 1., 1., 1., 1., 1., 1., 1.,\n",
              "       1., 1., 1., 1., 1., 1., 1., 1., 1., 1., 1., 1., 1., 1., 1., 1., 1.,\n",
              "       1., 1., 1., 1., 1., 1., 1., 1., 1., 1., 1., 1., 1., 1., 1., 1., 1.,\n",
              "       1., 1., 1., 1., 1., 1., 1.])"
            ]
          },
          "metadata": {
            "tags": []
          },
          "execution_count": 46
        }
      ]
    },
    {
      "cell_type": "code",
      "metadata": {
        "colab": {
          "base_uri": "https://localhost:8080/"
        },
        "id": "IWXGo8pFmd48",
        "outputId": "8f205536-dd62-450e-f262-93ab86658191"
      },
      "source": [
        "np.empty(75)"
      ],
      "execution_count": 47,
      "outputs": [
        {
          "output_type": "execute_result",
          "data": {
            "text/plain": [
              "array([1., 1., 1., 1., 1., 1., 1., 1., 1., 1., 1., 1., 1., 1., 1., 1., 1.,\n",
              "       1., 1., 1., 1., 1., 1., 1., 1., 1., 1., 1., 1., 1., 1., 1., 1., 1.,\n",
              "       1., 1., 1., 1., 1., 1., 1., 1., 1., 1., 1., 1., 1., 1., 1., 1., 1.,\n",
              "       1., 1., 1., 1., 1., 1., 1., 1., 1., 1., 1., 1., 1., 1., 1., 1., 1.,\n",
              "       1., 1., 1., 1., 1., 1., 1.])"
            ]
          },
          "metadata": {
            "tags": []
          },
          "execution_count": 47
        }
      ]
    },
    {
      "cell_type": "code",
      "metadata": {
        "colab": {
          "base_uri": "https://localhost:8080/"
        },
        "id": "IOqjrg_Imn_z",
        "outputId": "a78e9bbc-0285-4a09-9c4e-27e0d4d0ce82"
      },
      "source": [
        "np.zeros(75)"
      ],
      "execution_count": 48,
      "outputs": [
        {
          "output_type": "execute_result",
          "data": {
            "text/plain": [
              "array([0., 0., 0., 0., 0., 0., 0., 0., 0., 0., 0., 0., 0., 0., 0., 0., 0.,\n",
              "       0., 0., 0., 0., 0., 0., 0., 0., 0., 0., 0., 0., 0., 0., 0., 0., 0.,\n",
              "       0., 0., 0., 0., 0., 0., 0., 0., 0., 0., 0., 0., 0., 0., 0., 0., 0.,\n",
              "       0., 0., 0., 0., 0., 0., 0., 0., 0., 0., 0., 0., 0., 0., 0., 0., 0.,\n",
              "       0., 0., 0., 0., 0., 0., 0.])"
            ]
          },
          "metadata": {
            "tags": []
          },
          "execution_count": 48
        }
      ]
    },
    {
      "cell_type": "code",
      "metadata": {
        "colab": {
          "base_uri": "https://localhost:8080/"
        },
        "id": "Ec53XOJGmtE4",
        "outputId": "8b55a281-2710-4efb-f292-c818ff40fc59"
      },
      "source": [
        "np.empty(75)"
      ],
      "execution_count": 49,
      "outputs": [
        {
          "output_type": "execute_result",
          "data": {
            "text/plain": [
              "array([0., 0., 0., 0., 0., 0., 0., 0., 0., 0., 0., 0., 0., 0., 0., 0., 0.,\n",
              "       0., 0., 0., 0., 0., 0., 0., 0., 0., 0., 0., 0., 0., 0., 0., 0., 0.,\n",
              "       0., 0., 0., 0., 0., 0., 0., 0., 0., 0., 0., 0., 0., 0., 0., 0., 0.,\n",
              "       0., 0., 0., 0., 0., 0., 0., 0., 0., 0., 0., 0., 0., 0., 0., 0., 0.,\n",
              "       0., 0., 0., 0., 0., 0., 0.])"
            ]
          },
          "metadata": {
            "tags": []
          },
          "execution_count": 49
        }
      ]
    },
    {
      "cell_type": "code",
      "metadata": {
        "id": "jmQ0S5Jvmtr6"
      },
      "source": [
        "tmparray = np.zeros(75, int).dtype"
      ],
      "execution_count": 50,
      "outputs": []
    },
    {
      "cell_type": "code",
      "metadata": {
        "colab": {
          "base_uri": "https://localhost:8080/"
        },
        "id": "qWzlJXGzmy_b",
        "outputId": "7b63d01e-3017-43e7-d232-6c3a86103168"
      },
      "source": [
        "myList[0:1] #gives me the element starting from posotion 0 to posotion 1, without the last position,\n",
        "            # so element in 1 place, is not returned"
      ],
      "execution_count": 51,
      "outputs": [
        {
          "output_type": "execute_result",
          "data": {
            "text/plain": [
              "[0]"
            ]
          },
          "metadata": {
            "tags": []
          },
          "execution_count": 51
        }
      ]
    },
    {
      "cell_type": "code",
      "metadata": {
        "id": "fJ9dK2sTm1F0"
      },
      "source": [
        "zerosarray = np.zeros(7, int)\n",
        "onesarray = np.ones(7, float)"
      ],
      "execution_count": 52,
      "outputs": []
    },
    {
      "cell_type": "code",
      "metadata": {
        "colab": {
          "base_uri": "https://localhost:8080/"
        },
        "id": "3AelZXnhnbRU",
        "outputId": "b382885d-daa6-4420-a972-4f01df056376"
      },
      "source": [
        "zerosarray * onesarray #product in this way is more efficient than a for loop"
      ],
      "execution_count": 53,
      "outputs": [
        {
          "output_type": "execute_result",
          "data": {
            "text/plain": [
              "array([0., 0., 0., 0., 0., 0., 0.])"
            ]
          },
          "metadata": {
            "tags": []
          },
          "execution_count": 53
        }
      ]
    },
    {
      "cell_type": "code",
      "metadata": {
        "id": "Ye1XVQWondp-"
      },
      "source": [
        "anotherOnesarray = np.ones(10, float)"
      ],
      "execution_count": 54,
      "outputs": []
    },
    {
      "cell_type": "code",
      "metadata": {
        "id": "tTrmYppMnswL"
      },
      "source": [
        "#zerosarray * anotherOnesarray  #this doesnt wokr because array must be of the same dimension"
      ],
      "execution_count": 55,
      "outputs": []
    },
    {
      "cell_type": "code",
      "metadata": {
        "colab": {
          "base_uri": "https://localhost:8080/"
        },
        "id": "nBUC0IUjnu-v",
        "outputId": "a215e59d-0b92-436a-a3eb-4cd416a0f0c9"
      },
      "source": [
        "list(range(10)) #create a consecutive number "
      ],
      "execution_count": 56,
      "outputs": [
        {
          "output_type": "execute_result",
          "data": {
            "text/plain": [
              "[0, 1, 2, 3, 4, 5, 6, 7, 8, 9]"
            ]
          },
          "metadata": {
            "tags": []
          },
          "execution_count": 56
        }
      ]
    },
    {
      "cell_type": "code",
      "metadata": {
        "colab": {
          "base_uri": "https://localhost:8080/"
        },
        "id": "fIZ3vFUpoB3n",
        "outputId": "ffbe68b1-c6fb-4d3c-f342-4ac5f8369787"
      },
      "source": [
        "np.arange(5, 10., 2)"
      ],
      "execution_count": 57,
      "outputs": [
        {
          "output_type": "execute_result",
          "data": {
            "text/plain": [
              "array([5., 7., 9.])"
            ]
          },
          "metadata": {
            "tags": []
          },
          "execution_count": 57
        }
      ]
    },
    {
      "cell_type": "code",
      "metadata": {
        "id": "MBL8vHSuoTfR"
      },
      "source": [
        "one1DArray = np.random.rand(10)\n",
        "one2DArray = np.random.rand(10, 20)"
      ],
      "execution_count": 58,
      "outputs": []
    },
    {
      "cell_type": "code",
      "metadata": {
        "colab": {
          "base_uri": "https://localhost:8080/"
        },
        "id": "0XOjiJW1og-O",
        "outputId": "7f30df76-4260-4659-f47b-8a08b7fadc19"
      },
      "source": [
        "np.random.rand(10, 20).shape"
      ],
      "execution_count": 59,
      "outputs": [
        {
          "output_type": "execute_result",
          "data": {
            "text/plain": [
              "(10, 20)"
            ]
          },
          "metadata": {
            "tags": []
          },
          "execution_count": 59
        }
      ]
    },
    {
      "cell_type": "code",
      "metadata": {
        "colab": {
          "base_uri": "https://localhost:8080/"
        },
        "id": "CtxKckBqotb_",
        "outputId": "50df57a4-ade0-4cb1-87a7-642c33a8a8cb"
      },
      "source": [
        "one1DArray[1:3]"
      ],
      "execution_count": 60,
      "outputs": [
        {
          "output_type": "execute_result",
          "data": {
            "text/plain": [
              "array([0.19509702, 0.3127115 ])"
            ]
          },
          "metadata": {
            "tags": []
          },
          "execution_count": 60
        }
      ]
    },
    {
      "cell_type": "code",
      "metadata": {
        "colab": {
          "base_uri": "https://localhost:8080/"
        },
        "id": "mkG4RCGIpK1X",
        "outputId": "0cb5f2b0-0ca8-48ac-e7f1-d024a2e118c4"
      },
      "source": [
        "one2DArray[1:3] #extract the second and the third row from one2DArray"
      ],
      "execution_count": 61,
      "outputs": [
        {
          "output_type": "execute_result",
          "data": {
            "text/plain": [
              "array([[0.67928967, 0.7834886 , 0.80435473, 0.04709301, 0.4154604 ,\n",
              "        0.66818213, 0.12931385, 0.56557978, 0.61731001, 0.03610383,\n",
              "        0.69088568, 0.98895145, 0.39035751, 0.27842688, 0.61871284,\n",
              "        0.43589993, 0.42469213, 0.40635964, 0.56123034, 0.69674598],\n",
              "       [0.89323244, 0.78783714, 0.50640798, 0.29146432, 0.02505203,\n",
              "        0.03719228, 0.41883647, 0.27150477, 0.86323878, 0.06298928,\n",
              "        0.42846081, 0.24611091, 0.23363888, 0.44141331, 0.22662254,\n",
              "        0.26885181, 0.64241337, 0.61561245, 0.35642829, 0.80605226]])"
            ]
          },
          "metadata": {
            "tags": []
          },
          "execution_count": 61
        }
      ]
    },
    {
      "cell_type": "code",
      "metadata": {
        "colab": {
          "base_uri": "https://localhost:8080/"
        },
        "id": "xiEuPTIDpQfB",
        "outputId": "b953774d-4bbe-4248-b43f-e054e4235372"
      },
      "source": [
        "one2DArray[1:3, 0]"
      ],
      "execution_count": 62,
      "outputs": [
        {
          "output_type": "execute_result",
          "data": {
            "text/plain": [
              "array([0.67928967, 0.89323244])"
            ]
          },
          "metadata": {
            "tags": []
          },
          "execution_count": 62
        }
      ]
    },
    {
      "cell_type": "code",
      "metadata": {
        "id": "aBj52PsmpaY_"
      },
      "source": [
        ""
      ],
      "execution_count": 62,
      "outputs": []
    },
    {
      "cell_type": "markdown",
      "metadata": {
        "id": "BmhG0Nv8ptqn"
      },
      "source": [
        "# Function"
      ]
    },
    {
      "cell_type": "code",
      "metadata": {
        "id": "ZzzKNxgPpxHf"
      },
      "source": [
        "def myfunction(a): #define a function\n",
        "  print(\"the variable you passed is \", a)\n",
        "  return 1 \n",
        "  #typical return values for \"that's ok\", -1 for error, 0 for nothing to report "
      ],
      "execution_count": 63,
      "outputs": []
    },
    {
      "cell_type": "code",
      "metadata": {
        "colab": {
          "base_uri": "https://localhost:8080/"
        },
        "id": "OMWOeT32qO9j",
        "outputId": "fe7ac7db-7e43-4b7e-ecbe-08b1cd5d8505"
      },
      "source": [
        "myfunction(\"hello!\");\n",
        "myfunction(intVariable);           "
      ],
      "execution_count": 64,
      "outputs": [
        {
          "output_type": "stream",
          "text": [
            "the variable you passed is  hello!\n",
            "the variable you passed is  3\n"
          ],
          "name": "stdout"
        }
      ]
    },
    {
      "cell_type": "code",
      "metadata": {
        "colab": {
          "base_uri": "https://localhost:8080/"
        },
        "id": "f8KiOVnccE_l",
        "outputId": "8e42bb93-3dbe-4803-ef3d-802d25a85427"
      },
      "source": [
        "myList"
      ],
      "execution_count": 65,
      "outputs": [
        {
          "output_type": "execute_result",
          "data": {
            "text/plain": [
              "[0, 1, 3, 'hello', 3.3]"
            ]
          },
          "metadata": {
            "tags": []
          },
          "execution_count": 65
        }
      ]
    },
    {
      "cell_type": "markdown",
      "metadata": {
        "id": "LYsMpIVSiJ8t"
      },
      "source": [
        "below I extract a subset of the elements of myList: from element 2, corresponding to index 1 (since arrays and lists are indexed starting at 0) to the last element.\n",
        "\n",
        "\":\" indicates that I am selecting a range of indices. the first number is included, the last is not included."
      ]
    },
    {
      "cell_type": "code",
      "metadata": {
        "colab": {
          "base_uri": "https://localhost:8080/"
        },
        "id": "4Cd5MXaAkpmK",
        "outputId": "1843521b-e539-45a1-b349-9a8a3567feaa"
      },
      "source": [
        "myList[:2]"
      ],
      "execution_count": 66,
      "outputs": [
        {
          "output_type": "execute_result",
          "data": {
            "text/plain": [
              "[0, 1]"
            ]
          },
          "metadata": {
            "tags": []
          },
          "execution_count": 66
        }
      ]
    },
    {
      "cell_type": "code",
      "metadata": {
        "colab": {
          "base_uri": "https://localhost:8080/"
        },
        "id": "OrT_gbGKkiE0",
        "outputId": "4017bef4-c361-40e8-e9ec-4944dc6233c6"
      },
      "source": [
        "myList[::2]"
      ],
      "execution_count": 67,
      "outputs": [
        {
          "output_type": "execute_result",
          "data": {
            "text/plain": [
              "[0, 3, 3.3]"
            ]
          },
          "metadata": {
            "tags": []
          },
          "execution_count": 67
        }
      ]
    },
    {
      "cell_type": "code",
      "metadata": {
        "colab": {
          "base_uri": "https://localhost:8080/"
        },
        "id": "QQxFdOGddAC8",
        "outputId": "9ab82423-8ee6-4707-9b65-f51ae1283012"
      },
      "source": [
        "myList[:-1]"
      ],
      "execution_count": 68,
      "outputs": [
        {
          "output_type": "execute_result",
          "data": {
            "text/plain": [
              "[0, 1, 3, 'hello']"
            ]
          },
          "metadata": {
            "tags": []
          },
          "execution_count": 68
        }
      ]
    },
    {
      "cell_type": "code",
      "metadata": {
        "colab": {
          "base_uri": "https://localhost:8080/"
        },
        "id": "9tDp74VQqhyP",
        "outputId": "96b6dbfb-f66a-42f8-c84c-0e9383f81f2b"
      },
      "source": [
        "myList[::-1]  #mi printa myList al contrario"
      ],
      "execution_count": 69,
      "outputs": [
        {
          "output_type": "execute_result",
          "data": {
            "text/plain": [
              "[3.3, 'hello', 3, 1, 0]"
            ]
          },
          "metadata": {
            "tags": []
          },
          "execution_count": 69
        }
      ]
    },
    {
      "cell_type": "code",
      "metadata": {
        "colab": {
          "base_uri": "https://localhost:8080/"
        },
        "id": "weog-zDrBeJl",
        "outputId": "cb0726f1-e5fd-4379-ea99-43b56ff9fc32"
      },
      "source": [
        "myArray = np.array([intVariable, floatVariable, 3 , 4. ])\n",
        "# the integers are converted to float\n",
        "\n",
        "print (myArray)"
      ],
      "execution_count": 192,
      "outputs": [
        {
          "output_type": "stream",
          "text": [
            "[3.  3.3 3.  4. ]\n"
          ],
          "name": "stdout"
        }
      ]
    },
    {
      "cell_type": "markdown",
      "metadata": {
        "id": "4fdcTu4tj7_S"
      },
      "source": [
        "**OPERAZIONI CON LE STRINGHE**"
      ]
    },
    {
      "cell_type": "code",
      "metadata": {
        "colab": {
          "base_uri": "https://localhost:8080/"
        },
        "id": "M3-F2lXPkEjP",
        "outputId": "3ec04e17-1cd9-4bdc-c23b-f15f00c89b6b"
      },
      "source": [
        "stringa = 'anna'\n",
        "stringaRevese = stringa[::-1] #compara automaticamente le stringhe lettera per lettera\n",
        "for i in range(len(stringa)):\n",
        "   stringaRevese[i] == stringa[i]\n",
        "   print('lettera', stringaRevese[i])\n"
      ],
      "execution_count": 70,
      "outputs": [
        {
          "output_type": "stream",
          "text": [
            "lettera a\n",
            "lettera n\n",
            "lettera n\n",
            "lettera a\n"
          ],
          "name": "stdout"
        }
      ]
    },
    {
      "cell_type": "markdown",
      "metadata": {
        "id": "MaRujOJmqbY3"
      },
      "source": [
        "**EXERCISE**\n",
        "\n",
        "DEFINE A FUNCTION THAT IDENTIFY THE WORD OR A STING IS PALINDROME.\n",
        "IF IT IS, PRINT \"YES IT IS A PALINDROME\" AND THEN PRINT THE UNIQUE SUBSET OF THE WORD. (L'ESERCIZIO SVOLTO DALLA PROF È SUL NOTEBOOK AL LINK MESSO IN ALTO A QUESTA LEZIONE)"
      ]
    },
    {
      "cell_type": "code",
      "metadata": {
        "id": "pSIdIZHCqvrp"
      },
      "source": [
        "def palindrome(string):\n",
        "  #controllo se è palindroma\n",
        "  if (string.lower() == string.lower()[::-1]): \n",
        "    #se è palindroma, voglio stampare la parte prima della parola\n",
        "    halfpal = string[:int((float(len(string)) / 2.0) + 0.5)]\n",
        "    print (\"Yes its a palindrome:\", halfpal)\n",
        "    return (1)\n",
        "  else:\n",
        "    print(\"not palindrome\")\n",
        "  return (-1)"
      ],
      "execution_count": 71,
      "outputs": []
    },
    {
      "cell_type": "code",
      "metadata": {
        "colab": {
          "base_uri": "https://localhost:8080/"
        },
        "id": "TXjAdHq-sYv2",
        "outputId": "0b87bc1e-83a3-419e-c617-3643a1d08a1c"
      },
      "source": [
        "palindrome(\"anna\");"
      ],
      "execution_count": 72,
      "outputs": [
        {
          "output_type": "stream",
          "text": [
            "Yes its a palindrome: an\n"
          ],
          "name": "stdout"
        }
      ]
    },
    {
      "cell_type": "markdown",
      "metadata": {
        "id": "CGK67cHwtSJX"
      },
      "source": [
        "# ACCEDERE AL FILE PRENDENDOLO DA GOOGLE DRIVE\n",
        "\n",
        "from google.colab import drive"
      ]
    },
    {
      "cell_type": "code",
      "metadata": {
        "id": "7S-qGtylm-vx"
      },
      "source": [
        "from google.colab import drive"
      ],
      "execution_count": 73,
      "outputs": []
    },
    {
      "cell_type": "code",
      "metadata": {
        "colab": {
          "base_uri": "https://localhost:8080/"
        },
        "id": "poU1CmEqv8LB",
        "outputId": "ef9c796d-c83f-459d-9280-cabe3dbe5017"
      },
      "source": [
        "drive.mount(\"/content/drive\") #collego google drive con colab"
      ],
      "execution_count": 74,
      "outputs": [
        {
          "output_type": "stream",
          "text": [
            "Mounted at /content/drive\n"
          ],
          "name": "stdout"
        }
      ]
    },
    {
      "cell_type": "code",
      "metadata": {
        "colab": {
          "base_uri": "https://localhost:8080/"
        },
        "id": "vp1PwSFgwVEf",
        "outputId": "145f0a3a-787c-4bce-e9c2-f14dbad55514"
      },
      "source": [
        "%ls #posso usare unix command to navigate in my google drive account"
      ],
      "execution_count": 90,
      "outputs": [
        {
          "output_type": "stream",
          "text": [
            " bootcampNB.ipynb\n",
            " busBusses.npy\n",
            " busTimeTable.npy\n",
            " demo1.py\n",
            " demo2.py\n",
            " demo3.py\n",
            " flatiron_building_new_york_city-111.jpg\n",
            " inclassNB2016.ipynb\n",
            " inclassNB2017.ipynb\n",
            " inclassNB2018.ipynb\n",
            " ispalindrome.py\n",
            " LoopExercise.ipynb\n",
            " LoopExerciseSolution.ipynb\n",
            " Mona_Lisa.png\n",
            " NYCskyline.jpg\n",
            " PandasDataWrangling-Chap7.ipynb\n",
            " playwPandas.ipynb\n",
            " printGoodmorningGoodAfternoon_instructions.py\n",
            " printGoodmorningGoodAfternoon.py\n",
            " pyboot2020_2.ipynb\n",
            " pyboot2020.ipynb\n",
            " pyBootParma.ipynb\n",
            " \u001b[0m\u001b[01;34m__pycache__\u001b[0m/\n",
            " readingData.ipynb\n",
            " README.md\n",
            "'view?usp=sharing'\n"
          ],
          "name": "stdout"
        }
      ]
    },
    {
      "cell_type": "code",
      "metadata": {
        "colab": {
          "base_uri": "https://localhost:8080/"
        },
        "id": "NCYSyOHOwuKu",
        "outputId": "3c7f9ab4-8768-45f7-8e9c-6331e1171c4d"
      },
      "source": [
        "cd drive"
      ],
      "execution_count": 91,
      "outputs": [
        {
          "output_type": "stream",
          "text": [
            "[Errno 2] No such file or directory: 'drive'\n",
            "/content/drive/MyDrive/Python\n"
          ],
          "name": "stdout"
        }
      ]
    },
    {
      "cell_type": "code",
      "metadata": {
        "colab": {
          "base_uri": "https://localhost:8080/"
        },
        "id": "nPnhbAcmw2mS",
        "outputId": "bea6431b-be9f-4760-ac9f-bf246e007c1c"
      },
      "source": [
        "ls"
      ],
      "execution_count": 92,
      "outputs": [
        {
          "output_type": "stream",
          "text": [
            " bootcampNB.ipynb\n",
            " busBusses.npy\n",
            " busTimeTable.npy\n",
            " demo1.py\n",
            " demo2.py\n",
            " demo3.py\n",
            " flatiron_building_new_york_city-111.jpg\n",
            " inclassNB2016.ipynb\n",
            " inclassNB2017.ipynb\n",
            " inclassNB2018.ipynb\n",
            " ispalindrome.py\n",
            " LoopExercise.ipynb\n",
            " LoopExerciseSolution.ipynb\n",
            " Mona_Lisa.png\n",
            " NYCskyline.jpg\n",
            " PandasDataWrangling-Chap7.ipynb\n",
            " playwPandas.ipynb\n",
            " printGoodmorningGoodAfternoon_instructions.py\n",
            " printGoodmorningGoodAfternoon.py\n",
            " pyboot2020_2.ipynb\n",
            " pyboot2020.ipynb\n",
            " pyBootParma.ipynb\n",
            " \u001b[0m\u001b[01;34m__pycache__\u001b[0m/\n",
            " readingData.ipynb\n",
            " README.md\n",
            "'view?usp=sharing'\n"
          ],
          "name": "stdout"
        }
      ]
    },
    {
      "cell_type": "code",
      "metadata": {
        "colab": {
          "base_uri": "https://localhost:8080/"
        },
        "id": "YOmwQeXSxB5r",
        "outputId": "a2455956-149a-44e0-f622-d5f9d7a8d3fb"
      },
      "source": [
        "cd /content/drive/MyDrive"
      ],
      "execution_count": 93,
      "outputs": [
        {
          "output_type": "stream",
          "text": [
            "/content/drive/MyDrive\n"
          ],
          "name": "stdout"
        }
      ]
    },
    {
      "cell_type": "code",
      "metadata": {
        "colab": {
          "base_uri": "https://localhost:8080/"
        },
        "id": "BYtpsMQ3xDef",
        "outputId": "e3cf3c53-cf2c-4ac7-ea59-b89d3cacf280"
      },
      "source": [
        "ls"
      ],
      "execution_count": 94,
      "outputs": [
        {
          "output_type": "stream",
          "text": [
            "\u001b[0m\u001b[01;34m'Colab Notebooks'\u001b[0m/        \u001b[01;34m__pycache__\u001b[0m/  'Quaderno di Lab.gdoc'\n",
            "\u001b[01;34m'_OriginPro 8.5.0 SR1'\u001b[0m/   \u001b[01;34mPython\u001b[0m/\n"
          ],
          "name": "stdout"
        }
      ]
    },
    {
      "cell_type": "code",
      "metadata": {
        "colab": {
          "base_uri": "https://localhost:8080/"
        },
        "id": "25OUo5Lvnb8L",
        "outputId": "4698ec09-bce4-49e8-ca85-e43acd64bebb"
      },
      "source": [
        "cd /content/drive/MyDrive/Python/"
      ],
      "execution_count": 95,
      "outputs": [
        {
          "output_type": "stream",
          "text": [
            "/content/drive/MyDrive/Python\n"
          ],
          "name": "stdout"
        }
      ]
    },
    {
      "cell_type": "code",
      "metadata": {
        "colab": {
          "base_uri": "https://localhost:8080/"
        },
        "id": "Hkabi4nqneAC",
        "outputId": "faa9ec9a-d255-49d7-896e-c770b50fce4d"
      },
      "source": [
        "ls"
      ],
      "execution_count": 96,
      "outputs": [
        {
          "output_type": "stream",
          "text": [
            " bootcampNB.ipynb\n",
            " busBusses.npy\n",
            " busTimeTable.npy\n",
            " demo1.py\n",
            " demo2.py\n",
            " demo3.py\n",
            " flatiron_building_new_york_city-111.jpg\n",
            " inclassNB2016.ipynb\n",
            " inclassNB2017.ipynb\n",
            " inclassNB2018.ipynb\n",
            " ispalindrome.py\n",
            " LoopExercise.ipynb\n",
            " LoopExerciseSolution.ipynb\n",
            " Mona_Lisa.png\n",
            " NYCskyline.jpg\n",
            " PandasDataWrangling-Chap7.ipynb\n",
            " playwPandas.ipynb\n",
            " printGoodmorningGoodAfternoon_instructions.py\n",
            " printGoodmorningGoodAfternoon.py\n",
            " pyboot2020_2.ipynb\n",
            " pyboot2020.ipynb\n",
            " pyBootParma.ipynb\n",
            " \u001b[0m\u001b[01;34m__pycache__\u001b[0m/\n",
            " readingData.ipynb\n",
            " README.md\n",
            "'view?usp=sharing'\n"
          ],
          "name": "stdout"
        }
      ]
    },
    {
      "cell_type": "code",
      "metadata": {
        "id": "k6I85basxEOX"
      },
      "source": [
        "import ispalindrome as ipl"
      ],
      "execution_count": 97,
      "outputs": []
    },
    {
      "cell_type": "code",
      "metadata": {
        "colab": {
          "base_uri": "https://localhost:8080/"
        },
        "id": "Qde3tQXoyGSE",
        "outputId": "6990e1c5-a0d5-4bc0-e10a-661be2204dc1"
      },
      "source": [
        "ipl.lookForPal(\"Anna\"); #provo se la parola \"Anna\" è palindroma"
      ],
      "execution_count": 98,
      "outputs": [
        {
          "output_type": "stream",
          "text": [
            "Yes its a palindrome An\n"
          ],
          "name": "stdout"
        }
      ]
    },
    {
      "cell_type": "markdown",
      "metadata": {
        "id": "af8sMW74zrKw"
      },
      "source": [
        "# GRABBING A FILE"
      ]
    },
    {
      "cell_type": "code",
      "metadata": {
        "id": "Jj3hP8W-zzGz"
      },
      "source": [
        "# .npy format to store data.   .npy npy arrays"
      ],
      "execution_count": 99,
      "outputs": []
    },
    {
      "cell_type": "code",
      "metadata": {
        "colab": {
          "base_uri": "https://localhost:8080/"
        },
        "id": "_2Rh6Xgxz-yK",
        "outputId": "c6428a33-3282-46da-b23c-fbeca096dda5"
      },
      "source": [
        "#starting with a ! tells that Im using unix shell command \n",
        "!curl -O https://raw.githubusercontent.com/fedhere/PyBOOT/master/busBusses.npy\n",
        "!curl -O https://raw.githubusercontent.com/fedhere/PyBOOT/master/busTimeTable.npy\n",
        "\n",
        "#PERCHÈ SE PROVO A METTERE IL LINK DEL MIO GOOGLE DRIVE NON FUNZIONA?\n",
        "#POSSO IMPORTARE IL FILE DAL MIO DRIVE FACENDO import namefile as shortname ??"
      ],
      "execution_count": 100,
      "outputs": [
        {
          "output_type": "stream",
          "text": [
            "  % Total    % Received % Xferd  Average Speed   Time    Time     Time  Current\n",
            "                                 Dload  Upload   Total   Spent    Left  Speed\n",
            "100   240  100   240    0     0   6486      0 --:--:-- --:--:-- --:--:--  6486\n",
            "  % Total    % Received % Xferd  Average Speed   Time    Time     Time  Current\n",
            "                                 Dload  Upload   Total   Spent    Left  Speed\n",
            "100  1680  100  1680    0     0  52500      0 --:--:-- --:--:-- --:--:-- 52500\n"
          ],
          "name": "stdout"
        }
      ]
    },
    {
      "cell_type": "code",
      "metadata": {
        "id": "lmzHaF992NO6",
        "colab": {
          "base_uri": "https://localhost:8080/"
        },
        "outputId": "4a120b3d-3acb-4381-c6fa-9ec900a78b4f"
      },
      "source": [
        "tt = np.load(\"busTimeTable.npy\")\n",
        "tt"
      ],
      "execution_count": 101,
      "outputs": [
        {
          "output_type": "execute_result",
          "data": {
            "text/plain": [
              "array([[ 91.82869011,  72.99278771,  96.74459251,  73.41298391,\n",
              "         85.58215726, 101.38226456,  96.97680737,  95.56072596,\n",
              "         77.87195303,  78.37553397],\n",
              "       [ 61.03022409,  60.00463334,  67.86228679,  41.10873249,\n",
              "         53.37659575,  36.91790247,  53.62835897,  55.73660035,\n",
              "         58.56814116,  54.98889748],\n",
              "       [ 60.98477297,  45.55742203,  45.88400007,  66.16346096,\n",
              "         60.03163411,  50.85322708,  45.37677315,  53.8142472 ,\n",
              "         54.54569551,  60.64418839],\n",
              "       [ 87.98620643,  55.8021912 ,  81.02751282,  66.19019631,\n",
              "         53.30000683,  67.55780543,  74.38103569,  71.13924744,\n",
              "         87.67477883,  67.09783283],\n",
              "       [ 73.8097995 ,  79.25914025,  86.31085813,  99.77766307,\n",
              "         90.29078454,  84.37561182,  95.84112464,  84.50840611,\n",
              "         97.12166748, 105.17515918],\n",
              "       [ 77.14467806,  71.12444623,  52.12373301,  73.45946947,\n",
              "         91.36942688,  72.86854378,  68.71403738,  72.43112835,\n",
              "         61.79702835,  72.26935691],\n",
              "       [ 86.30704523, 102.23174241, 113.01884237,  95.69827044,\n",
              "         98.59959209, 114.93276158, 104.41133895, 105.50238628,\n",
              "         93.35943062,  98.78277939],\n",
              "       [ 74.71226929,  80.97147937,  89.16214966,  70.2307603 ,\n",
              "         81.4312056 ,  78.3874604 ,  78.96898309,  72.10555491,\n",
              "         55.51923827,  79.02316128],\n",
              "       [ 77.92696605,  92.77956675,  69.3108149 ,  61.53129422,\n",
              "         70.65140894,  76.97932739,  73.41862304,  84.09255185,\n",
              "         63.36670996,  67.99069123],\n",
              "       [ 49.24024409,  67.65617269,  61.19613048,  51.40181978,\n",
              "         44.90729398,  68.52445254,  78.97249561,  52.57678652,\n",
              "         53.74647403,  54.37398039],\n",
              "       [ 59.18999377,  70.37804103,  48.60766952,  81.46181456,\n",
              "         64.85214737,  65.33415395,  58.19399315,  61.38295111,\n",
              "         57.04243639,  59.63865558],\n",
              "       [ 75.12543348, 106.12441583,  85.73822318,  85.38739475,\n",
              "         67.688885  ,  78.10374313,  85.17605977,  80.99901671,\n",
              "         87.65882487,  86.52981761],\n",
              "       [ 63.75814098,  53.37348145,  70.99872588,  77.81639011,\n",
              "         62.0375387 ,  56.34111999,  68.85249945,  55.82441791,\n",
              "         68.08625797,  72.10975084],\n",
              "       [ 15.59478274,  33.19279169,  35.26912395,  30.90715331,\n",
              "         56.00936929,  32.58024267,  46.41792735,  42.82946792,\n",
              "         43.28099373,  49.37757159],\n",
              "       [ 46.16732427,  81.31977757,  75.50469581,  65.69300662,\n",
              "         56.53048576,  56.31828323,  49.76376656,  56.47451759,\n",
              "         65.87847643,  61.13387985],\n",
              "       [ 77.280952  ,  76.29909699,  73.30769388,  96.05834373,\n",
              "         89.29221424,  87.4965901 ,  65.51103779,  85.00879678,\n",
              "         83.01854661,  70.11890182],\n",
              "       [ 60.22412814,  51.24633613,  29.71850033,  47.59939621,\n",
              "         61.07689437,  58.55899776,  40.75295312,  54.98036344,\n",
              "         52.91969315,  44.25847756],\n",
              "       [ 48.79074854,  61.22026506,  60.92437628,  60.83824996,\n",
              "         53.31451393,  53.76179385,  52.20652832,  65.24639906,\n",
              "         18.21655529,  66.6490358 ],\n",
              "       [ 71.92154159,  80.80014634,  67.85942205,  61.04740331,\n",
              "         58.18359773,  66.40353147,  77.43164409,  74.96692462,\n",
              "         69.20014753,  80.85366556],\n",
              "       [ 78.79188234,  89.45851705,  70.64935937,  58.27493978,\n",
              "         68.58490247,  89.96935633,  66.60290963,  65.79740182,\n",
              "         70.80114802,  75.60585109]])"
            ]
          },
          "metadata": {
            "tags": []
          },
          "execution_count": 101
        }
      ]
    },
    {
      "cell_type": "code",
      "metadata": {
        "id": "w3ODYeEq3B1l",
        "colab": {
          "base_uri": "https://localhost:8080/"
        },
        "outputId": "649c0e73-94e5-44f7-811b-624bfc634aaa"
      },
      "source": [
        "busses = np.load(\"busBusses.npy\")\n",
        "busses"
      ],
      "execution_count": 102,
      "outputs": [
        {
          "output_type": "execute_result",
          "data": {
            "text/plain": [
              "array([ 77,  72,  79,  97,  85,  57,  86,  96,  31,  76,  33,  98, 109,\n",
              "       108,  52,  92,  58,  94,  66, 104])"
            ]
          },
          "metadata": {
            "tags": []
          },
          "execution_count": 102
        }
      ]
    },
    {
      "cell_type": "code",
      "metadata": {
        "colab": {
          "base_uri": "https://localhost:8080/"
        },
        "id": "7Y4nwQ1osGHa",
        "outputId": "539f19ee-7f6f-4257-9fdd-edc19fe4c12b"
      },
      "source": [
        "#così ho i numeri dei bus, adesso mi servono le ore, che come leggo sotto vanno\n",
        "#da 1PM a 10PM, e quindi mi costruisco una lista di orari come segue\n",
        "hours = range(1,11)\n",
        "list(hours)"
      ],
      "execution_count": 103,
      "outputs": [
        {
          "output_type": "execute_result",
          "data": {
            "text/plain": [
              "[1, 2, 3, 4, 5, 6, 7, 8, 9, 10]"
            ]
          },
          "metadata": {
            "tags": []
          },
          "execution_count": 103
        }
      ]
    },
    {
      "cell_type": "code",
      "metadata": {
        "colab": {
          "base_uri": "https://localhost:8080/"
        },
        "id": "gEByBwLNsi1p",
        "outputId": "ac9fd1f6-da49-4788-a720-0de551c7bab4"
      },
      "source": [
        "#quindi mi posso costruire una tabella con orari e numero di bus, definendo una funzione\n",
        "def printBusTable(times, i):\n",
        "    print(\"{:>3d} \".format(busses[i]), end=\"\") #printa il numero del bus, allineato a dx\n",
        "    #e poi ridefinisco il parametro \" end = \"\" \" perchè di default in print \" \"end=\"\\n\" \"\n",
        "    for j in times[i]:    #per ogni valore del tempo\n",
        "       print(\"{:>7.2f} \".format(j), end=\"\") #creo slot per il valore del tempo e vado a \n",
        "                                            #capo (specificato nel comando successivo)\n",
        "    print(\"\\n\")     #nuova riga\n",
        "\n",
        "print(\"{:>3}\".format(\"\"), end=\"\") #creo gli spazi per la riga degli orari \"1 PM  2 PM\"...\n",
        "                                  #in uno spazio di 3 caratteri\n",
        "for k in range(10):\n",
        "    print(\"{:>4} PM \".format(hours[k]), end=\"\") #printo gli orari, con in uno slot\n",
        "                                                #di 4 caratteri ovvero {:>4}\n",
        "print(\"\") #questo spazio vuoto mi fa andare a capo la parola \"BUS\"\n",
        "\n",
        "print(\"{:>3}\".format(\"BUS\"), end=\"\")  #in uno slot di 3 caratteri printo il n° del bus\n",
        "                                      #senza andare a capo\n",
        "print(\"\") #mi serve per andare a capo dopo la parola \"BUS\"\n",
        "\n",
        "#fino qui ho costruito la struttura della tabella, come segue:\n",
        "#      1 PM    2 PM    3 PM    4 PM    5 PM    6 PM    7 PM    8 PM    9 PM   10 PM \n",
        "#BUS\n",
        "\n",
        "#invece quanto segue mi serve per riempire la tabella\n",
        "for k in range(20):\n",
        "    printBusTable(tt, k)"
      ],
      "execution_count": 160,
      "outputs": [
        {
          "output_type": "stream",
          "text": [
            "      1 PM    2 PM    3 PM    4 PM    5 PM    6 PM    7 PM    8 PM    9 PM   10 PM \n",
            "BUS\n",
            " 77   91.83   72.99   96.74   73.41   85.58  101.38   96.98   95.56   77.87   78.38 \n",
            "\n",
            " 72   61.03   60.00   67.86   41.11   53.38   36.92   53.63   55.74   58.57   54.99 \n",
            "\n",
            " 79   60.98   45.56   45.88   66.16   60.03   50.85   45.38   53.81   54.55   60.64 \n",
            "\n",
            " 97   87.99   55.80   81.03   66.19   53.30   67.56   74.38   71.14   87.67   67.10 \n",
            "\n",
            " 85   73.81   79.26   86.31   99.78   90.29   84.38   95.84   84.51   97.12  105.18 \n",
            "\n",
            " 57   77.14   71.12   52.12   73.46   91.37   72.87   68.71   72.43   61.80   72.27 \n",
            "\n",
            " 86   86.31  102.23  113.02   95.70   98.60  114.93  104.41  105.50   93.36   98.78 \n",
            "\n",
            " 96   74.71   80.97   89.16   70.23   81.43   78.39   78.97   72.11   55.52   79.02 \n",
            "\n",
            " 31   77.93   92.78   69.31   61.53   70.65   76.98   73.42   84.09   63.37   67.99 \n",
            "\n",
            " 76   49.24   67.66   61.20   51.40   44.91   68.52   78.97   52.58   53.75   54.37 \n",
            "\n",
            " 33   59.19   70.38   48.61   81.46   64.85   65.33   58.19   61.38   57.04   59.64 \n",
            "\n",
            " 98   75.13  106.12   85.74   85.39   67.69   78.10   85.18   81.00   87.66   86.53 \n",
            "\n",
            "109   63.76   53.37   71.00   77.82   62.04   56.34   68.85   55.82   68.09   72.11 \n",
            "\n",
            "108   15.59   33.19   35.27   30.91   56.01   32.58   46.42   42.83   43.28   49.38 \n",
            "\n",
            " 52   46.17   81.32   75.50   65.69   56.53   56.32   49.76   56.47   65.88   61.13 \n",
            "\n",
            " 92   77.28   76.30   73.31   96.06   89.29   87.50   65.51   85.01   83.02   70.12 \n",
            "\n",
            " 58   60.22   51.25   29.72   47.60   61.08   58.56   40.75   54.98   52.92   44.26 \n",
            "\n",
            " 94   48.79   61.22   60.92   60.84   53.31   53.76   52.21   65.25   18.22   66.65 \n",
            "\n",
            " 66   71.92   80.80   67.86   61.05   58.18   66.40   77.43   74.97   69.20   80.85 \n",
            "\n",
            "104   78.79   89.46   70.65   58.27   68.58   89.97   66.60   65.80   70.80   75.61 \n",
            "\n"
          ],
          "name": "stdout"
        }
      ]
    },
    {
      "cell_type": "markdown",
      "metadata": {
        "id": "3allQUDm2YmI"
      },
      "source": [
        "**ESERICZIO (Linea 228 Notebook della prof)**\n",
        "\n",
        "You have travel time for 20 busses at 10 hours of the day, 1PM through 10PM\n",
        "\n",
        "the names of the busses are stored in busses (busBusses.npy)\n",
        "\n",
        "the hours of the day are stored in hours (hours = range(1, 11))\n",
        "\n",
        "the travel times are in tt (busTimeTable.npy)\n",
        "\n",
        "- find the hour (1PM to 10PM) of the day when on average it takes the longest to ride\n",
        "\n",
        "- find the bus that takes the longest to ride on average (averaged over all hours of the day)\n",
        "\n",
        "- print the name of the bus that takes the longest\n",
        "\n",
        "- hour of the day when it takes the longest\n",
        "\n",
        "You can use:\n",
        "\n",
        "- the mean method of np arrays, e.g. tt.mean(axis = 0)\n",
        "- the maxmethod of np arrays, e.g. myarray.max()\n",
        "- broadcast the names and hours (but remember: that one is a list!) to extract the value corresonding to the location of max"
      ]
    },
    {
      "cell_type": "code",
      "metadata": {
        "colab": {
          "base_uri": "https://localhost:8080/"
        },
        "id": "p9-NPbLO3y9G",
        "outputId": "75440f9e-d80b-461a-e2c5-3a0c05d597e1"
      },
      "source": [
        "tt.mean()   #ritorna un valore scalare"
      ],
      "execution_count": 162,
      "outputs": [
        {
          "output_type": "execute_result",
          "data": {
            "text/plain": [
              "68.88445864008028"
            ]
          },
          "metadata": {
            "tags": []
          },
          "execution_count": 162
        }
      ]
    },
    {
      "cell_type": "code",
      "metadata": {
        "colab": {
          "base_uri": "https://localhost:8080/"
        },
        "id": "GGYxvr0C5cKD",
        "outputId": "4cecb9a7-4acc-4292-ddef-0e0265a0cb5a"
      },
      "source": [
        "tt.mean(axis=0) #mean along one axes --> mean of the hour casue I have 10 element, \n",
        "                #i.e. the ten hour teachers said. Ogni numero è la media della i-esima colonna"
      ],
      "execution_count": 163,
      "outputs": [
        {
          "output_type": "execute_result",
          "data": {
            "text/plain": [
              "array([66.89079118, 71.58962256, 69.06093555, 68.20293716, 68.35553274,\n",
              "       69.88235848, 69.07994486, 69.5488946 , 65.98370986, 70.24985942])"
            ]
          },
          "metadata": {
            "tags": []
          },
          "execution_count": 163
        }
      ]
    },
    {
      "cell_type": "code",
      "metadata": {
        "colab": {
          "base_uri": "https://localhost:8080/"
        },
        "id": "irUW2cpmlIvj",
        "outputId": "725d49b0-0b17-49b3-e7a6-3adba597b47e"
      },
      "source": [
        "tt.mean(axis=0).shape"
      ],
      "execution_count": 164,
      "outputs": [
        {
          "output_type": "execute_result",
          "data": {
            "text/plain": [
              "(10,)"
            ]
          },
          "metadata": {
            "tags": []
          },
          "execution_count": 164
        }
      ]
    },
    {
      "cell_type": "code",
      "metadata": {
        "colab": {
          "base_uri": "https://localhost:8080/"
        },
        "id": "1ybDAfH15krc",
        "outputId": "a98bb437-f3aa-4f62-dc5c-31c04881b6e2"
      },
      "source": [
        "tt.mean(axis=1) #mean along one axes --> mean of the busses beacuse I have 20 entries.\n",
        "                #ogni numero è la media della i-esima riga"
      ],
      "execution_count": 175,
      "outputs": [
        {
          "output_type": "execute_result",
          "data": {
            "text/plain": [
              "array([ 87.07284964,  54.32223729,  54.38554215,  71.21568138,\n",
              "        89.64702147,  71.33018484, 101.28441894,  76.05122622,\n",
              "        73.80479543,  58.25958501,  62.60818564,  83.85318143,\n",
              "        64.91983233,  38.54594242,  61.47842137,  80.33921739,\n",
              "        50.13357402,  54.11684661,  70.86680243,  73.45362679])"
            ]
          },
          "metadata": {
            "tags": []
          },
          "execution_count": 175
        }
      ]
    },
    {
      "cell_type": "code",
      "metadata": {
        "id": "oGTQuKiV6Fu3"
      },
      "source": [
        "ttmmean0 = tt.mean(axis=0)"
      ],
      "execution_count": 166,
      "outputs": []
    },
    {
      "cell_type": "code",
      "metadata": {
        "id": "dQHkRSBi6Re6"
      },
      "source": [
        "ttmmean1 = tt.mean(axis=1)"
      ],
      "execution_count": 167,
      "outputs": []
    },
    {
      "cell_type": "code",
      "metadata": {
        "colab": {
          "base_uri": "https://localhost:8080/"
        },
        "id": "qaqrW-f76YhK",
        "outputId": "46c8c9ff-cbbc-47cc-aca9-baccc1785a53"
      },
      "source": [
        "ttmmean0.max()"
      ],
      "execution_count": 168,
      "outputs": [
        {
          "output_type": "execute_result",
          "data": {
            "text/plain": [
              "71.58962255653003"
            ]
          },
          "metadata": {
            "tags": []
          },
          "execution_count": 168
        }
      ]
    },
    {
      "cell_type": "code",
      "metadata": {
        "colab": {
          "base_uri": "https://localhost:8080/"
        },
        "id": "z1vA6yc86cIe",
        "outputId": "da12c83d-6013-47db-9891-2a6bb703e9de"
      },
      "source": [
        "ttmmean1.max()"
      ],
      "execution_count": 169,
      "outputs": [
        {
          "output_type": "execute_result",
          "data": {
            "text/plain": [
              "101.28441893639999"
            ]
          },
          "metadata": {
            "tags": []
          },
          "execution_count": 169
        }
      ]
    },
    {
      "cell_type": "code",
      "metadata": {
        "id": "O6ddGTZE5Z0a"
      },
      "source": [
        "#questo è il tempo più lungo che uno dei bus ci mette in media per il viaggio"
      ],
      "execution_count": null,
      "outputs": []
    },
    {
      "cell_type": "markdown",
      "metadata": {
        "id": "TLoub5Qn7SDN"
      },
      "source": [
        "The technique of selecting element of an array based on a condition by passing ans arrat (list) of bool variables (True/False) as an index is called \"**Broadcasting**\"\n",
        "\n",
        "Make sure the shape of the book array is the same as "
      ]
    },
    {
      "cell_type": "code",
      "metadata": {
        "colab": {
          "base_uri": "https://localhost:8080/"
        },
        "id": "9Wc9MhUe6fMu",
        "outputId": "119446b1-eebd-477b-abcb-202e89512b2a"
      },
      "source": [
        "ttmmean0"
      ],
      "execution_count": 170,
      "outputs": [
        {
          "output_type": "execute_result",
          "data": {
            "text/plain": [
              "array([66.89079118, 71.58962256, 69.06093555, 68.20293716, 68.35553274,\n",
              "       69.88235848, 69.07994486, 69.5488946 , 65.98370986, 70.24985942])"
            ]
          },
          "metadata": {
            "tags": []
          },
          "execution_count": 170
        }
      ]
    },
    {
      "cell_type": "code",
      "metadata": {
        "colab": {
          "base_uri": "https://localhost:8080/"
        },
        "id": "06ThrZYT6hOz",
        "outputId": "1446af9a-34d5-4cbc-8514-9b7ecce161c3"
      },
      "source": [
        "ttmmean0 == ttmmean0.max()"
      ],
      "execution_count": 171,
      "outputs": [
        {
          "output_type": "execute_result",
          "data": {
            "text/plain": [
              "array([False,  True, False, False, False, False, False, False, False,\n",
              "       False])"
            ]
          },
          "metadata": {
            "tags": []
          },
          "execution_count": 171
        }
      ]
    },
    {
      "cell_type": "code",
      "metadata": {
        "id": "dv2Kgc2w4r_I"
      },
      "source": [
        "#deduciamo che la seconda entrata di ttmean0 contiene la durata più grande in media\n",
        "#del viaggio, a quella determinata ora del giorno."
      ],
      "execution_count": 186,
      "outputs": []
    },
    {
      "cell_type": "code",
      "metadata": {
        "colab": {
          "base_uri": "https://localhost:8080/"
        },
        "id": "vefgUzZv6pZZ",
        "outputId": "b4f76cc0-6af2-4f72-d719-ef28f416fc8d"
      },
      "source": [
        "ttmmean0[ttmmean0 == ttmmean0.max()]"
      ],
      "execution_count": 191,
      "outputs": [
        {
          "output_type": "execute_result",
          "data": {
            "text/plain": [
              "array([71.58962256])"
            ]
          },
          "metadata": {
            "tags": []
          },
          "execution_count": 191
        }
      ]
    },
    {
      "cell_type": "code",
      "metadata": {
        "colab": {
          "base_uri": "https://localhost:8080/"
        },
        "id": "K_2k4yCQ6Elj",
        "outputId": "3d635558-155f-4296-c2d1-2387aebd7163"
      },
      "source": [
        "#abbiamo estratto quanto vale questo viaggio più lungo, ma a che ora avviene?\n",
        "np.array(hours)[ttmmean0 == ttmmean0.max()]"
      ],
      "execution_count": 184,
      "outputs": [
        {
          "output_type": "execute_result",
          "data": {
            "text/plain": [
              "array([2])"
            ]
          },
          "metadata": {
            "tags": []
          },
          "execution_count": 184
        }
      ]
    },
    {
      "cell_type": "code",
      "metadata": {
        "colab": {
          "base_uri": "https://localhost:8080/"
        },
        "id": "i7-HGyod-_0w",
        "outputId": "fe684613-d300-458a-d44a-79391f1aaa05"
      },
      "source": [
        "#QUINDI DEDUCO CHE ALLE 2 PM AVVIENE IL VIAGGIO PIÙ LUNGO E DURA 71.59 MIN\n",
        "meanByTime = tt.mean(axis = 0)\n",
        "print(\"the time it takes the longest is: {} PM, when the trip takes {:.2f} minutes\"\\\n",
        "      .format(np.array(hours)[meanByTime == meanByTime.max()][0], meanByTime.max()))"
      ],
      "execution_count": 189,
      "outputs": [
        {
          "output_type": "stream",
          "text": [
            "the time it takes the longest is: 2 PM, when the trip takes 71.59 minutes\n"
          ],
          "name": "stdout"
        }
      ]
    },
    {
      "cell_type": "code",
      "metadata": {
        "id": "pmjaOlra602_",
        "colab": {
          "base_uri": "https://localhost:8080/"
        },
        "outputId": "125a43b6-e63e-4111-d715-91a68ac2efc5"
      },
      "source": [
        "#Adesso passiamo a trovare quale bus impiega il tempo maggiore \n",
        "#in media per fare un percorso. Iniziamo trovando il valore del viaggio più lungo fatto\n",
        "#da un bus (e dobbiamo scoprire quale bus) indipendentemente dall'orario\n",
        "ttmmean1[ttmmean1 == ttmmean1.max()]"
      ],
      "execution_count": 190,
      "outputs": [
        {
          "output_type": "execute_result",
          "data": {
            "text/plain": [
              "array([101.28441894])"
            ]
          },
          "metadata": {
            "tags": []
          },
          "execution_count": 190
        }
      ]
    },
    {
      "cell_type": "code",
      "metadata": {
        "colab": {
          "base_uri": "https://localhost:8080/"
        },
        "id": "_ev0oMAG9phN",
        "outputId": "74886569-c612-4d04-96d4-8c1be4362321"
      },
      "source": [
        "busses"
      ],
      "execution_count": 185,
      "outputs": [
        {
          "output_type": "execute_result",
          "data": {
            "text/plain": [
              "array([ 77,  72,  79,  97,  85,  57,  86,  96,  31,  76,  33,  98, 109,\n",
              "       108,  52,  92,  58,  94,  66, 104])"
            ]
          },
          "metadata": {
            "tags": []
          },
          "execution_count": 185
        }
      ]
    },
    {
      "cell_type": "code",
      "metadata": {
        "colab": {
          "base_uri": "https://localhost:8080/"
        },
        "id": "4xfBKENo6lSB",
        "outputId": "caa1a8b8-1fd7-487f-8c4f-bb285b419e29"
      },
      "source": [
        "#CON LA TECNICA DEL BROADCASTING TROVO ESATTAMENTE IL NUMERO DEL BUS CHE FA IL VIAGIO\n",
        "#PIÙ LUNGO.  CI ESTRAE L'i-esimo NUMERO DEL BUS QUANDO SI VERIFICA LA CONDIZIONE DEL\n",
        "#MASSIMO TEMPO MEDIO SUGLI ORARI DEL GIORNO --> OTTENIAMO IL NUMERO DEL BUS CHE IMPIEGA\n",
        "#IL TEMPO MEDIO PIÙ GRANDE PER FARE IL VIAGGIO\n",
        "busses[tt.mean(axis = 1) == tt.mean(axis = 1).max()]"
      ],
      "execution_count": 187,
      "outputs": [
        {
          "output_type": "execute_result",
          "data": {
            "text/plain": [
              "array([86])"
            ]
          },
          "metadata": {
            "tags": []
          },
          "execution_count": 187
        }
      ]
    },
    {
      "cell_type": "code",
      "metadata": {
        "colab": {
          "base_uri": "https://localhost:8080/"
        },
        "id": "EyOHQVO76zKP",
        "outputId": "3cfec407-4038-48a5-ba2a-209b83b13e3d"
      },
      "source": [
        "#QUINDI DEDUCO CHE IL BUS 86 ESEGUE IL VIAGGIO PIÙ LUNGO E DURA 101.28 MIN\n",
        "meanByBus = tt.mean(axis = 1)\n",
        "print(\"the bus that takes the longest is: BUS {}, which takes {:.2f} minutes\"\\\n",
        "      .format(busses[meanByBus == meanByBus.max()][0], meanByBus.max()))"
      ],
      "execution_count": 178,
      "outputs": [
        {
          "output_type": "stream",
          "text": [
            "the bus that takes the longest is: BUS 86, which takes 101.28 minutes\n"
          ],
          "name": "stdout"
        }
      ]
    },
    {
      "cell_type": "markdown",
      "metadata": {
        "id": "dXwXUK2R7npB"
      },
      "source": [
        "# PLOT THING ON PYTHON"
      ]
    },
    {
      "cell_type": "code",
      "metadata": {
        "colab": {
          "base_uri": "https://localhost:8080/"
        },
        "id": "R6fbsK_W7reF",
        "outputId": "1bc0a812-9064-40ef-8c26-1d847ad57294"
      },
      "source": [
        "import pylab as pl\n",
        "%pylab inline"
      ],
      "execution_count": null,
      "outputs": [
        {
          "output_type": "stream",
          "text": [
            "Populating the interactive namespace from numpy and matplotlib\n"
          ],
          "name": "stdout"
        },
        {
          "output_type": "stream",
          "text": [
            "/usr/local/lib/python3.7/dist-packages/IPython/core/magics/pylab.py:161: UserWarning: pylab import has clobbered these variables: ['plt', 'amax']\n",
            "`%matplotlib` prevents importing * from pylab and numpy\n",
            "  \"\\n`%matplotlib` prevents importing * from pylab and numpy\"\n"
          ],
          "name": "stderr"
        }
      ]
    },
    {
      "cell_type": "code",
      "metadata": {
        "colab": {
          "base_uri": "https://localhost:8080/",
          "height": 296
        },
        "id": "a_m0HpG_7uwM",
        "outputId": "1c53eb6b-24eb-4ee4-86da-29a844401c21"
      },
      "source": [
        "plt.plot(tt[0], 'o', alpha=0.5)\n",
        "plt.xlabel('x')\n",
        "plt.ylabel('y')"
      ],
      "execution_count": null,
      "outputs": [
        {
          "output_type": "execute_result",
          "data": {
            "text/plain": [
              "Text(0, 0.5, 'y')"
            ]
          },
          "metadata": {
            "tags": []
          },
          "execution_count": 264
        },
        {
          "output_type": "display_data",
          "data": {
            "image/png": "[encoded data removed]",
            "text/plain": [
              "<Figure size 432x288 with 1 Axes>"
            ]
          },
          "metadata": {
            "tags": [],
            "needs_background": "light"
          }
        }
      ]
    },
    {
      "cell_type": "code",
      "metadata": {
        "colab": {
          "base_uri": "https://localhost:8080/",
          "height": 324
        },
        "id": "BE1gwxsc738J",
        "outputId": "e5d74f40-7d3b-4ee6-8e54-ed6297fe7d40"
      },
      "source": [
        "fig = plt.figure()\n",
        "ax1 = fig.add_subplot(121)\n",
        "ax2 = fig.add_subplot(121)"
      ],
      "execution_count": null,
      "outputs": [
        {
          "output_type": "stream",
          "text": [
            "/usr/local/lib/python3.7/dist-packages/ipykernel_launcher.py:3: MatplotlibDeprecationWarning: Adding an axes using the same arguments as a previous axes currently reuses the earlier instance.  In a future version, a new instance will always be created and returned.  Meanwhile, this warning can be suppressed, and the future behavior ensured, by passing a unique label to each axes instance.\n",
            "  This is separate from the ipykernel package so we can avoid doing imports until\n"
          ],
          "name": "stderr"
        },
        {
          "output_type": "display_data",
          "data": {
            "image/png": "[encoded data removed]",
            "text/plain": [
              "<Figure size 432x288 with 1 Axes>"
            ]
          },
          "metadata": {
            "tags": [],
            "needs_background": "light"
          }
        }
      ]
    },
    {
      "cell_type": "code",
      "metadata": {
        "colab": {
          "base_uri": "https://localhost:8080/"
        },
        "id": "R-AM2Gsf8gPG",
        "outputId": "b68c2eff-102e-465c-9db1-74518fa290cf"
      },
      "source": [
        "import sys\n",
        "# ineed to install pimageio\n",
        "!{sys.executable} -m pip install  --user imageio\n",
        "import imageio\n"
      ],
      "execution_count": null,
      "outputs": [
        {
          "output_type": "stream",
          "text": [
            "Requirement already satisfied: imageio in /usr/local/lib/python3.7/dist-packages (2.4.1)\n",
            "Requirement already satisfied: pillow in /usr/local/lib/python3.7/dist-packages (from imageio) (7.0.0)\n",
            "Requirement already satisfied: numpy in /usr/local/lib/python3.7/dist-packages (from imageio) (1.19.5)\n"
          ],
          "name": "stdout"
        }
      ]
    },
    {
      "cell_type": "code",
      "metadata": {
        "id": "d5cX9Qvd9Aoo"
      },
      "source": [
        ""
      ],
      "execution_count": null,
      "outputs": []
    }
  ]
}