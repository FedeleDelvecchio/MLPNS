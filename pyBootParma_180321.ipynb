{
  "nbformat": 4,
  "nbformat_minor": 0,
  "metadata": {
    "colab": {
      "name": "pyBootParma_180321.ipynb",
      "provenance": [],
      "collapsed_sections": [],
      "authorship_tag": "ABX9TyO0GZ3wYwGJ5vZLJ6HfHq96",
      "include_colab_link": true
    },
    "kernelspec": {
      "name": "python3",
      "display_name": "Python 3"
    }
  },
  "cells": [
    {
      "cell_type": "markdown",
      "metadata": {
        "id": "view-in-github",
        "colab_type": "text"
      },
      "source": [
        "<a href=\"https://colab.research.google.com/github/FedeleDelvecchio/gittest_fed/blob/main/pyBootParma_180321.ipynb\" target=\"_parent\"><img src=\"https://colab.research.google.com/assets/colab-badge.svg\" alt=\"Open In Colab\"/></a>"
      ]
    },
    {
      "cell_type": "markdown",
      "metadata": {
        "id": "ymIUpZJLWSAF"
      },
      "source": [
        "this is a notebook that we are writing to learn python (per metterlo come un commento abbiamo fatto \"ctrl + m\" dove m sta per \"markdown\"). \n",
        "PER QUESTA LEZIONE SEGUIAMO https://github.com/fedhere/PyBOOT/blob/master/bootcampNB.ipynb\n",
        "\n",
        "E il notebook: https://nbviewer.jupyter.org/github/fedhere/PyBOOT/blob/master/bootcampNB.ipynb#lists\n",
        "\n",
        "NbViewer: https://nbviewer.jupyter.org/\n",
        "\n",
        "Python code style: https://www.python.org/dev/peps/pep-0008/"
      ]
    },
    {
      "cell_type": "code",
      "metadata": {
        "id": "DH-zsapDWaaT"
      },
      "source": [
        "#this is a comment (start a comment with \"#\")"
      ],
      "execution_count": null,
      "outputs": []
    },
    {
      "cell_type": "markdown",
      "metadata": {
        "id": "-LEed-PEW9Dp"
      },
      "source": [
        "# Coding Cell 1"
      ]
    },
    {
      "cell_type": "code",
      "metadata": {
        "id": "favgJ5TeXBwd"
      },
      "source": [
        "intVariable = 3\n",
        "floatVariable = 3.3"
      ],
      "execution_count": null,
      "outputs": []
    },
    {
      "cell_type": "markdown",
      "metadata": {
        "id": "3AsxKya2XCQl"
      },
      "source": [
        "# Coding Cell 2"
      ]
    },
    {
      "cell_type": "code",
      "metadata": {
        "id": "a_Vt7wyxXFR9"
      },
      "source": [
        "from __future__ import print_function, division"
      ],
      "execution_count": null,
      "outputs": []
    },
    {
      "cell_type": "markdown",
      "metadata": {
        "id": "-317ReasXoYW"
      },
      "source": [
        "# Native python Variable"
      ]
    },
    {
      "cell_type": "code",
      "metadata": {
        "id": "Sqksh82lXu5i"
      },
      "source": [
        "stringVariable = \"hello!\" #standard declaration\n",
        "boolVar = True"
      ],
      "execution_count": null,
      "outputs": []
    },
    {
      "cell_type": "code",
      "metadata": {
        "colab": {
          "base_uri": "https://localhost:8080/"
        },
        "id": "gQ1F1z_6YLfd",
        "outputId": "0ae5aa85-be2e-423b-cfad-eb560f70470c"
      },
      "source": [
        "print(\"hello!\")"
      ],
      "execution_count": null,
      "outputs": [
        {
          "output_type": "stream",
          "text": [
            "hello!\n"
          ],
          "name": "stdout"
        }
      ]
    },
    {
      "cell_type": "code",
      "metadata": {
        "id": "PGWGlkHdZfNd"
      },
      "source": [
        "amax = 10"
      ],
      "execution_count": null,
      "outputs": []
    },
    {
      "cell_type": "code",
      "metadata": {
        "colab": {
          "base_uri": "https://localhost:8080/"
        },
        "id": "EMmLtmxZYj1N",
        "outputId": "0a8097ab-f34b-4eb6-8c35-b010c7beb418"
      },
      "source": [
        "for a in range(10):\n",
        "  print(a)\n"
      ],
      "execution_count": null,
      "outputs": [
        {
          "output_type": "stream",
          "text": [
            "0\n",
            "1\n",
            "2\n",
            "3\n",
            "4\n",
            "5\n",
            "6\n",
            "7\n",
            "8\n",
            "9\n"
          ],
          "name": "stdout"
        }
      ]
    },
    {
      "cell_type": "code",
      "metadata": {
        "id": "CZEH2affY7k1"
      },
      "source": [
        "#python is zero indexed.\n",
        "#make sure notebook can run all without problem. Otherwise is a lostt point for exams evaluation"
      ],
      "execution_count": null,
      "outputs": []
    },
    {
      "cell_type": "code",
      "metadata": {
        "id": "2qHS05dNZ6gz"
      },
      "source": [
        ""
      ],
      "execution_count": null,
      "outputs": []
    },
    {
      "cell_type": "markdown",
      "metadata": {
        "id": "lY0JfrkTaRPF"
      },
      "source": [
        "# Variable containers"
      ]
    },
    {
      "cell_type": "code",
      "metadata": {
        "colab": {
          "base_uri": "https://localhost:8080/"
        },
        "id": "DOu1mUMZaUtP",
        "outputId": "950dc5c7-231c-4c39-d12b-1e6a9eaee94c"
      },
      "source": [
        "myList = [0, 1, 3, \"hello\", 3.3]\n",
        "myList"
      ],
      "execution_count": null,
      "outputs": [
        {
          "output_type": "execute_result",
          "data": {
            "text/plain": [
              "[0, 1, 3, 'hello', 3.3]"
            ]
          },
          "metadata": {
            "tags": []
          },
          "execution_count": 18
        }
      ]
    },
    {
      "cell_type": "code",
      "metadata": {
        "colab": {
          "base_uri": "https://localhost:8080/"
        },
        "id": "DFB-kD9MadH6",
        "outputId": "e33bcbc6-113e-4e0d-dfa1-1448735e0ca7"
      },
      "source": [
        "type(myList)"
      ],
      "execution_count": null,
      "outputs": [
        {
          "output_type": "execute_result",
          "data": {
            "text/plain": [
              "list"
            ]
          },
          "metadata": {
            "tags": []
          },
          "execution_count": 20
        }
      ]
    },
    {
      "cell_type": "code",
      "metadata": {
        "colab": {
          "base_uri": "https://localhost:8080/"
        },
        "id": "yqsxn_ysapci",
        "outputId": "61308207-1ff9-4c00-c073-1d709d44651a"
      },
      "source": [
        "myList[0]"
      ],
      "execution_count": null,
      "outputs": [
        {
          "output_type": "execute_result",
          "data": {
            "text/plain": [
              "0"
            ]
          },
          "metadata": {
            "tags": []
          },
          "execution_count": 22
        }
      ]
    },
    {
      "cell_type": "code",
      "metadata": {
        "colab": {
          "base_uri": "https://localhost:8080/",
          "height": 35
        },
        "id": "xHQeeFPma7Vd",
        "outputId": "aeaa203c-d1bd-41f0-beb0-84c9694d3002"
      },
      "source": [
        "myList[3]"
      ],
      "execution_count": null,
      "outputs": [
        {
          "output_type": "execute_result",
          "data": {
            "application/vnd.google.colaboratory.intrinsic+json": {
              "type": "string"
            },
            "text/plain": [
              "'hello'"
            ]
          },
          "metadata": {
            "tags": []
          },
          "execution_count": 24
        }
      ]
    },
    {
      "cell_type": "code",
      "metadata": {
        "colab": {
          "base_uri": "https://localhost:8080/"
        },
        "id": "sjmafKmobAsq",
        "outputId": "8697e7b2-1027-40b0-ab11-f21ee32d54f3"
      },
      "source": [
        "myList[-1]"
      ],
      "execution_count": null,
      "outputs": [
        {
          "output_type": "execute_result",
          "data": {
            "text/plain": [
              "3.3"
            ]
          },
          "metadata": {
            "tags": []
          },
          "execution_count": 28
        }
      ]
    },
    {
      "cell_type": "code",
      "metadata": {
        "colab": {
          "base_uri": "https://localhost:8080/",
          "height": 35
        },
        "id": "4gflxauzbGHn",
        "outputId": "0c3cb85d-3b05-41f4-9992-622032fc47ea"
      },
      "source": [
        "stringVariable[-1]"
      ],
      "execution_count": null,
      "outputs": [
        {
          "output_type": "execute_result",
          "data": {
            "application/vnd.google.colaboratory.intrinsic+json": {
              "type": "string"
            },
            "text/plain": [
              "'!'"
            ]
          },
          "metadata": {
            "tags": []
          },
          "execution_count": 31
        }
      ]
    },
    {
      "cell_type": "code",
      "metadata": {
        "colab": {
          "base_uri": "https://localhost:8080/"
        },
        "id": "v4Z1spVNbNNl",
        "outputId": "9b957f3b-4e1b-40ac-b627-6c8cd123c198"
      },
      "source": [
        "print(\"here I am in Parma but I am stuck in an apprartment due to the lockdown \" +\n",
        "      \"and I don't like it\")"
      ],
      "execution_count": null,
      "outputs": [
        {
          "output_type": "stream",
          "text": [
            "here I am in Parma but I am stuck in an apprartment due to the lockdown and I don't like it\n"
          ],
          "name": "stdout"
        }
      ]
    },
    {
      "cell_type": "code",
      "metadata": {
        "colab": {
          "base_uri": "https://localhost:8080/"
        },
        "id": "VeDgj4fHbsUw",
        "outputId": "0e52087c-679f-433f-cad2-c02695b288ce"
      },
      "source": [
        "print(myList +\n",
        "      myList)"
      ],
      "execution_count": null,
      "outputs": [
        {
          "output_type": "stream",
          "text": [
            "[0, 1, 3, 'hello', 3.3, 0, 1, 3, 'hello', 3.3]\n"
          ],
          "name": "stdout"
        }
      ]
    },
    {
      "cell_type": "code",
      "metadata": {
        "colab": {
          "base_uri": "https://localhost:8080/"
        },
        "id": "iI3EnxCYcAqr",
        "outputId": "c43526a8-c1b3-4842-a8ec-411c5a3f0b7e"
      },
      "source": [
        "tmplist = []\n",
        "a = 0\n",
        "while a**2 < 300:\n",
        "  a = a+1\n",
        "  tmpList.append(a**2)\n",
        "tmplist"
      ],
      "execution_count": null,
      "outputs": [
        {
          "output_type": "execute_result",
          "data": {
            "text/plain": [
              "[]"
            ]
          },
          "metadata": {
            "tags": []
          },
          "execution_count": 45
        }
      ]
    },
    {
      "cell_type": "markdown",
      "metadata": {
        "id": "Fezsm4mxcMu8"
      },
      "source": [
        "list are really useful cause the can contain hybrid types an because the do not need to be allocated memory before they are filled so I can append things on the fly"
      ]
    },
    {
      "cell_type": "markdown",
      "metadata": {
        "id": "W4eDfpCHc1DP"
      },
      "source": [
        "list are also extremely computationally inefficient"
      ]
    },
    {
      "cell_type": "code",
      "metadata": {
        "id": "5qWaLq7bdZU5"
      },
      "source": [
        "dictVariable = {\"keyInt\": 0,\n",
        "                \"keyFloat\": 0.3,\n",
        "                \"keyString\": \"I'm a string\",\n",
        "                \"keyDict\": {} }\n",
        "              "
      ],
      "execution_count": null,
      "outputs": []
    },
    {
      "cell_type": "code",
      "metadata": {
        "colab": {
          "base_uri": "https://localhost:8080/"
        },
        "id": "JWzwKJ6Ud9tG",
        "outputId": "d388b0e6-3b05-456f-ab0e-21751dc2bfd4"
      },
      "source": [
        "dictVariable #python print dictVariable in an alphabetical order"
      ],
      "execution_count": null,
      "outputs": [
        {
          "output_type": "execute_result",
          "data": {
            "text/plain": [
              "{'keyDict': {}, 'keyFloat': 0.3, 'keyInt': 0, 'keyString': \"I'm a string\"}"
            ]
          },
          "metadata": {
            "tags": []
          },
          "execution_count": 53
        }
      ]
    },
    {
      "cell_type": "code",
      "metadata": {
        "id": "lPBDax-0d_m3"
      },
      "source": [
        "dictVariable = {\"keyInt\": 0,\n",
        "                \"keyFloat\": 0.3,\n",
        "                \"keyList\": [],\n",
        "                \"keyDict\": {} }"
      ],
      "execution_count": null,
      "outputs": []
    },
    {
      "cell_type": "code",
      "metadata": {
        "colab": {
          "base_uri": "https://localhost:8080/"
        },
        "id": "ANOzC1hzebhc",
        "outputId": "e1b599a1-912f-4317-8383-3cb4d2f1e92c"
      },
      "source": [
        "dictVariable[\"keyList\"].append(0)\n",
        "dictVariable"
      ],
      "execution_count": null,
      "outputs": [
        {
          "output_type": "execute_result",
          "data": {
            "text/plain": [
              "{'keyDict': {}, 'keyFloat': 0.3, 'keyInt': 0, 'keyList': [0]}"
            ]
          },
          "metadata": {
            "tags": []
          },
          "execution_count": 61
        }
      ]
    },
    {
      "cell_type": "code",
      "metadata": {
        "colab": {
          "base_uri": "https://localhost:8080/",
          "height": 35
        },
        "id": "kd0GgMojeiJL",
        "outputId": "11484d7f-6687-478d-f110-18888db0a8ac"
      },
      "source": [
        "#string have a lot attributes\n",
        "stringVariable.capitalize()\n",
        "# a method is a technical word wich operate in place, and don't modify the object"
      ],
      "execution_count": null,
      "outputs": [
        {
          "output_type": "execute_result",
          "data": {
            "application/vnd.google.colaboratory.intrinsic+json": {
              "type": "string"
            },
            "text/plain": [
              "'Hello!'"
            ]
          },
          "metadata": {
            "tags": []
          },
          "execution_count": 63
        }
      ]
    },
    {
      "cell_type": "code",
      "metadata": {
        "colab": {
          "base_uri": "https://localhost:8080/",
          "height": 35
        },
        "id": "VWaclCL3fhP1",
        "outputId": "22b23dc0-5aca-46fc-eab3-57f9ab4748ff"
      },
      "source": [
        "stringVariable"
      ],
      "execution_count": null,
      "outputs": [
        {
          "output_type": "execute_result",
          "data": {
            "application/vnd.google.colaboratory.intrinsic+json": {
              "type": "string"
            },
            "text/plain": [
              "'hello!'"
            ]
          },
          "metadata": {
            "tags": []
          },
          "execution_count": 64
        }
      ]
    },
    {
      "cell_type": "code",
      "metadata": {
        "colab": {
          "base_uri": "https://localhost:8080/"
        },
        "id": "rgpf8r1mgB6k",
        "outputId": "a6cd2727-10c4-42cb-98ca-16b84fcb938b"
      },
      "source": [
        "print(\"Hello 'you' \")"
      ],
      "execution_count": null,
      "outputs": [
        {
          "output_type": "stream",
          "text": [
            "Hello 'you' \n"
          ],
          "name": "stdout"
        }
      ]
    },
    {
      "cell_type": "code",
      "metadata": {
        "id": "VH1kXl35gWlW"
      },
      "source": [
        ""
      ],
      "execution_count": null,
      "outputs": []
    },
    {
      "cell_type": "markdown",
      "metadata": {
        "id": "AxVKgvV_iQSQ"
      },
      "source": [
        "# Imported Variables"
      ]
    },
    {
      "cell_type": "code",
      "metadata": {
        "id": "kI2C-dpViU1p"
      },
      "source": [
        "#ingest a libraries\n",
        "import numpy"
      ],
      "execution_count": null,
      "outputs": []
    },
    {
      "cell_type": "code",
      "metadata": {
        "colab": {
          "base_uri": "https://localhost:8080/"
        },
        "id": "bfMjcX17idtj",
        "outputId": "61233b0f-7a79-4a2d-f3fd-a38f8e6597f9"
      },
      "source": [
        "numpy.abs(-3)"
      ],
      "execution_count": null,
      "outputs": [
        {
          "output_type": "execute_result",
          "data": {
            "text/plain": [
              "3"
            ]
          },
          "metadata": {
            "tags": []
          },
          "execution_count": 69
        }
      ]
    },
    {
      "cell_type": "code",
      "metadata": {
        "colab": {
          "base_uri": "https://localhost:8080/"
        },
        "id": "WQblZGPJiwg-",
        "outputId": "b67bc294-9ed5-482d-c582-1a1f33187887"
      },
      "source": [
        "import numpy as np #I giva a name to the library\n",
        "np.abs(-3)"
      ],
      "execution_count": null,
      "outputs": [
        {
          "output_type": "execute_result",
          "data": {
            "text/plain": [
              "3"
            ]
          },
          "metadata": {
            "tags": []
          },
          "execution_count": 70
        }
      ]
    },
    {
      "cell_type": "code",
      "metadata": {
        "id": "0KciWFq4jBwL"
      },
      "source": [
        "#if i want to import only one thing from a library, I can do:\n",
        "from matplotlib import pylab as plt"
      ],
      "execution_count": null,
      "outputs": []
    },
    {
      "cell_type": "code",
      "metadata": {
        "colab": {
          "base_uri": "https://localhost:8080/",
          "height": 265
        },
        "id": "-lBErg9JjVWa",
        "outputId": "849587ba-4f87-4b8e-b734-52d36d8cf2a1"
      },
      "source": [
        "plt.plot(range(10), np.zeros(10));"
      ],
      "execution_count": null,
      "outputs": [
        {
          "output_type": "display_data",
          "data": {
            "image/png": "[encoded data removed]",
            "text/plain": [
              "<Figure size 432x288 with 1 Axes>"
            ]
          },
          "metadata": {
            "tags": [],
            "needs_background": "light"
          }
        }
      ]
    },
    {
      "cell_type": "code",
      "metadata": {
        "colab": {
          "base_uri": "https://localhost:8080/"
        },
        "id": "gDB2D_CZjgru",
        "outputId": "d6ae9e47-9fe1-46e6-9f8a-1c4b522067c2"
      },
      "source": [
        "abs(-10)"
      ],
      "execution_count": null,
      "outputs": [
        {
          "output_type": "execute_result",
          "data": {
            "text/plain": [
              "10"
            ]
          },
          "metadata": {
            "tags": []
          },
          "execution_count": 83
        }
      ]
    },
    {
      "cell_type": "markdown",
      "metadata": {
        "id": "XJLGzUw0jr8C"
      },
      "source": [
        "#never import as\n",
        "# from something import * \n",
        "# to preserve the namespace"
      ]
    },
    {
      "cell_type": "code",
      "metadata": {
        "colab": {
          "base_uri": "https://localhost:8080/"
        },
        "id": "nCOlnBqZkdV5",
        "outputId": "f0cd1a11-c81c-4475-e450-baffb8ba047a"
      },
      "source": [
        "np.int16(3) "
      ],
      "execution_count": null,
      "outputs": [
        {
          "output_type": "execute_result",
          "data": {
            "text/plain": [
              "3"
            ]
          },
          "metadata": {
            "tags": []
          },
          "execution_count": 85
        }
      ]
    },
    {
      "cell_type": "code",
      "metadata": {
        "colab": {
          "base_uri": "https://localhost:8080/"
        },
        "id": "pMuqklwKkq5D",
        "outputId": "9ff8f1ac-16e3-4bb2-e777-108273d49811"
      },
      "source": [
        "np.uint8(3) "
      ],
      "execution_count": null,
      "outputs": [
        {
          "output_type": "execute_result",
          "data": {
            "text/plain": [
              "3"
            ]
          },
          "metadata": {
            "tags": []
          },
          "execution_count": 87
        }
      ]
    },
    {
      "cell_type": "code",
      "metadata": {
        "colab": {
          "base_uri": "https://localhost:8080/"
        },
        "id": "Z3qaK1MSk1fY",
        "outputId": "dc3da2a4-b842-4758-aea0-eb87002df20d"
      },
      "source": [
        "np.uint8(256) #255 è il numero puù grande che posso scrivere con 8 bit, senza il segno. \"u\" sta per \"unsigned\""
      ],
      "execution_count": null,
      "outputs": [
        {
          "output_type": "execute_result",
          "data": {
            "text/plain": [
              "0"
            ]
          },
          "metadata": {
            "tags": []
          },
          "execution_count": 89
        }
      ]
    },
    {
      "cell_type": "code",
      "metadata": {
        "id": "XZM_9V_Dk8SF"
      },
      "source": [
        "npuint8 = np.uint8(256)"
      ],
      "execution_count": null,
      "outputs": []
    },
    {
      "cell_type": "code",
      "metadata": {
        "colab": {
          "base_uri": "https://localhost:8080/"
        },
        "id": "fj3fQQ3AlaG7",
        "outputId": "f95f12fb-7194-4e80-aa7d-3a687f77bf58"
      },
      "source": [
        "npuint8.dtype #dtype is a method"
      ],
      "execution_count": null,
      "outputs": [
        {
          "output_type": "execute_result",
          "data": {
            "text/plain": [
              "dtype('uint8')"
            ]
          },
          "metadata": {
            "tags": []
          },
          "execution_count": 91
        }
      ]
    },
    {
      "cell_type": "code",
      "metadata": {
        "colab": {
          "base_uri": "https://localhost:8080/"
        },
        "id": "oUdjIe1Olcul",
        "outputId": "16540df9-f39f-45bc-acae-a9a5e6bb6b10"
      },
      "source": [
        "#equivalent to\n",
        "type(npuint8) #but type are attribute"
      ],
      "execution_count": null,
      "outputs": [
        {
          "output_type": "execute_result",
          "data": {
            "text/plain": [
              "numpy.uint8"
            ]
          },
          "metadata": {
            "tags": []
          },
          "execution_count": 93
        }
      ]
    },
    {
      "cell_type": "code",
      "metadata": {
        "colab": {
          "base_uri": "https://localhost:8080/"
        },
        "id": "dFqKZjM-lpm1",
        "outputId": "ff42caa1-1cad-44ed-d48b-e674a8ba253c"
      },
      "source": [
        "np.array([intVariable, floatVariable, 6]) #al variable became float"
      ],
      "execution_count": null,
      "outputs": [
        {
          "output_type": "execute_result",
          "data": {
            "text/plain": [
              "array([3. , 3.3, 6. ])"
            ]
          },
          "metadata": {
            "tags": []
          },
          "execution_count": 94
        }
      ]
    },
    {
      "cell_type": "code",
      "metadata": {
        "colab": {
          "base_uri": "https://localhost:8080/"
        },
        "id": "pMJeVzStl18N",
        "outputId": "85c3a675-4ec0-4e05-f8aa-bd427593ef96"
      },
      "source": [
        "myList"
      ],
      "execution_count": null,
      "outputs": [
        {
          "output_type": "execute_result",
          "data": {
            "text/plain": [
              "[0, 1, 3, 'hello', 3.3]"
            ]
          },
          "metadata": {
            "tags": []
          },
          "execution_count": 95
        }
      ]
    },
    {
      "cell_type": "code",
      "metadata": {
        "colab": {
          "base_uri": "https://localhost:8080/"
        },
        "id": "I0VOIVC7mKKc",
        "outputId": "c0c17875-9077-4a61-cf82-66a9c9293b5d"
      },
      "source": [
        "np.array(myList)"
      ],
      "execution_count": null,
      "outputs": [
        {
          "output_type": "execute_result",
          "data": {
            "text/plain": [
              "array(['0', '1', '3', 'hello', '3.3'], dtype='<U21')"
            ]
          },
          "metadata": {
            "tags": []
          },
          "execution_count": 96
        }
      ]
    },
    {
      "cell_type": "code",
      "metadata": {
        "colab": {
          "base_uri": "https://localhost:8080/"
        },
        "id": "xmOvwyYgmO27",
        "outputId": "425ab406-d721-47e2-a618-a3322715c076"
      },
      "source": [
        "np.ones(75)"
      ],
      "execution_count": null,
      "outputs": [
        {
          "output_type": "execute_result",
          "data": {
            "text/plain": [
              "array([1., 1., 1., 1., 1., 1., 1., 1., 1., 1., 1., 1., 1., 1., 1., 1., 1.,\n",
              "       1., 1., 1., 1., 1., 1., 1., 1., 1., 1., 1., 1., 1., 1., 1., 1., 1.,\n",
              "       1., 1., 1., 1., 1., 1., 1., 1., 1., 1., 1., 1., 1., 1., 1., 1., 1.,\n",
              "       1., 1., 1., 1., 1., 1., 1., 1., 1., 1., 1., 1., 1., 1., 1., 1., 1.,\n",
              "       1., 1., 1., 1., 1., 1., 1.])"
            ]
          },
          "metadata": {
            "tags": []
          },
          "execution_count": 99
        }
      ]
    },
    {
      "cell_type": "code",
      "metadata": {
        "colab": {
          "base_uri": "https://localhost:8080/"
        },
        "id": "IWXGo8pFmd48",
        "outputId": "a553dc06-6f5d-4826-d8e5-07e65593de71"
      },
      "source": [
        "np.empty(75)"
      ],
      "execution_count": null,
      "outputs": [
        {
          "output_type": "execute_result",
          "data": {
            "text/plain": [
              "array([1., 1., 1., 1., 1., 1., 1., 1., 1., 1., 1., 1., 1., 1., 1., 1., 1.,\n",
              "       1., 1., 1., 1., 1., 1., 1., 1., 1., 1., 1., 1., 1., 1., 1., 1., 1.,\n",
              "       1., 1., 1., 1., 1., 1., 1., 1., 1., 1., 1., 1., 1., 1., 1., 1., 1.,\n",
              "       1., 1., 1., 1., 1., 1., 1., 1., 1., 1., 1., 1., 1., 1., 1., 1., 1.,\n",
              "       1., 1., 1., 1., 1., 1., 1.])"
            ]
          },
          "metadata": {
            "tags": []
          },
          "execution_count": 100
        }
      ]
    },
    {
      "cell_type": "code",
      "metadata": {
        "colab": {
          "base_uri": "https://localhost:8080/"
        },
        "id": "IOqjrg_Imn_z",
        "outputId": "7198413d-17c9-43d6-c44f-f9422aff2637"
      },
      "source": [
        "np.zeros(75)"
      ],
      "execution_count": null,
      "outputs": [
        {
          "output_type": "execute_result",
          "data": {
            "text/plain": [
              "array([0., 0., 0., 0., 0., 0., 0., 0., 0., 0., 0., 0., 0., 0., 0., 0., 0.,\n",
              "       0., 0., 0., 0., 0., 0., 0., 0., 0., 0., 0., 0., 0., 0., 0., 0., 0.,\n",
              "       0., 0., 0., 0., 0., 0., 0., 0., 0., 0., 0., 0., 0., 0., 0., 0., 0.,\n",
              "       0., 0., 0., 0., 0., 0., 0., 0., 0., 0., 0., 0., 0., 0., 0., 0., 0.,\n",
              "       0., 0., 0., 0., 0., 0., 0.])"
            ]
          },
          "metadata": {
            "tags": []
          },
          "execution_count": 101
        }
      ]
    },
    {
      "cell_type": "code",
      "metadata": {
        "colab": {
          "base_uri": "https://localhost:8080/"
        },
        "id": "Ec53XOJGmtE4",
        "outputId": "066baaa9-d3f5-4ada-b4d6-f23e74b65e79"
      },
      "source": [
        "np.empty(75)"
      ],
      "execution_count": null,
      "outputs": [
        {
          "output_type": "execute_result",
          "data": {
            "text/plain": [
              "array([0., 0., 0., 0., 0., 0., 0., 0., 0., 0., 0., 0., 0., 0., 0., 0., 0.,\n",
              "       0., 0., 0., 0., 0., 0., 0., 0., 0., 0., 0., 0., 0., 0., 0., 0., 0.,\n",
              "       0., 0., 0., 0., 0., 0., 0., 0., 0., 0., 0., 0., 0., 0., 0., 0., 0.,\n",
              "       0., 0., 0., 0., 0., 0., 0., 0., 0., 0., 0., 0., 0., 0., 0., 0., 0.,\n",
              "       0., 0., 0., 0., 0., 0., 0.])"
            ]
          },
          "metadata": {
            "tags": []
          },
          "execution_count": 102
        }
      ]
    },
    {
      "cell_type": "code",
      "metadata": {
        "id": "jmQ0S5Jvmtr6"
      },
      "source": [
        "tmparray = np.zeros(75, int).dtype"
      ],
      "execution_count": null,
      "outputs": []
    },
    {
      "cell_type": "code",
      "metadata": {
        "colab": {
          "base_uri": "https://localhost:8080/"
        },
        "id": "qWzlJXGzmy_b",
        "outputId": "0c14d1f8-ecb6-421f-b1e8-15a043dc6d3a"
      },
      "source": [
        "myList[0:1] #gives me the element starting from posotion 0 to posotion 1, without the last position,\n",
        "            # so element in 1 place, is not returned"
      ],
      "execution_count": null,
      "outputs": [
        {
          "output_type": "execute_result",
          "data": {
            "text/plain": [
              "[0]"
            ]
          },
          "metadata": {
            "tags": []
          },
          "execution_count": 107
        }
      ]
    },
    {
      "cell_type": "code",
      "metadata": {
        "id": "fJ9dK2sTm1F0"
      },
      "source": [
        "zerosarray = np.zeros(7, int)\n",
        "onesarray = np.ones(7, float)"
      ],
      "execution_count": null,
      "outputs": []
    },
    {
      "cell_type": "code",
      "metadata": {
        "colab": {
          "base_uri": "https://localhost:8080/"
        },
        "id": "3AelZXnhnbRU",
        "outputId": "52c11813-46ad-48c4-d3a3-b212ed79c1ad"
      },
      "source": [
        "zerosarray * onesarray #product in this way is more efficient than a for loop"
      ],
      "execution_count": null,
      "outputs": [
        {
          "output_type": "execute_result",
          "data": {
            "text/plain": [
              "array([0., 0., 0., 0., 0., 0., 0.])"
            ]
          },
          "metadata": {
            "tags": []
          },
          "execution_count": 109
        }
      ]
    },
    {
      "cell_type": "code",
      "metadata": {
        "id": "Ye1XVQWondp-"
      },
      "source": [
        "anotherOnesarray = np.ones(10, float)"
      ],
      "execution_count": null,
      "outputs": []
    },
    {
      "cell_type": "code",
      "metadata": {
        "id": "tTrmYppMnswL"
      },
      "source": [
        "#zerosarray * anotherOnesarray  #this doesnt wokr because array must be of the same dimension"
      ],
      "execution_count": null,
      "outputs": []
    },
    {
      "cell_type": "code",
      "metadata": {
        "colab": {
          "base_uri": "https://localhost:8080/"
        },
        "id": "nBUC0IUjnu-v",
        "outputId": "6b8eab16-4e7e-4244-deee-a603d242041e"
      },
      "source": [
        "list(range(10)) #create a consecutive number "
      ],
      "execution_count": null,
      "outputs": [
        {
          "output_type": "execute_result",
          "data": {
            "text/plain": [
              "[0, 1, 2, 3, 4, 5, 6, 7, 8, 9]"
            ]
          },
          "metadata": {
            "tags": []
          },
          "execution_count": 115
        }
      ]
    },
    {
      "cell_type": "code",
      "metadata": {
        "colab": {
          "base_uri": "https://localhost:8080/"
        },
        "id": "fIZ3vFUpoB3n",
        "outputId": "de148035-7592-4465-e449-b50387a8711a"
      },
      "source": [
        "np.arange(5, 10., 2)"
      ],
      "execution_count": null,
      "outputs": [
        {
          "output_type": "execute_result",
          "data": {
            "text/plain": [
              "array([5., 7., 9.])"
            ]
          },
          "metadata": {
            "tags": []
          },
          "execution_count": 116
        }
      ]
    },
    {
      "cell_type": "code",
      "metadata": {
        "id": "MBL8vHSuoTfR"
      },
      "source": [
        "one1DArray = np.random.rand(10)\n",
        "one2DArray = np.random.rand(10, 20)"
      ],
      "execution_count": null,
      "outputs": []
    },
    {
      "cell_type": "code",
      "metadata": {
        "colab": {
          "base_uri": "https://localhost:8080/"
        },
        "id": "0XOjiJW1og-O",
        "outputId": "c5113462-d038-49fe-bdb4-336761f2f7c2"
      },
      "source": [
        "np.random.rand(10, 20).shape"
      ],
      "execution_count": null,
      "outputs": [
        {
          "output_type": "execute_result",
          "data": {
            "text/plain": [
              "(10, 20)"
            ]
          },
          "metadata": {
            "tags": []
          },
          "execution_count": 121
        }
      ]
    },
    {
      "cell_type": "code",
      "metadata": {
        "colab": {
          "base_uri": "https://localhost:8080/"
        },
        "id": "CtxKckBqotb_",
        "outputId": "02620a4d-b687-434c-dae2-f2dc05a38798"
      },
      "source": [
        "one1DArray[1:3]"
      ],
      "execution_count": null,
      "outputs": [
        {
          "output_type": "execute_result",
          "data": {
            "text/plain": [
              "array([0.24354003, 0.02416411])"
            ]
          },
          "metadata": {
            "tags": []
          },
          "execution_count": 126
        }
      ]
    },
    {
      "cell_type": "code",
      "metadata": {
        "colab": {
          "base_uri": "https://localhost:8080/"
        },
        "id": "mkG4RCGIpK1X",
        "outputId": "ca3907d2-fca6-4f5b-dbcd-46d2a5c2d979"
      },
      "source": [
        "one2DArray[1:3] #extract the second and the third row from one2DArray"
      ],
      "execution_count": null,
      "outputs": [
        {
          "output_type": "execute_result",
          "data": {
            "text/plain": [
              "array([[0.03685933, 0.28911741, 0.26210333, 0.31052021, 0.22241759,\n",
              "        0.22514016, 0.56550816, 0.92326527, 0.30087659, 0.70082465,\n",
              "        0.69407075, 0.66555177, 0.65422652, 0.70929187, 0.42970744,\n",
              "        0.98306996, 0.97650785, 0.34809229, 0.90774977, 0.92342368],\n",
              "       [0.65600866, 0.22783134, 0.17974084, 0.87521669, 0.69834472,\n",
              "        0.26194399, 0.35659377, 0.46069306, 0.07411493, 0.03049812,\n",
              "        0.01782442, 0.82822921, 0.07469305, 0.50167146, 0.24990007,\n",
              "        0.29656385, 0.14864875, 0.06892399, 0.55953115, 0.63501876]])"
            ]
          },
          "metadata": {
            "tags": []
          },
          "execution_count": 128
        }
      ]
    },
    {
      "cell_type": "code",
      "metadata": {
        "colab": {
          "base_uri": "https://localhost:8080/"
        },
        "id": "xiEuPTIDpQfB",
        "outputId": "9a91e6f6-8a30-4035-df59-d0b4404a2c99"
      },
      "source": [
        "one2DArray[1:3, 0]"
      ],
      "execution_count": null,
      "outputs": [
        {
          "output_type": "execute_result",
          "data": {
            "text/plain": [
              "array([0.03685933, 0.65600866])"
            ]
          },
          "metadata": {
            "tags": []
          },
          "execution_count": 129
        }
      ]
    },
    {
      "cell_type": "code",
      "metadata": {
        "id": "aBj52PsmpaY_"
      },
      "source": [
        ""
      ],
      "execution_count": null,
      "outputs": []
    },
    {
      "cell_type": "markdown",
      "metadata": {
        "id": "BmhG0Nv8ptqn"
      },
      "source": [
        "# Function"
      ]
    },
    {
      "cell_type": "code",
      "metadata": {
        "id": "ZzzKNxgPpxHf"
      },
      "source": [
        "def myfunction(a): #define a function\n",
        "  print(\"the variable you passed is \", a)\n",
        "  return 1 \n",
        "  #typical return values for \"that's ok\", -1 for error, 0 for nothing to report "
      ],
      "execution_count": null,
      "outputs": []
    },
    {
      "cell_type": "code",
      "metadata": {
        "colab": {
          "base_uri": "https://localhost:8080/"
        },
        "id": "OMWOeT32qO9j",
        "outputId": "b0d4a5bc-a661-48f9-bbe9-9f31d9bb846b"
      },
      "source": [
        "myfunction(\"hello!\");\n",
        "myfunction(intVariable);           "
      ],
      "execution_count": null,
      "outputs": [
        {
          "output_type": "stream",
          "text": [
            "the variable you passed is  hello!\n",
            "the variable you passed is  3\n"
          ],
          "name": "stdout"
        }
      ]
    },
    {
      "cell_type": "markdown",
      "metadata": {
        "id": "MaRujOJmqbY3"
      },
      "source": [
        "  EXERCISE\n",
        "\n",
        "DEFINE A FUNCTION THAT IDENTIFY THE WORD OR A STING IS PALINDROME.\n",
        "IF IT IS, PRINT \"YES IT IS A PALINDROME\" AND THEN PRINT THE UNIQUE SUBSET OF THE WORD. (L'ESERCIZIO SVOLTO DALLA PROF È SUL NOTEBOOK AL LINK MESSO IN ALTO A QUESTA LEZIONE)\n",
        "\n",
        "QUESTO FATTO SOTTO È SBAGLIATO"
      ]
    },
    {
      "cell_type": "code",
      "metadata": {
        "colab": {
          "base_uri": "https://localhost:8080/"
        },
        "id": "9tDp74VQqhyP",
        "outputId": "8b5099b8-414f-4247-fbef-fb266276d68d"
      },
      "source": [
        "myList[::-1]\n",
        "      "
      ],
      "execution_count": null,
      "outputs": [
        {
          "output_type": "execute_result",
          "data": {
            "text/plain": [
              "[3.3, 'hello', 3, 1, 0]"
            ]
          },
          "metadata": {
            "tags": []
          },
          "execution_count": 140
        }
      ]
    },
    {
      "cell_type": "code",
      "metadata": {
        "id": "pSIdIZHCqvrp"
      },
      "source": [
        "def palindrome(a):\n",
        "   stringV = \"a\"\n",
        "   for i in range(len(stringV)):\n",
        "      if (stringV[i] == stringV[::-i]):\n",
        "        print(\"palindrome\")\n",
        "      else:\n",
        "        print(\"not palindrome\")\n",
        "   return 1\n"
      ],
      "execution_count": null,
      "outputs": []
    },
    {
      "cell_type": "code",
      "metadata": {
        "colab": {
          "base_uri": "https://localhost:8080/",
          "height": 289
        },
        "id": "TXjAdHq-sYv2",
        "outputId": "f20d6065-15b1-4bd5-c07f-90fdba50ab26"
      },
      "source": [
        "palindrome(\"anna\");"
      ],
      "execution_count": null,
      "outputs": [
        {
          "output_type": "error",
          "ename": "ValueError",
          "evalue": "ignored",
          "traceback": [
            "\u001b[0;31m---------------------------------------------------------------------------\u001b[0m",
            "\u001b[0;31mValueError\u001b[0m                                Traceback (most recent call last)",
            "\u001b[0;32m<ipython-input-171-8f1faafb7883>\u001b[0m in \u001b[0;36m<module>\u001b[0;34m()\u001b[0m\n\u001b[0;32m----> 1\u001b[0;31m \u001b[0mpalindrome\u001b[0m\u001b[0;34m(\u001b[0m\u001b[0;34m\"anna\"\u001b[0m\u001b[0;34m)\u001b[0m\u001b[0;34m;\u001b[0m\u001b[0;34m\u001b[0m\u001b[0;34m\u001b[0m\u001b[0m\n\u001b[0m",
            "\u001b[0;32m<ipython-input-170-e0686d130f51>\u001b[0m in \u001b[0;36mpalindrome\u001b[0;34m(a)\u001b[0m\n\u001b[1;32m      2\u001b[0m    \u001b[0mstringV\u001b[0m \u001b[0;34m=\u001b[0m \u001b[0;34m\"a\"\u001b[0m\u001b[0;34m\u001b[0m\u001b[0;34m\u001b[0m\u001b[0m\n\u001b[1;32m      3\u001b[0m    \u001b[0;32mfor\u001b[0m \u001b[0mi\u001b[0m \u001b[0;32min\u001b[0m \u001b[0mrange\u001b[0m\u001b[0;34m(\u001b[0m\u001b[0mlen\u001b[0m\u001b[0;34m(\u001b[0m\u001b[0mstringV\u001b[0m\u001b[0;34m)\u001b[0m\u001b[0;34m)\u001b[0m\u001b[0;34m:\u001b[0m\u001b[0;34m\u001b[0m\u001b[0;34m\u001b[0m\u001b[0m\n\u001b[0;32m----> 4\u001b[0;31m       \u001b[0;32mif\u001b[0m \u001b[0;34m(\u001b[0m\u001b[0mstringV\u001b[0m\u001b[0;34m[\u001b[0m\u001b[0mi\u001b[0m\u001b[0;34m]\u001b[0m \u001b[0;34m==\u001b[0m \u001b[0mstringV\u001b[0m\u001b[0;34m[\u001b[0m\u001b[0;34m:\u001b[0m\u001b[0;34m:\u001b[0m\u001b[0;34m-\u001b[0m\u001b[0mi\u001b[0m\u001b[0;34m]\u001b[0m\u001b[0;34m)\u001b[0m\u001b[0;34m:\u001b[0m\u001b[0;34m\u001b[0m\u001b[0;34m\u001b[0m\u001b[0m\n\u001b[0m\u001b[1;32m      5\u001b[0m         \u001b[0mprint\u001b[0m\u001b[0;34m(\u001b[0m\u001b[0;34m\"palindrome\"\u001b[0m\u001b[0;34m)\u001b[0m\u001b[0;34m\u001b[0m\u001b[0;34m\u001b[0m\u001b[0m\n\u001b[1;32m      6\u001b[0m       \u001b[0;32melse\u001b[0m\u001b[0;34m:\u001b[0m\u001b[0;34m\u001b[0m\u001b[0;34m\u001b[0m\u001b[0m\n",
            "\u001b[0;31mValueError\u001b[0m: slice step cannot be zero"
          ]
        }
      ]
    },
    {
      "cell_type": "markdown",
      "metadata": {
        "id": "CGK67cHwtSJX"
      },
      "source": [
        "# ACCEDERE AL FILE PRENDENDOLO DA GOOGLE DRIVE\n",
        "\n",
        "from google.colab import drive"
      ]
    },
    {
      "cell_type": "code",
      "metadata": {
        "colab": {
          "base_uri": "https://localhost:8080/"
        },
        "id": "poU1CmEqv8LB",
        "outputId": "3d0f511e-a9c3-418e-a480-4152f807e0fc"
      },
      "source": [
        "drive.mount(\"/content/drive\") #collego google drive con colab"
      ],
      "execution_count": null,
      "outputs": [
        {
          "output_type": "stream",
          "text": [
            "Mounted at /content/drive\n"
          ],
          "name": "stdout"
        }
      ]
    },
    {
      "cell_type": "code",
      "metadata": {
        "colab": {
          "base_uri": "https://localhost:8080/"
        },
        "id": "vp1PwSFgwVEf",
        "outputId": "297153ee-5b80-4dc5-eec9-560ded0e320e"
      },
      "source": [
        "%ls #posso usare unix command to navigate in my google drive account"
      ],
      "execution_count": null,
      "outputs": [
        {
          "output_type": "stream",
          "text": [
            "ls: cannot access 'dirve': Transport endpoint is not connected\n",
            "\u001b[0m\u001b[01;34mdirve\u001b[0m/  \u001b[01;34mdrive\u001b[0m/  \u001b[01;34msample_data\u001b[0m/\n"
          ],
          "name": "stdout"
        }
      ]
    },
    {
      "cell_type": "code",
      "metadata": {
        "colab": {
          "base_uri": "https://localhost:8080/"
        },
        "id": "NCYSyOHOwuKu",
        "outputId": "f36a19bb-3ef2-4e8b-d844-e05fa5ac3ea1"
      },
      "source": [
        "cd drive"
      ],
      "execution_count": null,
      "outputs": [
        {
          "output_type": "stream",
          "text": [
            "/content/drive\n"
          ],
          "name": "stdout"
        }
      ]
    },
    {
      "cell_type": "code",
      "metadata": {
        "colab": {
          "base_uri": "https://localhost:8080/"
        },
        "id": "nPnhbAcmw2mS",
        "outputId": "536e0785-b513-45c3-fc2f-667a756de854"
      },
      "source": [
        "ls"
      ],
      "execution_count": null,
      "outputs": [
        {
          "output_type": "stream",
          "text": [
            "\u001b[0m\u001b[01;34mMyDrive\u001b[0m/  \u001b[01;34mShareddrives\u001b[0m/\n"
          ],
          "name": "stdout"
        }
      ]
    },
    {
      "cell_type": "code",
      "metadata": {
        "colab": {
          "base_uri": "https://localhost:8080/"
        },
        "id": "YOmwQeXSxB5r",
        "outputId": "e2978585-513a-46fb-ffa3-55a4a5ceab02"
      },
      "source": [
        "cd MyDrive/"
      ],
      "execution_count": null,
      "outputs": [
        {
          "output_type": "stream",
          "text": [
            "/content/drive/MyDrive\n"
          ],
          "name": "stdout"
        }
      ]
    },
    {
      "cell_type": "code",
      "metadata": {
        "colab": {
          "base_uri": "https://localhost:8080/"
        },
        "id": "BYtpsMQ3xDef",
        "outputId": "18ee693d-97d0-4885-a75e-250b480d3d35"
      },
      "source": [
        "ls"
      ],
      "execution_count": null,
      "outputs": [
        {
          "output_type": "stream",
          "text": [
            "'BOZZA LEGGE DI SNELL.gdoc'   Lezione16_050520.mp4   Lezione20_040620.mkv\n",
            "\u001b[0m\u001b[01;34m'Colab Notebooks'\u001b[0m/            Lezione16_210520.mkv   Lezione21_050620.mkv\n",
            " ispalindrome.py              Lezione17_220520.mkv  \u001b[01;34m'_OriginPro 8.5.0 SR1'\u001b[0m/\n",
            " Lezione13_080520.mp4         Lezione18_280520.mkv  'Quaderno di Lab.gdoc'\n",
            " Lezione15_150520.mkv         Lezione19_290520.mkv\n"
          ],
          "name": "stdout"
        }
      ]
    },
    {
      "cell_type": "code",
      "metadata": {
        "id": "k6I85basxEOX"
      },
      "source": [
        "import ispalindrome as ipl"
      ],
      "execution_count": null,
      "outputs": []
    },
    {
      "cell_type": "code",
      "metadata": {
        "colab": {
          "base_uri": "https://localhost:8080/"
        },
        "id": "nrnyhEonxWuA",
        "outputId": "6b425735-31f2-48ea-97ae-f7c027a1dc6e"
      },
      "source": [
        "ls"
      ],
      "execution_count": null,
      "outputs": [
        {
          "output_type": "stream",
          "text": [
            "'BOZZA LEGGE DI SNELL.gdoc'  \u001b[0m\u001b[01;34m'_OriginPro 8.5.0 SR1'\u001b[0m/   \u001b[01;34mPython\u001b[0m/\n",
            "\u001b[01;34m'Colab Notebooks'\u001b[0m/            \u001b[01;34m__pycache__\u001b[0m/            'Quaderno di Lab.gdoc'\n"
          ],
          "name": "stdout"
        }
      ]
    },
    {
      "cell_type": "code",
      "metadata": {
        "colab": {
          "base_uri": "https://localhost:8080/"
        },
        "id": "S3hBzyjjyDG2",
        "outputId": "f860d527-17f2-49ab-e58c-7e70989d0634"
      },
      "source": [
        "cd Python/"
      ],
      "execution_count": null,
      "outputs": [
        {
          "output_type": "stream",
          "text": [
            "/content/drive/My Drive/Python\n"
          ],
          "name": "stdout"
        }
      ]
    },
    {
      "cell_type": "code",
      "metadata": {
        "colab": {
          "base_uri": "https://localhost:8080/"
        },
        "id": "RWHENNa1yE-W",
        "outputId": "08a3750b-4639-458e-944a-8f325b5beb24"
      },
      "source": [
        "ls"
      ],
      "execution_count": null,
      "outputs": [
        {
          "output_type": "stream",
          "text": [
            "ispalindrome.py\n"
          ],
          "name": "stdout"
        }
      ]
    },
    {
      "cell_type": "code",
      "metadata": {
        "colab": {
          "base_uri": "https://localhost:8080/"
        },
        "id": "Qde3tQXoyGSE",
        "outputId": "37e539a6-99c7-40d6-c8a8-68f4e4c39417"
      },
      "source": [
        "ipl.lookForPal(\"Anna\");"
      ],
      "execution_count": null,
      "outputs": [
        {
          "output_type": "stream",
          "text": [
            "Yes its a palindrome An\n"
          ],
          "name": "stdout"
        }
      ]
    },
    {
      "cell_type": "markdown",
      "metadata": {
        "id": "af8sMW74zrKw"
      },
      "source": [
        "# GRABBING A FILE"
      ]
    },
    {
      "cell_type": "code",
      "metadata": {
        "id": "Jj3hP8W-zzGz"
      },
      "source": [
        "# .npy format to store data.   .npy npy arrays"
      ],
      "execution_count": null,
      "outputs": []
    },
    {
      "cell_type": "code",
      "metadata": {
        "colab": {
          "base_uri": "https://localhost:8080/"
        },
        "id": "_2Rh6Xgxz-yK",
        "outputId": "4926bfe4-766d-4a2c-c8e4-420fb61aea27"
      },
      "source": [
        "#starting with a ! tells that Im using unix shell command \n",
        "!curl -O https://raw.githubusercontent.com/fedhere/PyBOOT/master/busBusses.npy\n",
        "!curl -O https://raw.githubusercontent.com/fedhere/PyBOOT/master/busTimeTable.npy\n",
        "\n",
        "#PERCHÈ SE PROVO A METTERE IL LINK DEL MIO GOOGLE DRIVE NON FUNZIONA?\n",
        "#POSSO IMPORTARE IL FILE DAL MIO DRIVE FACENDO import namefile as shortname ??"
      ],
      "execution_count": 295,
      "outputs": [
        {
          "output_type": "stream",
          "text": [
            "  % Total    % Received % Xferd  Average Speed   Time    Time     Time  Current\n",
            "                                 Dload  Upload   Total   Spent    Left  Speed\n",
            "100   240  100   240    0     0   3000      0 --:--:-- --:--:-- --:--:--  3000\n",
            "  % Total    % Received % Xferd  Average Speed   Time    Time     Time  Current\n",
            "                                 Dload  Upload   Total   Spent    Left  Speed\n",
            "100  1680  100  1680    0     0  23013      0 --:--:-- --:--:-- --:--:-- 23013\n"
          ],
          "name": "stdout"
        }
      ]
    },
    {
      "cell_type": "code",
      "metadata": {
        "id": "lmzHaF992NO6"
      },
      "source": [
        "tt = np.load(\"busTimeTable.npy\")"
      ],
      "execution_count": 291,
      "outputs": []
    },
    {
      "cell_type": "code",
      "metadata": {
        "colab": {
          "base_uri": "https://localhost:8080/"
        },
        "id": "ciwUE5_U2f16",
        "outputId": "b114d296-da0d-4cfd-a0ad-4dec4308d0a6"
      },
      "source": [
        "tt.mean(axis=1)"
      ],
      "execution_count": null,
      "outputs": [
        {
          "output_type": "execute_result",
          "data": {
            "text/plain": [
              "array([ 87.07284964,  54.32223729,  54.38554215,  71.21568138,\n",
              "        89.64702147,  71.33018484, 101.28441894,  76.05122622,\n",
              "        73.80479543,  58.25958501,  62.60818564,  83.85318143,\n",
              "        64.91983233,  38.54594242,  61.47842137,  80.33921739,\n",
              "        50.13357402,  54.11684661,  70.86680243,  73.45362679])"
            ]
          },
          "metadata": {
            "tags": []
          },
          "execution_count": 202
        }
      ]
    },
    {
      "cell_type": "code",
      "metadata": {
        "id": "w3ODYeEq3B1l"
      },
      "source": [
        "busses = np.load(\"busBusses.npy\")"
      ],
      "execution_count": 292,
      "outputs": []
    },
    {
      "cell_type": "markdown",
      "metadata": {
        "id": "3allQUDm2YmI"
      },
      "source": [
        "ESERICZIO \n",
        "\n",
        "1.create an array of times of the dat in hour from 1 to 10\n",
        "\n",
        "2.find the bus that on average takes the longes trips\n",
        "\n",
        "3.find the hour of the day when the busses take the longest time"
      ]
    },
    {
      "cell_type": "code",
      "metadata": {
        "colab": {
          "base_uri": "https://localhost:8080/"
        },
        "id": "p9-NPbLO3y9G",
        "outputId": "51499d8c-a23d-4bf0-db57-fc3940521e02"
      },
      "source": [
        "tt.mean()"
      ],
      "execution_count": null,
      "outputs": [
        {
          "output_type": "execute_result",
          "data": {
            "text/plain": [
              "68.88445864008028"
            ]
          },
          "metadata": {
            "tags": []
          },
          "execution_count": 221
        }
      ]
    },
    {
      "cell_type": "code",
      "metadata": {
        "colab": {
          "base_uri": "https://localhost:8080/"
        },
        "id": "GGYxvr0C5cKD",
        "outputId": "ef3bb2cd-8a1d-4fea-f989-6559fcfdebee"
      },
      "source": [
        "tt.mean(axis=0) #mean along one axes --> mean of the hour casue I have 10 element, i.e. the ten hour teachers said"
      ],
      "execution_count": null,
      "outputs": [
        {
          "output_type": "execute_result",
          "data": {
            "text/plain": [
              "array([66.89079118, 71.58962256, 69.06093555, 68.20293716, 68.35553274,\n",
              "       69.88235848, 69.07994486, 69.5488946 , 65.98370986, 70.24985942])"
            ]
          },
          "metadata": {
            "tags": []
          },
          "execution_count": 227
        }
      ]
    },
    {
      "cell_type": "code",
      "metadata": {
        "colab": {
          "base_uri": "https://localhost:8080/"
        },
        "id": "1ybDAfH15krc",
        "outputId": "b98c6239-89a3-4e78-f11f-6581e44d905c"
      },
      "source": [
        "tt.mean(axis=1) #mean along one axes --> mean of the busses"
      ],
      "execution_count": null,
      "outputs": [
        {
          "output_type": "execute_result",
          "data": {
            "text/plain": [
              "array([ 87.07284964,  54.32223729,  54.38554215,  71.21568138,\n",
              "        89.64702147,  71.33018484, 101.28441894,  76.05122622,\n",
              "        73.80479543,  58.25958501,  62.60818564,  83.85318143,\n",
              "        64.91983233,  38.54594242,  61.47842137,  80.33921739,\n",
              "        50.13357402,  54.11684661,  70.86680243,  73.45362679])"
            ]
          },
          "metadata": {
            "tags": []
          },
          "execution_count": 229
        }
      ]
    },
    {
      "cell_type": "code",
      "metadata": {
        "id": "oGTQuKiV6Fu3"
      },
      "source": [
        "ttmmean0 = tt.mean(axis=0)"
      ],
      "execution_count": null,
      "outputs": []
    },
    {
      "cell_type": "code",
      "metadata": {
        "id": "dQHkRSBi6Re6"
      },
      "source": [
        "ttmmean1 = tt.mean(axis=1)"
      ],
      "execution_count": null,
      "outputs": []
    },
    {
      "cell_type": "code",
      "metadata": {
        "colab": {
          "base_uri": "https://localhost:8080/"
        },
        "id": "qaqrW-f76YhK",
        "outputId": "5b9511c9-dff6-4b3a-bcc6-584ae7b1e790"
      },
      "source": [
        "ttmmean0.max()"
      ],
      "execution_count": null,
      "outputs": [
        {
          "output_type": "execute_result",
          "data": {
            "text/plain": [
              "71.58962255653003"
            ]
          },
          "metadata": {
            "tags": []
          },
          "execution_count": 233
        }
      ]
    },
    {
      "cell_type": "code",
      "metadata": {
        "colab": {
          "base_uri": "https://localhost:8080/"
        },
        "id": "z1vA6yc86cIe",
        "outputId": "dc4ab11b-cf49-4115-e7cb-fde5b3b6bf5e"
      },
      "source": [
        "ttmmean1.max()"
      ],
      "execution_count": null,
      "outputs": [
        {
          "output_type": "execute_result",
          "data": {
            "text/plain": [
              "101.28441893639999"
            ]
          },
          "metadata": {
            "tags": []
          },
          "execution_count": 235
        }
      ]
    },
    {
      "cell_type": "markdown",
      "metadata": {
        "id": "TLoub5Qn7SDN"
      },
      "source": [
        "the technique of selecting elemente of an array based on a condition by passing ans arrat (list) of bool variables (True/False) as an index is called \"Broadcasting\"\n",
        "\n",
        "Make sure the shape of the book array is the same as "
      ]
    },
    {
      "cell_type": "code",
      "metadata": {
        "colab": {
          "base_uri": "https://localhost:8080/"
        },
        "id": "9Wc9MhUe6fMu",
        "outputId": "87345854-ff91-48b6-9dd6-4cab7ab7ab12"
      },
      "source": [
        "ttmmean0"
      ],
      "execution_count": null,
      "outputs": [
        {
          "output_type": "execute_result",
          "data": {
            "text/plain": [
              "array([66.89079118, 71.58962256, 69.06093555, 68.20293716, 68.35553274,\n",
              "       69.88235848, 69.07994486, 69.5488946 , 65.98370986, 70.24985942])"
            ]
          },
          "metadata": {
            "tags": []
          },
          "execution_count": 237
        }
      ]
    },
    {
      "cell_type": "code",
      "metadata": {
        "colab": {
          "base_uri": "https://localhost:8080/"
        },
        "id": "06ThrZYT6hOz",
        "outputId": "6f599afd-799a-4828-ee69-8721441c32af"
      },
      "source": [
        "ttmmean0 == ttmmean0.max()"
      ],
      "execution_count": null,
      "outputs": [
        {
          "output_type": "execute_result",
          "data": {
            "text/plain": [
              "array([False,  True, False, False, False, False, False, False, False,\n",
              "       False])"
            ]
          },
          "metadata": {
            "tags": []
          },
          "execution_count": 240
        }
      ]
    },
    {
      "cell_type": "markdown",
      "metadata": {
        "id": "0tN_J6yg7Qx5"
      },
      "source": [
        ""
      ]
    },
    {
      "cell_type": "code",
      "metadata": {
        "colab": {
          "base_uri": "https://localhost:8080/"
        },
        "id": "vefgUzZv6pZZ",
        "outputId": "56c62dc7-edbc-4730-feaa-5069c8278c07"
      },
      "source": [
        "ttmmean0[ttmmean0 == ttmmean0.max()]"
      ],
      "execution_count": null,
      "outputs": [
        {
          "output_type": "execute_result",
          "data": {
            "text/plain": [
              "array([71.58962256])"
            ]
          },
          "metadata": {
            "tags": []
          },
          "execution_count": 244
        }
      ]
    },
    {
      "cell_type": "code",
      "metadata": {
        "id": "pmjaOlra602_"
      },
      "source": [
        ""
      ],
      "execution_count": null,
      "outputs": []
    },
    {
      "cell_type": "markdown",
      "metadata": {
        "id": "dXwXUK2R7npB"
      },
      "source": [
        "# PLOT THING ON PYTHON"
      ]
    },
    {
      "cell_type": "code",
      "metadata": {
        "colab": {
          "base_uri": "https://localhost:8080/"
        },
        "id": "R6fbsK_W7reF",
        "outputId": "1bc0a812-9064-40ef-8c26-1d847ad57294"
      },
      "source": [
        "import pylab as pl\n",
        "%pylab inline"
      ],
      "execution_count": null,
      "outputs": [
        {
          "output_type": "stream",
          "text": [
            "Populating the interactive namespace from numpy and matplotlib\n"
          ],
          "name": "stdout"
        },
        {
          "output_type": "stream",
          "text": [
            "/usr/local/lib/python3.7/dist-packages/IPython/core/magics/pylab.py:161: UserWarning: pylab import has clobbered these variables: ['plt', 'amax']\n",
            "`%matplotlib` prevents importing * from pylab and numpy\n",
            "  \"\\n`%matplotlib` prevents importing * from pylab and numpy\"\n"
          ],
          "name": "stderr"
        }
      ]
    },
    {
      "cell_type": "code",
      "metadata": {
        "colab": {
          "base_uri": "https://localhost:8080/",
          "height": 296
        },
        "id": "a_m0HpG_7uwM",
        "outputId": "1c53eb6b-24eb-4ee4-86da-29a844401c21"
      },
      "source": [
        "plt.plot(tt[0], 'o', alpha=0.5)\n",
        "plt.xlabel('x')\n",
        "plt.ylabel('y')"
      ],
      "execution_count": null,
      "outputs": [
        {
          "output_type": "execute_result",
          "data": {
            "text/plain": [
              "Text(0, 0.5, 'y')"
            ]
          },
          "metadata": {
            "tags": []
          },
          "execution_count": 264
        },
        {
          "output_type": "display_data",
          "data": {
            "image/png": "[encoded data removed]",
            "text/plain": [
              "<Figure size 432x288 with 1 Axes>"
            ]
          },
          "metadata": {
            "tags": [],
            "needs_background": "light"
          }
        }
      ]
    },
    {
      "cell_type": "code",
      "metadata": {
        "colab": {
          "base_uri": "https://localhost:8080/",
          "height": 324
        },
        "id": "BE1gwxsc738J",
        "outputId": "e5d74f40-7d3b-4ee6-8e54-ed6297fe7d40"
      },
      "source": [
        "fig = plt.figure()\n",
        "ax1 = fig.add_subplot(121)\n",
        "ax2 = fig.add_subplot(121)"
      ],
      "execution_count": null,
      "outputs": [
        {
          "output_type": "stream",
          "text": [
            "/usr/local/lib/python3.7/dist-packages/ipykernel_launcher.py:3: MatplotlibDeprecationWarning: Adding an axes using the same arguments as a previous axes currently reuses the earlier instance.  In a future version, a new instance will always be created and returned.  Meanwhile, this warning can be suppressed, and the future behavior ensured, by passing a unique label to each axes instance.\n",
            "  This is separate from the ipykernel package so we can avoid doing imports until\n"
          ],
          "name": "stderr"
        },
        {
          "output_type": "display_data",
          "data": {
            "image/png": "[encoded data removed]",
            "text/plain": [
              "<Figure size 432x288 with 1 Axes>"
            ]
          },
          "metadata": {
            "tags": [],
            "needs_background": "light"
          }
        }
      ]
    },
    {
      "cell_type": "code",
      "metadata": {
        "colab": {
          "base_uri": "https://localhost:8080/"
        },
        "id": "R-AM2Gsf8gPG",
        "outputId": "b68c2eff-102e-465c-9db1-74518fa290cf"
      },
      "source": [
        "import sys\n",
        "# ineed to install pimageio\n",
        "!{sys.executable} -m pip install  --user imageio\n",
        "import imageio\n"
      ],
      "execution_count": null,
      "outputs": [
        {
          "output_type": "stream",
          "text": [
            "Requirement already satisfied: imageio in /usr/local/lib/python3.7/dist-packages (2.4.1)\n",
            "Requirement already satisfied: pillow in /usr/local/lib/python3.7/dist-packages (from imageio) (7.0.0)\n",
            "Requirement already satisfied: numpy in /usr/local/lib/python3.7/dist-packages (from imageio) (1.19.5)\n"
          ],
          "name": "stdout"
        }
      ]
    },
    {
      "cell_type": "code",
      "metadata": {
        "id": "d5cX9Qvd9Aoo"
      },
      "source": [
        ""
      ],
      "execution_count": null,
      "outputs": []
    }
  ]
}