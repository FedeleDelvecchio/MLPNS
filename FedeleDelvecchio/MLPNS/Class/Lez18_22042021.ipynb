{
  "nbformat": 4,
  "nbformat_minor": 0,
  "metadata": {
    "colab": {
      "name": "Lez18 22042021.ipynb",
      "provenance": [],
      "collapsed_sections": [],
      "authorship_tag": "ABX9TyMS7HryWMfY5qRyTj88Fvt/",
      "include_colab_link": true
    },
    "kernelspec": {
      "name": "python3",
      "display_name": "Python 3"
    },
    "language_info": {
      "name": "python"
    }
  },
  "cells": [
    {
      "cell_type": "markdown",
      "metadata": {
        "id": "view-in-github",
        "colab_type": "text"
      },
      "source": [
        "<a href=\"https://colab.research.google.com/github/FedeleDelvecchio/MLPNS/blob/main/FedeleDelvecchio/MLPNS/Class/Lez18_22042021.ipynb\" target=\"_parent\"><img src=\"https://colab.research.google.com/assets/colab-badge.svg\" alt=\"Open In Colab\"/></a>"
      ]
    },
    {
      "cell_type": "markdown",
      "metadata": {
        "id": "6gNQxbh7VHiA"
      },
      "source": [
        "Oggi iniziamo a parlare di deep learnign.\n",
        "\n",
        "**Prima facciamo un esercizio di visualizzazione.**"
      ]
    },
    {
      "cell_type": "markdown",
      "metadata": {
        "id": "e8grEc9OV3Kt"
      },
      "source": [
        "Usiamo i dati dell'higgs boson kaggle challenge e usiamo t-SNE per ridurre lo spazio da dimenisoni molto alte, a 2.\n",
        "\n",
        "T-distributed Special Neighbor Embedding (t-SNE)."
      ]
    },
    {
      "cell_type": "code",
      "metadata": {
        "id": "r-rNspBxYzMM"
      },
      "source": [
        "import pylab as pl"
      ],
      "execution_count": null,
      "outputs": []
    },
    {
      "cell_type": "markdown",
      "metadata": {
        "id": "tj3b_zj8Y1OV"
      },
      "source": [
        "**VAI ALLA LEZIONE 15 PER CONTINUARE L'ESERCIZIO CON GLI HIGGS DATA DI KAGGLE**"
      ]
    },
    {
      "cell_type": "code",
      "metadata": {
        "id": "qPyqwowFY5b-"
      },
      "source": [
        ""
      ],
      "execution_count": null,
      "outputs": []
    }
  ]
}