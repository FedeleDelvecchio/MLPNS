{
  "nbformat": 4,
  "nbformat_minor": 0,
  "metadata": {
    "colab": {
      "name": "Lez1e2 17032021.ipynb",
      "provenance": [],
      "collapsed_sections": [],
      "authorship_tag": "ABX9TyNFfZ2DRgshLNNiEDDFhsXA",
      "include_colab_link": true
    },
    "kernelspec": {
      "name": "python3",
      "display_name": "Python 3"
    }
  },
  "cells": [
    {
      "cell_type": "markdown",
      "metadata": {
        "id": "view-in-github",
        "colab_type": "text"
      },
      "source": [
        "<a href=\"https://colab.research.google.com/github/FedeleDelvecchio/MLPNS/blob/main/Class/Lez1e2_17032021.ipynb\" target=\"_parent\"><img src=\"https://colab.research.google.com/assets/colab-badge.svg\" alt=\"Open In Colab\"/></a>"
      ]
    },
    {
      "cell_type": "markdown",
      "metadata": {
        "id": "VkY4n_K9sB1F"
      },
      "source": [
        "# **LEZIONE 1**"
      ]
    },
    {
      "cell_type": "markdown",
      "metadata": {
        "id": "5DyK8YL0ncvF"
      },
      "source": [
        "Avendo riconsciuto che la maggior parte dei fenomeni scientificia hanno delle stocasticità intrinseche sappiamamo che ogni misurazione è ottenibilie. Però stabiliamo quindi ocn che probabilità posso ottenere un certo valore per la misurazione, in base alle teoria che ho creato. \n",
        "\n",
        "**Quindi da ora in poi parliamo di probabilità.**\n",
        "\n",
        "Per poter dicutere di una teroia bisonga decidere quale è una probabilità troopo piccola di misurare qualcosa per poter dire che la cosa che ho misurato sia consistente con la teoria. Parleremo quindi di:\n",
        "\n",
        "- p-value statistics (cioè se la probabilità è più piccola di e.g. p=0.5 allora dirò che la cosa che ho misurato non è \"vera\")\n",
        "\n",
        "\n",
        "Dal punto di vista del machine learning model questo diventa più complicato. I ML model sono disegnati per fare predizioni o stabilire se c'è una struttura dei dati. Le predizioni sono legate alla falsificabilità, però bisogna capire perchè le predizioni fatte dai modelli sono state fatte: come il modello è arrivato a fare quelle predizioni?\n"
      ]
    },
    {
      "cell_type": "markdown",
      "metadata": {
        "id": "gGQ-Rm7kpRoS"
      },
      "source": [
        "Ricapitolando: non possiamo usare la fasificabilità perchè tutte le misurazioni potrebbero sorgere da stocasticità, ma possiamo parlare di improbabilità dando delle threshold in cui l'improbabilità viene tradotta nella non credibilità della mia teoria. E così possiamo rigettare la teoria.\n",
        "\n",
        "I ML model sono abili per fare predizioni, ma non possono dire perchè è stata predetta una cosa piuttosto che un'altra. Il problema complesso è questo: capire cosa ha usato il modello per fare la predizione per tradurre le motivazioni dal punto di vista fisico.\n",
        "\n",
        "Altro concetto importante:\n",
        "\n",
        "**Reproducibility**: abilità del ricercatore di duplicare dei risultati usando gli stessi materiali usati dal ricercatore originale."
      ]
    },
    {
      "cell_type": "markdown",
      "metadata": {
        "id": "_IBNXR2FsE77"
      },
      "source": [
        "# **LEZIONE 2**"
      ]
    },
    {
      "cell_type": "markdown",
      "metadata": {
        "id": "yfK_ei3Zs2R9"
      },
      "source": [
        "Perchè usiamo Python?\n",
        "\n",
        "Molto leggibile, intuitivo.\n",
        "Ci sono molte librerie **opensource**:\n",
        "\n",
        "- numpy: computational package (broadcasting, slicing, ...)\n",
        "- statsmodel: simulate statistical analysis (descriptvie, linear regression, ...)\n",
        "- sklearn: (machine learning model) contain SVN regressions, linear regressions, trees, clusterings, deeplearning, ...\n",
        "- pandas: manipulating data. Also if data are different types such as date, number,..\n"
      ]
    },
    {
      "cell_type": "markdown",
      "metadata": {
        "id": "XmYsy7kC9_aS"
      },
      "source": [
        "Iniziamo a scrivere le prime cose in python."
      ]
    },
    {
      "cell_type": "code",
      "metadata": {
        "colab": {
          "base_uri": "https://localhost:8080/"
        },
        "id": "YdOyGtVydE4W",
        "outputId": "c7b3cd20-ca7e-4491-ddfe-853e9ebf6cb9"
      },
      "source": [
        "print(\"hello\")"
      ],
      "execution_count": null,
      "outputs": [
        {
          "output_type": "stream",
          "text": [
            "hello\n"
          ],
          "name": "stdout"
        }
      ]
    },
    {
      "cell_type": "markdown",
      "metadata": {
        "id": "xnjLrz-g_TUq"
      },
      "source": [
        "Adesso improtiamo una specifica funzione da uno specifico pacchetto chiamato future con gli underscore perchè è un corre package in python. Un pacchetto è un insieme di funzioni, un pezzo di software.\n",
        "\n",
        "Ho importato due funzioni: print_funztion e la funzione division, che è la normale operaizone di divisone che torna un in intero oun float in base alla verisone di python. Quindi attento alla verisone di python che sto usando quando scrivo codice.\n",
        "\n",
        "\n"
      ]
    },
    {
      "cell_type": "code",
      "metadata": {
        "id": "28Ug-xFKeifn"
      },
      "source": [
        "from __future__ import print_function, division"
      ],
      "execution_count": null,
      "outputs": []
    },
    {
      "cell_type": "code",
      "metadata": {
        "id": "kFSmF0SNeobL"
      },
      "source": [
        "stringVariable = \"hello!\""
      ],
      "execution_count": null,
      "outputs": []
    },
    {
      "cell_type": "code",
      "metadata": {
        "colab": {
          "base_uri": "https://localhost:8080/"
        },
        "id": "i65cXyqnf-ea",
        "outputId": "4eede882-2bd5-4b2f-87dd-86a264b57159"
      },
      "source": [
        "print(stringVariable)"
      ],
      "execution_count": null,
      "outputs": [
        {
          "output_type": "stream",
          "text": [
            "hello!\n"
          ],
          "name": "stdout"
        }
      ]
    },
    {
      "cell_type": "code",
      "metadata": {
        "colab": {
          "base_uri": "https://localhost:8080/"
        },
        "id": "zeNXjjgAgBxd",
        "outputId": "a26a6d12-6364-4aa5-a665-576fb23cde67"
      },
      "source": [
        "print (stringVariable)"
      ],
      "execution_count": null,
      "outputs": [
        {
          "output_type": "stream",
          "text": [
            "hello!\n"
          ],
          "name": "stdout"
        }
      ]
    },
    {
      "cell_type": "code",
      "metadata": {
        "id": "G2tD8fPNgdYJ"
      },
      "source": [
        "intVariable = 3"
      ],
      "execution_count": null,
      "outputs": []
    },
    {
      "cell_type": "code",
      "metadata": {
        "colab": {
          "base_uri": "https://localhost:8080/"
        },
        "id": "VicJ1eSVg_Yr",
        "outputId": "854569fb-6e80-4417-81ac-983e1e37465d"
      },
      "source": [
        "type(intVariable)"
      ],
      "execution_count": null,
      "outputs": [
        {
          "output_type": "execute_result",
          "data": {
            "text/plain": [
              "int"
            ]
          },
          "metadata": {
            "tags": []
          },
          "execution_count": 8
        }
      ]
    },
    {
      "cell_type": "code",
      "metadata": {
        "colab": {
          "base_uri": "https://localhost:8080/"
        },
        "id": "s0Dm2bOHhDJF",
        "outputId": "999c918b-2bfd-48c0-f9cc-296670300372"
      },
      "source": [
        "type(stringVariable)"
      ],
      "execution_count": null,
      "outputs": [
        {
          "output_type": "execute_result",
          "data": {
            "text/plain": [
              "str"
            ]
          },
          "metadata": {
            "tags": []
          },
          "execution_count": 9
        }
      ]
    },
    {
      "cell_type": "code",
      "metadata": {
        "colab": {
          "base_uri": "https://localhost:8080/"
        },
        "id": "2vFt6CRrhHv2",
        "outputId": "9a371248-1227-4971-cad4-8b230c28c00c"
      },
      "source": [
        "if (intVariable == 3):\n",
        "  print(\"yes\")\n",
        "else:\n",
        "  print(\"no\")"
      ],
      "execution_count": null,
      "outputs": [
        {
          "output_type": "stream",
          "text": [
            "yes\n"
          ],
          "name": "stdout"
        }
      ]
    },
    {
      "cell_type": "code",
      "metadata": {
        "id": "Hgpn8N1wBdtv"
      },
      "source": [
        "floatVariable = 3."
      ],
      "execution_count": null,
      "outputs": []
    },
    {
      "cell_type": "markdown",
      "metadata": {
        "id": "yUEvrBacBl4E"
      },
      "source": [
        "Posso savare il risultato di operazioni nel fromato che voglio:"
      ]
    },
    {
      "cell_type": "code",
      "metadata": {
        "colab": {
          "base_uri": "https://localhost:8080/"
        },
        "id": "TrLvled8BqpI",
        "outputId": "c72227ce-6963-4e55-bb34-8bcad52035ff"
      },
      "source": [
        "int(intVariable * floatVariable)"
      ],
      "execution_count": null,
      "outputs": [
        {
          "output_type": "execute_result",
          "data": {
            "text/plain": [
              "9"
            ]
          },
          "metadata": {
            "tags": []
          },
          "execution_count": 18
        }
      ]
    },
    {
      "cell_type": "code",
      "metadata": {
        "colab": {
          "base_uri": "https://localhost:8080/",
          "height": 35
        },
        "id": "OTeQ8IBzBvbQ",
        "outputId": "62e1c915-4681-46a5-b85d-98859c3154ec"
      },
      "source": [
        "str(intVariable * floatVariable)"
      ],
      "execution_count": null,
      "outputs": [
        {
          "output_type": "execute_result",
          "data": {
            "application/vnd.google.colaboratory.intrinsic+json": {
              "type": "string"
            },
            "text/plain": [
              "'9.0'"
            ]
          },
          "metadata": {
            "tags": []
          },
          "execution_count": 19
        }
      ]
    },
    {
      "cell_type": "code",
      "metadata": {
        "id": "6KX1-CAoBw8y"
      },
      "source": [
        "boolVar = True"
      ],
      "execution_count": null,
      "outputs": []
    },
    {
      "cell_type": "code",
      "metadata": {
        "colab": {
          "base_uri": "https://localhost:8080/"
        },
        "id": "aODTtzZ5Bz5k",
        "outputId": "28a512f6-af8a-4326-b60e-c5e70be1729c"
      },
      "source": [
        "boolVar"
      ],
      "execution_count": null,
      "outputs": [
        {
          "output_type": "execute_result",
          "data": {
            "text/plain": [
              "True"
            ]
          },
          "metadata": {
            "tags": []
          },
          "execution_count": 21
        }
      ]
    },
    {
      "cell_type": "markdown",
      "metadata": {
        "id": "MY7d7FlKB1yZ"
      },
      "source": [
        "Boolean variable ci permettono di fare degli statement nel nostro codice e scrivere delle condizioni."
      ]
    },
    {
      "cell_type": "code",
      "metadata": {
        "colab": {
          "base_uri": "https://localhost:8080/"
        },
        "id": "R3IkD2ZoB9hs",
        "outputId": "90ad1cbf-e5ef-4160-b309-083568a94d83"
      },
      "source": [
        "(type(floatVariable) == float)"
      ],
      "execution_count": null,
      "outputs": [
        {
          "output_type": "execute_result",
          "data": {
            "text/plain": [
              "True"
            ]
          },
          "metadata": {
            "tags": []
          },
          "execution_count": 26
        }
      ]
    },
    {
      "cell_type": "code",
      "metadata": {
        "colab": {
          "base_uri": "https://localhost:8080/"
        },
        "id": "oUXLRCsaCJeF",
        "outputId": "f66a6db3-076d-43da-d5b9-434fdd9d592a"
      },
      "source": [
        "if type(floatVariable) == float:\n",
        "  print(\"yes its a float\")"
      ],
      "execution_count": null,
      "outputs": [
        {
          "output_type": "stream",
          "text": [
            "yes its a float\n"
          ],
          "name": "stdout"
        }
      ]
    },
    {
      "cell_type": "code",
      "metadata": {
        "colab": {
          "base_uri": "https://localhost:8080/"
        },
        "id": "SmpUf70CClvU",
        "outputId": "f3012ec8-75e1-4a17-ea50-03030257d905"
      },
      "source": [
        "if not type(floatVariable) == float:\n",
        "  print(\"yes its not a float\")\n",
        "else:\n",
        "  print(\"yes\")"
      ],
      "execution_count": null,
      "outputs": [
        {
          "output_type": "stream",
          "text": [
            "yes\n"
          ],
          "name": "stdout"
        }
      ]
    },
    {
      "cell_type": "markdown",
      "metadata": {
        "id": "KnX7d6sLC_aK"
      },
      "source": [
        "1 significa true e 0 significa flase. Ma anche ogni altro numero diverso da 0 significa vero"
      ]
    },
    {
      "cell_type": "code",
      "metadata": {
        "colab": {
          "base_uri": "https://localhost:8080/"
        },
        "id": "JV1jyU2FCqVp",
        "outputId": "33975f72-1c69-425f-bfe0-9e0054be85ae"
      },
      "source": [
        "if 0:\n",
        "  print(\"no\")\n",
        "else:\n",
        "    print(\"yes\")"
      ],
      "execution_count": null,
      "outputs": [
        {
          "output_type": "stream",
          "text": [
            "yes\n"
          ],
          "name": "stdout"
        }
      ]
    },
    {
      "cell_type": "code",
      "metadata": {
        "colab": {
          "base_uri": "https://localhost:8080/"
        },
        "id": "72CoHYnmDDm6",
        "outputId": "24255992-8e0f-4f8c-982a-406649f1e9aa"
      },
      "source": [
        "if 2:\n",
        "  print(\"yes\")\n",
        "else:\n",
        "    print(\"no\")"
      ],
      "execution_count": null,
      "outputs": [
        {
          "output_type": "stream",
          "text": [
            "yes\n"
          ],
          "name": "stdout"
        }
      ]
    },
    {
      "cell_type": "markdown",
      "metadata": {
        "id": "yH11TAi1DOrI"
      },
      "source": [
        "Possiamo concatenare if statements"
      ]
    },
    {
      "cell_type": "code",
      "metadata": {
        "colab": {
          "base_uri": "https://localhost:8080/"
        },
        "id": "g31OGQ6fDTsX",
        "outputId": "f506065b-88f1-4e50-8d23-bf3ba5284128"
      },
      "source": [
        "if type(floatVariable) == float or floatVariable < 0:\n",
        "  print(\"yes its a float > 1\")"
      ],
      "execution_count": null,
      "outputs": [
        {
          "output_type": "stream",
          "text": [
            "yes its a float > 1\n"
          ],
          "name": "stdout"
        }
      ]
    },
    {
      "cell_type": "markdown",
      "metadata": {
        "id": "aqn1tlOrDmny"
      },
      "source": [
        "Posso scriverlo anche con le operazioni matematiche essendo che vero è 1 e falso è 0:\n",
        "\n",
        "il * sta per l'and e + sta per or"
      ]
    },
    {
      "cell_type": "code",
      "metadata": {
        "colab": {
          "base_uri": "https://localhost:8080/"
        },
        "id": "BdXlizz3DbL0",
        "outputId": "2b27e47d-1311-4fbd-836a-9bfa47a06a21"
      },
      "source": [
        "if (type(floatVariable) == float) + (floatVariable < 0):\n",
        "  print(\"yes its a float > 1\")"
      ],
      "execution_count": null,
      "outputs": [
        {
          "output_type": "stream",
          "text": [
            "yes its a float > 1\n"
          ],
          "name": "stdout"
        }
      ]
    },
    {
      "cell_type": "markdown",
      "metadata": {
        "id": "p0idppwJDt33"
      },
      "source": [
        "Possiamo anche fare dei for"
      ]
    },
    {
      "cell_type": "code",
      "metadata": {
        "colab": {
          "base_uri": "https://localhost:8080/"
        },
        "id": "pskComVfEDP-",
        "outputId": "9f5c971c-9566-47e5-e119-6dffdd562e54"
      },
      "source": [
        "for a in range(10):\n",
        "  print(a)\n",
        "               "
      ],
      "execution_count": null,
      "outputs": [
        {
          "output_type": "stream",
          "text": [
            "0\n",
            "1\n",
            "2\n",
            "3\n",
            "4\n",
            "5\n",
            "6\n",
            "7\n",
            "8\n",
            "9\n"
          ],
          "name": "stdout"
        }
      ]
    },
    {
      "cell_type": "code",
      "metadata": {
        "colab": {
          "base_uri": "https://localhost:8080/"
        },
        "id": "lJZGha5-EHnI",
        "outputId": "df52db9b-9410-447c-864f-4cc1f6fa1f17"
      },
      "source": [
        "a=0\n",
        "while a is not 10:\n",
        "  a = a+1 \n",
        "  print(a)"
      ],
      "execution_count": null,
      "outputs": [
        {
          "output_type": "stream",
          "text": [
            "1\n",
            "2\n",
            "3\n",
            "4\n",
            "5\n",
            "6\n",
            "7\n",
            "8\n",
            "9\n",
            "10\n"
          ],
          "name": "stdout"
        }
      ]
    },
    {
      "cell_type": "code",
      "metadata": {
        "id": "ahX60-HeEPg8"
      },
      "source": [
        ""
      ],
      "execution_count": null,
      "outputs": []
    }
  ]
}