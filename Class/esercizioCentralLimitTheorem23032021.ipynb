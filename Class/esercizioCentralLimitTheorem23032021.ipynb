{
  "nbformat": 4,
  "nbformat_minor": 0,
  "metadata": {
    "colab": {
      "name": "esercizioCentralLimitTheorem23032021.ipynb",
      "provenance": [],
      "collapsed_sections": [],
      "authorship_tag": "ABX9TyMvSamvrHB9G+4eBWd396+U",
      "include_colab_link": true
    },
    "kernelspec": {
      "name": "python3",
      "display_name": "Python 3"
    },
    "language_info": {
      "name": "python"
    }
  },
  "cells": [
    {
      "cell_type": "markdown",
      "metadata": {
        "id": "view-in-github",
        "colab_type": "text"
      },
      "source": [
        "<a href=\"https://colab.research.google.com/github/FedeleDelvecchio/MLPNS/blob/main/Class/esercizioCentralLimitTheorem23032021.ipynb\" target=\"_parent\"><img src=\"https://colab.research.google.com/assets/colab-badge.svg\" alt=\"Open In Colab\"/></a>"
      ]
    },
    {
      "cell_type": "markdown",
      "metadata": {
        "id": "MBbHgEExybHN"
      },
      "source": [
        "Homework 2\n",
        "\n",
        "- GENERATE 100 samples of different sizes N (N>10 & N<2000) from each of 5 different distributions (500 samples in total), all with the same population mean. Include a Normal, a Poisson, a Binomial, a Chi-Squared distribution, and 1 more of your choice.\n",
        "\n",
        "- For each sample plot the sample mean (dependent var.) against the sample size N (independent var.) (if you want you can do it with the sample standard deviation as well).\n",
        "\n",
        "- Describe the behavior you see in the plots in terms of the law of large numbers.\n",
        "\n",
        "- PLOT the distributions of all sample means (together for all distributions). Mandatory: as a histogram. Optional: in any other way you think is convincing Extra Credit: FIT a gaussian to the distribution of means\n"
      ]
    },
    {
      "cell_type": "code",
      "metadata": {
        "id": "YuuuF1SOlFBe"
      },
      "source": [
        "from __future__ import print_function\n",
        "\n",
        "import pylab as pl\n",
        "from scipy.optimize import curve_fit, minimize\n",
        "\n",
        "import seaborn  #pacchetto per creare grafici\n",
        "seaborn.set_style(\"darkgrid\")"
      ],
      "execution_count": null,
      "outputs": []
    },
    {
      "cell_type": "code",
      "metadata": {
        "id": "MW57VtJElUG7"
      },
      "source": [
        "distribution = ['pois']     #SCEGLIAMO DI USARE LA DISTRIBUZIONE DI POISSON\n",
        "                            #distribution è una lista con 1 elemento\n",
        "\n",
        "mymean = 100      #E SCELGO DI CREARE UNA DISTRIBUZIONE CON UNA MEDIA DI 100\n",
        "\n",
        "#Una POISSONIANA esprime le probabilità per il numero di eventi che si verificano \n",
        "#successivamente ed indipendentemente in un dato intervallo di tempo, sapendo \n",
        "#che mediamente se ne verifica un numero λ. \n",
        "\n",
        "#Quindi ho scelto che nel mio arco di tempo si verificano in media 100 eventi."
      ],
      "execution_count": null,
      "outputs": []
    },
    {
      "cell_type": "code",
      "metadata": {
        "id": "O3YtEyeBnQ3A"
      },
      "source": [
        "#ABBIAMO CONTROLLATO DA https://docs.scipy.org/doc/scipy/reference/generated/scipy.stats.poisson.html\n",
        "#com'è fatta la funzione poisson e di che input ha bisogno. Perciò scopriamo che\n",
        "#poisson takes as λ shape parameter\n",
        "#e quindi definiamo i gradi di liberà come \n",
        "df=mymean"
      ],
      "execution_count": null,
      "outputs": []
    },
    {
      "cell_type": "code",
      "metadata": {
        "colab": {
          "base_uri": "https://localhost:8080/",
          "height": 279
        },
        "id": "Ch8Yt2JOnmus",
        "outputId": "d45195b0-0612-4f84-fa52-746195184617"
      },
      "source": [
        " #CREIAMO un dizionario che contenga tutte le distribuzioni che vogliamo esaminare\n",
        " #nell'esercizio. In questo modo si posso esaminare comodamente le distribuzioni\n",
        " #attraverso il nome che gli diamo nel dizionario. Iniziamo riempendo il dizionario con\n",
        " #la distribuzione di poisson che abbiamo scelto.\n",
        " \n",
        "import numpy as np\n",
        "np.random.seed(152) #scegliamo il seme per generare i numeri casuali, con un numero\n",
        "                    #qualsiasi (ogni numero collassa in un seme corrispondente). \n",
        "                    #Per il principio di riproducibilità dobbiamo per forza indicare\n",
        "                    #il seme utilizzato.\n",
        "\n",
        "md = {}  #ho creato un dizionario vuoto di nome md\n",
        "\n",
        "#per dubbi sui dizionari https://www.pythonforbeginners.com/dictionary/how-to-use-dictionaries-in-python\n",
        "\n",
        "#Add a value to the dictionary: #the syntax is: mydict[key] = \"value\"\n",
        "md['pois'] = np.random.poisson(df, size = 100)\n",
        "\n",
        "#in questo modo md contiene un oggetto chiamato pois che è un array di valori\n",
        "\n",
        "pl.hist(md['pois'], bins = 40) #bins sono il nuemero di colonne che voglio nel grafico\n",
        "pl.ylabel('N (size distribuzione)')\n",
        "pl.xlabel('x');"
      ],
      "execution_count": null,
      "outputs": [
        {
          "output_type": "display_data",
          "data": {
            "image/png": "[encoded data removed]",
            "text/plain": [
              "<Figure size 432x288 with 1 Axes>"
            ]
          },
          "metadata": {
            "tags": []
          }
        }
      ]
    },
    {
      "cell_type": "markdown",
      "metadata": {
        "id": "fw-0cpfMpdig"
      },
      "source": [
        "**Figure** 1: Poisson distribution of a sample of size 100, for a Chi square distribution with 100 degrees of freedom."
      ]
    },
    {
      "cell_type": "code",
      "metadata": {
        "colab": {
          "base_uri": "https://localhost:8080/"
        },
        "id": "SeaaYFlryKxu",
        "outputId": "a025c58b-9ab7-498f-8133-c4b9ba8a758f"
      },
      "source": [
        "#A QUESTO PUNTO POSSIAMO CALCOALRE LA MEDIA E LA DEV STANDARD, PERCHE' LA MEDIA SERVE \n",
        "#ALLA FINE PER PLOTTARE LA DISTRIBUZIONE DELLE MEDIE DI N DISTRIBUZIONI DI POISSON.\n",
        "\n",
        "print(\"Media distribuzione di Poisson: %.2f, STD DEV: %.2f\" %(md['pois'].mean(), md['pois'].std()))"
      ],
      "execution_count": null,
      "outputs": [
        {
          "output_type": "stream",
          "text": [
            "Media distribuzione di Poisson: 99.13, STD DEV: 10.09\n"
          ],
          "name": "stdout"
        }
      ]
    },
    {
      "cell_type": "code",
      "metadata": {
        "colab": {
          "base_uri": "https://localhost:8080/"
        },
        "id": "n3oglG9Zyzsr",
        "outputId": "72ffb92f-5e18-495c-b305-33d879267fec"
      },
      "source": [
        "#COSTRUIAMO 100 DISTRIBUZIONI DI POISSON: Per la legge dei grandi numeri, prendiamo\n",
        "#poche distribuzioni con un sample grande e molte dsitribuzioni con un sample piccolo.\n",
        "#Questo perchè tante distribuzioni piccole mi danno il valore vero, sull'intera popolazione.\n",
        "#Per fare ciò creiamo un vettore contenente le varie size, così:\n",
        "#Ricordiamo che (N>10 & N<2000)\n",
        "\n",
        "mysize = (2000 / (np.array(range(1,100)))).astype(int)\n",
        "\n",
        "#astype(int) serve per prendere solo la parte intera di ogni entrata del vettore mysize\n",
        "#il vettore mysize conterrà 100 (in realtà 99) valori interi che rappresentano le size\n",
        "#delle varie distribuzioni che voglio creare.\n",
        "print(\"shape of the 'size' list that contains the size of each distribution\", mysize.shape)"
      ],
      "execution_count": null,
      "outputs": [
        {
          "output_type": "stream",
          "text": [
            "shape of the 'size' list that contains the size of each distribution (99,)\n"
          ],
          "name": "stdout"
        }
      ]
    },
    {
      "cell_type": "code",
      "metadata": {
        "colab": {
          "base_uri": "https://localhost:8080/",
          "height": 279
        },
        "id": "H6STn0b9z32N",
        "outputId": "620cfcc7-692c-40b8-88b1-860b03a151e8"
      },
      "source": [
        "pl.plot(mysize, '.')  #controllo che effettivamente ho preso poche size grandi\n",
        "                      #e molte size piccole. E dopo utilizzo mysize per costruire \n",
        "                      #distribuzioni di size (ovvero numero di elementi di ogni \n",
        "                      #distribuzione) pari ad ogni elemento di questo vettore.\n",
        "pl.xlabel(\"index\")\n",
        "pl.ylabel(\"size of the array\");"
      ],
      "execution_count": null,
      "outputs": [
        {
          "output_type": "display_data",
          "data": {
            "image/png": "[encoded data removed]",
            "text/plain": [
              "<Figure size 432x288 with 1 Axes>"
            ]
          },
          "metadata": {
            "tags": []
          }
        }
      ]
    },
    {
      "cell_type": "code",
      "metadata": {
        "colab": {
          "base_uri": "https://localhost:8080/",
          "height": 416
        },
        "id": "EQnrgOrU2fqa",
        "outputId": "f521b2c0-2eee-4b51-f003-ad62912f8b78"
      },
      "source": [
        "#ADESSO DEVO COSTRUIRE 100 SAMPLE DALLA DISTRIBUZIONE DI POISSON, OGNUNO CON NUMERO DI ELEMENTI CHE\n",
        "#PRENDO DAL VETTORE MYSIZE PER RISPETTARE LA LEGGE DEI GRANDI NUMERI.\n",
        "#PER COMODITÀ REINIZIALIZZO IL DIZIONARIO\n",
        "\n",
        "md['pois'] = {} \n",
        "\n",
        "#riempio il dizionario con 100 distribuzioni di poisson di dize diverse\n",
        "\n",
        "for n in mysize:\n",
        "    md['pois'][n] = np.random.poisson(df, size = n) #n è il valore di ogni entrata di\n",
        "                                                     #misize\n",
        "\n",
        "#adesso mi salvo le medie di ogni distribuzione\n",
        "md['pois']['means'] = {}\n",
        "axpois_mu_n = pl.figure(figsize=(10,6)).add_subplot(111)\n",
        "\n",
        "for nn in md['pois']:\n",
        "  if not type(nn) == str:\n",
        "    md['pois']['means'][nn] = md['pois'][nn].mean() #prendo la media della nn-esima\n",
        "                                                    #distribuzione che ho creato\n",
        "    #e poi la plotto\n",
        "    axpois_mu_n.plot(nn, md['pois']['means'][nn], 'o')\n",
        "    axpois_mu_n.set_xlabel('sample size', fontsize=18)\n",
        "    axpois_mu_n.set_ylabel('sample mean', fontsize=18)\n",
        "    axpois_mu_n.set_title('Poisson', fontsize=18)\n",
        "    axpois_mu_n.plot([min(mysize), max(mysize)], [df, df], 'k')\n",
        "    axpois_mu_n.text(axpois_mu_n.get_xlim()[1] * .6, 100, \"expected mean\", \n",
        "                  va=\"bottom\", fontsize=20)"
      ],
      "execution_count": null,
      "outputs": [
        {
          "output_type": "display_data",
          "data": {
            "image/png": "[encoded data removed]",
            "text/plain": [
              "<Figure size 720x432 with 1 Axes>"
            ]
          },
          "metadata": {
            "tags": []
          }
        }
      ]
    },
    {
      "cell_type": "markdown",
      "metadata": {
        "id": "4JPw-d2e3bmX"
      },
      "source": [
        "Figure 2: [describe what you see and how it relates to the law of large numbers]"
      ]
    },
    {
      "cell_type": "markdown",
      "metadata": {
        "id": "yFtbehSn616Q"
      },
      "source": [
        "GRADING: Your notebook must:\n",
        "\n",
        "- generate the distributions, correctly generated for each of the 5 ditributions, all with same mean.\n",
        "\n",
        "- display all plots: a scatter plot per distribution and a histogram of all distributions, usual rules for plotting applying: visible and readable axes, title, legend, caption.\n",
        "\n",
        "- each plot must have a caption which describes the plot in terms of Central Limit Theorem"
      ]
    },
    {
      "cell_type": "code",
      "metadata": {
        "id": "x9icnX3H63cN"
      },
      "source": [
        ""
      ],
      "execution_count": null,
      "outputs": []
    }
  ]
}