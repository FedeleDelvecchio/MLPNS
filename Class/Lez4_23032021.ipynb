{
  "nbformat": 4,
  "nbformat_minor": 0,
  "metadata": {
    "colab": {
      "name": "Lez4 23032021.ipynb",
      "provenance": [],
      "collapsed_sections": [],
      "authorship_tag": "ABX9TyPcg77AAGTwK3O2aNFl5YzP",
      "include_colab_link": true
    },
    "kernelspec": {
      "name": "python3",
      "display_name": "Python 3"
    },
    "language_info": {
      "name": "python"
    }
  },
  "cells": [
    {
      "cell_type": "markdown",
      "metadata": {
        "id": "view-in-github",
        "colab_type": "text"
      },
      "source": [
        "<a href=\"https://colab.research.google.com/github/FedeleDelvecchio/MLPNS/blob/main/Class/Lez4_23032021.ipynb\" target=\"_parent\"><img src=\"https://colab.research.google.com/assets/colab-badge.svg\" alt=\"Open In Colab\"/></a>"
      ]
    },
    {
      "cell_type": "markdown",
      "metadata": {
        "id": "nc0qewVJyIzg"
      },
      "source": [
        "# Per le distribuzioni, guarda \n",
        "\n",
        "https://github.com/fedhere/MLPNS2021/blob/main/statistics/distributionParametersDemo.ipynb"
      ]
    },
    {
      "cell_type": "markdown",
      "metadata": {
        "id": "-sXCCr3bM-SH"
      },
      "source": [
        "Tutto quello utile per fare scienza lo facciamo oggi.\n",
        "\n",
        "Concetto di riproducibilità: Per attenersi al principio di riproucibiltà si possono creare dei codici specifici che assicurano che si possa ottenre lo stesso risultato ogni volta che si usa il codice."
      ]
    },
    {
      "cell_type": "markdown",
      "metadata": {
        "id": "b6eTOpWZNq63"
      },
      "source": [
        "# Probability and statistics\n",
        "\n",
        "**Probabilità**: calcolo combinatorio\n",
        "\n",
        "**Statistica**: scienza che studia le distribuzioni e le loro proprietà\n",
        "\n",
        "In particoalre vederemo l'applicazione della statistica alla fisica.\n",
        "\n",
        "Parleremo di descriptive statistics: come descrivere le distribuzioni di dati o numeri.\n",
        "Parleremo delle distribuzioni più comuni, della legge dei grandi numeri e del central limit theorem per capire come creara distribuzioni in python.\n",
        "\n",
        "Quando parlaimo di interpretaizone frequentista di probabilità, la intendiamo opposta a quella Bayesiana.\n",
        "\n",
        "\n",
        "**Frequentist**: prbab. of something happening is the same as the frequency at which it hapens. An exaple is when I flip the coin and if I wanna see if it is the fair or not, I just have to see the frequency of the outcome of head or tail.\n",
        "\n",
        "Frequency is a finite number, integer and probability is an unbound floating point number (it can be 0 or 0.00...) and it is uncountable, unlike the frequency.\n",
        "The more brows I made the closer I get to the number that I have theoretically (Law of Large Number).\n"
      ]
    },
    {
      "cell_type": "markdown",
      "metadata": {
        "id": "ZmRfX4mNRPv5"
      },
      "source": [
        "Statistics include combinatorial methods, but it is far from brother.\n",
        "\n",
        "The idea of statistics rely on the idea that we can observe a finite number of phenomena (SAMPLE) and inferre and infite number of phenomena (POPULATION).\n",
        "\n",
        "Disstribution: mathematical formula that define in a frequentist sense the frequency at which take a certain value. So it is said to be a model. \n",
        "**Population**: all elements of a family.\n",
        "**Sample**: a finite subsets of population that I can sample.\n",
        "\n",
        "\n",
        "See **scipy.stats**: is the package to generate the statistical distribution\n"
      ]
    },
    {
      "cell_type": "code",
      "metadata": {
        "id": "0RhKzpjmGgsm"
      },
      "source": [
        "#This notebook is called \"MLPNS2021_classstats\" for teacher"
      ],
      "execution_count": null,
      "outputs": []
    },
    {
      "cell_type": "code",
      "metadata": {
        "colab": {
          "base_uri": "https://localhost:8080/"
        },
        "id": "eeiImSnAMJIV",
        "outputId": "486c4e80-eee4-4b85-8e3e-dc9f869847a4"
      },
      "source": [
        "import numpy as np\n",
        "import pylab as plt\n",
        "\n",
        "#forward compatibility between python2 and python3\n",
        "from __future__ import print_function, division\n",
        "#plotting imports\n",
        "import pylab as pl\n",
        "import matplotlib \n",
        "from matplotlib import animation\n",
        "from IPython.display import HTML\n",
        "%pylab inline\n",
        "pl.style.use(\"https://raw.githubusercontent.com/fedhere/DSPS/master/fbb.mplstyle\")"
      ],
      "execution_count": null,
      "outputs": [
        {
          "output_type": "stream",
          "text": [
            "Populating the interactive namespace from numpy and matplotlib\n"
          ],
          "name": "stdout"
        },
        {
          "output_type": "stream",
          "text": [
            "/usr/local/lib/python3.7/dist-packages/IPython/core/magics/pylab.py:161: UserWarning: pylab import has clobbered these variables: ['plt']\n",
            "`%matplotlib` prevents importing * from pylab and numpy\n",
            "  \"\\n`%matplotlib` prevents importing * from pylab and numpy\"\n"
          ],
          "name": "stderr"
        }
      ]
    },
    {
      "cell_type": "markdown",
      "metadata": {
        "id": "wXmX-xpzU997"
      },
      "source": [
        "Numpy has a random package inside. It is a module that include a bunch of functions."
      ]
    },
    {
      "cell_type": "markdown",
      "metadata": {
        "id": "tokwUzn8Va18"
      },
      "source": [
        "Let's produce a random value in a given shape, and how to put it in a numpy array."
      ]
    },
    {
      "cell_type": "code",
      "metadata": {
        "colab": {
          "base_uri": "https://localhost:8080/"
        },
        "id": "ynMruQG4Vdus",
        "outputId": "20efbdaf-4976-4de3-86df-111024a233c0"
      },
      "source": [
        "np.random.rand() #number in a uniform distribution, and it put it in a numpy array"
      ],
      "execution_count": null,
      "outputs": [
        {
          "output_type": "execute_result",
          "data": {
            "text/plain": [
              "0.19664763932654772"
            ]
          },
          "metadata": {
            "tags": []
          },
          "execution_count": 3
        }
      ]
    },
    {
      "cell_type": "code",
      "metadata": {
        "colab": {
          "base_uri": "https://localhost:8080/"
        },
        "id": "74Y5th0mMKm0",
        "outputId": "b8ab0b72-4edf-4cfe-e362-2230db1536cc"
      },
      "source": [
        "np.random.rand(10,2) #this is a container"
      ],
      "execution_count": null,
      "outputs": [
        {
          "output_type": "execute_result",
          "data": {
            "text/plain": [
              "array([[0.44341757, 0.85379025],\n",
              "       [0.89522747, 0.50027778],\n",
              "       [0.55830191, 0.68469651],\n",
              "       [0.76450293, 0.89423547],\n",
              "       [0.52746021, 0.20651973],\n",
              "       [0.76116584, 0.26770079],\n",
              "       [0.94049667, 0.84287952],\n",
              "       [0.22539711, 0.48554716],\n",
              "       [0.20946113, 0.45333017],\n",
              "       [0.20260628, 0.64822811]])"
            ]
          },
          "metadata": {
            "tags": []
          },
          "execution_count": 4
        }
      ]
    },
    {
      "cell_type": "code",
      "metadata": {
        "colab": {
          "base_uri": "https://localhost:8080/"
        },
        "id": "5uWYaeZfMS_s",
        "outputId": "ce0faed8-89f2-478c-c541-19cf6b90cc9d"
      },
      "source": [
        "np.random.rand(10,2).mean()"
      ],
      "execution_count": null,
      "outputs": [
        {
          "output_type": "execute_result",
          "data": {
            "text/plain": [
              "0.5322545880758951"
            ]
          },
          "metadata": {
            "tags": []
          },
          "execution_count": 5
        }
      ]
    },
    {
      "cell_type": "code",
      "metadata": {
        "colab": {
          "base_uri": "https://localhost:8080/"
        },
        "id": "RP65hbkJNKB0",
        "outputId": "91abdd68-684b-42e1-b364-715f7c133996"
      },
      "source": [
        "np.random.rand(10,2).mean(axis=0) #mean along a given axis"
      ],
      "execution_count": null,
      "outputs": [
        {
          "output_type": "execute_result",
          "data": {
            "text/plain": [
              "array([0.39424493, 0.46861156])"
            ]
          },
          "metadata": {
            "tags": []
          },
          "execution_count": 6
        }
      ]
    },
    {
      "cell_type": "markdown",
      "metadata": {
        "id": "NpbbZHU3XWrv"
      },
      "source": [
        "Define our gaussian function"
      ]
    },
    {
      "cell_type": "code",
      "metadata": {
        "colab": {
          "base_uri": "https://localhost:8080/"
        },
        "id": "60_wFJunNrf2",
        "outputId": "2cbf98c2-e4a7-4845-a70c-a7a9fe0a4c57"
      },
      "source": [
        "def mygauss(x, mu, sig):\n",
        "  return 1/np.sqrt(2*np.pi)/sig * (np.exp(-(x-mu)**2/2/sig**2))\n",
        "\n",
        "x = np.arange(100)\n",
        "mu = 50.\n",
        "sig = 10.\n",
        "mygauss(x, mu, sig) #dtype is an attribute so he doesnt require parentesis"
      ],
      "execution_count": null,
      "outputs": [
        {
          "output_type": "execute_result",
          "data": {
            "text/plain": [
              "array([1.48671951e-07, 2.43896075e-07, 3.96129909e-07, 6.36982518e-07,\n",
              "       1.01408521e-06, 1.59837411e-06, 2.49424713e-06, 3.85351967e-06,\n",
              "       5.89430678e-06, 8.92616572e-06, 1.33830226e-05, 1.98655471e-05,\n",
              "       2.91946926e-05, 4.24780271e-05, 6.11901930e-05, 8.72682695e-05,\n",
              "       1.23221917e-04, 1.72256894e-04, 2.38408820e-04, 3.26681906e-04,\n",
              "       4.43184841e-04, 5.95253242e-04, 7.91545158e-04, 1.04209348e-03,\n",
              "       1.35829692e-03, 1.75283005e-03, 2.23945303e-03, 2.83270377e-03,\n",
              "       3.54745928e-03, 4.39835960e-03, 5.39909665e-03, 6.56158148e-03,\n",
              "       7.89501583e-03, 9.40490774e-03, 1.10920835e-02, 1.29517596e-02,\n",
              "       1.49727466e-02, 1.71368592e-02, 1.94186055e-02, 2.17852177e-02,\n",
              "       2.41970725e-02, 2.66085250e-02, 2.89691553e-02, 3.12253933e-02,\n",
              "       3.33224603e-02, 3.52065327e-02, 3.68270140e-02, 3.81387815e-02,\n",
              "       3.91042694e-02, 3.96952547e-02, 3.98942280e-02, 3.96952547e-02,\n",
              "       3.91042694e-02, 3.81387815e-02, 3.68270140e-02, 3.52065327e-02,\n",
              "       3.33224603e-02, 3.12253933e-02, 2.89691553e-02, 2.66085250e-02,\n",
              "       2.41970725e-02, 2.17852177e-02, 1.94186055e-02, 1.71368592e-02,\n",
              "       1.49727466e-02, 1.29517596e-02, 1.10920835e-02, 9.40490774e-03,\n",
              "       7.89501583e-03, 6.56158148e-03, 5.39909665e-03, 4.39835960e-03,\n",
              "       3.54745928e-03, 2.83270377e-03, 2.23945303e-03, 1.75283005e-03,\n",
              "       1.35829692e-03, 1.04209348e-03, 7.91545158e-04, 5.95253242e-04,\n",
              "       4.43184841e-04, 3.26681906e-04, 2.38408820e-04, 1.72256894e-04,\n",
              "       1.23221917e-04, 8.72682695e-05, 6.11901930e-05, 4.24780271e-05,\n",
              "       2.91946926e-05, 1.98655471e-05, 1.33830226e-05, 8.92616572e-06,\n",
              "       5.89430678e-06, 3.85351967e-06, 2.49424713e-06, 1.59837411e-06,\n",
              "       1.01408521e-06, 6.36982518e-07, 3.96129909e-07, 2.43896075e-07])"
            ]
          },
          "metadata": {
            "tags": []
          },
          "execution_count": 7
        }
      ]
    },
    {
      "cell_type": "markdown",
      "metadata": {
        "id": "YSWbfeOEX5xe"
      },
      "source": [
        "The object that the function return is an array of float. That is the format of x that I pass, while mu is a number."
      ]
    },
    {
      "cell_type": "code",
      "metadata": {
        "id": "IYEPH2zZNeAd",
        "colab": {
          "base_uri": "https://localhost:8080/",
          "height": 313
        },
        "outputId": "cb25b1f3-c33d-4aba-83f3-602c2cbffdc9"
      },
      "source": [
        "plt.plot(x, mygauss(x, mu,sig))"
      ],
      "execution_count": null,
      "outputs": [
        {
          "output_type": "execute_result",
          "data": {
            "text/plain": [
              "[<matplotlib.lines.Line2D at 0x7fb4f711d610>]"
            ]
          },
          "metadata": {
            "tags": []
          },
          "execution_count": 8
        },
        {
          "output_type": "stream",
          "text": [
            "findfont: Font family ['[\"sans-serif\"]'] not found. Falling back to DejaVu Sans.\n"
          ],
          "name": "stderr"
        },
        {
          "output_type": "display_data",
          "data": {
            "image/png": "[encoded data removed]",
            "text/plain": [
              "<Figure size 432x288 with 1 Axes>"
            ]
          },
          "metadata": {
            "tags": []
          }
        }
      ]
    },
    {
      "cell_type": "markdown",
      "metadata": {
        "id": "yq4tZLMOaH_j"
      },
      "source": [
        "The number that I have generate have to do with random draws from a distribution like this below. "
      ]
    },
    {
      "cell_type": "code",
      "metadata": {
        "colab": {
          "base_uri": "https://localhost:8080/"
        },
        "id": "mNHl4luoNU-J",
        "outputId": "3970ba88-0774-4a02-9725-b063bd7735aa"
      },
      "source": [
        "np.random.randn(100)\n",
        "#random number from a standard normal distribution (gaussian distribution)"
      ],
      "execution_count": null,
      "outputs": [
        {
          "output_type": "execute_result",
          "data": {
            "text/plain": [
              "array([-0.12141089, -0.73091774,  1.08831335, -0.75677406,  1.41245523,\n",
              "       -0.71246896, -0.94247241,  1.01549847,  0.91996829, -1.00438012,\n",
              "        1.59642108,  0.44822193,  0.13583282, -0.67232468, -0.39823873,\n",
              "       -1.36560992,  0.35242282, -0.01586894,  1.78457128, -2.03735607,\n",
              "       -1.28053154,  0.88227827,  0.80901684, -0.05683038,  0.54286966,\n",
              "        0.53523896, -1.1260164 , -1.87561107,  0.27081889,  0.971647  ,\n",
              "       -1.23689477, -0.2769988 ,  2.51434824,  1.18654176, -1.91606152,\n",
              "       -0.24760207, -0.15821052, -0.41357029, -0.0677384 , -0.57427073,\n",
              "        0.67710281,  0.387815  ,  1.26665137, -0.13019773, -0.07481861,\n",
              "       -1.63894208,  1.10478764, -1.83539055, -1.49056344,  0.68519148,\n",
              "        0.32430687, -0.42076656, -0.05957328, -0.39970072,  0.8244131 ,\n",
              "        0.75929346, -0.32636248, -0.18262115,  0.26075525, -1.11819422,\n",
              "        0.50126758, -0.732646  , -0.36546852, -0.04899552,  0.46161723,\n",
              "       -0.4495657 , -0.84659985,  1.13611847, -0.61970597,  0.65318313,\n",
              "        0.01227316,  2.24807292, -0.30787083,  0.95156137, -0.47830804,\n",
              "        1.28847532,  1.03347262,  0.62231225, -0.64603103, -0.68039909,\n",
              "        0.64762501, -0.11937054,  0.49571368,  0.77334521,  0.89417812,\n",
              "       -1.08508469,  0.19612495, -1.52018004, -0.38902739,  0.05148853,\n",
              "       -0.98057481, -0.02160632,  1.07405032, -0.59560933,  0.08191424,\n",
              "       -0.01188888, -0.50894468, -1.16206838, -1.80782474, -0.77223681])"
            ]
          },
          "metadata": {
            "tags": []
          },
          "execution_count": 9
        }
      ]
    },
    {
      "cell_type": "markdown",
      "metadata": {
        "id": "VnEi5PxdanDJ"
      },
      "source": [
        "See that I get a bunch od random numbers."
      ]
    },
    {
      "cell_type": "code",
      "metadata": {
        "colab": {
          "base_uri": "https://localhost:8080/",
          "height": 293
        },
        "id": "K2X4wNpSaXxZ",
        "outputId": "f947110a-0948-45c3-daba-5a42511fb274"
      },
      "source": [
        "plt.plot(x, np.random.randn(100))"
      ],
      "execution_count": null,
      "outputs": [
        {
          "output_type": "execute_result",
          "data": {
            "text/plain": [
              "[<matplotlib.lines.Line2D at 0x7fb4f0c1df50>]"
            ]
          },
          "metadata": {
            "tags": []
          },
          "execution_count": 10
        },
        {
          "output_type": "display_data",
          "data": {
            "image/png": "[encoded data removed]",
            "text/plain": [
              "<Figure size 432x288 with 1 Axes>"
            ]
          },
          "metadata": {
            "tags": []
          }
        }
      ]
    },
    {
      "cell_type": "markdown",
      "metadata": {
        "id": "qX0yknJdas_A"
      },
      "source": [
        "But the istogram of this correspond to a shape of a gaussian distribution"
      ]
    },
    {
      "cell_type": "code",
      "metadata": {
        "colab": {
          "base_uri": "https://localhost:8080/",
          "height": 363
        },
        "id": "WzRpcxu8a0dv",
        "outputId": "f0973053-7a67-48ae-a915-f8d4c5d701bb"
      },
      "source": [
        "plt.hist(np.random.randn(100))"
      ],
      "execution_count": null,
      "outputs": [
        {
          "output_type": "execute_result",
          "data": {
            "text/plain": [
              "(array([ 1.,  4.,  3., 21., 31., 21.,  9.,  6.,  1.,  3.]),\n",
              " array([-2.62587982, -2.04878186, -1.4716839 , -0.89458595, -0.31748799,\n",
              "         0.25960997,  0.83670792,  1.41380588,  1.99090384,  2.56800179,\n",
              "         3.14509975]),\n",
              " <a list of 10 Patch objects>)"
            ]
          },
          "metadata": {
            "tags": []
          },
          "execution_count": 11
        },
        {
          "output_type": "display_data",
          "data": {
            "image/png": "[encoded data removed]",
            "text/plain": [
              "<Figure size 432x288 with 1 Axes>"
            ]
          },
          "metadata": {
            "tags": []
          }
        }
      ]
    },
    {
      "cell_type": "markdown",
      "metadata": {
        "id": "EDWjp54Ca_Hf"
      },
      "source": [
        "**there is another package for statistical calculation in python that is scipy**"
      ]
    },
    {
      "cell_type": "code",
      "metadata": {
        "id": "2JOqquTDPQhi"
      },
      "source": [
        "import scipy as sp\n",
        "from scipy import stats"
      ],
      "execution_count": null,
      "outputs": []
    },
    {
      "cell_type": "markdown",
      "metadata": {
        "id": "Vwtm7qxsbJyK"
      },
      "source": [
        "sp.stats is a module as np.random is."
      ]
    },
    {
      "cell_type": "code",
      "metadata": {
        "colab": {
          "base_uri": "https://localhost:8080/"
        },
        "id": "WfEBuMYUbY7X",
        "outputId": "f7a12c68-709f-49f3-c630-1d33c62cd8cd"
      },
      "source": [
        "#sp.stats.norm?  #standard normal distribution object (i.e. a gaussian) in this package\n",
        "\n",
        "sp.stats.norm.rvs() #this corresponds to np.random"
      ],
      "execution_count": null,
      "outputs": [
        {
          "output_type": "execute_result",
          "data": {
            "text/plain": [
              "0.45179387000233373"
            ]
          },
          "metadata": {
            "tags": []
          },
          "execution_count": 13
        }
      ]
    },
    {
      "cell_type": "code",
      "metadata": {
        "colab": {
          "base_uri": "https://localhost:8080/"
        },
        "id": "e09F0tyPPbGf",
        "outputId": "7d69696c-22f8-4103-c110-f37589b7bccc"
      },
      "source": [
        "sp.stats.norm.rvs(100,size =(10,2)) #we make a complez shape with this command\n",
        "                                    #100 is the mean while (10,2) is the size"
      ],
      "execution_count": null,
      "outputs": [
        {
          "output_type": "execute_result",
          "data": {
            "text/plain": [
              "array([[ 99.40530479,  98.64818796],\n",
              "       [100.87916928, 100.20192128],\n",
              "       [ 99.59399711, 100.65456328],\n",
              "       [100.70251407, 101.22349403],\n",
              "       [100.89263384,  99.18440839],\n",
              "       [ 99.50558273, 101.65016167],\n",
              "       [ 99.67376582, 101.51775377],\n",
              "       [100.41846359, 100.35453635],\n",
              "       [100.2402502 ,  99.59224637],\n",
              "       [ 99.374353  ,  98.1506849 ]])"
            ]
          },
          "metadata": {
            "tags": []
          },
          "execution_count": 14
        }
      ]
    },
    {
      "cell_type": "markdown",
      "metadata": {
        "id": "gLxQ_voSgJ9k"
      },
      "source": [
        "**Il vantaggio di usare questo pacchetto è che posso manipolare direttamente la media e la dev std, cosa che non posso fare con np.rand**"
      ]
    },
    {
      "cell_type": "code",
      "metadata": {
        "colab": {
          "base_uri": "https://localhost:8080/",
          "height": 363
        },
        "id": "pFcubvRIPqgA",
        "outputId": "2240d226-51b7-47c7-b79c-76f0fb1791ab"
      },
      "source": [
        "plt.hist(np.random.randn(100)* 10 + 100) #normal distribution with mean 100 and\n",
        "                                         #standard deviation of 10"
      ],
      "execution_count": null,
      "outputs": [
        {
          "output_type": "execute_result",
          "data": {
            "text/plain": [
              "(array([ 7.,  8., 15., 20., 11., 16., 14.,  3.,  4.,  2.]),\n",
              " array([ 77.7493168 ,  82.70571444,  87.66211209,  92.61850973,\n",
              "         97.57490737, 102.53130502, 107.48770266, 112.4441003 ,\n",
              "        117.40049795, 122.35689559, 127.31329323]),\n",
              " <a list of 10 Patch objects>)"
            ]
          },
          "metadata": {
            "tags": []
          },
          "execution_count": 15
        },
        {
          "output_type": "display_data",
          "data": {
            "image/png": "[encoded data removed]",
            "text/plain": [
              "<Figure size 432x288 with 1 Axes>"
            ]
          },
          "metadata": {
            "tags": []
          }
        }
      ]
    },
    {
      "cell_type": "code",
      "metadata": {
        "colab": {
          "base_uri": "https://localhost:8080/",
          "height": 363
        },
        "id": "uZSxfg9XQUPa",
        "outputId": "d3be55f9-15f4-40b0-be88-96cf1a382948"
      },
      "source": [
        "plt.hist(sp.stats.norm.rvs(100,size =100))"
      ],
      "execution_count": null,
      "outputs": [
        {
          "output_type": "execute_result",
          "data": {
            "text/plain": [
              "(array([ 1.,  6., 13., 20., 14., 20., 17.,  3.,  4.,  2.]),\n",
              " array([ 98.0168179 ,  98.47298432,  98.92915074,  99.38531717,\n",
              "         99.84148359, 100.29765001, 100.75381643, 101.20998285,\n",
              "        101.66614928, 102.1223157 , 102.57848212]),\n",
              " <a list of 10 Patch objects>)"
            ]
          },
          "metadata": {
            "tags": []
          },
          "execution_count": 16
        },
        {
          "output_type": "display_data",
          "data": {
            "image/png": "[encoded data removed]",
            "text/plain": [
              "<Figure size 432x288 with 1 Axes>"
            ]
          },
          "metadata": {
            "tags": []
          }
        }
      ]
    },
    {
      "cell_type": "markdown",
      "metadata": {
        "id": "yyvP8rxkg4q5"
      },
      "source": [
        "**To comply to the reproducibility, random exist extracting numeber according to the frequency of a given function.**\n",
        "\n",
        "This package extract number from a predetermin and given sequences of number. I I look the distribution of this number comply to a given distribution.\n",
        "\n",
        "So I have to write what is the seed that I use."
      ]
    },
    {
      "cell_type": "code",
      "metadata": {
        "colab": {
          "base_uri": "https://localhost:8080/",
          "height": 363
        },
        "id": "W-mSWdrBQljv",
        "outputId": "6a208e2c-fe8d-4205-d89f-eac3e05ccf1c"
      },
      "source": [
        "np.random.seed(123) #sequence of number to generate random numbers\n",
        "plt.hist(np.random.randn(100)*10 + 100)"
      ],
      "execution_count": null,
      "outputs": [
        {
          "output_type": "execute_result",
          "data": {
            "text/plain": [
              "(array([ 2.,  2.,  9., 17., 16., 14., 11., 16.,  8.,  5.]),\n",
              " array([ 72.01410895,  77.20506332,  82.39601769,  87.58697206,\n",
              "         92.77792643,  97.9688808 , 103.15983517, 108.35078955,\n",
              "        113.54174392, 118.73269829, 123.92365266]),\n",
              " <a list of 10 Patch objects>)"
            ]
          },
          "metadata": {
            "tags": []
          },
          "execution_count": 17
        },
        {
          "output_type": "display_data",
          "data": {
            "image/png": "[encoded data removed]",
            "text/plain": [
              "<Figure size 432x288 with 1 Axes>"
            ]
          },
          "metadata": {
            "tags": []
          }
        }
      ]
    },
    {
      "cell_type": "code",
      "metadata": {
        "id": "LceZfvSSQz7g"
      },
      "source": [
        "#THE LESOSN IS ALWAYS SEED THE RANDOM DISTRUBUTION TO COMPLY REPRODUCIBILITY\n",
        "# EVERY DISTRIBUTION CALLED AFTER IS DETERMINED BY THE SEED CHOSEN BEFORE"
      ],
      "execution_count": null,
      "outputs": []
    },
    {
      "cell_type": "code",
      "metadata": {
        "id": "fI1MiIDiRJYl"
      },
      "source": [
        "#IN MACHINE LEARNING THERE ARE FUNCTION THAT ALLOW RANDOM STATE, FOR EXAMPLE TO SIMULATE\n",
        "#NEURON TO AVOID FIT OVER IT"
      ],
      "execution_count": null,
      "outputs": []
    },
    {
      "cell_type": "markdown",
      "metadata": {
        "id": "t6mlunOFjhVd"
      },
      "source": [
        "##**DESCRIPTIVE STATISTICS**\n",
        "\n",
        "When I have a distribution (a set of numer) I can summarize its proprties looking at some caratteristic of the ditribution: central tendency, spread, skewness, ecc...\n",
        "\n",
        "Given a bunch of number I have to do exploratory analysis and descriptive statistics (e.g. when I see what is the average velocity of a star in a particular star cluster).\n",
        "\n",
        "The properties are derived with the same formula, this are the moment of the distribution."
      ]
    },
    {
      "cell_type": "markdown",
      "metadata": {
        "id": "-LiLwkYlkg8R"
      },
      "source": [
        "**DON'T USE THE MEAN TO DESCRIBE A DISCRIBE A DISTRIBUTION, BECAUSE THE MEAN IS STRONGLY SUBJECT TO THE PRESENCE OF OUTLIERS OF THE DISTRIBUTION**\n",
        "\n",
        "When I have collection of number, I don't want the oulier to domniate, so I use the median. **The median is the place where the 50% of numbers are larger and the 50% of number are smaller.**\n",
        "\n",
        "There is not a median method, but I can call np.median() and pass the distribution and than calculate median.\n",
        "\n",
        "**If distributoin is symmetric mean = median, but in general they are not the same.**\n",
        "\n"
      ]
    },
    {
      "cell_type": "markdown",
      "metadata": {
        "id": "88cbSJGQlzVX"
      },
      "source": [
        "The spread of disctribution is described by the **variance** and **standard deviation**, and the variance is the square of std dev. \n",
        "\n",
        "1 std dev of a gaussian contains 68% of data.\n",
        "\n",
        "3 std dev (3-sigma) of gaussian contains \n",
        "97.3% of data.\n",
        "\n",
        "We can use also quartile range to describe the spread.\n",
        "\n",
        "**BINOMIAL DISTRIBUTION**: distribution from coin toss, for example.\n",
        "\n",
        " **POISSON**: probability whaen events are countable. Reveal of a single particle, single photon, ..., for example when I have a steady state.\n",
        "Lambda is the mean and this lambda dominate the variance and std dev.\n",
        "\n",
        "**If lambda get very large this distribution becomes very symmetric distribution, but when lambda is small poisson distributionis asymmetric because support of poisson is > 0. When lambda is large, poisson --> gaussian with meann lambda and std is sqrt(lambda).**\n",
        "This is true when lambda is > than 30, more or less.\n",
        "\n",
        "**Chisq-distribution**: support > 0. \n",
        "\n",
        "\n",
        "**scipy.stats has all this distribution.**"
      ]
    },
    {
      "cell_type": "markdown",
      "metadata": {
        "id": "-2jcMvKDsl7w"
      },
      "source": [
        "**Law of large number**: if i have a large enough sample, and i calculate the mean and std dev, this might not be too different from the properties of the population from which i select the sample.\n",
        "\n",
        "This is true assuming that I have a set of indipendent (null covariance) and identically distributed (cames from the same distribution) random variable. In this way I remove some covariance tha can be due to other things.\n",
        "\n",
        "**THE MEAN OF A RANDOM SAMPLE IS A RANDOM VARIABLE WHICH IS GUASSIAN DITRIBUTED WITH STD DEV AND MEAN DETERMINED BY SIZE OF THE SAMPLE**\n",
        "\n",
        "\n",
        "\n",
        "**Central Limit Theorem**: This deals with N sample. Sample from the same population (say for example mean = 0 and std dev = 1).\n",
        "Take N sample, take the mean of each samples, and take the avarege of those mean. As the numebr of sample grows (N -> infinity),that average of the sample mean aproaches the mean of the population. \n",
        "\n",
        "It aproaches in a way that is gaussian distributed (with mean=0 and std dev =1/sqrt(N), if my population has mean = 0 and std dev = 1 ).\n",
        "Not only I get closer to the mean of the population, but I can also calculate how far I am from the mean of the population, beacuse I know that what I calculated is **the mean of the means, and is gaussian distributed with mean = mean of population and std dev = sigma/sqrt(N).**\n",
        "\n",
        "This is indipendent from th eoriginal distribution!!\n",
        "\n",
        "The difference between the sample mean and the expected value relates to the size of the sample as 1/sqrt(N)."
      ]
    },
    {
      "cell_type": "markdown",
      "metadata": {
        "id": "B_bzxYhKtBAh"
      },
      "source": [
        "##**Homework 2 (guarda guida notebook dal link sotto):**\n",
        "\n",
        "https://github.com/fedhere/MLPNS2021/blob/main/HW2_distributions/centralLimitTheorem.ipynb"
      ]
    },
    {
      "cell_type": "markdown",
      "metadata": {
        "id": "4mVA1N71yqLu"
      },
      "source": [
        "The number of degrees of freedom is\n",
        "\n",
        "n_dof = (num. of observations - num of parameters - 1)\n",
        "\n",
        "This degrees of freedoms is the input of the chisq- distribution.\n",
        "The MB dist. is a chisq distribution with 3 dof."
      ]
    },
    {
      "cell_type": "code",
      "metadata": {
        "colab": {
          "base_uri": "https://localhost:8080/"
        },
        "id": "B-7NpQsccIOG",
        "outputId": "53878ac3-3376-414f-b2fa-20bdec6aa4f3"
      },
      "source": [
        "from __future__ import print_function\n",
        "__author__= 'fbb'\n",
        "\n",
        "import pylab as pl\n",
        "from scipy.optimize import curve_fit, minimize\n",
        "    \n",
        "%pylab inline\n",
        "# this package sets up pretty plots\n",
        "import seaborn\n",
        "seaborn.set_style(\"darkgrid\")\n"
      ],
      "execution_count": null,
      "outputs": [
        {
          "output_type": "stream",
          "text": [
            "Populating the interactive namespace from numpy and matplotlib\n"
          ],
          "name": "stdout"
        }
      ]
    },
    {
      "cell_type": "code",
      "metadata": {
        "id": "OV6NFXzVip9t"
      },
      "source": [
        "#distributions = ['pois', 'gaus', 'chisq', 'cauchy', 'lnorm', 'binomial']\n",
        "distributions = ['binomial']"
      ],
      "execution_count": null,
      "outputs": []
    },
    {
      "cell_type": "markdown",
      "metadata": {
        "id": "neUWLxW4ba36"
      },
      "source": [
        "**Leggendo su https://numpy.org/doc/stable/reference/random/generated/numpy.random.binomial.html**\n",
        "\n",
        "scopro che la np.random.bunomial prende in input (n, p, size), dove:\n",
        "- n = number of trials\n",
        "- p = probability event of interest occurs on any one trial\n",
        "- size = number of times you want to run this experiment\n",
        "\n",
        "The probability density for the binomial distribution is\n",
        "\n",
        "P(N) = \\binom{n}{N}p^N(1-p)^{n-N},\n",
        "\n",
        "where n is the number of trials, p is the probability of success, and N is the number of successes."
      ]
    },
    {
      "cell_type": "code",
      "metadata": {
        "colab": {
          "base_uri": "https://localhost:8080/",
          "height": 282
        },
        "id": "cdc-ZpqRjc-O",
        "outputId": "7d1cd1e1-8a38-4d25-d787-898036d2d30f"
      },
      "source": [
        "np.random.seed(582)\n",
        "md = {}\n",
        "df = 20\n",
        "# md is an empty disctionary; \n",
        "# if you are not familiar with python dictionaries see https://www.pythonforbeginners.com/dictionary/how-to-use-dictionaries-in-python\n",
        "\n",
        "\n",
        "#CREO UNA DISTRIBUZIONE BINOMIALE E PASSO COME N 100. \n",
        "#DEVO CAPIRE ANCHE COME SONO RELAZIONATI I DOF E LA MEDIA, DAL MOMENTO CHE \n",
        "#VOGLIO CHE TUTTE LE DISTRIBUZIONI ABBIANO LA STESSA MEDIA (PER IL TEO DEL LIM CENTR)\n",
        "#E VORREI POI CREARE DISTRIBUZIONI DI SIZE DIFFERENTI PER VEDERE COME CAMBIA LA MEDIA\n",
        "\n",
        "#CON IL COMANDO SOTTO GENERO 500 NUMERI ESTRATTI DA UNA BINOMIALE CON N=100, p=0.5.\n",
        "#OVVERO LANCIO 100 VOLTE UNA MONETA. PER OGNI LANCIO SEGNO QUELLO CHE MI ESCE E \n",
        "#LO METTO IN UN ISTOGR. --> POI RIPETO TUTTO PER 500 VOLTE.\n",
        "#OGNI VOLTA CHE CONCLUDO 100 LANCI, OTTENGO CHE ALCUNE VOLTE SONO USCITE PIÙ TESTA E\n",
        "#ALTRE VOLTE SONO USCITE PIÙ CROCI. FACENDO L'ISTOGRAMMA VEDO CHE LA PROBAB DI \n",
        "#OTTENERE TESTA È PICCATA INTORNO AL 50%.\n",
        "md['binomial'] = np.random.binomial(100, 0.5, size=1500)\n",
        "# md now is a dictionary with one object: an array by the key 'chisq'\n",
        "pl.hist(md['binomial'], bins = 30)\n",
        "pl.ylabel('N')\n",
        "pl.xlabel('x');\n"
      ],
      "execution_count": null,
      "outputs": [
        {
          "output_type": "display_data",
          "data": {
            "image/png": "[encoded data removed]",
            "text/plain": [
              "<Figure size 432x288 with 1 Axes>"
            ]
          },
          "metadata": {
            "tags": []
          }
        }
      ]
    },
    {
      "cell_type": "markdown",
      "metadata": {
        "id": "sYH6KtZMgbzx"
      },
      "source": [
        "**Figure 1: Binomial distribution of a sample of size 500 for a binomial distribution with n= 100, p=0.5**"
      ]
    },
    {
      "cell_type": "code",
      "metadata": {
        "colab": {
          "base_uri": "https://localhost:8080/"
        },
        "id": "UNp87rnJkrub",
        "outputId": "59dd8ecc-d4f6-46cd-ecf6-50b701fe0674"
      },
      "source": [
        "#let numpy calculate what the mean and stdev of this distribution are\n",
        "print(\"binomial mean: %.2f, standard deviation: %.2f\"%(md['binomial'].mean(), md['binomial'].std()))"
      ],
      "execution_count": null,
      "outputs": [
        {
          "output_type": "stream",
          "text": [
            "binomial mean: 50.19, standard deviation: 4.96\n"
          ],
          "name": "stdout"
        }
      ]
    },
    {
      "cell_type": "code",
      "metadata": {
        "id": "GJUBFNWSoUxi"
      },
      "source": [
        "mu = (md['binomial'].mean())"
      ],
      "execution_count": null,
      "outputs": []
    },
    {
      "cell_type": "markdown",
      "metadata": {
        "id": "uyZD8Kf-d9kE"
      },
      "source": [
        "Adesso che ho generato una distribuzione, da questa devo estrarre 100 sample di grandezza differente. "
      ]
    },
    {
      "cell_type": "code",
      "metadata": {
        "colab": {
          "base_uri": "https://localhost:8080/"
        },
        "id": "YgR7NSO4ph5F",
        "outputId": "f9d09278-9bb9-4a23-e786-dceb39725a51"
      },
      "source": [
        "mysize = (2000 / (np.array(range(1, 100)))).astype(int)\n",
        "# mysize = 1000 / (np.array(range(1, 100) + [10]))\n",
        "# mysize = (np.random.rand(100) * 1000).astype(int)\n",
        "print (\"shape of the 'size' list that contains the size of each distribution\", mysize.shape)"
      ],
      "execution_count": null,
      "outputs": [
        {
          "output_type": "stream",
          "text": [
            "shape of the 'size' list that contains the size of each distribution (99,)\n"
          ],
          "name": "stdout"
        }
      ]
    },
    {
      "cell_type": "code",
      "metadata": {
        "colab": {
          "base_uri": "https://localhost:8080/",
          "height": 299
        },
        "id": "mIsKk_BKpi7q",
        "outputId": "0d1b375f-eb57-4ba3-81bf-58c7836935ed"
      },
      "source": [
        "pl.plot(mysize, '.')\n",
        "pl.xlabel(\"index\")\n",
        "pl.ylabel(\"size of the array\")"
      ],
      "execution_count": null,
      "outputs": [
        {
          "output_type": "execute_result",
          "data": {
            "text/plain": [
              "Text(0, 0.5, 'size of the array')"
            ]
          },
          "metadata": {
            "tags": []
          },
          "execution_count": 138
        },
        {
          "output_type": "display_data",
          "data": {
            "image/png": "[encoded data removed]",
            "text/plain": [
              "<Figure size 432x288 with 1 Axes>"
            ]
          },
          "metadata": {
            "tags": []
          }
        }
      ]
    },
    {
      "cell_type": "code",
      "metadata": {
        "colab": {
          "base_uri": "https://localhost:8080/",
          "height": 1000
        },
        "id": "zfhpNmaCmShV",
        "outputId": "05ea3a31-59a8-4055-ad0b-28d65dd70e11"
      },
      "source": [
        "# I am gonna overwrite the disctionary entry created into a nested dictionary \n",
        "# the outside dictionary hosts the distributions as dictionary, \n",
        "# and each distribution dictionary contains the 100 distribution (arrays of diferent sizes)\n",
        "\n",
        "md['binomial'] = {} \n",
        "\n",
        "#and do it in a for loop. not pythonic, but easily readable\n",
        "\n",
        "for n in mysize:\n",
        "    md['binomial'][n] = np.random.binomial(100, 0.5, n)\n",
        "    \n",
        "# save the means for plotting later    \n",
        "\n",
        "md['binomial']['means'] = {}\n",
        "axchisq_mu_n = pl.figure(figsize=(10,6)).add_subplot(111)\n",
        "\n",
        "for nn in md['binomial']:\n",
        "    if not type(nn) == str:\n",
        "        md['binomial']['means'][nn] = md['binomial'][nn].mean()\n",
        "        #and plot it\n",
        "        axchisq_mu_n.plot(nn, md['binomial']['means'][nn], 'o')\n",
        "        axchisq_mu_n.set_xlabel('sample size', fontsize=18)\n",
        "        axchisq_mu_n.set_ylabel('sample mean', fontsize=18)\n",
        "        axchisq_mu_n.set_title('binomial', fontsize=18)\n",
        "        axchisq_mu_n.plot([min(mysize), max(mysize)], [mu,mu], 'k')\n",
        "axchisq_mu_n.text(axchisq_mu_n.get_xlim()[1] * .6, 100, \"expected mean\", \n",
        "                  va=\"bottom\", fontsize=20)"
      ],
      "execution_count": null,
      "outputs": [
        {
          "output_type": "execute_result",
          "data": {
            "text/plain": [
              "Text(1259.3999999999999, 100, 'expected mean')"
            ]
          },
          "metadata": {
            "tags": []
          },
          "execution_count": 139
        },
        {
          "output_type": "display_data",
          "data": {
            "image/png": "[encoded data removed]",
            "text/plain": [
              "<Figure size 720x432 with 1 Axes>"
            ]
          },
          "metadata": {
            "tags": []
          }
        }
      ]
    },
    {
      "cell_type": "markdown",
      "metadata": {
        "id": "EsY8rsNEp1KI"
      },
      "source": [
        "**Figure 2: Ogni punto rappresenta la media di un sample di una determinata size. Si vede che al crescere della size del sample, la media tende alla media della distibuzione iniziale**"
      ]
    },
    {
      "cell_type": "markdown",
      "metadata": {
        "id": "oKlGg9MhqGjU"
      },
      "source": [
        "**now the histogram of the mean of all samples**:\n",
        "\n",
        "\n",
        "this requires some data wrangling, since i put the data in a dictionary which is a user friendly data structure, but perhaps not the most machine friendly one "
      ]
    },
    {
      "cell_type": "code",
      "metadata": {
        "colab": {
          "base_uri": "https://localhost:8080/",
          "height": 634
        },
        "id": "wO6so4yYqK-G",
        "outputId": "b4448ce7-ee18-461f-8ff5-cd38988c3982"
      },
      "source": [
        "allmeans = list(md['binomial']['means'].values())\n",
        "\n",
        "pl.figure(figsize=(10, 10))\n",
        "pl.hist(allmeans,bins=30)\n",
        "pl.xlabel('sample mean', fontsize = 18)\n",
        "pl.ylabel('N', fontsize = 18)"
      ],
      "execution_count": null,
      "outputs": [
        {
          "output_type": "execute_result",
          "data": {
            "text/plain": [
              "Text(0, 0.5, 'N')"
            ]
          },
          "metadata": {
            "tags": []
          },
          "execution_count": 72
        },
        {
          "output_type": "display_data",
          "data": {
            "image/png": "[encoded data removed]",
            "text/plain": [
              "<Figure size 720x720 with 1 Axes>"
            ]
          },
          "metadata": {
            "tags": []
          }
        }
      ]
    }
  ]
}