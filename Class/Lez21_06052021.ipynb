{
  "nbformat": 4,
  "nbformat_minor": 0,
  "metadata": {
    "colab": {
      "name": "Lez21 06052021.ipynb",
      "provenance": [],
      "collapsed_sections": [
        "u9ZEQOagnEGe",
        "ieKe2osUnbEc",
        "849gl5rgncac",
        "dT0sRgSKndoz",
        "-krMupwEnd_L"
      ],
      "authorship_tag": "ABX9TyONBuasoWqQhrDThxIoigt0",
      "include_colab_link": true
    },
    "kernelspec": {
      "name": "python3",
      "display_name": "Python 3"
    },
    "language_info": {
      "name": "python"
    },
    "accelerator": "GPU"
  },
  "cells": [
    {
      "cell_type": "markdown",
      "metadata": {
        "id": "view-in-github",
        "colab_type": "text"
      },
      "source": [
        "<a href=\"https://colab.research.google.com/github/FedeleDelvecchio/MLPNS/blob/main/Class/Lez21_06052021.ipynb\" target=\"_parent\"><img src=\"https://colab.research.google.com/assets/colab-badge.svg\" alt=\"Open In Colab\"/></a>"
      ]
    },
    {
      "cell_type": "markdown",
      "metadata": {
        "id": "k4wnPFH2vSOO"
      },
      "source": [
        "**nel notebook 20**\n",
        "\n",
        "quando acquisiamo le immagini all'inizio da keras, la sintassi\n",
        "\n",
        "(x_train, _),(x_test, _) = mnist.load_data()\n",
        "\n",
        "sta a significare che quando carico l'immagine, non mi interessa la y variable perchè questa rappresenta il numero relativo all'immagine (cioè se l'immagine rappresenta il 5, la y varibale è 5). Siccome la y non mi interessa perchè non mi serve per l'autoencoder, non la acquisisco e ci metto un underscore. \n",
        "\n",
        "Quando creo il modello e creo i dense layer con Dense(...), le dimensioni in input:\n",
        "\n",
        "se non è un convolutional NN come quello fatto per identificare la molecola, ma invece è un NN fatto di dense layer come quello fatto per l'autoencoder, questo layer è un oggetto bidimensionale per cui prima di passare l'immagine devo fare il reshape. \n",
        "\n",
        "-------\n",
        "\n",
        "Posso salvare i progressi con patience.\n",
        "\n",
        "Posso salvare il modello con i pesi e tutto con hd5 con un modello binario e dopo posso fare predizioni su immagini che hanno la stessa dimenionalità sulla quale ho fatto il training.\n",
        "\n",
        "-------\n",
        "\n",
        "**Per essere precisi, più che la loss function vorrei vedere quando la validation smette di diminuire. Si può inserire passando il parametro nel history=model.fit(..., validation_split).\n",
        "In questo caso il modello fa volta per volta lo split tra il train e test e fa la validazione all'interno del modello stesso.**\n"
      ]
    },
    {
      "cell_type": "markdown",
      "metadata": {
        "id": "Hv0UHnAEdBsN"
      },
      "source": [
        "#Convolutional Neural Network "
      ]
    },
    {
      "cell_type": "markdown",
      "metadata": {
        "id": "whMLILm3mRju"
      },
      "source": [
        "Torniamo a parlare del metodo della slide window per vedere perchè non è efficienti.\n",
        "\n",
        "Vedremo degli algoritmi più efficienti che sono faster CNN e YOLO."
      ]
    },
    {
      "cell_type": "markdown",
      "metadata": {
        "id": "8Fmvs8yLep7w"
      },
      "source": [
        "##**ASSICURARSI DI AVERE IL RUNTIME IMPOSTATO SULLA GPU, ALTRIMENTI È TROPPO LENTO**\n",
        "\n",
        "#ESERCIZIO GALASSIE \n",
        "\n",
        "https://github.com/fedhere/MLPNS2021/blob/main/NNDL/CNNgalaxies.ipynb"
      ]
    },
    {
      "cell_type": "code",
      "metadata": {
        "colab": {
          "base_uri": "https://localhost:8080/"
        },
        "id": "yZIKgbzwd1oO",
        "outputId": "2263dcbc-b112-4ba4-ed22-da7cac1c8163"
      },
      "source": [
        "from google.colab import drive\n",
        "drive.mount(\"/content/drive\")"
      ],
      "execution_count": 3,
      "outputs": [
        {
          "output_type": "stream",
          "text": [
            "Mounted at /content/drive\n"
          ],
          "name": "stdout"
        }
      ]
    },
    {
      "cell_type": "code",
      "metadata": {
        "colab": {
          "base_uri": "https://localhost:8080/"
        },
        "id": "rKZmeegefP2V",
        "outputId": "1f59fbac-3ccf-4648-856a-8ef6acf76d6f"
      },
      "source": [
        "ls"
      ],
      "execution_count": 4,
      "outputs": [
        {
          "output_type": "stream",
          "text": [
            "\u001b[0m\u001b[01;34mdrive\u001b[0m/  \u001b[01;34msample_data\u001b[0m/\n"
          ],
          "name": "stdout"
        }
      ]
    },
    {
      "cell_type": "code",
      "metadata": {
        "colab": {
          "base_uri": "https://localhost:8080/"
        },
        "id": "5KepQ39zedx1",
        "outputId": "1a00a1e0-3a26-4881-d5ab-fed9467838ff"
      },
      "source": [
        "cd drive/MyDrive/MLPNS/"
      ],
      "execution_count": 5,
      "outputs": [
        {
          "output_type": "stream",
          "text": [
            "/content/drive/MyDrive/MLPNS\n"
          ],
          "name": "stdout"
        }
      ]
    },
    {
      "cell_type": "code",
      "metadata": {
        "colab": {
          "base_uri": "https://localhost:8080/"
        },
        "id": "Poq3PHwRei8F",
        "outputId": "943fb1ec-11a3-4658-aa98-2c69259dbb4a"
      },
      "source": [
        "ls"
      ],
      "execution_count": 6,
      "outputs": [
        {
          "output_type": "stream",
          "text": [
            " all_ones_benchmark.zip\n",
            " all_zeros_benchmark.zip\n",
            " bootcampNB.ipynb\n",
            " busBusses.npy\n",
            " busTimeTable.npy\n",
            " CEDIT_6_5_Friuli_Italy_1976.cpg\n",
            " CEDIT_6_5_Friuli_Italy_1976.dbf\n",
            " CEDIT_6_5_Friuli_Italy_1976.prj\n",
            " CEDIT_6_5_Friuli_Italy_1976.sbn\n",
            " CEDIT_6_5_Friuli_Italy_1976.sbx\n",
            " CEDIT_6_5_Friuli_Italy_1976.shp\n",
            " CEDIT_6_5_Friuli_Italy_1976.shp.xml\n",
            " CEDIT_6_5_Friuli_Italy_1976.shx\n",
            "'CEDIT_6_5_Friuli_Italy_1976.zip?raw=true'\n",
            "'CEDIT_6_5_Friuli_Italy_1976.zip?raw=true.1'\n",
            "'CEDIT_6_5_Friuli_Italy_1976.zip?raw=true.2'\n",
            " central_pixel_benchmark.zip\n",
            " country_pop.xls\n",
            " demo1.py\n",
            " demo2.py\n",
            " demo3.py\n",
            " e68ceb0a193e4e378b29255b62ab75e0_0.geojson\n",
            " e68ceb0a193e4e378b29255b62ab75e0_0.geojson.1\n",
            " e68ceb0a193e4e378b29255b62ab75e0_0.geojson.2\n",
            " flatiron_building_new_york_city-111.jpg\n",
            " galimgs.npy\n",
            " grb050525A.csv\n",
            " healthcare-dataset-stroke-data.csv\n",
            " images_test_rev1.zip\n",
            " \u001b[0m\u001b[01;34mimages_training_rev1\u001b[0m/\n",
            " images_training_rev1.zip\n",
            " inclassNB2016.ipynb\n",
            " inclassNB2017.ipynb\n",
            " inclassNB2018.ipynb\n",
            " ispalindrome.cpython-37.pyc\n",
            " ispalindrome.py\n",
            " \u001b[01;34mkaggleHiggs\u001b[0m/\n",
            " kaggle.json\n",
            " kalbar_drone_190113-768x512.jpg\n",
            " \u001b[01;34mlogs\u001b[0m/\n",
            " LoopExercise.ipynb\n",
            " LoopExerciseSolution.ipynb\n",
            " Mona_Lisa.png\n",
            " NYCskyline.jpg\n",
            " NYC_Women_s_Resource_Network_Database.csv\n",
            " PandasDataWrangling-Chap7.ipynb\n",
            " playwPandas.ipynb\n",
            " printGoodmorningGoodAfternoon_instructions.py\n",
            " printGoodmorningGoodAfternoon.py\n",
            " pyboot2020_2.ipynb\n",
            " pyboot2020.ipynb\n",
            " pyBootParma.ipynb\n",
            " readingData.ipynb\n",
            " README.md\n",
            " \u001b[01;34mspm\u001b[0m/\n",
            " spm-20210427T111354Z-001.zip\n",
            " stroke-prediction-dataset.zip\n",
            " training_solutions_rev1.csv\n",
            " training_solutions_rev1.zip\n",
            "'view?usp=sharing'\n",
            " ZIP_CODE_040114.dbf\n",
            " ZIP_CODE_040114.prj\n",
            " ZIP_CODE_040114.sbn\n",
            " ZIP_CODE_040114.sbx\n",
            " ZIP_CODE_040114.shp\n",
            " ZIP_CODE_040114.shp.xml\n",
            " ZIP_CODE_040114.shx\n",
            " ZIP_CODE_040114.zip\n",
            "'ZIP_CODE_040114.zip?raw=true'\n",
            "'ZIP_CODE_040114.zip?raw=true.1'\n",
            "'ZIP_CODE_040114.zip?raw=true.2'\n",
            "'ZIP_CODE_040114.zip?raw=true.3'\n"
          ],
          "name": "stdout"
        }
      ]
    },
    {
      "cell_type": "code",
      "metadata": {
        "id": "9Xr42pv-p29a"
      },
      "source": [
        "!chmod 600 kaggle.json"
      ],
      "execution_count": 7,
      "outputs": []
    },
    {
      "cell_type": "code",
      "metadata": {
        "id": "2p3FnBn7e3Yg"
      },
      "source": [
        "import json\n",
        "import os\n",
        "envs = json.load(open(\"kaggle.json\", \"r\"))\n",
        "os.environ[\"KAGGLE_USERNAME\"] = envs['username']\n",
        "os.environ[\"KAGGLE_KEY\"] = envs['key'] "
      ],
      "execution_count": 8,
      "outputs": []
    },
    {
      "cell_type": "markdown",
      "metadata": {
        "id": "DSlt8S8ShYXv"
      },
      "source": [
        "**RICORDATI DI ACCETTARE LE REGOLE DELLA CHALLENGE**"
      ]
    },
    {
      "cell_type": "code",
      "metadata": {
        "colab": {
          "base_uri": "https://localhost:8080/"
        },
        "id": "49Km3TolfZNx",
        "outputId": "fe8a7ea1-aeb8-4028-8a3c-cb29c0a26fa3"
      },
      "source": [
        "!kaggle competitions download -c galaxy-zoo-the-galaxy-challenge "
      ],
      "execution_count": 9,
      "outputs": [
        {
          "output_type": "stream",
          "text": [
            "Warning: Looks like you're using an outdated API Version, please consider updating (server 1.5.12 / client 1.5.4)\n",
            "all_ones_benchmark.zip: Skipping, found more recently modified local copy (use --force to force download)\n",
            "images_training_rev1.zip: Skipping, found more recently modified local copy (use --force to force download)\n",
            "central_pixel_benchmark.zip: Skipping, found more recently modified local copy (use --force to force download)\n",
            "images_test_rev1.zip: Skipping, found more recently modified local copy (use --force to force download)\n",
            "training_solutions_rev1.zip: Skipping, found more recently modified local copy (use --force to force download)\n",
            "all_zeros_benchmark.zip: Skipping, found more recently modified local copy (use --force to force download)\n"
          ],
          "name": "stdout"
        }
      ]
    },
    {
      "cell_type": "markdown",
      "metadata": {
        "id": "SaWCN0_iz_0w"
      },
      "source": [
        "Se non riesco a scaricare e leggere da kaggle, vedi: https://github.com/fedhere/MLPNS2021/blob/main/toLoadGalimgsNPY.ipynb"
      ]
    },
    {
      "cell_type": "markdown",
      "metadata": {
        "id": "iVr-Xgzp3mm7"
      },
      "source": [
        "Ho fatto unzip una volta e finchè non cancello i file da drive, posso non fare più unzip."
      ]
    },
    {
      "cell_type": "code",
      "metadata": {
        "id": "E2iWPhrjfaWx"
      },
      "source": [
        "#!unzip images_training_rev1.zip"
      ],
      "execution_count": null,
      "outputs": []
    },
    {
      "cell_type": "code",
      "metadata": {
        "id": "yqDTxOuyfeaz"
      },
      "source": [
        "#!unzip training_solutions_rev1.zip "
      ],
      "execution_count": null,
      "outputs": []
    },
    {
      "cell_type": "code",
      "metadata": {
        "colab": {
          "base_uri": "https://localhost:8080/",
          "height": 313
        },
        "id": "fDE0ch8mqhRr",
        "outputId": "c40727fc-c5fc-403b-c068-0c94d0c0a4b5"
      },
      "source": [
        "!ls images_training_rev1"
      ],
      "execution_count": 11,
      "outputs": [
        {
          "output_type": "error",
          "ename": "KeyboardInterrupt",
          "evalue": "ignored",
          "traceback": [
            "\u001b[0;31m---------------------------------------------------------------------------\u001b[0m",
            "\u001b[0;31mKeyboardInterrupt\u001b[0m                         Traceback (most recent call last)",
            "\u001b[0;32m<ipython-input-11-f328f9b47704>\u001b[0m in \u001b[0;36m<module>\u001b[0;34m()\u001b[0m\n\u001b[0;32m----> 1\u001b[0;31m \u001b[0mget_ipython\u001b[0m\u001b[0;34m(\u001b[0m\u001b[0;34m)\u001b[0m\u001b[0;34m.\u001b[0m\u001b[0msystem\u001b[0m\u001b[0;34m(\u001b[0m\u001b[0;34m'ls images_training_rev1'\u001b[0m\u001b[0;34m)\u001b[0m\u001b[0;34m\u001b[0m\u001b[0;34m\u001b[0m\u001b[0m\n\u001b[0m",
            "\u001b[0;32m/usr/local/lib/python3.7/dist-packages/google/colab/_shell.py\u001b[0m in \u001b[0;36msystem\u001b[0;34m(self, *args, **kwargs)\u001b[0m\n\u001b[1;32m    100\u001b[0m       \u001b[0mkwargs\u001b[0m\u001b[0;34m.\u001b[0m\u001b[0mupdate\u001b[0m\u001b[0;34m(\u001b[0m\u001b[0;34m{\u001b[0m\u001b[0;34m'also_return_output'\u001b[0m\u001b[0;34m:\u001b[0m \u001b[0;32mTrue\u001b[0m\u001b[0;34m}\u001b[0m\u001b[0;34m)\u001b[0m\u001b[0;34m\u001b[0m\u001b[0;34m\u001b[0m\u001b[0m\n\u001b[1;32m    101\u001b[0m \u001b[0;34m\u001b[0m\u001b[0m\n\u001b[0;32m--> 102\u001b[0;31m     \u001b[0moutput\u001b[0m \u001b[0;34m=\u001b[0m \u001b[0m_system_commands\u001b[0m\u001b[0;34m.\u001b[0m\u001b[0m_system_compat\u001b[0m\u001b[0;34m(\u001b[0m\u001b[0mself\u001b[0m\u001b[0;34m,\u001b[0m \u001b[0;34m*\u001b[0m\u001b[0margs\u001b[0m\u001b[0;34m,\u001b[0m \u001b[0;34m**\u001b[0m\u001b[0mkwargs\u001b[0m\u001b[0;34m)\u001b[0m  \u001b[0;31m# pylint:disable=protected-access\u001b[0m\u001b[0;34m\u001b[0m\u001b[0;34m\u001b[0m\u001b[0m\n\u001b[0m\u001b[1;32m    103\u001b[0m \u001b[0;34m\u001b[0m\u001b[0m\n\u001b[1;32m    104\u001b[0m     \u001b[0;32mif\u001b[0m \u001b[0mpip_warn\u001b[0m\u001b[0;34m:\u001b[0m\u001b[0;34m\u001b[0m\u001b[0;34m\u001b[0m\u001b[0m\n",
            "\u001b[0;32m/usr/local/lib/python3.7/dist-packages/google/colab/_system_commands.py\u001b[0m in \u001b[0;36m_system_compat\u001b[0;34m(shell, cmd, also_return_output)\u001b[0m\n\u001b[1;32m    445\u001b[0m   \u001b[0;31m# stack.\u001b[0m\u001b[0;34m\u001b[0m\u001b[0;34m\u001b[0m\u001b[0;34m\u001b[0m\u001b[0m\n\u001b[1;32m    446\u001b[0m   result = _run_command(\n\u001b[0;32m--> 447\u001b[0;31m       shell.var_expand(cmd, depth=2), clear_streamed_output=False)\n\u001b[0m\u001b[1;32m    448\u001b[0m   \u001b[0mshell\u001b[0m\u001b[0;34m.\u001b[0m\u001b[0muser_ns\u001b[0m\u001b[0;34m[\u001b[0m\u001b[0;34m'_exit_code'\u001b[0m\u001b[0;34m]\u001b[0m \u001b[0;34m=\u001b[0m \u001b[0mresult\u001b[0m\u001b[0;34m.\u001b[0m\u001b[0mreturncode\u001b[0m\u001b[0;34m\u001b[0m\u001b[0;34m\u001b[0m\u001b[0m\n\u001b[1;32m    449\u001b[0m   \u001b[0;32mif\u001b[0m \u001b[0;34m-\u001b[0m\u001b[0mresult\u001b[0m\u001b[0;34m.\u001b[0m\u001b[0mreturncode\u001b[0m \u001b[0;32min\u001b[0m \u001b[0m_INTERRUPTED_SIGNALS\u001b[0m\u001b[0;34m:\u001b[0m\u001b[0;34m\u001b[0m\u001b[0;34m\u001b[0m\u001b[0m\n",
            "\u001b[0;32m/usr/local/lib/python3.7/dist-packages/google/colab/_system_commands.py\u001b[0m in \u001b[0;36m_run_command\u001b[0;34m(cmd, clear_streamed_output)\u001b[0m\n\u001b[1;32m    197\u001b[0m       \u001b[0mos\u001b[0m\u001b[0;34m.\u001b[0m\u001b[0mclose\u001b[0m\u001b[0;34m(\u001b[0m\u001b[0mchild_pty\u001b[0m\u001b[0;34m)\u001b[0m\u001b[0;34m\u001b[0m\u001b[0;34m\u001b[0m\u001b[0m\n\u001b[1;32m    198\u001b[0m \u001b[0;34m\u001b[0m\u001b[0m\n\u001b[0;32m--> 199\u001b[0;31m       \u001b[0;32mreturn\u001b[0m \u001b[0m_monitor_process\u001b[0m\u001b[0;34m(\u001b[0m\u001b[0mparent_pty\u001b[0m\u001b[0;34m,\u001b[0m \u001b[0mepoll\u001b[0m\u001b[0;34m,\u001b[0m \u001b[0mp\u001b[0m\u001b[0;34m,\u001b[0m \u001b[0mcmd\u001b[0m\u001b[0;34m,\u001b[0m \u001b[0mupdate_stdin_widget\u001b[0m\u001b[0;34m)\u001b[0m\u001b[0;34m\u001b[0m\u001b[0;34m\u001b[0m\u001b[0m\n\u001b[0m\u001b[1;32m    200\u001b[0m   \u001b[0;32mfinally\u001b[0m\u001b[0;34m:\u001b[0m\u001b[0;34m\u001b[0m\u001b[0;34m\u001b[0m\u001b[0m\n\u001b[1;32m    201\u001b[0m     \u001b[0mepoll\u001b[0m\u001b[0;34m.\u001b[0m\u001b[0mclose\u001b[0m\u001b[0;34m(\u001b[0m\u001b[0;34m)\u001b[0m\u001b[0;34m\u001b[0m\u001b[0;34m\u001b[0m\u001b[0m\n",
            "\u001b[0;32m/usr/local/lib/python3.7/dist-packages/google/colab/_system_commands.py\u001b[0m in \u001b[0;36m_monitor_process\u001b[0;34m(parent_pty, epoll, p, cmd, update_stdin_widget)\u001b[0m\n\u001b[1;32m    227\u001b[0m   \u001b[0;32mwhile\u001b[0m \u001b[0;32mTrue\u001b[0m\u001b[0;34m:\u001b[0m\u001b[0;34m\u001b[0m\u001b[0;34m\u001b[0m\u001b[0m\n\u001b[1;32m    228\u001b[0m     \u001b[0;32mtry\u001b[0m\u001b[0;34m:\u001b[0m\u001b[0;34m\u001b[0m\u001b[0;34m\u001b[0m\u001b[0m\n\u001b[0;32m--> 229\u001b[0;31m       \u001b[0mresult\u001b[0m \u001b[0;34m=\u001b[0m \u001b[0m_poll_process\u001b[0m\u001b[0;34m(\u001b[0m\u001b[0mparent_pty\u001b[0m\u001b[0;34m,\u001b[0m \u001b[0mepoll\u001b[0m\u001b[0;34m,\u001b[0m \u001b[0mp\u001b[0m\u001b[0;34m,\u001b[0m \u001b[0mcmd\u001b[0m\u001b[0;34m,\u001b[0m \u001b[0mdecoder\u001b[0m\u001b[0;34m,\u001b[0m \u001b[0mstate\u001b[0m\u001b[0;34m)\u001b[0m\u001b[0;34m\u001b[0m\u001b[0;34m\u001b[0m\u001b[0m\n\u001b[0m\u001b[1;32m    230\u001b[0m       \u001b[0;32mif\u001b[0m \u001b[0mresult\u001b[0m \u001b[0;32mis\u001b[0m \u001b[0;32mnot\u001b[0m \u001b[0;32mNone\u001b[0m\u001b[0;34m:\u001b[0m\u001b[0;34m\u001b[0m\u001b[0;34m\u001b[0m\u001b[0m\n\u001b[1;32m    231\u001b[0m         \u001b[0;32mreturn\u001b[0m \u001b[0mresult\u001b[0m\u001b[0;34m\u001b[0m\u001b[0;34m\u001b[0m\u001b[0m\n",
            "\u001b[0;32m/usr/local/lib/python3.7/dist-packages/google/colab/_system_commands.py\u001b[0m in \u001b[0;36m_poll_process\u001b[0;34m(parent_pty, epoll, p, cmd, decoder, state)\u001b[0m\n\u001b[1;32m    329\u001b[0m     \u001b[0;31m# TODO(b/115527726): Rather than sleep, poll for incoming messages from\u001b[0m\u001b[0;34m\u001b[0m\u001b[0;34m\u001b[0m\u001b[0;34m\u001b[0m\u001b[0m\n\u001b[1;32m    330\u001b[0m     \u001b[0;31m# the frontend in the same poll as for the output.\u001b[0m\u001b[0;34m\u001b[0m\u001b[0;34m\u001b[0m\u001b[0;34m\u001b[0m\u001b[0m\n\u001b[0;32m--> 331\u001b[0;31m     \u001b[0mtime\u001b[0m\u001b[0;34m.\u001b[0m\u001b[0msleep\u001b[0m\u001b[0;34m(\u001b[0m\u001b[0;36m0.1\u001b[0m\u001b[0;34m)\u001b[0m\u001b[0;34m\u001b[0m\u001b[0;34m\u001b[0m\u001b[0m\n\u001b[0m\u001b[1;32m    332\u001b[0m \u001b[0;34m\u001b[0m\u001b[0m\n\u001b[1;32m    333\u001b[0m \u001b[0;34m\u001b[0m\u001b[0m\n",
            "\u001b[0;31mKeyboardInterrupt\u001b[0m: "
          ]
        }
      ]
    },
    {
      "cell_type": "markdown",
      "metadata": {
        "id": "u9ZEQOagnEGe"
      },
      "source": [
        "#I dati di queste galassie sono suddivise in classi. Noi divideremo i dati in 4 classi. Modifichiamo le label probabilistiche per ottenere 4 label che classificano le galassie in:"
      ]
    },
    {
      "cell_type": "markdown",
      "metadata": {
        "id": "ieKe2osUnbEc"
      },
      "source": [
        "#spiral"
      ]
    },
    {
      "cell_type": "markdown",
      "metadata": {
        "id": "849gl5rgncac"
      },
      "source": [
        "#elliptical"
      ]
    },
    {
      "cell_type": "markdown",
      "metadata": {
        "id": "dT0sRgSKndoz"
      },
      "source": [
        "#irregular"
      ]
    },
    {
      "cell_type": "markdown",
      "metadata": {
        "id": "-krMupwEnd_L"
      },
      "source": [
        "#not a galaxy"
      ]
    },
    {
      "cell_type": "markdown",
      "metadata": {
        "id": "rTpLTZwcnoQM"
      },
      "source": [
        "#E alla fine creeremo da soli una CNN che sia in grado di classificare le galassie.\n",
        "#**La mia target variable è la classificazione delle galassie**"
      ]
    },
    {
      "cell_type": "code",
      "metadata": {
        "id": "YkYg5KUmqquM"
      },
      "source": [
        "import pandas as pd\n",
        "training_labels = pd.read_csv(\"training_solutions_rev1.csv\")"
      ],
      "execution_count": 12,
      "outputs": []
    },
    {
      "cell_type": "markdown",
      "metadata": {
        "id": "rJ-ZnYKL4OlG"
      },
      "source": [
        "###Utilizziamo il pacchetto cv2 per leggere le immagini"
      ]
    },
    {
      "cell_type": "code",
      "metadata": {
        "id": "E6IJDTErqrRN"
      },
      "source": [
        "import pylab as pl\n",
        "import cv2\n",
        "import numpy as np"
      ],
      "execution_count": 13,
      "outputs": []
    },
    {
      "cell_type": "markdown",
      "metadata": {
        "id": "CfUcZ-vNofqT"
      },
      "source": [
        "Plottiamo un immagine a caso per vedere come sono fatte le immagini"
      ]
    },
    {
      "cell_type": "code",
      "metadata": {
        "colab": {
          "base_uri": "https://localhost:8080/",
          "height": 286
        },
        "id": "2-9zs9RKqu1y",
        "outputId": "a39a1d22-40a0-4cc9-aa09-4e27645d55df"
      },
      "source": [
        "img = np.asarray(cv2.imread(\"images_training_rev1/313205.jpg\"))\n",
        "pl.imshow(img)"
      ],
      "execution_count": 17,
      "outputs": [
        {
          "output_type": "execute_result",
          "data": {
            "text/plain": [
              "<matplotlib.image.AxesImage at 0x7f39fcc9eb50>"
            ]
          },
          "metadata": {
            "tags": []
          },
          "execution_count": 17
        },
        {
          "output_type": "display_data",
          "data": {
            "image/png": "[encoded data removed]",
            "text/plain": [
              "<Figure size 432x288 with 1 Axes>"
            ]
          },
          "metadata": {
            "tags": [],
            "needs_background": "light"
          }
        }
      ]
    },
    {
      "cell_type": "code",
      "metadata": {
        "id": "gA63qDtLqxqS",
        "colab": {
          "base_uri": "https://localhost:8080/"
        },
        "outputId": "1f3bfa6f-f7fd-411c-fa01-4df7bb2a9ee6"
      },
      "source": [
        "import glob\n",
        "#glob permette di listare contenuto di folders e directory. Tipo ls ma ls non torna \n",
        "#il valore dell'oggetto a python, metre glob si. \n",
        "\n",
        "#creo un array di dim 1000 di zeri per leggere 1000 immagini. \n",
        "#Leggo le immagini come numpy object per le prime 1000 immagini \n",
        "#e poi trasformo ouput come array.\n",
        "ims = np.zeros([1000, img.shape[0], img.shape[1], img.shape[2]], dtype=np.uint8)\n",
        "for i,im in enumerate(glob.glob(\"images_training_rev1/*\")[:1000]):\n",
        "  if i%10 == 0:\n",
        "    print (\"index\", i, end=\"\\r\", flush=True)  \n",
        "  ims[i] = np.asarray(cv2.imread(im))"
      ],
      "execution_count": 18,
      "outputs": [
        {
          "output_type": "stream",
          "text": [
            ""
          ],
          "name": "stdout"
        }
      ]
    },
    {
      "cell_type": "markdown",
      "metadata": {
        "id": "pq1_5TQLx1z_"
      },
      "source": [
        "Posso salvare quello che ho letto, così se si dovesse interromepre il kernel posso rileggere i file direttamente in file numerici, anzichp fare di nuovo il for loop. Per creare questo file devo fare"
      ]
    },
    {
      "cell_type": "code",
      "metadata": {
        "id": "AWDzgXryyCTF"
      },
      "source": [
        "#np.save('filename.npy', ims)"
      ],
      "execution_count": 40,
      "outputs": []
    },
    {
      "cell_type": "markdown",
      "metadata": {
        "id": "ktswNDnEbJFG"
      },
      "source": [
        "Le immagini sono RGB quindi sono (424,424,3).\n",
        "\n",
        "**Nel for loop leggo ogni immagine come numpy object, per trasformarle in un array.**\n",
        "\n",
        "ims è un array di 1000 oggetti, ciascuno di (424,424,3)."
      ]
    },
    {
      "cell_type": "code",
      "metadata": {
        "id": "HeGKOxcmq6yk",
        "colab": {
          "base_uri": "https://localhost:8080/"
        },
        "outputId": "9ed1964a-1e13-4376-d803-2ec6d838cca2"
      },
      "source": [
        "ims.shape"
      ],
      "execution_count": 20,
      "outputs": [
        {
          "output_type": "execute_result",
          "data": {
            "text/plain": [
              "(1000, 424, 424, 3)"
            ]
          },
          "metadata": {
            "tags": []
          },
          "execution_count": 20
        }
      ]
    },
    {
      "cell_type": "markdown",
      "metadata": {
        "id": "mJ-RCGrlieXU"
      },
      "source": [
        "#**Autoencoders per image recognition**\n",
        "\n",
        "Abbiamo delle sequential linear neural netwrk. Nelle NN è tipico avere layer che diminuiscono la dimenisonalità delle input feature, fino ad arrivare fino a 2 neuroni o a 1 neuroni nel caso di classificazione binaria.\n",
        "\n",
        "Tipicamente passiamo da high dimensional input variable ad una low dimenisonal output variable.\n",
        "\n",
        "**Un autoencoder, invece, ha un architecture con un bottleneck.**\n",
        "\n",
        "Il l'autoencoder deve predire se stesso, cioè le input e output feature sono la stessa cosa. Questo è utile perchè il bottlneck riduce la dimneisonalità salvando tutto l'infomration content, e dopo se riesco a riprodurre l'input ho vinto perchè ho ridotto la dimenisonalità dell'input e riesco comunque a ricostruire l'input.\n",
        "\n",
        "Con il bottleneck posso anche pensare di fare clustering, ma ha un costo computazionale elevato farlo sulle immagini.\n",
        "\n",
        " \n",
        "\n",
        "The loss function, and the activation function for the last layer are very important."
      ]
    },
    {
      "cell_type": "markdown",
      "metadata": {
        "id": "Ibbc99h0rOWS"
      },
      "source": [
        "#Torniamo a parlare di CNN and YOLO\n",
        "\n",
        "###Tutti i problemi che riguardano image analysis si usano le CNN e YOLO perché le input features (ovvero i data, ovvero i pixel delle immagini) sono tante. \n",
        "\n",
        "Abbiamo due aspetti delle NN: image detection e image recognition. E sono due problemi ben distinti.\n",
        "\n",
        "Per l'autoencoder che riconosce le handwritten digit parliamo di image recognition.\n",
        "\n",
        "Quello che faremo noi è creare autoencoder per image recognition. \n",
        "\n",
        "\n"
      ]
    },
    {
      "cell_type": "markdown",
      "metadata": {
        "id": "7R9O3oslOWw3"
      },
      "source": [
        "###**Per quanto riguarda l'esericzio di trovare la molecola all'interno delle immagini:**\n",
        "\n",
        "- abbiamo trainato un cNN per imparare la forma della molecola\n",
        "\n",
        "- il NN si è creato delle feature maps che servono per fare la convoluzione e ricnoscere se nell'immagini c'è o no la molecola imparata prima. **Aabbiamo così risolto il problema dell'image recognition, per immagini di quella specifica size che contengono una molecola**.\n",
        "\n",
        "- Siccome le immagini che vengono dal microscopio sono molto grandi e contengono diverse molecole, abbiamo creato un NN che cerca su ogni subset dell'immagine grande se c'è la molecola e in base a questo crea una mappa probabilistica delle posizoini della molecola (sliding window).\n",
        "\n"
      ]
    },
    {
      "cell_type": "markdown",
      "metadata": {
        "id": "tFIMxyZdPWp-"
      },
      "source": [
        "##**Per l'esercizio sulle galassie in cui abbiamo tantissime immagini, questo metodo è poco efficiente.**\n",
        "\n",
        "###**Tutti qeusti modelli di image recognition servono per riconoscere se c'è un determinato oggetto in un immagine, ma non sanno cercare cosa ci possa essere in un immagine. Sono 2 problemi diversi.**\n",
        "\n",
        "\n",
        "Vogliamo passare dal \"riconoscere dov'è un oggetto\", al \"riconoscere che oggetti si trovano all'interno di una imaagine\". \n",
        "\n",
        "(Quello che diciamo può essere capito meglio se pensiamo alle self driving cars: bisogna riconscere un oggetto, in qualsiasi posizione esso sia e poi bisogna decidere cosa fare).\n",
        "\n",
        "###Abbiamo due problemi nel cercare cosa ci può essere in un immagine:\n",
        "\n",
        "1. gli oggetti possono essere ovunque  \n",
        "\n",
        "2. gli oggetti possono avere una dimensione diversa (scaling problem) in base alla distanza ecc..\n",
        "\n",
        "Soluzioni: \n",
        "\n",
        "#R-CNN:\n",
        "\n",
        "- si propongono esattamente 2000 regioni di un immagine che hanno una distribuzione di pixel in cui è probabile che ci sia un oggetto.\n",
        "\n",
        "- usa CNN per estrarre le feature delle 2000 regioni.\n",
        "\n",
        "- usa un SVM per classificare la preseza o assenza di un oggetto nella regione.\n",
        "\n",
        "#Fast R-CNN:\n",
        " \n",
        "come prima ma uso CNN per generare feature map e algoritmo per identificare le regioni. Usa una ROI pooling layer.\n",
        "\n",
        "#Faster R-CNN:\n",
        "\n",
        "2 NN: uno per region proposal e uno per le predizioni (clasification NN).\n",
        "\n"
      ]
    },
    {
      "cell_type": "markdown",
      "metadata": {
        "id": "dSoiqociuOef"
      },
      "source": [
        "**YOLO DEMO**: https://github.com/fedhere/MLPNS2021/blob/main/NNDL/yolodemo.ipynb\n",
        "\n",
        "I can train YOLO to find galaxy. I have to create label for galaxy, and I can use some tools to do this: such as \"labelme\" by github."
      ]
    },
    {
      "cell_type": "markdown",
      "metadata": {
        "id": "ivJYPEGgyhYB"
      },
      "source": [
        "#Torniamo alle galassie"
      ]
    },
    {
      "cell_type": "markdown",
      "metadata": {
        "id": "sLIu-2JSYb8F"
      },
      "source": [
        "**Come otteniamo le label dalle immagini delle galassie?**"
      ]
    },
    {
      "cell_type": "markdown",
      "metadata": {
        "id": "dt9D3mXS0kKE"
      },
      "source": [
        "###**Le LABELS SONO UNA Classificazione probailistica delle galassie**. Siccome sono tante, per fare l'esercizio le collassiamo in sole 4 categorie."
      ]
    },
    {
      "cell_type": "code",
      "metadata": {
        "id": "Mlr3migXrIFm",
        "colab": {
          "base_uri": "https://localhost:8080/",
          "height": 444
        },
        "outputId": "f56b5e0f-40e1-43c4-eaff-449089c4c810"
      },
      "source": [
        "training_labels"
      ],
      "execution_count": 21,
      "outputs": [
        {
          "output_type": "execute_result",
          "data": {
            "text/html": [
              "<div>\n",
              "<style scoped>\n",
              "    .dataframe tbody tr th:only-of-type {\n",
              "        vertical-align: middle;\n",
              "    }\n",
              "\n",
              "    .dataframe tbody tr th {\n",
              "        vertical-align: top;\n",
              "    }\n",
              "\n",
              "    .dataframe thead th {\n",
              "        text-align: right;\n",
              "    }\n",
              "</style>\n",
              "<table border=\"1\" class=\"dataframe\">\n",
              "  <thead>\n",
              "    <tr style=\"text-align: right;\">\n",
              "      <th></th>\n",
              "      <th>GalaxyID</th>\n",
              "      <th>Class1.1</th>\n",
              "      <th>Class1.2</th>\n",
              "      <th>Class1.3</th>\n",
              "      <th>Class2.1</th>\n",
              "      <th>Class2.2</th>\n",
              "      <th>Class3.1</th>\n",
              "      <th>Class3.2</th>\n",
              "      <th>Class4.1</th>\n",
              "      <th>Class4.2</th>\n",
              "      <th>Class5.1</th>\n",
              "      <th>Class5.2</th>\n",
              "      <th>Class5.3</th>\n",
              "      <th>Class5.4</th>\n",
              "      <th>Class6.1</th>\n",
              "      <th>Class6.2</th>\n",
              "      <th>Class7.1</th>\n",
              "      <th>Class7.2</th>\n",
              "      <th>Class7.3</th>\n",
              "      <th>Class8.1</th>\n",
              "      <th>Class8.2</th>\n",
              "      <th>Class8.3</th>\n",
              "      <th>Class8.4</th>\n",
              "      <th>Class8.5</th>\n",
              "      <th>Class8.6</th>\n",
              "      <th>Class8.7</th>\n",
              "      <th>Class9.1</th>\n",
              "      <th>Class9.2</th>\n",
              "      <th>Class9.3</th>\n",
              "      <th>Class10.1</th>\n",
              "      <th>Class10.2</th>\n",
              "      <th>Class10.3</th>\n",
              "      <th>Class11.1</th>\n",
              "      <th>Class11.2</th>\n",
              "      <th>Class11.3</th>\n",
              "      <th>Class11.4</th>\n",
              "      <th>Class11.5</th>\n",
              "      <th>Class11.6</th>\n",
              "    </tr>\n",
              "  </thead>\n",
              "  <tbody>\n",
              "    <tr>\n",
              "      <th>0</th>\n",
              "      <td>100008</td>\n",
              "      <td>0.383147</td>\n",
              "      <td>0.616853</td>\n",
              "      <td>0.000000</td>\n",
              "      <td>0.000000</td>\n",
              "      <td>0.616853</td>\n",
              "      <td>0.038452</td>\n",
              "      <td>0.578401</td>\n",
              "      <td>0.418398</td>\n",
              "      <td>0.198455</td>\n",
              "      <td>0.000000</td>\n",
              "      <td>0.104752</td>\n",
              "      <td>0.512101</td>\n",
              "      <td>0.000000</td>\n",
              "      <td>0.054453</td>\n",
              "      <td>0.945547</td>\n",
              "      <td>0.201463</td>\n",
              "      <td>0.181684</td>\n",
              "      <td>0.000000</td>\n",
              "      <td>0.00000</td>\n",
              "      <td>0.027226</td>\n",
              "      <td>0.000000</td>\n",
              "      <td>0.027226</td>\n",
              "      <td>0.000000</td>\n",
              "      <td>0.000000</td>\n",
              "      <td>0.000000</td>\n",
              "      <td>0.000000</td>\n",
              "      <td>0.0</td>\n",
              "      <td>0.000000</td>\n",
              "      <td>0.279952</td>\n",
              "      <td>0.138445</td>\n",
              "      <td>0.000000</td>\n",
              "      <td>0.000000</td>\n",
              "      <td>0.092886</td>\n",
              "      <td>0.000000</td>\n",
              "      <td>0.000000</td>\n",
              "      <td>0.0</td>\n",
              "      <td>0.325512</td>\n",
              "    </tr>\n",
              "    <tr>\n",
              "      <th>1</th>\n",
              "      <td>100023</td>\n",
              "      <td>0.327001</td>\n",
              "      <td>0.663777</td>\n",
              "      <td>0.009222</td>\n",
              "      <td>0.031178</td>\n",
              "      <td>0.632599</td>\n",
              "      <td>0.467370</td>\n",
              "      <td>0.165229</td>\n",
              "      <td>0.591328</td>\n",
              "      <td>0.041271</td>\n",
              "      <td>0.000000</td>\n",
              "      <td>0.236781</td>\n",
              "      <td>0.160941</td>\n",
              "      <td>0.234877</td>\n",
              "      <td>0.189149</td>\n",
              "      <td>0.810851</td>\n",
              "      <td>0.000000</td>\n",
              "      <td>0.135082</td>\n",
              "      <td>0.191919</td>\n",
              "      <td>0.00000</td>\n",
              "      <td>0.000000</td>\n",
              "      <td>0.140353</td>\n",
              "      <td>0.000000</td>\n",
              "      <td>0.048796</td>\n",
              "      <td>0.000000</td>\n",
              "      <td>0.000000</td>\n",
              "      <td>0.012414</td>\n",
              "      <td>0.0</td>\n",
              "      <td>0.018764</td>\n",
              "      <td>0.000000</td>\n",
              "      <td>0.131378</td>\n",
              "      <td>0.459950</td>\n",
              "      <td>0.000000</td>\n",
              "      <td>0.591328</td>\n",
              "      <td>0.000000</td>\n",
              "      <td>0.000000</td>\n",
              "      <td>0.0</td>\n",
              "      <td>0.000000</td>\n",
              "    </tr>\n",
              "    <tr>\n",
              "      <th>2</th>\n",
              "      <td>100053</td>\n",
              "      <td>0.765717</td>\n",
              "      <td>0.177352</td>\n",
              "      <td>0.056931</td>\n",
              "      <td>0.000000</td>\n",
              "      <td>0.177352</td>\n",
              "      <td>0.000000</td>\n",
              "      <td>0.177352</td>\n",
              "      <td>0.000000</td>\n",
              "      <td>0.177352</td>\n",
              "      <td>0.000000</td>\n",
              "      <td>0.117790</td>\n",
              "      <td>0.059562</td>\n",
              "      <td>0.000000</td>\n",
              "      <td>0.000000</td>\n",
              "      <td>1.000000</td>\n",
              "      <td>0.000000</td>\n",
              "      <td>0.741864</td>\n",
              "      <td>0.023853</td>\n",
              "      <td>0.00000</td>\n",
              "      <td>0.000000</td>\n",
              "      <td>0.000000</td>\n",
              "      <td>0.000000</td>\n",
              "      <td>0.000000</td>\n",
              "      <td>0.000000</td>\n",
              "      <td>0.000000</td>\n",
              "      <td>0.000000</td>\n",
              "      <td>0.0</td>\n",
              "      <td>0.000000</td>\n",
              "      <td>0.000000</td>\n",
              "      <td>0.000000</td>\n",
              "      <td>0.000000</td>\n",
              "      <td>0.000000</td>\n",
              "      <td>0.000000</td>\n",
              "      <td>0.000000</td>\n",
              "      <td>0.000000</td>\n",
              "      <td>0.0</td>\n",
              "      <td>0.000000</td>\n",
              "    </tr>\n",
              "    <tr>\n",
              "      <th>3</th>\n",
              "      <td>100078</td>\n",
              "      <td>0.693377</td>\n",
              "      <td>0.238564</td>\n",
              "      <td>0.068059</td>\n",
              "      <td>0.000000</td>\n",
              "      <td>0.238564</td>\n",
              "      <td>0.109493</td>\n",
              "      <td>0.129071</td>\n",
              "      <td>0.189098</td>\n",
              "      <td>0.049466</td>\n",
              "      <td>0.000000</td>\n",
              "      <td>0.000000</td>\n",
              "      <td>0.113284</td>\n",
              "      <td>0.125280</td>\n",
              "      <td>0.320398</td>\n",
              "      <td>0.679602</td>\n",
              "      <td>0.408599</td>\n",
              "      <td>0.284778</td>\n",
              "      <td>0.000000</td>\n",
              "      <td>0.00000</td>\n",
              "      <td>0.000000</td>\n",
              "      <td>0.096119</td>\n",
              "      <td>0.096119</td>\n",
              "      <td>0.000000</td>\n",
              "      <td>0.128159</td>\n",
              "      <td>0.000000</td>\n",
              "      <td>0.000000</td>\n",
              "      <td>0.0</td>\n",
              "      <td>0.000000</td>\n",
              "      <td>0.094549</td>\n",
              "      <td>0.000000</td>\n",
              "      <td>0.094549</td>\n",
              "      <td>0.189098</td>\n",
              "      <td>0.000000</td>\n",
              "      <td>0.000000</td>\n",
              "      <td>0.000000</td>\n",
              "      <td>0.0</td>\n",
              "      <td>0.000000</td>\n",
              "    </tr>\n",
              "    <tr>\n",
              "      <th>4</th>\n",
              "      <td>100090</td>\n",
              "      <td>0.933839</td>\n",
              "      <td>0.000000</td>\n",
              "      <td>0.066161</td>\n",
              "      <td>0.000000</td>\n",
              "      <td>0.000000</td>\n",
              "      <td>0.000000</td>\n",
              "      <td>0.000000</td>\n",
              "      <td>0.000000</td>\n",
              "      <td>0.000000</td>\n",
              "      <td>0.000000</td>\n",
              "      <td>0.000000</td>\n",
              "      <td>0.000000</td>\n",
              "      <td>0.000000</td>\n",
              "      <td>0.029383</td>\n",
              "      <td>0.970617</td>\n",
              "      <td>0.494587</td>\n",
              "      <td>0.439252</td>\n",
              "      <td>0.000000</td>\n",
              "      <td>0.00000</td>\n",
              "      <td>0.000000</td>\n",
              "      <td>0.000000</td>\n",
              "      <td>0.000000</td>\n",
              "      <td>0.000000</td>\n",
              "      <td>0.029383</td>\n",
              "      <td>0.000000</td>\n",
              "      <td>0.000000</td>\n",
              "      <td>0.0</td>\n",
              "      <td>0.000000</td>\n",
              "      <td>0.000000</td>\n",
              "      <td>0.000000</td>\n",
              "      <td>0.000000</td>\n",
              "      <td>0.000000</td>\n",
              "      <td>0.000000</td>\n",
              "      <td>0.000000</td>\n",
              "      <td>0.000000</td>\n",
              "      <td>0.0</td>\n",
              "      <td>0.000000</td>\n",
              "    </tr>\n",
              "    <tr>\n",
              "      <th>...</th>\n",
              "      <td>...</td>\n",
              "      <td>...</td>\n",
              "      <td>...</td>\n",
              "      <td>...</td>\n",
              "      <td>...</td>\n",
              "      <td>...</td>\n",
              "      <td>...</td>\n",
              "      <td>...</td>\n",
              "      <td>...</td>\n",
              "      <td>...</td>\n",
              "      <td>...</td>\n",
              "      <td>...</td>\n",
              "      <td>...</td>\n",
              "      <td>...</td>\n",
              "      <td>...</td>\n",
              "      <td>...</td>\n",
              "      <td>...</td>\n",
              "      <td>...</td>\n",
              "      <td>...</td>\n",
              "      <td>...</td>\n",
              "      <td>...</td>\n",
              "      <td>...</td>\n",
              "      <td>...</td>\n",
              "      <td>...</td>\n",
              "      <td>...</td>\n",
              "      <td>...</td>\n",
              "      <td>...</td>\n",
              "      <td>...</td>\n",
              "      <td>...</td>\n",
              "      <td>...</td>\n",
              "      <td>...</td>\n",
              "      <td>...</td>\n",
              "      <td>...</td>\n",
              "      <td>...</td>\n",
              "      <td>...</td>\n",
              "      <td>...</td>\n",
              "      <td>...</td>\n",
              "      <td>...</td>\n",
              "    </tr>\n",
              "    <tr>\n",
              "      <th>61573</th>\n",
              "      <td>999948</td>\n",
              "      <td>0.510379</td>\n",
              "      <td>0.489621</td>\n",
              "      <td>0.000000</td>\n",
              "      <td>0.059207</td>\n",
              "      <td>0.430414</td>\n",
              "      <td>0.000000</td>\n",
              "      <td>0.430414</td>\n",
              "      <td>0.226257</td>\n",
              "      <td>0.204157</td>\n",
              "      <td>0.043458</td>\n",
              "      <td>0.260804</td>\n",
              "      <td>0.000000</td>\n",
              "      <td>0.126152</td>\n",
              "      <td>0.245734</td>\n",
              "      <td>0.754266</td>\n",
              "      <td>0.000000</td>\n",
              "      <td>0.410816</td>\n",
              "      <td>0.099563</td>\n",
              "      <td>0.03514</td>\n",
              "      <td>0.000000</td>\n",
              "      <td>0.000000</td>\n",
              "      <td>0.000000</td>\n",
              "      <td>0.175454</td>\n",
              "      <td>0.035140</td>\n",
              "      <td>0.000000</td>\n",
              "      <td>0.059207</td>\n",
              "      <td>0.0</td>\n",
              "      <td>0.000000</td>\n",
              "      <td>0.226257</td>\n",
              "      <td>0.000000</td>\n",
              "      <td>0.000000</td>\n",
              "      <td>0.000000</td>\n",
              "      <td>0.000000</td>\n",
              "      <td>0.000000</td>\n",
              "      <td>0.000000</td>\n",
              "      <td>0.0</td>\n",
              "      <td>0.226257</td>\n",
              "    </tr>\n",
              "    <tr>\n",
              "      <th>61574</th>\n",
              "      <td>999950</td>\n",
              "      <td>0.901216</td>\n",
              "      <td>0.098784</td>\n",
              "      <td>0.000000</td>\n",
              "      <td>0.000000</td>\n",
              "      <td>0.098784</td>\n",
              "      <td>0.000000</td>\n",
              "      <td>0.098784</td>\n",
              "      <td>0.000000</td>\n",
              "      <td>0.098784</td>\n",
              "      <td>0.000000</td>\n",
              "      <td>0.045378</td>\n",
              "      <td>0.053406</td>\n",
              "      <td>0.000000</td>\n",
              "      <td>0.127644</td>\n",
              "      <td>0.872356</td>\n",
              "      <td>0.404841</td>\n",
              "      <td>0.496375</td>\n",
              "      <td>0.000000</td>\n",
              "      <td>0.00000</td>\n",
              "      <td>0.000000</td>\n",
              "      <td>0.021321</td>\n",
              "      <td>0.000000</td>\n",
              "      <td>0.062095</td>\n",
              "      <td>0.044229</td>\n",
              "      <td>0.000000</td>\n",
              "      <td>0.000000</td>\n",
              "      <td>0.0</td>\n",
              "      <td>0.000000</td>\n",
              "      <td>0.000000</td>\n",
              "      <td>0.000000</td>\n",
              "      <td>0.000000</td>\n",
              "      <td>0.000000</td>\n",
              "      <td>0.000000</td>\n",
              "      <td>0.000000</td>\n",
              "      <td>0.000000</td>\n",
              "      <td>0.0</td>\n",
              "      <td>0.000000</td>\n",
              "    </tr>\n",
              "    <tr>\n",
              "      <th>61575</th>\n",
              "      <td>999958</td>\n",
              "      <td>0.202841</td>\n",
              "      <td>0.777376</td>\n",
              "      <td>0.019783</td>\n",
              "      <td>0.116962</td>\n",
              "      <td>0.660414</td>\n",
              "      <td>0.067245</td>\n",
              "      <td>0.593168</td>\n",
              "      <td>0.140022</td>\n",
              "      <td>0.520391</td>\n",
              "      <td>0.000000</td>\n",
              "      <td>0.257128</td>\n",
              "      <td>0.347328</td>\n",
              "      <td>0.055958</td>\n",
              "      <td>0.839186</td>\n",
              "      <td>0.160814</td>\n",
              "      <td>0.030477</td>\n",
              "      <td>0.172364</td>\n",
              "      <td>0.000000</td>\n",
              "      <td>0.00000</td>\n",
              "      <td>0.000000</td>\n",
              "      <td>0.033567</td>\n",
              "      <td>0.134270</td>\n",
              "      <td>0.067135</td>\n",
              "      <td>0.604214</td>\n",
              "      <td>0.000000</td>\n",
              "      <td>0.116962</td>\n",
              "      <td>0.0</td>\n",
              "      <td>0.000000</td>\n",
              "      <td>0.000000</td>\n",
              "      <td>0.090673</td>\n",
              "      <td>0.049349</td>\n",
              "      <td>0.000000</td>\n",
              "      <td>0.067726</td>\n",
              "      <td>0.000000</td>\n",
              "      <td>0.000000</td>\n",
              "      <td>0.0</td>\n",
              "      <td>0.072296</td>\n",
              "    </tr>\n",
              "    <tr>\n",
              "      <th>61576</th>\n",
              "      <td>999964</td>\n",
              "      <td>0.091000</td>\n",
              "      <td>0.909000</td>\n",
              "      <td>0.000000</td>\n",
              "      <td>0.045450</td>\n",
              "      <td>0.863550</td>\n",
              "      <td>0.022452</td>\n",
              "      <td>0.841098</td>\n",
              "      <td>0.795330</td>\n",
              "      <td>0.068220</td>\n",
              "      <td>0.000000</td>\n",
              "      <td>0.227114</td>\n",
              "      <td>0.545764</td>\n",
              "      <td>0.090673</td>\n",
              "      <td>0.864000</td>\n",
              "      <td>0.136000</td>\n",
              "      <td>0.045500</td>\n",
              "      <td>0.045500</td>\n",
              "      <td>0.000000</td>\n",
              "      <td>0.09072</td>\n",
              "      <td>0.000000</td>\n",
              "      <td>0.090720</td>\n",
              "      <td>0.136512</td>\n",
              "      <td>0.045792</td>\n",
              "      <td>0.500256</td>\n",
              "      <td>0.000000</td>\n",
              "      <td>0.045450</td>\n",
              "      <td>0.0</td>\n",
              "      <td>0.000000</td>\n",
              "      <td>0.068398</td>\n",
              "      <td>0.318132</td>\n",
              "      <td>0.408799</td>\n",
              "      <td>0.227464</td>\n",
              "      <td>0.408799</td>\n",
              "      <td>0.090668</td>\n",
              "      <td>0.023065</td>\n",
              "      <td>0.0</td>\n",
              "      <td>0.045334</td>\n",
              "    </tr>\n",
              "    <tr>\n",
              "      <th>61577</th>\n",
              "      <td>999967</td>\n",
              "      <td>0.767000</td>\n",
              "      <td>0.140000</td>\n",
              "      <td>0.093000</td>\n",
              "      <td>0.000000</td>\n",
              "      <td>0.140000</td>\n",
              "      <td>0.000000</td>\n",
              "      <td>0.140000</td>\n",
              "      <td>0.023380</td>\n",
              "      <td>0.116620</td>\n",
              "      <td>0.000000</td>\n",
              "      <td>0.046620</td>\n",
              "      <td>0.070000</td>\n",
              "      <td>0.023380</td>\n",
              "      <td>0.333000</td>\n",
              "      <td>0.667000</td>\n",
              "      <td>0.069797</td>\n",
              "      <td>0.674193</td>\n",
              "      <td>0.023010</td>\n",
              "      <td>0.00000</td>\n",
              "      <td>0.025641</td>\n",
              "      <td>0.204795</td>\n",
              "      <td>0.025641</td>\n",
              "      <td>0.051282</td>\n",
              "      <td>0.000000</td>\n",
              "      <td>0.025641</td>\n",
              "      <td>0.000000</td>\n",
              "      <td>0.0</td>\n",
              "      <td>0.000000</td>\n",
              "      <td>0.023380</td>\n",
              "      <td>0.000000</td>\n",
              "      <td>0.000000</td>\n",
              "      <td>0.000000</td>\n",
              "      <td>0.000000</td>\n",
              "      <td>0.000000</td>\n",
              "      <td>0.000000</td>\n",
              "      <td>0.0</td>\n",
              "      <td>0.023380</td>\n",
              "    </tr>\n",
              "  </tbody>\n",
              "</table>\n",
              "<p>61578 rows × 38 columns</p>\n",
              "</div>"
            ],
            "text/plain": [
              "       GalaxyID  Class1.1  Class1.2  ...  Class11.4  Class11.5  Class11.6\n",
              "0        100008  0.383147  0.616853  ...   0.000000        0.0   0.325512\n",
              "1        100023  0.327001  0.663777  ...   0.000000        0.0   0.000000\n",
              "2        100053  0.765717  0.177352  ...   0.000000        0.0   0.000000\n",
              "3        100078  0.693377  0.238564  ...   0.000000        0.0   0.000000\n",
              "4        100090  0.933839  0.000000  ...   0.000000        0.0   0.000000\n",
              "...         ...       ...       ...  ...        ...        ...        ...\n",
              "61573    999948  0.510379  0.489621  ...   0.000000        0.0   0.226257\n",
              "61574    999950  0.901216  0.098784  ...   0.000000        0.0   0.000000\n",
              "61575    999958  0.202841  0.777376  ...   0.000000        0.0   0.072296\n",
              "61576    999964  0.091000  0.909000  ...   0.023065        0.0   0.045334\n",
              "61577    999967  0.767000  0.140000  ...   0.000000        0.0   0.023380\n",
              "\n",
              "[61578 rows x 38 columns]"
            ]
          },
          "metadata": {
            "tags": []
          },
          "execution_count": 21
        }
      ]
    },
    {
      "cell_type": "markdown",
      "metadata": {
        "id": "UwlDUbeMb4F1"
      },
      "source": [
        "Quindi creo dei vettori estraendo le training label dalla classe1.3. **Il vettore nga ci da le probabilità che un oggetto non sia una galassia.**\n",
        "\n",
        "E analogamente per gli altri tipi di classi.\n",
        "\n",
        "Spi è un dataframe invece. E ho deciso che la probabilità che sia a spirale è il max della probabilità di tutte le probabilità disponibili per le spirali di tipo A, B, ecc.\n",
        "\n"
      ]
    },
    {
      "cell_type": "code",
      "metadata": {
        "id": "oYaxma6g0zmX"
      },
      "source": [
        "#probability that it is not a galaxy\n",
        "nga = training_labels[\"Class1.3\"]\n",
        "#probab that it is spiral\n",
        "spi = training_labels[[\"Class5.1\", \"Class5.2\", \"Class5.3\", \"Class5.4\"]].max(axis=1)\n",
        "#probab that it is elliptical\n",
        "ell = training_labels[\"Class6.2\"]\n",
        "irr = training_labels[[\"Class8.1\", \"Class8.2\", \"Class8.3\", \"Class8.4\", \"Class8.5\", \"Class8.6\", \"Class8.7\"]].max(axis=1)\n",
        "training_labels2 = pd.DataFrame({\"nga\": nga, \"spi\":spi, \"ell\":ell, \"irr\":irr})"
      ],
      "execution_count": 22,
      "outputs": []
    },
    {
      "cell_type": "code",
      "metadata": {
        "id": "ftVyumGn00IG",
        "colab": {
          "base_uri": "https://localhost:8080/",
          "height": 424
        },
        "outputId": "365481d4-753a-42de-9aad-fbf0dd3d1e91"
      },
      "source": [
        "training_labels2"
      ],
      "execution_count": 23,
      "outputs": [
        {
          "output_type": "execute_result",
          "data": {
            "text/html": [
              "<div>\n",
              "<style scoped>\n",
              "    .dataframe tbody tr th:only-of-type {\n",
              "        vertical-align: middle;\n",
              "    }\n",
              "\n",
              "    .dataframe tbody tr th {\n",
              "        vertical-align: top;\n",
              "    }\n",
              "\n",
              "    .dataframe thead th {\n",
              "        text-align: right;\n",
              "    }\n",
              "</style>\n",
              "<table border=\"1\" class=\"dataframe\">\n",
              "  <thead>\n",
              "    <tr style=\"text-align: right;\">\n",
              "      <th></th>\n",
              "      <th>nga</th>\n",
              "      <th>spi</th>\n",
              "      <th>ell</th>\n",
              "      <th>irr</th>\n",
              "    </tr>\n",
              "  </thead>\n",
              "  <tbody>\n",
              "    <tr>\n",
              "      <th>0</th>\n",
              "      <td>0.000000</td>\n",
              "      <td>0.512101</td>\n",
              "      <td>0.945547</td>\n",
              "      <td>0.027226</td>\n",
              "    </tr>\n",
              "    <tr>\n",
              "      <th>1</th>\n",
              "      <td>0.009222</td>\n",
              "      <td>0.236781</td>\n",
              "      <td>0.810851</td>\n",
              "      <td>0.140353</td>\n",
              "    </tr>\n",
              "    <tr>\n",
              "      <th>2</th>\n",
              "      <td>0.056931</td>\n",
              "      <td>0.117790</td>\n",
              "      <td>1.000000</td>\n",
              "      <td>0.000000</td>\n",
              "    </tr>\n",
              "    <tr>\n",
              "      <th>3</th>\n",
              "      <td>0.068059</td>\n",
              "      <td>0.125280</td>\n",
              "      <td>0.679602</td>\n",
              "      <td>0.128159</td>\n",
              "    </tr>\n",
              "    <tr>\n",
              "      <th>4</th>\n",
              "      <td>0.066161</td>\n",
              "      <td>0.000000</td>\n",
              "      <td>0.970617</td>\n",
              "      <td>0.029383</td>\n",
              "    </tr>\n",
              "    <tr>\n",
              "      <th>...</th>\n",
              "      <td>...</td>\n",
              "      <td>...</td>\n",
              "      <td>...</td>\n",
              "      <td>...</td>\n",
              "    </tr>\n",
              "    <tr>\n",
              "      <th>61573</th>\n",
              "      <td>0.000000</td>\n",
              "      <td>0.260804</td>\n",
              "      <td>0.754266</td>\n",
              "      <td>0.175454</td>\n",
              "    </tr>\n",
              "    <tr>\n",
              "      <th>61574</th>\n",
              "      <td>0.000000</td>\n",
              "      <td>0.053406</td>\n",
              "      <td>0.872356</td>\n",
              "      <td>0.062095</td>\n",
              "    </tr>\n",
              "    <tr>\n",
              "      <th>61575</th>\n",
              "      <td>0.019783</td>\n",
              "      <td>0.347328</td>\n",
              "      <td>0.160814</td>\n",
              "      <td>0.604214</td>\n",
              "    </tr>\n",
              "    <tr>\n",
              "      <th>61576</th>\n",
              "      <td>0.000000</td>\n",
              "      <td>0.545764</td>\n",
              "      <td>0.136000</td>\n",
              "      <td>0.500256</td>\n",
              "    </tr>\n",
              "    <tr>\n",
              "      <th>61577</th>\n",
              "      <td>0.093000</td>\n",
              "      <td>0.070000</td>\n",
              "      <td>0.667000</td>\n",
              "      <td>0.204795</td>\n",
              "    </tr>\n",
              "  </tbody>\n",
              "</table>\n",
              "<p>61578 rows × 4 columns</p>\n",
              "</div>"
            ],
            "text/plain": [
              "            nga       spi       ell       irr\n",
              "0      0.000000  0.512101  0.945547  0.027226\n",
              "1      0.009222  0.236781  0.810851  0.140353\n",
              "2      0.056931  0.117790  1.000000  0.000000\n",
              "3      0.068059  0.125280  0.679602  0.128159\n",
              "4      0.066161  0.000000  0.970617  0.029383\n",
              "...         ...       ...       ...       ...\n",
              "61573  0.000000  0.260804  0.754266  0.175454\n",
              "61574  0.000000  0.053406  0.872356  0.062095\n",
              "61575  0.019783  0.347328  0.160814  0.604214\n",
              "61576  0.000000  0.545764  0.136000  0.500256\n",
              "61577  0.093000  0.070000  0.667000  0.204795\n",
              "\n",
              "[61578 rows x 4 columns]"
            ]
          },
          "metadata": {
            "tags": []
          },
          "execution_count": 23
        }
      ]
    },
    {
      "cell_type": "markdown",
      "metadata": {
        "id": "oxZwmQ2m1Myk"
      },
      "source": [
        "They're still probabilistic and I want to simplify this problem:\n",
        "\n",
        "#VOGLIO AVERE UN CLASSIFIER CON 4 CLASSI\n",
        "\n",
        "**Allora creo una TARGET VARIABLE che contiene 0,1,2,3 basato sul valore più alto tra le tipologie che ho creato**"
      ]
    },
    {
      "cell_type": "code",
      "metadata": {
        "id": "mOAb9zE21Wtl"
      },
      "source": [
        "newclass = [np.where(training_labels2.iloc[i] == np.max(training_labels2.iloc[i]))[0][0]\n",
        "            for i in range(len(training_labels2))]"
      ],
      "execution_count": 24,
      "outputs": []
    },
    {
      "cell_type": "markdown",
      "metadata": {
        "id": "xENUla1S1mGn"
      },
      "source": [
        "\"for every index that goes from 0 to len(dataframe), take that row and where that row take its maxmum value, save that index\"."
      ]
    },
    {
      "cell_type": "code",
      "metadata": {
        "id": "dnTD70kh1aZI",
        "colab": {
          "base_uri": "https://localhost:8080/"
        },
        "outputId": "a14d6c7d-98f3-4176-8c44-1dca018994ea"
      },
      "source": [
        "newclass"
      ],
      "execution_count": 25,
      "outputs": [
        {
          "output_type": "execute_result",
          "data": {
            "text/plain": [
              "[2,\n",
              " 2,\n",
              " 2,\n",
              " 2,\n",
              " 2,\n",
              " 2,\n",
              " 3,\n",
              " 2,\n",
              " 1,\n",
              " 2,\n",
              " 2,\n",
              " 2,\n",
              " 2,\n",
              " 2,\n",
              " 2,\n",
              " 1,\n",
              " 3,\n",
              " 2,\n",
              " 2,\n",
              " 2,\n",
              " 2,\n",
              " 2,\n",
              " 2,\n",
              " 2,\n",
              " 2,\n",
              " 2,\n",
              " 2,\n",
              " 2,\n",
              " 2,\n",
              " 2,\n",
              " 3,\n",
              " 2,\n",
              " 2,\n",
              " 2,\n",
              " 3,\n",
              " 3,\n",
              " 2,\n",
              " 3,\n",
              " 2,\n",
              " 2,\n",
              " 2,\n",
              " 2,\n",
              " 1,\n",
              " 2,\n",
              " 2,\n",
              " 2,\n",
              " 2,\n",
              " 2,\n",
              " 2,\n",
              " 2,\n",
              " 2,\n",
              " 1,\n",
              " 2,\n",
              " 2,\n",
              " 2,\n",
              " 2,\n",
              " 2,\n",
              " 2,\n",
              " 2,\n",
              " 2,\n",
              " 2,\n",
              " 2,\n",
              " 2,\n",
              " 2,\n",
              " 1,\n",
              " 2,\n",
              " 1,\n",
              " 2,\n",
              " 2,\n",
              " 1,\n",
              " 2,\n",
              " 1,\n",
              " 2,\n",
              " 2,\n",
              " 2,\n",
              " 2,\n",
              " 2,\n",
              " 2,\n",
              " 1,\n",
              " 2,\n",
              " 2,\n",
              " 2,\n",
              " 2,\n",
              " 2,\n",
              " 2,\n",
              " 2,\n",
              " 2,\n",
              " 2,\n",
              " 2,\n",
              " 2,\n",
              " 1,\n",
              " 2,\n",
              " 2,\n",
              " 3,\n",
              " 2,\n",
              " 2,\n",
              " 2,\n",
              " 2,\n",
              " 2,\n",
              " 2,\n",
              " 2,\n",
              " 2,\n",
              " 1,\n",
              " 3,\n",
              " 2,\n",
              " 2,\n",
              " 2,\n",
              " 2,\n",
              " 2,\n",
              " 2,\n",
              " 2,\n",
              " 3,\n",
              " 3,\n",
              " 2,\n",
              " 3,\n",
              " 2,\n",
              " 2,\n",
              " 2,\n",
              " 2,\n",
              " 2,\n",
              " 2,\n",
              " 1,\n",
              " 2,\n",
              " 2,\n",
              " 2,\n",
              " 2,\n",
              " 2,\n",
              " 1,\n",
              " 2,\n",
              " 2,\n",
              " 2,\n",
              " 2,\n",
              " 3,\n",
              " 2,\n",
              " 2,\n",
              " 2,\n",
              " 2,\n",
              " 2,\n",
              " 2,\n",
              " 2,\n",
              " 2,\n",
              " 2,\n",
              " 2,\n",
              " 2,\n",
              " 2,\n",
              " 2,\n",
              " 2,\n",
              " 2,\n",
              " 2,\n",
              " 2,\n",
              " 2,\n",
              " 2,\n",
              " 2,\n",
              " 1,\n",
              " 3,\n",
              " 2,\n",
              " 2,\n",
              " 2,\n",
              " 2,\n",
              " 2,\n",
              " 2,\n",
              " 2,\n",
              " 3,\n",
              " 2,\n",
              " 2,\n",
              " 2,\n",
              " 2,\n",
              " 3,\n",
              " 2,\n",
              " 2,\n",
              " 2,\n",
              " 2,\n",
              " 2,\n",
              " 2,\n",
              " 2,\n",
              " 2,\n",
              " 3,\n",
              " 2,\n",
              " 2,\n",
              " 2,\n",
              " 3,\n",
              " 2,\n",
              " 2,\n",
              " 2,\n",
              " 2,\n",
              " 2,\n",
              " 3,\n",
              " 2,\n",
              " 2,\n",
              " 2,\n",
              " 2,\n",
              " 2,\n",
              " 2,\n",
              " 2,\n",
              " 2,\n",
              " 2,\n",
              " 2,\n",
              " 2,\n",
              " 2,\n",
              " 3,\n",
              " 2,\n",
              " 2,\n",
              " 2,\n",
              " 2,\n",
              " 2,\n",
              " 2,\n",
              " 3,\n",
              " 2,\n",
              " 2,\n",
              " 2,\n",
              " 2,\n",
              " 2,\n",
              " 2,\n",
              " 2,\n",
              " 1,\n",
              " 2,\n",
              " 2,\n",
              " 2,\n",
              " 2,\n",
              " 2,\n",
              " 2,\n",
              " 2,\n",
              " 2,\n",
              " 2,\n",
              " 2,\n",
              " 2,\n",
              " 2,\n",
              " 2,\n",
              " 2,\n",
              " 2,\n",
              " 2,\n",
              " 2,\n",
              " 2,\n",
              " 2,\n",
              " 2,\n",
              " 2,\n",
              " 2,\n",
              " 2,\n",
              " 2,\n",
              " 2,\n",
              " 3,\n",
              " 2,\n",
              " 2,\n",
              " 2,\n",
              " 3,\n",
              " 2,\n",
              " 2,\n",
              " 2,\n",
              " 2,\n",
              " 2,\n",
              " 2,\n",
              " 2,\n",
              " 2,\n",
              " 2,\n",
              " 3,\n",
              " 2,\n",
              " 2,\n",
              " 1,\n",
              " 2,\n",
              " 1,\n",
              " 2,\n",
              " 2,\n",
              " 2,\n",
              " 2,\n",
              " 2,\n",
              " 2,\n",
              " 2,\n",
              " 2,\n",
              " 2,\n",
              " 2,\n",
              " 2,\n",
              " 2,\n",
              " 2,\n",
              " 3,\n",
              " 2,\n",
              " 2,\n",
              " 2,\n",
              " 2,\n",
              " 2,\n",
              " 2,\n",
              " 2,\n",
              " 2,\n",
              " 2,\n",
              " 2,\n",
              " 2,\n",
              " 2,\n",
              " 2,\n",
              " 2,\n",
              " 2,\n",
              " 2,\n",
              " 2,\n",
              " 2,\n",
              " 2,\n",
              " 2,\n",
              " 2,\n",
              " 2,\n",
              " 2,\n",
              " 3,\n",
              " 2,\n",
              " 2,\n",
              " 2,\n",
              " 2,\n",
              " 2,\n",
              " 2,\n",
              " 3,\n",
              " 2,\n",
              " 2,\n",
              " 2,\n",
              " 3,\n",
              " 2,\n",
              " 2,\n",
              " 2,\n",
              " 2,\n",
              " 2,\n",
              " 2,\n",
              " 2,\n",
              " 2,\n",
              " 2,\n",
              " 2,\n",
              " 2,\n",
              " 2,\n",
              " 2,\n",
              " 2,\n",
              " 2,\n",
              " 2,\n",
              " 2,\n",
              " 2,\n",
              " 2,\n",
              " 2,\n",
              " 2,\n",
              " 2,\n",
              " 2,\n",
              " 2,\n",
              " 2,\n",
              " 2,\n",
              " 2,\n",
              " 2,\n",
              " 2,\n",
              " 2,\n",
              " 2,\n",
              " 2,\n",
              " 2,\n",
              " 2,\n",
              " 3,\n",
              " 2,\n",
              " 3,\n",
              " 2,\n",
              " 2,\n",
              " 2,\n",
              " 2,\n",
              " 2,\n",
              " 2,\n",
              " 2,\n",
              " 2,\n",
              " 2,\n",
              " 2,\n",
              " 2,\n",
              " 2,\n",
              " 2,\n",
              " 2,\n",
              " 2,\n",
              " 2,\n",
              " 2,\n",
              " 2,\n",
              " 2,\n",
              " 2,\n",
              " 2,\n",
              " 2,\n",
              " 2,\n",
              " 2,\n",
              " 2,\n",
              " 2,\n",
              " 2,\n",
              " 2,\n",
              " 2,\n",
              " 2,\n",
              " 2,\n",
              " 2,\n",
              " 2,\n",
              " 2,\n",
              " 2,\n",
              " 2,\n",
              " 2,\n",
              " 2,\n",
              " 2,\n",
              " 1,\n",
              " 2,\n",
              " 2,\n",
              " 2,\n",
              " 2,\n",
              " 2,\n",
              " 2,\n",
              " 2,\n",
              " 2,\n",
              " 2,\n",
              " 2,\n",
              " 2,\n",
              " 3,\n",
              " 2,\n",
              " 2,\n",
              " 2,\n",
              " 3,\n",
              " 2,\n",
              " 2,\n",
              " 2,\n",
              " 2,\n",
              " 2,\n",
              " 2,\n",
              " 2,\n",
              " 2,\n",
              " 2,\n",
              " 2,\n",
              " 2,\n",
              " 2,\n",
              " 2,\n",
              " 2,\n",
              " 3,\n",
              " 2,\n",
              " 3,\n",
              " 2,\n",
              " 2,\n",
              " 2,\n",
              " 2,\n",
              " 2,\n",
              " 2,\n",
              " 2,\n",
              " 2,\n",
              " 2,\n",
              " 3,\n",
              " 3,\n",
              " 2,\n",
              " 2,\n",
              " 2,\n",
              " 3,\n",
              " 2,\n",
              " 2,\n",
              " 2,\n",
              " 2,\n",
              " 2,\n",
              " 2,\n",
              " 2,\n",
              " 2,\n",
              " 2,\n",
              " 2,\n",
              " 2,\n",
              " 1,\n",
              " 2,\n",
              " 2,\n",
              " 2,\n",
              " 2,\n",
              " 2,\n",
              " 2,\n",
              " 2,\n",
              " 3,\n",
              " 2,\n",
              " 2,\n",
              " 2,\n",
              " 1,\n",
              " 2,\n",
              " 2,\n",
              " 2,\n",
              " 2,\n",
              " 2,\n",
              " 2,\n",
              " 2,\n",
              " 2,\n",
              " 2,\n",
              " 2,\n",
              " 2,\n",
              " 2,\n",
              " 2,\n",
              " 2,\n",
              " 2,\n",
              " 2,\n",
              " 2,\n",
              " 2,\n",
              " 2,\n",
              " 2,\n",
              " 2,\n",
              " 2,\n",
              " 2,\n",
              " 2,\n",
              " 2,\n",
              " 2,\n",
              " 2,\n",
              " 2,\n",
              " 3,\n",
              " 2,\n",
              " 2,\n",
              " 2,\n",
              " 2,\n",
              " 2,\n",
              " 2,\n",
              " 2,\n",
              " 2,\n",
              " 2,\n",
              " 2,\n",
              " 2,\n",
              " 1,\n",
              " 2,\n",
              " 2,\n",
              " 2,\n",
              " 2,\n",
              " 2,\n",
              " 2,\n",
              " 2,\n",
              " 2,\n",
              " 3,\n",
              " 2,\n",
              " 2,\n",
              " 2,\n",
              " 2,\n",
              " 2,\n",
              " 1,\n",
              " 2,\n",
              " 2,\n",
              " 2,\n",
              " 2,\n",
              " 2,\n",
              " 2,\n",
              " 2,\n",
              " 2,\n",
              " 2,\n",
              " 2,\n",
              " 2,\n",
              " 2,\n",
              " 2,\n",
              " 2,\n",
              " 2,\n",
              " 2,\n",
              " 2,\n",
              " 2,\n",
              " 2,\n",
              " 2,\n",
              " 2,\n",
              " 2,\n",
              " 2,\n",
              " 1,\n",
              " 2,\n",
              " 2,\n",
              " 2,\n",
              " 2,\n",
              " 2,\n",
              " 1,\n",
              " 2,\n",
              " 2,\n",
              " 2,\n",
              " 2,\n",
              " 2,\n",
              " 2,\n",
              " 2,\n",
              " 2,\n",
              " 2,\n",
              " 2,\n",
              " 3,\n",
              " 2,\n",
              " 2,\n",
              " 2,\n",
              " 2,\n",
              " 2,\n",
              " 2,\n",
              " 2,\n",
              " 2,\n",
              " 2,\n",
              " 2,\n",
              " 3,\n",
              " 2,\n",
              " 2,\n",
              " 2,\n",
              " 1,\n",
              " 2,\n",
              " 2,\n",
              " 2,\n",
              " 2,\n",
              " 3,\n",
              " 2,\n",
              " 2,\n",
              " 2,\n",
              " 2,\n",
              " 2,\n",
              " 2,\n",
              " 2,\n",
              " 2,\n",
              " 2,\n",
              " 2,\n",
              " 2,\n",
              " 2,\n",
              " 2,\n",
              " 2,\n",
              " 2,\n",
              " 2,\n",
              " 2,\n",
              " 2,\n",
              " 2,\n",
              " 2,\n",
              " 2,\n",
              " 2,\n",
              " 2,\n",
              " 2,\n",
              " 2,\n",
              " 2,\n",
              " 2,\n",
              " 2,\n",
              " 2,\n",
              " 2,\n",
              " 2,\n",
              " 3,\n",
              " 2,\n",
              " 3,\n",
              " 2,\n",
              " 2,\n",
              " 3,\n",
              " 2,\n",
              " 2,\n",
              " 2,\n",
              " 2,\n",
              " 2,\n",
              " 2,\n",
              " 2,\n",
              " 2,\n",
              " 2,\n",
              " 2,\n",
              " 2,\n",
              " 2,\n",
              " 2,\n",
              " 2,\n",
              " 2,\n",
              " 2,\n",
              " 2,\n",
              " 2,\n",
              " 2,\n",
              " 2,\n",
              " 2,\n",
              " 2,\n",
              " 2,\n",
              " 3,\n",
              " 2,\n",
              " 2,\n",
              " 2,\n",
              " 2,\n",
              " 2,\n",
              " 2,\n",
              " 2,\n",
              " 2,\n",
              " 2,\n",
              " 2,\n",
              " 2,\n",
              " 2,\n",
              " 2,\n",
              " 2,\n",
              " 2,\n",
              " 2,\n",
              " 2,\n",
              " 2,\n",
              " 2,\n",
              " 3,\n",
              " 2,\n",
              " 2,\n",
              " 2,\n",
              " 2,\n",
              " 2,\n",
              " 2,\n",
              " 2,\n",
              " 1,\n",
              " 2,\n",
              " 2,\n",
              " 2,\n",
              " 2,\n",
              " 2,\n",
              " 1,\n",
              " 2,\n",
              " 2,\n",
              " 1,\n",
              " 2,\n",
              " 2,\n",
              " 3,\n",
              " 2,\n",
              " 2,\n",
              " 2,\n",
              " 2,\n",
              " 2,\n",
              " 2,\n",
              " 2,\n",
              " 2,\n",
              " 2,\n",
              " 2,\n",
              " 2,\n",
              " 2,\n",
              " 2,\n",
              " 2,\n",
              " 2,\n",
              " 2,\n",
              " 3,\n",
              " 2,\n",
              " 1,\n",
              " 2,\n",
              " 2,\n",
              " 2,\n",
              " 2,\n",
              " 2,\n",
              " 0,\n",
              " 3,\n",
              " 1,\n",
              " 3,\n",
              " 2,\n",
              " 1,\n",
              " 1,\n",
              " 2,\n",
              " 2,\n",
              " 3,\n",
              " 2,\n",
              " 2,\n",
              " 2,\n",
              " 2,\n",
              " 2,\n",
              " 2,\n",
              " 2,\n",
              " 2,\n",
              " 2,\n",
              " 2,\n",
              " 2,\n",
              " 2,\n",
              " 2,\n",
              " 2,\n",
              " 2,\n",
              " 2,\n",
              " 3,\n",
              " 2,\n",
              " 1,\n",
              " 1,\n",
              " 2,\n",
              " 2,\n",
              " 2,\n",
              " 2,\n",
              " 2,\n",
              " 2,\n",
              " 2,\n",
              " 2,\n",
              " 3,\n",
              " 1,\n",
              " 2,\n",
              " 2,\n",
              " 2,\n",
              " 2,\n",
              " 2,\n",
              " 2,\n",
              " 2,\n",
              " 2,\n",
              " 2,\n",
              " 2,\n",
              " 2,\n",
              " 2,\n",
              " 2,\n",
              " 2,\n",
              " 2,\n",
              " 2,\n",
              " 2,\n",
              " 2,\n",
              " 2,\n",
              " 2,\n",
              " 2,\n",
              " 2,\n",
              " 2,\n",
              " 2,\n",
              " 2,\n",
              " 2,\n",
              " 2,\n",
              " 2,\n",
              " 2,\n",
              " 2,\n",
              " 2,\n",
              " 2,\n",
              " 2,\n",
              " 2,\n",
              " 2,\n",
              " 2,\n",
              " 2,\n",
              " 1,\n",
              " 2,\n",
              " 2,\n",
              " 2,\n",
              " 2,\n",
              " 2,\n",
              " 2,\n",
              " 2,\n",
              " 2,\n",
              " 3,\n",
              " 2,\n",
              " 2,\n",
              " 2,\n",
              " 2,\n",
              " 2,\n",
              " 2,\n",
              " 2,\n",
              " 2,\n",
              " 2,\n",
              " 2,\n",
              " 2,\n",
              " 2,\n",
              " 2,\n",
              " 2,\n",
              " 1,\n",
              " 2,\n",
              " 2,\n",
              " 2,\n",
              " 2,\n",
              " 2,\n",
              " 2,\n",
              " 2,\n",
              " 2,\n",
              " 2,\n",
              " 2,\n",
              " 2,\n",
              " 2,\n",
              " 2,\n",
              " 2,\n",
              " 2,\n",
              " 2,\n",
              " 2,\n",
              " 1,\n",
              " 2,\n",
              " 2,\n",
              " 2,\n",
              " 2,\n",
              " 2,\n",
              " 2,\n",
              " 2,\n",
              " 3,\n",
              " 2,\n",
              " 2,\n",
              " 2,\n",
              " 2,\n",
              " 2,\n",
              " 2,\n",
              " 2,\n",
              " 2,\n",
              " 2,\n",
              " 2,\n",
              " 1,\n",
              " 2,\n",
              " 2,\n",
              " 2,\n",
              " 2,\n",
              " 2,\n",
              " 2,\n",
              " 2,\n",
              " 2,\n",
              " 2,\n",
              " 2,\n",
              " 2,\n",
              " 2,\n",
              " 2,\n",
              " 2,\n",
              " 2,\n",
              " 2,\n",
              " 2,\n",
              " 2,\n",
              " 2,\n",
              " 2,\n",
              " 2,\n",
              " 2,\n",
              " 2,\n",
              " 2,\n",
              " 2,\n",
              " 2,\n",
              " 2,\n",
              " 2,\n",
              " 3,\n",
              " 2,\n",
              " 2,\n",
              " 2,\n",
              " 2,\n",
              " 2,\n",
              " 3,\n",
              " 2,\n",
              " 2,\n",
              " 2,\n",
              " 2,\n",
              " 2,\n",
              " 2,\n",
              " 2,\n",
              " 2,\n",
              " 2,\n",
              " 2,\n",
              " 3,\n",
              " 2,\n",
              " 2,\n",
              " 2,\n",
              " 1,\n",
              " 2,\n",
              " 2,\n",
              " 2,\n",
              " 2,\n",
              " 2,\n",
              " 2,\n",
              " 2,\n",
              " 2,\n",
              " 2,\n",
              " 2,\n",
              " 2,\n",
              " 2,\n",
              " 2,\n",
              " 2,\n",
              " 2,\n",
              " 2,\n",
              " 2,\n",
              " 2,\n",
              " 2,\n",
              " 2,\n",
              " 2,\n",
              " 2,\n",
              " 2,\n",
              " 2,\n",
              " 2,\n",
              " 2,\n",
              " 2,\n",
              " 2,\n",
              " 3,\n",
              " 2,\n",
              " 2,\n",
              " 3,\n",
              " 2,\n",
              " 2,\n",
              " 2,\n",
              " 2,\n",
              " 2,\n",
              " 2,\n",
              " 2,\n",
              " 2,\n",
              " 2,\n",
              " 2,\n",
              " 2,\n",
              " 2,\n",
              " 2,\n",
              " 2,\n",
              " 2,\n",
              " 2,\n",
              " 2,\n",
              " 2,\n",
              " 2,\n",
              " 2,\n",
              " 2,\n",
              " 2,\n",
              " 2,\n",
              " 2,\n",
              " 2,\n",
              " 2,\n",
              " 2,\n",
              " 2,\n",
              " 2,\n",
              " 1,\n",
              " 2,\n",
              " 2,\n",
              " 2,\n",
              " 2,\n",
              " 2,\n",
              " 2,\n",
              " 2,\n",
              " 2,\n",
              " 1,\n",
              " 3,\n",
              " 2,\n",
              " 2,\n",
              " 2,\n",
              " 2,\n",
              " 2,\n",
              " 2,\n",
              " 1,\n",
              " 2,\n",
              " 2,\n",
              " 1,\n",
              " 2,\n",
              " 2,\n",
              " 2,\n",
              " 2,\n",
              " 2,\n",
              " 2,\n",
              " 2,\n",
              " 1,\n",
              " 2,\n",
              " 2,\n",
              " 2,\n",
              " 2,\n",
              " 2,\n",
              " 2,\n",
              " 2,\n",
              " 1,\n",
              " 2,\n",
              " 2,\n",
              " 2,\n",
              " 2,\n",
              " 2,\n",
              " 2,\n",
              " 2,\n",
              " 2,\n",
              " 2,\n",
              " 2,\n",
              " 2,\n",
              " 2,\n",
              " 2,\n",
              " ...]"
            ]
          },
          "metadata": {
            "tags": []
          },
          "execution_count": 25
        }
      ]
    },
    {
      "cell_type": "markdown",
      "metadata": {
        "id": "fOhWpQC3exuG"
      },
      "source": [
        "#**split a 1000 galaxies dataset into train-test with a proportion of 2-1. Note that 1000 object is a critically small dataset for DNN!**"
      ]
    },
    {
      "cell_type": "markdown",
      "metadata": {
        "id": "_QUd-yeuQrYK"
      },
      "source": [
        "#RICORDA DI NORMALIZZARE LE IMMAGINI (L'HO FATTO DIVIDENDO PER 255.0)"
      ]
    },
    {
      "cell_type": "code",
      "metadata": {
        "id": "HOx77yia1ymh"
      },
      "source": [
        "#from sklearn.model_selection import train_test_split\n",
        "#X_train, X_test, y_train, y_test = train_test_split(ims[:,::2,::2,:]/255.0, np.array(newclass[:1000]), \n",
        "#                                                    test_size=0.33, random_state=42)"
      ],
      "execution_count": 96,
      "outputs": []
    },
    {
      "cell_type": "code",
      "metadata": {
        "id": "boLgV5QMa7Ol"
      },
      "source": [
        "from sklearn.model_selection import train_test_split\n",
        "X_train, X_test, y_train, y_test = train_test_split(ims, np.array(newclass[:1000]), test_size=0.33, random_state=42)"
      ],
      "execution_count": 104,
      "outputs": []
    },
    {
      "cell_type": "code",
      "metadata": {
        "colab": {
          "base_uri": "https://localhost:8080/"
        },
        "id": "fWY9EwsgbQ8R",
        "outputId": "c428a90f-dc16-4577-b425-8c44019796b9"
      },
      "source": [
        "X_train.shape[0]"
      ],
      "execution_count": 105,
      "outputs": [
        {
          "output_type": "execute_result",
          "data": {
            "text/plain": [
              "670"
            ]
          },
          "metadata": {
            "tags": []
          },
          "execution_count": 105
        }
      ]
    },
    {
      "cell_type": "code",
      "metadata": {
        "id": "cqVRg4Gna-Jh"
      },
      "source": [
        "X_train = X_train.reshape(X_train.shape[0], img_rows, img_cols, 3)\n",
        "X_test = X_test.reshape(X_test.shape[0], img_rows, img_cols, 3)\n",
        "input_shape = (img_rows, img_cols, 1)"
      ],
      "execution_count": 106,
      "outputs": []
    },
    {
      "cell_type": "markdown",
      "metadata": {
        "id": "K5hJ2JxSfGTI"
      },
      "source": [
        "#HO CAMPIONATO LE IMMAGINI PER FARLE DIVENTAER PIÙ PICCOLE ALTRIMENTI LA NN MI FA ANDARE OUT OF MEMRY SUL NOTEBOOK"
      ]
    },
    {
      "cell_type": "code",
      "metadata": {
        "id": "i_hUxCvh4YY0",
        "colab": {
          "base_uri": "https://localhost:8080/"
        },
        "outputId": "506ea698-50e0-4961-c10d-0a810f8e00a5"
      },
      "source": [
        "x_train.shape"
      ],
      "execution_count": 107,
      "outputs": [
        {
          "output_type": "execute_result",
          "data": {
            "text/plain": [
              "(670, 212, 212, 3)"
            ]
          },
          "metadata": {
            "tags": []
          },
          "execution_count": 107
        }
      ]
    },
    {
      "cell_type": "code",
      "metadata": {
        "colab": {
          "base_uri": "https://localhost:8080/"
        },
        "id": "423jrHeKXrnh",
        "outputId": "48c6aefd-957f-4779-a071-35b12b5fe745"
      },
      "source": [
        "ims.shape[1]"
      ],
      "execution_count": 108,
      "outputs": [
        {
          "output_type": "execute_result",
          "data": {
            "text/plain": [
              "424"
            ]
          },
          "metadata": {
            "tags": []
          },
          "execution_count": 108
        }
      ]
    },
    {
      "cell_type": "markdown",
      "metadata": {
        "id": "2xP8Aga68vDK"
      },
      "source": [
        "##**NON HO BISOGNO DI FARE IL RESHAPE PER PORTARE L'IMMAGINE COME UN VETTORE DI 1 RIGA,  PERCHÈ STIAMO FACENDO 2D IMAGE RECOGNITION**\n",
        "\n",
        "Questo tipo di reshape l'avevamo fatto nell'autoencoder perchè non usavamo convolutional layer, e il NN non lavora su dimensioni multiple, ma lavorava solo su una dimensione. Il convolutional 2D cerca forme 2D nell'iimagine e quindi va bene lasciare l'immagine in \"2D\".\n",
        "\n",
        "Se voglio fare il reshae su una riga faccio\n",
        "\n",
        "reshape(n_imm, image_rows, image_cols, n_layers)\n",
        "\n",
        "**Le immagini sono 3D perchè sono RGB, e allora perchè facciamo convolutional 2D?**\n",
        "\n",
        "Le mappe convoluzonali sono indipendenti sui 3 canali dei colori, e poi sono messe insieme tipo average. Ogni neurone impara 3 mappe indipendenti per i 3 canali e poi mette insieme la feature map con average. \n"
      ]
    },
    {
      "cell_type": "code",
      "metadata": {
        "id": "nps6UR_N5UDM"
      },
      "source": [
        "batch_size = 128\n",
        "num_classes = 4\n",
        "epochs = 50\n",
        "input_shape = ims[0].shape"
      ],
      "execution_count": 109,
      "outputs": []
    },
    {
      "cell_type": "code",
      "metadata": {
        "id": "h4v5iUt_5s2C"
      },
      "source": [
        "import tensorflow as tf\n",
        "from tensorflow import keras"
      ],
      "execution_count": 110,
      "outputs": []
    },
    {
      "cell_type": "code",
      "metadata": {
        "id": "s_KszBcj5vFF"
      },
      "source": [
        "from keras.models import Sequential\n",
        "from keras.layers import Dense, Dropout, Flatten\n",
        "from keras.layers import Conv2D, MaxPooling2D"
      ],
      "execution_count": 111,
      "outputs": []
    },
    {
      "cell_type": "code",
      "metadata": {
        "id": "lqH-ZNIR5xyj"
      },
      "source": [
        "from keras.optimizers import Adam\n",
        "\n",
        "# Set Optimizer\n",
        "opt = Adam(lr=0.001, decay=1e-6)"
      ],
      "execution_count": 112,
      "outputs": []
    },
    {
      "cell_type": "markdown",
      "metadata": {
        "id": "1G3WCX8ifsVL"
      },
      "source": [
        "**Adesso devo creare la mia rete neurale inserendo i layer di cui ho bisogno**"
      ]
    },
    {
      "cell_type": "markdown",
      "metadata": {
        "id": "QXY6OEhe3ZL0"
      },
      "source": [
        "###**Dopo ogni convolutoinal layer aggiungiamo un maxpool layer. Raccoglie l'informaizone sulla feature map riducendo la dimenisonalità. In pratica riduce il rumore nella correlation**"
      ]
    },
    {
      "cell_type": "code",
      "metadata": {
        "id": "niGoiTnX5zeU"
      },
      "source": [
        "model = Sequential()\n",
        "model.add(Conv2D(32, kernel_size=(10,10), activation='relu', input_shape=input_shape))\n",
        "model.add(Conv2D(64, kernel_size=(3,3), activation='relu'))\n",
        "model.add(MaxPooling2D(pool_size=(2,2)))\n",
        "model.add(Dropout(0.25))\n",
        "model.add(Flatten())\n",
        "model.add(Dense(128, activation='relu'))\n",
        "model.add(Dropout(0.5))\n",
        "model.add(Dense(num_classes, activation='softmax'))"
      ],
      "execution_count": 113,
      "outputs": []
    },
    {
      "cell_type": "code",
      "metadata": {
        "id": "I-ftxlyb7_kl"
      },
      "source": [
        "model.compile(optimizer=opt, loss=keras.losses.sparse_categorical_crossentropy, metrics='accuracy')\n",
        "#metric mi dice quali metriche voglio salvare, e serve per fare il plot"
      ],
      "execution_count": 131,
      "outputs": []
    },
    {
      "cell_type": "code",
      "metadata": {
        "colab": {
          "base_uri": "https://localhost:8080/"
        },
        "id": "Tk-NsTq08fk4",
        "outputId": "a3fe6735-c787-47db-9b91-2e9f0ad1c1a1"
      },
      "source": [
        "tf.keras.losses.categorical_crossentropy"
      ],
      "execution_count": 132,
      "outputs": [
        {
          "output_type": "execute_result",
          "data": {
            "text/plain": [
              "<function tensorflow.python.keras.losses.categorical_crossentropy>"
            ]
          },
          "metadata": {
            "tags": []
          },
          "execution_count": 132
        }
      ]
    },
    {
      "cell_type": "code",
      "metadata": {
        "id": "84Ia3K6V9OtQ"
      },
      "source": [
        "from keras.callbacks import ModelCheckpoint\n",
        "from keras.callbacks import LambdaCallback, EarlyStopping\n",
        "\n",
        "patience = EarlyStopping(patience=5)\n",
        "filepath = \"galcheckpoints/cnn-improvement-{epoch:02d}-{loss:.4f}.hd5\" \n",
        "checkpoint = ModelCheckpoint(filepath, monitor='loss', verbose=1, \n",
        "                             save_best_only=True, mode='min')"
      ],
      "execution_count": 133,
      "outputs": []
    },
    {
      "cell_type": "code",
      "metadata": {
        "colab": {
          "base_uri": "https://localhost:8080/"
        },
        "id": "xfScc5X792Sn",
        "outputId": "2833e486-bc22-4245-a528-7b81e518913d"
      },
      "source": [
        "patience"
      ],
      "execution_count": 134,
      "outputs": [
        {
          "output_type": "execute_result",
          "data": {
            "text/plain": [
              "<tensorflow.python.keras.callbacks.EarlyStopping at 0x7f39453e1f50>"
            ]
          },
          "metadata": {
            "tags": []
          },
          "execution_count": 134
        }
      ]
    },
    {
      "cell_type": "code",
      "metadata": {
        "colab": {
          "base_uri": "https://localhost:8080/",
          "height": 470
        },
        "id": "FOpPlHh-9U82",
        "outputId": "e5a426cd-bc00-456a-9648-d221591c9269"
      },
      "source": [
        "#QUANDO RUN QUESTO PEZZO MI MANDA OUT OF MEMORY\n",
        "history = model.fit(X_train, y_train, epochs=20,\n",
        "                    validation_split=0.2,\n",
        "                    batch_size=128, verbose=1,\n",
        "                    callbacks=[patience])#, [checkpoint])\n"
      ],
      "execution_count": 147,
      "outputs": [
        {
          "output_type": "stream",
          "text": [
            "Epoch 1/50\n"
          ],
          "name": "stdout"
        },
        {
          "output_type": "error",
          "ename": "ResourceExhaustedError",
          "evalue": "ignored",
          "traceback": [
            "\u001b[0;31m---------------------------------------------------------------------------\u001b[0m",
            "\u001b[0;31mResourceExhaustedError\u001b[0m                    Traceback (most recent call last)",
            "\u001b[0;32m<ipython-input-147-425a13e55ba4>\u001b[0m in \u001b[0;36m<module>\u001b[0;34m()\u001b[0m\n\u001b[1;32m      3\u001b[0m                     \u001b[0mvalidation_split\u001b[0m\u001b[0;34m=\u001b[0m\u001b[0;36m0.2\u001b[0m\u001b[0;34m,\u001b[0m\u001b[0;34m\u001b[0m\u001b[0;34m\u001b[0m\u001b[0m\n\u001b[1;32m      4\u001b[0m                     \u001b[0mbatch_size\u001b[0m\u001b[0;34m=\u001b[0m\u001b[0;36m128\u001b[0m\u001b[0;34m,\u001b[0m \u001b[0mverbose\u001b[0m\u001b[0;34m=\u001b[0m\u001b[0;36m1\u001b[0m\u001b[0;34m,\u001b[0m\u001b[0;34m\u001b[0m\u001b[0;34m\u001b[0m\u001b[0m\n\u001b[0;32m----> 5\u001b[0;31m                     callbacks=[patience])#, [checkpoint])\n\u001b[0m",
            "\u001b[0;32m/usr/local/lib/python3.7/dist-packages/tensorflow/python/keras/engine/training.py\u001b[0m in \u001b[0;36mfit\u001b[0;34m(self, x, y, batch_size, epochs, verbose, callbacks, validation_split, validation_data, shuffle, class_weight, sample_weight, initial_epoch, steps_per_epoch, validation_steps, validation_batch_size, validation_freq, max_queue_size, workers, use_multiprocessing)\u001b[0m\n\u001b[1;32m   1098\u001b[0m                 _r=1):\n\u001b[1;32m   1099\u001b[0m               \u001b[0mcallbacks\u001b[0m\u001b[0;34m.\u001b[0m\u001b[0mon_train_batch_begin\u001b[0m\u001b[0;34m(\u001b[0m\u001b[0mstep\u001b[0m\u001b[0;34m)\u001b[0m\u001b[0;34m\u001b[0m\u001b[0;34m\u001b[0m\u001b[0m\n\u001b[0;32m-> 1100\u001b[0;31m               \u001b[0mtmp_logs\u001b[0m \u001b[0;34m=\u001b[0m \u001b[0mself\u001b[0m\u001b[0;34m.\u001b[0m\u001b[0mtrain_function\u001b[0m\u001b[0;34m(\u001b[0m\u001b[0miterator\u001b[0m\u001b[0;34m)\u001b[0m\u001b[0;34m\u001b[0m\u001b[0;34m\u001b[0m\u001b[0m\n\u001b[0m\u001b[1;32m   1101\u001b[0m               \u001b[0;32mif\u001b[0m \u001b[0mdata_handler\u001b[0m\u001b[0;34m.\u001b[0m\u001b[0mshould_sync\u001b[0m\u001b[0;34m:\u001b[0m\u001b[0;34m\u001b[0m\u001b[0;34m\u001b[0m\u001b[0m\n\u001b[1;32m   1102\u001b[0m                 \u001b[0mcontext\u001b[0m\u001b[0;34m.\u001b[0m\u001b[0masync_wait\u001b[0m\u001b[0;34m(\u001b[0m\u001b[0;34m)\u001b[0m\u001b[0;34m\u001b[0m\u001b[0;34m\u001b[0m\u001b[0m\n",
            "\u001b[0;32m/usr/local/lib/python3.7/dist-packages/tensorflow/python/eager/def_function.py\u001b[0m in \u001b[0;36m__call__\u001b[0;34m(self, *args, **kwds)\u001b[0m\n\u001b[1;32m    826\u001b[0m     \u001b[0mtracing_count\u001b[0m \u001b[0;34m=\u001b[0m \u001b[0mself\u001b[0m\u001b[0;34m.\u001b[0m\u001b[0mexperimental_get_tracing_count\u001b[0m\u001b[0;34m(\u001b[0m\u001b[0;34m)\u001b[0m\u001b[0;34m\u001b[0m\u001b[0;34m\u001b[0m\u001b[0m\n\u001b[1;32m    827\u001b[0m     \u001b[0;32mwith\u001b[0m \u001b[0mtrace\u001b[0m\u001b[0;34m.\u001b[0m\u001b[0mTrace\u001b[0m\u001b[0;34m(\u001b[0m\u001b[0mself\u001b[0m\u001b[0;34m.\u001b[0m\u001b[0m_name\u001b[0m\u001b[0;34m)\u001b[0m \u001b[0;32mas\u001b[0m \u001b[0mtm\u001b[0m\u001b[0;34m:\u001b[0m\u001b[0;34m\u001b[0m\u001b[0;34m\u001b[0m\u001b[0m\n\u001b[0;32m--> 828\u001b[0;31m       \u001b[0mresult\u001b[0m \u001b[0;34m=\u001b[0m \u001b[0mself\u001b[0m\u001b[0;34m.\u001b[0m\u001b[0m_call\u001b[0m\u001b[0;34m(\u001b[0m\u001b[0;34m*\u001b[0m\u001b[0margs\u001b[0m\u001b[0;34m,\u001b[0m \u001b[0;34m**\u001b[0m\u001b[0mkwds\u001b[0m\u001b[0;34m)\u001b[0m\u001b[0;34m\u001b[0m\u001b[0;34m\u001b[0m\u001b[0m\n\u001b[0m\u001b[1;32m    829\u001b[0m       \u001b[0mcompiler\u001b[0m \u001b[0;34m=\u001b[0m \u001b[0;34m\"xla\"\u001b[0m \u001b[0;32mif\u001b[0m \u001b[0mself\u001b[0m\u001b[0;34m.\u001b[0m\u001b[0m_experimental_compile\u001b[0m \u001b[0;32melse\u001b[0m \u001b[0;34m\"nonXla\"\u001b[0m\u001b[0;34m\u001b[0m\u001b[0;34m\u001b[0m\u001b[0m\n\u001b[1;32m    830\u001b[0m       \u001b[0mnew_tracing_count\u001b[0m \u001b[0;34m=\u001b[0m \u001b[0mself\u001b[0m\u001b[0;34m.\u001b[0m\u001b[0mexperimental_get_tracing_count\u001b[0m\u001b[0;34m(\u001b[0m\u001b[0;34m)\u001b[0m\u001b[0;34m\u001b[0m\u001b[0;34m\u001b[0m\u001b[0m\n",
            "\u001b[0;32m/usr/local/lib/python3.7/dist-packages/tensorflow/python/eager/def_function.py\u001b[0m in \u001b[0;36m_call\u001b[0;34m(self, *args, **kwds)\u001b[0m\n\u001b[1;32m    853\u001b[0m       \u001b[0;31m# In this case we have created variables on the first call, so we run the\u001b[0m\u001b[0;34m\u001b[0m\u001b[0;34m\u001b[0m\u001b[0;34m\u001b[0m\u001b[0m\n\u001b[1;32m    854\u001b[0m       \u001b[0;31m# defunned version which is guaranteed to never create variables.\u001b[0m\u001b[0;34m\u001b[0m\u001b[0;34m\u001b[0m\u001b[0;34m\u001b[0m\u001b[0m\n\u001b[0;32m--> 855\u001b[0;31m       \u001b[0;32mreturn\u001b[0m \u001b[0mself\u001b[0m\u001b[0;34m.\u001b[0m\u001b[0m_stateless_fn\u001b[0m\u001b[0;34m(\u001b[0m\u001b[0;34m*\u001b[0m\u001b[0margs\u001b[0m\u001b[0;34m,\u001b[0m \u001b[0;34m**\u001b[0m\u001b[0mkwds\u001b[0m\u001b[0;34m)\u001b[0m  \u001b[0;31m# pylint: disable=not-callable\u001b[0m\u001b[0;34m\u001b[0m\u001b[0;34m\u001b[0m\u001b[0m\n\u001b[0m\u001b[1;32m    856\u001b[0m     \u001b[0;32melif\u001b[0m \u001b[0mself\u001b[0m\u001b[0;34m.\u001b[0m\u001b[0m_stateful_fn\u001b[0m \u001b[0;32mis\u001b[0m \u001b[0;32mnot\u001b[0m \u001b[0;32mNone\u001b[0m\u001b[0;34m:\u001b[0m\u001b[0;34m\u001b[0m\u001b[0;34m\u001b[0m\u001b[0m\n\u001b[1;32m    857\u001b[0m       \u001b[0;31m# Release the lock early so that multiple threads can perform the call\u001b[0m\u001b[0;34m\u001b[0m\u001b[0;34m\u001b[0m\u001b[0;34m\u001b[0m\u001b[0m\n",
            "\u001b[0;32m/usr/local/lib/python3.7/dist-packages/tensorflow/python/eager/function.py\u001b[0m in \u001b[0;36m__call__\u001b[0;34m(self, *args, **kwargs)\u001b[0m\n\u001b[1;32m   2941\u001b[0m        filtered_flat_args) = self._maybe_define_function(args, kwargs)\n\u001b[1;32m   2942\u001b[0m     return graph_function._call_flat(\n\u001b[0;32m-> 2943\u001b[0;31m         filtered_flat_args, captured_inputs=graph_function.captured_inputs)  # pylint: disable=protected-access\n\u001b[0m\u001b[1;32m   2944\u001b[0m \u001b[0;34m\u001b[0m\u001b[0m\n\u001b[1;32m   2945\u001b[0m   \u001b[0;34m@\u001b[0m\u001b[0mproperty\u001b[0m\u001b[0;34m\u001b[0m\u001b[0;34m\u001b[0m\u001b[0m\n",
            "\u001b[0;32m/usr/local/lib/python3.7/dist-packages/tensorflow/python/eager/function.py\u001b[0m in \u001b[0;36m_call_flat\u001b[0;34m(self, args, captured_inputs, cancellation_manager)\u001b[0m\n\u001b[1;32m   1917\u001b[0m       \u001b[0;31m# No tape is watching; skip to running the function.\u001b[0m\u001b[0;34m\u001b[0m\u001b[0;34m\u001b[0m\u001b[0;34m\u001b[0m\u001b[0m\n\u001b[1;32m   1918\u001b[0m       return self._build_call_outputs(self._inference_function.call(\n\u001b[0;32m-> 1919\u001b[0;31m           ctx, args, cancellation_manager=cancellation_manager))\n\u001b[0m\u001b[1;32m   1920\u001b[0m     forward_backward = self._select_forward_and_backward_functions(\n\u001b[1;32m   1921\u001b[0m         \u001b[0margs\u001b[0m\u001b[0;34m,\u001b[0m\u001b[0;34m\u001b[0m\u001b[0;34m\u001b[0m\u001b[0m\n",
            "\u001b[0;32m/usr/local/lib/python3.7/dist-packages/tensorflow/python/eager/function.py\u001b[0m in \u001b[0;36mcall\u001b[0;34m(self, ctx, args, cancellation_manager)\u001b[0m\n\u001b[1;32m    558\u001b[0m               \u001b[0minputs\u001b[0m\u001b[0;34m=\u001b[0m\u001b[0margs\u001b[0m\u001b[0;34m,\u001b[0m\u001b[0;34m\u001b[0m\u001b[0;34m\u001b[0m\u001b[0m\n\u001b[1;32m    559\u001b[0m               \u001b[0mattrs\u001b[0m\u001b[0;34m=\u001b[0m\u001b[0mattrs\u001b[0m\u001b[0;34m,\u001b[0m\u001b[0;34m\u001b[0m\u001b[0;34m\u001b[0m\u001b[0m\n\u001b[0;32m--> 560\u001b[0;31m               ctx=ctx)\n\u001b[0m\u001b[1;32m    561\u001b[0m         \u001b[0;32melse\u001b[0m\u001b[0;34m:\u001b[0m\u001b[0;34m\u001b[0m\u001b[0;34m\u001b[0m\u001b[0m\n\u001b[1;32m    562\u001b[0m           outputs = execute.execute_with_cancellation(\n",
            "\u001b[0;32m/usr/local/lib/python3.7/dist-packages/tensorflow/python/eager/execute.py\u001b[0m in \u001b[0;36mquick_execute\u001b[0;34m(op_name, num_outputs, inputs, attrs, ctx, name)\u001b[0m\n\u001b[1;32m     58\u001b[0m     \u001b[0mctx\u001b[0m\u001b[0;34m.\u001b[0m\u001b[0mensure_initialized\u001b[0m\u001b[0;34m(\u001b[0m\u001b[0;34m)\u001b[0m\u001b[0;34m\u001b[0m\u001b[0;34m\u001b[0m\u001b[0m\n\u001b[1;32m     59\u001b[0m     tensors = pywrap_tfe.TFE_Py_Execute(ctx._handle, device_name, op_name,\n\u001b[0;32m---> 60\u001b[0;31m                                         inputs, attrs, num_outputs)\n\u001b[0m\u001b[1;32m     61\u001b[0m   \u001b[0;32mexcept\u001b[0m \u001b[0mcore\u001b[0m\u001b[0;34m.\u001b[0m\u001b[0m_NotOkStatusException\u001b[0m \u001b[0;32mas\u001b[0m \u001b[0me\u001b[0m\u001b[0;34m:\u001b[0m\u001b[0;34m\u001b[0m\u001b[0;34m\u001b[0m\u001b[0m\n\u001b[1;32m     62\u001b[0m     \u001b[0;32mif\u001b[0m \u001b[0mname\u001b[0m \u001b[0;32mis\u001b[0m \u001b[0;32mnot\u001b[0m \u001b[0;32mNone\u001b[0m\u001b[0;34m:\u001b[0m\u001b[0;34m\u001b[0m\u001b[0;34m\u001b[0m\u001b[0m\n",
            "\u001b[0;31mResourceExhaustedError\u001b[0m:  OOM when allocating tensor with shape[128,64,413,413] and type float on /job:localhost/replica:0/task:0/device:GPU:0 by allocator GPU_0_bfc\n\t [[node sequential_6/conv2d_15/Relu (defined at <ipython-input-135-3ab56343eadd>:4) ]]\nHint: If you want to see a list of allocated tensors when OOM happens, add report_tensor_allocations_upon_oom to RunOptions for current allocation info.\n [Op:__inference_train_function_3139]\n\nFunction call stack:\ntrain_function\n"
          ]
        }
      ]
    },
    {
      "cell_type": "code",
      "metadata": {
        "colab": {
          "base_uri": "https://localhost:8080/"
        },
        "id": "q1jupjyl9acl",
        "outputId": "0a6dbd76-97c5-493c-c037-51064ee81075"
      },
      "source": [
        "model.fit(X_train, y_train, epochs=20)"
      ],
      "execution_count": 149,
      "outputs": [
        {
          "output_type": "stream",
          "text": [
            "Epoch 1/20\n",
            "21/21 [==============================] - 15s 741ms/step - loss: 113.6925 - accuracy: 0.8313\n",
            "Epoch 2/20\n",
            "21/21 [==============================] - 10s 486ms/step - loss: 1.2900 - accuracy: 0.8701\n",
            "Epoch 3/20\n",
            "21/21 [==============================] - 10s 484ms/step - loss: 1.1955 - accuracy: 0.8761\n",
            "Epoch 4/20\n",
            "21/21 [==============================] - 10s 481ms/step - loss: 0.9289 - accuracy: 0.8791\n",
            "Epoch 5/20\n",
            "21/21 [==============================] - 10s 480ms/step - loss: 0.7445 - accuracy: 0.8806\n",
            "Epoch 6/20\n",
            "21/21 [==============================] - 10s 480ms/step - loss: 0.6885 - accuracy: 0.8881\n",
            "Epoch 7/20\n",
            "21/21 [==============================] - 10s 481ms/step - loss: 0.5142 - accuracy: 0.8970\n",
            "Epoch 8/20\n",
            "21/21 [==============================] - 10s 483ms/step - loss: 0.4547 - accuracy: 0.9134\n",
            "Epoch 9/20\n",
            "21/21 [==============================] - 10s 483ms/step - loss: 0.3545 - accuracy: 0.9254\n",
            "Epoch 10/20\n",
            "21/21 [==============================] - 10s 483ms/step - loss: 0.2593 - accuracy: 0.9418\n",
            "Epoch 11/20\n",
            "21/21 [==============================] - 10s 483ms/step - loss: 0.2346 - accuracy: 0.9552\n",
            "Epoch 12/20\n",
            "21/21 [==============================] - 10s 483ms/step - loss: 0.1320 - accuracy: 0.9642\n",
            "Epoch 13/20\n",
            "21/21 [==============================] - 10s 483ms/step - loss: 0.1429 - accuracy: 0.9701\n",
            "Epoch 14/20\n",
            "21/21 [==============================] - 10s 482ms/step - loss: 0.1699 - accuracy: 0.9731\n",
            "Epoch 15/20\n",
            "21/21 [==============================] - 10s 483ms/step - loss: 0.0859 - accuracy: 0.9791\n",
            "Epoch 16/20\n",
            "21/21 [==============================] - 10s 483ms/step - loss: 0.0915 - accuracy: 0.9821\n",
            "Epoch 17/20\n",
            "21/21 [==============================] - 10s 482ms/step - loss: 0.1243 - accuracy: 0.9791\n",
            "Epoch 18/20\n",
            "21/21 [==============================] - 10s 484ms/step - loss: 0.0556 - accuracy: 0.9881\n",
            "Epoch 19/20\n",
            "21/21 [==============================] - 10s 483ms/step - loss: 0.0858 - accuracy: 0.9806\n",
            "Epoch 20/20\n",
            "21/21 [==============================] - 10s 483ms/step - loss: 0.0450 - accuracy: 0.9896\n"
          ],
          "name": "stdout"
        },
        {
          "output_type": "execute_result",
          "data": {
            "text/plain": [
              "<tensorflow.python.keras.callbacks.History at 0x7f39603dde50>"
            ]
          },
          "metadata": {
            "tags": []
          },
          "execution_count": 149
        }
      ]
    },
    {
      "cell_type": "code",
      "metadata": {
        "colab": {
          "base_uri": "https://localhost:8080/"
        },
        "id": "uAh_X9hufGCb",
        "outputId": "30dead3b-8604-4a1b-dcd6-e36f7662b920"
      },
      "source": [
        "test_loss, test_acc = model.evaluate(X_test, y_test)"
      ],
      "execution_count": 152,
      "outputs": [
        {
          "output_type": "stream",
          "text": [
            "11/11 [==============================] - 1s 110ms/step - loss: 3.0023 - accuracy: 0.8758\n"
          ],
          "name": "stdout"
        }
      ]
    },
    {
      "cell_type": "code",
      "metadata": {
        "colab": {
          "base_uri": "https://localhost:8080/"
        },
        "id": "cUcF7OxJWU7f",
        "outputId": "066009c8-b2f4-4fab-b137-5a565c93b732"
      },
      "source": [
        "score=model.evaluate(X_test, y_test)"
      ],
      "execution_count": 150,
      "outputs": [
        {
          "output_type": "stream",
          "text": [
            "11/11 [==============================] - 3s 224ms/step - loss: 3.0023 - accuracy: 0.8758\n"
          ],
          "name": "stdout"
        }
      ]
    },
    {
      "cell_type": "code",
      "metadata": {
        "colab": {
          "base_uri": "https://localhost:8080/"
        },
        "id": "yE2fyZusWZLX",
        "outputId": "4610edca-87a1-4f11-97a2-7ffc2c72d72a"
      },
      "source": [
        "score"
      ],
      "execution_count": 151,
      "outputs": [
        {
          "output_type": "execute_result",
          "data": {
            "text/plain": [
              "[3.0023066997528076, 0.8757575750350952]"
            ]
          },
          "metadata": {
            "tags": []
          },
          "execution_count": 151
        }
      ]
    },
    {
      "cell_type": "code",
      "metadata": {
        "id": "eWBKM-lLe9rZ"
      },
      "source": [
        "from scipy import ndimage, misc\n",
        "newimg = np.zeros([1000*5, img.shape[0], img.shape[1], img.shape[2]], \n",
        "                  dtype=np.uint8)\n",
        "np.random.seed(123)\n",
        "for i in range(len(ims)):\n",
        "  angles = np.random.rand(4) *   180\n",
        "  newimg[i*5] = ims[i].copy()\n",
        "  for j,a in enumerate(angles):\n",
        "\n",
        "    newimg[i*5+1+j] = ndimage.rotate(newimg[i*5], a, \n",
        "                                         reshape=False, mode='mirror')"
      ],
      "execution_count": 153,
      "outputs": []
    },
    {
      "cell_type": "code",
      "metadata": {
        "colab": {
          "base_uri": "https://localhost:8080/",
          "height": 286
        },
        "id": "EyQDzT-efL2e",
        "outputId": "87d681cc-e2a5-4d2f-af71-750a5fa0f5dc"
      },
      "source": [
        "pl.imshow(ims[0])"
      ],
      "execution_count": 154,
      "outputs": [
        {
          "output_type": "execute_result",
          "data": {
            "text/plain": [
              "<matplotlib.image.AxesImage at 0x7f3960308c50>"
            ]
          },
          "metadata": {
            "tags": []
          },
          "execution_count": 154
        },
        {
          "output_type": "display_data",
          "data": {
            "image/png": "[encoded data removed]",
            "text/plain": [
              "<Figure size 432x288 with 1 Axes>"
            ]
          },
          "metadata": {
            "tags": [],
            "needs_background": "light"
          }
        }
      ]
    },
    {
      "cell_type": "code",
      "metadata": {
        "id": "L302j3ZpgM6W"
      },
      "source": [
        ""
      ],
      "execution_count": null,
      "outputs": []
    }
  ]
}