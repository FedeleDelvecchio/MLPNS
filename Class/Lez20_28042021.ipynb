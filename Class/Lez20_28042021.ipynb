{
  "nbformat": 4,
  "nbformat_minor": 0,
  "metadata": {
    "colab": {
      "name": "Lez20 28042021.ipynb",
      "provenance": [],
      "collapsed_sections": [],
      "authorship_tag": "ABX9TyO6QHw7z4JGtrbVbg6pAJZk",
      "include_colab_link": true
    },
    "kernelspec": {
      "name": "python3",
      "display_name": "Python 3"
    },
    "language_info": {
      "name": "python"
    },
    "accelerator": "GPU"
  },
  "cells": [
    {
      "cell_type": "markdown",
      "metadata": {
        "id": "view-in-github",
        "colab_type": "text"
      },
      "source": [
        "<a href=\"https://colab.research.google.com/github/FedeleDelvecchio/MLPNS/blob/main/Class/Lez20_28042021.ipynb\" target=\"_parent\"><img src=\"https://colab.research.google.com/assets/colab-badge.svg\" alt=\"Open In Colab\"/></a>"
      ]
    },
    {
      "cell_type": "markdown",
      "metadata": {
        "id": "FGGF0VhXDTnm"
      },
      "source": [
        "We are gonna look specific design of neural network. That makes specific things like the **autoencoders**. \n",
        "\n",
        "Then we wiil see currrent neural network. which is another architecture for time series."
      ]
    },
    {
      "cell_type": "markdown",
      "metadata": {
        "id": "aKoMHg8FRMKW"
      },
      "source": [
        "We saw multilayer perceptron and backpropagation. \n",
        "\n",
        "NN are also known as multilayer perceptron. \n",
        "\n",
        "Different activation function gives different output, because of the shape of activation function. We choose activation function based on the task we want to do (regression task, classifier, probabilistic classifier, ... ).\n",
        "\n",
        "The basic architecture is a bunch of multilinear regressions, that happen in parallel that happen in series. \n",
        "\n",
        "To get rid of the \"curse of dimensionality\", we do back-propagation of the prediction error, since the NN works in series. Each neuron is adjusted by something proportional to the derivative of the error. \n",
        "\n"
      ]
    },
    {
      "cell_type": "markdown",
      "metadata": {
        "id": "GdI5HQ4USALV"
      },
      "source": [
        "###**TODAY - HANDWRITTEN DIGITS DATASET**\n",
        "\n",
        "**Slide**: https://slides.com/federicabianco/mlpns9 \n",
        "\n",
        "**Notebook**: https://github.com/fedhere/MLPNS2021/blob/main/NNDL/April2021_autoencode_digits.ipynb\n",
        "\n"
      ]
    },
    {
      "cell_type": "markdown",
      "metadata": {
        "id": "u1nIEAhOb-Lr"
      },
      "source": [
        "We saw output layaer, hidden layer and the concept of fully connected (dense layer), sparsely connected. \n",
        "\n",
        "Sparsely connected: some of the input don't go to all the next layer. Some layer ouput don't go to all next layer.\n",
        "\n",
        "\n",
        "We have the \"freedom of the output side of each layer \" but the input shape is determined by the sahpe of other matrix.\n",
        "\n",
        "We have also the activatoin functino. The purpose is to minimize an error, means that I have to think what is the right way to look for the minimum value of my L_1. We will see how to do, today:\n",
        "\n",
        "- waht is the input data (binary continuos)\n",
        "\n",
        "- what is the task we will do (regression, classification)\n",
        "\n",
        "See this book about neural network:\n",
        "http://neuralnetworksanddeeplearning.com/chap4.html \n"
      ]
    },
    {
      "cell_type": "markdown",
      "metadata": {
        "id": "SuOniGK7HUv2"
      },
      "source": [
        "##**HYPERPARAMETER**\n",
        "\n",
        "- Number of hidden layer, is the first to think about. \n",
        "- Loss function (L_1, L_2, ...)\n",
        "- Activation function (consistent with loss function)\n",
        "- Number of epochs, to prevent overfitting\n",
        "- learning rate (balance speed and accuracy. It's like \"how large the step was in the MCMC\". With very little step I am not gonna learn, with large step I have less accuracy.)\n",
        "- batch size: how many input neuron I use in that training epochs. Smaller batch size is faster but leads to overtraining.\n",
        "\n",
        "A wide neural network will have the tendency to overfint. On the other hand, a deep neural network has an high computational costs and time to train.\n",
        "\n"
      ]
    },
    {
      "cell_type": "markdown",
      "metadata": {
        "id": "ncBIXhVCJ2BB"
      },
      "source": [
        "For the regression task I can choose a mean_squared_error loss function.\n",
        "\n",
        "The binary classificiation is used with the loss_binary_crossentropy loss function. \n",
        "\n",
        "And other (see slide).\n",
        "\n",
        "###**Whenever I run NN, I have to see the loss function, to see how I am learning and if I am overfitting.**\n",
        "\n",
        "####When at the first few epoch I am learning very slow, I will change the learning rate to adjust this problem.\n",
        "\n",
        "We also have a table in the slide to choose the right loss function.\n",
        "\n",
        "\n",
        "#Convolutoinal neural network (tha we built with keras) are suitable to do task where my dataset have correlation structure: such images!\n",
        "\n",
        "#**Today we will do a dense autoencoder: it is a neural network with a bottleneck. Generally the goal is tho approximate a complex function with simple discrete choice with a series of linear function.** This NN is use also to du dimesnionality reduction. \n",
        "\n",
        "The input data is compressed, and then the NN is expanding again after the the bottleneck. \n",
        "The NN learn how to complress the data and then I can reconstruct the image by what I learned. In this way I can reconstruct other similar image, for example. If I do a good job by compression, I can reconstruct better the image. \n",
        "\n"
      ]
    },
    {
      "cell_type": "markdown",
      "metadata": {
        "id": "nM07xgkNOI5r"
      },
      "source": [
        "##When I use image to do dense DNN with keras, I have to shrink the image into a 1D array because I am using a type of NN that is sequential NN."
      ]
    },
    {
      "cell_type": "markdown",
      "metadata": {
        "id": "zJ7Y9j-lO1w9"
      },
      "source": [
        "## model.compile(...)\n",
        "\n",
        "To change the learning rate, the syntax is:\n",
        "\n",
        "keras.optimizers.Adam(lr=0.01) this is what I pass to the optimizer in the model.compile function:\n",
        "\n",
        "model.compile(optimizer = keras.optimizers.Adam(lr=0.01)… \n",
        "\n",
        "####**So in this model.compile I pass the scheme to go downhill the lilelihood surface (optimizer=Adam) and the learning rate.**\n"
      ]
    },
    {
      "cell_type": "markdown",
      "metadata": {
        "id": "ACczGPDcO_XF"
      },
      "source": [
        "#**With this NN we want to recreate an handwritten digits: used for image reconstruction**\n",
        "\n",
        "If we have a mean squared error loss function the task we can do is a regression. This is not the best choice I can do for handwritten digit recontruction.\n",
        "\n",
        "If I want to do binary classficiation I have to use other loss function because I am trying to predict 0 or 1, I am classfying. \n",
        "\n",
        "###**Image reconstruction doesn't work so good with regression with a mean square error loss. It works better with a sigmoid loss function. But if we do a binary classficiation, instead of regression we obtein a better result at all.**\n",
        "\n",
        "\n",
        "Notebook: https://github.com/fedhere/MLPNS2021/blob/main/NNDL/April2021_autoencode_digits.ipynb\n",
        "\n"
      ]
    },
    {
      "cell_type": "markdown",
      "metadata": {
        "id": "vZcePMwcR7BZ"
      },
      "source": [
        "#START EXERCISE"
      ]
    },
    {
      "cell_type": "code",
      "metadata": {
        "colab": {
          "base_uri": "https://localhost:8080/"
        },
        "id": "ZSvE3wkjcVkQ",
        "outputId": "06c9478c-0de6-4396-8153-b291f6c70763"
      },
      "source": [
        "import keras\n",
        "from keras.datasets import mnist\n",
        "from keras.models import Sequential\n",
        "from keras.layers import Dense#, Dropout, Flatten\n",
        "#from keras.layers import Conv2D, MaxPooling2D\n",
        "from keras import backend as K\n",
        "import glob\n",
        "import pylab as pl\n",
        "from PIL import Image\n",
        "\n",
        "%pylab inline"
      ],
      "execution_count": 1,
      "outputs": [
        {
          "output_type": "stream",
          "text": [
            "Populating the interactive namespace from numpy and matplotlib\n"
          ],
          "name": "stdout"
        }
      ]
    },
    {
      "cell_type": "markdown",
      "metadata": {
        "id": "k4wnPFH2vSOO"
      },
      "source": [
        "quando acquisiamo le immagini all'inizio da keras, la sintassi\n",
        "\n",
        "(x_train, _),(x_test, _) = mnist.load_data()\n",
        "\n",
        "sta a significare che quando carico l'immagine, non mi interessa la y variable perchè questa rappresenta il numero relativo all'immagine (cioè se l'immagine rappresenta il 5, la y varibale è 5). Siccome la y non mi interessa perchè non mi serve per l'autoencoder, non la acquisisco e ci metto un underscore. \n",
        "\n",
        "Quando creo il modello e creo i dense layer con Dense(...), le dimensioni in input:\n",
        "\n",
        "se non è un convolutional NN come quello fatto per identificare la molecola, ma invece è un NN fatto di dense layer come quello fatto per l'autoencoder, questo layer è un oggetto bidimensionale per cui prima di passare l'immagine devo fare il reshape. \n",
        "\n",
        "-------\n",
        "\n",
        "Posso salvare i progressi con patience.\n",
        "\n",
        "Posso salvare il modello con i pesi e tutto con hd5 con un modello binario e dopo posso fare predizioni su immagini che hanno la stessa dimenionalità sulla quale ho fatto il training.\n",
        "\n",
        "-------\n",
        "\n",
        "**Per essere precisi, più che la loss function vorrei vedere quando la validation smette di diminuire. Si può inserire passando il parametro nel history=model.fit(..., validation_split).\n",
        "In questo caso il modello fa volta per volta lo split tra il train e test e fa la validazione all'interno del modello stesso.**\n"
      ]
    },
    {
      "cell_type": "code",
      "metadata": {
        "colab": {
          "base_uri": "https://localhost:8080/",
          "height": 300
        },
        "id": "fX7lmIP4gGp5",
        "outputId": "e0f1f704-4315-4bc7-b163-aa74caaaeb9a"
      },
      "source": [
        "from keras.datasets import mnist\n",
        "(x_train, _), (x_test, _) = mnist.load_data()\n",
        "\n",
        "img_rows, img_cols = 28, 28\n",
        "pl.imshow(x_train[0])\n",
        "pl.axis('off')\n",
        "intialshape = x_train[0].shape\n",
        "ndim = np.prod(x_train[0].shape)\n",
        "x_train.shape"
      ],
      "execution_count": 2,
      "outputs": [
        {
          "output_type": "stream",
          "text": [
            "Downloading data from https://storage.googleapis.com/tensorflow/tf-keras-datasets/mnist.npz\n",
            "11493376/11490434 [==============================] - 0s 0us/step\n"
          ],
          "name": "stdout"
        },
        {
          "output_type": "execute_result",
          "data": {
            "text/plain": [
              "(60000, 28, 28)"
            ]
          },
          "metadata": {
            "tags": []
          },
          "execution_count": 2
        },
        {
          "output_type": "display_data",
          "data": {
            "image/png": "[encoded data removed]",
            "text/plain": [
              "<Figure size 432x288 with 1 Axes>"
            ]
          },
          "metadata": {
            "tags": [],
            "needs_background": "light"
          }
        }
      ]
    },
    {
      "cell_type": "code",
      "metadata": {
        "colab": {
          "base_uri": "https://localhost:8080/"
        },
        "id": "wWE4zb-siRIN",
        "outputId": "4d061e67-7a06-4920-9515-1e3e01cb37ef"
      },
      "source": [
        "intialshape"
      ],
      "execution_count": 3,
      "outputs": [
        {
          "output_type": "execute_result",
          "data": {
            "text/plain": [
              "(28, 28)"
            ]
          },
          "metadata": {
            "tags": []
          },
          "execution_count": 3
        }
      ]
    },
    {
      "cell_type": "code",
      "metadata": {
        "colab": {
          "base_uri": "https://localhost:8080/"
        },
        "id": "NNHEnVn8iCiU",
        "outputId": "c391edf3-b62b-45ca-f200-8a89b81e2f34"
      },
      "source": [
        "x_train[0].shape"
      ],
      "execution_count": 4,
      "outputs": [
        {
          "output_type": "execute_result",
          "data": {
            "text/plain": [
              "(28, 28)"
            ]
          },
          "metadata": {
            "tags": []
          },
          "execution_count": 4
        }
      ]
    },
    {
      "cell_type": "code",
      "metadata": {
        "colab": {
          "base_uri": "https://localhost:8080/"
        },
        "id": "CV9qpOrKikXz",
        "outputId": "67988dc1-a0bd-4cfb-e147-ad9170a81cd0"
      },
      "source": [
        "np.prod(x_train[0].shape) #28x28=784"
      ],
      "execution_count": 5,
      "outputs": [
        {
          "output_type": "execute_result",
          "data": {
            "text/plain": [
              "784"
            ]
          },
          "metadata": {
            "tags": []
          },
          "execution_count": 5
        }
      ]
    },
    {
      "cell_type": "markdown",
      "metadata": {
        "id": "3Sa7VQnOfagi"
      },
      "source": [
        "**La cella seguente è la cella della normalizzazione. Dobbiamo assicurarci che la shape giusta (ovvero un vettore unidimensionale) per applicare il modello e soprattutto che sia normalizzata con valori tra 0 e 1.**"
      ]
    },
    {
      "cell_type": "markdown",
      "metadata": {
        "id": "7LCWtMgOgtH6"
      },
      "source": [
        "Siccome x_train contiene numeri da 0 a 255 di tipo uint8. Per utilizzarlo nel modello devo fare il reshape del mio train set (trasformandolo in un vettore unidimensionale) e inoltre devo normalizzarlo.\n",
        "\n",
        "Quindi per normalizzarlo trasformo tutti i numeri in float e li divido per 255 così saranno tutti tra 0 e 1 (x_train.astype(float) / 255). Poi faccio il reshape e la shape del vettore x_train la faccio diventare di 784, ovvero il numero di dimensioni dell'immagine (in altre parole l'immagine è di 28x28=784 pixel. Allora creo un vettore lungo 784 pixel)."
      ]
    },
    {
      "cell_type": "code",
      "metadata": {
        "colab": {
          "base_uri": "https://localhost:8080/"
        },
        "id": "CEUux6HGhc5b",
        "outputId": "28ae9286-5420-4b70-e0a6-acbb19b928c1"
      },
      "source": [
        "len(x_train)"
      ],
      "execution_count": 6,
      "outputs": [
        {
          "output_type": "execute_result",
          "data": {
            "text/plain": [
              "60000"
            ]
          },
          "metadata": {
            "tags": []
          },
          "execution_count": 6
        }
      ]
    },
    {
      "cell_type": "code",
      "metadata": {
        "colab": {
          "base_uri": "https://localhost:8080/"
        },
        "id": "1mqBadCugeFI",
        "outputId": "c67159bf-3051-43c2-c537-4c6ef42768a1"
      },
      "source": [
        "#ATTENTO A NON FAR CORRERE QUESTA CELLA PIÙ DI UNA VOLTA\n",
        "\n",
        "x_train = (x_train.astype(float) / 255).reshape(len(x_train), ndim)\n",
        "x_test = (x_test.astype(float) / 255).reshape(len(x_test), ndim)\n",
        "x_train.shape, x_test.shape"
      ],
      "execution_count": 7,
      "outputs": [
        {
          "output_type": "execute_result",
          "data": {
            "text/plain": [
              "((60000, 784), (10000, 784))"
            ]
          },
          "metadata": {
            "tags": []
          },
          "execution_count": 7
        }
      ]
    },
    {
      "cell_type": "code",
      "metadata": {
        "id": "WWpuAB3KF199"
      },
      "source": [
        "model_digits64 = Sequential()\n",
        "## encoder\n",
        "#input layer and the output size\n",
        "#input_shape=(n_cols): Ci va solo il numero delle colonne dopo che ho shrinked the image \n",
        "\n",
        "model_digits64.add(Dense(units= 128, activation='sigmoid', input_shape=(784,)))\n",
        "  #compression layer\n",
        "model_digits64.add(Dense(units= 64, activation='relu'))\n",
        "## deencoder\n",
        "#decompression layer, same size as in the encoder\n",
        "model_digits64.add(Dense(units= 128, activation='relu'))\n",
        "#output layer, same size as input\n",
        "model_digits64.add(Dense(ndim, activation='linear'))"
      ],
      "execution_count": 8,
      "outputs": []
    },
    {
      "cell_type": "code",
      "metadata": {
        "id": "retWHIYejaCA"
      },
      "source": [
        "#VECCHIA SINTASSI CHE NON VA BENE \n",
        "#model_digits64.compile(optimizer='adam', loss='mean_squared_error')"
      ],
      "execution_count": 9,
      "outputs": []
    },
    {
      "cell_type": "code",
      "metadata": {
        "id": "EqWqIFmSl5QL"
      },
      "source": [
        "model_digits64.compile(optimizer = keras.optimizers.Adam(lr=0.001), loss='mean_squared_error')"
      ],
      "execution_count": 10,
      "outputs": []
    },
    {
      "cell_type": "code",
      "metadata": {
        "colab": {
          "base_uri": "https://localhost:8080/"
        },
        "id": "ddb_wFvHmFAp",
        "outputId": "e0948656-a934-4503-8179-3d13320942a2"
      },
      "source": [
        "print(model_digits64.summary())"
      ],
      "execution_count": 11,
      "outputs": [
        {
          "output_type": "stream",
          "text": [
            "Model: \"sequential\"\n",
            "_________________________________________________________________\n",
            "Layer (type)                 Output Shape              Param #   \n",
            "=================================================================\n",
            "dense (Dense)                (None, 128)               100480    \n",
            "_________________________________________________________________\n",
            "dense_1 (Dense)              (None, 64)                8256      \n",
            "_________________________________________________________________\n",
            "dense_2 (Dense)              (None, 128)               8320      \n",
            "_________________________________________________________________\n",
            "dense_3 (Dense)              (None, 784)               101136    \n",
            "=================================================================\n",
            "Total params: 218,192\n",
            "Trainable params: 218,192\n",
            "Non-trainable params: 0\n",
            "_________________________________________________________________\n",
            "None\n"
          ],
          "name": "stdout"
        }
      ]
    },
    {
      "cell_type": "code",
      "metadata": {
        "colab": {
          "base_uri": "https://localhost:8080/"
        },
        "id": "NOvBltcMmckq",
        "outputId": "a7cfe9cd-edc9-4551-fcbb-c27570b4a486"
      },
      "source": [
        "history64 = model_digits64.fit(x_train, x_train, \n",
        "                               validation_data=(x_test, x_test),\n",
        "                               epochs=20, batch_size=100, verbose=1)"
      ],
      "execution_count": 12,
      "outputs": [
        {
          "output_type": "stream",
          "text": [
            "Epoch 1/20\n",
            "600/600 [==============================] - 5s 4ms/step - loss: 0.0476 - val_loss: 0.0197\n",
            "Epoch 2/20\n",
            "600/600 [==============================] - 2s 3ms/step - loss: 0.0194 - val_loss: 0.0177\n",
            "Epoch 3/20\n",
            "600/600 [==============================] - 2s 3ms/step - loss: 0.0179 - val_loss: 0.0169\n",
            "Epoch 4/20\n",
            "600/600 [==============================] - 2s 3ms/step - loss: 0.0172 - val_loss: 0.0165\n",
            "Epoch 5/20\n",
            "600/600 [==============================] - 2s 3ms/step - loss: 0.0167 - val_loss: 0.0156\n",
            "Epoch 6/20\n",
            "600/600 [==============================] - 2s 3ms/step - loss: 0.0159 - val_loss: 0.0152\n",
            "Epoch 7/20\n",
            "600/600 [==============================] - 2s 3ms/step - loss: 0.0155 - val_loss: 0.0150\n",
            "Epoch 8/20\n",
            "600/600 [==============================] - 2s 3ms/step - loss: 0.0153 - val_loss: 0.0147\n",
            "Epoch 9/20\n",
            "600/600 [==============================] - 2s 3ms/step - loss: 0.0151 - val_loss: 0.0145\n",
            "Epoch 10/20\n",
            "600/600 [==============================] - 2s 3ms/step - loss: 0.0148 - val_loss: 0.0143\n",
            "Epoch 11/20\n",
            "600/600 [==============================] - 2s 3ms/step - loss: 0.0146 - val_loss: 0.0140\n",
            "Epoch 12/20\n",
            "600/600 [==============================] - 2s 3ms/step - loss: 0.0143 - val_loss: 0.0138\n",
            "Epoch 13/20\n",
            "600/600 [==============================] - 2s 3ms/step - loss: 0.0141 - val_loss: 0.0136\n",
            "Epoch 14/20\n",
            "600/600 [==============================] - 2s 3ms/step - loss: 0.0139 - val_loss: 0.0134\n",
            "Epoch 15/20\n",
            "600/600 [==============================] - 2s 3ms/step - loss: 0.0138 - val_loss: 0.0132\n",
            "Epoch 16/20\n",
            "600/600 [==============================] - 2s 3ms/step - loss: 0.0136 - val_loss: 0.0131\n",
            "Epoch 17/20\n",
            "600/600 [==============================] - 2s 3ms/step - loss: 0.0133 - val_loss: 0.0130\n",
            "Epoch 18/20\n",
            "600/600 [==============================] - 2s 3ms/step - loss: 0.0133 - val_loss: 0.0128\n",
            "Epoch 19/20\n",
            "600/600 [==============================] - 2s 3ms/step - loss: 0.0131 - val_loss: 0.0127\n",
            "Epoch 20/20\n",
            "600/600 [==============================] - 2s 3ms/step - loss: 0.0130 - val_loss: 0.0126\n"
          ],
          "name": "stdout"
        }
      ]
    },
    {
      "cell_type": "code",
      "metadata": {
        "colab": {
          "base_uri": "https://localhost:8080/",
          "height": 296
        },
        "id": "X6MJptSPnle5",
        "outputId": "80a56d04-84dd-476d-f03a-9dcc27872bfa"
      },
      "source": [
        "pl.plot(np.array(history64.history['loss']))\n",
        "pl.ylabel('loss')\n",
        "pl.xlabel('iteration')"
      ],
      "execution_count": 13,
      "outputs": [
        {
          "output_type": "execute_result",
          "data": {
            "text/plain": [
              "Text(0.5, 0, 'iteration')"
            ]
          },
          "metadata": {
            "tags": []
          },
          "execution_count": 13
        },
        {
          "output_type": "display_data",
          "data": {
            "image/png": "[encoded data removed]",
            "text/plain": [
              "<Figure size 432x288 with 1 Axes>"
            ]
          },
          "metadata": {
            "tags": [],
            "needs_background": "light"
          }
        }
      ]
    },
    {
      "cell_type": "code",
      "metadata": {
        "id": "SbOZgtyXqO6Y"
      },
      "source": [
        "output_image64 = model_digits64.predict(x_test)"
      ],
      "execution_count": 14,
      "outputs": []
    },
    {
      "cell_type": "code",
      "metadata": {
        "id": "O0KTVsVvqPq4"
      },
      "source": [
        "def compareinout(i, outim, testimg, initialshape=(28,28)):\n",
        "  fig = pl.figure(figsize(10,5))\n",
        "  ax = fig.add_subplot(121) \n",
        "  ax.imshow(testimg[i].reshape(initialshape) , cmap=\"bone\")\n",
        "  ax.get_xaxis().set_visible(False)\n",
        "  ax.get_yaxis().set_visible(False)\n",
        "  ax = fig.add_subplot(122) \n",
        "  ax.imshow(outim[i].reshape(initialshape) , cmap=\"bone\")\n",
        "  ax.get_xaxis().set_visible(False)\n",
        "  ax.get_yaxis().set_visible(False)"
      ],
      "execution_count": 15,
      "outputs": []
    },
    {
      "cell_type": "markdown",
      "metadata": {
        "id": "5s5-V1-Bk8-D"
      },
      "source": [
        "Comparo i risultati che ottengo ricostruendo l'immagine"
      ]
    },
    {
      "cell_type": "code",
      "metadata": {
        "id": "IfGerRMpqT9A",
        "colab": {
          "base_uri": "https://localhost:8080/",
          "height": 1000
        },
        "outputId": "85c69a8a-16f6-4f3e-fd8c-02986fb6a191"
      },
      "source": [
        "for i in range(10):\n",
        "  compareinout(i, output_image64, x_test)"
      ],
      "execution_count": 16,
      "outputs": [
        {
          "output_type": "display_data",
          "data": {
            "image/png": "[encoded data removed]",
            "text/plain": [
              "<Figure size 720x360 with 2 Axes>"
            ]
          },
          "metadata": {
            "tags": [],
            "needs_background": "light"
          }
        },
        {
          "output_type": "display_data",
          "data": {
            "image/png": "[encoded data removed]",
            "text/plain": [
              "<Figure size 720x360 with 2 Axes>"
            ]
          },
          "metadata": {
            "tags": [],
            "needs_background": "light"
          }
        },
        {
          "output_type": "display_data",
          "data": {
            "image/png": "[encoded data removed]",
            "text/plain": [
              "<Figure size 720x360 with 2 Axes>"
            ]
          },
          "metadata": {
            "tags": [],
            "needs_background": "light"
          }
        },
        {
          "output_type": "display_data",
          "data": {
            "image/png": "[encoded data removed]",
            "text/plain": [
              "<Figure size 720x360 with 2 Axes>"
            ]
          },
          "metadata": {
            "tags": [],
            "needs_background": "light"
          }
        },
        {
          "output_type": "display_data",
          "data": {
            "image/png": "[encoded data removed]",
            "text/plain": [
              "<Figure size 720x360 with 2 Axes>"
            ]
          },
          "metadata": {
            "tags": [],
            "needs_background": "light"
          }
        },
        {
          "output_type": "display_data",
          "data": {
            "image/png": "[encoded data removed]",
            "text/plain": [
              "<Figure size 720x360 with 2 Axes>"
            ]
          },
          "metadata": {
            "tags": [],
            "needs_background": "light"
          }
        },
        {
          "output_type": "display_data",
          "data": {
            "image/png": "[encoded data removed]",
            "text/plain": [
              "<Figure size 720x360 with 2 Axes>"
            ]
          },
          "metadata": {
            "tags": [],
            "needs_background": "light"
          }
        },
        {
          "output_type": "display_data",
          "data": {
            "image/png": "[encoded data removed]",
            "text/plain": [
              "<Figure size 720x360 with 2 Axes>"
            ]
          },
          "metadata": {
            "tags": [],
            "needs_background": "light"
          }
        },
        {
          "output_type": "display_data",
          "data": {
            "image/png": "[encoded data removed]",
            "text/plain": [
              "<Figure size 720x360 with 2 Axes>"
            ]
          },
          "metadata": {
            "tags": [],
            "needs_background": "light"
          }
        },
        {
          "output_type": "display_data",
          "data": {
            "image/png": "[encoded data removed]",
            "text/plain": [
              "<Figure size 720x360 with 2 Axes>"
            ]
          },
          "metadata": {
            "tags": [],
            "needs_background": "light"
          }
        }
      ]
    },
    {
      "cell_type": "markdown",
      "metadata": {
        "id": "pwvQwH3llEZ9"
      },
      "source": [
        "This is a rather bad result. Let me see if I can improve it . The images are too detailed. I can treat the problem as a binary problem to derice some detail. To approach a binary classifier I switch the activation function in the last layer to sigmoid. "
      ]
    },
    {
      "cell_type": "markdown",
      "metadata": {
        "id": "mBhjfqusnqZR"
      },
      "source": [
        "#II Model - change loss function"
      ]
    },
    {
      "cell_type": "code",
      "metadata": {
        "id": "X-oddK_ck4Yd"
      },
      "source": [
        "#choose the optimizer and loss appropriately!\n",
        "model_digits64_sig = Sequential()\n",
        "## encoder.....\n",
        "model_digits64_sig.add(Dense(units= 128, activation='sigmoid', input_shape=(784,)))\n",
        "#compression layer\n",
        "model_digits64_sig.add(Dense(units= 64, activation='relu'))\n",
        "## deencoder\n",
        "#decompression layer, same size as in the encoder\n",
        "model_digits64_sig.add(Dense(units= 128, activation='relu'))\n",
        "#output layer, same size as input\n",
        "model_digits64_sig.add(Dense(ndim, activation='sigmoid'))\n",
        "                             \n",
        "\n",
        "model_digits64_sig.compile(optimizer = keras.optimizers.Adam(lr=0.001), loss='binary_crossentropy')\n",
        "\n",
        "#IF I USE ADADELTA, IT DOESN'T WORK\n",
        "\n",
        "#model_digits64_sig.compile(optimizer= keras.optimizers.Adadelta(learning_rate=0.01) , loss='binary_crossentropy')"
      ],
      "execution_count": 17,
      "outputs": []
    },
    {
      "cell_type": "code",
      "metadata": {
        "id": "F5pnLBszJE-R"
      },
      "source": [
        "#model_digits64_sig = Sequential()\n",
        "\n",
        "#model_digits64_sig.add(Dense(ndim, activation='sigmoid'))\n",
        "#model_digits64_sig.compile(optimizer=\"adadelta\", loss='binary_cross_entry')"
      ],
      "execution_count": 18,
      "outputs": []
    },
    {
      "cell_type": "code",
      "metadata": {
        "colab": {
          "base_uri": "https://localhost:8080/"
        },
        "id": "ZQD3bhEYljDq",
        "outputId": "ef8f15ea-1ac4-4d42-eb6f-3443293ec655"
      },
      "source": [
        "history64_sig = model_digits64_sig.fit(x_train, x_train, \n",
        "                                       validation_data=(x_test, x_test), \n",
        "                                       epochs=50, batch_size=100, verbose=1)"
      ],
      "execution_count": 19,
      "outputs": [
        {
          "output_type": "stream",
          "text": [
            "Epoch 1/50\n",
            "600/600 [==============================] - 3s 4ms/step - loss: 0.2801 - val_loss: 0.1439\n",
            "Epoch 2/50\n",
            "600/600 [==============================] - 2s 3ms/step - loss: 0.1356 - val_loss: 0.1153\n",
            "Epoch 3/50\n",
            "600/600 [==============================] - 2s 3ms/step - loss: 0.1133 - val_loss: 0.1041\n",
            "Epoch 4/50\n",
            "600/600 [==============================] - 2s 3ms/step - loss: 0.1041 - val_loss: 0.0983\n",
            "Epoch 5/50\n",
            "600/600 [==============================] - 2s 3ms/step - loss: 0.0987 - val_loss: 0.0945\n",
            "Epoch 6/50\n",
            "600/600 [==============================] - 2s 3ms/step - loss: 0.0949 - val_loss: 0.0918\n",
            "Epoch 7/50\n",
            "600/600 [==============================] - 2s 3ms/step - loss: 0.0924 - val_loss: 0.0896\n",
            "Epoch 8/50\n",
            "600/600 [==============================] - 2s 3ms/step - loss: 0.0903 - val_loss: 0.0878\n",
            "Epoch 9/50\n",
            "600/600 [==============================] - 2s 3ms/step - loss: 0.0882 - val_loss: 0.0863\n",
            "Epoch 10/50\n",
            "600/600 [==============================] - 2s 3ms/step - loss: 0.0868 - val_loss: 0.0848\n",
            "Epoch 11/50\n",
            "600/600 [==============================] - 2s 3ms/step - loss: 0.0856 - val_loss: 0.0838\n",
            "Epoch 12/50\n",
            "600/600 [==============================] - 2s 3ms/step - loss: 0.0844 - val_loss: 0.0827\n",
            "Epoch 13/50\n",
            "600/600 [==============================] - 2s 3ms/step - loss: 0.0833 - val_loss: 0.0819\n",
            "Epoch 14/50\n",
            "600/600 [==============================] - 2s 3ms/step - loss: 0.0824 - val_loss: 0.0813\n",
            "Epoch 15/50\n",
            "600/600 [==============================] - 2s 3ms/step - loss: 0.0819 - val_loss: 0.0807\n",
            "Epoch 16/50\n",
            "600/600 [==============================] - 2s 3ms/step - loss: 0.0811 - val_loss: 0.0802\n",
            "Epoch 17/50\n",
            "600/600 [==============================] - 2s 3ms/step - loss: 0.0807 - val_loss: 0.0798\n",
            "Epoch 18/50\n",
            "600/600 [==============================] - 2s 3ms/step - loss: 0.0802 - val_loss: 0.0793\n",
            "Epoch 19/50\n",
            "600/600 [==============================] - 2s 3ms/step - loss: 0.0798 - val_loss: 0.0790\n",
            "Epoch 20/50\n",
            "600/600 [==============================] - 2s 3ms/step - loss: 0.0794 - val_loss: 0.0785\n",
            "Epoch 21/50\n",
            "600/600 [==============================] - 2s 3ms/step - loss: 0.0790 - val_loss: 0.0780\n",
            "Epoch 22/50\n",
            "600/600 [==============================] - 2s 4ms/step - loss: 0.0786 - val_loss: 0.0778\n",
            "Epoch 23/50\n",
            "600/600 [==============================] - 2s 3ms/step - loss: 0.0783 - val_loss: 0.0776\n",
            "Epoch 24/50\n",
            "600/600 [==============================] - 2s 3ms/step - loss: 0.0778 - val_loss: 0.0773\n",
            "Epoch 25/50\n",
            "600/600 [==============================] - 2s 3ms/step - loss: 0.0778 - val_loss: 0.0770\n",
            "Epoch 26/50\n",
            "600/600 [==============================] - 2s 3ms/step - loss: 0.0775 - val_loss: 0.0767\n",
            "Epoch 27/50\n",
            "600/600 [==============================] - 2s 3ms/step - loss: 0.0771 - val_loss: 0.0765\n",
            "Epoch 28/50\n",
            "600/600 [==============================] - 2s 3ms/step - loss: 0.0770 - val_loss: 0.0764\n",
            "Epoch 29/50\n",
            "600/600 [==============================] - 2s 3ms/step - loss: 0.0767 - val_loss: 0.0761\n",
            "Epoch 30/50\n",
            "600/600 [==============================] - 2s 3ms/step - loss: 0.0764 - val_loss: 0.0758\n",
            "Epoch 31/50\n",
            "600/600 [==============================] - 2s 3ms/step - loss: 0.0761 - val_loss: 0.0756\n",
            "Epoch 32/50\n",
            "600/600 [==============================] - 2s 3ms/step - loss: 0.0759 - val_loss: 0.0756\n",
            "Epoch 33/50\n",
            "600/600 [==============================] - 2s 3ms/step - loss: 0.0762 - val_loss: 0.0754\n",
            "Epoch 34/50\n",
            "600/600 [==============================] - 2s 3ms/step - loss: 0.0756 - val_loss: 0.0753\n",
            "Epoch 35/50\n",
            "600/600 [==============================] - 2s 3ms/step - loss: 0.0756 - val_loss: 0.0752\n",
            "Epoch 36/50\n",
            "600/600 [==============================] - 2s 3ms/step - loss: 0.0751 - val_loss: 0.0750\n",
            "Epoch 37/50\n",
            "600/600 [==============================] - 2s 3ms/step - loss: 0.0753 - val_loss: 0.0747\n",
            "Epoch 38/50\n",
            "600/600 [==============================] - 2s 3ms/step - loss: 0.0750 - val_loss: 0.0748\n",
            "Epoch 39/50\n",
            "600/600 [==============================] - 2s 3ms/step - loss: 0.0749 - val_loss: 0.0746\n",
            "Epoch 40/50\n",
            "600/600 [==============================] - 2s 3ms/step - loss: 0.0749 - val_loss: 0.0743\n",
            "Epoch 41/50\n",
            "600/600 [==============================] - 2s 3ms/step - loss: 0.0748 - val_loss: 0.0743\n",
            "Epoch 42/50\n",
            "600/600 [==============================] - 2s 3ms/step - loss: 0.0746 - val_loss: 0.0741\n",
            "Epoch 43/50\n",
            "600/600 [==============================] - 2s 3ms/step - loss: 0.0744 - val_loss: 0.0740\n",
            "Epoch 44/50\n",
            "600/600 [==============================] - 2s 3ms/step - loss: 0.0741 - val_loss: 0.0740\n",
            "Epoch 45/50\n",
            "600/600 [==============================] - 2s 3ms/step - loss: 0.0740 - val_loss: 0.0738\n",
            "Epoch 46/50\n",
            "600/600 [==============================] - 2s 3ms/step - loss: 0.0741 - val_loss: 0.0737\n",
            "Epoch 47/50\n",
            "600/600 [==============================] - 2s 3ms/step - loss: 0.0740 - val_loss: 0.0736\n",
            "Epoch 48/50\n",
            "600/600 [==============================] - 2s 3ms/step - loss: 0.0738 - val_loss: 0.0736\n",
            "Epoch 49/50\n",
            "600/600 [==============================] - 2s 3ms/step - loss: 0.0736 - val_loss: 0.0734\n",
            "Epoch 50/50\n",
            "600/600 [==============================] - 2s 3ms/step - loss: 0.0737 - val_loss: 0.0734\n"
          ],
          "name": "stdout"
        }
      ]
    },
    {
      "cell_type": "code",
      "metadata": {
        "colab": {
          "base_uri": "https://localhost:8080/",
          "height": 351
        },
        "id": "mlbL0uM8oaQJ",
        "outputId": "17fd956c-7f00-4911-8ddb-401a9879b728"
      },
      "source": [
        "pl.plot(np.array(history64_sig.history['loss']))\n",
        "pl.ylabel('loss')\n",
        "pl.xlabel('iteration')\n",
        "#pl.yscale('log')\n",
        "#pl.xscale('log')"
      ],
      "execution_count": 20,
      "outputs": [
        {
          "output_type": "execute_result",
          "data": {
            "text/plain": [
              "Text(0.5, 0, 'iteration')"
            ]
          },
          "metadata": {
            "tags": []
          },
          "execution_count": 20
        },
        {
          "output_type": "display_data",
          "data": {
            "image/png": "[encoded data removed]",
            "text/plain": [
              "<Figure size 720x360 with 1 Axes>"
            ]
          },
          "metadata": {
            "tags": [],
            "needs_background": "light"
          }
        }
      ]
    },
    {
      "cell_type": "code",
      "metadata": {
        "colab": {
          "base_uri": "https://localhost:8080/",
          "height": 1000
        },
        "id": "KJAlwT9mXvyR",
        "outputId": "66ab3be4-72b3-49f7-8239-37a012f6bd23"
      },
      "source": [
        "output_image64_sig = model_digits64_sig.predict(x_test)\n",
        "for i in range(10):\n",
        "  compareinout(i, output_image64_sig, x_test)"
      ],
      "execution_count": 21,
      "outputs": [
        {
          "output_type": "display_data",
          "data": {
            "image/png": "[encoded data removed]",
            "text/plain": [
              "<Figure size 720x360 with 2 Axes>"
            ]
          },
          "metadata": {
            "tags": [],
            "needs_background": "light"
          }
        },
        {
          "output_type": "display_data",
          "data": {
            "image/png": "[encoded data removed]",
            "text/plain": [
              "<Figure size 720x360 with 2 Axes>"
            ]
          },
          "metadata": {
            "tags": [],
            "needs_background": "light"
          }
        },
        {
          "output_type": "display_data",
          "data": {
            "image/png": "[encoded data removed]",
            "text/plain": [
              "<Figure size 720x360 with 2 Axes>"
            ]
          },
          "metadata": {
            "tags": [],
            "needs_background": "light"
          }
        },
        {
          "output_type": "display_data",
          "data": {
            "image/png": "[encoded data removed]",
            "text/plain": [
              "<Figure size 720x360 with 2 Axes>"
            ]
          },
          "metadata": {
            "tags": [],
            "needs_background": "light"
          }
        },
        {
          "output_type": "display_data",
          "data": {
            "image/png": "[encoded data removed]",
            "text/plain": [
              "<Figure size 720x360 with 2 Axes>"
            ]
          },
          "metadata": {
            "tags": [],
            "needs_background": "light"
          }
        },
        {
          "output_type": "display_data",
          "data": {
            "image/png": "[encoded data removed]",
            "text/plain": [
              "<Figure size 720x360 with 2 Axes>"
            ]
          },
          "metadata": {
            "tags": [],
            "needs_background": "light"
          }
        },
        {
          "output_type": "display_data",
          "data": {
            "image/png": "[encoded data removed]",
            "text/plain": [
              "<Figure size 720x360 with 2 Axes>"
            ]
          },
          "metadata": {
            "tags": [],
            "needs_background": "light"
          }
        },
        {
          "output_type": "display_data",
          "data": {
            "image/png": "[encoded data removed]",
            "text/plain": [
              "<Figure size 720x360 with 2 Axes>"
            ]
          },
          "metadata": {
            "tags": [],
            "needs_background": "light"
          }
        },
        {
          "output_type": "display_data",
          "data": {
            "image/png": "[encoded data removed]",
            "text/plain": [
              "<Figure size 720x360 with 2 Axes>"
            ]
          },
          "metadata": {
            "tags": [],
            "needs_background": "light"
          }
        },
        {
          "output_type": "display_data",
          "data": {
            "image/png": "[encoded data removed]",
            "text/plain": [
              "<Figure size 720x360 with 2 Axes>"
            ]
          },
          "metadata": {
            "tags": [],
            "needs_background": "light"
          }
        }
      ]
    },
    {
      "cell_type": "markdown",
      "metadata": {
        "id": "2rol7IiMdWN5"
      },
      "source": [
        "#III Model (same as the II Model, but now I use adadelta optimizer )"
      ]
    },
    {
      "cell_type": "code",
      "metadata": {
        "id": "3bGnuxWtcRkv"
      },
      "source": [
        "model_digits64_bce = model_digits64_sig"
      ],
      "execution_count": 22,
      "outputs": []
    },
    {
      "cell_type": "code",
      "metadata": {
        "colab": {
          "base_uri": "https://localhost:8080/"
        },
        "id": "jPvuuWkdcTZm",
        "outputId": "295a6d20-72e9-4c4c-f1d3-07b15b019e40"
      },
      "source": [
        "model_digits64_bce.compile(optimizer=\"adadelta\", loss=\"binary_crossentropy\")\n",
        "history64_bce = model_digits64_bce.fit(x_train, x_train, \n",
        "                                       validation_data=(x_test, x_test), \n",
        "                                       epochs=20, batch_size=100, verbose=1)"
      ],
      "execution_count": 23,
      "outputs": [
        {
          "output_type": "stream",
          "text": [
            "Epoch 1/20\n",
            "600/600 [==============================] - 3s 4ms/step - loss: 0.0735 - val_loss: 0.0731\n",
            "Epoch 2/20\n",
            "600/600 [==============================] - 2s 3ms/step - loss: 0.0732 - val_loss: 0.0731\n",
            "Epoch 3/20\n",
            "600/600 [==============================] - 2s 3ms/step - loss: 0.0732 - val_loss: 0.0730\n",
            "Epoch 4/20\n",
            "600/600 [==============================] - 2s 3ms/step - loss: 0.0731 - val_loss: 0.0730\n",
            "Epoch 5/20\n",
            "600/600 [==============================] - 2s 3ms/step - loss: 0.0733 - val_loss: 0.0730\n",
            "Epoch 6/20\n",
            "600/600 [==============================] - 2s 3ms/step - loss: 0.0731 - val_loss: 0.0729\n",
            "Epoch 7/20\n",
            "600/600 [==============================] - 2s 3ms/step - loss: 0.0732 - val_loss: 0.0729\n",
            "Epoch 8/20\n",
            "600/600 [==============================] - 2s 3ms/step - loss: 0.0733 - val_loss: 0.0729\n",
            "Epoch 9/20\n",
            "600/600 [==============================] - 2s 3ms/step - loss: 0.0731 - val_loss: 0.0729\n",
            "Epoch 10/20\n",
            "600/600 [==============================] - 2s 3ms/step - loss: 0.0732 - val_loss: 0.0729\n",
            "Epoch 11/20\n",
            "600/600 [==============================] - 2s 3ms/step - loss: 0.0730 - val_loss: 0.0729\n",
            "Epoch 12/20\n",
            "600/600 [==============================] - 2s 3ms/step - loss: 0.0731 - val_loss: 0.0729\n",
            "Epoch 13/20\n",
            "600/600 [==============================] - 2s 3ms/step - loss: 0.0731 - val_loss: 0.0729\n",
            "Epoch 14/20\n",
            "600/600 [==============================] - 2s 3ms/step - loss: 0.0730 - val_loss: 0.0729\n",
            "Epoch 15/20\n",
            "600/600 [==============================] - 2s 3ms/step - loss: 0.0730 - val_loss: 0.0729\n",
            "Epoch 16/20\n",
            "600/600 [==============================] - 2s 3ms/step - loss: 0.0730 - val_loss: 0.0728\n",
            "Epoch 17/20\n",
            "600/600 [==============================] - 2s 3ms/step - loss: 0.0729 - val_loss: 0.0728\n",
            "Epoch 18/20\n",
            "600/600 [==============================] - 2s 3ms/step - loss: 0.0731 - val_loss: 0.0728\n",
            "Epoch 19/20\n",
            "600/600 [==============================] - 2s 3ms/step - loss: 0.0731 - val_loss: 0.0728\n",
            "Epoch 20/20\n",
            "600/600 [==============================] - 2s 3ms/step - loss: 0.0730 - val_loss: 0.0728\n"
          ],
          "name": "stdout"
        }
      ]
    },
    {
      "cell_type": "code",
      "metadata": {
        "colab": {
          "base_uri": "https://localhost:8080/",
          "height": 351
        },
        "id": "bosHqCOccY1M",
        "outputId": "d682fd29-e0e7-4570-eea1-8e97e025493e"
      },
      "source": [
        "pl.plot(np.array(history64_bce.history['loss']))\n",
        "pl.ylabel('loss')\n",
        "pl.xlabel('iteration')\n",
        "#pl.yscale('log')\n",
        "#pl.xscale('log')"
      ],
      "execution_count": 24,
      "outputs": [
        {
          "output_type": "execute_result",
          "data": {
            "text/plain": [
              "Text(0.5, 0, 'iteration')"
            ]
          },
          "metadata": {
            "tags": []
          },
          "execution_count": 24
        },
        {
          "output_type": "display_data",
          "data": {
            "image/png": "[encoded data removed]",
            "text/plain": [
              "<Figure size 720x360 with 1 Axes>"
            ]
          },
          "metadata": {
            "tags": [],
            "needs_background": "light"
          }
        }
      ]
    },
    {
      "cell_type": "code",
      "metadata": {
        "colab": {
          "base_uri": "https://localhost:8080/",
          "height": 1000
        },
        "id": "dtV7Tj9Jc6Wj",
        "outputId": "fd95b5dd-8af9-4556-bd14-bc89e4d87938"
      },
      "source": [
        "output_image64_bce = model_digits64_bce.predict(x_test)\n",
        "for i in range(10):\n",
        "  compareinout(i, output_image64_bce, x_test)"
      ],
      "execution_count": 25,
      "outputs": [
        {
          "output_type": "display_data",
          "data": {
            "image/png": "[encoded data removed]",
            "text/plain": [
              "<Figure size 720x360 with 2 Axes>"
            ]
          },
          "metadata": {
            "tags": [],
            "needs_background": "light"
          }
        },
        {
          "output_type": "display_data",
          "data": {
            "image/png": "[encoded data removed]",
            "text/plain": [
              "<Figure size 720x360 with 2 Axes>"
            ]
          },
          "metadata": {
            "tags": [],
            "needs_background": "light"
          }
        },
        {
          "output_type": "display_data",
          "data": {
            "image/png": "[encoded data removed]",
            "text/plain": [
              "<Figure size 720x360 with 2 Axes>"
            ]
          },
          "metadata": {
            "tags": [],
            "needs_background": "light"
          }
        },
        {
          "output_type": "display_data",
          "data": {
            "image/png": "[encoded data removed]",
            "text/plain": [
              "<Figure size 720x360 with 2 Axes>"
            ]
          },
          "metadata": {
            "tags": [],
            "needs_background": "light"
          }
        },
        {
          "output_type": "display_data",
          "data": {
            "image/png": "[encoded data removed]",
            "text/plain": [
              "<Figure size 720x360 with 2 Axes>"
            ]
          },
          "metadata": {
            "tags": [],
            "needs_background": "light"
          }
        },
        {
          "output_type": "display_data",
          "data": {
            "image/png": "[encoded data removed]",
            "text/plain": [
              "<Figure size 720x360 with 2 Axes>"
            ]
          },
          "metadata": {
            "tags": [],
            "needs_background": "light"
          }
        },
        {
          "output_type": "display_data",
          "data": {
            "image/png": "[encoded data removed]",
            "text/plain": [
              "<Figure size 720x360 with 2 Axes>"
            ]
          },
          "metadata": {
            "tags": [],
            "needs_background": "light"
          }
        },
        {
          "output_type": "display_data",
          "data": {
            "image/png": "[encoded data removed]",
            "text/plain": [
              "<Figure size 720x360 with 2 Axes>"
            ]
          },
          "metadata": {
            "tags": [],
            "needs_background": "light"
          }
        },
        {
          "output_type": "display_data",
          "data": {
            "image/png": "[encoded data removed]",
            "text/plain": [
              "<Figure size 720x360 with 2 Axes>"
            ]
          },
          "metadata": {
            "tags": [],
            "needs_background": "light"
          }
        },
        {
          "output_type": "display_data",
          "data": {
            "image/png": "[encoded data removed]",
            "text/plain": [
              "<Figure size 720x360 with 2 Axes>"
            ]
          },
          "metadata": {
            "tags": [],
            "needs_background": "light"
          }
        }
      ]
    }
  ]
}