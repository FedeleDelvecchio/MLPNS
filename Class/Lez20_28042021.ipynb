{
  "nbformat": 4,
  "nbformat_minor": 0,
  "metadata": {
    "colab": {
      "name": "Lez20 28042021.ipynb",
      "provenance": [],
      "collapsed_sections": [],
      "authorship_tag": "ABX9TyOgfl6dluzdA2QiHRoktaXz",
      "include_colab_link": true
    },
    "kernelspec": {
      "name": "python3",
      "display_name": "Python 3"
    },
    "language_info": {
      "name": "python"
    },
    "accelerator": "GPU"
  },
  "cells": [
    {
      "cell_type": "markdown",
      "metadata": {
        "id": "view-in-github",
        "colab_type": "text"
      },
      "source": [
        "<a href=\"https://colab.research.google.com/github/FedeleDelvecchio/MLPNS/blob/main/Class/Lez20_28042021.ipynb\" target=\"_parent\"><img src=\"https://colab.research.google.com/assets/colab-badge.svg\" alt=\"Open In Colab\"/></a>"
      ]
    },
    {
      "cell_type": "markdown",
      "metadata": {
        "id": "FGGF0VhXDTnm"
      },
      "source": [
        "We are gonna look specific design of neural network. That makes specific things like the **autoencoders**. \n",
        "\n",
        "Then we wiil see currrent neural network. which is another architecture for time series."
      ]
    },
    {
      "cell_type": "markdown",
      "metadata": {
        "id": "aKoMHg8FRMKW"
      },
      "source": [
        "We saw multilayer perceptron and backpropagation. \n",
        "\n",
        "NN are also known as multilayer perceptron. \n",
        "\n",
        "Different activation function gives different output, because of the shape of activation function. We choose activation function based on the task we want to do (regression task, classifier, probabilistic classifier, ... ).\n",
        "\n",
        "The basic architecture is a bunch of multilinear regressions, that happen in parallel that happen in series. \n",
        "\n",
        "To get rid of the \"curse of dimensionality\", we do back-propagation of the prediction error, since the NN works in series. Each neuron is adjusted by something proportional to the derivative of the error. \n",
        "\n"
      ]
    },
    {
      "cell_type": "markdown",
      "metadata": {
        "id": "GdI5HQ4USALV"
      },
      "source": [
        "###**TODAY - HANDWRITTEN DIGITS DATASET**\n",
        "\n",
        "**Slide**: https://slides.com/federicabianco/mlpns9 \n",
        "\n",
        "**Notebook**: https://github.com/fedhere/MLPNS2021/blob/main/NNDL/April2021_autoencode_digits.ipynb\n",
        "\n"
      ]
    },
    {
      "cell_type": "markdown",
      "metadata": {
        "id": "u1nIEAhOb-Lr"
      },
      "source": [
        "We saw output layaer, hidden layer and the concept of fully connected (dense layer), sparsely connected. \n",
        "\n",
        "Sparsely connected: some of the input don't go to all the next layer. Some layer ouput don't go to all next layer.\n",
        "\n",
        "\n",
        "We have the \"freedom of the output side of each layer \" but the input shape is determined by the sahpe of other matrix.\n",
        "\n",
        "We have also the activatoin functino. The purpose is to minimize an error, means that I have to think what is the right way to look for the minimum value of my L_1. We will see how to do, today:\n",
        "\n",
        "- waht is the input data (binary continuos)\n",
        "\n",
        "- what is the task we will do (regression, classification)\n",
        "\n",
        "See this book about neural network:\n",
        "http://neuralnetworksanddeeplearning.com/chap4.html \n"
      ]
    },
    {
      "cell_type": "markdown",
      "metadata": {
        "id": "SuOniGK7HUv2"
      },
      "source": [
        "##**HYPERPARAMETER**\n",
        "\n",
        "- Number of hidden layer, is the first to think about. \n",
        "- Loss function (L_1, L_2, ...)\n",
        "- Activation function (consistent with loss function)\n",
        "- Number of epochs, to prevent overfitting\n",
        "- learning rate (balance speed and accuracy. It's like \"how large the step was in the MCMC\". With very little step I am not gonna learn, with large step I have less accuracy.)\n",
        "- batch size: how many input neuron I use in that training epochs. Smaller batch size is faster but leads to overtraining.\n",
        "\n",
        "A wide neural network will have the tendency to overfint. On the other hand, a deep neural network has an high computational costs and time to train.\n",
        "\n"
      ]
    },
    {
      "cell_type": "markdown",
      "metadata": {
        "id": "ncBIXhVCJ2BB"
      },
      "source": [
        "For the regression task I can choose a mean_squared_error loss function.\n",
        "\n",
        "The binary classificiation is used with the loss_binary_crossentropy loss function. \n",
        "\n",
        "And other (see slide).\n",
        "\n",
        "###**Whenever I run NN, I have to see the loss function, to see how I am learning and if I am overfitting.**\n",
        "\n",
        "####When at the first few epoch I am learning very slow, I will change the learning rate to adjust this problem.\n",
        "\n",
        "We also have a table in the slide to choose the right loss function.\n",
        "\n",
        "\n",
        "#Convolutoinal neural network (tha we built with keras) are suitable to do task where my dataset have correlation structure: such images!\n",
        "\n",
        "#**Today we will do a dense autoencoder: it is a neural network with a bottleneck. Generally the goal is tho approximate a complex function with simple discrete choice with a series of linear function.** This NN is use also to du dimesnionality reduction. \n",
        "\n",
        "The input data is compressed, and then the NN is expanding again after the the bottleneck. \n",
        "The NN learn how to complress the data and then I can reconstruct the image by what I learned. In this way I can reconstruct other similar image, for example. If I do a good job by compression, I can reconstruct better the image. \n",
        "\n"
      ]
    },
    {
      "cell_type": "markdown",
      "metadata": {
        "id": "nM07xgkNOI5r"
      },
      "source": [
        "##When I use image to do dense DNN with keras, I have to shrink the image into a 1D array because I am using a type of NN that is sequential NN."
      ]
    },
    {
      "cell_type": "markdown",
      "metadata": {
        "id": "zJ7Y9j-lO1w9"
      },
      "source": [
        "## model.compile(...)\n",
        "\n",
        "To change the learning rate, the syntax is:\n",
        "\n",
        "keras.optimizers.Adam(lr=0.01) this is what I pass to the optimizer in the model.compile function:\n",
        "\n",
        "model.compile(optimizer = keras.optimizers.Adam(lr=0.01)… \n",
        "\n",
        "####**So in this model.compile I pass the scheme to go downhill the lilelihood surface (optimizer=Adam) and the learning rate.**\n"
      ]
    },
    {
      "cell_type": "markdown",
      "metadata": {
        "id": "ACczGPDcO_XF"
      },
      "source": [
        "#**With this NN we want to recreate an handwritten digits: used for image reconstruction**\n",
        "\n",
        "If we have a mean squared error loss function the task we can do is a regression. This is not the best choice I can do for handwritten digit recontruction.\n",
        "\n",
        "If I want to do binary classficiation I have to use other loss function because I am trying to predict 0 or 1, I am classfying. \n",
        "\n",
        "###**Image reconstruction doesn't work so good with regression with a mean square error loss. It works better with a sigmoid loss function. But if we do a binary classficiation, instead of regression we obtein a better result at all.**\n",
        "\n",
        "\n",
        "Notebook: https://github.com/fedhere/MLPNS2021/blob/main/NNDL/April2021_autoencode_digits.ipynb\n",
        "\n"
      ]
    },
    {
      "cell_type": "markdown",
      "metadata": {
        "id": "vZcePMwcR7BZ"
      },
      "source": [
        "#START EXERCISE"
      ]
    },
    {
      "cell_type": "code",
      "metadata": {
        "colab": {
          "base_uri": "https://localhost:8080/"
        },
        "id": "ZSvE3wkjcVkQ",
        "outputId": "53dc2a83-cbc9-4892-8954-ef1f67c9600f"
      },
      "source": [
        "import keras\n",
        "from keras.datasets import mnist\n",
        "from keras.models import Sequential\n",
        "from keras.layers import Dense#, Dropout, Flatten\n",
        "#from keras.layers import Conv2D, MaxPooling2D\n",
        "from keras import backend as K\n",
        "import glob\n",
        "import pylab as pl\n",
        "from PIL import Image\n",
        "\n",
        "%pylab inline"
      ],
      "execution_count": 1,
      "outputs": [
        {
          "output_type": "stream",
          "text": [
            "Populating the interactive namespace from numpy and matplotlib\n"
          ],
          "name": "stdout"
        }
      ]
    },
    {
      "cell_type": "code",
      "metadata": {
        "colab": {
          "base_uri": "https://localhost:8080/",
          "height": 265
        },
        "id": "fX7lmIP4gGp5",
        "outputId": "adcb8e89-b4a9-455e-f8c1-073b92814955"
      },
      "source": [
        "from keras.datasets import mnist\n",
        "(x_train, _), (x_test, _) = mnist.load_data()\n",
        "\n",
        "img_rows, img_cols = 28, 28\n",
        "pl.imshow(x_train[0])\n",
        "pl.axis('off')\n",
        "intialshape = x_train[0].shape\n",
        "ndim = np.prod(x_train[0].shape)\n",
        "x_train.shape"
      ],
      "execution_count": 2,
      "outputs": [
        {
          "output_type": "execute_result",
          "data": {
            "text/plain": [
              "(60000, 28, 28)"
            ]
          },
          "metadata": {
            "tags": []
          },
          "execution_count": 2
        },
        {
          "output_type": "display_data",
          "data": {
            "image/png": "[encoded data removed]",
            "text/plain": [
              "<Figure size 432x288 with 1 Axes>"
            ]
          },
          "metadata": {
            "tags": [],
            "needs_background": "light"
          }
        }
      ]
    },
    {
      "cell_type": "code",
      "metadata": {
        "colab": {
          "base_uri": "https://localhost:8080/"
        },
        "id": "wWE4zb-siRIN",
        "outputId": "8c00c621-e91f-44e5-a711-c2786bbab37e"
      },
      "source": [
        "intialshape"
      ],
      "execution_count": 3,
      "outputs": [
        {
          "output_type": "execute_result",
          "data": {
            "text/plain": [
              "(28, 28)"
            ]
          },
          "metadata": {
            "tags": []
          },
          "execution_count": 3
        }
      ]
    },
    {
      "cell_type": "code",
      "metadata": {
        "colab": {
          "base_uri": "https://localhost:8080/"
        },
        "id": "NNHEnVn8iCiU",
        "outputId": "f210d7f7-504b-4cde-c3c8-9ae8528ab1ce"
      },
      "source": [
        "x_train[0].shape"
      ],
      "execution_count": 4,
      "outputs": [
        {
          "output_type": "execute_result",
          "data": {
            "text/plain": [
              "(28, 28)"
            ]
          },
          "metadata": {
            "tags": []
          },
          "execution_count": 4
        }
      ]
    },
    {
      "cell_type": "code",
      "metadata": {
        "colab": {
          "base_uri": "https://localhost:8080/"
        },
        "id": "CV9qpOrKikXz",
        "outputId": "bcff021a-c308-49ea-ea7f-88454a561205"
      },
      "source": [
        "np.prod(x_train[0].shape) #28x28=784"
      ],
      "execution_count": 5,
      "outputs": [
        {
          "output_type": "execute_result",
          "data": {
            "text/plain": [
              "784"
            ]
          },
          "metadata": {
            "tags": []
          },
          "execution_count": 5
        }
      ]
    },
    {
      "cell_type": "markdown",
      "metadata": {
        "id": "3Sa7VQnOfagi"
      },
      "source": [
        "**La cella seguente è la cella della normalizzazione. Dobbiamo assicurarci che la shape giusta (ovvero un vettore unidimensionale) per applicare il modello e soprattutto che sia normalizzata con valori tra 0 e 1.**"
      ]
    },
    {
      "cell_type": "markdown",
      "metadata": {
        "id": "7LCWtMgOgtH6"
      },
      "source": [
        "Siccome x_train contiene numeri da 0 a 255 di tipo uint8. Per utilizzarlo nel modello devo fare il reshape del mio train set (trasformandolo in un vettore unidimensionale) e inoltre devo normalizzarlo.\n",
        "\n",
        "Quindi per normalizzarlo trasformo tutti i numeri in float e li divido per 255 così saranno tutti tra 0 e 1 (x_train.astype(float) / 255). Poi faccio il reshape e la shape del vettore x_train la faccio diventare di 784, ovvero il numero di dimensioni dell'immagine (in altre parole l'immagine è di 28x28=784 pixel. Allora creo un vettore lungo 784 pixel)."
      ]
    },
    {
      "cell_type": "code",
      "metadata": {
        "colab": {
          "base_uri": "https://localhost:8080/"
        },
        "id": "CEUux6HGhc5b",
        "outputId": "5aa57425-cfb1-47a9-bbb9-cc8669a8f296"
      },
      "source": [
        "len(x_train)"
      ],
      "execution_count": 6,
      "outputs": [
        {
          "output_type": "execute_result",
          "data": {
            "text/plain": [
              "60000"
            ]
          },
          "metadata": {
            "tags": []
          },
          "execution_count": 6
        }
      ]
    },
    {
      "cell_type": "code",
      "metadata": {
        "colab": {
          "base_uri": "https://localhost:8080/"
        },
        "id": "1mqBadCugeFI",
        "outputId": "b28d3c18-eed5-437a-d4ca-cf8e288b338a"
      },
      "source": [
        "#ATTENTO A NON FAR CORRERE QUESTA CELLA PIÙ DI UNA VOLTA\n",
        "\n",
        "x_train = (x_train.astype(float) / 255).reshape(len(x_train), ndim)\n",
        "x_test = (x_test.astype(float) / 255).reshape(len(x_test), ndim)\n",
        "x_train.shape, x_test.shape"
      ],
      "execution_count": 7,
      "outputs": [
        {
          "output_type": "execute_result",
          "data": {
            "text/plain": [
              "((60000, 784), (10000, 784))"
            ]
          },
          "metadata": {
            "tags": []
          },
          "execution_count": 7
        }
      ]
    },
    {
      "cell_type": "code",
      "metadata": {
        "id": "WWpuAB3KF199"
      },
      "source": [
        "keras.initializers.RandomNormal(seed=175)\n",
        "\n",
        "model_digits64 = Sequential()\n",
        "## encoder\n",
        "# input layer and the output size\n",
        "\n",
        "#input_shape=(n_cols): Ci va solo il numero delle colonne dopo che ho shrinked the image \n",
        "\n",
        "model_digits64.add(Dense(units= 128, activation='linear', input_shape=(784,)))\n",
        "  #compression layer\n",
        "model_digits64.add(Dense(units= 64, activation='linear'))\n",
        "## deencoder\n",
        "#decompression layer, same size as in the encoder\n",
        "model_digits64.add(Dense(units= 128, activation='linear'))\n",
        "#output layer, same size as input\n",
        "model_digits64.add(Dense(ndim, activation='linear'))"
      ],
      "execution_count": 8,
      "outputs": []
    },
    {
      "cell_type": "code",
      "metadata": {
        "id": "retWHIYejaCA"
      },
      "source": [
        "#VECCHIA SINTASSI CHE NON VA BENE \n",
        "#model_digits64.compile(optimizer='adam', loss='mean_squared_error')"
      ],
      "execution_count": 9,
      "outputs": []
    },
    {
      "cell_type": "code",
      "metadata": {
        "id": "EqWqIFmSl5QL"
      },
      "source": [
        "model_digits64.compile(optimizer = keras.optimizers.Adam(lr=0.04), loss='mean_squared_error')"
      ],
      "execution_count": 10,
      "outputs": []
    },
    {
      "cell_type": "code",
      "metadata": {
        "colab": {
          "base_uri": "https://localhost:8080/"
        },
        "id": "ddb_wFvHmFAp",
        "outputId": "d51972de-cf85-411e-a3d4-67cb722de99a"
      },
      "source": [
        "print(model_digits64.summary())"
      ],
      "execution_count": 11,
      "outputs": [
        {
          "output_type": "stream",
          "text": [
            "Model: \"sequential\"\n",
            "_________________________________________________________________\n",
            "Layer (type)                 Output Shape              Param #   \n",
            "=================================================================\n",
            "dense (Dense)                (None, 128)               100480    \n",
            "_________________________________________________________________\n",
            "dense_1 (Dense)              (None, 64)                8256      \n",
            "_________________________________________________________________\n",
            "dense_2 (Dense)              (None, 128)               8320      \n",
            "_________________________________________________________________\n",
            "dense_3 (Dense)              (None, 784)               101136    \n",
            "=================================================================\n",
            "Total params: 218,192\n",
            "Trainable params: 218,192\n",
            "Non-trainable params: 0\n",
            "_________________________________________________________________\n",
            "None\n"
          ],
          "name": "stdout"
        }
      ]
    },
    {
      "cell_type": "code",
      "metadata": {
        "colab": {
          "base_uri": "https://localhost:8080/"
        },
        "id": "NOvBltcMmckq",
        "outputId": "76665db2-5791-4d66-c850-17085a1f9b17"
      },
      "source": [
        "history64 = model_digits64.fit(x_train, x_train, \n",
        "                               validation_data=(x_test, x_test),\n",
        "                               epochs=20, batch_size=100, verbose=1)"
      ],
      "execution_count": 12,
      "outputs": [
        {
          "output_type": "stream",
          "text": [
            "Epoch 1/20\n",
            "600/600 [==============================] - 2s 3ms/step - loss: 183.7395 - val_loss: 0.0784\n",
            "Epoch 2/20\n",
            "600/600 [==============================] - 1s 2ms/step - loss: 0.0725 - val_loss: 0.0524\n",
            "Epoch 3/20\n",
            "600/600 [==============================] - 1s 2ms/step - loss: 0.0511 - val_loss: 0.0429\n",
            "Epoch 4/20\n",
            "600/600 [==============================] - 1s 2ms/step - loss: 0.0417 - val_loss: 0.0367\n",
            "Epoch 5/20\n",
            "600/600 [==============================] - 1s 2ms/step - loss: 0.0357 - val_loss: 0.0316\n",
            "Epoch 6/20\n",
            "600/600 [==============================] - 1s 2ms/step - loss: 0.0310 - val_loss: 0.0277\n",
            "Epoch 7/20\n",
            "600/600 [==============================] - 1s 2ms/step - loss: 0.0273 - val_loss: 0.0238\n",
            "Epoch 8/20\n",
            "600/600 [==============================] - 1s 2ms/step - loss: 0.0236 - val_loss: 0.0206\n",
            "Epoch 9/20\n",
            "600/600 [==============================] - 1s 2ms/step - loss: 0.0209 - val_loss: 0.0184\n",
            "Epoch 10/20\n",
            "600/600 [==============================] - 1s 2ms/step - loss: 0.0182 - val_loss: 0.0161\n",
            "Epoch 11/20\n",
            "600/600 [==============================] - 1s 2ms/step - loss: 0.0161 - val_loss: 0.0145\n",
            "Epoch 12/20\n",
            "600/600 [==============================] - 1s 2ms/step - loss: 0.0146 - val_loss: 0.0133\n",
            "Epoch 13/20\n",
            "600/600 [==============================] - 1s 2ms/step - loss: 0.0134 - val_loss: 0.0123\n",
            "Epoch 14/20\n",
            "600/600 [==============================] - 1s 2ms/step - loss: 0.0124 - val_loss: 0.0114\n",
            "Epoch 15/20\n",
            "600/600 [==============================] - 1s 2ms/step - loss: 0.0116 - val_loss: 0.0110\n",
            "Epoch 16/20\n",
            "600/600 [==============================] - 1s 2ms/step - loss: 0.0112 - val_loss: 0.0109\n",
            "Epoch 17/20\n",
            "600/600 [==============================] - 1s 2ms/step - loss: 546304086.1786 - val_loss: 2502660.5000\n",
            "Epoch 18/20\n",
            "600/600 [==============================] - 1s 2ms/step - loss: 1316603.0910 - val_loss: 272863.1562\n",
            "Epoch 19/20\n",
            "600/600 [==============================] - 1s 2ms/step - loss: 220302.1229 - val_loss: 114718.8125\n",
            "Epoch 20/20\n",
            "600/600 [==============================] - 1s 2ms/step - loss: 101264.2999 - val_loss: 64499.4180\n"
          ],
          "name": "stdout"
        }
      ]
    },
    {
      "cell_type": "code",
      "metadata": {
        "colab": {
          "base_uri": "https://localhost:8080/",
          "height": 307
        },
        "id": "X6MJptSPnle5",
        "outputId": "f958f626-6d55-4044-9a4b-353c5f7b5bc7"
      },
      "source": [
        "pl.plot(np.array(history64.history['loss']))\n",
        "pl.ylabel('loss')\n",
        "pl.xlabel('iteration')"
      ],
      "execution_count": 13,
      "outputs": [
        {
          "output_type": "execute_result",
          "data": {
            "text/plain": [
              "Text(0.5, 0, 'iteration')"
            ]
          },
          "metadata": {
            "tags": []
          },
          "execution_count": 13
        },
        {
          "output_type": "display_data",
          "data": {
            "image/png": "[encoded data removed]",
            "text/plain": [
              "<Figure size 432x288 with 1 Axes>"
            ]
          },
          "metadata": {
            "tags": [],
            "needs_background": "light"
          }
        }
      ]
    },
    {
      "cell_type": "code",
      "metadata": {
        "id": "SbOZgtyXqO6Y"
      },
      "source": [
        "output_image64 = model_digits64.predict(x_test)"
      ],
      "execution_count": 14,
      "outputs": []
    },
    {
      "cell_type": "code",
      "metadata": {
        "id": "O0KTVsVvqPq4"
      },
      "source": [
        "def compareinout(i, outim, testimg, initialshape=(28,28)):\n",
        "  fig = pl.figure(figsize(10,5))\n",
        "  ax = fig.add_subplot(121) \n",
        "  ax.imshow(testimg[i].reshape(initialshape) , cmap=\"bone\")\n",
        "  ax.get_xaxis().set_visible(False)\n",
        "  ax.get_yaxis().set_visible(False)\n",
        "  ax = fig.add_subplot(122) \n",
        "  ax.imshow(outim[i].reshape(initialshape) , cmap=\"bone\")\n",
        "  ax.get_xaxis().set_visible(False)\n",
        "  ax.get_yaxis().set_visible(False)"
      ],
      "execution_count": 15,
      "outputs": []
    },
    {
      "cell_type": "markdown",
      "metadata": {
        "id": "5s5-V1-Bk8-D"
      },
      "source": [
        "Comparo i risultati che ottengo ricostruendo l'immagine"
      ]
    },
    {
      "cell_type": "code",
      "metadata": {
        "id": "IfGerRMpqT9A",
        "colab": {
          "base_uri": "https://localhost:8080/",
          "height": 1000
        },
        "outputId": "008ecbf1-a1a6-4a2c-b863-6843e6e26c42"
      },
      "source": [
        "for i in range(10):\n",
        "  compareinout(i, output_image64, x_test)"
      ],
      "execution_count": 16,
      "outputs": [
        {
          "output_type": "display_data",
          "data": {
            "image/png": "[encoded data removed]",
            "text/plain": [
              "<Figure size 720x360 with 2 Axes>"
            ]
          },
          "metadata": {
            "tags": [],
            "needs_background": "light"
          }
        },
        {
          "output_type": "display_data",
          "data": {
            "image/png": "[encoded data removed]",
            "text/plain": [
              "<Figure size 720x360 with 2 Axes>"
            ]
          },
          "metadata": {
            "tags": [],
            "needs_background": "light"
          }
        },
        {
          "output_type": "display_data",
          "data": {
            "image/png": "[encoded data removed]",
            "text/plain": [
              "<Figure size 720x360 with 2 Axes>"
            ]
          },
          "metadata": {
            "tags": [],
            "needs_background": "light"
          }
        },
        {
          "output_type": "display_data",
          "data": {
            "image/png": "[encoded data removed]",
            "text/plain": [
              "<Figure size 720x360 with 2 Axes>"
            ]
          },
          "metadata": {
            "tags": [],
            "needs_background": "light"
          }
        },
        {
          "output_type": "display_data",
          "data": {
            "image/png": "[encoded data removed]",
            "text/plain": [
              "<Figure size 720x360 with 2 Axes>"
            ]
          },
          "metadata": {
            "tags": [],
            "needs_background": "light"
          }
        },
        {
          "output_type": "display_data",
          "data": {
            "image/png": "[encoded data removed]",
            "text/plain": [
              "<Figure size 720x360 with 2 Axes>"
            ]
          },
          "metadata": {
            "tags": [],
            "needs_background": "light"
          }
        },
        {
          "output_type": "display_data",
          "data": {
            "image/png": "[encoded data removed]",
            "text/plain": [
              "<Figure size 720x360 with 2 Axes>"
            ]
          },
          "metadata": {
            "tags": [],
            "needs_background": "light"
          }
        },
        {
          "output_type": "display_data",
          "data": {
            "image/png": "[encoded data removed]",
            "text/plain": [
              "<Figure size 720x360 with 2 Axes>"
            ]
          },
          "metadata": {
            "tags": [],
            "needs_background": "light"
          }
        },
        {
          "output_type": "display_data",
          "data": {
            "image/png": "[encoded data removed]",
            "text/plain": [
              "<Figure size 720x360 with 2 Axes>"
            ]
          },
          "metadata": {
            "tags": [],
            "needs_background": "light"
          }
        },
        {
          "output_type": "display_data",
          "data": {
            "image/png": "[encoded data removed]",
            "text/plain": [
              "<Figure size 720x360 with 2 Axes>"
            ]
          },
          "metadata": {
            "tags": [],
            "needs_background": "light"
          }
        }
      ]
    },
    {
      "cell_type": "markdown",
      "metadata": {
        "id": "pwvQwH3llEZ9"
      },
      "source": [
        "This is a rather bad result. Let me see if I can improve it . The images are too detailed. I can treat the problem as a binary problem to derice some detail. To approach a binary classifier I switch the activation function in the last layer to sigmoid. "
      ]
    },
    {
      "cell_type": "markdown",
      "metadata": {
        "id": "mBhjfqusnqZR"
      },
      "source": [
        "#change loss function"
      ]
    },
    {
      "cell_type": "code",
      "metadata": {
        "id": "X-oddK_ck4Yd"
      },
      "source": [
        "#choose the optimizer and loss appropriately!\n",
        "model_digits64_sig = Sequential()\n",
        "## encoder.....\n",
        "model_digits64.add(Dense(units= 128, activation='linear', input_shape=(784,)))\n",
        "  #compression layer\n",
        "model_digits64.add(Dense(units= 64, activation='linear'))\n",
        "## deencoder\n",
        "#decompression layer, same size as in the encoder\n",
        "model_digits64.add(Dense(units= 128, activation='linear'))\n",
        "#output layer, same size as input\n",
        "model_digits64.add(Dense(ndim, activation='sigmoid'))\n",
        "                             \n",
        "\n",
        "model_digits64_sig.compile(optimizer=\"adam\", loss='binary_crossentropy', )\n",
        "model_digits64_sig.compile(optimizer = keras.optimizers.Adam(lr=0.5), loss='binary_crossentropy')"
      ],
      "execution_count": 30,
      "outputs": []
    },
    {
      "cell_type": "code",
      "metadata": {
        "id": "F5pnLBszJE-R"
      },
      "source": [
        "#model_digits64_sig = Sequential()\n",
        "\n",
        "#model_digits64_sig.add(Dense(ndim, activation='sigmoid'))\n",
        "#model_digits64_sig.compile(optimizer=\"adadelta\", loss='binary_cross_entry')"
      ],
      "execution_count": 31,
      "outputs": []
    },
    {
      "cell_type": "code",
      "metadata": {
        "colab": {
          "base_uri": "https://localhost:8080/"
        },
        "id": "ZQD3bhEYljDq",
        "outputId": "ff6c2fdc-8926-439e-cae7-3462233189a8"
      },
      "source": [
        "history64_sig = model_digits64_sig.fit(x_train, x_train, \n",
        "                                       validation_data=(x_test, x_test), \n",
        "                                       epochs=20, batch_size=100, verbose=1)"
      ],
      "execution_count": 32,
      "outputs": [
        {
          "output_type": "stream",
          "text": [
            "Epoch 1/20\n",
            "600/600 [==============================] - 1s 2ms/step - loss: 0.0583 - val_loss: 0.0581\n",
            "Epoch 2/20\n",
            "600/600 [==============================] - 1s 2ms/step - loss: 0.0584 - val_loss: 0.0581\n",
            "Epoch 3/20\n",
            "600/600 [==============================] - 1s 2ms/step - loss: 0.0583 - val_loss: 0.0581\n",
            "Epoch 4/20\n",
            "600/600 [==============================] - 1s 2ms/step - loss: 0.0584 - val_loss: 0.0581\n",
            "Epoch 5/20\n",
            "600/600 [==============================] - 1s 2ms/step - loss: 0.0584 - val_loss: 0.0581\n",
            "Epoch 6/20\n",
            "600/600 [==============================] - 1s 2ms/step - loss: 0.0584 - val_loss: 0.0581\n",
            "Epoch 7/20\n",
            "600/600 [==============================] - 1s 2ms/step - loss: 0.0584 - val_loss: 0.0581\n",
            "Epoch 8/20\n",
            "600/600 [==============================] - 1s 2ms/step - loss: 0.0581 - val_loss: 0.0581\n",
            "Epoch 9/20\n",
            "600/600 [==============================] - 1s 2ms/step - loss: 0.0583 - val_loss: 0.0581\n",
            "Epoch 10/20\n",
            "600/600 [==============================] - 1s 2ms/step - loss: 0.0585 - val_loss: 0.0581\n",
            "Epoch 11/20\n",
            "600/600 [==============================] - 1s 2ms/step - loss: 0.0584 - val_loss: 0.0581\n",
            "Epoch 12/20\n",
            "600/600 [==============================] - 1s 2ms/step - loss: 0.0583 - val_loss: 0.0581\n",
            "Epoch 13/20\n",
            "600/600 [==============================] - 1s 2ms/step - loss: 0.0583 - val_loss: 0.0581\n",
            "Epoch 14/20\n",
            "600/600 [==============================] - 1s 2ms/step - loss: 0.0582 - val_loss: 0.0581\n",
            "Epoch 15/20\n",
            "600/600 [==============================] - 1s 2ms/step - loss: 0.0583 - val_loss: 0.0581\n",
            "Epoch 16/20\n",
            "600/600 [==============================] - 1s 2ms/step - loss: 0.0583 - val_loss: 0.0581\n",
            "Epoch 17/20\n",
            "600/600 [==============================] - 1s 2ms/step - loss: 0.0584 - val_loss: 0.0581\n",
            "Epoch 18/20\n",
            "600/600 [==============================] - 1s 2ms/step - loss: 0.0584 - val_loss: 0.0581\n",
            "Epoch 19/20\n",
            "600/600 [==============================] - 1s 2ms/step - loss: 0.0584 - val_loss: 0.0581\n",
            "Epoch 20/20\n",
            "600/600 [==============================] - 1s 2ms/step - loss: 0.0584 - val_loss: 0.0581\n"
          ],
          "name": "stdout"
        }
      ]
    },
    {
      "cell_type": "code",
      "metadata": {
        "colab": {
          "base_uri": "https://localhost:8080/",
          "height": 362
        },
        "id": "mlbL0uM8oaQJ",
        "outputId": "0739c50f-b410-454b-aa86-461e945423d4"
      },
      "source": [
        "pl.plot(np.array(history64_sig.history['loss']))\n",
        "pl.ylabel('loss')\n",
        "pl.xlabel('iteration')\n",
        "#pl.yscale('log')\n",
        "#pl.xscale('log')"
      ],
      "execution_count": 33,
      "outputs": [
        {
          "output_type": "execute_result",
          "data": {
            "text/plain": [
              "Text(0.5, 0, 'iteration')"
            ]
          },
          "metadata": {
            "tags": []
          },
          "execution_count": 33
        },
        {
          "output_type": "display_data",
          "data": {
            "image/png": "[encoded data removed]",
            "text/plain": [
              "<Figure size 720x360 with 1 Axes>"
            ]
          },
          "metadata": {
            "tags": [],
            "needs_background": "light"
          }
        }
      ]
    },
    {
      "cell_type": "code",
      "metadata": {
        "id": "eh5EAXq8J_lB"
      },
      "source": [
        ""
      ],
      "execution_count": null,
      "outputs": []
    }
  ]
}