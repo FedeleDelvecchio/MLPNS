{
  "nbformat": 4,
  "nbformat_minor": 0,
  "metadata": {
    "colab": {
      "name": "Lez6e7 25e30032021.ipynb",
      "provenance": [],
      "collapsed_sections": [
        "1OdX9Z0cbMgQ",
        "E7VnMv-Cusqq",
        "Z7GX35gOwVT7",
        "8ZK0hwcof6y2",
        "zdWibwQn0s1I"
      ],
      "authorship_tag": "ABX9TyN9h51+zSwb4yVQudEPy0xY",
      "include_colab_link": true
    },
    "kernelspec": {
      "name": "python3",
      "display_name": "Python 3"
    },
    "language_info": {
      "name": "python"
    }
  },
  "cells": [
    {
      "cell_type": "markdown",
      "metadata": {
        "id": "view-in-github",
        "colab_type": "text"
      },
      "source": [
        "<a href=\"https://colab.research.google.com/github/FedeleDelvecchio/MLPNS/blob/main/Class/Lez6e7_25e30032021.ipynb\" target=\"_parent\"><img src=\"https://colab.research.google.com/assets/colab-badge.svg\" alt=\"Open In Colab\"/></a>"
      ]
    },
    {
      "cell_type": "code",
      "metadata": {
        "id": "j9lmmEzSTjVI"
      },
      "source": [
        "#Facciamo un'analisi dei terremoti in california utilizzando un K-S test."
      ],
      "execution_count": null,
      "outputs": []
    },
    {
      "cell_type": "markdown",
      "metadata": {
        "id": "1OdX9Z0cbMgQ"
      },
      "source": [
        "Prima facciamo un po' di Bayesian statistic.\n",
        "\n",
        "The most direct application of Bayesian statistic is Markov Chain Monte-Carlo (MCMC): we do simulations and we try to asses the best value and his uncertanties and fit it to the data. Generally used in linear regressions.\n",
        "\n",
        "\n",
        "**The bayesian statistic is opposet to frequentist statistic.**\n",
        "\n",
        "**Bayesian interpretation of probabilty said that probability of somethings corresponds to the frequency at which somethind appne and less probable events happen at a lower frequency.**\n",
        "\n",
        "Scientific discovery process means that I have a low probability of a data having a specific range of value based on the knowledgre that I have.\n",
        "\n",
        "**Baeysian statistic includes something that frequentist interpretation doesn't have.**\n",
        "\n",
        "Baeysian statistic is more complicated. It's relate the probability of somthing to the belive that something is true.\n",
        "\n",
        "###**WE INTRODUCE THE CONCEPT OF BELIEVEBILITY, THAT WE DIDN'T HAVE IN FREQUENTIST STATISTIC**\n",
        "\n",
        "The key point is the we introdue the concept of BELIEVEBILIY of something. \n",
        "\n",
        "**We can say things like \"i have 2 model that explain the data the same way, by the frequentist point of view. But i'm gonna choose the model that is most plausible. And we believe that the simpler model is the more plausible (concept of parsimony), even if they dave me the same result in a frequentisti point of view.** \n",
        "\n",
        "The frequentist model doesn't say wether the model is insane, for example."
      ]
    },
    {
      "cell_type": "markdown",
      "metadata": {
        "id": "E7VnMv-Cusqq"
      },
      "source": [
        "Mathematically we say:\n",
        "\n",
        "P(Model|Data) = (P(Model) P(Data|Model))/(P(Data))\n",
        "\n",
        "\n",
        "P(Data) is the Evidence. It is the intrinsic probability of the data.\n",
        "\n",
        "**We neve had the evidence for baesyan statistic.**\n",
        "\n",
        "**This doesn't matter beacuse if we compare two model we can always simplify this \n",
        "P(Data) (which is the same for the two model, because P(Data) comes from data) at the denominator and so it doesn't matter.**\n",
        "**In fact we are searching only fot the max of the P(theta|Data), so the multiplication constatn P(Data) doesn't matter.**\n",
        "\n",
        "\n",
        "pivotal quantity:\n",
        "\n",
        "P(pivotal quantity|NH) circa = P(NH|Data)\n",
        "\n",
        "\n",
        "###BAYES THEOREM\n",
        "\n",
        "P(theta|D) = (P(Data|theta) P(theta))/(P(Data))"
      ]
    },
    {
      "cell_type": "markdown",
      "metadata": {
        "id": "Z7GX35gOwVT7"
      },
      "source": [
        "###Say for example that my model is a line:\n",
        "\n",
        "so I have y=ax+b\n",
        "\n",
        "What are the best value for my parameter a (slope) and b (intercept)?\n",
        "\n",
        "**The best value are the value that maximize the posterior distribution P(theta|D)**,\n",
        "where theta are the parameter.\n",
        "\n",
        "In the formula:\n",
        "- P(theta|D) is the POSTERIOIR DISTRIBUTION\n",
        "- While P(theta) is the PRIOR\n",
        "- P(D|theta) LIKELIHOOD**"
      ]
    },
    {
      "cell_type": "markdown",
      "metadata": {
        "id": "auHnglUewUV7"
      },
      "source": [
        "The prioir is usefull because: we can constrain model that are unphysical. So we have to remove from the parameter space the unphysical parameter. (e.g. no negative number of the photon is positive, so I remove from parameter space any parameter that lead me to a negative number of photon ) --> PRIOR: CONSTRAIN ON THE MODEL.\n",
        "\n",
        "\n",
        "**A lot of time we talk about non informative priors because we might not know if the parameter space was reasonable or not. Non-informative means flat prior, but if I change coordinate system they became inforative! Don't be fool that exist non-infomrative prior (https://stats.stackexchange.com/questions/20520/what-is-an-uninformative-prior-can-we-ever-have-one-with-truly-no-information/20535#20535).**\n",
        "\n",
        "**What I can do is that if I know that some number are unreasonable I can make costraint. e.g. if I am studing people weight I can remove weight over 1000kg. But be carefull doing this!**\n",
        "\n",
        "\n",
        "Using the prior make the analysis faster, that's the really why we use, to don't waste time on parameter space and make result converge.\n",
        "\n",
        "\n",
        "Any set of the data will have the same denominator beacuse of P(D) on Bayes Theorem."
      ]
    },
    {
      "cell_type": "markdown",
      "metadata": {
        "id": "8ZK0hwcof6y2"
      },
      "source": [
        "\n",
        "###How to decide which test is right?\n",
        "I have to ask me what is the thing that I am gonna measure, based on the question tha tI have and the natura of the data (numerical or categorical. I am gonna measure a pivotal quantities. Under the assumption specific to the test for the NH, that pivotal qunatities has a specific distribution. So I have exectation values for ehat I measure under the NH, i.e. if the NH is true.\n",
        "\n",
        "The tets relates to the question directly. \n",
        "So we have axpectation value for pivotal quantities.\n",
        "\n",
        "**Z test can only be applied only if what I want to know is wether a sample has the same mean of a populaiton. Doesn't tell me wether\n",
        "It just tells me, based on the properties of the sample: I cannot tell you that the central tendencie of the sample is different than  the central tendencies of the population that I have propose to the sample come from.**\n",
        "It doesn't tell me wether the sample has the same st dev of the population, for example.\n",
        "\n",
        "###**Z-TEST IS VERY TRANSPARENT SO WE STUDY IT: I HAVE SOME POPULATION THAT HAS SOME PROPERTIES. IF I WERE TO DO PULL OUT INDIVIDUAL DATA, THEN I WILL FIND THAT FOR EVERY SAMPLE I MEASURE THE MEAN, AND IF I PUT TOGETHER ALL THOSE MEAN I END UP WITH GAUSSIAN DISTRIBUTION, THAT IS MEAN = 0 AND SIGMA=1.**\n",
        "So, I compare the number I get, with what I should get if the NH was true, that the sample comes from that population. \n",
        "\n",
        "The Z-test is helpfull beacuse it gives a number directly related to the p-value. \n",
        "If I get Z=3, in terms of sigma, I'm a 3 std dev (sigma) from the mean. \n",
        "If I get z=2, and I chosen p=0.05 I am exatly at that threshold.\n",
        "\n",
        "##**Unlike Z-test, all the other test gives parameter distributed not with a standard normal distribution.**\n",
        "\n",
        "**t-test**: measure the mean of the two sample. and say wether the two sample comes from the same distribution. The distribution that the two sample ends of being is similar to a gaussian distribution (i.e. symmetric), but the detail are differnt.\n",
        "\n",
        "This test doesn't tells me how many sigma I landed. It tells me a number with a probability.\n",
        "\n",
        "What is the p-value if I get t=2, for example?\n",
        "\n",
        "I'am looking at a cumulative distribution and see where am I in cumulative space. \n",
        "\n",
        "With scip.y package we can compute this value.\n",
        "\n",
        "To interpret the outcome of a t-test I have to figure out the probaiblity ofa  given p. I hate the table to help me. \n",
        "They tells me what is the number that the X value of the plot of distribution will take, to decide if I can reject the NH (if I get more than the value in the table I can reject the NH. Otherwise if I get less, I cannot reject the NH)\n",
        "\n",
        "\n",
        "**K-S TEST**\n",
        "\n",
        "it measure the MAXIMUM distance in the cumulative space from theoretical cumulative distribution. \n",
        "He can compare with anoother distribution, or with a theoretical cumulative porbab. distribution."
      ]
    },
    {
      "cell_type": "code",
      "metadata": {
        "id": "g9jsqKDziYLE"
      },
      "source": [
        "import scipy as sp\n",
        "from scipy import stats \n",
        "#scipy.stats contains a large number of probability distributions as well as \n",
        "#a growing library of statistical functions.\n",
        "import matplotlib.pyplot as pl"
      ],
      "execution_count": null,
      "outputs": []
    },
    {
      "cell_type": "code",
      "metadata": {
        "colab": {
          "base_uri": "https://localhost:8080/"
        },
        "id": "86OVJPj2ictj",
        "outputId": "b876dd11-9714-4968-c7ac-2fc2d90fdaa3"
      },
      "source": [
        "#gnerate random number from normal distribution:\n",
        "sp.stats.norm.rvs(size=100)"
      ],
      "execution_count": null,
      "outputs": [
        {
          "output_type": "execute_result",
          "data": {
            "text/plain": [
              "array([ 0.27444348, -0.80479107,  0.46967884, -0.63598357,  2.11015982,\n",
              "       -0.44047511,  0.15465743, -0.25608766, -0.04413989,  0.68236658,\n",
              "        0.60744557, -0.27013784,  0.14515876,  0.580676  , -1.42701561,\n",
              "        0.32722428,  0.70885872, -1.68767205,  1.16141   ,  0.54413913,\n",
              "       -0.21564545,  0.51031671, -1.48918747, -0.3068044 , -0.95269744,\n",
              "       -1.49504414,  0.53426603, -0.25341279,  0.49637408,  1.50315712,\n",
              "       -0.22825233,  0.24920569,  1.0103655 , -1.12582861, -0.22321202,\n",
              "       -1.3474369 ,  0.23623262, -0.73318368,  0.86932755, -1.89835853,\n",
              "        0.95283653,  0.37347769,  0.36906596, -0.02303241, -0.49703252,\n",
              "       -0.30053396, -1.08779795,  1.82698952, -0.80908237,  1.10854972,\n",
              "       -0.76710194, -1.55068068,  1.14771621,  0.73972099,  2.08880421,\n",
              "       -0.9377909 , -0.46104727,  0.60224521, -0.60946905, -0.5444559 ,\n",
              "       -0.80820403, -0.35812413, -1.0996661 ,  0.07838594,  0.80953691,\n",
              "        0.17791651,  0.96577717, -0.42777776,  0.37145565,  0.59109406,\n",
              "        2.09162378, -0.18869755,  1.46581088,  0.15518311, -0.81403786,\n",
              "        0.19058572, -1.41016704,  1.44849506,  0.57053681,  0.75234614,\n",
              "        0.87110904,  0.49038073, -0.02531761, -0.36864167,  0.33104466,\n",
              "       -0.29030684,  0.15998347, -0.61999374, -1.40931215,  0.13698047,\n",
              "       -2.28320039,  0.29962121,  0.2578519 , -0.18135118, -0.64254135,\n",
              "        0.49289359,  0.03636927, -1.49753455,  0.48505421, -0.94531913])"
            ]
          },
          "metadata": {
            "tags": []
          },
          "execution_count": 3
        }
      ]
    },
    {
      "cell_type": "markdown",
      "metadata": {
        "id": "0w5GwS9BGJqQ"
      },
      "source": [
        "This is my fake distribution, then I will use scipy K-S test."
      ]
    },
    {
      "cell_type": "markdown",
      "metadata": {
        "id": "kpvNxyNXHVST"
      },
      "source": [
        "Now use the scipy KS test:\n",
        "\n",
        "1. \"sp.stats.kstest\" compares a distribution (in this case is my fake distribution) with a theoretical distribution, so he can tells me if a sample is normally distributed.\n",
        "2. Instead, \"sp.stats.ks_2samp\" compares 2 sample.\n",
        "\n",
        "So for example my call shold be something like:\n",
        "\n",
        "stats.kstest(sample, distr. to compare).\n",
        "e.g. \"stats.kstest(x, 'norm')\"."
      ]
    },
    {
      "cell_type": "code",
      "metadata": {
        "id": "aehRSYu1ioMb"
      },
      "source": [
        "sp.stats.kstest?"
      ],
      "execution_count": null,
      "outputs": []
    },
    {
      "cell_type": "markdown",
      "metadata": {
        "id": "5CKjLQF2IZ4R"
      },
      "source": [
        "#EXERCISE\n",
        "\n",
        "- generate N values from a distribution (normal fist then another one) \n",
        "\n",
        "- Use the scipy.stats.kstest() to test if the sample is normal or not."
      ]
    },
    {
      "cell_type": "markdown",
      "metadata": {
        "id": "Yh6Oz17LxIQQ"
      },
      "source": [
        "Genero il campione di size=150. Ovvero genero N=150 valori dalla disrtribuzione."
      ]
    },
    {
      "cell_type": "code",
      "metadata": {
        "colab": {
          "base_uri": "https://localhost:8080/"
        },
        "id": "TZqxWC6hwobr",
        "outputId": "50f87d29-1c98-4dea-cdc9-029b38ef7a5a"
      },
      "source": [
        "data1 = sp.stats.norm.rvs(size=150)\n",
        "data1.size"
      ],
      "execution_count": null,
      "outputs": [
        {
          "output_type": "execute_result",
          "data": {
            "text/plain": [
              "150"
            ]
          },
          "metadata": {
            "tags": []
          },
          "execution_count": 5
        }
      ]
    },
    {
      "cell_type": "markdown",
      "metadata": {
        "id": "of5V2tPQxUdw"
      },
      "source": [
        "Uso K-S test per vedere se è standard normal o no."
      ]
    },
    {
      "cell_type": "code",
      "metadata": {
        "colab": {
          "base_uri": "https://localhost:8080/"
        },
        "id": "fQqNF2kDxYnF",
        "outputId": "37d8bc27-4cc9-47d9-9df1-87b62b0bb939"
      },
      "source": [
        "sp.stats.kstest(data1, \"norm\")"
      ],
      "execution_count": null,
      "outputs": [
        {
          "output_type": "execute_result",
          "data": {
            "text/plain": [
              "KstestResult(statistic=0.0754718089264802, pvalue=0.34450543844784215)"
            ]
          },
          "metadata": {
            "tags": []
          },
          "execution_count": 6
        }
      ]
    },
    {
      "cell_type": "markdown",
      "metadata": {
        "id": "UrgyPi1kxsru"
      },
      "source": [
        "Adesso utilizzo un'altra distribuzione e genero N=150 valori dalla distribuzione t."
      ]
    },
    {
      "cell_type": "code",
      "metadata": {
        "id": "_M0g8qzZl5tk",
        "colab": {
          "base_uri": "https://localhost:8080/"
        },
        "outputId": "51f31014-015b-4719-fd4e-652e13612ed4"
      },
      "source": [
        "data2 = sp.stats.t.rvs(100, size=150)\n",
        "data2.size"
      ],
      "execution_count": null,
      "outputs": [
        {
          "output_type": "execute_result",
          "data": {
            "text/plain": [
              "150"
            ]
          },
          "metadata": {
            "tags": []
          },
          "execution_count": 7
        }
      ]
    },
    {
      "cell_type": "code",
      "metadata": {
        "colab": {
          "base_uri": "https://localhost:8080/"
        },
        "id": "WKEEV1GCx42x",
        "outputId": "5550585a-56d7-4baa-c62c-2ddb0f212e7c"
      },
      "source": [
        "sp.stats.kstest(data2, \"norm\")"
      ],
      "execution_count": null,
      "outputs": [
        {
          "output_type": "execute_result",
          "data": {
            "text/plain": [
              "KstestResult(statistic=0.060321251108819196, pvalue=0.6453644628529532)"
            ]
          },
          "metadata": {
            "tags": []
          },
          "execution_count": 8
        }
      ]
    },
    {
      "cell_type": "markdown",
      "metadata": {
        "id": "LK39sgA-1dpm"
      },
      "source": [
        "Adesso utilizzo un'altra distribuzione e genero N=150 valori dalla binomiale."
      ]
    },
    {
      "cell_type": "code",
      "metadata": {
        "colab": {
          "base_uri": "https://localhost:8080/"
        },
        "id": "IlLGb_zH01Cy",
        "outputId": "a7183e67-6037-4461-9239-b9e46eef3361"
      },
      "source": [
        "data3 = sp.stats.binom.rvs(n=3, p=0.15, size=3)\n",
        "sp.stats.kstest(data3, \"norm\")"
      ],
      "execution_count": null,
      "outputs": [
        {
          "output_type": "execute_result",
          "data": {
            "text/plain": [
              "KstestResult(statistic=0.5, pvalue=0.3333333333333333)"
            ]
          },
          "metadata": {
            "tags": []
          },
          "execution_count": 9
        }
      ]
    },
    {
      "cell_type": "code",
      "metadata": {
        "id": "XlwqO6McTUdA"
      },
      "source": [
        "sp.stats.kstest?"
      ],
      "execution_count": null,
      "outputs": []
    },
    {
      "cell_type": "markdown",
      "metadata": {
        "id": "xebYnNIC1jD_"
      },
      "source": [
        "**Quest'ultimo infatti era un caso molto particolare infatti se prendo una binomiale con una media motlo alta, il ks-test non riesce a distinguere se è diversa con la normal distribution. Questo succede perchè quando la media è alta, la distribuzione binomiale somiglia molto ad una normal distribution (QUINDI OTTERRÒ UN p-value=0). Se invece scelgo una binomial con una media bassa, questa sarà asimmetrica e quindi il ks-test riesce a distinguere che effettivamente sono distribuzioni diverse.**"
      ]
    },
    {
      "cell_type": "markdown",
      "metadata": {
        "id": "zdWibwQn0s1I"
      },
      "source": [
        "###CORREZIONE ESERCIZIO"
      ]
    },
    {
      "cell_type": "code",
      "metadata": {
        "colab": {
          "base_uri": "https://localhost:8080/"
        },
        "id": "60Y2lXgtirtv",
        "outputId": "480d1aa8-2675-4dd9-bb4f-d0566256bbe3"
      },
      "source": [
        "sample = sp.stats.norm.rvs(size = 100) #this produce a bunch of sample\n",
        "sp.stats.kstest(sample, \"norm\") #i am comparing my data with a normal distribution"
      ],
      "execution_count": null,
      "outputs": [
        {
          "output_type": "execute_result",
          "data": {
            "text/plain": [
              "KstestResult(statistic=0.06409974415791753, pvalue=0.8058121873474593)"
            ]
          },
          "metadata": {
            "tags": []
          },
          "execution_count": 11
        }
      ]
    },
    {
      "cell_type": "markdown",
      "metadata": {
        "id": "ndWvUVOHOvZH"
      },
      "source": [
        "We said 0.05 as a confidence threshold, so my p-value limit is 95%.\n",
        "\n",
        "Am I be able to reject the NH?\n",
        "\n",
        "**If I get pvalue = 0.85 and I have I threshold of 0.05 (95%) we are not be able to reject the null hypotesis. Because I want the p-value to be smaller then my threshold.**\n",
        "\n",
        "Infact a smaller p-value represent a more unlikely drow out of my ditributon (i.e. a more unlikely result).\n",
        "\n",
        "The NH was that the sample cames from the parent distirbution.\n",
        "\n",
        "**I cannot be able to reject the fact that this data set (manifestly drawn from a standard normal distribution) was drown from a standard normal distribution.**\n",
        "\n",
        "In altre parole dico che la probabilità che il sample viene dalla standard normal è molto alta (0.85, cioè non posso rigettare il fatto che vengono dalla stessa distribuzione (NH). Per rigettare devo avere una p-value minore di 0.05 che è la mia threshold. Ovvero c'è una probabilitòìà molto bassa che vengono dalla stessa distribuzione, quindi è talmente bassa che rigetto la NH e quindi dico che non vengono dalla stessa distribuzione."
      ]
    },
    {
      "cell_type": "code",
      "metadata": {
        "colab": {
          "base_uri": "https://localhost:8080/",
          "height": 352
        },
        "id": "7wK6K2qAndUt",
        "outputId": "8ed997b7-56c3-44e2-901a-86c8c3a7384d"
      },
      "source": [
        "pl.hist(data1)"
      ],
      "execution_count": null,
      "outputs": [
        {
          "output_type": "execute_result",
          "data": {
            "text/plain": [
              "(array([ 3.,  1., 16., 29., 25., 30., 25., 13.,  4.,  4.]),\n",
              " array([-2.83584574, -2.28827275, -1.74069975, -1.19312675, -0.64555376,\n",
              "        -0.09798076,  0.44959223,  0.99716523,  1.54473823,  2.09231122,\n",
              "         2.63988422]),\n",
              " <a list of 10 Patch objects>)"
            ]
          },
          "metadata": {
            "tags": []
          },
          "execution_count": 12
        },
        {
          "output_type": "display_data",
          "data": {
            "image/png": "[encoded data removed]",
            "text/plain": [
              "<Figure size 432x288 with 1 Axes>"
            ]
          },
          "metadata": {
            "tags": [],
            "needs_background": "light"
          }
        }
      ]
    },
    {
      "cell_type": "markdown",
      "metadata": {
        "id": "CZrs9FQobs2j"
      },
      "source": [
        "###FAIR COIN: p=0.5\n",
        "\n",
        "###VEGAS COIN: p diverso da 0.5\n",
        "\n",
        "n,p is the distribution from which I sample, and I sample size=100 times, for example."
      ]
    },
    {
      "cell_type": "code",
      "metadata": {
        "id": "s2Mmeu-4o3Yd"
      },
      "source": [
        "data1  = (sp.stats.binom.rvs(n=10, p=0.5 , size = 100))\n",
        "data2 = (sp.stats.norm.rvs(loc = 500, scale = 100*0.5*0.5, size = 100))"
      ],
      "execution_count": null,
      "outputs": []
    },
    {
      "cell_type": "code",
      "metadata": {
        "colab": {
          "base_uri": "https://localhost:8080/"
        },
        "id": "fDhAdYc3pen8",
        "outputId": "3c276d9a-3832-474c-fa0f-868ab2272719"
      },
      "source": [
        "sp.stats.kstest(data1, 'norm')"
      ],
      "execution_count": null,
      "outputs": [
        {
          "output_type": "execute_result",
          "data": {
            "text/plain": [
              "KstestResult(statistic=0.9572498680518208, pvalue=2.481852405019357e-137)"
            ]
          },
          "metadata": {
            "tags": []
          },
          "execution_count": 14
        }
      ]
    },
    {
      "cell_type": "markdown",
      "metadata": {
        "id": "NyAz3Fh6qRW8"
      },
      "source": [
        "I rejected the null hypotesis, cause p is very small than my threshold."
      ]
    },
    {
      "cell_type": "markdown",
      "metadata": {
        "id": "49164bgni77-"
      },
      "source": [
        "If the mean of the binomial is very large I should be unable to tell that those 2 distribution are different."
      ]
    },
    {
      "cell_type": "code",
      "metadata": {
        "id": "YRbWXZzSjII7"
      },
      "source": [
        "data5 = (sp.stats.binom.rvs(n=1000, p=0.5 , size = 100))"
      ],
      "execution_count": null,
      "outputs": []
    },
    {
      "cell_type": "code",
      "metadata": {
        "colab": {
          "base_uri": "https://localhost:8080/",
          "height": 334
        },
        "id": "-wNwy8AOjSXG",
        "outputId": "5575d353-c394-4e79-de70-5b524cea57a8"
      },
      "source": [
        "pl.hist(data5)"
      ],
      "execution_count": null,
      "outputs": [
        {
          "output_type": "execute_result",
          "data": {
            "text/plain": [
              "(array([ 2.,  3.,  4., 16., 17., 21., 11., 15.,  7.,  4.]),\n",
              " array([453. , 461.4, 469.8, 478.2, 486.6, 495. , 503.4, 511.8, 520.2,\n",
              "        528.6, 537. ]),\n",
              " <a list of 10 Patch objects>)"
            ]
          },
          "metadata": {
            "tags": []
          },
          "execution_count": 16
        },
        {
          "output_type": "display_data",
          "data": {
            "image/png": "[encoded data removed]",
            "text/plain": [
              "<Figure size 432x288 with 1 Axes>"
            ]
          },
          "metadata": {
            "tags": [],
            "needs_background": "light"
          }
        }
      ]
    },
    {
      "cell_type": "code",
      "metadata": {
        "colab": {
          "base_uri": "https://localhost:8080/"
        },
        "id": "lzeow-WGjU4e",
        "outputId": "5780443f-5bd1-465a-dc69-9ab13d7f6858"
      },
      "source": [
        "sp.stats.kstest(data5, 'norm')"
      ],
      "execution_count": null,
      "outputs": [
        {
          "output_type": "execute_result",
          "data": {
            "text/plain": [
              "KstestResult(statistic=1.0, pvalue=0.0)"
            ]
          },
          "metadata": {
            "tags": []
          },
          "execution_count": 17
        }
      ]
    },
    {
      "cell_type": "markdown",
      "metadata": {
        "id": "X6LX8DfwjjQV"
      },
      "source": [
        "Adesso, siccome la media è grande, la binomiale è simile alla standard normal, quindi dovrei ottenere un p value alto per confermare la NH che le due distrubuzioni sono sostanzialmente le stesse. Però ottengo un p value che è zero. Vediamo perché.\n",
        "\n",
        "**Il motivo è che non abbiamo normalizzato la binomiale, dal momento che dobbiamo compararla con la standard normal che ha mean=0 and std=1.** Allora normalizziamo la binomiale:"
      ]
    },
    {
      "cell_type": "code",
      "metadata": {
        "id": "IPxxrYUJkIBI"
      },
      "source": [
        "data_std= (data5 - data5.mean()) / data5.std()"
      ],
      "execution_count": null,
      "outputs": []
    },
    {
      "cell_type": "code",
      "metadata": {
        "colab": {
          "base_uri": "https://localhost:8080/",
          "height": 334
        },
        "id": "ildtlevdkemp",
        "outputId": "d5bab1c0-f7e0-448f-9137-e025bd114def"
      },
      "source": [
        "pl.hist(data5)"
      ],
      "execution_count": null,
      "outputs": [
        {
          "output_type": "execute_result",
          "data": {
            "text/plain": [
              "(array([ 2.,  3.,  4., 16., 17., 21., 11., 15.,  7.,  4.]),\n",
              " array([453. , 461.4, 469.8, 478.2, 486.6, 495. , 503.4, 511.8, 520.2,\n",
              "        528.6, 537. ]),\n",
              " <a list of 10 Patch objects>)"
            ]
          },
          "metadata": {
            "tags": []
          },
          "execution_count": 19
        },
        {
          "output_type": "display_data",
          "data": {
            "image/png": "[encoded data removed]",
            "text/plain": [
              "<Figure size 432x288 with 1 Axes>"
            ]
          },
          "metadata": {
            "tags": [],
            "needs_background": "light"
          }
        }
      ]
    },
    {
      "cell_type": "code",
      "metadata": {
        "colab": {
          "base_uri": "https://localhost:8080/"
        },
        "id": "wp-IWOjbkhJ6",
        "outputId": "2bf3129f-5c38-498f-f2d1-4617deccb9d3"
      },
      "source": [
        "sp.stats.kstest(data_std, 'norm')"
      ],
      "execution_count": null,
      "outputs": [
        {
          "output_type": "execute_result",
          "data": {
            "text/plain": [
              "KstestResult(statistic=0.04261220252184328, pvalue=0.993410555110792)"
            ]
          },
          "metadata": {
            "tags": []
          },
          "execution_count": 20
        }
      ]
    },
    {
      "cell_type": "markdown",
      "metadata": {
        "id": "LUsD2VZ9kt11"
      },
      "source": [
        "**So I assessed that the sape are the same!**"
      ]
    },
    {
      "cell_type": "code",
      "metadata": {
        "id": "13gAtDhXlDAB"
      },
      "source": [
        "data1  = (sp.stats.binom.rvs(n=1000, p=0.5 , size = 100))\n",
        "data2 = (sp.stats.norm.rvs(loc = 500, scale = 100*0.5*0.5, size = 100))"
      ],
      "execution_count": null,
      "outputs": []
    },
    {
      "cell_type": "code",
      "metadata": {
        "colab": {
          "base_uri": "https://localhost:8080/"
        },
        "id": "C4Vi-ON-lQTl",
        "outputId": "de965591-c0e7-4a14-a656-fa430f7d342d"
      },
      "source": [
        "sp.stats.ks_2samp(data1, data2)"
      ],
      "execution_count": null,
      "outputs": [
        {
          "output_type": "execute_result",
          "data": {
            "text/plain": [
              "Ks_2sampResult(statistic=0.13, pvalue=0.36818778606286096)"
            ]
          },
          "metadata": {
            "tags": []
          },
          "execution_count": 22
        }
      ]
    },
    {
      "cell_type": "markdown",
      "metadata": {
        "id": "hWkPPrEYlxi1"
      },
      "source": [
        "**I get p value of 0.2 so mi ks test is unable to tell the difference. This result is less significant than the result of \"sp.stats.kstest(data_std, 'norm')\" because now I have two distributoin and the 2 distribution are noisy, and ks test are less confident because of the noise in the distribution.. So i get a less significant p value.**\n"
      ]
    },
    {
      "cell_type": "markdown",
      "metadata": {
        "id": "ZZKZBaDabRok"
      },
      "source": [
        "##Chisquare test\n",
        "##Pearson's chi^2 test\n",
        "\n",
        "It takes the whole distrubtion, so I create a model. At every point, my model produce an outcome and I sqaured the difference and take the square. Then sum over all. But the important thing is that I divide by the uncertainties (this can be of the model, of the data, ..).\n",
        "\n",
        "For this reason is so used. \n",
        "\n",
        "The quanties I calculate turns out it is chisq distirbuted under the NH. The NH is that the model is a correct description of the generatve prcess that gives me the data (i.e. the sample comes from that population).\n",
        "\n",
        "\n",
        "**Chi^2 paramter is chi-square distributed. But distribution have parameter. And the chi^2 that we calculate is distributed as a chisq distributio that as a number of df=n-1**. Actyually is:\n",
        "\n",
        " fd = (number of observation that i has - number of parameters in my model). \n",
        "\n",
        "The value that I exect when I run a chi^2 test, should be equal of the numberof df.\n",
        "Since number of df is = to mean, we want thet the chisq parametr to be equal to the df. Often we divide the chi^2 by (n-1) so we say that my model is good if the chi^2 is equal to 1 (df=1).\n",
        "\n",
        "**For example looking at the table:\n",
        "with df=1, 3.84 is my threshold for rejection the NH when I have a threshold at 0.05. So if at p = 0.05 my chisq test gives me a value more than 3.84, then I reject the NH that the model was a good description of the data.**"
      ]
    },
    {
      "cell_type": "markdown",
      "metadata": {
        "id": "9-UEIjEMroqF"
      },
      "source": [
        "# **SCALING LAWS**\n",
        "\n",
        "Concept opposed to statistic or data science concept.\n",
        "\n",
        "Important for interpetrability of phenomena. If there are scaling law we understand that there is a relationship and so we investigate further.\n",
        "\n",
        "I measure two quantties, amd these qantites are related by a power law funtion.\n",
        "\n",
        "An example of scaling law is the side of a square, that is related to the volume of the cube with power of 3.\n",
        "\n",
        "**If there is a scaling law there is a underlying driving machanism that lead to that relationship.**\n",
        "\n",
        "Se metto i dati in un log-log plot e trovo una retta, allora tra i dati c'è una power law relationship. E lo slope di quella retta è la potenza della scaling law. --> the changing in variable are related by something in common (e.g. gravity for rotational velocity of galaxy)\n",
        "\n",
        "Other examples: in the plot of metabolic rate vs the weight in a log-log space the scaling law goes as \"Mass^(3/4)\": means that an lephant need (in proportion) a less food than a mouse to survive, because 3/4 is less than 1. "
      ]
    },
    {
      "cell_type": "markdown",
      "metadata": {
        "id": "s4B8fZ7Jss55"
      },
      "source": [
        "###**EXERCISE**\n",
        "\n",
        "Link to teacher's GitHub repo: https://github.com/fedhere/MLPNS2021/tree/main/NHRT\n",
        "\n"
      ]
    },
    {
      "cell_type": "markdown",
      "metadata": {
        "id": "yFaEUlOD1MCF"
      },
      "source": [
        "Paper (https://arxiv.org/pdf/0910.0055.pdf) with a statistical test for scaling in the inter-event time for earthquake in california. He measure wether the time between eartquakes scales with the magnitude with the eartquakes.\n",
        "\n",
        "He measured a dimensionless quantity that relate the time passed between eq and the magnitude of eq. He build a cumulative distribution for this uantities and he did cutting out of the sample (broadcasting the array) and select eq only larger than same value. He showed taht the cumulative dist of P(eq) and this dimenisonless qunatities are related with scaling laws. HE USED THE KS-TEST. "
      ]
    },
    {
      "cell_type": "markdown",
      "metadata": {
        "id": "L0BCLdIn2NQJ"
      },
      "source": [
        "Noi dovremmo riprodurre l'analisi nel paper al link."
      ]
    },
    {
      "cell_type": "code",
      "metadata": {
        "colab": {
          "base_uri": "https://localhost:8080/"
        },
        "id": "yxB_qDfyxJ9S",
        "outputId": "6d220a25-b9fd-49e6-c684-560a07c03a68"
      },
      "source": [
        "from __future__ import print_function, division\n",
        "import numpy as np\n",
        "import pandas as pd\n",
        "import pylab as pl\n",
        "import scipy as sp\n",
        "from scipy import stats\n",
        "%pylab inline\n",
        "pl.style.use(\"https://raw.githubusercontent.com/fedhere/DSPS/master/fbb.mplstyle\")"
      ],
      "execution_count": null,
      "outputs": [
        {
          "output_type": "stream",
          "text": [
            "Populating the interactive namespace from numpy and matplotlib\n"
          ],
          "name": "stdout"
        },
        {
          "output_type": "stream",
          "text": [
            "/usr/local/lib/python3.7/dist-packages/IPython/core/magics/pylab.py:161: UserWarning: pylab import has clobbered these variables: ['sample']\n",
            "`%matplotlib` prevents importing * from pylab and numpy\n",
            "  \"\\n`%matplotlib` prevents importing * from pylab and numpy\"\n"
          ],
          "name": "stderr"
        }
      ]
    },
    {
      "cell_type": "markdown",
      "metadata": {
        "id": "sRi9-KlAxLUv"
      },
      "source": [
        "Remind yourself exactly what the K-S test is about :\n",
        "\n",
        "1 What is the test's Null Hypothsis that the K-S test tests? \n",
        "\n",
        "NH: \"do two samples come from the same parent distribution?\"\n",
        "\n",
        "2 What is the \"statistic\" or \"pivotal quantity\" that the test uses? \n",
        "\n",
        "It is the maximum distance between the cumulative distribution of the sample/distribution passed)\n",
        "\n",
        "3 What does the probability distribution of this statistic depend on? "
      ]
    },
    {
      "cell_type": "code",
      "metadata": {
        "id": "-EkDu6NtxRb_"
      },
      "source": [
        "eqdata = pd.read_csv('https://raw.githubusercontent.com/fedhere/MLPNS2021/main/NHRT'+\n",
        "                 '/earthquakes.csv', sep =\" \")"
      ],
      "execution_count": null,
      "outputs": []
    },
    {
      "cell_type": "markdown",
      "metadata": {
        "id": "6_OhHuD30ovY"
      },
      "source": [
        "**Posso ingestire dati skippando colonne o righe, ad es. usando \"skiprows\"...(Guarda l'help di \"pd.read_csv\")**"
      ]
    },
    {
      "cell_type": "code",
      "metadata": {
        "colab": {
          "base_uri": "https://localhost:8080/",
          "height": 243
        },
        "id": "ldGgxvdbxkUh",
        "outputId": "0f70c84a-1ea2-4250-d275-9f408a199592"
      },
      "source": [
        "eqdata.head()"
      ],
      "execution_count": null,
      "outputs": [
        {
          "output_type": "execute_result",
          "data": {
            "text/html": [
              "<div>\n",
              "<style scoped>\n",
              "    .dataframe tbody tr th:only-of-type {\n",
              "        vertical-align: middle;\n",
              "    }\n",
              "\n",
              "    .dataframe tbody tr th {\n",
              "        vertical-align: top;\n",
              "    }\n",
              "\n",
              "    .dataframe thead th {\n",
              "        text-align: right;\n",
              "    }\n",
              "</style>\n",
              "<table border=\"1\" class=\"dataframe\">\n",
              "  <thead>\n",
              "    <tr style=\"text-align: right;\">\n",
              "      <th></th>\n",
              "      <th>#YYY/MM/DD</th>\n",
              "      <th>HH:mm:SS.ss</th>\n",
              "      <th>ET</th>\n",
              "      <th>GT</th>\n",
              "      <th>MAG</th>\n",
              "      <th>Unnamed: 5</th>\n",
              "      <th>M</th>\n",
              "      <th>Unnamed: 7</th>\n",
              "      <th>Unnamed: 8</th>\n",
              "      <th>Unnamed: 9</th>\n",
              "      <th>LAT</th>\n",
              "      <th>Unnamed: 11</th>\n",
              "      <th>Unnamed: 12</th>\n",
              "      <th>Unnamed: 13</th>\n",
              "      <th>Unnamed: 14</th>\n",
              "      <th>Unnamed: 15</th>\n",
              "      <th>Unnamed: 16</th>\n",
              "      <th>LON</th>\n",
              "      <th>Unnamed: 18</th>\n",
              "      <th>Unnamed: 19</th>\n",
              "      <th>Unnamed: 20</th>\n",
              "      <th>Unnamed: 21</th>\n",
              "      <th>Unnamed: 22</th>\n",
              "      <th>DEPTH</th>\n",
              "      <th>Q</th>\n",
              "      <th>Unnamed: 25</th>\n",
              "      <th>EVID</th>\n",
              "      <th>Unnamed: 27</th>\n",
              "      <th>Unnamed: 28</th>\n",
              "      <th>Unnamed: 29</th>\n",
              "      <th>Unnamed: 30</th>\n",
              "      <th>Unnamed: 31</th>\n",
              "      <th>NPH</th>\n",
              "      <th>NGRM</th>\n",
              "    </tr>\n",
              "  </thead>\n",
              "  <tbody>\n",
              "    <tr>\n",
              "      <th>0</th>\n",
              "      <td>1984/01/01</td>\n",
              "      <td>01:30:57.52</td>\n",
              "      <td>eq</td>\n",
              "      <td>NaN</td>\n",
              "      <td>l</td>\n",
              "      <td>2.02</td>\n",
              "      <td>c</td>\n",
              "      <td>NaN</td>\n",
              "      <td>NaN</td>\n",
              "      <td>33.246</td>\n",
              "      <td>-116.433</td>\n",
              "      <td>NaN</td>\n",
              "      <td>NaN</td>\n",
              "      <td>1.6</td>\n",
              "      <td>C</td>\n",
              "      <td>NaN</td>\n",
              "      <td>NaN</td>\n",
              "      <td>NaN</td>\n",
              "      <td>28255.0</td>\n",
              "      <td>NaN</td>\n",
              "      <td>NaN</td>\n",
              "      <td>13.0</td>\n",
              "      <td>NaN</td>\n",
              "      <td>NaN</td>\n",
              "      <td>17.0</td>\n",
              "      <td>NaN</td>\n",
              "      <td>NaN</td>\n",
              "      <td>NaN</td>\n",
              "      <td>NaN</td>\n",
              "      <td>NaN</td>\n",
              "      <td>NaN</td>\n",
              "      <td>NaN</td>\n",
              "      <td>NaN</td>\n",
              "      <td>NaN</td>\n",
              "    </tr>\n",
              "    <tr>\n",
              "      <th>1</th>\n",
              "      <td>1984/01/01</td>\n",
              "      <td>05:31:34.16</td>\n",
              "      <td>eq</td>\n",
              "      <td>NaN</td>\n",
              "      <td>l</td>\n",
              "      <td>2.12</td>\n",
              "      <td>c</td>\n",
              "      <td>NaN</td>\n",
              "      <td>NaN</td>\n",
              "      <td>32.945</td>\n",
              "      <td>-116.295</td>\n",
              "      <td>NaN</td>\n",
              "      <td>NaN</td>\n",
              "      <td>5.4</td>\n",
              "      <td>C</td>\n",
              "      <td>NaN</td>\n",
              "      <td>NaN</td>\n",
              "      <td>NaN</td>\n",
              "      <td>28259.0</td>\n",
              "      <td>NaN</td>\n",
              "      <td>NaN</td>\n",
              "      <td>18.0</td>\n",
              "      <td>NaN</td>\n",
              "      <td>NaN</td>\n",
              "      <td>42.0</td>\n",
              "      <td>NaN</td>\n",
              "      <td>NaN</td>\n",
              "      <td>NaN</td>\n",
              "      <td>NaN</td>\n",
              "      <td>NaN</td>\n",
              "      <td>NaN</td>\n",
              "      <td>NaN</td>\n",
              "      <td>NaN</td>\n",
              "      <td>NaN</td>\n",
              "    </tr>\n",
              "    <tr>\n",
              "      <th>2</th>\n",
              "      <td>1984/01/01</td>\n",
              "      <td>06:59:05.14</td>\n",
              "      <td>eq</td>\n",
              "      <td>NaN</td>\n",
              "      <td>l</td>\n",
              "      <td>2.43</td>\n",
              "      <td>c</td>\n",
              "      <td>NaN</td>\n",
              "      <td>NaN</td>\n",
              "      <td>33.343</td>\n",
              "      <td>-117.628</td>\n",
              "      <td>NaN</td>\n",
              "      <td>NaN</td>\n",
              "      <td>5.6</td>\n",
              "      <td>C</td>\n",
              "      <td>NaN</td>\n",
              "      <td>NaN</td>\n",
              "      <td>NaN</td>\n",
              "      <td>28260.0</td>\n",
              "      <td>NaN</td>\n",
              "      <td>NaN</td>\n",
              "      <td>13.0</td>\n",
              "      <td>NaN</td>\n",
              "      <td>NaN</td>\n",
              "      <td>30.0</td>\n",
              "      <td>NaN</td>\n",
              "      <td>NaN</td>\n",
              "      <td>NaN</td>\n",
              "      <td>NaN</td>\n",
              "      <td>NaN</td>\n",
              "      <td>NaN</td>\n",
              "      <td>NaN</td>\n",
              "      <td>NaN</td>\n",
              "      <td>NaN</td>\n",
              "    </tr>\n",
              "    <tr>\n",
              "      <th>3</th>\n",
              "      <td>1984/01/01</td>\n",
              "      <td>11:10:25.29</td>\n",
              "      <td>eq</td>\n",
              "      <td>NaN</td>\n",
              "      <td>l</td>\n",
              "      <td>2.07</td>\n",
              "      <td>c</td>\n",
              "      <td>NaN</td>\n",
              "      <td>NaN</td>\n",
              "      <td>33.668</td>\n",
              "      <td>-116.780</td>\n",
              "      <td>NaN</td>\n",
              "      <td>13.8</td>\n",
              "      <td>C</td>\n",
              "      <td>NaN</td>\n",
              "      <td>NaN</td>\n",
              "      <td>NaN</td>\n",
              "      <td>28270.0</td>\n",
              "      <td>NaN</td>\n",
              "      <td>NaN</td>\n",
              "      <td>19.0</td>\n",
              "      <td>NaN</td>\n",
              "      <td>NaN</td>\n",
              "      <td>40.0</td>\n",
              "      <td>NaN</td>\n",
              "      <td>NaN</td>\n",
              "      <td>NaN</td>\n",
              "      <td>NaN</td>\n",
              "      <td>NaN</td>\n",
              "      <td>NaN</td>\n",
              "      <td>NaN</td>\n",
              "      <td>NaN</td>\n",
              "      <td>NaN</td>\n",
              "      <td>NaN</td>\n",
              "    </tr>\n",
              "    <tr>\n",
              "      <th>4</th>\n",
              "      <td>1984/01/01</td>\n",
              "      <td>19:38:19.79</td>\n",
              "      <td>eq</td>\n",
              "      <td>NaN</td>\n",
              "      <td>l</td>\n",
              "      <td>2.13</td>\n",
              "      <td>c</td>\n",
              "      <td>NaN</td>\n",
              "      <td>NaN</td>\n",
              "      <td>33.963</td>\n",
              "      <td>-116.290</td>\n",
              "      <td>NaN</td>\n",
              "      <td>NaN</td>\n",
              "      <td>2.7</td>\n",
              "      <td>C</td>\n",
              "      <td>NaN</td>\n",
              "      <td>NaN</td>\n",
              "      <td>NaN</td>\n",
              "      <td>28553.0</td>\n",
              "      <td>NaN</td>\n",
              "      <td>NaN</td>\n",
              "      <td>40.0</td>\n",
              "      <td>NaN</td>\n",
              "      <td>NaN</td>\n",
              "      <td>49.0</td>\n",
              "      <td>NaN</td>\n",
              "      <td>NaN</td>\n",
              "      <td>NaN</td>\n",
              "      <td>NaN</td>\n",
              "      <td>NaN</td>\n",
              "      <td>NaN</td>\n",
              "      <td>NaN</td>\n",
              "      <td>NaN</td>\n",
              "      <td>NaN</td>\n",
              "    </tr>\n",
              "  </tbody>\n",
              "</table>\n",
              "</div>"
            ],
            "text/plain": [
              "   #YYY/MM/DD  HH:mm:SS.ss  ET  GT  ... Unnamed: 30  Unnamed: 31 NPH  NGRM\n",
              "0  1984/01/01  01:30:57.52  eq NaN  ...         NaN          NaN NaN   NaN\n",
              "1  1984/01/01  05:31:34.16  eq NaN  ...         NaN          NaN NaN   NaN\n",
              "2  1984/01/01  06:59:05.14  eq NaN  ...         NaN          NaN NaN   NaN\n",
              "3  1984/01/01  11:10:25.29  eq NaN  ...         NaN          NaN NaN   NaN\n",
              "4  1984/01/01  19:38:19.79  eq NaN  ...         NaN          NaN NaN   NaN\n",
              "\n",
              "[5 rows x 34 columns]"
            ]
          },
          "metadata": {
            "tags": []
          },
          "execution_count": 25
        }
      ]
    },
    {
      "cell_type": "code",
      "metadata": {
        "colab": {
          "base_uri": "https://localhost:8080/"
        },
        "id": "_TKCrktT6PwX",
        "outputId": "64475467-93ee-4290-d81f-231da80c7cbe"
      },
      "source": [
        "eqdata.shape"
      ],
      "execution_count": null,
      "outputs": [
        {
          "output_type": "execute_result",
          "data": {
            "text/plain": [
              "(70798, 34)"
            ]
          },
          "metadata": {
            "tags": []
          },
          "execution_count": 26
        }
      ]
    },
    {
      "cell_type": "markdown",
      "metadata": {
        "id": "GJTScm2e9I4o"
      },
      "source": [
        "**I am gonna rename columns**"
      ]
    },
    {
      "cell_type": "code",
      "metadata": {
        "id": "uP35SQva6g64"
      },
      "source": [
        "#['date':'#YYY/MM/DD', 'time':'HH:mm:SS.ss', 'mag':'Unnamed5']\n",
        "eqdata = eqdata.rename(columns={'#YYY/MM/DD':'date', 'HH:mm:SS.ss':'time', 'Unnamed: 5':'mag'})"
      ],
      "execution_count": null,
      "outputs": []
    },
    {
      "cell_type": "code",
      "metadata": {
        "colab": {
          "base_uri": "https://localhost:8080/",
          "height": 243
        },
        "id": "jVrv5JIl8WIi",
        "outputId": "684b88b1-600d-44f1-fd99-a0c22797e287"
      },
      "source": [
        "eqdata.head()"
      ],
      "execution_count": null,
      "outputs": [
        {
          "output_type": "execute_result",
          "data": {
            "text/html": [
              "<div>\n",
              "<style scoped>\n",
              "    .dataframe tbody tr th:only-of-type {\n",
              "        vertical-align: middle;\n",
              "    }\n",
              "\n",
              "    .dataframe tbody tr th {\n",
              "        vertical-align: top;\n",
              "    }\n",
              "\n",
              "    .dataframe thead th {\n",
              "        text-align: right;\n",
              "    }\n",
              "</style>\n",
              "<table border=\"1\" class=\"dataframe\">\n",
              "  <thead>\n",
              "    <tr style=\"text-align: right;\">\n",
              "      <th></th>\n",
              "      <th>date</th>\n",
              "      <th>time</th>\n",
              "      <th>ET</th>\n",
              "      <th>GT</th>\n",
              "      <th>MAG</th>\n",
              "      <th>mag</th>\n",
              "      <th>M</th>\n",
              "      <th>Unnamed: 7</th>\n",
              "      <th>Unnamed: 8</th>\n",
              "      <th>Unnamed: 9</th>\n",
              "      <th>LAT</th>\n",
              "      <th>Unnamed: 11</th>\n",
              "      <th>Unnamed: 12</th>\n",
              "      <th>Unnamed: 13</th>\n",
              "      <th>Unnamed: 14</th>\n",
              "      <th>Unnamed: 15</th>\n",
              "      <th>Unnamed: 16</th>\n",
              "      <th>LON</th>\n",
              "      <th>Unnamed: 18</th>\n",
              "      <th>Unnamed: 19</th>\n",
              "      <th>Unnamed: 20</th>\n",
              "      <th>Unnamed: 21</th>\n",
              "      <th>Unnamed: 22</th>\n",
              "      <th>DEPTH</th>\n",
              "      <th>Q</th>\n",
              "      <th>Unnamed: 25</th>\n",
              "      <th>EVID</th>\n",
              "      <th>Unnamed: 27</th>\n",
              "      <th>Unnamed: 28</th>\n",
              "      <th>Unnamed: 29</th>\n",
              "      <th>Unnamed: 30</th>\n",
              "      <th>Unnamed: 31</th>\n",
              "      <th>NPH</th>\n",
              "      <th>NGRM</th>\n",
              "    </tr>\n",
              "  </thead>\n",
              "  <tbody>\n",
              "    <tr>\n",
              "      <th>0</th>\n",
              "      <td>1984/01/01</td>\n",
              "      <td>01:30:57.52</td>\n",
              "      <td>eq</td>\n",
              "      <td>NaN</td>\n",
              "      <td>l</td>\n",
              "      <td>2.02</td>\n",
              "      <td>c</td>\n",
              "      <td>NaN</td>\n",
              "      <td>NaN</td>\n",
              "      <td>33.246</td>\n",
              "      <td>-116.433</td>\n",
              "      <td>NaN</td>\n",
              "      <td>NaN</td>\n",
              "      <td>1.6</td>\n",
              "      <td>C</td>\n",
              "      <td>NaN</td>\n",
              "      <td>NaN</td>\n",
              "      <td>NaN</td>\n",
              "      <td>28255.0</td>\n",
              "      <td>NaN</td>\n",
              "      <td>NaN</td>\n",
              "      <td>13.0</td>\n",
              "      <td>NaN</td>\n",
              "      <td>NaN</td>\n",
              "      <td>17.0</td>\n",
              "      <td>NaN</td>\n",
              "      <td>NaN</td>\n",
              "      <td>NaN</td>\n",
              "      <td>NaN</td>\n",
              "      <td>NaN</td>\n",
              "      <td>NaN</td>\n",
              "      <td>NaN</td>\n",
              "      <td>NaN</td>\n",
              "      <td>NaN</td>\n",
              "    </tr>\n",
              "    <tr>\n",
              "      <th>1</th>\n",
              "      <td>1984/01/01</td>\n",
              "      <td>05:31:34.16</td>\n",
              "      <td>eq</td>\n",
              "      <td>NaN</td>\n",
              "      <td>l</td>\n",
              "      <td>2.12</td>\n",
              "      <td>c</td>\n",
              "      <td>NaN</td>\n",
              "      <td>NaN</td>\n",
              "      <td>32.945</td>\n",
              "      <td>-116.295</td>\n",
              "      <td>NaN</td>\n",
              "      <td>NaN</td>\n",
              "      <td>5.4</td>\n",
              "      <td>C</td>\n",
              "      <td>NaN</td>\n",
              "      <td>NaN</td>\n",
              "      <td>NaN</td>\n",
              "      <td>28259.0</td>\n",
              "      <td>NaN</td>\n",
              "      <td>NaN</td>\n",
              "      <td>18.0</td>\n",
              "      <td>NaN</td>\n",
              "      <td>NaN</td>\n",
              "      <td>42.0</td>\n",
              "      <td>NaN</td>\n",
              "      <td>NaN</td>\n",
              "      <td>NaN</td>\n",
              "      <td>NaN</td>\n",
              "      <td>NaN</td>\n",
              "      <td>NaN</td>\n",
              "      <td>NaN</td>\n",
              "      <td>NaN</td>\n",
              "      <td>NaN</td>\n",
              "    </tr>\n",
              "    <tr>\n",
              "      <th>2</th>\n",
              "      <td>1984/01/01</td>\n",
              "      <td>06:59:05.14</td>\n",
              "      <td>eq</td>\n",
              "      <td>NaN</td>\n",
              "      <td>l</td>\n",
              "      <td>2.43</td>\n",
              "      <td>c</td>\n",
              "      <td>NaN</td>\n",
              "      <td>NaN</td>\n",
              "      <td>33.343</td>\n",
              "      <td>-117.628</td>\n",
              "      <td>NaN</td>\n",
              "      <td>NaN</td>\n",
              "      <td>5.6</td>\n",
              "      <td>C</td>\n",
              "      <td>NaN</td>\n",
              "      <td>NaN</td>\n",
              "      <td>NaN</td>\n",
              "      <td>28260.0</td>\n",
              "      <td>NaN</td>\n",
              "      <td>NaN</td>\n",
              "      <td>13.0</td>\n",
              "      <td>NaN</td>\n",
              "      <td>NaN</td>\n",
              "      <td>30.0</td>\n",
              "      <td>NaN</td>\n",
              "      <td>NaN</td>\n",
              "      <td>NaN</td>\n",
              "      <td>NaN</td>\n",
              "      <td>NaN</td>\n",
              "      <td>NaN</td>\n",
              "      <td>NaN</td>\n",
              "      <td>NaN</td>\n",
              "      <td>NaN</td>\n",
              "    </tr>\n",
              "    <tr>\n",
              "      <th>3</th>\n",
              "      <td>1984/01/01</td>\n",
              "      <td>11:10:25.29</td>\n",
              "      <td>eq</td>\n",
              "      <td>NaN</td>\n",
              "      <td>l</td>\n",
              "      <td>2.07</td>\n",
              "      <td>c</td>\n",
              "      <td>NaN</td>\n",
              "      <td>NaN</td>\n",
              "      <td>33.668</td>\n",
              "      <td>-116.780</td>\n",
              "      <td>NaN</td>\n",
              "      <td>13.8</td>\n",
              "      <td>C</td>\n",
              "      <td>NaN</td>\n",
              "      <td>NaN</td>\n",
              "      <td>NaN</td>\n",
              "      <td>28270.0</td>\n",
              "      <td>NaN</td>\n",
              "      <td>NaN</td>\n",
              "      <td>19.0</td>\n",
              "      <td>NaN</td>\n",
              "      <td>NaN</td>\n",
              "      <td>40.0</td>\n",
              "      <td>NaN</td>\n",
              "      <td>NaN</td>\n",
              "      <td>NaN</td>\n",
              "      <td>NaN</td>\n",
              "      <td>NaN</td>\n",
              "      <td>NaN</td>\n",
              "      <td>NaN</td>\n",
              "      <td>NaN</td>\n",
              "      <td>NaN</td>\n",
              "      <td>NaN</td>\n",
              "    </tr>\n",
              "    <tr>\n",
              "      <th>4</th>\n",
              "      <td>1984/01/01</td>\n",
              "      <td>19:38:19.79</td>\n",
              "      <td>eq</td>\n",
              "      <td>NaN</td>\n",
              "      <td>l</td>\n",
              "      <td>2.13</td>\n",
              "      <td>c</td>\n",
              "      <td>NaN</td>\n",
              "      <td>NaN</td>\n",
              "      <td>33.963</td>\n",
              "      <td>-116.290</td>\n",
              "      <td>NaN</td>\n",
              "      <td>NaN</td>\n",
              "      <td>2.7</td>\n",
              "      <td>C</td>\n",
              "      <td>NaN</td>\n",
              "      <td>NaN</td>\n",
              "      <td>NaN</td>\n",
              "      <td>28553.0</td>\n",
              "      <td>NaN</td>\n",
              "      <td>NaN</td>\n",
              "      <td>40.0</td>\n",
              "      <td>NaN</td>\n",
              "      <td>NaN</td>\n",
              "      <td>49.0</td>\n",
              "      <td>NaN</td>\n",
              "      <td>NaN</td>\n",
              "      <td>NaN</td>\n",
              "      <td>NaN</td>\n",
              "      <td>NaN</td>\n",
              "      <td>NaN</td>\n",
              "      <td>NaN</td>\n",
              "      <td>NaN</td>\n",
              "      <td>NaN</td>\n",
              "    </tr>\n",
              "  </tbody>\n",
              "</table>\n",
              "</div>"
            ],
            "text/plain": [
              "         date         time  ET  GT  ... Unnamed: 30  Unnamed: 31 NPH  NGRM\n",
              "0  1984/01/01  01:30:57.52  eq NaN  ...         NaN          NaN NaN   NaN\n",
              "1  1984/01/01  05:31:34.16  eq NaN  ...         NaN          NaN NaN   NaN\n",
              "2  1984/01/01  06:59:05.14  eq NaN  ...         NaN          NaN NaN   NaN\n",
              "3  1984/01/01  11:10:25.29  eq NaN  ...         NaN          NaN NaN   NaN\n",
              "4  1984/01/01  19:38:19.79  eq NaN  ...         NaN          NaN NaN   NaN\n",
              "\n",
              "[5 rows x 34 columns]"
            ]
          },
          "metadata": {
            "tags": []
          },
          "execution_count": 28
        }
      ]
    },
    {
      "cell_type": "markdown",
      "metadata": {
        "id": "X5p50RXx-YER"
      },
      "source": [
        "**NOW I HAVE TO SELECT ONLY THE DATE, TIME AND MAG COLUMNS**"
      ]
    },
    {
      "cell_type": "code",
      "metadata": {
        "id": "CBkA7ZID9NXq"
      },
      "source": [
        "eqdata = eqdata[['date','time','mag']]"
      ],
      "execution_count": null,
      "outputs": []
    },
    {
      "cell_type": "code",
      "metadata": {
        "colab": {
          "base_uri": "https://localhost:8080/",
          "height": 424
        },
        "id": "eP7YTFzz-I2Y",
        "outputId": "d3ad25b0-b54b-485e-b131-44c8681ea7b4"
      },
      "source": [
        "eqdata"
      ],
      "execution_count": null,
      "outputs": [
        {
          "output_type": "execute_result",
          "data": {
            "text/html": [
              "<div>\n",
              "<style scoped>\n",
              "    .dataframe tbody tr th:only-of-type {\n",
              "        vertical-align: middle;\n",
              "    }\n",
              "\n",
              "    .dataframe tbody tr th {\n",
              "        vertical-align: top;\n",
              "    }\n",
              "\n",
              "    .dataframe thead th {\n",
              "        text-align: right;\n",
              "    }\n",
              "</style>\n",
              "<table border=\"1\" class=\"dataframe\">\n",
              "  <thead>\n",
              "    <tr style=\"text-align: right;\">\n",
              "      <th></th>\n",
              "      <th>date</th>\n",
              "      <th>time</th>\n",
              "      <th>mag</th>\n",
              "    </tr>\n",
              "  </thead>\n",
              "  <tbody>\n",
              "    <tr>\n",
              "      <th>0</th>\n",
              "      <td>1984/01/01</td>\n",
              "      <td>01:30:57.52</td>\n",
              "      <td>2.02</td>\n",
              "    </tr>\n",
              "    <tr>\n",
              "      <th>1</th>\n",
              "      <td>1984/01/01</td>\n",
              "      <td>05:31:34.16</td>\n",
              "      <td>2.12</td>\n",
              "    </tr>\n",
              "    <tr>\n",
              "      <th>2</th>\n",
              "      <td>1984/01/01</td>\n",
              "      <td>06:59:05.14</td>\n",
              "      <td>2.43</td>\n",
              "    </tr>\n",
              "    <tr>\n",
              "      <th>3</th>\n",
              "      <td>1984/01/01</td>\n",
              "      <td>11:10:25.29</td>\n",
              "      <td>2.07</td>\n",
              "    </tr>\n",
              "    <tr>\n",
              "      <th>4</th>\n",
              "      <td>1984/01/01</td>\n",
              "      <td>19:38:19.79</td>\n",
              "      <td>2.13</td>\n",
              "    </tr>\n",
              "    <tr>\n",
              "      <th>...</th>\n",
              "      <td>...</td>\n",
              "      <td>...</td>\n",
              "      <td>...</td>\n",
              "    </tr>\n",
              "    <tr>\n",
              "      <th>70793</th>\n",
              "      <td>2002/12/29</td>\n",
              "      <td>19:37:24.56</td>\n",
              "      <td>2.21</td>\n",
              "    </tr>\n",
              "    <tr>\n",
              "      <th>70794</th>\n",
              "      <td>2002/12/29</td>\n",
              "      <td>20:17:33.40</td>\n",
              "      <td>2.02</td>\n",
              "    </tr>\n",
              "    <tr>\n",
              "      <th>70795</th>\n",
              "      <td>2002/12/29</td>\n",
              "      <td>20:21:28.73</td>\n",
              "      <td>2.07</td>\n",
              "    </tr>\n",
              "    <tr>\n",
              "      <th>70796</th>\n",
              "      <td>2002/12/30</td>\n",
              "      <td>21:51:52.55</td>\n",
              "      <td>2.31</td>\n",
              "    </tr>\n",
              "    <tr>\n",
              "      <th>70797</th>\n",
              "      <td>2002/12/30</td>\n",
              "      <td>23:38:49.79</td>\n",
              "      <td>2.05</td>\n",
              "    </tr>\n",
              "  </tbody>\n",
              "</table>\n",
              "<p>70798 rows × 3 columns</p>\n",
              "</div>"
            ],
            "text/plain": [
              "             date         time   mag\n",
              "0      1984/01/01  01:30:57.52  2.02\n",
              "1      1984/01/01  05:31:34.16  2.12\n",
              "2      1984/01/01  06:59:05.14  2.43\n",
              "3      1984/01/01  11:10:25.29  2.07\n",
              "4      1984/01/01  19:38:19.79  2.13\n",
              "...           ...          ...   ...\n",
              "70793  2002/12/29  19:37:24.56  2.21\n",
              "70794  2002/12/29  20:17:33.40  2.02\n",
              "70795  2002/12/29  20:21:28.73  2.07\n",
              "70796  2002/12/30  21:51:52.55  2.31\n",
              "70797  2002/12/30  23:38:49.79  2.05\n",
              "\n",
              "[70798 rows x 3 columns]"
            ]
          },
          "metadata": {
            "tags": []
          },
          "execution_count": 30
        }
      ]
    },
    {
      "cell_type": "code",
      "metadata": {
        "colab": {
          "base_uri": "https://localhost:8080/",
          "height": 300
        },
        "id": "eCDH_A1z3XC9",
        "outputId": "ba1113e7-c31f-422e-c0ca-cec439cdc147"
      },
      "source": [
        "eqdata.describe()"
      ],
      "execution_count": null,
      "outputs": [
        {
          "output_type": "execute_result",
          "data": {
            "text/html": [
              "<div>\n",
              "<style scoped>\n",
              "    .dataframe tbody tr th:only-of-type {\n",
              "        vertical-align: middle;\n",
              "    }\n",
              "\n",
              "    .dataframe tbody tr th {\n",
              "        vertical-align: top;\n",
              "    }\n",
              "\n",
              "    .dataframe thead th {\n",
              "        text-align: right;\n",
              "    }\n",
              "</style>\n",
              "<table border=\"1\" class=\"dataframe\">\n",
              "  <thead>\n",
              "    <tr style=\"text-align: right;\">\n",
              "      <th></th>\n",
              "      <th>mag</th>\n",
              "    </tr>\n",
              "  </thead>\n",
              "  <tbody>\n",
              "    <tr>\n",
              "      <th>count</th>\n",
              "      <td>70798.000000</td>\n",
              "    </tr>\n",
              "    <tr>\n",
              "      <th>mean</th>\n",
              "      <td>2.417826</td>\n",
              "    </tr>\n",
              "    <tr>\n",
              "      <th>std</th>\n",
              "      <td>0.407683</td>\n",
              "    </tr>\n",
              "    <tr>\n",
              "      <th>min</th>\n",
              "      <td>2.000000</td>\n",
              "    </tr>\n",
              "    <tr>\n",
              "      <th>25%</th>\n",
              "      <td>2.120000</td>\n",
              "    </tr>\n",
              "    <tr>\n",
              "      <th>50%</th>\n",
              "      <td>2.300000</td>\n",
              "    </tr>\n",
              "    <tr>\n",
              "      <th>75%</th>\n",
              "      <td>2.590000</td>\n",
              "    </tr>\n",
              "    <tr>\n",
              "      <th>max</th>\n",
              "      <td>7.100000</td>\n",
              "    </tr>\n",
              "  </tbody>\n",
              "</table>\n",
              "</div>"
            ],
            "text/plain": [
              "                mag\n",
              "count  70798.000000\n",
              "mean       2.417826\n",
              "std        0.407683\n",
              "min        2.000000\n",
              "25%        2.120000\n",
              "50%        2.300000\n",
              "75%        2.590000\n",
              "max        7.100000"
            ]
          },
          "metadata": {
            "tags": []
          },
          "execution_count": 31
        }
      ]
    },
    {
      "cell_type": "markdown",
      "metadata": {
        "id": "wUKOHfAB-6Lq"
      },
      "source": [
        "####**An alternative was:**\n",
        "Selezinoare solo le colonne che ci interessavano con\n",
        "\n",
        "eqdata=pd.DataFrame({'date':data[#YYY/MM/DD], 'time': ....})\n",
        "\n",
        "e poi rinominare le colonne con \n",
        "\n",
        "eqdata = eqdata.rename(columns={'#YYY/MM/DD':'date', 'HH:mm:SS.ss':'time', 'Unnamed: 5':'mag'})\n",
        "\n",
        "\n",
        "LA prof per rinomiane ha usato:\n",
        "\n",
        "eqdata = eqdata.rename({\"#YYY/MM/DD\":\"date\", \"HH:mm:SS.ss\":\"time\",\"Unnamed: 5\":\"mag\"}, axis=1)[[\"date\",\"time\",\"mag\"]]\n",
        "\n",
        "In the last expression \"[[\"date\",\"time\",\"mag\"]]\" one brackets is \"i am gonna gice you an index of something. The other tells me the index of list.\n",
        "\n",
        "Potevo usare inplae=True ma non è il caso perchè adesso volevo solo estrarre colonne."
      ]
    },
    {
      "cell_type": "markdown",
      "metadata": {
        "id": "f3CMVnsU2uiP"
      },
      "source": [
        "### A QUESTO PUNTO ANDIAMO AVANTI CON LA PROF"
      ]
    },
    {
      "cell_type": "markdown",
      "metadata": {
        "id": "-HuhpLy0LhFz"
      },
      "source": [
        "Adesso voglio usare pd.to_datetime() e convertire i valori di data e ora.\n",
        "Probelmi:\n",
        "\n",
        "1. data e ora sono su due colonne divise e io voglio un singolo valore, perchè dop voglio creare una variabile chiamata deltatime per sapere qunato tempo è passato \n",
        "\n",
        "2. some of those time sono codificati in un modo che non funzionano"
      ]
    },
    {
      "cell_type": "markdown",
      "metadata": {
        "id": "PrrpfeuI9HFb"
      },
      "source": [
        "**PREPARE DATA**"
      ]
    },
    {
      "cell_type": "code",
      "metadata": {
        "colab": {
          "base_uri": "https://localhost:8080/"
        },
        "id": "f-5MkJ1__IFW",
        "outputId": "7eea4885-9420-4235-b6d3-a5e04fcf5083"
      },
      "source": [
        "eqdata.time.dtype"
      ],
      "execution_count": null,
      "outputs": [
        {
          "output_type": "execute_result",
          "data": {
            "text/plain": [
              "dtype('O')"
            ]
          },
          "metadata": {
            "tags": []
          },
          "execution_count": 32
        }
      ]
    },
    {
      "cell_type": "code",
      "metadata": {
        "colab": {
          "base_uri": "https://localhost:8080/"
        },
        "id": "H2I6LjEPDsEe",
        "outputId": "ef315bee-a453-4164-890a-339e02547442"
      },
      "source": [
        "eqdata.date.dtype"
      ],
      "execution_count": null,
      "outputs": [
        {
          "output_type": "execute_result",
          "data": {
            "text/plain": [
              "dtype('O')"
            ]
          },
          "metadata": {
            "tags": []
          },
          "execution_count": 33
        }
      ]
    },
    {
      "cell_type": "markdown",
      "metadata": {
        "id": "fjcHIvRx_XTV"
      },
      "source": [
        "Type 'O' means object, typically a string.\n",
        "\n",
        "What data type are the time and date columns right now? What type you want them to be to conver them to datetime with pd.datetime()?\n",
        "\n"
      ]
    },
    {
      "cell_type": "code",
      "metadata": {
        "colab": {
          "base_uri": "https://localhost:8080/"
        },
        "id": "KlHlrQPN_dXC",
        "outputId": "b200b3c5-a3c5-4862-f15d-ebe0c3ec52f3"
      },
      "source": [
        "pd.to_datetime(eqdata[\"date\"])"
      ],
      "execution_count": null,
      "outputs": [
        {
          "output_type": "execute_result",
          "data": {
            "text/plain": [
              "0       1984-01-01\n",
              "1       1984-01-01\n",
              "2       1984-01-01\n",
              "3       1984-01-01\n",
              "4       1984-01-01\n",
              "           ...    \n",
              "70793   2002-12-29\n",
              "70794   2002-12-29\n",
              "70795   2002-12-29\n",
              "70796   2002-12-30\n",
              "70797   2002-12-30\n",
              "Name: date, Length: 70798, dtype: datetime64[ns]"
            ]
          },
          "metadata": {
            "tags": []
          },
          "execution_count": 34
        }
      ]
    },
    {
      "cell_type": "code",
      "metadata": {
        "id": "PTGIQ8o3MRal"
      },
      "source": [
        "#pd.to_datetime(eqdata[\"time\"])\n",
        "\n",
        "#se usiamo questo comando ottengo l'errore che \n",
        "# \"second must be in 0..59: 04:48:60.00\""
      ],
      "execution_count": null,
      "outputs": []
    },
    {
      "cell_type": "markdown",
      "metadata": {
        "id": "_2fpZyg0Md6e"
      },
      "source": [
        "Quindi capisco che le date che vuole pandas sono con i secondi che vanno da 0 a 59. Ho 2 soluzioni:\n",
        "\n",
        "1. drop all those observation, but I don't know how observation are. And I don't wanna remove some important data.\n",
        "\n",
        "2. Siccome non ho bisogno di una precisione motlo elevata come ho nel mio dataframe(YY.MM.hh.mm.ss.millisecond), posso fare un for loop e aggiustare le date che non vanno bene."
      ]
    },
    {
      "cell_type": "code",
      "metadata": {
        "id": "NaX1ApPf3ZKX",
        "colab": {
          "base_uri": "https://localhost:8080/"
        },
        "outputId": "73fa7102-cf21-482e-8bb7-1919db11efdf"
      },
      "source": [
        "for i in range(len(eqdata[\"time\"])):\n",
        "  if eqdata.iloc[i].time.endswith('60.00'): #eqdata.iloc pulls me out the row\n",
        "    print(eqdata.iloc[i].time)\n",
        "    print(eqdata.iloc[i].time[:6] + '59.99') #lascio i ptimi 6 caratteri uguali e cambio \n",
        "                                             #gli ultimi\n",
        "    eqdata[\"time\"][i] = eqdata.iloc[i].time[:6] + \"59.99\" #anche qui ci vuole iloc ma funziona lo stesso"
      ],
      "execution_count": null,
      "outputs": [
        {
          "output_type": "stream",
          "text": [
            "04:48:60.00\n",
            "04:48:59.99\n",
            "14:19:60.00\n",
            "14:19:59.99\n"
          ],
          "name": "stdout"
        },
        {
          "output_type": "stream",
          "text": [
            "/usr/local/lib/python3.7/dist-packages/ipykernel_launcher.py:6: SettingWithCopyWarning: \n",
            "A value is trying to be set on a copy of a slice from a DataFrame\n",
            "\n",
            "See the caveats in the documentation: https://pandas.pydata.org/pandas-docs/stable/user_guide/indexing.html#returning-a-view-versus-a-copy\n",
            "  \n"
          ],
          "name": "stderr"
        },
        {
          "output_type": "stream",
          "text": [
            "21:48:60.00\n",
            "21:48:59.99\n",
            "15:34:60.00\n",
            "15:34:59.99\n",
            "06:41:60.00\n",
            "06:41:59.99\n"
          ],
          "name": "stdout"
        }
      ]
    },
    {
      "cell_type": "code",
      "metadata": {
        "colab": {
          "base_uri": "https://localhost:8080/"
        },
        "id": "tVLgVE2H36GU",
        "outputId": "30aed971-1ff8-4013-f50f-0feed1937cc6"
      },
      "source": [
        "pd.to_datetime(eqdata['time'])"
      ],
      "execution_count": null,
      "outputs": [
        {
          "output_type": "execute_result",
          "data": {
            "text/plain": [
              "0       2021-04-23 01:30:57.520\n",
              "1       2021-04-23 05:31:34.160\n",
              "2       2021-04-23 06:59:05.140\n",
              "3       2021-04-23 11:10:25.290\n",
              "4       2021-04-23 19:38:19.790\n",
              "                  ...          \n",
              "70793   2021-04-23 19:37:24.560\n",
              "70794   2021-04-23 20:17:33.400\n",
              "70795   2021-04-23 20:21:28.730\n",
              "70796   2021-04-23 21:51:52.550\n",
              "70797   2021-04-23 23:38:49.790\n",
              "Name: time, Length: 70798, dtype: datetime64[ns]"
            ]
          },
          "metadata": {
            "tags": []
          },
          "execution_count": 37
        }
      ]
    },
    {
      "cell_type": "markdown",
      "metadata": {
        "id": "lxqFREMBOvZb"
      },
      "source": [
        "Tuttavia quello che voglio veramente è che voglio la data e l'ora. Allora prima di passare pd.to_datetime metto insieme le 2 stringhe che mi fanno la data e l'ora e poi uso pd.to_datetime"
      ]
    },
    {
      "cell_type": "markdown",
      "metadata": {
        "id": "PADZ1NJ4POik"
      },
      "source": [
        "creo quindi una nuova series"
      ]
    },
    {
      "cell_type": "code",
      "metadata": {
        "colab": {
          "base_uri": "https://localhost:8080/",
          "height": 35
        },
        "id": "bDSPrzJePTan",
        "outputId": "4349fff1-e72f-4070-8109-2a33907c218b"
      },
      "source": [
        "eqdata.iloc[0].date + \" \" + eqdata.iloc[0].time"
      ],
      "execution_count": null,
      "outputs": [
        {
          "output_type": "execute_result",
          "data": {
            "application/vnd.google.colaboratory.intrinsic+json": {
              "type": "string"
            },
            "text/plain": [
              "'1984/01/01 01:30:57.52'"
            ]
          },
          "metadata": {
            "tags": []
          },
          "execution_count": 38
        }
      ]
    },
    {
      "cell_type": "code",
      "metadata": {
        "colab": {
          "base_uri": "https://localhost:8080/"
        },
        "id": "5aAnkJPBPgh4",
        "outputId": "006e7749-13f3-472d-a97d-d495698a7e0b"
      },
      "source": [
        "pd.to_datetime(eqdata.iloc[0].date + \" \" + eqdata.iloc[0].time)"
      ],
      "execution_count": null,
      "outputs": [
        {
          "output_type": "execute_result",
          "data": {
            "text/plain": [
              "Timestamp('1984-01-01 01:30:57.520000')"
            ]
          },
          "metadata": {
            "tags": []
          },
          "execution_count": 39
        }
      ]
    },
    {
      "cell_type": "markdown",
      "metadata": {
        "id": "vdjs1B7rPpVt"
      },
      "source": [
        "####**Adesso faccio un for per fare questa operazione per tutti i miei dati, e li inserisco nel dataframe. E faccio un for loop in un modo diverso:**"
      ]
    },
    {
      "cell_type": "code",
      "metadata": {
        "id": "snmE9AUE5HxH"
      },
      "source": [
        "eqdata['datetime'] = pd.to_datetime([eqdata.iloc[i].date + \" \" + eqdata.iloc[i].time for i in range(len(eqdata))])"
      ],
      "execution_count": null,
      "outputs": []
    },
    {
      "cell_type": "code",
      "metadata": {
        "colab": {
          "base_uri": "https://localhost:8080/",
          "height": 206
        },
        "id": "q9tLgvK7UDsO",
        "outputId": "8609cff1-9cdc-4b2e-ad96-d77b70e1b138"
      },
      "source": [
        "eqdata.head()"
      ],
      "execution_count": null,
      "outputs": [
        {
          "output_type": "execute_result",
          "data": {
            "text/html": [
              "<div>\n",
              "<style scoped>\n",
              "    .dataframe tbody tr th:only-of-type {\n",
              "        vertical-align: middle;\n",
              "    }\n",
              "\n",
              "    .dataframe tbody tr th {\n",
              "        vertical-align: top;\n",
              "    }\n",
              "\n",
              "    .dataframe thead th {\n",
              "        text-align: right;\n",
              "    }\n",
              "</style>\n",
              "<table border=\"1\" class=\"dataframe\">\n",
              "  <thead>\n",
              "    <tr style=\"text-align: right;\">\n",
              "      <th></th>\n",
              "      <th>date</th>\n",
              "      <th>time</th>\n",
              "      <th>mag</th>\n",
              "      <th>datetime</th>\n",
              "    </tr>\n",
              "  </thead>\n",
              "  <tbody>\n",
              "    <tr>\n",
              "      <th>0</th>\n",
              "      <td>1984/01/01</td>\n",
              "      <td>01:30:57.52</td>\n",
              "      <td>2.02</td>\n",
              "      <td>1984-01-01 01:30:57.520</td>\n",
              "    </tr>\n",
              "    <tr>\n",
              "      <th>1</th>\n",
              "      <td>1984/01/01</td>\n",
              "      <td>05:31:34.16</td>\n",
              "      <td>2.12</td>\n",
              "      <td>1984-01-01 05:31:34.160</td>\n",
              "    </tr>\n",
              "    <tr>\n",
              "      <th>2</th>\n",
              "      <td>1984/01/01</td>\n",
              "      <td>06:59:05.14</td>\n",
              "      <td>2.43</td>\n",
              "      <td>1984-01-01 06:59:05.140</td>\n",
              "    </tr>\n",
              "    <tr>\n",
              "      <th>3</th>\n",
              "      <td>1984/01/01</td>\n",
              "      <td>11:10:25.29</td>\n",
              "      <td>2.07</td>\n",
              "      <td>1984-01-01 11:10:25.290</td>\n",
              "    </tr>\n",
              "    <tr>\n",
              "      <th>4</th>\n",
              "      <td>1984/01/01</td>\n",
              "      <td>19:38:19.79</td>\n",
              "      <td>2.13</td>\n",
              "      <td>1984-01-01 19:38:19.790</td>\n",
              "    </tr>\n",
              "  </tbody>\n",
              "</table>\n",
              "</div>"
            ],
            "text/plain": [
              "         date         time   mag                datetime\n",
              "0  1984/01/01  01:30:57.52  2.02 1984-01-01 01:30:57.520\n",
              "1  1984/01/01  05:31:34.16  2.12 1984-01-01 05:31:34.160\n",
              "2  1984/01/01  06:59:05.14  2.43 1984-01-01 06:59:05.140\n",
              "3  1984/01/01  11:10:25.29  2.07 1984-01-01 11:10:25.290\n",
              "4  1984/01/01  19:38:19.79  2.13 1984-01-01 19:38:19.790"
            ]
          },
          "metadata": {
            "tags": []
          },
          "execution_count": 41
        }
      ]
    },
    {
      "cell_type": "markdown",
      "metadata": {
        "id": "Yz4tvN-ZVIln"
      },
      "source": [
        "Adesso dobbiamo selezionare gli \"stationary period\" come dice nell'articolo, nella sezione 2 e come fa la prof nell notebook.\n",
        "Ovvero dobbiamo prendere i dati durante i periodi di non-attività perchè quando ci sono i terremoti molto forti non si riescono a prendere dati subito dopo. \n",
        "\n",
        "Per farlo più velocemente possiamo fare un if e vedere se la data desiderata è nell'intervallo desiderato la prendo.\n",
        "\n",
        "Gli gli intervalli sono espressi in \"Anno.FrazioneDiAnno\" perciò devo convertire questo modo di scrivere, in giorni."
      ]
    },
    {
      "cell_type": "code",
      "metadata": {
        "colab": {
          "base_uri": "https://localhost:8080/"
        },
        "id": "YZ3Vjs6SaP0y",
        "outputId": "70ab2680-4233-481f-e12f-7870afdd0a56"
      },
      "source": [
        "pd.to_datetime(int(1985), format=\"%Y\")"
      ],
      "execution_count": null,
      "outputs": [
        {
          "output_type": "execute_result",
          "data": {
            "text/plain": [
              "Timestamp('1985-01-01 00:00:00')"
            ]
          },
          "metadata": {
            "tags": []
          },
          "execution_count": 42
        }
      ]
    },
    {
      "cell_type": "code",
      "metadata": {
        "colab": {
          "base_uri": "https://localhost:8080/"
        },
        "id": "T15fo_MGa-WJ",
        "outputId": "74b05898-b646-41c8-9e39-9b0462478cae"
      },
      "source": [
        "pd.Timedelta('%.f days'%((1985.5 - int(1985.5)) * 365.25))"
      ],
      "execution_count": null,
      "outputs": [
        {
          "output_type": "execute_result",
          "data": {
            "text/plain": [
              "Timedelta('183 days 00:00:00')"
            ]
          },
          "metadata": {
            "tags": []
          },
          "execution_count": 43
        }
      ]
    },
    {
      "cell_type": "code",
      "metadata": {
        "colab": {
          "base_uri": "https://localhost:8080/"
        },
        "id": "z77Z_E4xbSGW",
        "outputId": "f16dcfd9-97f3-4703-e51f-59928ab0071a"
      },
      "source": [
        "pd.to_datetime(int(1985), format=\"%Y\") + pd.Timedelta('%.f days'%((1985.5 - int(1985.5)) * 365.25))"
      ],
      "execution_count": null,
      "outputs": [
        {
          "output_type": "execute_result",
          "data": {
            "text/plain": [
              "Timestamp('1985-07-03 00:00:00')"
            ]
          },
          "metadata": {
            "tags": []
          },
          "execution_count": 44
        }
      ]
    },
    {
      "cell_type": "code",
      "metadata": {
        "id": "cmtxsoXjV88v"
      },
      "source": [
        "# create empty container\n",
        "ss = []\n",
        "yearranges = [(1984, 1986.5), \n",
        "          (1990.3, 1992.1), \n",
        "          (1994.6, 1995.6),\n",
        "          (1996.1,1996.5), \n",
        "          (1997,1997.6), \n",
        "          (1997.75,1998.15), \n",
        "          (1998.25,1999.35), \n",
        "          (2000.55,2000.8),\n",
        "          (2000.9 ,2001.25), \n",
        "          (2001.6 ,2002), \n",
        "          (2002.5 ,2003)]\n",
        "\n",
        "# loop through all year pairs as year and fraction of year\n",
        "for t in yearranges:\n",
        "    # for each pair I convert the year to datetime (easy)\n",
        "    # then I convert the fraction of year and convert it to days and convert that to a delta-time\n",
        "    # finally I add that deltatime to the year datetime. \n",
        "    ss.append((pd.to_datetime(int(t[0]), format=\"%Y\")   #prendo l'anno\n",
        "        + pd.Timedelta('%.f days'%((t[0] - int(t[0])) * 365.25)), #ci agiungo un intervallo di tempo\n",
        "                                  #e mi restituisce il numero di giorni in un anno\n",
        "               #siccome voglio aggiungere l'inizio e la fine del range, faccio\n",
        "               pd.to_datetime(int(t[1]), format=\"%Y\") \n",
        "        + pd.Timedelta('%.f days'%((t[1] - int(t[1])) * 365.25))))\n"
      ],
      "execution_count": null,
      "outputs": []
    },
    {
      "cell_type": "code",
      "metadata": {
        "colab": {
          "base_uri": "https://localhost:8080/"
        },
        "id": "-yAc45AHbupc",
        "outputId": "5dd1aaa7-f34d-4855-f603-9f76ae2d2214"
      },
      "source": [
        "ss"
      ],
      "execution_count": null,
      "outputs": [
        {
          "output_type": "execute_result",
          "data": {
            "text/plain": [
              "[(Timestamp('1984-01-01 00:00:00'), Timestamp('1986-07-03 00:00:00')),\n",
              " (Timestamp('1990-04-21 00:00:00'), Timestamp('1992-02-07 00:00:00')),\n",
              " (Timestamp('1994-08-08 00:00:00'), Timestamp('1995-08-08 00:00:00')),\n",
              " (Timestamp('1996-02-07 00:00:00'), Timestamp('1996-07-02 00:00:00')),\n",
              " (Timestamp('1997-01-01 00:00:00'), Timestamp('1997-08-08 00:00:00')),\n",
              " (Timestamp('1997-10-02 00:00:00'), Timestamp('1998-02-25 00:00:00')),\n",
              " (Timestamp('1998-04-02 00:00:00'), Timestamp('1999-05-09 00:00:00')),\n",
              " (Timestamp('2000-07-20 00:00:00'), Timestamp('2000-10-19 00:00:00')),\n",
              " (Timestamp('2000-11-25 00:00:00'), Timestamp('2001-04-02 00:00:00')),\n",
              " (Timestamp('2001-08-08 00:00:00'), Timestamp('2002-01-01 00:00:00')),\n",
              " (Timestamp('2002-07-03 00:00:00'), Timestamp('2003-01-01 00:00:00'))]"
            ]
          },
          "metadata": {
            "tags": []
          },
          "execution_count": 46
        }
      ]
    },
    {
      "cell_type": "markdown",
      "metadata": {
        "id": "62OCxhhub6Iz"
      },
      "source": [
        "**Adesso posso utilizzare questo array per dire: voglio i dati che sono tra questo set di dati.**\n",
        "Allora creo un indice che va tra questi intervalli e verifica se un eq è avvenuto in uno degli intervalli selezionati.\n",
        "\n",
        "Per creare le condizioni sui periodi utilizzo il * come un and e il + come un or."
      ]
    },
    {
      "cell_type": "code",
      "metadata": {
        "colab": {
          "base_uri": "https://localhost:8080/"
        },
        "id": "zX5R9D34cMhC",
        "outputId": "749c51ab-cb4c-4e23-f07f-6e2e71b9b578"
      },
      "source": [
        "gooddates = (((eqdata.datetime >= ss[0][0]) * (eqdata.datetime <= ss[0][1])) +\\\n",
        "        # data between start and end of second time period\n",
        "        ((eqdata.datetime >=ss [1][0]) * (eqdata.datetime <= ss[1][1])) +\\\n",
        "        ((eqdata.datetime >=ss [2][0]) * (eqdata.datetime <= ss[2][1])) +\\\n",
        "        ((eqdata.datetime >=ss [3][0]) * (eqdata.datetime <= ss[3][1])) +\\\n",
        "        ((eqdata.datetime >=ss [4][0]) * (eqdata.datetime <= ss[4][1])) +\\\n",
        "        ((eqdata.datetime >=ss [5][0]) * (eqdata.datetime <= ss[5][1])) +\\\n",
        "        ((eqdata.datetime >=ss [6][0]) * (eqdata.datetime <= ss[6][1])) +\\\n",
        "        ((eqdata.datetime >=ss [7][0]) * (eqdata.datetime <= ss[7][1])) +\\\n",
        "        ((eqdata.datetime >=ss [8][0]) * (eqdata.datetime <= ss[8][1])) +\\\n",
        "        ((eqdata.datetime >=ss [9][0]) * (eqdata.datetime <= ss[9][1])) +\\\n",
        "        # data between start and end of last time period\n",
        "        ((eqdata.datetime >=ss [10][0]) * (eqdata.datetime <= ss[10][1])\\\n",
        "        ).values)\n",
        "\n",
        "gooddates"
      ],
      "execution_count": null,
      "outputs": [
        {
          "output_type": "stream",
          "text": [
            "/usr/local/lib/python3.7/dist-packages/pandas/core/computation/expressions.py:204: UserWarning: evaluating in Python space because the '*' operator is not supported by numexpr for the bool dtype, use '&' instead\n",
            "  f\"evaluating in Python space because the {repr(op_str)} \"\n",
            "/usr/local/lib/python3.7/dist-packages/pandas/core/computation/expressions.py:204: UserWarning: evaluating in Python space because the '+' operator is not supported by numexpr for the bool dtype, use '|' instead\n",
            "  f\"evaluating in Python space because the {repr(op_str)} \"\n"
          ],
          "name": "stderr"
        },
        {
          "output_type": "execute_result",
          "data": {
            "text/plain": [
              "0        True\n",
              "1        True\n",
              "2        True\n",
              "3        True\n",
              "4        True\n",
              "         ... \n",
              "70793    True\n",
              "70794    True\n",
              "70795    True\n",
              "70796    True\n",
              "70797    True\n",
              "Name: datetime, Length: 70798, dtype: bool"
            ]
          },
          "metadata": {
            "tags": []
          },
          "execution_count": 47
        }
      ]
    },
    {
      "cell_type": "code",
      "metadata": {
        "colab": {
          "base_uri": "https://localhost:8080/"
        },
        "id": "Ir0bcR2fc9Vp",
        "outputId": "49b1cb8b-52e3-4684-fbc4-fc6762083bae"
      },
      "source": [
        "np.array(gooddates.sum())"
      ],
      "execution_count": null,
      "outputs": [
        {
          "output_type": "execute_result",
          "data": {
            "text/plain": [
              "array(18852)"
            ]
          },
          "metadata": {
            "tags": []
          },
          "execution_count": 48
        }
      ]
    },
    {
      "cell_type": "code",
      "metadata": {
        "colab": {
          "base_uri": "https://localhost:8080/"
        },
        "id": "IUltu3Rlv-iF",
        "outputId": "83e631dd-3503-4c06-d9ee-fd5cbfd45058"
      },
      "source": [
        "print (\"there are {} earthquakes falling in the selected stationary periods\".\n",
        "       format(gooddates.sum()))"
      ],
      "execution_count": null,
      "outputs": [
        {
          "output_type": "stream",
          "text": [
            "there are 18852 earthquakes falling in the selected stationary periods\n"
          ],
          "name": "stdout"
        }
      ]
    },
    {
      "cell_type": "markdown",
      "metadata": {
        "id": "q0kINyqzjgRe"
      },
      "source": [
        "# Lez7 30032021"
      ]
    },
    {
      "cell_type": "markdown",
      "metadata": {
        "id": "whPmaBUW94JL"
      },
      "source": [
        "LO SVOLGIMENTO DELL'ESERCIZIO DELLA PROF È SU QUESTO LINK\n",
        "https://github.com/fedhere/MLPNS2021/blob/main/NHRT/earthquakesCorrell2018.ipynb"
      ]
    },
    {
      "cell_type": "markdown",
      "metadata": {
        "id": "Tb4fndPhs-qK"
      },
      "source": [
        "Continuiamo il problema della scorsa lezione, come andava svolto.\n",
        "\n",
        "**Il goal è di dimostrare che esiste una scaling law tra la frequenza dei terremoti e la magnitudine di questi.** Cioè i terremoti più forti sono più rari, e sono rari in una relazione tipo power law. \n",
        "\n",
        "Viene dimostrato utilizzando KS test.\n",
        "\n",
        "Vengono contati gli intervalli in tempo che tra terremoti che sono più forti di una certa threshold. \n",
        "\n",
        "Gli autori prendono diversi subsample basati su differnti threshold per la minima mag di un terremoto. Poi applicano uno scaling per ogni subset, e riscalano i terremoti con uno scaling attraverso un parametro che chiamano Rk_tau, ottenendo una distribuzione di tempo tra i terremoti che è una quantità adimensionale.  \n",
        "\n",
        "**Dopodichè dimostrano che tutte queste distribuzioni di time-gaps sono consistenti con il fatto di venire dalla stessa distribuzione.** \n",
        "\n",
        "**CON IL KS TEST POSSIAMO SOLO DIMOSTRARE CHE LE DUE DISTRIBUZIONI VENGONO DA UNA PARENT DISTRIBUTOIN**\n",
        "\n",
        "Si utilizza il KS test per vedere che le distribuzoni dei terrmeoti dopo essere state trattate con una scaling law, sono le stesse."
      ]
    },
    {
      "cell_type": "markdown",
      "metadata": {
        "id": "t6gsG8TUtGeL"
      },
      "source": [
        "NaN stands for \"not a number\"\n",
        "\n",
        "NaT stands for \"not a time\""
      ]
    },
    {
      "cell_type": "markdown",
      "metadata": {
        "id": "w6lCk5ygthaT"
      },
      "source": [
        "L'altra votla abbiamo preso il sample, pulirlo e selzionare i terremoti che avvengono in determinati intervalli di tempo che sono i quiescence time gaps."
      ]
    },
    {
      "cell_type": "markdown",
      "metadata": {
        "id": "7FpuA7I_yQQ_"
      },
      "source": [
        "Nota che abbiamo una varabile dipendente che è la mag e una indipendente che è l'intervallo di tempo che intercorre tra i tempi degli eventi."
      ]
    },
    {
      "cell_type": "code",
      "metadata": {
        "colab": {
          "base_uri": "https://localhost:8080/",
          "height": 424
        },
        "id": "TsOVFAJV0HZJ",
        "outputId": "a3ff6452-4ac1-4346-b92a-1ef3dc237747"
      },
      "source": [
        "eqdata"
      ],
      "execution_count": null,
      "outputs": [
        {
          "output_type": "execute_result",
          "data": {
            "text/html": [
              "<div>\n",
              "<style scoped>\n",
              "    .dataframe tbody tr th:only-of-type {\n",
              "        vertical-align: middle;\n",
              "    }\n",
              "\n",
              "    .dataframe tbody tr th {\n",
              "        vertical-align: top;\n",
              "    }\n",
              "\n",
              "    .dataframe thead th {\n",
              "        text-align: right;\n",
              "    }\n",
              "</style>\n",
              "<table border=\"1\" class=\"dataframe\">\n",
              "  <thead>\n",
              "    <tr style=\"text-align: right;\">\n",
              "      <th></th>\n",
              "      <th>date</th>\n",
              "      <th>time</th>\n",
              "      <th>mag</th>\n",
              "      <th>datetime</th>\n",
              "    </tr>\n",
              "  </thead>\n",
              "  <tbody>\n",
              "    <tr>\n",
              "      <th>0</th>\n",
              "      <td>1984/01/01</td>\n",
              "      <td>01:30:57.52</td>\n",
              "      <td>2.02</td>\n",
              "      <td>1984-01-01 01:30:57.520</td>\n",
              "    </tr>\n",
              "    <tr>\n",
              "      <th>1</th>\n",
              "      <td>1984/01/01</td>\n",
              "      <td>05:31:34.16</td>\n",
              "      <td>2.12</td>\n",
              "      <td>1984-01-01 05:31:34.160</td>\n",
              "    </tr>\n",
              "    <tr>\n",
              "      <th>2</th>\n",
              "      <td>1984/01/01</td>\n",
              "      <td>06:59:05.14</td>\n",
              "      <td>2.43</td>\n",
              "      <td>1984-01-01 06:59:05.140</td>\n",
              "    </tr>\n",
              "    <tr>\n",
              "      <th>3</th>\n",
              "      <td>1984/01/01</td>\n",
              "      <td>11:10:25.29</td>\n",
              "      <td>2.07</td>\n",
              "      <td>1984-01-01 11:10:25.290</td>\n",
              "    </tr>\n",
              "    <tr>\n",
              "      <th>4</th>\n",
              "      <td>1984/01/01</td>\n",
              "      <td>19:38:19.79</td>\n",
              "      <td>2.13</td>\n",
              "      <td>1984-01-01 19:38:19.790</td>\n",
              "    </tr>\n",
              "    <tr>\n",
              "      <th>...</th>\n",
              "      <td>...</td>\n",
              "      <td>...</td>\n",
              "      <td>...</td>\n",
              "      <td>...</td>\n",
              "    </tr>\n",
              "    <tr>\n",
              "      <th>70793</th>\n",
              "      <td>2002/12/29</td>\n",
              "      <td>19:37:24.56</td>\n",
              "      <td>2.21</td>\n",
              "      <td>2002-12-29 19:37:24.560</td>\n",
              "    </tr>\n",
              "    <tr>\n",
              "      <th>70794</th>\n",
              "      <td>2002/12/29</td>\n",
              "      <td>20:17:33.40</td>\n",
              "      <td>2.02</td>\n",
              "      <td>2002-12-29 20:17:33.400</td>\n",
              "    </tr>\n",
              "    <tr>\n",
              "      <th>70795</th>\n",
              "      <td>2002/12/29</td>\n",
              "      <td>20:21:28.73</td>\n",
              "      <td>2.07</td>\n",
              "      <td>2002-12-29 20:21:28.730</td>\n",
              "    </tr>\n",
              "    <tr>\n",
              "      <th>70796</th>\n",
              "      <td>2002/12/30</td>\n",
              "      <td>21:51:52.55</td>\n",
              "      <td>2.31</td>\n",
              "      <td>2002-12-30 21:51:52.550</td>\n",
              "    </tr>\n",
              "    <tr>\n",
              "      <th>70797</th>\n",
              "      <td>2002/12/30</td>\n",
              "      <td>23:38:49.79</td>\n",
              "      <td>2.05</td>\n",
              "      <td>2002-12-30 23:38:49.790</td>\n",
              "    </tr>\n",
              "  </tbody>\n",
              "</table>\n",
              "<p>70798 rows × 4 columns</p>\n",
              "</div>"
            ],
            "text/plain": [
              "             date         time   mag                datetime\n",
              "0      1984/01/01  01:30:57.52  2.02 1984-01-01 01:30:57.520\n",
              "1      1984/01/01  05:31:34.16  2.12 1984-01-01 05:31:34.160\n",
              "2      1984/01/01  06:59:05.14  2.43 1984-01-01 06:59:05.140\n",
              "3      1984/01/01  11:10:25.29  2.07 1984-01-01 11:10:25.290\n",
              "4      1984/01/01  19:38:19.79  2.13 1984-01-01 19:38:19.790\n",
              "...           ...          ...   ...                     ...\n",
              "70793  2002/12/29  19:37:24.56  2.21 2002-12-29 19:37:24.560\n",
              "70794  2002/12/29  20:17:33.40  2.02 2002-12-29 20:17:33.400\n",
              "70795  2002/12/29  20:21:28.73  2.07 2002-12-29 20:21:28.730\n",
              "70796  2002/12/30  21:51:52.55  2.31 2002-12-30 21:51:52.550\n",
              "70797  2002/12/30  23:38:49.79  2.05 2002-12-30 23:38:49.790\n",
              "\n",
              "[70798 rows x 4 columns]"
            ]
          },
          "metadata": {
            "tags": []
          },
          "execution_count": 50
        }
      ]
    },
    {
      "cell_type": "markdown",
      "metadata": {
        "id": "RGB-Dstv03sl"
      },
      "source": [
        "broadcasting to create a dataframe with the good date only\n"
      ]
    },
    {
      "cell_type": "code",
      "metadata": {
        "colab": {
          "base_uri": "https://localhost:8080/"
        },
        "id": "qO_Yq1p6zAEV",
        "outputId": "42c048cb-77ec-43e0-a359-380c83a83e11"
      },
      "source": [
        "eqGoodData = eqdata[gooddates]\n",
        "eqGoodData.shape"
      ],
      "execution_count": null,
      "outputs": [
        {
          "output_type": "execute_result",
          "data": {
            "text/plain": [
              "(18852, 4)"
            ]
          },
          "metadata": {
            "tags": []
          },
          "execution_count": 51
        }
      ]
    },
    {
      "cell_type": "markdown",
      "metadata": {
        "id": "gEerggkgz3ge"
      },
      "source": [
        "Seguendo l'articolo dobbiamo selezionare le magnitudine maggiori di 2 e poi un altro subset con magnitudine maggiori 4:"
      ]
    },
    {
      "cell_type": "code",
      "metadata": {
        "colab": {
          "base_uri": "https://localhost:8080/",
          "height": 424
        },
        "id": "958fWZIk1LMm",
        "outputId": "4b5d9ea5-c2ba-4cb2-9e95-4e7d79f5ebbe"
      },
      "source": [
        "eqGoodData2 = eqGoodData[eqGoodData.mag >= 2.0]\n",
        "eqGoodData2"
      ],
      "execution_count": null,
      "outputs": [
        {
          "output_type": "execute_result",
          "data": {
            "text/html": [
              "<div>\n",
              "<style scoped>\n",
              "    .dataframe tbody tr th:only-of-type {\n",
              "        vertical-align: middle;\n",
              "    }\n",
              "\n",
              "    .dataframe tbody tr th {\n",
              "        vertical-align: top;\n",
              "    }\n",
              "\n",
              "    .dataframe thead th {\n",
              "        text-align: right;\n",
              "    }\n",
              "</style>\n",
              "<table border=\"1\" class=\"dataframe\">\n",
              "  <thead>\n",
              "    <tr style=\"text-align: right;\">\n",
              "      <th></th>\n",
              "      <th>date</th>\n",
              "      <th>time</th>\n",
              "      <th>mag</th>\n",
              "      <th>datetime</th>\n",
              "    </tr>\n",
              "  </thead>\n",
              "  <tbody>\n",
              "    <tr>\n",
              "      <th>0</th>\n",
              "      <td>1984/01/01</td>\n",
              "      <td>01:30:57.52</td>\n",
              "      <td>2.02</td>\n",
              "      <td>1984-01-01 01:30:57.520</td>\n",
              "    </tr>\n",
              "    <tr>\n",
              "      <th>1</th>\n",
              "      <td>1984/01/01</td>\n",
              "      <td>05:31:34.16</td>\n",
              "      <td>2.12</td>\n",
              "      <td>1984-01-01 05:31:34.160</td>\n",
              "    </tr>\n",
              "    <tr>\n",
              "      <th>2</th>\n",
              "      <td>1984/01/01</td>\n",
              "      <td>06:59:05.14</td>\n",
              "      <td>2.43</td>\n",
              "      <td>1984-01-01 06:59:05.140</td>\n",
              "    </tr>\n",
              "    <tr>\n",
              "      <th>3</th>\n",
              "      <td>1984/01/01</td>\n",
              "      <td>11:10:25.29</td>\n",
              "      <td>2.07</td>\n",
              "      <td>1984-01-01 11:10:25.290</td>\n",
              "    </tr>\n",
              "    <tr>\n",
              "      <th>4</th>\n",
              "      <td>1984/01/01</td>\n",
              "      <td>19:38:19.79</td>\n",
              "      <td>2.13</td>\n",
              "      <td>1984-01-01 19:38:19.790</td>\n",
              "    </tr>\n",
              "    <tr>\n",
              "      <th>...</th>\n",
              "      <td>...</td>\n",
              "      <td>...</td>\n",
              "      <td>...</td>\n",
              "      <td>...</td>\n",
              "    </tr>\n",
              "    <tr>\n",
              "      <th>70793</th>\n",
              "      <td>2002/12/29</td>\n",
              "      <td>19:37:24.56</td>\n",
              "      <td>2.21</td>\n",
              "      <td>2002-12-29 19:37:24.560</td>\n",
              "    </tr>\n",
              "    <tr>\n",
              "      <th>70794</th>\n",
              "      <td>2002/12/29</td>\n",
              "      <td>20:17:33.40</td>\n",
              "      <td>2.02</td>\n",
              "      <td>2002-12-29 20:17:33.400</td>\n",
              "    </tr>\n",
              "    <tr>\n",
              "      <th>70795</th>\n",
              "      <td>2002/12/29</td>\n",
              "      <td>20:21:28.73</td>\n",
              "      <td>2.07</td>\n",
              "      <td>2002-12-29 20:21:28.730</td>\n",
              "    </tr>\n",
              "    <tr>\n",
              "      <th>70796</th>\n",
              "      <td>2002/12/30</td>\n",
              "      <td>21:51:52.55</td>\n",
              "      <td>2.31</td>\n",
              "      <td>2002-12-30 21:51:52.550</td>\n",
              "    </tr>\n",
              "    <tr>\n",
              "      <th>70797</th>\n",
              "      <td>2002/12/30</td>\n",
              "      <td>23:38:49.79</td>\n",
              "      <td>2.05</td>\n",
              "      <td>2002-12-30 23:38:49.790</td>\n",
              "    </tr>\n",
              "  </tbody>\n",
              "</table>\n",
              "<p>18852 rows × 4 columns</p>\n",
              "</div>"
            ],
            "text/plain": [
              "             date         time   mag                datetime\n",
              "0      1984/01/01  01:30:57.52  2.02 1984-01-01 01:30:57.520\n",
              "1      1984/01/01  05:31:34.16  2.12 1984-01-01 05:31:34.160\n",
              "2      1984/01/01  06:59:05.14  2.43 1984-01-01 06:59:05.140\n",
              "3      1984/01/01  11:10:25.29  2.07 1984-01-01 11:10:25.290\n",
              "4      1984/01/01  19:38:19.79  2.13 1984-01-01 19:38:19.790\n",
              "...           ...          ...   ...                     ...\n",
              "70793  2002/12/29  19:37:24.56  2.21 2002-12-29 19:37:24.560\n",
              "70794  2002/12/29  20:17:33.40  2.02 2002-12-29 20:17:33.400\n",
              "70795  2002/12/29  20:21:28.73  2.07 2002-12-29 20:21:28.730\n",
              "70796  2002/12/30  21:51:52.55  2.31 2002-12-30 21:51:52.550\n",
              "70797  2002/12/30  23:38:49.79  2.05 2002-12-30 23:38:49.790\n",
              "\n",
              "[18852 rows x 4 columns]"
            ]
          },
          "metadata": {
            "tags": []
          },
          "execution_count": 52
        }
      ]
    },
    {
      "cell_type": "markdown",
      "metadata": {
        "id": "_OuyLZ1k1Vhv"
      },
      "source": [
        "non ho nessuna modifica perchè nei miei dati non avevo mag>2, per come abbiamo ricavato i dati.\n",
        "\n",
        "L'altro passaggio è creare la variabile gap che serve per le date. Quando manipoliamo input variable per creare variabili chervono si chiama **FEATURE ENGINEERING**."
      ]
    },
    {
      "cell_type": "markdown",
      "metadata": {
        "id": "3nIMvuJ-2LUi"
      },
      "source": [
        "**In pandas posso avere la data come un np array con l'attributo \".values\": series.values**\n",
        "\n",
        "Mentre con diff( ) ottengo il time gap tra due terremoti consecutivi."
      ]
    },
    {
      "cell_type": "code",
      "metadata": {
        "colab": {
          "base_uri": "https://localhost:8080/"
        },
        "id": "wLbrw1gE3Y5x",
        "outputId": "ab843569-cbcf-4b65-84f1-646d1d42b683"
      },
      "source": [
        "eqdata.datetime"
      ],
      "execution_count": null,
      "outputs": [
        {
          "output_type": "execute_result",
          "data": {
            "text/plain": [
              "0       1984-01-01 01:30:57.520\n",
              "1       1984-01-01 05:31:34.160\n",
              "2       1984-01-01 06:59:05.140\n",
              "3       1984-01-01 11:10:25.290\n",
              "4       1984-01-01 19:38:19.790\n",
              "                  ...          \n",
              "70793   2002-12-29 19:37:24.560\n",
              "70794   2002-12-29 20:17:33.400\n",
              "70795   2002-12-29 20:21:28.730\n",
              "70796   2002-12-30 21:51:52.550\n",
              "70797   2002-12-30 23:38:49.790\n",
              "Name: datetime, Length: 70798, dtype: datetime64[ns]"
            ]
          },
          "metadata": {
            "tags": []
          },
          "execution_count": 53
        }
      ]
    },
    {
      "cell_type": "code",
      "metadata": {
        "colab": {
          "base_uri": "https://localhost:8080/"
        },
        "id": "g2-oMwzt2_YY",
        "outputId": "ab0396b0-2fcc-4635-8f80-488514a374ea"
      },
      "source": [
        "#quello che fa diff() è una cosa del genere\n",
        "eqdata.datetime.values[1:] - eqdata.datetime.values[:-1]"
      ],
      "execution_count": null,
      "outputs": [
        {
          "output_type": "execute_result",
          "data": {
            "text/plain": [
              "array([14436640000000,  5250980000000, 15080150000000, ...,\n",
              "         235330000000, 91823820000000,  6417240000000],\n",
              "      dtype='timedelta64[ns]')"
            ]
          },
          "metadata": {
            "tags": []
          },
          "execution_count": 54
        }
      ]
    },
    {
      "cell_type": "code",
      "metadata": {
        "colab": {
          "base_uri": "https://localhost:8080/"
        },
        "id": "QJBV1QfR3b_g",
        "outputId": "110b1139-1f8a-4daa-8de9-8db6a2995a04"
      },
      "source": [
        "eqdata.datetime.diff()"
      ],
      "execution_count": null,
      "outputs": [
        {
          "output_type": "execute_result",
          "data": {
            "text/plain": [
              "0                          NaT\n",
              "1       0 days 04:00:36.640000\n",
              "2       0 days 01:27:30.980000\n",
              "3       0 days 04:11:20.150000\n",
              "4       0 days 08:27:54.500000\n",
              "                 ...          \n",
              "70793   0 days 00:00:30.140000\n",
              "70794   0 days 00:40:08.840000\n",
              "70795   0 days 00:03:55.330000\n",
              "70796   1 days 01:30:23.820000\n",
              "70797   0 days 01:46:57.240000\n",
              "Name: datetime, Length: 70798, dtype: timedelta64[ns]"
            ]
          },
          "metadata": {
            "tags": []
          },
          "execution_count": 55
        }
      ]
    },
    {
      "cell_type": "code",
      "metadata": {
        "colab": {
          "base_uri": "https://localhost:8080/"
        },
        "id": "3wskH_qQ1wX2",
        "outputId": "d1478abf-72db-4207-f97c-af26788f0ce8"
      },
      "source": [
        "eqGoodData['gaps'] = eqGoodData.datetime.diff().values.astype(float)\n",
        "eqGoodData.shape"
      ],
      "execution_count": null,
      "outputs": [
        {
          "output_type": "stream",
          "text": [
            "/usr/local/lib/python3.7/dist-packages/ipykernel_launcher.py:1: SettingWithCopyWarning: \n",
            "A value is trying to be set on a copy of a slice from a DataFrame.\n",
            "Try using .loc[row_indexer,col_indexer] = value instead\n",
            "\n",
            "See the caveats in the documentation: https://pandas.pydata.org/pandas-docs/stable/user_guide/indexing.html#returning-a-view-versus-a-copy\n",
            "  \"\"\"Entry point for launching an IPython kernel.\n"
          ],
          "name": "stderr"
        },
        {
          "output_type": "execute_result",
          "data": {
            "text/plain": [
              "(18852, 5)"
            ]
          },
          "metadata": {
            "tags": []
          },
          "execution_count": 56
        }
      ]
    },
    {
      "cell_type": "code",
      "metadata": {
        "colab": {
          "base_uri": "https://localhost:8080/",
          "height": 206
        },
        "id": "pcB_FYhX19x4",
        "outputId": "2fc5f355-b5be-4c7b-a368-42959b1fff39"
      },
      "source": [
        "eqGoodData.head()"
      ],
      "execution_count": null,
      "outputs": [
        {
          "output_type": "execute_result",
          "data": {
            "text/html": [
              "<div>\n",
              "<style scoped>\n",
              "    .dataframe tbody tr th:only-of-type {\n",
              "        vertical-align: middle;\n",
              "    }\n",
              "\n",
              "    .dataframe tbody tr th {\n",
              "        vertical-align: top;\n",
              "    }\n",
              "\n",
              "    .dataframe thead th {\n",
              "        text-align: right;\n",
              "    }\n",
              "</style>\n",
              "<table border=\"1\" class=\"dataframe\">\n",
              "  <thead>\n",
              "    <tr style=\"text-align: right;\">\n",
              "      <th></th>\n",
              "      <th>date</th>\n",
              "      <th>time</th>\n",
              "      <th>mag</th>\n",
              "      <th>datetime</th>\n",
              "      <th>gaps</th>\n",
              "    </tr>\n",
              "  </thead>\n",
              "  <tbody>\n",
              "    <tr>\n",
              "      <th>0</th>\n",
              "      <td>1984/01/01</td>\n",
              "      <td>01:30:57.52</td>\n",
              "      <td>2.02</td>\n",
              "      <td>1984-01-01 01:30:57.520</td>\n",
              "      <td>-9.223372e+18</td>\n",
              "    </tr>\n",
              "    <tr>\n",
              "      <th>1</th>\n",
              "      <td>1984/01/01</td>\n",
              "      <td>05:31:34.16</td>\n",
              "      <td>2.12</td>\n",
              "      <td>1984-01-01 05:31:34.160</td>\n",
              "      <td>1.443664e+13</td>\n",
              "    </tr>\n",
              "    <tr>\n",
              "      <th>2</th>\n",
              "      <td>1984/01/01</td>\n",
              "      <td>06:59:05.14</td>\n",
              "      <td>2.43</td>\n",
              "      <td>1984-01-01 06:59:05.140</td>\n",
              "      <td>5.250980e+12</td>\n",
              "    </tr>\n",
              "    <tr>\n",
              "      <th>3</th>\n",
              "      <td>1984/01/01</td>\n",
              "      <td>11:10:25.29</td>\n",
              "      <td>2.07</td>\n",
              "      <td>1984-01-01 11:10:25.290</td>\n",
              "      <td>1.508015e+13</td>\n",
              "    </tr>\n",
              "    <tr>\n",
              "      <th>4</th>\n",
              "      <td>1984/01/01</td>\n",
              "      <td>19:38:19.79</td>\n",
              "      <td>2.13</td>\n",
              "      <td>1984-01-01 19:38:19.790</td>\n",
              "      <td>3.047450e+13</td>\n",
              "    </tr>\n",
              "  </tbody>\n",
              "</table>\n",
              "</div>"
            ],
            "text/plain": [
              "         date         time   mag                datetime          gaps\n",
              "0  1984/01/01  01:30:57.52  2.02 1984-01-01 01:30:57.520 -9.223372e+18\n",
              "1  1984/01/01  05:31:34.16  2.12 1984-01-01 05:31:34.160  1.443664e+13\n",
              "2  1984/01/01  06:59:05.14  2.43 1984-01-01 06:59:05.140  5.250980e+12\n",
              "3  1984/01/01  11:10:25.29  2.07 1984-01-01 11:10:25.290  1.508015e+13\n",
              "4  1984/01/01  19:38:19.79  2.13 1984-01-01 19:38:19.790  3.047450e+13"
            ]
          },
          "metadata": {
            "tags": []
          },
          "execution_count": 57
        }
      ]
    },
    {
      "cell_type": "markdown",
      "metadata": {
        "id": "A4T57zUo2hV5"
      },
      "source": [
        "Since the first time gap is NaT (because it is the difference between the firse eq and nothing, because it is the first..) I remove the first element"
      ]
    },
    {
      "cell_type": "code",
      "metadata": {
        "colab": {
          "base_uri": "https://localhost:8080/"
        },
        "id": "_0l0d0x_4I1S",
        "outputId": "8f06a880-5096-45ae-94ce-a5aab1278379"
      },
      "source": [
        "eqGoodData = eqGoodData.iloc[1:]  #iloc[1:] means the position from the 1-st to the last \n",
        "eqGoodData.shape"
      ],
      "execution_count": null,
      "outputs": [
        {
          "output_type": "execute_result",
          "data": {
            "text/plain": [
              "(18851, 5)"
            ]
          },
          "metadata": {
            "tags": []
          },
          "execution_count": 58
        }
      ]
    },
    {
      "cell_type": "markdown",
      "metadata": {
        "id": "ToKzLLbJ4RzS"
      },
      "source": [
        "#data exploration"
      ]
    },
    {
      "cell_type": "markdown",
      "metadata": {
        "id": "uJfzIYma4rEZ"
      },
      "source": [
        "At this point you should wonder if this is the final dataset that you want to use and if anything is weird or suspicious about it. \n",
        "\n",
        "So visualize the distribution. \n",
        "\n",
        "A good way to visualize distributions is a histogram which you can prodice with pl.hist() or as a method of your dataframe series as df[SeriesName].plot(kind=\"hist\"). Produce a plot like the one below (label the axis! and describe it with a caption!). To get the logarithmic y axis you can se logy=True, for example. in your df[SeriesName].plot call.\n",
        "\n",
        "The other thing is to remove the outliers."
      ]
    },
    {
      "cell_type": "code",
      "metadata": {
        "colab": {
          "base_uri": "https://localhost:8080/",
          "height": 338
        },
        "id": "T50OZraP4xgz",
        "outputId": "fbc605e2-cb0e-4249-b0e4-694f3e4964b2"
      },
      "source": [
        "eqGoodData.gaps.plot(kind='hist', logy=True); #I am saying \"plot yourself with a series\""
      ],
      "execution_count": null,
      "outputs": [
        {
          "output_type": "stream",
          "text": [
            "findfont: Font family ['[\"sans-serif\"]'] not found. Falling back to DejaVu Sans.\n",
            "findfont: Font family ['[\"sans-serif\"]'] not found. Falling back to DejaVu Sans.\n"
          ],
          "name": "stderr"
        },
        {
          "output_type": "display_data",
          "data": {
            "image/png": "[encoded data removed]",
            "text/plain": [
              "<Figure size 432x288 with 1 Axes>"
            ]
          },
          "metadata": {
            "tags": []
          }
        }
      ]
    },
    {
      "cell_type": "markdown",
      "metadata": {
        "id": "z4TcBHNe5dPz"
      },
      "source": [
        "So I can see there is a significant outliers.\n",
        "Too see better the problem let's plot a normalized distributoin"
      ]
    },
    {
      "cell_type": "code",
      "metadata": {
        "colab": {
          "base_uri": "https://localhost:8080/",
          "height": 303
        },
        "id": "oFfk7bn05ngl",
        "outputId": "390d5b5f-657c-45f6-ac48-dd8d0a733777"
      },
      "source": [
        "pl.hist(eqGoodData.gaps, density=1, log=True);"
      ],
      "execution_count": null,
      "outputs": [
        {
          "output_type": "display_data",
          "data": {
            "image/png": "[encoded data removed]",
            "text/plain": [
              "<Figure size 432x288 with 1 Axes>"
            ]
          },
          "metadata": {
            "tags": []
          }
        }
      ]
    },
    {
      "cell_type": "markdown",
      "metadata": {
        "id": "p0-8djDR53S5"
      },
      "source": [
        "The thing that worries me is that by removing some sections of the data to use only stationary periods we created some artificially large gaps: gaps of order ~month. How many nanoseconds in a month? remove all gaps that are larger than about a month and see how the distribution looks (make another histogram)."
      ]
    },
    {
      "cell_type": "code",
      "metadata": {
        "id": "DfE9AWDE6AtU"
      },
      "source": [
        "monthgap = 2.628e+15\n",
        "\n",
        "eqGoodData = eqGoodData[eqGoodData.gaps < monthgap]"
      ],
      "execution_count": null,
      "outputs": []
    },
    {
      "cell_type": "code",
      "metadata": {
        "colab": {
          "base_uri": "https://localhost:8080/",
          "height": 303
        },
        "id": "xi3SdBBr6XpK",
        "outputId": "466677a7-c9e6-4907-9178-03679e057999"
      },
      "source": [
        "pl.hist(eqGoodData.gaps, density=1, log=True);"
      ],
      "execution_count": null,
      "outputs": [
        {
          "output_type": "display_data",
          "data": {
            "image/png": "[encoded data removed]",
            "text/plain": [
              "<Figure size 432x288 with 1 Axes>"
            ]
          },
          "metadata": {
            "tags": []
          }
        }
      ]
    },
    {
      "cell_type": "markdown",
      "metadata": {
        "id": "9f12qfOb6aLe"
      },
      "source": [
        "#data analysis\n",
        "\n",
        "##**important:** the paper does not do it but I want you to formally choose a threshold before you do this test. Choose a p-value (=$\\alpha$ thresold) of 3-$\\sigma$.\n",
        "\n",
        "\n",
        "3-$\\sigma$ corresponds to a $\\alpha$ = 0.01 bacause μ ± 3σ -->\t0.997300203936740, we need 0.003 to get 100% of the data in the gaussian. Dal momento che questa è simmetrica, prendiamo la metà di 0.003, cioè 0.0015 perchè ci interessa la distanza e consideriamo solo un lato della gaussiana (one sided).\n",
        "\n",
        "\"This reflects whether one is quoting a probability of a Normal observation being more than 5-sigmas away from the expected value in the direction of interest (one-sided), or either direction (two-sided). The two-sided P-value is twice the one-sided, and therefore looks less interesting.(http://understandinguncertainty.org/higgs-it-one-sided-or-two-sided"
      ]
    },
    {
      "cell_type": "markdown",
      "metadata": {
        "id": "r118SU7mGSUn"
      },
      "source": [
        ""
      ]
    },
    {
      "cell_type": "code",
      "metadata": {
        "id": "gB_jCh9i6j4z"
      },
      "source": [
        "alpha = 0.003"
      ],
      "execution_count": null,
      "outputs": []
    },
    {
      "cell_type": "markdown",
      "metadata": {
        "id": "sBUIjsOV8Pan"
      },
      "source": [
        "**Now I need to rescale my sample to reproduce the scaled version of the sybsets, to do the ks test**.\n",
        "\n",
        "Nota che nel paper prendono subset di terremori che vanno in base alle differenti soglie, esempio: eq maggiori di 2, poi eq maggiori si 2.5, eq > 3, ecc..\n",
        "\n",
        "Tutti questi subset sono i sample che utilizzerò nel ks test."
      ]
    },
    {
      "cell_type": "markdown",
      "metadata": {
        "id": "RiORAWO_5t6N"
      },
      "source": [
        "Come si può leggere dall'articolo:\n",
        "\n",
        "The usual way to establish the validity of a scaling law, is by plotting the different rescaled quantities together (in our case inter-event-time distributions for different thresholds) and judge visually if they collapse onto a single curve or not.\n",
        "\n",
        "Notice that we have to compare the distributions of seismicity for M≥Mk and M≥Ml after rescaling, i.e., as a function of Rkτ and Rlτ, respectively (otherwise,without rescaling, the distributions cannot be the same). In orderto do that, foreach data set, we first calculate the mean value of the inter-event time,〈τ〉k= (Rk)^−1,and then, we disregard inter-event time values such that Rkτ < m. The elimination of the smallest values increases the mean value of the remaining rescaled inter-event times, so, we repeat the procedure: we recalculate the mean inter-event timeand rescale again the data by the new rate, disregarding those values below m.\n",
        "\n",
        "The resulting data set has a mean value very close to one. We will assume that this procedure does not invalidate the applicability of the formulas we use for thecalculation of the p−value."
      ]
    },
    {
      "cell_type": "code",
      "metadata": {
        "colab": {
          "base_uri": "https://localhost:8080/",
          "height": 1000
        },
        "id": "oYC33BFx6_2l",
        "outputId": "d3b889fd-a1b8-4fc0-f5ca-c062bc2c8389"
      },
      "source": [
        "def rescale(df, threshold=0.01):\n",
        "    times = [] # container for all arrays of rescaled time gaps (for 5 magnitude thresholds)\n",
        "    hss = [] # container for heights of histograms\n",
        "    binss = [] # container for bins of histograms\n",
        "\n",
        "    for m in [2, 2.5, 3, 3.5, 4]:\n",
        "        #select magnitude and convert to floating point numbers\n",
        "        tmp = df['datetime'][df.mag >= m].diff().values[1:].astype(float)\n",
        "        print(\"original data size:\", len(tmp))\n",
        "    \n",
        "        tmp = tmp[tmp < 3e16]\n",
        "        print(\"removing time gaps that are too long. new size:\", len(tmp))\n",
        "\n",
        "        #riscalo i sample e lo faccio due volte perchè quando riscalo, cambio i \n",
        "        #numeri. E lo faccio 2 volte per assicurarmi che non sto modificando\n",
        "        #il numero di oggetti.\n",
        "        rs = tmp.mean()\n",
        "        print(\"mean unrescaled time gap {:.3f}\".format(rs))\n",
        "        tmp = tmp[tmp / rs >= threshold] / rs #THIS IS \"STANDARDIZE THE SAMPLE\"\n",
        "        print(\"removing time gaps too small, first pass: new size\", len(tmp))\n",
        "   \n",
        "        rs = tmp.mean()\n",
        "        print(\"mean unrescaled time gap {:.3f}\".format(rs))\n",
        "        tmp = tmp[tmp / rs >= threshold] / rs\n",
        "        print(\"removing time gaps too small, second pass: new size\", len(tmp))\n",
        " \n",
        "        rs = tmp.mean()\n",
        "        print(\"mean unrescaled time gap {:.3f}\".format(rs))\n",
        "\n",
        "        #rescale one more time\n",
        "        tmp = tmp / rs    \n",
        "        print(\"  \")\n",
        "    \n",
        "        #turning into log space\n",
        "        times.append(np.log10(tmp)) \n",
        "\n",
        "        #calculate the histogram of the last array of times (the one that you just calculated)\n",
        "        hs, bins, patch= pl.hist(times[-1], \n",
        "                             cumulative=True, density=1, histtype=\"step\", label=\"mag > %.1f\"%m)\n",
        "        hss.append(hs)\n",
        "        binss.append(bins)\n",
        "\n",
        "    pl.legend(fontsize=10)\n",
        "    pl.xlabel(\"x (normalized time gap)\")\n",
        "    pl.ylabel(\"P(gap > x)\")\n",
        "    return binss, hss, times\n",
        "  \n",
        "binss, hss, times = rescale(eqGoodData, threshold=0.01)"
      ],
      "execution_count": null,
      "outputs": [
        {
          "output_type": "stream",
          "text": [
            "findfont: Font family ['[\"sans-serif\"]'] not found. Falling back to DejaVu Sans.\n"
          ],
          "name": "stderr"
        },
        {
          "output_type": "stream",
          "text": [
            "original data size: 18840\n",
            "removing time gaps that are too long. new size: 18837\n",
            "mean unrescaled time gap 19250664939215.375\n",
            "removing time gaps too small, first pass: new size 17850\n",
            "mean unrescaled time gap 1.055\n",
            "removing time gaps too small, second pass: new size 17821\n",
            "mean unrescaled time gap 1.002\n",
            "  \n",
            "original data size: 5719\n",
            "removing time gaps that are too long. new size: 5716\n",
            "mean unrescaled time gap 63383511726731.977\n",
            "removing time gaps too small, first pass: new size 5339\n",
            "mean unrescaled time gap 1.070\n",
            "removing time gaps too small, second pass: new size 5319\n",
            "mean unrescaled time gap 1.004\n",
            "  \n",
            "original data size: 1463\n",
            "removing time gaps that are too long. new size: 1460\n",
            "mean unrescaled time gap 247595145239726.031\n",
            "removing time gaps too small, first pass: new size 1322\n",
            "mean unrescaled time gap 1.104\n",
            "removing time gaps too small, second pass: new size 1318\n",
            "mean unrescaled time gap 1.003\n",
            "  \n",
            "original data size: 428\n",
            "removing time gaps that are too long. new size: 425\n",
            "mean unrescaled time gap 842292184823529.375\n",
            "removing time gaps too small, first pass: new size 377\n",
            "mean unrescaled time gap 1.127\n",
            "removing time gaps too small, second pass: new size 374\n",
            "mean unrescaled time gap 1.008\n",
            "  \n",
            "original data size: 119\n",
            "removing time gaps that are too long. new size: 116\n",
            "mean unrescaled time gap 2950855345775862.000\n",
            "removing time gaps too small, first pass: new size 103\n",
            "mean unrescaled time gap 1.126\n",
            "removing time gaps too small, second pass: new size 103\n",
            "mean unrescaled time gap 1.000\n",
            "  \n"
          ],
          "name": "stdout"
        },
        {
          "output_type": "display_data",
          "data": {
            "image/png": "[encoded data removed]",
            "text/plain": [
              "<Figure size 432x288 with 1 Axes>"
            ]
          },
          "metadata": {
            "tags": []
          }
        }
      ]
    },
    {
      "cell_type": "markdown",
      "metadata": {
        "id": "j1MHtvcL9qkp"
      },
      "source": [
        "Now I compare all the sampmle with scipy.ks_2samp"
      ]
    },
    {
      "cell_type": "code",
      "metadata": {
        "colab": {
          "base_uri": "https://localhost:8080/",
          "height": 473
        },
        "id": "0eDdI_qp9c1a",
        "outputId": "d2854d23-3abd-40ef-a390-ecb74ed95141"
      },
      "source": [
        "for i in range(5):\n",
        "    pl.plot(binss[i][:-1], hss[i], 'k-',  alpha=0.5)\n",
        "    pl.plot(binss[i][:-1], hss[i], 'o', label=\"%d\"%i)\n",
        "    for j in range(i+1,5):\n",
        "        print(i,j, len(times[i]), sp.stats.ks_2samp(times[i], times[j]))\n",
        "\n",
        "pl.legend()\n",
        "pl.xlabel(\"x/Rs\")\n",
        "pl.ylabel(\"p(x > x/Rs)\");"
      ],
      "execution_count": null,
      "outputs": [
        {
          "output_type": "stream",
          "text": [
            "0 1 17819 Ks_2sampResult(statistic=0.018517837989895286, pvalue=0.12046799964677066)\n",
            "0 2 17819 Ks_2sampResult(statistic=0.022037439193181907, pvalue=0.590274681147744)\n",
            "0 3 17819 Ks_2sampResult(statistic=0.030812660763176236, pvalue=0.8775799384714779)\n",
            "0 4 17819 Ks_2sampResult(statistic=0.08636848307985856, pvalue=0.42957955899688754)\n",
            "1 2 5319 Ks_2sampResult(statistic=0.029803826919900342, pvalue=1.0)\n",
            "1 3 5319 Ks_2sampResult(statistic=0.03885978326109708, pvalue=0.6513691780352857)\n",
            "1 4 5319 Ks_2sampResult(statistic=0.10036743164730942, pvalue=0.24351890767478512)\n",
            "2 3 1318 Ks_2sampResult(statistic=0.04470799217742001, pvalue=0.5862742653986428)\n",
            "2 4 1318 Ks_2sampResult(statistic=0.07794245473429881, pvalue=0.57802209524943)\n",
            "3 4 374 Ks_2sampResult(statistic=0.09111676444629044, pvalue=0.4807578120256528)\n"
          ],
          "name": "stdout"
        },
        {
          "output_type": "display_data",
          "data": {
            "image/png": "[encoded data removed]",
            "text/plain": [
              "<Figure size 432x288 with 1 Axes>"
            ]
          },
          "metadata": {
            "tags": []
          }
        }
      ]
    },
    {
      "cell_type": "markdown",
      "metadata": {
        "id": "Jj0-NouG8Y15"
      },
      "source": [
        "**If the KS statistic is small or the p-value is high, then we cannot reject the hypothesis that the distributions of the two samples are the same.**\n",
        "\n",
        "La \"statistic\" che ritorna il ks-test è il pivotal quantity del ks test che sarebbe la massima distanza tra le due distribuzioni cumulative.\n",
        "\n",
        "Nella tabella abbiamo scritto la size del sample perchè questo è importante. Se faccio il ks test tra due sample di 500,  e poi faccio il ks testa tra sample di 5000 elementi. Se ottengo un valore della statistica uguale per il 2 ks-test, il p-value per la legge dei grandi numeri, allora ho più confidence that the samplea are at that distance. \n",
        "\n",
        "**When the size of the sample il small, my result is weaker, so the p-value will be larger (because weaker mean farther away to reject --> weaker). BASED ON THE SAME STATISTICS, The p-value will be smaller il the sample size iS larger. The p-value is inverse proportional to the size of the sample.**\n"
      ]
    },
    {
      "cell_type": "markdown",
      "metadata": {
        "id": "7-342-3t9xcg"
      },
      "source": [
        "**Based on the table showed in the teacher's nb we cannot reject the NH, beacuse all the p-value (upper triangular table) are all > than alpha.**\n",
        "\n",
        "L'ipotesi è che le distribuzioni dei terremoti vengono dalla stessa time distirbution. Perciò non possiamo rigettare che siano le stesse, perciò non si può rigettare che esiste una scaling law tra i terremoti.\n",
        "\n",
        "In questo paper le ipotesi sono state fatte al contrario di come facciamo di solito. Cioè non rigettando la NH abbiamo detto che la nostra ipotesi innovativa non si può scartare e quindi potrebbe esserci una scaling law tra i terremoti. Mentre di solito quello che vogliamo fare è rigettare la NH (modello da voler scartare) per dare credibilità all'ipotesi alternativa (modello che vogliamo confermare)."
      ]
    }
  ]
}