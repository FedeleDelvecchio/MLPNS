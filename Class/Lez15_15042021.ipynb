{
  "nbformat": 4,
  "nbformat_minor": 0,
  "metadata": {
    "colab": {
      "name": "Lez15 15042021.ipynb",
      "provenance": [],
      "collapsed_sections": [],
      "authorship_tag": "ABX9TyMui9jpZdxviLWvJjQQ2O3M",
      "include_colab_link": true
    },
    "kernelspec": {
      "name": "python3",
      "display_name": "Python 3"
    },
    "language_info": {
      "name": "python"
    }
  },
  "cells": [
    {
      "cell_type": "markdown",
      "metadata": {
        "id": "view-in-github",
        "colab_type": "text"
      },
      "source": [
        "<a href=\"https://colab.research.google.com/github/FedeleDelvecchio/MLPNS/blob/main/Class/Lez15_15042021.ipynb\" target=\"_parent\"><img src=\"https://colab.research.google.com/assets/colab-badge.svg\" alt=\"Open In Colab\"/></a>"
      ]
    },
    {
      "cell_type": "markdown",
      "metadata": {
        "id": "VOg7tbU5REtd"
      },
      "source": [
        "Graphviz package permette di vedere dangeoun graph (tipo albero) e altre cose.\n",
        "\n",
        "###**Il modello sklearn utilizza il gini index (non confondere con il gini coefficient), dove la probability del Gini index si interpreta come la stessa cosa della purezza, perchè ha comunque un'interpretazione probabilistica. Il Gini index è la variazione della purity** Il Gini index somma su tutte le classi, quindi mi consente di tenere conto di più di una classe.\n",
        "\n",
        "**Sample** è la dimensione del gruppo all'interno del nodo. Cioè posso richiedere che le le foglie dell'albero abbiamo una dimensione maggiore di 3 passeggeri (nell'esempio del titanic).\n",
        "\n",
        "https://github.com/fedhere/DSPS/blob/master/lab9/titanictree.ipynb vecchio nb per titanic (il pacchetto è cambiato).\n",
        "\n",
        "L'hyperparam depth controlla il numero di split che si possono fare: controllo il max numero di split in ogni branch. Si controlla prima di tutto la depth per controllare l'overfitting.\n",
        "\n",
        "Vedremo tree methods.\n",
        "\n",
        "**Overfitting**: può succedere che il modello sia overtrained, ovvero acquisisca conoscenza specifica mentre fa training, ma ciò che impara vale solo per il training set e il modello quindi non è generalizzabile. (L'abbiamo visto ieri).\n",
        "\n",
        "**La depth di un albero può servire per evitare questo overfitting.** \n",
        "\n",
        "##Controllare la degradazione dell'efficienza dal training al test set, e questo controllo si fa per ogni modello. \n",
        "\n",
        "Controllare la maximum depth per non ottenre delle foglie che contengono gruppi con una singole unità diciamo. \n",
        "\n",
        "Un altro modo più accurato sarebbe quello del tree pruning: costruire un albero molto complesso con una depth alta e poi torno indietro tagliando i rami inutili per prevenire l'overfitting. (Molto complicato da usare).\n",
        "\n",
        "Si può fare regression con tree model (e con tutti i CART). Tutto questo è dentro sklearn. Si può fare questo, ma è pericoloso fare regression con tree. \n"
      ]
    },
    {
      "cell_type": "markdown",
      "metadata": {
        "id": "euD_p3QzYKl6"
      },
      "source": [
        "**Il problema con gli alberi è che non sono stabili: trees have a high variance of the results**. Dobbimo settare il random state all'interno della call di sklearn.tree. Questo equivale a settarlo prima della funzione ma chiamarlo nella sklearn è più elegante e sicuro dai bug che potrebbero esserci nel cambio di codice.\n",
        "\n",
        "La high variance deriva del fatto che non posso esaminare tutte le scelte possibili per ogni variabili, soprattutto per quelle continue (perchè ho inifinità di modi di dividere la variabile continue). Non si può riolvere il problema esplorando tutta la likelihood space per ottimizzare la posterior che sia l'ottimizzazione del problema. **Quindi si possono dettare dei random guess per inizializzare sclete che rendono il problema possiblei a livello computazionale.**\n",
        "\n",
        "Altro porblema quando faccio la scelta sul gini index, la faccio sul singolo nodo. Se scelgo un gini index non ottimale al primo nodo, al nodo successivo potrei avere un gini migliore: ottimizzazione locale.\n",
        "\n",
        "Questi 2 problemi rendono i single trees inutilizzabili.\n",
        "\n",
        "**Different trees lead to different results. Per questo motivo i single trees non sono utilizzabili.** \n",
        "##Per ovviare a questo problema si può far correre il codice molte volte ed esaminare i risultati scegliendo il risultato più comune.\n",
        "Questo tipo di metodo si chiama ENSAMBLE METHODS.\n",
        "\n",
        "I due ENSAMBLE METHODS che guardiamo oggi sono:\n",
        "\n",
        "for both method we have regressor and classifiers. \n",
        "\n",
        "- **RANDOM FORESTS** \n",
        "\n",
        "Tree runs in parallel. The number of tree is proportional to the number of variables and the number of observation. Each trees uses a random subset of observation or features, or both. Each trees is a small tree that uses fewer than the total number of features, fewer than the total number of observations. Then we end up eith a set of prediction statistically idependent (there is no covariance between the results).\n",
        "\n",
        "**The classifier is the majority vote, i.e. what was the class predicted mostly.** In the titanic example if I get 90 trees out of 100 giving the person to be in the survival class, I interpret it as the 90% for the person to survive. This in not all true because to have a probabilistic interpretation I will have to understand hat the posterior is based on the prior. The prior will be embedded on all of the coiche the tree does. So I don't have a robust probilistic interpretation of the result.\n",
        "\n",
        "The regression result is the average of all the result.\n",
        "\n",
        "**HYPERPARAMETER (for the random forest classifiers):** n_estimator: how many trees I will use in my forest. Easly we can choose an hundered of trees (only if we have an hundred of observation, otherwise we will end in an bias method).\n",
        "Bootstrap: wether or not I am gonna use a subsets of feature or observation at each tree or I am gonna use all feature in the observations. We will set always bootstrap=True.\n",
        "warm_start: allows to save partially trained model. It is used for hardly intense model. \n",
        "\n",
        "- **GRADIENT BOOSTED TREES**\n",
        "\n",
        "Trees runs in series and each tree uses (different) weights for the features, learnign the weights from the result of previous tree. And this weights are added to the next tree. So each tree learn what were the feature that were important to make the classification. Adding some randomness will converge the tree more rapidly. \n",
        "\n",
        "The last tree has the prediction, so unlike random forest, we don't to worry about the result.\n",
        "\n",
        "**HYPERPARAMETER (for gradient boosted regressor):** learning_rate (like in the gradient descent, to set how large is the step of the iteration during optimization), here it will mean how cloose I will inheriting the weights that I learned in the previous step. High learning rate will lead to a faster convergence, but it might lead to a local minimum. \n",
        "subsample: size of the variable that I can use at each step of the fraction of the sample to be used for fitting. Defalult values is 1, all of the data and feature at every tree, choosed with some stocasticity."
      ]
    },
    {
      "cell_type": "code",
      "metadata": {
        "id": "I7WxgoulU19D"
      },
      "source": [
        "import pandas as pd\n",
        "import scipy as sp\n",
        "import numpy as np\n",
        "import os\n",
        "import json"
      ],
      "execution_count": 1,
      "outputs": []
    },
    {
      "cell_type": "code",
      "metadata": {
        "id": "S1Kfd83vU9GS"
      },
      "source": [
        "#serve per vedere un tree graph\n",
        "import graphviz"
      ],
      "execution_count": 2,
      "outputs": []
    },
    {
      "cell_type": "markdown",
      "metadata": {
        "id": "acvtkXpaPXLj"
      },
      "source": [
        "#ESERCIZIO \n",
        "\n",
        "https://github.com/fedhere/MLPNS2021/blob/main/CART/higgsbosonSearch.ipynb\n",
        "\n",
        "Dati presi da kaggle data challenge, sul bosone di Higgs. \n",
        "\n",
        "Use gradient boosted trees and random forest both classifier to predict the kind of paricle, and for regressor the mass of the particles.\n",
        "**Make a plot of the covariance to get a sense of the correlation between variable, altough in tree mehods we don't need to care about covariance.**\n",
        "\n",
        "In qesto ambito dell'higgs discovery, il gradient boosted trees si è dimostrato migliore delle neural netowrk ad LHC. Le NN hanno un'accurateza migliore, ma il gradient boosted trees consente di usare facilmente più tipi di variabili (numeriche e categoriche)."
      ]
    },
    {
      "cell_type": "code",
      "metadata": {
        "colab": {
          "base_uri": "https://localhost:8080/"
        },
        "id": "Np97QoFMVYvz",
        "outputId": "757ca35b-483c-4b55-d852-bdf2d01a6c9e"
      },
      "source": [
        "from google.colab import drive\n",
        "drive.mount('/content/drive')"
      ],
      "execution_count": 3,
      "outputs": [
        {
          "output_type": "stream",
          "text": [
            "Drive already mounted at /content/drive; to attempt to forcibly remount, call drive.mount(\"/content/drive\", force_remount=True).\n"
          ],
          "name": "stdout"
        }
      ]
    },
    {
      "cell_type": "code",
      "metadata": {
        "colab": {
          "base_uri": "https://localhost:8080/"
        },
        "id": "SzZfkx_KqmNX",
        "outputId": "8db0c7d5-4ddb-4aa7-f8f5-d238e7fba5ca"
      },
      "source": [
        "ls"
      ],
      "execution_count": 4,
      "outputs": [
        {
          "output_type": "stream",
          "text": [
            "\u001b[0m\u001b[01;34mdrive\u001b[0m/  \u001b[01;34msample_data\u001b[0m/\n"
          ],
          "name": "stdout"
        }
      ]
    },
    {
      "cell_type": "code",
      "metadata": {
        "colab": {
          "base_uri": "https://localhost:8080/"
        },
        "id": "geBDNdj1aApd",
        "outputId": "b007ecca-c278-465f-d8f4-a056b499c295"
      },
      "source": [
        "cd drive/MyDrive/MLPNS/"
      ],
      "execution_count": 5,
      "outputs": [
        {
          "output_type": "stream",
          "text": [
            "/content/drive/MyDrive/MLPNS\n"
          ],
          "name": "stdout"
        }
      ]
    },
    {
      "cell_type": "code",
      "metadata": {
        "colab": {
          "base_uri": "https://localhost:8080/"
        },
        "id": "kvGfnM24faU9",
        "outputId": "dc1a4616-4ceb-4f68-eebb-aab6a2db134b"
      },
      "source": [
        "ls kaggle.json"
      ],
      "execution_count": 6,
      "outputs": [
        {
          "output_type": "stream",
          "text": [
            "kaggle.json\n"
          ],
          "name": "stdout"
        }
      ]
    },
    {
      "cell_type": "code",
      "metadata": {
        "id": "aj31OceFfea5"
      },
      "source": [
        "!chmod 600 kaggle.json"
      ],
      "execution_count": 7,
      "outputs": []
    },
    {
      "cell_type": "code",
      "metadata": {
        "id": "aPR1yUFofgLS"
      },
      "source": [
        "envs = json.load(open(\"kaggle.json\", \"r\"))\n",
        "os.environ[\"KAGGLE_USERNAME\"] = envs['username']\n",
        "os.environ[\"KAGGLE_KEY\"] = envs['key']"
      ],
      "execution_count": 8,
      "outputs": []
    },
    {
      "cell_type": "code",
      "metadata": {
        "colab": {
          "base_uri": "https://localhost:8080/"
        },
        "id": "bNGxMu-LfwOn",
        "outputId": "178f138b-69ec-47df-da70-8c6edc57aac0"
      },
      "source": [
        "!kaggle datasets list"
      ],
      "execution_count": 9,
      "outputs": [
        {
          "output_type": "stream",
          "text": [
            "Warning: Looks like you're using an outdated API Version, please consider updating (server 1.5.12 / client 1.5.4)\n",
            "ref                                                         title                                              size  lastUpdated          downloadCount  \n",
            "----------------------------------------------------------  ------------------------------------------------  -----  -------------------  -------------  \n",
            "gpreda/reddit-vaccine-myths                                 Reddit Vaccine Myths                              227KB  2021-05-08 09:30:51           4617  \n",
            "crowww/a-large-scale-fish-dataset                           A Large Scale Fish Dataset                          3GB  2021-04-28 17:03:01           2658  \n",
            "mathurinache/twitter-edge-nodes                             Twitter Edge Nodes                                342MB  2021-03-08 06:43:04            284  \n",
            "promptcloud/careerbuilder-job-listing-2020                  Careerbuilder Job Listing 2020                     42MB  2021-03-05 06:59:52            643  \n",
            "dhruvildave/wikibooks-dataset                               Wikibooks Dataset                                   1GB  2021-02-18 10:08:27           1618  \n",
            "imsparsh/musicnet-dataset                                   MusicNet Dataset                                   22GB  2021-02-18 14:12:19            942  \n",
            "alsgroup/end-als                                            End ALS Kaggle Challenge                           12GB  2021-04-08 12:16:37            592  \n",
            "nickuzmenkov/nih-chest-xrays-tfrecords                      NIH Chest X-rays TFRecords                         11GB  2021-03-09 04:49:23            423  \n",
            "simiotic/github-code-snippets                               GitHub Code Snippets                                7GB  2021-03-03 11:34:39             99  \n",
            "mathurinache/the-lj-speech-dataset                          The LJ Speech Dataset                               3GB  2021-02-15 09:19:54            118  \n",
            "fatiimaezzahra/famous-iconic-women                          Famous Iconic Women                               838MB  2021-02-28 14:56:00            507  \n",
            "coloradokb/dandelionimages                                  DandelionImages                                     4GB  2021-02-19 20:03:47            258  \n",
            "imsparsh/accentdb-core-extended                             AccentDB - Core & Extended                          6GB  2021-02-17 14:22:54             55  \n",
            "stuartjames/lights                                          LightS: Light Specularity Dataset                  18GB  2021-02-18 14:32:26             41  \n",
            "nickuzmenkov/ranzcr-clip-kfold-tfrecords                    RANZCR CLiP KFold TFRecords                         2GB  2021-02-21 13:29:51             66  \n",
            "landrykezebou/lvzhdr-tone-mapping-benchmark-dataset-tmonet  LVZ-HDR Tone Mapping Benchmark Dataset (TMO-Net)   24GB  2021-03-01 05:03:40             61  \n",
            "datasnaek/youtube-new                                       Trending YouTube Video Statistics                 201MB  2019-06-03 00:56:47         138822  \n",
            "zynicide/wine-reviews                                       Wine Reviews                                       51MB  2017-11-27 17:08:04         135710  \n",
            "datasnaek/chess                                             Chess Game Dataset (Lichess)                        3MB  2017-09-04 03:09:09          17688  \n",
            "residentmario/ramen-ratings                                 Ramen Ratings                                      40KB  2018-01-11 16:04:39          22524  \n"
          ],
          "name": "stdout"
        }
      ]
    },
    {
      "cell_type": "code",
      "metadata": {
        "id": "7iwkJjggf6Mb",
        "colab": {
          "base_uri": "https://localhost:8080/"
        },
        "outputId": "96ae4eed-ed70-4457-d960-15c1d929832b"
      },
      "source": [
        "!mkdir kaggleHiggs"
      ],
      "execution_count": 10,
      "outputs": [
        {
          "output_type": "stream",
          "text": [
            "mkdir: cannot create directory ‘kaggleHiggs’: File exists\n"
          ],
          "name": "stdout"
        }
      ]
    },
    {
      "cell_type": "code",
      "metadata": {
        "colab": {
          "base_uri": "https://localhost:8080/"
        },
        "id": "3x4wAdYyf9_x",
        "outputId": "8e9d30d8-73ca-488d-85ae-315097bf197d"
      },
      "source": [
        "cd kaggleHiggs/"
      ],
      "execution_count": 11,
      "outputs": [
        {
          "output_type": "stream",
          "text": [
            "/content/drive/MyDrive/MLPNS/kaggleHiggs\n"
          ],
          "name": "stdout"
        }
      ]
    },
    {
      "cell_type": "code",
      "metadata": {
        "id": "pDt6VnBrmzc_",
        "colab": {
          "base_uri": "https://localhost:8080/"
        },
        "outputId": "b9d08afb-f9d7-4fcd-c499-b261e91f54ec"
      },
      "source": [
        "ls"
      ],
      "execution_count": 12,
      "outputs": [
        {
          "output_type": "stream",
          "text": [
            "HiggsBosonCompetition_AMSMetric_rev1.py  test.csv  training.csv\n",
            "random_submission.zip                    test.zip  training.zip\n"
          ],
          "name": "stdout"
        }
      ]
    },
    {
      "cell_type": "code",
      "metadata": {
        "colab": {
          "base_uri": "https://localhost:8080/"
        },
        "id": "bJoLa4zugHKt",
        "outputId": "12ad33ff-b447-4a3f-f946-f4a0879f2253"
      },
      "source": [
        "!kaggle competitions download -c higgs-boson"
      ],
      "execution_count": 13,
      "outputs": [
        {
          "output_type": "stream",
          "text": [
            "Warning: Looks like you're using an outdated API Version, please consider updating (server 1.5.12 / client 1.5.4)\n",
            "HiggsBosonCompetition_AMSMetric_rev1.py: Skipping, found more recently modified local copy (use --force to force download)\n",
            "test.zip: Skipping, found more recently modified local copy (use --force to force download)\n",
            "random_submission.zip: Skipping, found more recently modified local copy (use --force to force download)\n",
            "training.zip: Skipping, found more recently modified local copy (use --force to force download)\n"
          ],
          "name": "stdout"
        }
      ]
    },
    {
      "cell_type": "code",
      "metadata": {
        "id": "2hv1nSOagUNJ",
        "colab": {
          "base_uri": "https://localhost:8080/"
        },
        "outputId": "e35c09af-4a75-4b73-aee3-8c6dcd8c1910"
      },
      "source": [
        "ls"
      ],
      "execution_count": 14,
      "outputs": [
        {
          "output_type": "stream",
          "text": [
            "HiggsBosonCompetition_AMSMetric_rev1.py  test.csv  training.csv\n",
            "random_submission.zip                    test.zip  training.zip\n"
          ],
          "name": "stdout"
        }
      ]
    },
    {
      "cell_type": "code",
      "metadata": {
        "colab": {
          "base_uri": "https://localhost:8080/"
        },
        "id": "8SD7DLTN3ml_",
        "outputId": "1789377b-1134-4ee1-c456-4fd6ab8e6626"
      },
      "source": [
        "!unzip training.zip\n",
        "!unzip test.zip"
      ],
      "execution_count": 15,
      "outputs": [
        {
          "output_type": "stream",
          "text": [
            "Archive:  training.zip\n",
            "replace training.csv? [y]es, [n]o, [A]ll, [N]one, [r]ename: n\n",
            "Archive:  test.zip\n",
            "replace test.csv? [y]es, [n]o, [A]ll, [N]one, [r]ename: n\n"
          ],
          "name": "stdout"
        }
      ]
    },
    {
      "cell_type": "code",
      "metadata": {
        "id": "2fT3uGFgiOw-"
      },
      "source": [
        "higgsdata = pd.read_csv(\"training.csv\")"
      ],
      "execution_count": 16,
      "outputs": []
    },
    {
      "cell_type": "code",
      "metadata": {
        "colab": {
          "base_uri": "https://localhost:8080/",
          "height": 444
        },
        "id": "4k_vOLPaj4KO",
        "outputId": "ed496c94-e669-4e9a-8f6a-ff997c9f57f4"
      },
      "source": [
        "higgsdata"
      ],
      "execution_count": 17,
      "outputs": [
        {
          "output_type": "execute_result",
          "data": {
            "text/html": [
              "<div>\n",
              "<style scoped>\n",
              "    .dataframe tbody tr th:only-of-type {\n",
              "        vertical-align: middle;\n",
              "    }\n",
              "\n",
              "    .dataframe tbody tr th {\n",
              "        vertical-align: top;\n",
              "    }\n",
              "\n",
              "    .dataframe thead th {\n",
              "        text-align: right;\n",
              "    }\n",
              "</style>\n",
              "<table border=\"1\" class=\"dataframe\">\n",
              "  <thead>\n",
              "    <tr style=\"text-align: right;\">\n",
              "      <th></th>\n",
              "      <th>EventId</th>\n",
              "      <th>DER_mass_MMC</th>\n",
              "      <th>DER_mass_transverse_met_lep</th>\n",
              "      <th>DER_mass_vis</th>\n",
              "      <th>DER_pt_h</th>\n",
              "      <th>DER_deltaeta_jet_jet</th>\n",
              "      <th>DER_mass_jet_jet</th>\n",
              "      <th>DER_prodeta_jet_jet</th>\n",
              "      <th>DER_deltar_tau_lep</th>\n",
              "      <th>DER_pt_tot</th>\n",
              "      <th>DER_sum_pt</th>\n",
              "      <th>DER_pt_ratio_lep_tau</th>\n",
              "      <th>DER_met_phi_centrality</th>\n",
              "      <th>DER_lep_eta_centrality</th>\n",
              "      <th>PRI_tau_pt</th>\n",
              "      <th>PRI_tau_eta</th>\n",
              "      <th>PRI_tau_phi</th>\n",
              "      <th>PRI_lep_pt</th>\n",
              "      <th>PRI_lep_eta</th>\n",
              "      <th>PRI_lep_phi</th>\n",
              "      <th>PRI_met</th>\n",
              "      <th>PRI_met_phi</th>\n",
              "      <th>PRI_met_sumet</th>\n",
              "      <th>PRI_jet_num</th>\n",
              "      <th>PRI_jet_leading_pt</th>\n",
              "      <th>PRI_jet_leading_eta</th>\n",
              "      <th>PRI_jet_leading_phi</th>\n",
              "      <th>PRI_jet_subleading_pt</th>\n",
              "      <th>PRI_jet_subleading_eta</th>\n",
              "      <th>PRI_jet_subleading_phi</th>\n",
              "      <th>PRI_jet_all_pt</th>\n",
              "      <th>Weight</th>\n",
              "      <th>Label</th>\n",
              "    </tr>\n",
              "  </thead>\n",
              "  <tbody>\n",
              "    <tr>\n",
              "      <th>0</th>\n",
              "      <td>100000</td>\n",
              "      <td>138.470</td>\n",
              "      <td>51.655</td>\n",
              "      <td>97.827</td>\n",
              "      <td>27.980</td>\n",
              "      <td>0.91</td>\n",
              "      <td>124.711</td>\n",
              "      <td>2.666</td>\n",
              "      <td>3.064</td>\n",
              "      <td>41.928</td>\n",
              "      <td>197.760</td>\n",
              "      <td>1.582</td>\n",
              "      <td>1.396</td>\n",
              "      <td>0.2</td>\n",
              "      <td>32.638</td>\n",
              "      <td>1.017</td>\n",
              "      <td>0.381</td>\n",
              "      <td>51.626</td>\n",
              "      <td>2.273</td>\n",
              "      <td>-2.414</td>\n",
              "      <td>16.824</td>\n",
              "      <td>-0.277</td>\n",
              "      <td>258.733</td>\n",
              "      <td>2</td>\n",
              "      <td>67.435</td>\n",
              "      <td>2.150</td>\n",
              "      <td>0.444</td>\n",
              "      <td>46.062</td>\n",
              "      <td>1.24</td>\n",
              "      <td>-2.475</td>\n",
              "      <td>113.497</td>\n",
              "      <td>0.002653</td>\n",
              "      <td>s</td>\n",
              "    </tr>\n",
              "    <tr>\n",
              "      <th>1</th>\n",
              "      <td>100001</td>\n",
              "      <td>160.937</td>\n",
              "      <td>68.768</td>\n",
              "      <td>103.235</td>\n",
              "      <td>48.146</td>\n",
              "      <td>-999.00</td>\n",
              "      <td>-999.000</td>\n",
              "      <td>-999.000</td>\n",
              "      <td>3.473</td>\n",
              "      <td>2.078</td>\n",
              "      <td>125.157</td>\n",
              "      <td>0.879</td>\n",
              "      <td>1.414</td>\n",
              "      <td>-999.0</td>\n",
              "      <td>42.014</td>\n",
              "      <td>2.039</td>\n",
              "      <td>-3.011</td>\n",
              "      <td>36.918</td>\n",
              "      <td>0.501</td>\n",
              "      <td>0.103</td>\n",
              "      <td>44.704</td>\n",
              "      <td>-1.916</td>\n",
              "      <td>164.546</td>\n",
              "      <td>1</td>\n",
              "      <td>46.226</td>\n",
              "      <td>0.725</td>\n",
              "      <td>1.158</td>\n",
              "      <td>-999.000</td>\n",
              "      <td>-999.00</td>\n",
              "      <td>-999.000</td>\n",
              "      <td>46.226</td>\n",
              "      <td>2.233584</td>\n",
              "      <td>b</td>\n",
              "    </tr>\n",
              "    <tr>\n",
              "      <th>2</th>\n",
              "      <td>100002</td>\n",
              "      <td>-999.000</td>\n",
              "      <td>162.172</td>\n",
              "      <td>125.953</td>\n",
              "      <td>35.635</td>\n",
              "      <td>-999.00</td>\n",
              "      <td>-999.000</td>\n",
              "      <td>-999.000</td>\n",
              "      <td>3.148</td>\n",
              "      <td>9.336</td>\n",
              "      <td>197.814</td>\n",
              "      <td>3.776</td>\n",
              "      <td>1.414</td>\n",
              "      <td>-999.0</td>\n",
              "      <td>32.154</td>\n",
              "      <td>-0.705</td>\n",
              "      <td>-2.093</td>\n",
              "      <td>121.409</td>\n",
              "      <td>-0.953</td>\n",
              "      <td>1.052</td>\n",
              "      <td>54.283</td>\n",
              "      <td>-2.186</td>\n",
              "      <td>260.414</td>\n",
              "      <td>1</td>\n",
              "      <td>44.251</td>\n",
              "      <td>2.053</td>\n",
              "      <td>-2.028</td>\n",
              "      <td>-999.000</td>\n",
              "      <td>-999.00</td>\n",
              "      <td>-999.000</td>\n",
              "      <td>44.251</td>\n",
              "      <td>2.347389</td>\n",
              "      <td>b</td>\n",
              "    </tr>\n",
              "    <tr>\n",
              "      <th>3</th>\n",
              "      <td>100003</td>\n",
              "      <td>143.905</td>\n",
              "      <td>81.417</td>\n",
              "      <td>80.943</td>\n",
              "      <td>0.414</td>\n",
              "      <td>-999.00</td>\n",
              "      <td>-999.000</td>\n",
              "      <td>-999.000</td>\n",
              "      <td>3.310</td>\n",
              "      <td>0.414</td>\n",
              "      <td>75.968</td>\n",
              "      <td>2.354</td>\n",
              "      <td>-1.285</td>\n",
              "      <td>-999.0</td>\n",
              "      <td>22.647</td>\n",
              "      <td>-1.655</td>\n",
              "      <td>0.010</td>\n",
              "      <td>53.321</td>\n",
              "      <td>-0.522</td>\n",
              "      <td>-3.100</td>\n",
              "      <td>31.082</td>\n",
              "      <td>0.060</td>\n",
              "      <td>86.062</td>\n",
              "      <td>0</td>\n",
              "      <td>-999.000</td>\n",
              "      <td>-999.000</td>\n",
              "      <td>-999.000</td>\n",
              "      <td>-999.000</td>\n",
              "      <td>-999.00</td>\n",
              "      <td>-999.000</td>\n",
              "      <td>-0.000</td>\n",
              "      <td>5.446378</td>\n",
              "      <td>b</td>\n",
              "    </tr>\n",
              "    <tr>\n",
              "      <th>4</th>\n",
              "      <td>100004</td>\n",
              "      <td>175.864</td>\n",
              "      <td>16.915</td>\n",
              "      <td>134.805</td>\n",
              "      <td>16.405</td>\n",
              "      <td>-999.00</td>\n",
              "      <td>-999.000</td>\n",
              "      <td>-999.000</td>\n",
              "      <td>3.891</td>\n",
              "      <td>16.405</td>\n",
              "      <td>57.983</td>\n",
              "      <td>1.056</td>\n",
              "      <td>-1.385</td>\n",
              "      <td>-999.0</td>\n",
              "      <td>28.209</td>\n",
              "      <td>-2.197</td>\n",
              "      <td>-2.231</td>\n",
              "      <td>29.774</td>\n",
              "      <td>0.798</td>\n",
              "      <td>1.569</td>\n",
              "      <td>2.723</td>\n",
              "      <td>-0.871</td>\n",
              "      <td>53.131</td>\n",
              "      <td>0</td>\n",
              "      <td>-999.000</td>\n",
              "      <td>-999.000</td>\n",
              "      <td>-999.000</td>\n",
              "      <td>-999.000</td>\n",
              "      <td>-999.00</td>\n",
              "      <td>-999.000</td>\n",
              "      <td>0.000</td>\n",
              "      <td>6.245333</td>\n",
              "      <td>b</td>\n",
              "    </tr>\n",
              "    <tr>\n",
              "      <th>...</th>\n",
              "      <td>...</td>\n",
              "      <td>...</td>\n",
              "      <td>...</td>\n",
              "      <td>...</td>\n",
              "      <td>...</td>\n",
              "      <td>...</td>\n",
              "      <td>...</td>\n",
              "      <td>...</td>\n",
              "      <td>...</td>\n",
              "      <td>...</td>\n",
              "      <td>...</td>\n",
              "      <td>...</td>\n",
              "      <td>...</td>\n",
              "      <td>...</td>\n",
              "      <td>...</td>\n",
              "      <td>...</td>\n",
              "      <td>...</td>\n",
              "      <td>...</td>\n",
              "      <td>...</td>\n",
              "      <td>...</td>\n",
              "      <td>...</td>\n",
              "      <td>...</td>\n",
              "      <td>...</td>\n",
              "      <td>...</td>\n",
              "      <td>...</td>\n",
              "      <td>...</td>\n",
              "      <td>...</td>\n",
              "      <td>...</td>\n",
              "      <td>...</td>\n",
              "      <td>...</td>\n",
              "      <td>...</td>\n",
              "      <td>...</td>\n",
              "      <td>...</td>\n",
              "    </tr>\n",
              "    <tr>\n",
              "      <th>249995</th>\n",
              "      <td>349995</td>\n",
              "      <td>-999.000</td>\n",
              "      <td>71.989</td>\n",
              "      <td>36.548</td>\n",
              "      <td>5.042</td>\n",
              "      <td>-999.00</td>\n",
              "      <td>-999.000</td>\n",
              "      <td>-999.000</td>\n",
              "      <td>1.392</td>\n",
              "      <td>5.042</td>\n",
              "      <td>55.892</td>\n",
              "      <td>1.258</td>\n",
              "      <td>-1.414</td>\n",
              "      <td>-999.0</td>\n",
              "      <td>24.754</td>\n",
              "      <td>-0.414</td>\n",
              "      <td>-0.905</td>\n",
              "      <td>31.137</td>\n",
              "      <td>-0.950</td>\n",
              "      <td>0.380</td>\n",
              "      <td>46.520</td>\n",
              "      <td>2.859</td>\n",
              "      <td>144.665</td>\n",
              "      <td>0</td>\n",
              "      <td>-999.000</td>\n",
              "      <td>-999.000</td>\n",
              "      <td>-999.000</td>\n",
              "      <td>-999.000</td>\n",
              "      <td>-999.00</td>\n",
              "      <td>-999.000</td>\n",
              "      <td>0.000</td>\n",
              "      <td>4.505083</td>\n",
              "      <td>b</td>\n",
              "    </tr>\n",
              "    <tr>\n",
              "      <th>249996</th>\n",
              "      <td>349996</td>\n",
              "      <td>-999.000</td>\n",
              "      <td>58.179</td>\n",
              "      <td>68.083</td>\n",
              "      <td>22.439</td>\n",
              "      <td>-999.00</td>\n",
              "      <td>-999.000</td>\n",
              "      <td>-999.000</td>\n",
              "      <td>2.585</td>\n",
              "      <td>22.439</td>\n",
              "      <td>50.618</td>\n",
              "      <td>1.162</td>\n",
              "      <td>-1.345</td>\n",
              "      <td>-999.0</td>\n",
              "      <td>23.416</td>\n",
              "      <td>-1.609</td>\n",
              "      <td>2.776</td>\n",
              "      <td>27.202</td>\n",
              "      <td>0.308</td>\n",
              "      <td>1.042</td>\n",
              "      <td>46.737</td>\n",
              "      <td>-0.867</td>\n",
              "      <td>80.408</td>\n",
              "      <td>0</td>\n",
              "      <td>-999.000</td>\n",
              "      <td>-999.000</td>\n",
              "      <td>-999.000</td>\n",
              "      <td>-999.000</td>\n",
              "      <td>-999.00</td>\n",
              "      <td>-999.000</td>\n",
              "      <td>-0.000</td>\n",
              "      <td>2.497259</td>\n",
              "      <td>b</td>\n",
              "    </tr>\n",
              "    <tr>\n",
              "      <th>249997</th>\n",
              "      <td>349997</td>\n",
              "      <td>105.457</td>\n",
              "      <td>60.526</td>\n",
              "      <td>75.839</td>\n",
              "      <td>39.757</td>\n",
              "      <td>-999.00</td>\n",
              "      <td>-999.000</td>\n",
              "      <td>-999.000</td>\n",
              "      <td>2.390</td>\n",
              "      <td>22.183</td>\n",
              "      <td>120.462</td>\n",
              "      <td>1.202</td>\n",
              "      <td>0.529</td>\n",
              "      <td>-999.0</td>\n",
              "      <td>35.636</td>\n",
              "      <td>-0.266</td>\n",
              "      <td>-3.132</td>\n",
              "      <td>42.834</td>\n",
              "      <td>0.381</td>\n",
              "      <td>0.851</td>\n",
              "      <td>23.419</td>\n",
              "      <td>-2.890</td>\n",
              "      <td>198.907</td>\n",
              "      <td>1</td>\n",
              "      <td>41.992</td>\n",
              "      <td>1.800</td>\n",
              "      <td>-0.166</td>\n",
              "      <td>-999.000</td>\n",
              "      <td>-999.00</td>\n",
              "      <td>-999.000</td>\n",
              "      <td>41.992</td>\n",
              "      <td>0.018636</td>\n",
              "      <td>s</td>\n",
              "    </tr>\n",
              "    <tr>\n",
              "      <th>249998</th>\n",
              "      <td>349998</td>\n",
              "      <td>94.951</td>\n",
              "      <td>19.362</td>\n",
              "      <td>68.812</td>\n",
              "      <td>13.504</td>\n",
              "      <td>-999.00</td>\n",
              "      <td>-999.000</td>\n",
              "      <td>-999.000</td>\n",
              "      <td>3.365</td>\n",
              "      <td>13.504</td>\n",
              "      <td>55.859</td>\n",
              "      <td>0.999</td>\n",
              "      <td>1.414</td>\n",
              "      <td>-999.0</td>\n",
              "      <td>27.944</td>\n",
              "      <td>-2.211</td>\n",
              "      <td>2.792</td>\n",
              "      <td>27.915</td>\n",
              "      <td>-0.874</td>\n",
              "      <td>-0.296</td>\n",
              "      <td>12.150</td>\n",
              "      <td>0.811</td>\n",
              "      <td>112.718</td>\n",
              "      <td>0</td>\n",
              "      <td>-999.000</td>\n",
              "      <td>-999.000</td>\n",
              "      <td>-999.000</td>\n",
              "      <td>-999.000</td>\n",
              "      <td>-999.00</td>\n",
              "      <td>-999.000</td>\n",
              "      <td>0.000</td>\n",
              "      <td>1.681611</td>\n",
              "      <td>b</td>\n",
              "    </tr>\n",
              "    <tr>\n",
              "      <th>249999</th>\n",
              "      <td>349999</td>\n",
              "      <td>-999.000</td>\n",
              "      <td>72.756</td>\n",
              "      <td>70.831</td>\n",
              "      <td>7.479</td>\n",
              "      <td>-999.00</td>\n",
              "      <td>-999.000</td>\n",
              "      <td>-999.000</td>\n",
              "      <td>2.025</td>\n",
              "      <td>7.479</td>\n",
              "      <td>83.240</td>\n",
              "      <td>0.936</td>\n",
              "      <td>-1.411</td>\n",
              "      <td>-999.0</td>\n",
              "      <td>43.003</td>\n",
              "      <td>1.685</td>\n",
              "      <td>2.653</td>\n",
              "      <td>40.236</td>\n",
              "      <td>1.490</td>\n",
              "      <td>0.637</td>\n",
              "      <td>40.729</td>\n",
              "      <td>-1.596</td>\n",
              "      <td>99.405</td>\n",
              "      <td>0</td>\n",
              "      <td>-999.000</td>\n",
              "      <td>-999.000</td>\n",
              "      <td>-999.000</td>\n",
              "      <td>-999.000</td>\n",
              "      <td>-999.00</td>\n",
              "      <td>-999.000</td>\n",
              "      <td>0.000</td>\n",
              "      <td>1.877474</td>\n",
              "      <td>b</td>\n",
              "    </tr>\n",
              "  </tbody>\n",
              "</table>\n",
              "<p>250000 rows × 33 columns</p>\n",
              "</div>"
            ],
            "text/plain": [
              "        EventId  DER_mass_MMC  ...    Weight  Label\n",
              "0        100000       138.470  ...  0.002653      s\n",
              "1        100001       160.937  ...  2.233584      b\n",
              "2        100002      -999.000  ...  2.347389      b\n",
              "3        100003       143.905  ...  5.446378      b\n",
              "4        100004       175.864  ...  6.245333      b\n",
              "...         ...           ...  ...       ...    ...\n",
              "249995   349995      -999.000  ...  4.505083      b\n",
              "249996   349996      -999.000  ...  2.497259      b\n",
              "249997   349997       105.457  ...  0.018636      s\n",
              "249998   349998        94.951  ...  1.681611      b\n",
              "249999   349999      -999.000  ...  1.877474      b\n",
              "\n",
              "[250000 rows x 33 columns]"
            ]
          },
          "metadata": {
            "tags": []
          },
          "execution_count": 17
        }
      ]
    },
    {
      "cell_type": "code",
      "metadata": {
        "id": "_dZhCghJh3_Z"
      },
      "source": [
        "import sklearn\n",
        "import matplotlib as pl"
      ],
      "execution_count": 18,
      "outputs": []
    },
    {
      "cell_type": "markdown",
      "metadata": {
        "id": "vAfPapn7w-cd"
      },
      "source": [
        "Per vedere la **codipendenza** dei dati, possiamo usare:\n",
        "\n",
        "se i dati NON presentano covariance i plot sono tutti tondi ecc.. se c'è covariance ottengo delle righe e forme strane. Ci mette tanto tempo perchè ho un sacco di dati. "
      ]
    },
    {
      "cell_type": "code",
      "metadata": {
        "id": "mIB23Sbqw2-O"
      },
      "source": [
        "#pd.plotting.scatter_matrix(higgsdata)"
      ],
      "execution_count": 19,
      "outputs": []
    },
    {
      "cell_type": "markdown",
      "metadata": {
        "id": "cFDQPjU6xymR"
      },
      "source": [
        "Se facciamo un hist delle variabili mi accorgo che ci sono missing value codificati con i \"-999.00\" e questi devo rimuoverli altrimenti il modello li tratta come numeri. Vediamo quante ce ne sono per ognuna delle colonne e decido se togliere la colonna o togliere le osservaizoni che hanno alcune colonne -999.00.\n",
        "\n",
        "La cosa migliore da fare è sostiutire i -999.00 con un NaN in tutto il df e poi posso vedere quanti NaN ci sono e posso poi comodamenti rimuoverli con dropna. "
      ]
    },
    {
      "cell_type": "code",
      "metadata": {
        "colab": {
          "base_uri": "https://localhost:8080/",
          "height": 352
        },
        "id": "FbgdsPd4xvq9",
        "outputId": "588bed04-9ed3-4bd5-dffb-986e147eb797"
      },
      "source": [
        "#ESEMPIO vedo quanti -999 ho per la colonna DER_deltaeta_jet_jet:\n",
        "pl.pyplot.hist(higgsdata.DER_deltaeta_jet_jet)"
      ],
      "execution_count": 20,
      "outputs": [
        {
          "output_type": "execute_result",
          "data": {
            "text/plain": [
              "(array([177457.,      0.,      0.,      0.,      0.,      0.,      0.,\n",
              "             0.,      0.,  72543.]),\n",
              " array([-999.    , -898.2497, -797.4994, -696.7491, -595.9988, -495.2485,\n",
              "        -394.4982, -293.7479, -192.9976,  -92.2473,    8.503 ]),\n",
              " <a list of 10 Patch objects>)"
            ]
          },
          "metadata": {
            "tags": []
          },
          "execution_count": 20
        },
        {
          "output_type": "display_data",
          "data": {
            "image/png": "[encoded data removed]",
            "text/plain": [
              "<Figure size 432x288 with 1 Axes>"
            ]
          },
          "metadata": {
            "tags": [],
            "needs_background": "light"
          }
        }
      ]
    },
    {
      "cell_type": "markdown",
      "metadata": {
        "id": "VVpbg-OI1NFP"
      },
      "source": [
        "Rimpiazzo i -999.00 con dei NaN"
      ]
    },
    {
      "cell_type": "code",
      "metadata": {
        "id": "2XWjCjvh0mQn"
      },
      "source": [
        "higgsdata = higgsdata.replace(-999.00, np.nan)"
      ],
      "execution_count": 21,
      "outputs": []
    },
    {
      "cell_type": "code",
      "metadata": {
        "colab": {
          "base_uri": "https://localhost:8080/"
        },
        "id": "-qsmi2cT1Vrq",
        "outputId": "bd454c49-224b-4fe2-e18a-09d7ee66d24f"
      },
      "source": [
        "higgsdata.isna().sum()"
      ],
      "execution_count": 22,
      "outputs": [
        {
          "output_type": "execute_result",
          "data": {
            "text/plain": [
              "EventId                             0\n",
              "DER_mass_MMC                    38114\n",
              "DER_mass_transverse_met_lep         0\n",
              "DER_mass_vis                        0\n",
              "DER_pt_h                            0\n",
              "DER_deltaeta_jet_jet           177457\n",
              "DER_mass_jet_jet               177457\n",
              "DER_prodeta_jet_jet            177457\n",
              "DER_deltar_tau_lep                  0\n",
              "DER_pt_tot                          0\n",
              "DER_sum_pt                          0\n",
              "DER_pt_ratio_lep_tau                0\n",
              "DER_met_phi_centrality              0\n",
              "DER_lep_eta_centrality         177457\n",
              "PRI_tau_pt                          0\n",
              "PRI_tau_eta                         0\n",
              "PRI_tau_phi                         0\n",
              "PRI_lep_pt                          0\n",
              "PRI_lep_eta                         0\n",
              "PRI_lep_phi                         0\n",
              "PRI_met                             0\n",
              "PRI_met_phi                         0\n",
              "PRI_met_sumet                       0\n",
              "PRI_jet_num                         0\n",
              "PRI_jet_leading_pt              99913\n",
              "PRI_jet_leading_eta             99913\n",
              "PRI_jet_leading_phi             99913\n",
              "PRI_jet_subleading_pt          177457\n",
              "PRI_jet_subleading_eta         177457\n",
              "PRI_jet_subleading_phi         177457\n",
              "PRI_jet_all_pt                      0\n",
              "Weight                              0\n",
              "Label                               0\n",
              "dtype: int64"
            ]
          },
          "metadata": {
            "tags": []
          },
          "execution_count": 22
        }
      ]
    },
    {
      "cell_type": "markdown",
      "metadata": {
        "id": "sL2ulqUu2EFT"
      },
      "source": [
        "###**Come detto avevamo un sacco di NaN, e decidiamo di toglierli**"
      ]
    },
    {
      "cell_type": "code",
      "metadata": {
        "colab": {
          "base_uri": "https://localhost:8080/",
          "height": 444
        },
        "id": "cs-ZH2Qq4HK6",
        "outputId": "2bf98554-6de7-429f-adbe-51669d3b2681"
      },
      "source": [
        "higgsdata"
      ],
      "execution_count": 23,
      "outputs": [
        {
          "output_type": "execute_result",
          "data": {
            "text/html": [
              "<div>\n",
              "<style scoped>\n",
              "    .dataframe tbody tr th:only-of-type {\n",
              "        vertical-align: middle;\n",
              "    }\n",
              "\n",
              "    .dataframe tbody tr th {\n",
              "        vertical-align: top;\n",
              "    }\n",
              "\n",
              "    .dataframe thead th {\n",
              "        text-align: right;\n",
              "    }\n",
              "</style>\n",
              "<table border=\"1\" class=\"dataframe\">\n",
              "  <thead>\n",
              "    <tr style=\"text-align: right;\">\n",
              "      <th></th>\n",
              "      <th>EventId</th>\n",
              "      <th>DER_mass_MMC</th>\n",
              "      <th>DER_mass_transverse_met_lep</th>\n",
              "      <th>DER_mass_vis</th>\n",
              "      <th>DER_pt_h</th>\n",
              "      <th>DER_deltaeta_jet_jet</th>\n",
              "      <th>DER_mass_jet_jet</th>\n",
              "      <th>DER_prodeta_jet_jet</th>\n",
              "      <th>DER_deltar_tau_lep</th>\n",
              "      <th>DER_pt_tot</th>\n",
              "      <th>DER_sum_pt</th>\n",
              "      <th>DER_pt_ratio_lep_tau</th>\n",
              "      <th>DER_met_phi_centrality</th>\n",
              "      <th>DER_lep_eta_centrality</th>\n",
              "      <th>PRI_tau_pt</th>\n",
              "      <th>PRI_tau_eta</th>\n",
              "      <th>PRI_tau_phi</th>\n",
              "      <th>PRI_lep_pt</th>\n",
              "      <th>PRI_lep_eta</th>\n",
              "      <th>PRI_lep_phi</th>\n",
              "      <th>PRI_met</th>\n",
              "      <th>PRI_met_phi</th>\n",
              "      <th>PRI_met_sumet</th>\n",
              "      <th>PRI_jet_num</th>\n",
              "      <th>PRI_jet_leading_pt</th>\n",
              "      <th>PRI_jet_leading_eta</th>\n",
              "      <th>PRI_jet_leading_phi</th>\n",
              "      <th>PRI_jet_subleading_pt</th>\n",
              "      <th>PRI_jet_subleading_eta</th>\n",
              "      <th>PRI_jet_subleading_phi</th>\n",
              "      <th>PRI_jet_all_pt</th>\n",
              "      <th>Weight</th>\n",
              "      <th>Label</th>\n",
              "    </tr>\n",
              "  </thead>\n",
              "  <tbody>\n",
              "    <tr>\n",
              "      <th>0</th>\n",
              "      <td>100000</td>\n",
              "      <td>138.470</td>\n",
              "      <td>51.655</td>\n",
              "      <td>97.827</td>\n",
              "      <td>27.980</td>\n",
              "      <td>0.91</td>\n",
              "      <td>124.711</td>\n",
              "      <td>2.666</td>\n",
              "      <td>3.064</td>\n",
              "      <td>41.928</td>\n",
              "      <td>197.760</td>\n",
              "      <td>1.582</td>\n",
              "      <td>1.396</td>\n",
              "      <td>0.2</td>\n",
              "      <td>32.638</td>\n",
              "      <td>1.017</td>\n",
              "      <td>0.381</td>\n",
              "      <td>51.626</td>\n",
              "      <td>2.273</td>\n",
              "      <td>-2.414</td>\n",
              "      <td>16.824</td>\n",
              "      <td>-0.277</td>\n",
              "      <td>258.733</td>\n",
              "      <td>2</td>\n",
              "      <td>67.435</td>\n",
              "      <td>2.150</td>\n",
              "      <td>0.444</td>\n",
              "      <td>46.062</td>\n",
              "      <td>1.24</td>\n",
              "      <td>-2.475</td>\n",
              "      <td>113.497</td>\n",
              "      <td>0.002653</td>\n",
              "      <td>s</td>\n",
              "    </tr>\n",
              "    <tr>\n",
              "      <th>1</th>\n",
              "      <td>100001</td>\n",
              "      <td>160.937</td>\n",
              "      <td>68.768</td>\n",
              "      <td>103.235</td>\n",
              "      <td>48.146</td>\n",
              "      <td>NaN</td>\n",
              "      <td>NaN</td>\n",
              "      <td>NaN</td>\n",
              "      <td>3.473</td>\n",
              "      <td>2.078</td>\n",
              "      <td>125.157</td>\n",
              "      <td>0.879</td>\n",
              "      <td>1.414</td>\n",
              "      <td>NaN</td>\n",
              "      <td>42.014</td>\n",
              "      <td>2.039</td>\n",
              "      <td>-3.011</td>\n",
              "      <td>36.918</td>\n",
              "      <td>0.501</td>\n",
              "      <td>0.103</td>\n",
              "      <td>44.704</td>\n",
              "      <td>-1.916</td>\n",
              "      <td>164.546</td>\n",
              "      <td>1</td>\n",
              "      <td>46.226</td>\n",
              "      <td>0.725</td>\n",
              "      <td>1.158</td>\n",
              "      <td>NaN</td>\n",
              "      <td>NaN</td>\n",
              "      <td>NaN</td>\n",
              "      <td>46.226</td>\n",
              "      <td>2.233584</td>\n",
              "      <td>b</td>\n",
              "    </tr>\n",
              "    <tr>\n",
              "      <th>2</th>\n",
              "      <td>100002</td>\n",
              "      <td>NaN</td>\n",
              "      <td>162.172</td>\n",
              "      <td>125.953</td>\n",
              "      <td>35.635</td>\n",
              "      <td>NaN</td>\n",
              "      <td>NaN</td>\n",
              "      <td>NaN</td>\n",
              "      <td>3.148</td>\n",
              "      <td>9.336</td>\n",
              "      <td>197.814</td>\n",
              "      <td>3.776</td>\n",
              "      <td>1.414</td>\n",
              "      <td>NaN</td>\n",
              "      <td>32.154</td>\n",
              "      <td>-0.705</td>\n",
              "      <td>-2.093</td>\n",
              "      <td>121.409</td>\n",
              "      <td>-0.953</td>\n",
              "      <td>1.052</td>\n",
              "      <td>54.283</td>\n",
              "      <td>-2.186</td>\n",
              "      <td>260.414</td>\n",
              "      <td>1</td>\n",
              "      <td>44.251</td>\n",
              "      <td>2.053</td>\n",
              "      <td>-2.028</td>\n",
              "      <td>NaN</td>\n",
              "      <td>NaN</td>\n",
              "      <td>NaN</td>\n",
              "      <td>44.251</td>\n",
              "      <td>2.347389</td>\n",
              "      <td>b</td>\n",
              "    </tr>\n",
              "    <tr>\n",
              "      <th>3</th>\n",
              "      <td>100003</td>\n",
              "      <td>143.905</td>\n",
              "      <td>81.417</td>\n",
              "      <td>80.943</td>\n",
              "      <td>0.414</td>\n",
              "      <td>NaN</td>\n",
              "      <td>NaN</td>\n",
              "      <td>NaN</td>\n",
              "      <td>3.310</td>\n",
              "      <td>0.414</td>\n",
              "      <td>75.968</td>\n",
              "      <td>2.354</td>\n",
              "      <td>-1.285</td>\n",
              "      <td>NaN</td>\n",
              "      <td>22.647</td>\n",
              "      <td>-1.655</td>\n",
              "      <td>0.010</td>\n",
              "      <td>53.321</td>\n",
              "      <td>-0.522</td>\n",
              "      <td>-3.100</td>\n",
              "      <td>31.082</td>\n",
              "      <td>0.060</td>\n",
              "      <td>86.062</td>\n",
              "      <td>0</td>\n",
              "      <td>NaN</td>\n",
              "      <td>NaN</td>\n",
              "      <td>NaN</td>\n",
              "      <td>NaN</td>\n",
              "      <td>NaN</td>\n",
              "      <td>NaN</td>\n",
              "      <td>-0.000</td>\n",
              "      <td>5.446378</td>\n",
              "      <td>b</td>\n",
              "    </tr>\n",
              "    <tr>\n",
              "      <th>4</th>\n",
              "      <td>100004</td>\n",
              "      <td>175.864</td>\n",
              "      <td>16.915</td>\n",
              "      <td>134.805</td>\n",
              "      <td>16.405</td>\n",
              "      <td>NaN</td>\n",
              "      <td>NaN</td>\n",
              "      <td>NaN</td>\n",
              "      <td>3.891</td>\n",
              "      <td>16.405</td>\n",
              "      <td>57.983</td>\n",
              "      <td>1.056</td>\n",
              "      <td>-1.385</td>\n",
              "      <td>NaN</td>\n",
              "      <td>28.209</td>\n",
              "      <td>-2.197</td>\n",
              "      <td>-2.231</td>\n",
              "      <td>29.774</td>\n",
              "      <td>0.798</td>\n",
              "      <td>1.569</td>\n",
              "      <td>2.723</td>\n",
              "      <td>-0.871</td>\n",
              "      <td>53.131</td>\n",
              "      <td>0</td>\n",
              "      <td>NaN</td>\n",
              "      <td>NaN</td>\n",
              "      <td>NaN</td>\n",
              "      <td>NaN</td>\n",
              "      <td>NaN</td>\n",
              "      <td>NaN</td>\n",
              "      <td>0.000</td>\n",
              "      <td>6.245333</td>\n",
              "      <td>b</td>\n",
              "    </tr>\n",
              "    <tr>\n",
              "      <th>...</th>\n",
              "      <td>...</td>\n",
              "      <td>...</td>\n",
              "      <td>...</td>\n",
              "      <td>...</td>\n",
              "      <td>...</td>\n",
              "      <td>...</td>\n",
              "      <td>...</td>\n",
              "      <td>...</td>\n",
              "      <td>...</td>\n",
              "      <td>...</td>\n",
              "      <td>...</td>\n",
              "      <td>...</td>\n",
              "      <td>...</td>\n",
              "      <td>...</td>\n",
              "      <td>...</td>\n",
              "      <td>...</td>\n",
              "      <td>...</td>\n",
              "      <td>...</td>\n",
              "      <td>...</td>\n",
              "      <td>...</td>\n",
              "      <td>...</td>\n",
              "      <td>...</td>\n",
              "      <td>...</td>\n",
              "      <td>...</td>\n",
              "      <td>...</td>\n",
              "      <td>...</td>\n",
              "      <td>...</td>\n",
              "      <td>...</td>\n",
              "      <td>...</td>\n",
              "      <td>...</td>\n",
              "      <td>...</td>\n",
              "      <td>...</td>\n",
              "      <td>...</td>\n",
              "    </tr>\n",
              "    <tr>\n",
              "      <th>249995</th>\n",
              "      <td>349995</td>\n",
              "      <td>NaN</td>\n",
              "      <td>71.989</td>\n",
              "      <td>36.548</td>\n",
              "      <td>5.042</td>\n",
              "      <td>NaN</td>\n",
              "      <td>NaN</td>\n",
              "      <td>NaN</td>\n",
              "      <td>1.392</td>\n",
              "      <td>5.042</td>\n",
              "      <td>55.892</td>\n",
              "      <td>1.258</td>\n",
              "      <td>-1.414</td>\n",
              "      <td>NaN</td>\n",
              "      <td>24.754</td>\n",
              "      <td>-0.414</td>\n",
              "      <td>-0.905</td>\n",
              "      <td>31.137</td>\n",
              "      <td>-0.950</td>\n",
              "      <td>0.380</td>\n",
              "      <td>46.520</td>\n",
              "      <td>2.859</td>\n",
              "      <td>144.665</td>\n",
              "      <td>0</td>\n",
              "      <td>NaN</td>\n",
              "      <td>NaN</td>\n",
              "      <td>NaN</td>\n",
              "      <td>NaN</td>\n",
              "      <td>NaN</td>\n",
              "      <td>NaN</td>\n",
              "      <td>0.000</td>\n",
              "      <td>4.505083</td>\n",
              "      <td>b</td>\n",
              "    </tr>\n",
              "    <tr>\n",
              "      <th>249996</th>\n",
              "      <td>349996</td>\n",
              "      <td>NaN</td>\n",
              "      <td>58.179</td>\n",
              "      <td>68.083</td>\n",
              "      <td>22.439</td>\n",
              "      <td>NaN</td>\n",
              "      <td>NaN</td>\n",
              "      <td>NaN</td>\n",
              "      <td>2.585</td>\n",
              "      <td>22.439</td>\n",
              "      <td>50.618</td>\n",
              "      <td>1.162</td>\n",
              "      <td>-1.345</td>\n",
              "      <td>NaN</td>\n",
              "      <td>23.416</td>\n",
              "      <td>-1.609</td>\n",
              "      <td>2.776</td>\n",
              "      <td>27.202</td>\n",
              "      <td>0.308</td>\n",
              "      <td>1.042</td>\n",
              "      <td>46.737</td>\n",
              "      <td>-0.867</td>\n",
              "      <td>80.408</td>\n",
              "      <td>0</td>\n",
              "      <td>NaN</td>\n",
              "      <td>NaN</td>\n",
              "      <td>NaN</td>\n",
              "      <td>NaN</td>\n",
              "      <td>NaN</td>\n",
              "      <td>NaN</td>\n",
              "      <td>-0.000</td>\n",
              "      <td>2.497259</td>\n",
              "      <td>b</td>\n",
              "    </tr>\n",
              "    <tr>\n",
              "      <th>249997</th>\n",
              "      <td>349997</td>\n",
              "      <td>105.457</td>\n",
              "      <td>60.526</td>\n",
              "      <td>75.839</td>\n",
              "      <td>39.757</td>\n",
              "      <td>NaN</td>\n",
              "      <td>NaN</td>\n",
              "      <td>NaN</td>\n",
              "      <td>2.390</td>\n",
              "      <td>22.183</td>\n",
              "      <td>120.462</td>\n",
              "      <td>1.202</td>\n",
              "      <td>0.529</td>\n",
              "      <td>NaN</td>\n",
              "      <td>35.636</td>\n",
              "      <td>-0.266</td>\n",
              "      <td>-3.132</td>\n",
              "      <td>42.834</td>\n",
              "      <td>0.381</td>\n",
              "      <td>0.851</td>\n",
              "      <td>23.419</td>\n",
              "      <td>-2.890</td>\n",
              "      <td>198.907</td>\n",
              "      <td>1</td>\n",
              "      <td>41.992</td>\n",
              "      <td>1.800</td>\n",
              "      <td>-0.166</td>\n",
              "      <td>NaN</td>\n",
              "      <td>NaN</td>\n",
              "      <td>NaN</td>\n",
              "      <td>41.992</td>\n",
              "      <td>0.018636</td>\n",
              "      <td>s</td>\n",
              "    </tr>\n",
              "    <tr>\n",
              "      <th>249998</th>\n",
              "      <td>349998</td>\n",
              "      <td>94.951</td>\n",
              "      <td>19.362</td>\n",
              "      <td>68.812</td>\n",
              "      <td>13.504</td>\n",
              "      <td>NaN</td>\n",
              "      <td>NaN</td>\n",
              "      <td>NaN</td>\n",
              "      <td>3.365</td>\n",
              "      <td>13.504</td>\n",
              "      <td>55.859</td>\n",
              "      <td>0.999</td>\n",
              "      <td>1.414</td>\n",
              "      <td>NaN</td>\n",
              "      <td>27.944</td>\n",
              "      <td>-2.211</td>\n",
              "      <td>2.792</td>\n",
              "      <td>27.915</td>\n",
              "      <td>-0.874</td>\n",
              "      <td>-0.296</td>\n",
              "      <td>12.150</td>\n",
              "      <td>0.811</td>\n",
              "      <td>112.718</td>\n",
              "      <td>0</td>\n",
              "      <td>NaN</td>\n",
              "      <td>NaN</td>\n",
              "      <td>NaN</td>\n",
              "      <td>NaN</td>\n",
              "      <td>NaN</td>\n",
              "      <td>NaN</td>\n",
              "      <td>0.000</td>\n",
              "      <td>1.681611</td>\n",
              "      <td>b</td>\n",
              "    </tr>\n",
              "    <tr>\n",
              "      <th>249999</th>\n",
              "      <td>349999</td>\n",
              "      <td>NaN</td>\n",
              "      <td>72.756</td>\n",
              "      <td>70.831</td>\n",
              "      <td>7.479</td>\n",
              "      <td>NaN</td>\n",
              "      <td>NaN</td>\n",
              "      <td>NaN</td>\n",
              "      <td>2.025</td>\n",
              "      <td>7.479</td>\n",
              "      <td>83.240</td>\n",
              "      <td>0.936</td>\n",
              "      <td>-1.411</td>\n",
              "      <td>NaN</td>\n",
              "      <td>43.003</td>\n",
              "      <td>1.685</td>\n",
              "      <td>2.653</td>\n",
              "      <td>40.236</td>\n",
              "      <td>1.490</td>\n",
              "      <td>0.637</td>\n",
              "      <td>40.729</td>\n",
              "      <td>-1.596</td>\n",
              "      <td>99.405</td>\n",
              "      <td>0</td>\n",
              "      <td>NaN</td>\n",
              "      <td>NaN</td>\n",
              "      <td>NaN</td>\n",
              "      <td>NaN</td>\n",
              "      <td>NaN</td>\n",
              "      <td>NaN</td>\n",
              "      <td>0.000</td>\n",
              "      <td>1.877474</td>\n",
              "      <td>b</td>\n",
              "    </tr>\n",
              "  </tbody>\n",
              "</table>\n",
              "<p>250000 rows × 33 columns</p>\n",
              "</div>"
            ],
            "text/plain": [
              "        EventId  DER_mass_MMC  ...    Weight  Label\n",
              "0        100000       138.470  ...  0.002653      s\n",
              "1        100001       160.937  ...  2.233584      b\n",
              "2        100002           NaN  ...  2.347389      b\n",
              "3        100003       143.905  ...  5.446378      b\n",
              "4        100004       175.864  ...  6.245333      b\n",
              "...         ...           ...  ...       ...    ...\n",
              "249995   349995           NaN  ...  4.505083      b\n",
              "249996   349996           NaN  ...  2.497259      b\n",
              "249997   349997       105.457  ...  0.018636      s\n",
              "249998   349998        94.951  ...  1.681611      b\n",
              "249999   349999           NaN  ...  1.877474      b\n",
              "\n",
              "[250000 rows x 33 columns]"
            ]
          },
          "metadata": {
            "tags": []
          },
          "execution_count": 23
        }
      ]
    },
    {
      "cell_type": "code",
      "metadata": {
        "colab": {
          "base_uri": "https://localhost:8080/",
          "height": 444
        },
        "id": "H9idDE0Z2R_Y",
        "outputId": "e7c1b02c-681d-4bcd-f4cb-67bd3727ae7b"
      },
      "source": [
        "higgsdata = higgsdata.dropna(axis=0, how='any')\n",
        "higgsdata"
      ],
      "execution_count": 24,
      "outputs": [
        {
          "output_type": "execute_result",
          "data": {
            "text/html": [
              "<div>\n",
              "<style scoped>\n",
              "    .dataframe tbody tr th:only-of-type {\n",
              "        vertical-align: middle;\n",
              "    }\n",
              "\n",
              "    .dataframe tbody tr th {\n",
              "        vertical-align: top;\n",
              "    }\n",
              "\n",
              "    .dataframe thead th {\n",
              "        text-align: right;\n",
              "    }\n",
              "</style>\n",
              "<table border=\"1\" class=\"dataframe\">\n",
              "  <thead>\n",
              "    <tr style=\"text-align: right;\">\n",
              "      <th></th>\n",
              "      <th>EventId</th>\n",
              "      <th>DER_mass_MMC</th>\n",
              "      <th>DER_mass_transverse_met_lep</th>\n",
              "      <th>DER_mass_vis</th>\n",
              "      <th>DER_pt_h</th>\n",
              "      <th>DER_deltaeta_jet_jet</th>\n",
              "      <th>DER_mass_jet_jet</th>\n",
              "      <th>DER_prodeta_jet_jet</th>\n",
              "      <th>DER_deltar_tau_lep</th>\n",
              "      <th>DER_pt_tot</th>\n",
              "      <th>DER_sum_pt</th>\n",
              "      <th>DER_pt_ratio_lep_tau</th>\n",
              "      <th>DER_met_phi_centrality</th>\n",
              "      <th>DER_lep_eta_centrality</th>\n",
              "      <th>PRI_tau_pt</th>\n",
              "      <th>PRI_tau_eta</th>\n",
              "      <th>PRI_tau_phi</th>\n",
              "      <th>PRI_lep_pt</th>\n",
              "      <th>PRI_lep_eta</th>\n",
              "      <th>PRI_lep_phi</th>\n",
              "      <th>PRI_met</th>\n",
              "      <th>PRI_met_phi</th>\n",
              "      <th>PRI_met_sumet</th>\n",
              "      <th>PRI_jet_num</th>\n",
              "      <th>PRI_jet_leading_pt</th>\n",
              "      <th>PRI_jet_leading_eta</th>\n",
              "      <th>PRI_jet_leading_phi</th>\n",
              "      <th>PRI_jet_subleading_pt</th>\n",
              "      <th>PRI_jet_subleading_eta</th>\n",
              "      <th>PRI_jet_subleading_phi</th>\n",
              "      <th>PRI_jet_all_pt</th>\n",
              "      <th>Weight</th>\n",
              "      <th>Label</th>\n",
              "    </tr>\n",
              "  </thead>\n",
              "  <tbody>\n",
              "    <tr>\n",
              "      <th>0</th>\n",
              "      <td>100000</td>\n",
              "      <td>138.470</td>\n",
              "      <td>51.655</td>\n",
              "      <td>97.827</td>\n",
              "      <td>27.980</td>\n",
              "      <td>0.910</td>\n",
              "      <td>124.711</td>\n",
              "      <td>2.666</td>\n",
              "      <td>3.064</td>\n",
              "      <td>41.928</td>\n",
              "      <td>197.760</td>\n",
              "      <td>1.582</td>\n",
              "      <td>1.396</td>\n",
              "      <td>0.200</td>\n",
              "      <td>32.638</td>\n",
              "      <td>1.017</td>\n",
              "      <td>0.381</td>\n",
              "      <td>51.626</td>\n",
              "      <td>2.273</td>\n",
              "      <td>-2.414</td>\n",
              "      <td>16.824</td>\n",
              "      <td>-0.277</td>\n",
              "      <td>258.733</td>\n",
              "      <td>2</td>\n",
              "      <td>67.435</td>\n",
              "      <td>2.150</td>\n",
              "      <td>0.444</td>\n",
              "      <td>46.062</td>\n",
              "      <td>1.240</td>\n",
              "      <td>-2.475</td>\n",
              "      <td>113.497</td>\n",
              "      <td>0.002653</td>\n",
              "      <td>s</td>\n",
              "    </tr>\n",
              "    <tr>\n",
              "      <th>5</th>\n",
              "      <td>100005</td>\n",
              "      <td>89.744</td>\n",
              "      <td>13.550</td>\n",
              "      <td>59.149</td>\n",
              "      <td>116.344</td>\n",
              "      <td>2.636</td>\n",
              "      <td>284.584</td>\n",
              "      <td>-0.540</td>\n",
              "      <td>1.362</td>\n",
              "      <td>61.619</td>\n",
              "      <td>278.876</td>\n",
              "      <td>0.588</td>\n",
              "      <td>0.479</td>\n",
              "      <td>0.975</td>\n",
              "      <td>53.651</td>\n",
              "      <td>0.371</td>\n",
              "      <td>1.329</td>\n",
              "      <td>31.565</td>\n",
              "      <td>-0.884</td>\n",
              "      <td>1.857</td>\n",
              "      <td>40.735</td>\n",
              "      <td>2.237</td>\n",
              "      <td>282.849</td>\n",
              "      <td>3</td>\n",
              "      <td>90.547</td>\n",
              "      <td>-2.412</td>\n",
              "      <td>-0.653</td>\n",
              "      <td>56.165</td>\n",
              "      <td>0.224</td>\n",
              "      <td>3.106</td>\n",
              "      <td>193.660</td>\n",
              "      <td>0.083414</td>\n",
              "      <td>b</td>\n",
              "    </tr>\n",
              "    <tr>\n",
              "      <th>6</th>\n",
              "      <td>100006</td>\n",
              "      <td>148.754</td>\n",
              "      <td>28.862</td>\n",
              "      <td>107.782</td>\n",
              "      <td>106.130</td>\n",
              "      <td>0.733</td>\n",
              "      <td>158.359</td>\n",
              "      <td>0.113</td>\n",
              "      <td>2.941</td>\n",
              "      <td>2.545</td>\n",
              "      <td>305.967</td>\n",
              "      <td>3.371</td>\n",
              "      <td>1.393</td>\n",
              "      <td>0.791</td>\n",
              "      <td>28.850</td>\n",
              "      <td>1.113</td>\n",
              "      <td>2.409</td>\n",
              "      <td>97.240</td>\n",
              "      <td>0.675</td>\n",
              "      <td>-0.966</td>\n",
              "      <td>38.421</td>\n",
              "      <td>-1.443</td>\n",
              "      <td>294.074</td>\n",
              "      <td>2</td>\n",
              "      <td>123.010</td>\n",
              "      <td>0.864</td>\n",
              "      <td>1.450</td>\n",
              "      <td>56.867</td>\n",
              "      <td>0.131</td>\n",
              "      <td>-2.767</td>\n",
              "      <td>179.877</td>\n",
              "      <td>0.002653</td>\n",
              "      <td>s</td>\n",
              "    </tr>\n",
              "    <tr>\n",
              "      <th>11</th>\n",
              "      <td>100011</td>\n",
              "      <td>114.744</td>\n",
              "      <td>10.286</td>\n",
              "      <td>75.712</td>\n",
              "      <td>30.816</td>\n",
              "      <td>2.563</td>\n",
              "      <td>252.599</td>\n",
              "      <td>-1.401</td>\n",
              "      <td>2.888</td>\n",
              "      <td>36.745</td>\n",
              "      <td>239.804</td>\n",
              "      <td>1.061</td>\n",
              "      <td>1.364</td>\n",
              "      <td>0.769</td>\n",
              "      <td>35.976</td>\n",
              "      <td>-0.669</td>\n",
              "      <td>-0.342</td>\n",
              "      <td>38.188</td>\n",
              "      <td>-0.165</td>\n",
              "      <td>2.502</td>\n",
              "      <td>22.385</td>\n",
              "      <td>2.148</td>\n",
              "      <td>290.547</td>\n",
              "      <td>3</td>\n",
              "      <td>76.773</td>\n",
              "      <td>-0.790</td>\n",
              "      <td>0.303</td>\n",
              "      <td>56.876</td>\n",
              "      <td>1.773</td>\n",
              "      <td>-2.079</td>\n",
              "      <td>165.640</td>\n",
              "      <td>0.307170</td>\n",
              "      <td>b</td>\n",
              "    </tr>\n",
              "    <tr>\n",
              "      <th>23</th>\n",
              "      <td>100023</td>\n",
              "      <td>141.481</td>\n",
              "      <td>0.736</td>\n",
              "      <td>111.581</td>\n",
              "      <td>174.075</td>\n",
              "      <td>1.955</td>\n",
              "      <td>364.344</td>\n",
              "      <td>-0.923</td>\n",
              "      <td>1.335</td>\n",
              "      <td>6.663</td>\n",
              "      <td>440.859</td>\n",
              "      <td>0.652</td>\n",
              "      <td>1.042</td>\n",
              "      <td>0.207</td>\n",
              "      <td>98.565</td>\n",
              "      <td>0.190</td>\n",
              "      <td>-1.506</td>\n",
              "      <td>64.285</td>\n",
              "      <td>1.405</td>\n",
              "      <td>-0.952</td>\n",
              "      <td>17.960</td>\n",
              "      <td>-0.973</td>\n",
              "      <td>454.785</td>\n",
              "      <td>2</td>\n",
              "      <td>195.533</td>\n",
              "      <td>1.156</td>\n",
              "      <td>1.416</td>\n",
              "      <td>82.477</td>\n",
              "      <td>-0.798</td>\n",
              "      <td>-2.785</td>\n",
              "      <td>278.009</td>\n",
              "      <td>0.001503</td>\n",
              "      <td>s</td>\n",
              "    </tr>\n",
              "    <tr>\n",
              "      <th>...</th>\n",
              "      <td>...</td>\n",
              "      <td>...</td>\n",
              "      <td>...</td>\n",
              "      <td>...</td>\n",
              "      <td>...</td>\n",
              "      <td>...</td>\n",
              "      <td>...</td>\n",
              "      <td>...</td>\n",
              "      <td>...</td>\n",
              "      <td>...</td>\n",
              "      <td>...</td>\n",
              "      <td>...</td>\n",
              "      <td>...</td>\n",
              "      <td>...</td>\n",
              "      <td>...</td>\n",
              "      <td>...</td>\n",
              "      <td>...</td>\n",
              "      <td>...</td>\n",
              "      <td>...</td>\n",
              "      <td>...</td>\n",
              "      <td>...</td>\n",
              "      <td>...</td>\n",
              "      <td>...</td>\n",
              "      <td>...</td>\n",
              "      <td>...</td>\n",
              "      <td>...</td>\n",
              "      <td>...</td>\n",
              "      <td>...</td>\n",
              "      <td>...</td>\n",
              "      <td>...</td>\n",
              "      <td>...</td>\n",
              "      <td>...</td>\n",
              "      <td>...</td>\n",
              "    </tr>\n",
              "    <tr>\n",
              "      <th>249976</th>\n",
              "      <td>349976</td>\n",
              "      <td>137.371</td>\n",
              "      <td>4.640</td>\n",
              "      <td>92.603</td>\n",
              "      <td>107.121</td>\n",
              "      <td>3.189</td>\n",
              "      <td>322.430</td>\n",
              "      <td>-2.384</td>\n",
              "      <td>2.149</td>\n",
              "      <td>2.755</td>\n",
              "      <td>225.261</td>\n",
              "      <td>1.783</td>\n",
              "      <td>1.090</td>\n",
              "      <td>0.503</td>\n",
              "      <td>32.004</td>\n",
              "      <td>0.599</td>\n",
              "      <td>-0.013</td>\n",
              "      <td>57.056</td>\n",
              "      <td>-0.924</td>\n",
              "      <td>1.503</td>\n",
              "      <td>42.299</td>\n",
              "      <td>1.408</td>\n",
              "      <td>228.186</td>\n",
              "      <td>2</td>\n",
              "      <td>85.132</td>\n",
              "      <td>1.991</td>\n",
              "      <td>-1.518</td>\n",
              "      <td>51.068</td>\n",
              "      <td>-1.197</td>\n",
              "      <td>-2.831</td>\n",
              "      <td>136.200</td>\n",
              "      <td>0.001503</td>\n",
              "      <td>s</td>\n",
              "    </tr>\n",
              "    <tr>\n",
              "      <th>249980</th>\n",
              "      <td>349980</td>\n",
              "      <td>119.934</td>\n",
              "      <td>20.078</td>\n",
              "      <td>88.751</td>\n",
              "      <td>35.227</td>\n",
              "      <td>0.660</td>\n",
              "      <td>111.491</td>\n",
              "      <td>1.836</td>\n",
              "      <td>2.800</td>\n",
              "      <td>18.532</td>\n",
              "      <td>189.198</td>\n",
              "      <td>1.951</td>\n",
              "      <td>0.304</td>\n",
              "      <td>0.000</td>\n",
              "      <td>25.844</td>\n",
              "      <td>1.159</td>\n",
              "      <td>0.823</td>\n",
              "      <td>50.416</td>\n",
              "      <td>-0.315</td>\n",
              "      <td>-1.558</td>\n",
              "      <td>2.113</td>\n",
              "      <td>1.116</td>\n",
              "      <td>237.326</td>\n",
              "      <td>2</td>\n",
              "      <td>69.219</td>\n",
              "      <td>-1.064</td>\n",
              "      <td>1.118</td>\n",
              "      <td>43.719</td>\n",
              "      <td>-1.725</td>\n",
              "      <td>-2.756</td>\n",
              "      <td>112.938</td>\n",
              "      <td>0.018636</td>\n",
              "      <td>s</td>\n",
              "    </tr>\n",
              "    <tr>\n",
              "      <th>249985</th>\n",
              "      <td>349985</td>\n",
              "      <td>126.151</td>\n",
              "      <td>29.023</td>\n",
              "      <td>95.258</td>\n",
              "      <td>152.684</td>\n",
              "      <td>1.000</td>\n",
              "      <td>163.066</td>\n",
              "      <td>-0.240</td>\n",
              "      <td>1.504</td>\n",
              "      <td>24.642</td>\n",
              "      <td>327.502</td>\n",
              "      <td>2.163</td>\n",
              "      <td>0.490</td>\n",
              "      <td>0.027</td>\n",
              "      <td>42.495</td>\n",
              "      <td>1.980</td>\n",
              "      <td>2.239</td>\n",
              "      <td>91.908</td>\n",
              "      <td>0.851</td>\n",
              "      <td>-3.050</td>\n",
              "      <td>41.247</td>\n",
              "      <td>-2.575</td>\n",
              "      <td>402.114</td>\n",
              "      <td>2</td>\n",
              "      <td>158.904</td>\n",
              "      <td>0.401</td>\n",
              "      <td>0.034</td>\n",
              "      <td>34.196</td>\n",
              "      <td>-0.599</td>\n",
              "      <td>-2.525</td>\n",
              "      <td>193.099</td>\n",
              "      <td>0.018636</td>\n",
              "      <td>s</td>\n",
              "    </tr>\n",
              "    <tr>\n",
              "      <th>249993</th>\n",
              "      <td>349993</td>\n",
              "      <td>130.075</td>\n",
              "      <td>3.918</td>\n",
              "      <td>66.781</td>\n",
              "      <td>77.369</td>\n",
              "      <td>0.936</td>\n",
              "      <td>322.296</td>\n",
              "      <td>-0.207</td>\n",
              "      <td>3.102</td>\n",
              "      <td>49.937</td>\n",
              "      <td>610.482</td>\n",
              "      <td>1.354</td>\n",
              "      <td>-0.634</td>\n",
              "      <td>0.000</td>\n",
              "      <td>27.364</td>\n",
              "      <td>2.403</td>\n",
              "      <td>1.348</td>\n",
              "      <td>37.052</td>\n",
              "      <td>1.775</td>\n",
              "      <td>-1.689</td>\n",
              "      <td>67.702</td>\n",
              "      <td>-1.768</td>\n",
              "      <td>694.010</td>\n",
              "      <td>3</td>\n",
              "      <td>155.864</td>\n",
              "      <td>-0.358</td>\n",
              "      <td>1.093</td>\n",
              "      <td>134.344</td>\n",
              "      <td>0.578</td>\n",
              "      <td>-2.215</td>\n",
              "      <td>546.066</td>\n",
              "      <td>0.001503</td>\n",
              "      <td>s</td>\n",
              "    </tr>\n",
              "    <tr>\n",
              "      <th>249994</th>\n",
              "      <td>349994</td>\n",
              "      <td>217.020</td>\n",
              "      <td>47.156</td>\n",
              "      <td>62.824</td>\n",
              "      <td>127.953</td>\n",
              "      <td>0.295</td>\n",
              "      <td>119.437</td>\n",
              "      <td>-0.014</td>\n",
              "      <td>2.318</td>\n",
              "      <td>3.628</td>\n",
              "      <td>242.586</td>\n",
              "      <td>1.393</td>\n",
              "      <td>1.393</td>\n",
              "      <td>0.000</td>\n",
              "      <td>28.586</td>\n",
              "      <td>1.094</td>\n",
              "      <td>1.729</td>\n",
              "      <td>39.824</td>\n",
              "      <td>0.700</td>\n",
              "      <td>-0.555</td>\n",
              "      <td>97.737</td>\n",
              "      <td>0.220</td>\n",
              "      <td>271.082</td>\n",
              "      <td>2</td>\n",
              "      <td>141.752</td>\n",
              "      <td>0.237</td>\n",
              "      <td>3.126</td>\n",
              "      <td>32.423</td>\n",
              "      <td>-0.058</td>\n",
              "      <td>-1.137</td>\n",
              "      <td>174.176</td>\n",
              "      <td>0.064061</td>\n",
              "      <td>b</td>\n",
              "    </tr>\n",
              "  </tbody>\n",
              "</table>\n",
              "<p>68114 rows × 33 columns</p>\n",
              "</div>"
            ],
            "text/plain": [
              "        EventId  DER_mass_MMC  ...    Weight  Label\n",
              "0        100000       138.470  ...  0.002653      s\n",
              "5        100005        89.744  ...  0.083414      b\n",
              "6        100006       148.754  ...  0.002653      s\n",
              "11       100011       114.744  ...  0.307170      b\n",
              "23       100023       141.481  ...  0.001503      s\n",
              "...         ...           ...  ...       ...    ...\n",
              "249976   349976       137.371  ...  0.001503      s\n",
              "249980   349980       119.934  ...  0.018636      s\n",
              "249985   349985       126.151  ...  0.018636      s\n",
              "249993   349993       130.075  ...  0.001503      s\n",
              "249994   349994       217.020  ...  0.064061      b\n",
              "\n",
              "[68114 rows x 33 columns]"
            ]
          },
          "metadata": {
            "tags": []
          },
          "execution_count": 24
        }
      ]
    },
    {
      "cell_type": "code",
      "metadata": {
        "colab": {
          "base_uri": "https://localhost:8080/"
        },
        "id": "5K0LvL7mqTLQ",
        "outputId": "21a8a507-d7a5-4f05-bbdd-21cf872005df"
      },
      "source": [
        "higgsdata.isna().sum()"
      ],
      "execution_count": 25,
      "outputs": [
        {
          "output_type": "execute_result",
          "data": {
            "text/plain": [
              "EventId                        0\n",
              "DER_mass_MMC                   0\n",
              "DER_mass_transverse_met_lep    0\n",
              "DER_mass_vis                   0\n",
              "DER_pt_h                       0\n",
              "DER_deltaeta_jet_jet           0\n",
              "DER_mass_jet_jet               0\n",
              "DER_prodeta_jet_jet            0\n",
              "DER_deltar_tau_lep             0\n",
              "DER_pt_tot                     0\n",
              "DER_sum_pt                     0\n",
              "DER_pt_ratio_lep_tau           0\n",
              "DER_met_phi_centrality         0\n",
              "DER_lep_eta_centrality         0\n",
              "PRI_tau_pt                     0\n",
              "PRI_tau_eta                    0\n",
              "PRI_tau_phi                    0\n",
              "PRI_lep_pt                     0\n",
              "PRI_lep_eta                    0\n",
              "PRI_lep_phi                    0\n",
              "PRI_met                        0\n",
              "PRI_met_phi                    0\n",
              "PRI_met_sumet                  0\n",
              "PRI_jet_num                    0\n",
              "PRI_jet_leading_pt             0\n",
              "PRI_jet_leading_eta            0\n",
              "PRI_jet_leading_phi            0\n",
              "PRI_jet_subleading_pt          0\n",
              "PRI_jet_subleading_eta         0\n",
              "PRI_jet_subleading_phi         0\n",
              "PRI_jet_all_pt                 0\n",
              "Weight                         0\n",
              "Label                          0\n",
              "dtype: int64"
            ]
          },
          "metadata": {
            "tags": []
          },
          "execution_count": 25
        }
      ]
    },
    {
      "cell_type": "code",
      "metadata": {
        "id": "cC8Pulfq41XA"
      },
      "source": [
        "#si potevano togliere le colonne anche in maniera un po' più \"controllata\" in base a quanti NaN ci sono\n",
        "#remove=[]\n",
        "#for i in higgsdata.columns:\n",
        "# if higgsdata[i].isnull().sum()>40000\n",
        "#   remove=remove+[i]\n",
        "\n",
        "#higgsdata.drop(columns=remove, inplace=True)"
      ],
      "execution_count": 26,
      "outputs": []
    },
    {
      "cell_type": "markdown",
      "metadata": {
        "id": "qxVrD-etjOCL"
      },
      "source": [
        "Andrebbe rimosso anche l'EventID, perchè potrebbe modificare le scelte che faccio."
      ]
    },
    {
      "cell_type": "code",
      "metadata": {
        "colab": {
          "base_uri": "https://localhost:8080/"
        },
        "id": "MK0gZDJo5ey8",
        "outputId": "1c8da4ce-e084-402b-e582-f86929e30fd1"
      },
      "source": [
        "higgsdata.drop(columns=['EventId'], inplace=True)"
      ],
      "execution_count": 27,
      "outputs": [
        {
          "output_type": "stream",
          "text": [
            "/usr/local/lib/python3.7/dist-packages/pandas/core/frame.py:4174: SettingWithCopyWarning: \n",
            "A value is trying to be set on a copy of a slice from a DataFrame\n",
            "\n",
            "See the caveats in the documentation: https://pandas.pydata.org/pandas-docs/stable/user_guide/indexing.html#returning-a-view-versus-a-copy\n",
            "  errors=errors,\n"
          ],
          "name": "stderr"
        }
      ]
    },
    {
      "cell_type": "code",
      "metadata": {
        "colab": {
          "base_uri": "https://localhost:8080/",
          "height": 226
        },
        "id": "8S7wYT1I50mi",
        "outputId": "0c5f5053-82fa-479f-c1ab-542ce67cc36c"
      },
      "source": [
        "higgsdata.head()"
      ],
      "execution_count": 28,
      "outputs": [
        {
          "output_type": "execute_result",
          "data": {
            "text/html": [
              "<div>\n",
              "<style scoped>\n",
              "    .dataframe tbody tr th:only-of-type {\n",
              "        vertical-align: middle;\n",
              "    }\n",
              "\n",
              "    .dataframe tbody tr th {\n",
              "        vertical-align: top;\n",
              "    }\n",
              "\n",
              "    .dataframe thead th {\n",
              "        text-align: right;\n",
              "    }\n",
              "</style>\n",
              "<table border=\"1\" class=\"dataframe\">\n",
              "  <thead>\n",
              "    <tr style=\"text-align: right;\">\n",
              "      <th></th>\n",
              "      <th>DER_mass_MMC</th>\n",
              "      <th>DER_mass_transverse_met_lep</th>\n",
              "      <th>DER_mass_vis</th>\n",
              "      <th>DER_pt_h</th>\n",
              "      <th>DER_deltaeta_jet_jet</th>\n",
              "      <th>DER_mass_jet_jet</th>\n",
              "      <th>DER_prodeta_jet_jet</th>\n",
              "      <th>DER_deltar_tau_lep</th>\n",
              "      <th>DER_pt_tot</th>\n",
              "      <th>DER_sum_pt</th>\n",
              "      <th>DER_pt_ratio_lep_tau</th>\n",
              "      <th>DER_met_phi_centrality</th>\n",
              "      <th>DER_lep_eta_centrality</th>\n",
              "      <th>PRI_tau_pt</th>\n",
              "      <th>PRI_tau_eta</th>\n",
              "      <th>PRI_tau_phi</th>\n",
              "      <th>PRI_lep_pt</th>\n",
              "      <th>PRI_lep_eta</th>\n",
              "      <th>PRI_lep_phi</th>\n",
              "      <th>PRI_met</th>\n",
              "      <th>PRI_met_phi</th>\n",
              "      <th>PRI_met_sumet</th>\n",
              "      <th>PRI_jet_num</th>\n",
              "      <th>PRI_jet_leading_pt</th>\n",
              "      <th>PRI_jet_leading_eta</th>\n",
              "      <th>PRI_jet_leading_phi</th>\n",
              "      <th>PRI_jet_subleading_pt</th>\n",
              "      <th>PRI_jet_subleading_eta</th>\n",
              "      <th>PRI_jet_subleading_phi</th>\n",
              "      <th>PRI_jet_all_pt</th>\n",
              "      <th>Weight</th>\n",
              "      <th>Label</th>\n",
              "    </tr>\n",
              "  </thead>\n",
              "  <tbody>\n",
              "    <tr>\n",
              "      <th>0</th>\n",
              "      <td>138.470</td>\n",
              "      <td>51.655</td>\n",
              "      <td>97.827</td>\n",
              "      <td>27.980</td>\n",
              "      <td>0.910</td>\n",
              "      <td>124.711</td>\n",
              "      <td>2.666</td>\n",
              "      <td>3.064</td>\n",
              "      <td>41.928</td>\n",
              "      <td>197.760</td>\n",
              "      <td>1.582</td>\n",
              "      <td>1.396</td>\n",
              "      <td>0.200</td>\n",
              "      <td>32.638</td>\n",
              "      <td>1.017</td>\n",
              "      <td>0.381</td>\n",
              "      <td>51.626</td>\n",
              "      <td>2.273</td>\n",
              "      <td>-2.414</td>\n",
              "      <td>16.824</td>\n",
              "      <td>-0.277</td>\n",
              "      <td>258.733</td>\n",
              "      <td>2</td>\n",
              "      <td>67.435</td>\n",
              "      <td>2.150</td>\n",
              "      <td>0.444</td>\n",
              "      <td>46.062</td>\n",
              "      <td>1.240</td>\n",
              "      <td>-2.475</td>\n",
              "      <td>113.497</td>\n",
              "      <td>0.002653</td>\n",
              "      <td>s</td>\n",
              "    </tr>\n",
              "    <tr>\n",
              "      <th>5</th>\n",
              "      <td>89.744</td>\n",
              "      <td>13.550</td>\n",
              "      <td>59.149</td>\n",
              "      <td>116.344</td>\n",
              "      <td>2.636</td>\n",
              "      <td>284.584</td>\n",
              "      <td>-0.540</td>\n",
              "      <td>1.362</td>\n",
              "      <td>61.619</td>\n",
              "      <td>278.876</td>\n",
              "      <td>0.588</td>\n",
              "      <td>0.479</td>\n",
              "      <td>0.975</td>\n",
              "      <td>53.651</td>\n",
              "      <td>0.371</td>\n",
              "      <td>1.329</td>\n",
              "      <td>31.565</td>\n",
              "      <td>-0.884</td>\n",
              "      <td>1.857</td>\n",
              "      <td>40.735</td>\n",
              "      <td>2.237</td>\n",
              "      <td>282.849</td>\n",
              "      <td>3</td>\n",
              "      <td>90.547</td>\n",
              "      <td>-2.412</td>\n",
              "      <td>-0.653</td>\n",
              "      <td>56.165</td>\n",
              "      <td>0.224</td>\n",
              "      <td>3.106</td>\n",
              "      <td>193.660</td>\n",
              "      <td>0.083414</td>\n",
              "      <td>b</td>\n",
              "    </tr>\n",
              "    <tr>\n",
              "      <th>6</th>\n",
              "      <td>148.754</td>\n",
              "      <td>28.862</td>\n",
              "      <td>107.782</td>\n",
              "      <td>106.130</td>\n",
              "      <td>0.733</td>\n",
              "      <td>158.359</td>\n",
              "      <td>0.113</td>\n",
              "      <td>2.941</td>\n",
              "      <td>2.545</td>\n",
              "      <td>305.967</td>\n",
              "      <td>3.371</td>\n",
              "      <td>1.393</td>\n",
              "      <td>0.791</td>\n",
              "      <td>28.850</td>\n",
              "      <td>1.113</td>\n",
              "      <td>2.409</td>\n",
              "      <td>97.240</td>\n",
              "      <td>0.675</td>\n",
              "      <td>-0.966</td>\n",
              "      <td>38.421</td>\n",
              "      <td>-1.443</td>\n",
              "      <td>294.074</td>\n",
              "      <td>2</td>\n",
              "      <td>123.010</td>\n",
              "      <td>0.864</td>\n",
              "      <td>1.450</td>\n",
              "      <td>56.867</td>\n",
              "      <td>0.131</td>\n",
              "      <td>-2.767</td>\n",
              "      <td>179.877</td>\n",
              "      <td>0.002653</td>\n",
              "      <td>s</td>\n",
              "    </tr>\n",
              "    <tr>\n",
              "      <th>11</th>\n",
              "      <td>114.744</td>\n",
              "      <td>10.286</td>\n",
              "      <td>75.712</td>\n",
              "      <td>30.816</td>\n",
              "      <td>2.563</td>\n",
              "      <td>252.599</td>\n",
              "      <td>-1.401</td>\n",
              "      <td>2.888</td>\n",
              "      <td>36.745</td>\n",
              "      <td>239.804</td>\n",
              "      <td>1.061</td>\n",
              "      <td>1.364</td>\n",
              "      <td>0.769</td>\n",
              "      <td>35.976</td>\n",
              "      <td>-0.669</td>\n",
              "      <td>-0.342</td>\n",
              "      <td>38.188</td>\n",
              "      <td>-0.165</td>\n",
              "      <td>2.502</td>\n",
              "      <td>22.385</td>\n",
              "      <td>2.148</td>\n",
              "      <td>290.547</td>\n",
              "      <td>3</td>\n",
              "      <td>76.773</td>\n",
              "      <td>-0.790</td>\n",
              "      <td>0.303</td>\n",
              "      <td>56.876</td>\n",
              "      <td>1.773</td>\n",
              "      <td>-2.079</td>\n",
              "      <td>165.640</td>\n",
              "      <td>0.307170</td>\n",
              "      <td>b</td>\n",
              "    </tr>\n",
              "    <tr>\n",
              "      <th>23</th>\n",
              "      <td>141.481</td>\n",
              "      <td>0.736</td>\n",
              "      <td>111.581</td>\n",
              "      <td>174.075</td>\n",
              "      <td>1.955</td>\n",
              "      <td>364.344</td>\n",
              "      <td>-0.923</td>\n",
              "      <td>1.335</td>\n",
              "      <td>6.663</td>\n",
              "      <td>440.859</td>\n",
              "      <td>0.652</td>\n",
              "      <td>1.042</td>\n",
              "      <td>0.207</td>\n",
              "      <td>98.565</td>\n",
              "      <td>0.190</td>\n",
              "      <td>-1.506</td>\n",
              "      <td>64.285</td>\n",
              "      <td>1.405</td>\n",
              "      <td>-0.952</td>\n",
              "      <td>17.960</td>\n",
              "      <td>-0.973</td>\n",
              "      <td>454.785</td>\n",
              "      <td>2</td>\n",
              "      <td>195.533</td>\n",
              "      <td>1.156</td>\n",
              "      <td>1.416</td>\n",
              "      <td>82.477</td>\n",
              "      <td>-0.798</td>\n",
              "      <td>-2.785</td>\n",
              "      <td>278.009</td>\n",
              "      <td>0.001503</td>\n",
              "      <td>s</td>\n",
              "    </tr>\n",
              "  </tbody>\n",
              "</table>\n",
              "</div>"
            ],
            "text/plain": [
              "    DER_mass_MMC  DER_mass_transverse_met_lep  ...    Weight  Label\n",
              "0        138.470                       51.655  ...  0.002653      s\n",
              "5         89.744                       13.550  ...  0.083414      b\n",
              "6        148.754                       28.862  ...  0.002653      s\n",
              "11       114.744                       10.286  ...  0.307170      b\n",
              "23       141.481                        0.736  ...  0.001503      s\n",
              "\n",
              "[5 rows x 32 columns]"
            ]
          },
          "metadata": {
            "tags": []
          },
          "execution_count": 28
        }
      ]
    },
    {
      "cell_type": "markdown",
      "metadata": {
        "id": "Roe4AvsVge6K"
      },
      "source": [
        "Adesso vorrei rimuovere la colonna label e weight dal dataframe, ma prima me le salvo in due vettori. This will be my target variables for, respectively, classification and regression.\n",
        "\n",
        "Per evitare che le persone possano imbrogliare, o creare modello specifici per questo set di dati, i dati kaggle sono divisi in train e test set, in cui i dati del test non hanno le label in questo caso. Siccome il test set è blinded, non posso sapere se il mio modello funziona bene o no. Quindi devo prendere il training set e dividerlo nel mio train e test set e provare il mio modello sui set che ho creato io, e poi applicare il modello al test set di kaggle. Ecco perchè utilizzamo solo il training set per il momento."
      ]
    },
    {
      "cell_type": "code",
      "metadata": {
        "colab": {
          "base_uri": "https://localhost:8080/"
        },
        "id": "KRhR6S3bgDFa",
        "outputId": "fd3f83ae-cec2-40c0-d510-99d6e4c5d09c"
      },
      "source": [
        "label = np.array(higgsdata.Label)\n",
        "label"
      ],
      "execution_count": 29,
      "outputs": [
        {
          "output_type": "execute_result",
          "data": {
            "text/plain": [
              "array(['s', 'b', 's', ..., 's', 's', 'b'], dtype=object)"
            ]
          },
          "metadata": {
            "tags": []
          },
          "execution_count": 29
        }
      ]
    },
    {
      "cell_type": "code",
      "metadata": {
        "colab": {
          "base_uri": "https://localhost:8080/"
        },
        "id": "nO-aLfiVgU2f",
        "outputId": "85e27ca5-0299-421e-eea7-d5d3d0409491"
      },
      "source": [
        "weight = np.array(higgsdata.Weight)\n",
        "weight.shape"
      ],
      "execution_count": 30,
      "outputs": [
        {
          "output_type": "execute_result",
          "data": {
            "text/plain": [
              "(68114,)"
            ]
          },
          "metadata": {
            "tags": []
          },
          "execution_count": 30
        }
      ]
    },
    {
      "cell_type": "code",
      "metadata": {
        "id": "jS28g2UofthD"
      },
      "source": [
        "higgsdata = higgsdata.drop(labels=['Label'], axis=1)\n",
        "higgsdata = higgsdata.drop(labels=['Weight'], axis=1)"
      ],
      "execution_count": 31,
      "outputs": []
    },
    {
      "cell_type": "code",
      "metadata": {
        "colab": {
          "base_uri": "https://localhost:8080/",
          "height": 226
        },
        "id": "1KkiD8i3klag",
        "outputId": "6429ed03-509b-48d1-9840-3127e365f96b"
      },
      "source": [
        "higgsdata.head()"
      ],
      "execution_count": 32,
      "outputs": [
        {
          "output_type": "execute_result",
          "data": {
            "text/html": [
              "<div>\n",
              "<style scoped>\n",
              "    .dataframe tbody tr th:only-of-type {\n",
              "        vertical-align: middle;\n",
              "    }\n",
              "\n",
              "    .dataframe tbody tr th {\n",
              "        vertical-align: top;\n",
              "    }\n",
              "\n",
              "    .dataframe thead th {\n",
              "        text-align: right;\n",
              "    }\n",
              "</style>\n",
              "<table border=\"1\" class=\"dataframe\">\n",
              "  <thead>\n",
              "    <tr style=\"text-align: right;\">\n",
              "      <th></th>\n",
              "      <th>DER_mass_MMC</th>\n",
              "      <th>DER_mass_transverse_met_lep</th>\n",
              "      <th>DER_mass_vis</th>\n",
              "      <th>DER_pt_h</th>\n",
              "      <th>DER_deltaeta_jet_jet</th>\n",
              "      <th>DER_mass_jet_jet</th>\n",
              "      <th>DER_prodeta_jet_jet</th>\n",
              "      <th>DER_deltar_tau_lep</th>\n",
              "      <th>DER_pt_tot</th>\n",
              "      <th>DER_sum_pt</th>\n",
              "      <th>DER_pt_ratio_lep_tau</th>\n",
              "      <th>DER_met_phi_centrality</th>\n",
              "      <th>DER_lep_eta_centrality</th>\n",
              "      <th>PRI_tau_pt</th>\n",
              "      <th>PRI_tau_eta</th>\n",
              "      <th>PRI_tau_phi</th>\n",
              "      <th>PRI_lep_pt</th>\n",
              "      <th>PRI_lep_eta</th>\n",
              "      <th>PRI_lep_phi</th>\n",
              "      <th>PRI_met</th>\n",
              "      <th>PRI_met_phi</th>\n",
              "      <th>PRI_met_sumet</th>\n",
              "      <th>PRI_jet_num</th>\n",
              "      <th>PRI_jet_leading_pt</th>\n",
              "      <th>PRI_jet_leading_eta</th>\n",
              "      <th>PRI_jet_leading_phi</th>\n",
              "      <th>PRI_jet_subleading_pt</th>\n",
              "      <th>PRI_jet_subleading_eta</th>\n",
              "      <th>PRI_jet_subleading_phi</th>\n",
              "      <th>PRI_jet_all_pt</th>\n",
              "    </tr>\n",
              "  </thead>\n",
              "  <tbody>\n",
              "    <tr>\n",
              "      <th>0</th>\n",
              "      <td>138.470</td>\n",
              "      <td>51.655</td>\n",
              "      <td>97.827</td>\n",
              "      <td>27.980</td>\n",
              "      <td>0.910</td>\n",
              "      <td>124.711</td>\n",
              "      <td>2.666</td>\n",
              "      <td>3.064</td>\n",
              "      <td>41.928</td>\n",
              "      <td>197.760</td>\n",
              "      <td>1.582</td>\n",
              "      <td>1.396</td>\n",
              "      <td>0.200</td>\n",
              "      <td>32.638</td>\n",
              "      <td>1.017</td>\n",
              "      <td>0.381</td>\n",
              "      <td>51.626</td>\n",
              "      <td>2.273</td>\n",
              "      <td>-2.414</td>\n",
              "      <td>16.824</td>\n",
              "      <td>-0.277</td>\n",
              "      <td>258.733</td>\n",
              "      <td>2</td>\n",
              "      <td>67.435</td>\n",
              "      <td>2.150</td>\n",
              "      <td>0.444</td>\n",
              "      <td>46.062</td>\n",
              "      <td>1.240</td>\n",
              "      <td>-2.475</td>\n",
              "      <td>113.497</td>\n",
              "    </tr>\n",
              "    <tr>\n",
              "      <th>5</th>\n",
              "      <td>89.744</td>\n",
              "      <td>13.550</td>\n",
              "      <td>59.149</td>\n",
              "      <td>116.344</td>\n",
              "      <td>2.636</td>\n",
              "      <td>284.584</td>\n",
              "      <td>-0.540</td>\n",
              "      <td>1.362</td>\n",
              "      <td>61.619</td>\n",
              "      <td>278.876</td>\n",
              "      <td>0.588</td>\n",
              "      <td>0.479</td>\n",
              "      <td>0.975</td>\n",
              "      <td>53.651</td>\n",
              "      <td>0.371</td>\n",
              "      <td>1.329</td>\n",
              "      <td>31.565</td>\n",
              "      <td>-0.884</td>\n",
              "      <td>1.857</td>\n",
              "      <td>40.735</td>\n",
              "      <td>2.237</td>\n",
              "      <td>282.849</td>\n",
              "      <td>3</td>\n",
              "      <td>90.547</td>\n",
              "      <td>-2.412</td>\n",
              "      <td>-0.653</td>\n",
              "      <td>56.165</td>\n",
              "      <td>0.224</td>\n",
              "      <td>3.106</td>\n",
              "      <td>193.660</td>\n",
              "    </tr>\n",
              "    <tr>\n",
              "      <th>6</th>\n",
              "      <td>148.754</td>\n",
              "      <td>28.862</td>\n",
              "      <td>107.782</td>\n",
              "      <td>106.130</td>\n",
              "      <td>0.733</td>\n",
              "      <td>158.359</td>\n",
              "      <td>0.113</td>\n",
              "      <td>2.941</td>\n",
              "      <td>2.545</td>\n",
              "      <td>305.967</td>\n",
              "      <td>3.371</td>\n",
              "      <td>1.393</td>\n",
              "      <td>0.791</td>\n",
              "      <td>28.850</td>\n",
              "      <td>1.113</td>\n",
              "      <td>2.409</td>\n",
              "      <td>97.240</td>\n",
              "      <td>0.675</td>\n",
              "      <td>-0.966</td>\n",
              "      <td>38.421</td>\n",
              "      <td>-1.443</td>\n",
              "      <td>294.074</td>\n",
              "      <td>2</td>\n",
              "      <td>123.010</td>\n",
              "      <td>0.864</td>\n",
              "      <td>1.450</td>\n",
              "      <td>56.867</td>\n",
              "      <td>0.131</td>\n",
              "      <td>-2.767</td>\n",
              "      <td>179.877</td>\n",
              "    </tr>\n",
              "    <tr>\n",
              "      <th>11</th>\n",
              "      <td>114.744</td>\n",
              "      <td>10.286</td>\n",
              "      <td>75.712</td>\n",
              "      <td>30.816</td>\n",
              "      <td>2.563</td>\n",
              "      <td>252.599</td>\n",
              "      <td>-1.401</td>\n",
              "      <td>2.888</td>\n",
              "      <td>36.745</td>\n",
              "      <td>239.804</td>\n",
              "      <td>1.061</td>\n",
              "      <td>1.364</td>\n",
              "      <td>0.769</td>\n",
              "      <td>35.976</td>\n",
              "      <td>-0.669</td>\n",
              "      <td>-0.342</td>\n",
              "      <td>38.188</td>\n",
              "      <td>-0.165</td>\n",
              "      <td>2.502</td>\n",
              "      <td>22.385</td>\n",
              "      <td>2.148</td>\n",
              "      <td>290.547</td>\n",
              "      <td>3</td>\n",
              "      <td>76.773</td>\n",
              "      <td>-0.790</td>\n",
              "      <td>0.303</td>\n",
              "      <td>56.876</td>\n",
              "      <td>1.773</td>\n",
              "      <td>-2.079</td>\n",
              "      <td>165.640</td>\n",
              "    </tr>\n",
              "    <tr>\n",
              "      <th>23</th>\n",
              "      <td>141.481</td>\n",
              "      <td>0.736</td>\n",
              "      <td>111.581</td>\n",
              "      <td>174.075</td>\n",
              "      <td>1.955</td>\n",
              "      <td>364.344</td>\n",
              "      <td>-0.923</td>\n",
              "      <td>1.335</td>\n",
              "      <td>6.663</td>\n",
              "      <td>440.859</td>\n",
              "      <td>0.652</td>\n",
              "      <td>1.042</td>\n",
              "      <td>0.207</td>\n",
              "      <td>98.565</td>\n",
              "      <td>0.190</td>\n",
              "      <td>-1.506</td>\n",
              "      <td>64.285</td>\n",
              "      <td>1.405</td>\n",
              "      <td>-0.952</td>\n",
              "      <td>17.960</td>\n",
              "      <td>-0.973</td>\n",
              "      <td>454.785</td>\n",
              "      <td>2</td>\n",
              "      <td>195.533</td>\n",
              "      <td>1.156</td>\n",
              "      <td>1.416</td>\n",
              "      <td>82.477</td>\n",
              "      <td>-0.798</td>\n",
              "      <td>-2.785</td>\n",
              "      <td>278.009</td>\n",
              "    </tr>\n",
              "  </tbody>\n",
              "</table>\n",
              "</div>"
            ],
            "text/plain": [
              "    DER_mass_MMC  ...  PRI_jet_all_pt\n",
              "0        138.470  ...         113.497\n",
              "5         89.744  ...         193.660\n",
              "6        148.754  ...         179.877\n",
              "11       114.744  ...         165.640\n",
              "23       141.481  ...         278.009\n",
              "\n",
              "[5 rows x 30 columns]"
            ]
          },
          "metadata": {
            "tags": []
          },
          "execution_count": 32
        }
      ]
    },
    {
      "cell_type": "markdown",
      "metadata": {
        "id": "nackp_ulC4kq"
      },
      "source": [
        "#**OGNI VOLTA CHE TOLGO DELLE OSSERVAZIONI, CALCOLO QUANTA PERCENTUALE DI OSSERVAIZONI HO ELIMINIATO DAL MIO DATASET**"
      ]
    },
    {
      "cell_type": "markdown",
      "metadata": {
        "id": "Lgwaxbq5stLQ"
      },
      "source": [
        "higgsdata.Label.unique ci permette di sapere quali sono gli unique value in this categorical, ovvero ritorna gli elementi che compaiono almeno una volta nella colonna, ad esempio. "
      ]
    },
    {
      "cell_type": "code",
      "metadata": {
        "id": "uG9J0M6khyWL"
      },
      "source": [
        "#Adesso, prima di creare il train_test_split dobbiamo ricordarci di standardizzare i dati con sklearn.preprocessing.\n",
        "from sklearn import preprocessing\n",
        "\n",
        "higgsdata_scaled = pd.DataFrame(sklearn.preprocessing.scale(higgsdata[higgsdata.columns],\n",
        "                                                            axis=0), columns = higgsdata.columns)\n"
      ],
      "execution_count": 33,
      "outputs": []
    },
    {
      "cell_type": "code",
      "metadata": {
        "id": "LDLY-92eqrAj"
      },
      "source": [
        "from sklearn.model_selection import train_test_split\n",
        "\n",
        "#Per splittare i dati va anche bene 75% e 25% se sono molto grandi. \n",
        "\n",
        "X_traindata, X_testdata, y_trainlabel, y_testlabel = train_test_split(higgsdata_scaled[higgsdata_scaled.columns], \n",
        "                    label, train_size=0.75, test_size=0.25, random_state=1) "
      ],
      "execution_count": 34,
      "outputs": []
    },
    {
      "cell_type": "code",
      "metadata": {
        "colab": {
          "base_uri": "https://localhost:8080/",
          "height": 226
        },
        "id": "PkcWiiEk74rF",
        "outputId": "670147fb-9f25-422b-d4b3-6cb304538bae"
      },
      "source": [
        "higgsdata_scaled.head()"
      ],
      "execution_count": 35,
      "outputs": [
        {
          "output_type": "execute_result",
          "data": {
            "text/html": [
              "<div>\n",
              "<style scoped>\n",
              "    .dataframe tbody tr th:only-of-type {\n",
              "        vertical-align: middle;\n",
              "    }\n",
              "\n",
              "    .dataframe tbody tr th {\n",
              "        vertical-align: top;\n",
              "    }\n",
              "\n",
              "    .dataframe thead th {\n",
              "        text-align: right;\n",
              "    }\n",
              "</style>\n",
              "<table border=\"1\" class=\"dataframe\">\n",
              "  <thead>\n",
              "    <tr style=\"text-align: right;\">\n",
              "      <th></th>\n",
              "      <th>DER_mass_MMC</th>\n",
              "      <th>DER_mass_transverse_met_lep</th>\n",
              "      <th>DER_mass_vis</th>\n",
              "      <th>DER_pt_h</th>\n",
              "      <th>DER_deltaeta_jet_jet</th>\n",
              "      <th>DER_mass_jet_jet</th>\n",
              "      <th>DER_prodeta_jet_jet</th>\n",
              "      <th>DER_deltar_tau_lep</th>\n",
              "      <th>DER_pt_tot</th>\n",
              "      <th>DER_sum_pt</th>\n",
              "      <th>DER_pt_ratio_lep_tau</th>\n",
              "      <th>DER_met_phi_centrality</th>\n",
              "      <th>DER_lep_eta_centrality</th>\n",
              "      <th>PRI_tau_pt</th>\n",
              "      <th>PRI_tau_eta</th>\n",
              "      <th>PRI_tau_phi</th>\n",
              "      <th>PRI_lep_pt</th>\n",
              "      <th>PRI_lep_eta</th>\n",
              "      <th>PRI_lep_phi</th>\n",
              "      <th>PRI_met</th>\n",
              "      <th>PRI_met_phi</th>\n",
              "      <th>PRI_met_sumet</th>\n",
              "      <th>PRI_jet_num</th>\n",
              "      <th>PRI_jet_leading_pt</th>\n",
              "      <th>PRI_jet_leading_eta</th>\n",
              "      <th>PRI_jet_leading_phi</th>\n",
              "      <th>PRI_jet_subleading_pt</th>\n",
              "      <th>PRI_jet_subleading_eta</th>\n",
              "      <th>PRI_jet_subleading_phi</th>\n",
              "      <th>PRI_jet_all_pt</th>\n",
              "    </tr>\n",
              "  </thead>\n",
              "  <tbody>\n",
              "    <tr>\n",
              "      <th>0</th>\n",
              "      <td>0.257671</td>\n",
              "      <td>0.532835</td>\n",
              "      <td>0.474611</td>\n",
              "      <td>-1.093454</td>\n",
              "      <td>-0.870648</td>\n",
              "      <td>-0.632428</td>\n",
              "      <td>0.987313</td>\n",
              "      <td>1.378045</td>\n",
              "      <td>0.515495</td>\n",
              "      <td>-0.643135</td>\n",
              "      <td>0.092057</td>\n",
              "      <td>0.820325</td>\n",
              "      <td>-0.662199</td>\n",
              "      <td>-0.440631</td>\n",
              "      <td>0.865134</td>\n",
              "      <td>0.208926</td>\n",
              "      <td>-0.028037</td>\n",
              "      <td>1.901426</td>\n",
              "      <td>-1.352776</td>\n",
              "      <td>-0.893300</td>\n",
              "      <td>-0.156564</td>\n",
              "      <td>-0.542982</td>\n",
              "      <td>-0.660444</td>\n",
              "      <td>-0.578666</td>\n",
              "      <td>1.234399</td>\n",
              "      <td>0.251795</td>\n",
              "      <td>-0.367844</td>\n",
              "      <td>0.612965</td>\n",
              "      <td>-1.359329</td>\n",
              "      <td>-0.645152</td>\n",
              "    </tr>\n",
              "    <tr>\n",
              "      <th>1</th>\n",
              "      <td>-0.544388</td>\n",
              "      <td>-0.706350</td>\n",
              "      <td>-0.475044</td>\n",
              "      <td>0.064383</td>\n",
              "      <td>0.115251</td>\n",
              "      <td>-0.233525</td>\n",
              "      <td>0.094923</td>\n",
              "      <td>-0.819132</td>\n",
              "      <td>1.212110</td>\n",
              "      <td>-0.020337</td>\n",
              "      <td>-0.813244</td>\n",
              "      <td>-0.171167</td>\n",
              "      <td>1.282989</td>\n",
              "      <td>0.267314</td>\n",
              "      <td>0.317413</td>\n",
              "      <td>0.730285</td>\n",
              "      <td>-0.724632</td>\n",
              "      <td>-0.735232</td>\n",
              "      <td>0.999809</td>\n",
              "      <td>-0.333197</td>\n",
              "      <td>1.229416</td>\n",
              "      <td>-0.370559</td>\n",
              "      <td>1.514133</td>\n",
              "      <td>-0.239608</td>\n",
              "      <td>-1.377788</td>\n",
              "      <td>-0.354529</td>\n",
              "      <td>-0.054320</td>\n",
              "      <td>0.115912</td>\n",
              "      <td>1.711823</td>\n",
              "      <td>0.094961</td>\n",
              "    </tr>\n",
              "    <tr>\n",
              "      <th>2</th>\n",
              "      <td>0.426952</td>\n",
              "      <td>-0.208400</td>\n",
              "      <td>0.719034</td>\n",
              "      <td>-0.069451</td>\n",
              "      <td>-0.971751</td>\n",
              "      <td>-0.548472</td>\n",
              "      <td>0.276686</td>\n",
              "      <td>1.219260</td>\n",
              "      <td>-0.877769</td>\n",
              "      <td>0.187665</td>\n",
              "      <td>1.721416</td>\n",
              "      <td>0.817081</td>\n",
              "      <td>0.821164</td>\n",
              "      <td>-0.568252</td>\n",
              "      <td>0.946529</td>\n",
              "      <td>1.324237</td>\n",
              "      <td>1.555856</td>\n",
              "      <td>0.566811</td>\n",
              "      <td>-0.555177</td>\n",
              "      <td>-0.387401</td>\n",
              "      <td>-0.799385</td>\n",
              "      <td>-0.290304</td>\n",
              "      <td>-0.660444</td>\n",
              "      <td>0.236631</td>\n",
              "      <td>0.498040</td>\n",
              "      <td>0.807823</td>\n",
              "      <td>-0.032535</td>\n",
              "      <td>0.070414</td>\n",
              "      <td>-1.520013</td>\n",
              "      <td>-0.032292</td>\n",
              "    </tr>\n",
              "    <tr>\n",
              "      <th>3</th>\n",
              "      <td>-0.132873</td>\n",
              "      <td>-0.812497</td>\n",
              "      <td>-0.068375</td>\n",
              "      <td>-1.056294</td>\n",
              "      <td>0.073553</td>\n",
              "      <td>-0.313332</td>\n",
              "      <td>-0.144736</td>\n",
              "      <td>1.150840</td>\n",
              "      <td>0.332135</td>\n",
              "      <td>-0.320326</td>\n",
              "      <td>-0.382452</td>\n",
              "      <td>0.785725</td>\n",
              "      <td>0.765945</td>\n",
              "      <td>-0.328171</td>\n",
              "      <td>-0.564367</td>\n",
              "      <td>-0.188692</td>\n",
              "      <td>-0.494656</td>\n",
              "      <td>-0.134738</td>\n",
              "      <td>1.355093</td>\n",
              "      <td>-0.763036</td>\n",
              "      <td>1.180350</td>\n",
              "      <td>-0.315521</td>\n",
              "      <td>1.514133</td>\n",
              "      <td>-0.441676</td>\n",
              "      <td>-0.449036</td>\n",
              "      <td>0.173863</td>\n",
              "      <td>-0.032256</td>\n",
              "      <td>0.873721</td>\n",
              "      <td>-1.141415</td>\n",
              "      <td>-0.163737</td>\n",
              "    </tr>\n",
              "    <tr>\n",
              "      <th>4</th>\n",
              "      <td>0.307234</td>\n",
              "      <td>-1.123065</td>\n",
              "      <td>0.812311</td>\n",
              "      <td>0.820835</td>\n",
              "      <td>-0.273740</td>\n",
              "      <td>-0.034514</td>\n",
              "      <td>-0.011685</td>\n",
              "      <td>-0.853987</td>\n",
              "      <td>-0.732085</td>\n",
              "      <td>1.223348</td>\n",
              "      <td>-0.754955</td>\n",
              "      <td>0.437568</td>\n",
              "      <td>-0.644630</td>\n",
              "      <td>1.780505</td>\n",
              "      <td>0.163949</td>\n",
              "      <td>-0.828841</td>\n",
              "      <td>0.411532</td>\n",
              "      <td>1.176491</td>\n",
              "      <td>-0.547466</td>\n",
              "      <td>-0.866690</td>\n",
              "      <td>-0.540272</td>\n",
              "      <td>0.858731</td>\n",
              "      <td>-0.660444</td>\n",
              "      <td>1.300559</td>\n",
              "      <td>0.665238</td>\n",
              "      <td>0.789031</td>\n",
              "      <td>0.762212</td>\n",
              "      <td>-0.384076</td>\n",
              "      <td>-1.529918</td>\n",
              "      <td>0.873721</td>\n",
              "    </tr>\n",
              "  </tbody>\n",
              "</table>\n",
              "</div>"
            ],
            "text/plain": [
              "   DER_mass_MMC  ...  PRI_jet_all_pt\n",
              "0      0.257671  ...       -0.645152\n",
              "1     -0.544388  ...        0.094961\n",
              "2      0.426952  ...       -0.032292\n",
              "3     -0.132873  ...       -0.163737\n",
              "4      0.307234  ...        0.873721\n",
              "\n",
              "[5 rows x 30 columns]"
            ]
          },
          "metadata": {
            "tags": []
          },
          "execution_count": 35
        }
      ]
    },
    {
      "cell_type": "code",
      "metadata": {
        "colab": {
          "base_uri": "https://localhost:8080/"
        },
        "id": "OCKzNauqkLWo",
        "outputId": "329e3dee-b493-488b-af69-bc2ede6a9b47"
      },
      "source": [
        "X_traindata.shape"
      ],
      "execution_count": 36,
      "outputs": [
        {
          "output_type": "execute_result",
          "data": {
            "text/plain": [
              "(51085, 30)"
            ]
          },
          "metadata": {
            "tags": []
          },
          "execution_count": 36
        }
      ]
    },
    {
      "cell_type": "code",
      "metadata": {
        "colab": {
          "base_uri": "https://localhost:8080/"
        },
        "id": "aa5AbLrVkRz2",
        "outputId": "fe95be44-ce16-4f79-e125-faa6ebc03484"
      },
      "source": [
        "X_testdata.shape"
      ],
      "execution_count": 37,
      "outputs": [
        {
          "output_type": "execute_result",
          "data": {
            "text/plain": [
              "(17029, 30)"
            ]
          },
          "metadata": {
            "tags": []
          },
          "execution_count": 37
        }
      ]
    },
    {
      "cell_type": "code",
      "metadata": {
        "colab": {
          "base_uri": "https://localhost:8080/"
        },
        "id": "GX8OrQijkT9F",
        "outputId": "fc0f928a-636e-48b8-9352-5330e0b95e72"
      },
      "source": [
        "y_trainlabel.shape"
      ],
      "execution_count": 38,
      "outputs": [
        {
          "output_type": "execute_result",
          "data": {
            "text/plain": [
              "(51085,)"
            ]
          },
          "metadata": {
            "tags": []
          },
          "execution_count": 38
        }
      ]
    },
    {
      "cell_type": "code",
      "metadata": {
        "colab": {
          "base_uri": "https://localhost:8080/"
        },
        "id": "KOhlXmy6kXN8",
        "outputId": "f22d2eb8-6b73-4cee-8f1d-54b5cf990fd4"
      },
      "source": [
        "y_testlabel.shape"
      ],
      "execution_count": 39,
      "outputs": [
        {
          "output_type": "execute_result",
          "data": {
            "text/plain": [
              "(17029,)"
            ]
          },
          "metadata": {
            "tags": []
          },
          "execution_count": 39
        }
      ]
    },
    {
      "cell_type": "markdown",
      "metadata": {
        "id": "ZaQpxEwXmBSt"
      },
      "source": [
        "Adesso costruiamo i modelli"
      ]
    },
    {
      "cell_type": "code",
      "metadata": {
        "colab": {
          "base_uri": "https://localhost:8080/"
        },
        "id": "RkPnOZvLils-",
        "outputId": "b07d9209-4809-45f4-9c05-d23bd1c01c26"
      },
      "source": [
        "from sklearn.ensemble import RandomForestClassifier\n",
        "from sklearn.ensemble import GradientBoostingClassifier\n",
        "from sklearn.datasets import make_classification\n",
        "\n",
        "# Look at parameters used by our current forest\n",
        "rf = RandomForestClassifier(random_state = 1)\n",
        "print('Parameters currently in use:\\n')\n",
        "print(rf.get_params())"
      ],
      "execution_count": 40,
      "outputs": [
        {
          "output_type": "stream",
          "text": [
            "Parameters currently in use:\n",
            "\n",
            "{'bootstrap': True, 'ccp_alpha': 0.0, 'class_weight': None, 'criterion': 'gini', 'max_depth': None, 'max_features': 'auto', 'max_leaf_nodes': None, 'max_samples': None, 'min_impurity_decrease': 0.0, 'min_impurity_split': None, 'min_samples_leaf': 1, 'min_samples_split': 2, 'min_weight_fraction_leaf': 0.0, 'n_estimators': 100, 'n_jobs': None, 'oob_score': False, 'random_state': 1, 'verbose': 0, 'warm_start': False}\n"
          ],
          "name": "stdout"
        }
      ]
    },
    {
      "cell_type": "markdown",
      "metadata": {
        "id": "XIM9_T8Zy57H"
      },
      "source": [
        "Facciamo RandomForestClassifier e GradientBoostingClassifier, e giochiamo un po' con gli hyperparameters. Iniziamo usando prima il modello random forest: \n",
        "\n",
        "- **Per prima cosa usiamo RandomForestClassifier per la classificazione della target variable 'label' per la classificazione s o b.**\n",
        "- Dopo aver fatto il modello, fittiamo il modello ai dati e controlliamo il risultato del modello usando la proprietà dell'oggetto random forest che è score."
      ]
    },
    {
      "cell_type": "markdown",
      "metadata": {
        "id": "Ff6VIAzXmWaq"
      },
      "source": [
        "**Quindi costruiamo il gradient boosting model**"
      ]
    },
    {
      "cell_type": "code",
      "metadata": {
        "id": "W1cyrIXzksLw"
      },
      "source": [
        "gbt = GradientBoostingClassifier(random_state=12)"
      ],
      "execution_count": 41,
      "outputs": []
    },
    {
      "cell_type": "code",
      "metadata": {
        "colab": {
          "base_uri": "https://localhost:8080/"
        },
        "id": "kNhUMhj6lCZX",
        "outputId": "20b08e74-c41c-4305-cab2-b6980f7e3d4c"
      },
      "source": [
        "gbt.fit(X_traindata, y_trainlabel)"
      ],
      "execution_count": 42,
      "outputs": [
        {
          "output_type": "execute_result",
          "data": {
            "text/plain": [
              "GradientBoostingClassifier(ccp_alpha=0.0, criterion='friedman_mse', init=None,\n",
              "                           learning_rate=0.1, loss='deviance', max_depth=3,\n",
              "                           max_features=None, max_leaf_nodes=None,\n",
              "                           min_impurity_decrease=0.0, min_impurity_split=None,\n",
              "                           min_samples_leaf=1, min_samples_split=2,\n",
              "                           min_weight_fraction_leaf=0.0, n_estimators=100,\n",
              "                           n_iter_no_change=None, presort='deprecated',\n",
              "                           random_state=12, subsample=1.0, tol=0.0001,\n",
              "                           validation_fraction=0.1, verbose=0,\n",
              "                           warm_start=False)"
            ]
          },
          "metadata": {
            "tags": []
          },
          "execution_count": 42
        }
      ]
    },
    {
      "cell_type": "code",
      "metadata": {
        "id": "fRwGU8dtlC9Q",
        "colab": {
          "base_uri": "https://localhost:8080/"
        },
        "outputId": "4a7fa80a-0d1c-4d18-934b-9e2b5de153c8"
      },
      "source": [
        "gbt.score(X_traindata, y_trainlabel), gbt.score(X_testdata, y_testlabel)"
      ],
      "execution_count": 43,
      "outputs": [
        {
          "output_type": "execute_result",
          "data": {
            "text/plain": [
              "(0.8469217970049917, 0.8412707733865759)"
            ]
          },
          "metadata": {
            "tags": []
          },
          "execution_count": 43
        }
      ]
    },
    {
      "cell_type": "markdown",
      "metadata": {
        "id": "CvD7IpjV4SD1"
      },
      "source": [
        "###**SI POTREBBE ANCHE USARE kNN TO INFILL THE MISSING VALUE, ANZICHÈ RIMUOVERE I NaN**\n",
        "\n",
        "Quindi, giusto per provare, riprendo i dati dall'inizo. Ci metto i NaN e anzichè rimuoverli uso un kNN imputer per rimepire gli spazi NaN. **Prima di usare kNN, devo normalizzare i dati!**"
      ]
    },
    {
      "cell_type": "code",
      "metadata": {
        "id": "3OAMczDrs9px"
      },
      "source": [
        "higgsdata2 = pd.read_csv(\"training.csv\")"
      ],
      "execution_count": 44,
      "outputs": []
    },
    {
      "cell_type": "code",
      "metadata": {
        "id": "CnzAR-4Us9pz"
      },
      "source": [
        "higgsdata2 = higgsdata2.replace(-999.00, np.nan)"
      ],
      "execution_count": 45,
      "outputs": []
    },
    {
      "cell_type": "code",
      "metadata": {
        "colab": {
          "base_uri": "https://localhost:8080/"
        },
        "id": "j3nIeKvktv5i",
        "outputId": "a40fa371-7837-437f-919f-afb984518a48"
      },
      "source": [
        "label2 = np.array(higgsdata2.Label)\n",
        "label2"
      ],
      "execution_count": 46,
      "outputs": [
        {
          "output_type": "execute_result",
          "data": {
            "text/plain": [
              "array(['s', 'b', 'b', ..., 's', 'b', 'b'], dtype=object)"
            ]
          },
          "metadata": {
            "tags": []
          },
          "execution_count": 46
        }
      ]
    },
    {
      "cell_type": "code",
      "metadata": {
        "colab": {
          "base_uri": "https://localhost:8080/"
        },
        "id": "Ef13oz5utv5j",
        "outputId": "fe248c1e-6194-439f-eaa9-4ccb6d4a97be"
      },
      "source": [
        "weight2 = np.array(higgsdata2.Weight)\n",
        "weight2"
      ],
      "execution_count": 47,
      "outputs": [
        {
          "output_type": "execute_result",
          "data": {
            "text/plain": [
              "array([0.00265331, 2.23358449, 2.34738894, ..., 0.01863612, 1.68161144,\n",
              "       1.87747381])"
            ]
          },
          "metadata": {
            "tags": []
          },
          "execution_count": 47
        }
      ]
    },
    {
      "cell_type": "code",
      "metadata": {
        "id": "PU_TxRMqtv5l"
      },
      "source": [
        "higgsdata2 = higgsdata2.drop(labels=['Label'], axis=1)\n",
        "higgsdata2 = higgsdata2.drop(labels=['Weight'], axis=1)"
      ],
      "execution_count": 48,
      "outputs": []
    },
    {
      "cell_type": "code",
      "metadata": {
        "id": "3kAQ23hjtDtv"
      },
      "source": [
        "#Adesso, prima di creare il train_test_split dobbiamo ricordarci di standardizzare i dati con sklearn.preprocessing.\n",
        "from sklearn import preprocessing\n",
        "\n",
        "higgsdata2_scaled = pd.DataFrame(sklearn.preprocessing.scale(higgsdata2[higgsdata2.columns],\n",
        "                                                            axis=0), columns = higgsdata2.columns)\n"
      ],
      "execution_count": 49,
      "outputs": []
    },
    {
      "cell_type": "code",
      "metadata": {
        "colab": {
          "base_uri": "https://localhost:8080/",
          "height": 444
        },
        "id": "0U7LJe7WoY-q",
        "outputId": "fcbc5cf4-ea58-459c-d5d6-2c8ec582159f"
      },
      "source": [
        "higgsdata2_scaled"
      ],
      "execution_count": 50,
      "outputs": [
        {
          "output_type": "execute_result",
          "data": {
            "text/html": [
              "<div>\n",
              "<style scoped>\n",
              "    .dataframe tbody tr th:only-of-type {\n",
              "        vertical-align: middle;\n",
              "    }\n",
              "\n",
              "    .dataframe tbody tr th {\n",
              "        vertical-align: top;\n",
              "    }\n",
              "\n",
              "    .dataframe thead th {\n",
              "        text-align: right;\n",
              "    }\n",
              "</style>\n",
              "<table border=\"1\" class=\"dataframe\">\n",
              "  <thead>\n",
              "    <tr style=\"text-align: right;\">\n",
              "      <th></th>\n",
              "      <th>EventId</th>\n",
              "      <th>DER_mass_MMC</th>\n",
              "      <th>DER_mass_transverse_met_lep</th>\n",
              "      <th>DER_mass_vis</th>\n",
              "      <th>DER_pt_h</th>\n",
              "      <th>DER_deltaeta_jet_jet</th>\n",
              "      <th>DER_mass_jet_jet</th>\n",
              "      <th>DER_prodeta_jet_jet</th>\n",
              "      <th>DER_deltar_tau_lep</th>\n",
              "      <th>DER_pt_tot</th>\n",
              "      <th>DER_sum_pt</th>\n",
              "      <th>DER_pt_ratio_lep_tau</th>\n",
              "      <th>DER_met_phi_centrality</th>\n",
              "      <th>DER_lep_eta_centrality</th>\n",
              "      <th>PRI_tau_pt</th>\n",
              "      <th>PRI_tau_eta</th>\n",
              "      <th>PRI_tau_phi</th>\n",
              "      <th>PRI_lep_pt</th>\n",
              "      <th>PRI_lep_eta</th>\n",
              "      <th>PRI_lep_phi</th>\n",
              "      <th>PRI_met</th>\n",
              "      <th>PRI_met_phi</th>\n",
              "      <th>PRI_met_sumet</th>\n",
              "      <th>PRI_jet_num</th>\n",
              "      <th>PRI_jet_leading_pt</th>\n",
              "      <th>PRI_jet_leading_eta</th>\n",
              "      <th>PRI_jet_leading_phi</th>\n",
              "      <th>PRI_jet_subleading_pt</th>\n",
              "      <th>PRI_jet_subleading_eta</th>\n",
              "      <th>PRI_jet_subleading_phi</th>\n",
              "      <th>PRI_jet_all_pt</th>\n",
              "    </tr>\n",
              "  </thead>\n",
              "  <tbody>\n",
              "    <tr>\n",
              "      <th>0</th>\n",
              "      <td>-1.732044</td>\n",
              "      <td>0.289914</td>\n",
              "      <td>0.068332</td>\n",
              "      <td>0.407680</td>\n",
              "      <td>-0.469966</td>\n",
              "      <td>-0.857377</td>\n",
              "      <td>-0.621258</td>\n",
              "      <td>0.973036</td>\n",
              "      <td>0.882478</td>\n",
              "      <td>1.033099</td>\n",
              "      <td>0.339894</td>\n",
              "      <td>0.170929</td>\n",
              "      <td>1.277084</td>\n",
              "      <td>-0.647865</td>\n",
              "      <td>-0.270811</td>\n",
              "      <td>0.846712</td>\n",
              "      <td>0.214212</td>\n",
              "      <td>0.225054</td>\n",
              "      <td>1.812288</td>\n",
              "      <td>-1.352820</td>\n",
              "      <td>-0.756757</td>\n",
              "      <td>-0.147267</td>\n",
              "      <td>0.386847</td>\n",
              "      <td>1.044402</td>\n",
              "      <td>-0.286622</td>\n",
              "      <td>1.206627</td>\n",
              "      <td>0.251681</td>\n",
              "      <td>-0.36321</td>\n",
              "      <td>0.616148</td>\n",
              "      <td>-1.361312</td>\n",
              "      <td>0.412510</td>\n",
              "    </tr>\n",
              "    <tr>\n",
              "      <th>1</th>\n",
              "      <td>-1.732030</td>\n",
              "      <td>0.682021</td>\n",
              "      <td>0.552505</td>\n",
              "      <td>0.540136</td>\n",
              "      <td>-0.153167</td>\n",
              "      <td>NaN</td>\n",
              "      <td>NaN</td>\n",
              "      <td>NaN</td>\n",
              "      <td>1.404888</td>\n",
              "      <td>-0.756027</td>\n",
              "      <td>-0.287584</td>\n",
              "      <td>-0.661279</td>\n",
              "      <td>1.292164</td>\n",
              "      <td>NaN</td>\n",
              "      <td>0.147536</td>\n",
              "      <td>1.688504</td>\n",
              "      <td>-1.652849</td>\n",
              "      <td>-0.441526</td>\n",
              "      <td>0.411475</td>\n",
              "      <td>0.032730</td>\n",
              "      <td>0.090798</td>\n",
              "      <td>-1.051683</td>\n",
              "      <td>-0.357719</td>\n",
              "      <td>0.021305</td>\n",
              "      <td>-0.636248</td>\n",
              "      <td>0.408102</td>\n",
              "      <td>0.645421</td>\n",
              "      <td>NaN</td>\n",
              "      <td>NaN</td>\n",
              "      <td>NaN</td>\n",
              "      <td>-0.273820</td>\n",
              "    </tr>\n",
              "    <tr>\n",
              "      <th>2</th>\n",
              "      <td>-1.732016</td>\n",
              "      <td>NaN</td>\n",
              "      <td>3.195156</td>\n",
              "      <td>1.096560</td>\n",
              "      <td>-0.349710</td>\n",
              "      <td>NaN</td>\n",
              "      <td>NaN</td>\n",
              "      <td>NaN</td>\n",
              "      <td>0.989770</td>\n",
              "      <td>-0.430168</td>\n",
              "      <td>0.340361</td>\n",
              "      <td>2.768174</td>\n",
              "      <td>1.292164</td>\n",
              "      <td>NaN</td>\n",
              "      <td>-0.292406</td>\n",
              "      <td>-0.571650</td>\n",
              "      <td>-1.147554</td>\n",
              "      <td>3.387682</td>\n",
              "      <td>-0.737951</td>\n",
              "      <td>0.555132</td>\n",
              "      <td>0.382001</td>\n",
              "      <td>-1.200672</td>\n",
              "      <td>0.400135</td>\n",
              "      <td>0.021305</td>\n",
              "      <td>-0.668805</td>\n",
              "      <td>1.152271</td>\n",
              "      <td>-1.111520</td>\n",
              "      <td>NaN</td>\n",
              "      <td>NaN</td>\n",
              "      <td>NaN</td>\n",
              "      <td>-0.293970</td>\n",
              "    </tr>\n",
              "    <tr>\n",
              "      <th>3</th>\n",
              "      <td>-1.732002</td>\n",
              "      <td>0.384768</td>\n",
              "      <td>0.910379</td>\n",
              "      <td>-0.005853</td>\n",
              "      <td>-0.903016</td>\n",
              "      <td>NaN</td>\n",
              "      <td>NaN</td>\n",
              "      <td>NaN</td>\n",
              "      <td>1.196690</td>\n",
              "      <td>-0.830735</td>\n",
              "      <td>-0.712705</td>\n",
              "      <td>1.084818</td>\n",
              "      <td>-0.969095</td>\n",
              "      <td>NaN</td>\n",
              "      <td>-0.716598</td>\n",
              "      <td>-1.354138</td>\n",
              "      <td>0.010002</td>\n",
              "      <td>0.301873</td>\n",
              "      <td>-0.397234</td>\n",
              "      <td>-1.730447</td>\n",
              "      <td>-0.323312</td>\n",
              "      <td>0.038692</td>\n",
              "      <td>-0.978149</td>\n",
              "      <td>-1.001792</td>\n",
              "      <td>NaN</td>\n",
              "      <td>NaN</td>\n",
              "      <td>NaN</td>\n",
              "      <td>NaN</td>\n",
              "      <td>NaN</td>\n",
              "      <td>NaN</td>\n",
              "      <td>-0.745439</td>\n",
              "    </tr>\n",
              "    <tr>\n",
              "      <th>4</th>\n",
              "      <td>-1.731988</td>\n",
              "      <td>0.942536</td>\n",
              "      <td>-0.914556</td>\n",
              "      <td>1.313369</td>\n",
              "      <td>-0.651804</td>\n",
              "      <td>NaN</td>\n",
              "      <td>NaN</td>\n",
              "      <td>NaN</td>\n",
              "      <td>1.938794</td>\n",
              "      <td>-0.112795</td>\n",
              "      <td>-0.868143</td>\n",
              "      <td>-0.451747</td>\n",
              "      <td>-1.052877</td>\n",
              "      <td>NaN</td>\n",
              "      <td>-0.468428</td>\n",
              "      <td>-1.800568</td>\n",
              "      <td>-1.223513</td>\n",
              "      <td>-0.765298</td>\n",
              "      <td>0.646261</td>\n",
              "      <td>0.839728</td>\n",
              "      <td>-1.185429</td>\n",
              "      <td>-0.475042</td>\n",
              "      <td>-1.238475</td>\n",
              "      <td>-1.001792</td>\n",
              "      <td>NaN</td>\n",
              "      <td>NaN</td>\n",
              "      <td>NaN</td>\n",
              "      <td>NaN</td>\n",
              "      <td>NaN</td>\n",
              "      <td>NaN</td>\n",
              "      <td>-0.745439</td>\n",
              "    </tr>\n",
              "    <tr>\n",
              "      <th>...</th>\n",
              "      <td>...</td>\n",
              "      <td>...</td>\n",
              "      <td>...</td>\n",
              "      <td>...</td>\n",
              "      <td>...</td>\n",
              "      <td>...</td>\n",
              "      <td>...</td>\n",
              "      <td>...</td>\n",
              "      <td>...</td>\n",
              "      <td>...</td>\n",
              "      <td>...</td>\n",
              "      <td>...</td>\n",
              "      <td>...</td>\n",
              "      <td>...</td>\n",
              "      <td>...</td>\n",
              "      <td>...</td>\n",
              "      <td>...</td>\n",
              "      <td>...</td>\n",
              "      <td>...</td>\n",
              "      <td>...</td>\n",
              "      <td>...</td>\n",
              "      <td>...</td>\n",
              "      <td>...</td>\n",
              "      <td>...</td>\n",
              "      <td>...</td>\n",
              "      <td>...</td>\n",
              "      <td>...</td>\n",
              "      <td>...</td>\n",
              "      <td>...</td>\n",
              "      <td>...</td>\n",
              "      <td>...</td>\n",
              "    </tr>\n",
              "    <tr>\n",
              "      <th>249995</th>\n",
              "      <td>1.731988</td>\n",
              "      <td>NaN</td>\n",
              "      <td>0.643636</td>\n",
              "      <td>-1.093204</td>\n",
              "      <td>-0.830312</td>\n",
              "      <td>NaN</td>\n",
              "      <td>NaN</td>\n",
              "      <td>NaN</td>\n",
              "      <td>-1.253146</td>\n",
              "      <td>-0.622954</td>\n",
              "      <td>-0.886214</td>\n",
              "      <td>-0.212621</td>\n",
              "      <td>-1.077173</td>\n",
              "      <td>NaN</td>\n",
              "      <td>-0.622586</td>\n",
              "      <td>-0.331962</td>\n",
              "      <td>-0.493642</td>\n",
              "      <td>-0.703526</td>\n",
              "      <td>-0.735579</td>\n",
              "      <td>0.185212</td>\n",
              "      <td>0.146005</td>\n",
              "      <td>1.583208</td>\n",
              "      <td>-0.514882</td>\n",
              "      <td>-1.001792</td>\n",
              "      <td>NaN</td>\n",
              "      <td>NaN</td>\n",
              "      <td>NaN</td>\n",
              "      <td>NaN</td>\n",
              "      <td>NaN</td>\n",
              "      <td>NaN</td>\n",
              "      <td>-0.745439</td>\n",
              "    </tr>\n",
              "    <tr>\n",
              "      <th>249996</th>\n",
              "      <td>1.732002</td>\n",
              "      <td>NaN</td>\n",
              "      <td>0.252913</td>\n",
              "      <td>-0.320829</td>\n",
              "      <td>-0.557013</td>\n",
              "      <td>NaN</td>\n",
              "      <td>NaN</td>\n",
              "      <td>NaN</td>\n",
              "      <td>0.270657</td>\n",
              "      <td>0.158111</td>\n",
              "      <td>-0.931795</td>\n",
              "      <td>-0.326265</td>\n",
              "      <td>-1.019364</td>\n",
              "      <td>NaN</td>\n",
              "      <td>-0.682286</td>\n",
              "      <td>-1.316249</td>\n",
              "      <td>1.532493</td>\n",
              "      <td>-0.881863</td>\n",
              "      <td>0.258903</td>\n",
              "      <td>0.549627</td>\n",
              "      <td>0.152601</td>\n",
              "      <td>-0.472835</td>\n",
              "      <td>-1.022845</td>\n",
              "      <td>-1.001792</td>\n",
              "      <td>NaN</td>\n",
              "      <td>NaN</td>\n",
              "      <td>NaN</td>\n",
              "      <td>NaN</td>\n",
              "      <td>NaN</td>\n",
              "      <td>NaN</td>\n",
              "      <td>-0.745439</td>\n",
              "    </tr>\n",
              "    <tr>\n",
              "      <th>249997</th>\n",
              "      <td>1.732016</td>\n",
              "      <td>-0.286249</td>\n",
              "      <td>0.319316</td>\n",
              "      <td>-0.130864</td>\n",
              "      <td>-0.284955</td>\n",
              "      <td>NaN</td>\n",
              "      <td>NaN</td>\n",
              "      <td>NaN</td>\n",
              "      <td>0.021586</td>\n",
              "      <td>0.146617</td>\n",
              "      <td>-0.328162</td>\n",
              "      <td>-0.278913</td>\n",
              "      <td>0.550699</td>\n",
              "      <td>NaN</td>\n",
              "      <td>-0.137043</td>\n",
              "      <td>-0.210058</td>\n",
              "      <td>-1.719451</td>\n",
              "      <td>-0.173407</td>\n",
              "      <td>0.316612</td>\n",
              "      <td>0.444486</td>\n",
              "      <td>-0.556268</td>\n",
              "      <td>-1.589146</td>\n",
              "      <td>-0.086089</td>\n",
              "      <td>0.021305</td>\n",
              "      <td>-0.706044</td>\n",
              "      <td>1.010498</td>\n",
              "      <td>-0.084708</td>\n",
              "      <td>NaN</td>\n",
              "      <td>NaN</td>\n",
              "      <td>NaN</td>\n",
              "      <td>-0.317017</td>\n",
              "    </tr>\n",
              "    <tr>\n",
              "      <th>249998</th>\n",
              "      <td>1.732030</td>\n",
              "      <td>-0.469607</td>\n",
              "      <td>-0.845324</td>\n",
              "      <td>-0.302973</td>\n",
              "      <td>-0.697378</td>\n",
              "      <td>NaN</td>\n",
              "      <td>NaN</td>\n",
              "      <td>NaN</td>\n",
              "      <td>1.266941</td>\n",
              "      <td>-0.243040</td>\n",
              "      <td>-0.886500</td>\n",
              "      <td>-0.519223</td>\n",
              "      <td>1.292164</td>\n",
              "      <td>NaN</td>\n",
              "      <td>-0.480252</td>\n",
              "      <td>-1.812100</td>\n",
              "      <td>1.541300</td>\n",
              "      <td>-0.849550</td>\n",
              "      <td>-0.675499</td>\n",
              "      <td>-0.186910</td>\n",
              "      <td>-0.898847</td>\n",
              "      <td>0.453102</td>\n",
              "      <td>-0.767429</td>\n",
              "      <td>-1.001792</td>\n",
              "      <td>NaN</td>\n",
              "      <td>NaN</td>\n",
              "      <td>NaN</td>\n",
              "      <td>NaN</td>\n",
              "      <td>NaN</td>\n",
              "      <td>NaN</td>\n",
              "      <td>-0.745439</td>\n",
              "    </tr>\n",
              "    <tr>\n",
              "      <th>249999</th>\n",
              "      <td>1.732044</td>\n",
              "      <td>NaN</td>\n",
              "      <td>0.665336</td>\n",
              "      <td>-0.253523</td>\n",
              "      <td>-0.792028</td>\n",
              "      <td>NaN</td>\n",
              "      <td>NaN</td>\n",
              "      <td>NaN</td>\n",
              "      <td>-0.444623</td>\n",
              "      <td>-0.513541</td>\n",
              "      <td>-0.649856</td>\n",
              "      <td>-0.593802</td>\n",
              "      <td>-1.074660</td>\n",
              "      <td>NaN</td>\n",
              "      <td>0.191664</td>\n",
              "      <td>1.396925</td>\n",
              "      <td>1.464790</td>\n",
              "      <td>-0.291151</td>\n",
              "      <td>1.193306</td>\n",
              "      <td>0.326684</td>\n",
              "      <td>-0.030042</td>\n",
              "      <td>-0.875104</td>\n",
              "      <td>-0.872671</td>\n",
              "      <td>-1.001792</td>\n",
              "      <td>NaN</td>\n",
              "      <td>NaN</td>\n",
              "      <td>NaN</td>\n",
              "      <td>NaN</td>\n",
              "      <td>NaN</td>\n",
              "      <td>NaN</td>\n",
              "      <td>-0.745439</td>\n",
              "    </tr>\n",
              "  </tbody>\n",
              "</table>\n",
              "<p>250000 rows × 31 columns</p>\n",
              "</div>"
            ],
            "text/plain": [
              "         EventId  DER_mass_MMC  ...  PRI_jet_subleading_phi  PRI_jet_all_pt\n",
              "0      -1.732044      0.289914  ...               -1.361312        0.412510\n",
              "1      -1.732030      0.682021  ...                     NaN       -0.273820\n",
              "2      -1.732016           NaN  ...                     NaN       -0.293970\n",
              "3      -1.732002      0.384768  ...                     NaN       -0.745439\n",
              "4      -1.731988      0.942536  ...                     NaN       -0.745439\n",
              "...          ...           ...  ...                     ...             ...\n",
              "249995  1.731988           NaN  ...                     NaN       -0.745439\n",
              "249996  1.732002           NaN  ...                     NaN       -0.745439\n",
              "249997  1.732016     -0.286249  ...                     NaN       -0.317017\n",
              "249998  1.732030     -0.469607  ...                     NaN       -0.745439\n",
              "249999  1.732044           NaN  ...                     NaN       -0.745439\n",
              "\n",
              "[250000 rows x 31 columns]"
            ]
          },
          "metadata": {
            "tags": []
          },
          "execution_count": 50
        }
      ]
    },
    {
      "cell_type": "code",
      "metadata": {
        "id": "-dk2hmSmoY8D"
      },
      "source": [
        "#ci vuole troppo tempo\n",
        "#from sklearn.impute import KNNImputer\n",
        "\n",
        "#make sure to scale before kNN and make sure to use the sclaed data as input of\n",
        "#imputer\n",
        "\n",
        "#imputer = KNNImputer(n_neighbors=2)\n",
        "#higgsdata2_imputed = imputer.fit_transform(higgsdata2_scaled)"
      ],
      "execution_count": 51,
      "outputs": []
    },
    {
      "cell_type": "markdown",
      "metadata": {
        "id": "hU1pPJP1-IPf"
      },
      "source": [
        "Torniamo all'esercizio, tralasciando il KNN, e vediamo come si comporta il random forest."
      ]
    },
    {
      "cell_type": "code",
      "metadata": {
        "colab": {
          "base_uri": "https://localhost:8080/"
        },
        "id": "VCQskgt8oY4q",
        "outputId": "0d242078-129b-4e40-da17-2df81b673d27"
      },
      "source": [
        "rf.fit(X_traindata, y_trainlabel)"
      ],
      "execution_count": 52,
      "outputs": [
        {
          "output_type": "execute_result",
          "data": {
            "text/plain": [
              "RandomForestClassifier(bootstrap=True, ccp_alpha=0.0, class_weight=None,\n",
              "                       criterion='gini', max_depth=None, max_features='auto',\n",
              "                       max_leaf_nodes=None, max_samples=None,\n",
              "                       min_impurity_decrease=0.0, min_impurity_split=None,\n",
              "                       min_samples_leaf=1, min_samples_split=2,\n",
              "                       min_weight_fraction_leaf=0.0, n_estimators=100,\n",
              "                       n_jobs=None, oob_score=False, random_state=1, verbose=0,\n",
              "                       warm_start=False)"
            ]
          },
          "metadata": {
            "tags": []
          },
          "execution_count": 52
        }
      ]
    },
    {
      "cell_type": "code",
      "metadata": {
        "id": "ZDbGE6G7lC4o",
        "colab": {
          "base_uri": "https://localhost:8080/"
        },
        "outputId": "c1a9c761-ac5e-4a96-d4be-698ee9d375ad"
      },
      "source": [
        "#accuratezza del classifier           #accuratezza del classfier sul test set\n",
        "rf.score(X_traindata, y_trainlabel), rf.score(X_testdata, y_testlabel)"
      ],
      "execution_count": 53,
      "outputs": [
        {
          "output_type": "execute_result",
          "data": {
            "text/plain": [
              "(0.9999804247822257, 0.8443243878090316)"
            ]
          },
          "metadata": {
            "tags": []
          },
          "execution_count": 53
        }
      ]
    },
    {
      "cell_type": "markdown",
      "metadata": {
        "id": "A4L9fZZSCy4V"
      },
      "source": [
        "###**Un'accuratezza così elevata, ed uno score molto più basso nel test, significa che c'è stato overfitting. Infatti dovevo controllare meglio gli hyperparameters per avere uno score decente sia per il training che per il test, cambiando la depth, il numero di foglie, ecc..**\n",
        "\n",
        "\n",
        "##**HO DIMENTICATO DI FARE LE CONFUSION MATRIX ANCHE...**"
      ]
    },
    {
      "cell_type": "markdown",
      "metadata": {
        "id": "wVxn4aOElCwX"
      },
      "source": [
        "##Perchè non c'è bisogno di scalare i dati quando usiamo i modelli con alberi? \n",
        "\n",
        "**Perchè i tree models, rispetto agli altri modelli, trattano una feature alla volta. Allora non ha importanza il range, che siano comparabili, ecc.. perchè la scelta è indipendente per il mio x-axis e per il y-axis.**\n",
        "\n",
        "Ad ogni nodo dell'albero la scelta è basata solo su quella variabile: la variabile è automaticamente scalata a se stessa quando faccio la scelta. Lo stesso motivo per cui non mi preoccupo della covariance. \n",
        "\n",
        "Quando faccio una scelta, la scelta successiva non considera la variabile precedente perchè è già stata usata (ecco perchè con varibili che hanno covariance, vanno bene i tree models).\n",
        "\n",
        "\n"
      ]
    },
    {
      "cell_type": "markdown",
      "metadata": {
        "id": "fUyNAZ9yAYze"
      },
      "source": [
        "Guardando gli hist delle variabili fatte dalla prof, noto che alcune delle variabili non sono gaussiane. Non è un proobelma per trees ma è un grande problema per linear regression method, ad esempio."
      ]
    },
    {
      "cell_type": "markdown",
      "metadata": {
        "id": "UEx0-vdS_ofI"
      },
      "source": [
        "La prof per pulire dai NaN, ha tolto 3 colonne: PRI_jet_subleading_pt, \tPRI_jet_subleading_eta, ed\tPRI_jet_subleading_phi che contenevano molti NaN. E poi ha rimosso tutte le righe che hanno NaN sulle altre osservaizoni."
      ]
    },
    {
      "cell_type": "markdown",
      "metadata": {
        "id": "X3srFvzzDheO"
      },
      "source": [
        "#CONTINUIAMO CON LA PROF CON LA TEORIA\n",
        "\n",
        "Come si può valutare il risulatato del modello in maniera più sofisticata rispetto allo score. Lo score non mi dice cosa ho sbagliato. Cioè potrei sbagliare la predizione tra b ed s, cioè tra background e signal, e questa è una cosa importante perchè predirrei un background quando invece era un signal e quindi mi sono perso una particella, missing discovery! **(False Positive and False Negative, che non sono la stessa cosa)**\n",
        "\n",
        "**Il modo di capire se ho più false positive o false negative è costruire una confusion matrix.** Il fatto che ho pochi off diagonal e sono abbastanza bilanciati, a livello di qeusta scala ho un numero decente di false positive e false negative. \n",
        "\n",
        "**Il gbt produce un risultato migliore rispetto al rf, perchè l'overprediction del training del rf mi espone all apossibilità in un diverso tsting data potrei ottenere uno score ancora peggiore.**\n",
        "\n"
      ]
    },
    {
      "cell_type": "markdown",
      "metadata": {
        "id": "iAe4tCEVKN_s"
      },
      "source": [
        "##Possiamo esercitarci usando il random forest regressor per predire i pesi delle particelle."
      ]
    },
    {
      "cell_type": "code",
      "metadata": {
        "colab": {
          "base_uri": "https://localhost:8080/"
        },
        "id": "hquH-kwOKf80",
        "outputId": "71acbb62-69ab-44fa-db6d-aedd177dfacf"
      },
      "source": [
        "weight2.shape"
      ],
      "execution_count": 54,
      "outputs": [
        {
          "output_type": "execute_result",
          "data": {
            "text/plain": [
              "(250000,)"
            ]
          },
          "metadata": {
            "tags": []
          },
          "execution_count": 54
        }
      ]
    },
    {
      "cell_type": "code",
      "metadata": {
        "colab": {
          "base_uri": "https://localhost:8080/",
          "height": 226
        },
        "id": "TcTxVPi95laL",
        "outputId": "ae4268f0-6944-45d8-e1f1-50f1a7e8fcdc"
      },
      "source": [
        "higgsdata.head()"
      ],
      "execution_count": 55,
      "outputs": [
        {
          "output_type": "execute_result",
          "data": {
            "text/html": [
              "<div>\n",
              "<style scoped>\n",
              "    .dataframe tbody tr th:only-of-type {\n",
              "        vertical-align: middle;\n",
              "    }\n",
              "\n",
              "    .dataframe tbody tr th {\n",
              "        vertical-align: top;\n",
              "    }\n",
              "\n",
              "    .dataframe thead th {\n",
              "        text-align: right;\n",
              "    }\n",
              "</style>\n",
              "<table border=\"1\" class=\"dataframe\">\n",
              "  <thead>\n",
              "    <tr style=\"text-align: right;\">\n",
              "      <th></th>\n",
              "      <th>DER_mass_MMC</th>\n",
              "      <th>DER_mass_transverse_met_lep</th>\n",
              "      <th>DER_mass_vis</th>\n",
              "      <th>DER_pt_h</th>\n",
              "      <th>DER_deltaeta_jet_jet</th>\n",
              "      <th>DER_mass_jet_jet</th>\n",
              "      <th>DER_prodeta_jet_jet</th>\n",
              "      <th>DER_deltar_tau_lep</th>\n",
              "      <th>DER_pt_tot</th>\n",
              "      <th>DER_sum_pt</th>\n",
              "      <th>DER_pt_ratio_lep_tau</th>\n",
              "      <th>DER_met_phi_centrality</th>\n",
              "      <th>DER_lep_eta_centrality</th>\n",
              "      <th>PRI_tau_pt</th>\n",
              "      <th>PRI_tau_eta</th>\n",
              "      <th>PRI_tau_phi</th>\n",
              "      <th>PRI_lep_pt</th>\n",
              "      <th>PRI_lep_eta</th>\n",
              "      <th>PRI_lep_phi</th>\n",
              "      <th>PRI_met</th>\n",
              "      <th>PRI_met_phi</th>\n",
              "      <th>PRI_met_sumet</th>\n",
              "      <th>PRI_jet_num</th>\n",
              "      <th>PRI_jet_leading_pt</th>\n",
              "      <th>PRI_jet_leading_eta</th>\n",
              "      <th>PRI_jet_leading_phi</th>\n",
              "      <th>PRI_jet_subleading_pt</th>\n",
              "      <th>PRI_jet_subleading_eta</th>\n",
              "      <th>PRI_jet_subleading_phi</th>\n",
              "      <th>PRI_jet_all_pt</th>\n",
              "    </tr>\n",
              "  </thead>\n",
              "  <tbody>\n",
              "    <tr>\n",
              "      <th>0</th>\n",
              "      <td>138.470</td>\n",
              "      <td>51.655</td>\n",
              "      <td>97.827</td>\n",
              "      <td>27.980</td>\n",
              "      <td>0.910</td>\n",
              "      <td>124.711</td>\n",
              "      <td>2.666</td>\n",
              "      <td>3.064</td>\n",
              "      <td>41.928</td>\n",
              "      <td>197.760</td>\n",
              "      <td>1.582</td>\n",
              "      <td>1.396</td>\n",
              "      <td>0.200</td>\n",
              "      <td>32.638</td>\n",
              "      <td>1.017</td>\n",
              "      <td>0.381</td>\n",
              "      <td>51.626</td>\n",
              "      <td>2.273</td>\n",
              "      <td>-2.414</td>\n",
              "      <td>16.824</td>\n",
              "      <td>-0.277</td>\n",
              "      <td>258.733</td>\n",
              "      <td>2</td>\n",
              "      <td>67.435</td>\n",
              "      <td>2.150</td>\n",
              "      <td>0.444</td>\n",
              "      <td>46.062</td>\n",
              "      <td>1.240</td>\n",
              "      <td>-2.475</td>\n",
              "      <td>113.497</td>\n",
              "    </tr>\n",
              "    <tr>\n",
              "      <th>5</th>\n",
              "      <td>89.744</td>\n",
              "      <td>13.550</td>\n",
              "      <td>59.149</td>\n",
              "      <td>116.344</td>\n",
              "      <td>2.636</td>\n",
              "      <td>284.584</td>\n",
              "      <td>-0.540</td>\n",
              "      <td>1.362</td>\n",
              "      <td>61.619</td>\n",
              "      <td>278.876</td>\n",
              "      <td>0.588</td>\n",
              "      <td>0.479</td>\n",
              "      <td>0.975</td>\n",
              "      <td>53.651</td>\n",
              "      <td>0.371</td>\n",
              "      <td>1.329</td>\n",
              "      <td>31.565</td>\n",
              "      <td>-0.884</td>\n",
              "      <td>1.857</td>\n",
              "      <td>40.735</td>\n",
              "      <td>2.237</td>\n",
              "      <td>282.849</td>\n",
              "      <td>3</td>\n",
              "      <td>90.547</td>\n",
              "      <td>-2.412</td>\n",
              "      <td>-0.653</td>\n",
              "      <td>56.165</td>\n",
              "      <td>0.224</td>\n",
              "      <td>3.106</td>\n",
              "      <td>193.660</td>\n",
              "    </tr>\n",
              "    <tr>\n",
              "      <th>6</th>\n",
              "      <td>148.754</td>\n",
              "      <td>28.862</td>\n",
              "      <td>107.782</td>\n",
              "      <td>106.130</td>\n",
              "      <td>0.733</td>\n",
              "      <td>158.359</td>\n",
              "      <td>0.113</td>\n",
              "      <td>2.941</td>\n",
              "      <td>2.545</td>\n",
              "      <td>305.967</td>\n",
              "      <td>3.371</td>\n",
              "      <td>1.393</td>\n",
              "      <td>0.791</td>\n",
              "      <td>28.850</td>\n",
              "      <td>1.113</td>\n",
              "      <td>2.409</td>\n",
              "      <td>97.240</td>\n",
              "      <td>0.675</td>\n",
              "      <td>-0.966</td>\n",
              "      <td>38.421</td>\n",
              "      <td>-1.443</td>\n",
              "      <td>294.074</td>\n",
              "      <td>2</td>\n",
              "      <td>123.010</td>\n",
              "      <td>0.864</td>\n",
              "      <td>1.450</td>\n",
              "      <td>56.867</td>\n",
              "      <td>0.131</td>\n",
              "      <td>-2.767</td>\n",
              "      <td>179.877</td>\n",
              "    </tr>\n",
              "    <tr>\n",
              "      <th>11</th>\n",
              "      <td>114.744</td>\n",
              "      <td>10.286</td>\n",
              "      <td>75.712</td>\n",
              "      <td>30.816</td>\n",
              "      <td>2.563</td>\n",
              "      <td>252.599</td>\n",
              "      <td>-1.401</td>\n",
              "      <td>2.888</td>\n",
              "      <td>36.745</td>\n",
              "      <td>239.804</td>\n",
              "      <td>1.061</td>\n",
              "      <td>1.364</td>\n",
              "      <td>0.769</td>\n",
              "      <td>35.976</td>\n",
              "      <td>-0.669</td>\n",
              "      <td>-0.342</td>\n",
              "      <td>38.188</td>\n",
              "      <td>-0.165</td>\n",
              "      <td>2.502</td>\n",
              "      <td>22.385</td>\n",
              "      <td>2.148</td>\n",
              "      <td>290.547</td>\n",
              "      <td>3</td>\n",
              "      <td>76.773</td>\n",
              "      <td>-0.790</td>\n",
              "      <td>0.303</td>\n",
              "      <td>56.876</td>\n",
              "      <td>1.773</td>\n",
              "      <td>-2.079</td>\n",
              "      <td>165.640</td>\n",
              "    </tr>\n",
              "    <tr>\n",
              "      <th>23</th>\n",
              "      <td>141.481</td>\n",
              "      <td>0.736</td>\n",
              "      <td>111.581</td>\n",
              "      <td>174.075</td>\n",
              "      <td>1.955</td>\n",
              "      <td>364.344</td>\n",
              "      <td>-0.923</td>\n",
              "      <td>1.335</td>\n",
              "      <td>6.663</td>\n",
              "      <td>440.859</td>\n",
              "      <td>0.652</td>\n",
              "      <td>1.042</td>\n",
              "      <td>0.207</td>\n",
              "      <td>98.565</td>\n",
              "      <td>0.190</td>\n",
              "      <td>-1.506</td>\n",
              "      <td>64.285</td>\n",
              "      <td>1.405</td>\n",
              "      <td>-0.952</td>\n",
              "      <td>17.960</td>\n",
              "      <td>-0.973</td>\n",
              "      <td>454.785</td>\n",
              "      <td>2</td>\n",
              "      <td>195.533</td>\n",
              "      <td>1.156</td>\n",
              "      <td>1.416</td>\n",
              "      <td>82.477</td>\n",
              "      <td>-0.798</td>\n",
              "      <td>-2.785</td>\n",
              "      <td>278.009</td>\n",
              "    </tr>\n",
              "  </tbody>\n",
              "</table>\n",
              "</div>"
            ],
            "text/plain": [
              "    DER_mass_MMC  ...  PRI_jet_all_pt\n",
              "0        138.470  ...         113.497\n",
              "5         89.744  ...         193.660\n",
              "6        148.754  ...         179.877\n",
              "11       114.744  ...         165.640\n",
              "23       141.481  ...         278.009\n",
              "\n",
              "[5 rows x 30 columns]"
            ]
          },
          "metadata": {
            "tags": []
          },
          "execution_count": 55
        }
      ]
    },
    {
      "cell_type": "code",
      "metadata": {
        "id": "89TsCUyuKgG7"
      },
      "source": [
        "#Adesso, prima di creare il train_test_split dobbiamo ricordarci di standardizzare i dati con sklearn.preprocessing.\n",
        "from sklearn import preprocessing\n",
        "\n",
        "higgsdata_scaled = pd.DataFrame(sklearn.preprocessing.scale(higgsdata[higgsdata.columns],\n",
        "                                                            axis=0), columns = higgsdata.columns)\n"
      ],
      "execution_count": 56,
      "outputs": []
    },
    {
      "cell_type": "code",
      "metadata": {
        "colab": {
          "base_uri": "https://localhost:8080/",
          "height": 444
        },
        "id": "0iGF7kqdKrVM",
        "outputId": "eb31fbc2-dc04-4ad6-9164-6d489eeeb998"
      },
      "source": [
        "higgsdata"
      ],
      "execution_count": 57,
      "outputs": [
        {
          "output_type": "execute_result",
          "data": {
            "text/html": [
              "<div>\n",
              "<style scoped>\n",
              "    .dataframe tbody tr th:only-of-type {\n",
              "        vertical-align: middle;\n",
              "    }\n",
              "\n",
              "    .dataframe tbody tr th {\n",
              "        vertical-align: top;\n",
              "    }\n",
              "\n",
              "    .dataframe thead th {\n",
              "        text-align: right;\n",
              "    }\n",
              "</style>\n",
              "<table border=\"1\" class=\"dataframe\">\n",
              "  <thead>\n",
              "    <tr style=\"text-align: right;\">\n",
              "      <th></th>\n",
              "      <th>DER_mass_MMC</th>\n",
              "      <th>DER_mass_transverse_met_lep</th>\n",
              "      <th>DER_mass_vis</th>\n",
              "      <th>DER_pt_h</th>\n",
              "      <th>DER_deltaeta_jet_jet</th>\n",
              "      <th>DER_mass_jet_jet</th>\n",
              "      <th>DER_prodeta_jet_jet</th>\n",
              "      <th>DER_deltar_tau_lep</th>\n",
              "      <th>DER_pt_tot</th>\n",
              "      <th>DER_sum_pt</th>\n",
              "      <th>DER_pt_ratio_lep_tau</th>\n",
              "      <th>DER_met_phi_centrality</th>\n",
              "      <th>DER_lep_eta_centrality</th>\n",
              "      <th>PRI_tau_pt</th>\n",
              "      <th>PRI_tau_eta</th>\n",
              "      <th>PRI_tau_phi</th>\n",
              "      <th>PRI_lep_pt</th>\n",
              "      <th>PRI_lep_eta</th>\n",
              "      <th>PRI_lep_phi</th>\n",
              "      <th>PRI_met</th>\n",
              "      <th>PRI_met_phi</th>\n",
              "      <th>PRI_met_sumet</th>\n",
              "      <th>PRI_jet_num</th>\n",
              "      <th>PRI_jet_leading_pt</th>\n",
              "      <th>PRI_jet_leading_eta</th>\n",
              "      <th>PRI_jet_leading_phi</th>\n",
              "      <th>PRI_jet_subleading_pt</th>\n",
              "      <th>PRI_jet_subleading_eta</th>\n",
              "      <th>PRI_jet_subleading_phi</th>\n",
              "      <th>PRI_jet_all_pt</th>\n",
              "    </tr>\n",
              "  </thead>\n",
              "  <tbody>\n",
              "    <tr>\n",
              "      <th>0</th>\n",
              "      <td>138.470</td>\n",
              "      <td>51.655</td>\n",
              "      <td>97.827</td>\n",
              "      <td>27.980</td>\n",
              "      <td>0.910</td>\n",
              "      <td>124.711</td>\n",
              "      <td>2.666</td>\n",
              "      <td>3.064</td>\n",
              "      <td>41.928</td>\n",
              "      <td>197.760</td>\n",
              "      <td>1.582</td>\n",
              "      <td>1.396</td>\n",
              "      <td>0.200</td>\n",
              "      <td>32.638</td>\n",
              "      <td>1.017</td>\n",
              "      <td>0.381</td>\n",
              "      <td>51.626</td>\n",
              "      <td>2.273</td>\n",
              "      <td>-2.414</td>\n",
              "      <td>16.824</td>\n",
              "      <td>-0.277</td>\n",
              "      <td>258.733</td>\n",
              "      <td>2</td>\n",
              "      <td>67.435</td>\n",
              "      <td>2.150</td>\n",
              "      <td>0.444</td>\n",
              "      <td>46.062</td>\n",
              "      <td>1.240</td>\n",
              "      <td>-2.475</td>\n",
              "      <td>113.497</td>\n",
              "    </tr>\n",
              "    <tr>\n",
              "      <th>5</th>\n",
              "      <td>89.744</td>\n",
              "      <td>13.550</td>\n",
              "      <td>59.149</td>\n",
              "      <td>116.344</td>\n",
              "      <td>2.636</td>\n",
              "      <td>284.584</td>\n",
              "      <td>-0.540</td>\n",
              "      <td>1.362</td>\n",
              "      <td>61.619</td>\n",
              "      <td>278.876</td>\n",
              "      <td>0.588</td>\n",
              "      <td>0.479</td>\n",
              "      <td>0.975</td>\n",
              "      <td>53.651</td>\n",
              "      <td>0.371</td>\n",
              "      <td>1.329</td>\n",
              "      <td>31.565</td>\n",
              "      <td>-0.884</td>\n",
              "      <td>1.857</td>\n",
              "      <td>40.735</td>\n",
              "      <td>2.237</td>\n",
              "      <td>282.849</td>\n",
              "      <td>3</td>\n",
              "      <td>90.547</td>\n",
              "      <td>-2.412</td>\n",
              "      <td>-0.653</td>\n",
              "      <td>56.165</td>\n",
              "      <td>0.224</td>\n",
              "      <td>3.106</td>\n",
              "      <td>193.660</td>\n",
              "    </tr>\n",
              "    <tr>\n",
              "      <th>6</th>\n",
              "      <td>148.754</td>\n",
              "      <td>28.862</td>\n",
              "      <td>107.782</td>\n",
              "      <td>106.130</td>\n",
              "      <td>0.733</td>\n",
              "      <td>158.359</td>\n",
              "      <td>0.113</td>\n",
              "      <td>2.941</td>\n",
              "      <td>2.545</td>\n",
              "      <td>305.967</td>\n",
              "      <td>3.371</td>\n",
              "      <td>1.393</td>\n",
              "      <td>0.791</td>\n",
              "      <td>28.850</td>\n",
              "      <td>1.113</td>\n",
              "      <td>2.409</td>\n",
              "      <td>97.240</td>\n",
              "      <td>0.675</td>\n",
              "      <td>-0.966</td>\n",
              "      <td>38.421</td>\n",
              "      <td>-1.443</td>\n",
              "      <td>294.074</td>\n",
              "      <td>2</td>\n",
              "      <td>123.010</td>\n",
              "      <td>0.864</td>\n",
              "      <td>1.450</td>\n",
              "      <td>56.867</td>\n",
              "      <td>0.131</td>\n",
              "      <td>-2.767</td>\n",
              "      <td>179.877</td>\n",
              "    </tr>\n",
              "    <tr>\n",
              "      <th>11</th>\n",
              "      <td>114.744</td>\n",
              "      <td>10.286</td>\n",
              "      <td>75.712</td>\n",
              "      <td>30.816</td>\n",
              "      <td>2.563</td>\n",
              "      <td>252.599</td>\n",
              "      <td>-1.401</td>\n",
              "      <td>2.888</td>\n",
              "      <td>36.745</td>\n",
              "      <td>239.804</td>\n",
              "      <td>1.061</td>\n",
              "      <td>1.364</td>\n",
              "      <td>0.769</td>\n",
              "      <td>35.976</td>\n",
              "      <td>-0.669</td>\n",
              "      <td>-0.342</td>\n",
              "      <td>38.188</td>\n",
              "      <td>-0.165</td>\n",
              "      <td>2.502</td>\n",
              "      <td>22.385</td>\n",
              "      <td>2.148</td>\n",
              "      <td>290.547</td>\n",
              "      <td>3</td>\n",
              "      <td>76.773</td>\n",
              "      <td>-0.790</td>\n",
              "      <td>0.303</td>\n",
              "      <td>56.876</td>\n",
              "      <td>1.773</td>\n",
              "      <td>-2.079</td>\n",
              "      <td>165.640</td>\n",
              "    </tr>\n",
              "    <tr>\n",
              "      <th>23</th>\n",
              "      <td>141.481</td>\n",
              "      <td>0.736</td>\n",
              "      <td>111.581</td>\n",
              "      <td>174.075</td>\n",
              "      <td>1.955</td>\n",
              "      <td>364.344</td>\n",
              "      <td>-0.923</td>\n",
              "      <td>1.335</td>\n",
              "      <td>6.663</td>\n",
              "      <td>440.859</td>\n",
              "      <td>0.652</td>\n",
              "      <td>1.042</td>\n",
              "      <td>0.207</td>\n",
              "      <td>98.565</td>\n",
              "      <td>0.190</td>\n",
              "      <td>-1.506</td>\n",
              "      <td>64.285</td>\n",
              "      <td>1.405</td>\n",
              "      <td>-0.952</td>\n",
              "      <td>17.960</td>\n",
              "      <td>-0.973</td>\n",
              "      <td>454.785</td>\n",
              "      <td>2</td>\n",
              "      <td>195.533</td>\n",
              "      <td>1.156</td>\n",
              "      <td>1.416</td>\n",
              "      <td>82.477</td>\n",
              "      <td>-0.798</td>\n",
              "      <td>-2.785</td>\n",
              "      <td>278.009</td>\n",
              "    </tr>\n",
              "    <tr>\n",
              "      <th>...</th>\n",
              "      <td>...</td>\n",
              "      <td>...</td>\n",
              "      <td>...</td>\n",
              "      <td>...</td>\n",
              "      <td>...</td>\n",
              "      <td>...</td>\n",
              "      <td>...</td>\n",
              "      <td>...</td>\n",
              "      <td>...</td>\n",
              "      <td>...</td>\n",
              "      <td>...</td>\n",
              "      <td>...</td>\n",
              "      <td>...</td>\n",
              "      <td>...</td>\n",
              "      <td>...</td>\n",
              "      <td>...</td>\n",
              "      <td>...</td>\n",
              "      <td>...</td>\n",
              "      <td>...</td>\n",
              "      <td>...</td>\n",
              "      <td>...</td>\n",
              "      <td>...</td>\n",
              "      <td>...</td>\n",
              "      <td>...</td>\n",
              "      <td>...</td>\n",
              "      <td>...</td>\n",
              "      <td>...</td>\n",
              "      <td>...</td>\n",
              "      <td>...</td>\n",
              "      <td>...</td>\n",
              "    </tr>\n",
              "    <tr>\n",
              "      <th>249976</th>\n",
              "      <td>137.371</td>\n",
              "      <td>4.640</td>\n",
              "      <td>92.603</td>\n",
              "      <td>107.121</td>\n",
              "      <td>3.189</td>\n",
              "      <td>322.430</td>\n",
              "      <td>-2.384</td>\n",
              "      <td>2.149</td>\n",
              "      <td>2.755</td>\n",
              "      <td>225.261</td>\n",
              "      <td>1.783</td>\n",
              "      <td>1.090</td>\n",
              "      <td>0.503</td>\n",
              "      <td>32.004</td>\n",
              "      <td>0.599</td>\n",
              "      <td>-0.013</td>\n",
              "      <td>57.056</td>\n",
              "      <td>-0.924</td>\n",
              "      <td>1.503</td>\n",
              "      <td>42.299</td>\n",
              "      <td>1.408</td>\n",
              "      <td>228.186</td>\n",
              "      <td>2</td>\n",
              "      <td>85.132</td>\n",
              "      <td>1.991</td>\n",
              "      <td>-1.518</td>\n",
              "      <td>51.068</td>\n",
              "      <td>-1.197</td>\n",
              "      <td>-2.831</td>\n",
              "      <td>136.200</td>\n",
              "    </tr>\n",
              "    <tr>\n",
              "      <th>249980</th>\n",
              "      <td>119.934</td>\n",
              "      <td>20.078</td>\n",
              "      <td>88.751</td>\n",
              "      <td>35.227</td>\n",
              "      <td>0.660</td>\n",
              "      <td>111.491</td>\n",
              "      <td>1.836</td>\n",
              "      <td>2.800</td>\n",
              "      <td>18.532</td>\n",
              "      <td>189.198</td>\n",
              "      <td>1.951</td>\n",
              "      <td>0.304</td>\n",
              "      <td>0.000</td>\n",
              "      <td>25.844</td>\n",
              "      <td>1.159</td>\n",
              "      <td>0.823</td>\n",
              "      <td>50.416</td>\n",
              "      <td>-0.315</td>\n",
              "      <td>-1.558</td>\n",
              "      <td>2.113</td>\n",
              "      <td>1.116</td>\n",
              "      <td>237.326</td>\n",
              "      <td>2</td>\n",
              "      <td>69.219</td>\n",
              "      <td>-1.064</td>\n",
              "      <td>1.118</td>\n",
              "      <td>43.719</td>\n",
              "      <td>-1.725</td>\n",
              "      <td>-2.756</td>\n",
              "      <td>112.938</td>\n",
              "    </tr>\n",
              "    <tr>\n",
              "      <th>249985</th>\n",
              "      <td>126.151</td>\n",
              "      <td>29.023</td>\n",
              "      <td>95.258</td>\n",
              "      <td>152.684</td>\n",
              "      <td>1.000</td>\n",
              "      <td>163.066</td>\n",
              "      <td>-0.240</td>\n",
              "      <td>1.504</td>\n",
              "      <td>24.642</td>\n",
              "      <td>327.502</td>\n",
              "      <td>2.163</td>\n",
              "      <td>0.490</td>\n",
              "      <td>0.027</td>\n",
              "      <td>42.495</td>\n",
              "      <td>1.980</td>\n",
              "      <td>2.239</td>\n",
              "      <td>91.908</td>\n",
              "      <td>0.851</td>\n",
              "      <td>-3.050</td>\n",
              "      <td>41.247</td>\n",
              "      <td>-2.575</td>\n",
              "      <td>402.114</td>\n",
              "      <td>2</td>\n",
              "      <td>158.904</td>\n",
              "      <td>0.401</td>\n",
              "      <td>0.034</td>\n",
              "      <td>34.196</td>\n",
              "      <td>-0.599</td>\n",
              "      <td>-2.525</td>\n",
              "      <td>193.099</td>\n",
              "    </tr>\n",
              "    <tr>\n",
              "      <th>249993</th>\n",
              "      <td>130.075</td>\n",
              "      <td>3.918</td>\n",
              "      <td>66.781</td>\n",
              "      <td>77.369</td>\n",
              "      <td>0.936</td>\n",
              "      <td>322.296</td>\n",
              "      <td>-0.207</td>\n",
              "      <td>3.102</td>\n",
              "      <td>49.937</td>\n",
              "      <td>610.482</td>\n",
              "      <td>1.354</td>\n",
              "      <td>-0.634</td>\n",
              "      <td>0.000</td>\n",
              "      <td>27.364</td>\n",
              "      <td>2.403</td>\n",
              "      <td>1.348</td>\n",
              "      <td>37.052</td>\n",
              "      <td>1.775</td>\n",
              "      <td>-1.689</td>\n",
              "      <td>67.702</td>\n",
              "      <td>-1.768</td>\n",
              "      <td>694.010</td>\n",
              "      <td>3</td>\n",
              "      <td>155.864</td>\n",
              "      <td>-0.358</td>\n",
              "      <td>1.093</td>\n",
              "      <td>134.344</td>\n",
              "      <td>0.578</td>\n",
              "      <td>-2.215</td>\n",
              "      <td>546.066</td>\n",
              "    </tr>\n",
              "    <tr>\n",
              "      <th>249994</th>\n",
              "      <td>217.020</td>\n",
              "      <td>47.156</td>\n",
              "      <td>62.824</td>\n",
              "      <td>127.953</td>\n",
              "      <td>0.295</td>\n",
              "      <td>119.437</td>\n",
              "      <td>-0.014</td>\n",
              "      <td>2.318</td>\n",
              "      <td>3.628</td>\n",
              "      <td>242.586</td>\n",
              "      <td>1.393</td>\n",
              "      <td>1.393</td>\n",
              "      <td>0.000</td>\n",
              "      <td>28.586</td>\n",
              "      <td>1.094</td>\n",
              "      <td>1.729</td>\n",
              "      <td>39.824</td>\n",
              "      <td>0.700</td>\n",
              "      <td>-0.555</td>\n",
              "      <td>97.737</td>\n",
              "      <td>0.220</td>\n",
              "      <td>271.082</td>\n",
              "      <td>2</td>\n",
              "      <td>141.752</td>\n",
              "      <td>0.237</td>\n",
              "      <td>3.126</td>\n",
              "      <td>32.423</td>\n",
              "      <td>-0.058</td>\n",
              "      <td>-1.137</td>\n",
              "      <td>174.176</td>\n",
              "    </tr>\n",
              "  </tbody>\n",
              "</table>\n",
              "<p>68114 rows × 30 columns</p>\n",
              "</div>"
            ],
            "text/plain": [
              "        DER_mass_MMC  ...  PRI_jet_all_pt\n",
              "0            138.470  ...         113.497\n",
              "5             89.744  ...         193.660\n",
              "6            148.754  ...         179.877\n",
              "11           114.744  ...         165.640\n",
              "23           141.481  ...         278.009\n",
              "...              ...  ...             ...\n",
              "249976       137.371  ...         136.200\n",
              "249980       119.934  ...         112.938\n",
              "249985       126.151  ...         193.099\n",
              "249993       130.075  ...         546.066\n",
              "249994       217.020  ...         174.176\n",
              "\n",
              "[68114 rows x 30 columns]"
            ]
          },
          "metadata": {
            "tags": []
          },
          "execution_count": 57
        }
      ]
    },
    {
      "cell_type": "code",
      "metadata": {
        "id": "552mi9KrKgG-"
      },
      "source": [
        "from sklearn.model_selection import train_test_split\n",
        "\n",
        "#Per splittare i dati va anche bene 75% e 25% se sono molto grandi. \n",
        "#Posso anche usare i dati non scalati dal momento che uso un tree model.\n",
        "\n",
        "X_traindata2, X_testdata2, y_train_weight2, y_test_weight2 = train_test_split(higgsdata[higgsdata.columns], \n",
        "                    weight, train_size=0.75, test_size=0.25, random_state=1) "
      ],
      "execution_count": 58,
      "outputs": []
    },
    {
      "cell_type": "code",
      "metadata": {
        "colab": {
          "base_uri": "https://localhost:8080/"
        },
        "id": "KaZnl3Dk_n3I",
        "outputId": "3e461e60-d7cb-4cb8-d5ab-e95d048838a7"
      },
      "source": [
        "from sklearn.ensemble import RandomForestRegressor\n",
        "rf2 = RandomForestRegressor(n_estimators=100, max_depth=3,\n",
        "                            random_state=1)\n",
        "rf2.fit(X_traindata2, y_train_weight2)\n",
        "print(rf2.feature_importances_)"
      ],
      "execution_count": 59,
      "outputs": [
        {
          "output_type": "stream",
          "text": [
            "[0.00295196 0.32764663 0.32002897 0.         0.         0.23402424\n",
            " 0.         0.00541278 0.0023263  0.00238757 0.         0.01995291\n",
            " 0.         0.07103609 0.         0.         0.         0.\n",
            " 0.         0.         0.         0.00205537 0.01149645 0.\n",
            " 0.         0.         0.         0.         0.         0.00068074]\n"
          ],
          "name": "stdout"
        }
      ]
    },
    {
      "cell_type": "code",
      "metadata": {
        "id": "IIRwxCQSMu31",
        "colab": {
          "base_uri": "https://localhost:8080/"
        },
        "outputId": "8f73387f-42ec-4290-a6ac-45b73a659fbf"
      },
      "source": [
        "rf2.predict(X_testdata2)"
      ],
      "execution_count": 60,
      "outputs": [
        {
          "output_type": "execute_result",
          "data": {
            "text/plain": [
              "array([0.44610028, 0.12222057, 0.46078605, ..., 0.12222057, 0.45325785,\n",
              "       0.12222057])"
            ]
          },
          "metadata": {
            "tags": []
          },
          "execution_count": 60
        }
      ]
    },
    {
      "cell_type": "markdown",
      "metadata": {
        "id": "krutcVikJY3T"
      },
      "source": [
        "In questo caso non ho più l'accuratezza, ma posso vedere qualcosa relazionato al chisq o ad L2."
      ]
    },
    {
      "cell_type": "code",
      "metadata": {
        "id": "Mpuv0VApD-Bk",
        "colab": {
          "base_uri": "https://localhost:8080/"
        },
        "outputId": "be897a6b-50df-415b-a35a-c1e06fb92ebb"
      },
      "source": [
        "print(\"L2 RF\", ((rf2.predict(X_testdata2) - y_test_weight2.flatten())**2).sum() )"
      ],
      "execution_count": 61,
      "outputs": [
        {
          "output_type": "stream",
          "text": [
            "L2 RF 6853.054435715192\n"
          ],
          "name": "stdout"
        }
      ]
    },
    {
      "cell_type": "markdown",
      "metadata": {
        "id": "wNfs497ENk7X"
      },
      "source": [
        "Questo stampa solo L2, ma se voglio vedere qunato ciascuna predizione è sbagliata dei dividere per il num di osservazionin che ho per ottenere l'average errore prediciton. "
      ]
    },
    {
      "cell_type": "code",
      "metadata": {
        "id": "GVZvQITgNz7L"
      },
      "source": [
        "#print(\"L2 RF\", ((np.abs(gbt2.predict(X_testdata2) - y_test_weight2.flatten())**2).sum() )"
      ],
      "execution_count": 62,
      "outputs": []
    },
    {
      "cell_type": "markdown",
      "metadata": {
        "id": "uwUT9ukzN9iF"
      },
      "source": [
        "#RandomizedsearchCV\n",
        "\n",
        "Ovvero una gridsearch sugli stimatori che avrebbe portato via molto tempo, quindi non lo facciamo. "
      ]
    },
    {
      "cell_type": "markdown",
      "metadata": {
        "id": "Yzj81PsjO2KK"
      },
      "source": [
        "#A parte lo score e la metrica per la regression della chisq.. : \n",
        "\n",
        "il modo più comune e preferito epr valutare la performance di un classifier probabilistic è la ROC (Receiver Operator caratteristic curve) e la EOC che è l'area all'interno della curva del grafico sotto.\n",
        "\n",
        "ROC mi dice qual è la balance tra fasle positive e false negative sulla base della threshold nella probabilità della classificazione. \n",
        "\n",
        "Nel random forest ha una classificazione probab intuitiva: se ho 1000 alberi e alcuni predicono signal e altri backgroud. Se metà dicono s e metà dicono b, dal punto di vista frequentistico ho il 50% di probabilità per un evento di essere signal.\n",
        "\n",
        "Adesso devo decidere la threshold per scegliere quale è signal e quale background. \n",
        "Devo scegliere la confidenza ad es del 90% (cioè il 90% degli alberi devono essere d'accordo nel dare una classificazione). \n",
        "\n",
        "Come funzoin di questa threshold posso fare un punto sul plot della ROC. Sulla base della threshold ho i punti arancioni sotto, per ongi threshold di acceptance of true postive ho un punto nel grafico. \n",
        "\n",
        "In questo grafico, nel modello ideale vorrei avere 0 false positive e 100% true positive.\n",
        "Ma siccome non accade mai, il punto che scelgo dipende dalla threshold, ovvero dall'interesse scientifico: se posso tollerare false positive o no. \n",
        "\n",
        "Se invece non posso tollerare false positive (ad esempio in prosecutorial justice) voglio stare nella parte a sx della curva, ovvero per un numero molto basso di false positive, ma avrò anche un numero inferiore di false negative. Le performance totale del modello è misurata dell'area sotto la curva: la EOC.\n",
        "\n",
        "\n"
      ]
    },
    {
      "cell_type": "markdown",
      "metadata": {
        "id": "U9lpD21gQmGz"
      },
      "source": [
        "trasformo y_testlabel in un dataframe perchè altrimenti non mi fa il plot della roc curve"
      ]
    },
    {
      "cell_type": "code",
      "metadata": {
        "colab": {
          "base_uri": "https://localhost:8080/"
        },
        "id": "EnbIZEoqQFhs",
        "outputId": "b7c392f5-3b11-49f8-8baf-206beca7123f"
      },
      "source": [
        "pd.DataFrame(y_testlabel).values"
      ],
      "execution_count": 63,
      "outputs": [
        {
          "output_type": "execute_result",
          "data": {
            "text/plain": [
              "array([['b'],\n",
              "       ['s'],\n",
              "       ['b'],\n",
              "       ...,\n",
              "       ['b'],\n",
              "       ['s'],\n",
              "       ['b']], dtype=object)"
            ]
          },
          "metadata": {
            "tags": []
          },
          "execution_count": 63
        }
      ]
    },
    {
      "cell_type": "markdown",
      "metadata": {
        "id": "f2KIHi3Ctb6G"
      },
      "source": [
        "#**ROC_CURVE**"
      ]
    },
    {
      "cell_type": "markdown",
      "metadata": {
        "id": "LyH0tDZir3Y2"
      },
      "source": [
        "**Roc_Curve vuole sono arrays. Però, siccome l'ROc curve vuole una predizione probabilistica perchè sto plotando tru_pos vs false_pos e ottengo un valore diverso in base alla probabilità alla quale accetto che sia true_pos. Per cui devo usare**\n",
        "\n",
        "rf.predict_proba(X_testdata)[:, 1]\n",
        "\n",
        "per creare un vettore di boolean.\n",
        "\n",
        "**rf è il modello con il risultato e prima devo creare la predizine probabilistica sulla base di quanti alberi hanno deciso una cosa piuttosto che un'altra. Questo oggetto contiene una classficiazione probabilistica che posso passare all'ROC curve per avere i valori a diversi livelli della threshosd.**"
      ]
    },
    {
      "cell_type": "code",
      "metadata": {
        "colab": {
          "base_uri": "https://localhost:8080/",
          "height": 295
        },
        "id": "Sh0KkCbDORe8",
        "outputId": "49c5b5d7-38b2-4320-de72-d96ab1a33550"
      },
      "source": [
        "from sklearn.metrics import roc_curve, auc\n",
        "import matplotlib.pyplot as plt\n",
        "\n",
        "y_pred_grd_rfcat = rf.predict_proba(X_testdata)[:, 1]\n",
        "\n",
        "#la prof ha usato il comando commentato e funzionava... aveva testlabel che\n",
        "#era già un dataframe\n",
        "#fpr_rf, tpr_rf, _ = roc_curve(y_testlabel.values.flatten()==\"s\", y_pred_grd_rfcat)\n",
        "\n",
        "#NOTA CHE ROC_CURVE VUOLE IN INPUT NELLA X UNA BOOLEAN VALUE\n",
        "fpr_rf, tpr_rf, _ = roc_curve(y_testlabel==\"s\", y_pred_grd_rfcat)\n",
        "\n",
        "plt.figure(1)\n",
        "plt.plot([0, 1], [0, 1], 'k--')\n",
        "plt.plot(fpr_rf, tpr_rf, label='RF')\n",
        "plt.plot(fpr_rf, tpr_rf, '.', label='RF')\n",
        "plt.xlabel('False positive rate')\n",
        "plt.ylabel('True positive rate')\n",
        "plt.title('ROC curve')\n",
        "plt.legend(loc='best')\n",
        "plt.show()\n",
        "\n"
      ],
      "execution_count": 64,
      "outputs": [
        {
          "output_type": "display_data",
          "data": {
            "image/png": "[encoded data removed]",
            "text/plain": [
              "<Figure size 432x288 with 1 Axes>"
            ]
          },
          "metadata": {
            "tags": [],
            "needs_background": "light"
          }
        }
      ]
    },
    {
      "cell_type": "code",
      "metadata": {
        "id": "uI_fYCnQTvD8",
        "colab": {
          "base_uri": "https://localhost:8080/"
        },
        "outputId": "edc8334c-09e1-4010-b4f0-f00f35f506ed"
      },
      "source": [
        "auc(pd.DataFrame(y_testlabel).values.flatten()==\"s\", y_pred_grd_rfcat)"
      ],
      "execution_count": 65,
      "outputs": [
        {
          "output_type": "execute_result",
          "data": {
            "text/plain": [
              "4074.1749999999997"
            ]
          },
          "metadata": {
            "tags": []
          },
          "execution_count": 65
        }
      ]
    },
    {
      "cell_type": "markdown",
      "metadata": {
        "id": "D3U3aTZiT84o"
      },
      "source": [
        "Questo numero andrebbe comparato con quello del gbt per vedere le performance."
      ]
    },
    {
      "cell_type": "markdown",
      "metadata": {
        "id": "-nLLKuIQVdJc"
      },
      "source": [
        "Nb prof: https://github.com/fedhere/MLPNS2021/blob/main/CART/higgsbosonSearch.ipynb"
      ]
    },
    {
      "cell_type": "markdown",
      "metadata": {
        "id": "1F0627WA392s"
      },
      "source": [
        "#Lezione 18 t-SNE"
      ]
    },
    {
      "cell_type": "markdown",
      "metadata": {
        "id": "P481B_wc6INz"
      },
      "source": [
        "Riprendiamo i dati e rimuoviamo i -999.00, e dopo possiamo vedere gli histogrammi per vedere il comportamento delle variabili. "
      ]
    },
    {
      "cell_type": "code",
      "metadata": {
        "id": "_lmam6y88Skd"
      },
      "source": [
        "datahiggs = pd.read_csv(\"training.csv\")"
      ],
      "execution_count": 66,
      "outputs": []
    },
    {
      "cell_type": "markdown",
      "metadata": {
        "id": "CwbpdKk38V7P"
      },
      "source": [
        "Puliamo i dati di nuovo, prima di usare t-SNE"
      ]
    },
    {
      "cell_type": "code",
      "metadata": {
        "id": "MrXh0aEs8akT"
      },
      "source": [
        "datahiggs = datahiggs.replace(-999.00, np.nan)"
      ],
      "execution_count": 67,
      "outputs": []
    },
    {
      "cell_type": "code",
      "metadata": {
        "colab": {
          "base_uri": "https://localhost:8080/",
          "height": 226
        },
        "id": "--RuIcHQ8od2",
        "outputId": "67e5e4c1-17dc-4215-bccb-d3a40b34c8d2"
      },
      "source": [
        "datain = datahiggs.drop(labels=[\"Label\", \"Weight\", \"EventId\"], axis=1)\n",
        "datain.head()"
      ],
      "execution_count": 68,
      "outputs": [
        {
          "output_type": "execute_result",
          "data": {
            "text/html": [
              "<div>\n",
              "<style scoped>\n",
              "    .dataframe tbody tr th:only-of-type {\n",
              "        vertical-align: middle;\n",
              "    }\n",
              "\n",
              "    .dataframe tbody tr th {\n",
              "        vertical-align: top;\n",
              "    }\n",
              "\n",
              "    .dataframe thead th {\n",
              "        text-align: right;\n",
              "    }\n",
              "</style>\n",
              "<table border=\"1\" class=\"dataframe\">\n",
              "  <thead>\n",
              "    <tr style=\"text-align: right;\">\n",
              "      <th></th>\n",
              "      <th>DER_mass_MMC</th>\n",
              "      <th>DER_mass_transverse_met_lep</th>\n",
              "      <th>DER_mass_vis</th>\n",
              "      <th>DER_pt_h</th>\n",
              "      <th>DER_deltaeta_jet_jet</th>\n",
              "      <th>DER_mass_jet_jet</th>\n",
              "      <th>DER_prodeta_jet_jet</th>\n",
              "      <th>DER_deltar_tau_lep</th>\n",
              "      <th>DER_pt_tot</th>\n",
              "      <th>DER_sum_pt</th>\n",
              "      <th>DER_pt_ratio_lep_tau</th>\n",
              "      <th>DER_met_phi_centrality</th>\n",
              "      <th>DER_lep_eta_centrality</th>\n",
              "      <th>PRI_tau_pt</th>\n",
              "      <th>PRI_tau_eta</th>\n",
              "      <th>PRI_tau_phi</th>\n",
              "      <th>PRI_lep_pt</th>\n",
              "      <th>PRI_lep_eta</th>\n",
              "      <th>PRI_lep_phi</th>\n",
              "      <th>PRI_met</th>\n",
              "      <th>PRI_met_phi</th>\n",
              "      <th>PRI_met_sumet</th>\n",
              "      <th>PRI_jet_num</th>\n",
              "      <th>PRI_jet_leading_pt</th>\n",
              "      <th>PRI_jet_leading_eta</th>\n",
              "      <th>PRI_jet_leading_phi</th>\n",
              "      <th>PRI_jet_subleading_pt</th>\n",
              "      <th>PRI_jet_subleading_eta</th>\n",
              "      <th>PRI_jet_subleading_phi</th>\n",
              "      <th>PRI_jet_all_pt</th>\n",
              "    </tr>\n",
              "  </thead>\n",
              "  <tbody>\n",
              "    <tr>\n",
              "      <th>0</th>\n",
              "      <td>138.470</td>\n",
              "      <td>51.655</td>\n",
              "      <td>97.827</td>\n",
              "      <td>27.980</td>\n",
              "      <td>0.91</td>\n",
              "      <td>124.711</td>\n",
              "      <td>2.666</td>\n",
              "      <td>3.064</td>\n",
              "      <td>41.928</td>\n",
              "      <td>197.760</td>\n",
              "      <td>1.582</td>\n",
              "      <td>1.396</td>\n",
              "      <td>0.2</td>\n",
              "      <td>32.638</td>\n",
              "      <td>1.017</td>\n",
              "      <td>0.381</td>\n",
              "      <td>51.626</td>\n",
              "      <td>2.273</td>\n",
              "      <td>-2.414</td>\n",
              "      <td>16.824</td>\n",
              "      <td>-0.277</td>\n",
              "      <td>258.733</td>\n",
              "      <td>2</td>\n",
              "      <td>67.435</td>\n",
              "      <td>2.150</td>\n",
              "      <td>0.444</td>\n",
              "      <td>46.062</td>\n",
              "      <td>1.24</td>\n",
              "      <td>-2.475</td>\n",
              "      <td>113.497</td>\n",
              "    </tr>\n",
              "    <tr>\n",
              "      <th>1</th>\n",
              "      <td>160.937</td>\n",
              "      <td>68.768</td>\n",
              "      <td>103.235</td>\n",
              "      <td>48.146</td>\n",
              "      <td>NaN</td>\n",
              "      <td>NaN</td>\n",
              "      <td>NaN</td>\n",
              "      <td>3.473</td>\n",
              "      <td>2.078</td>\n",
              "      <td>125.157</td>\n",
              "      <td>0.879</td>\n",
              "      <td>1.414</td>\n",
              "      <td>NaN</td>\n",
              "      <td>42.014</td>\n",
              "      <td>2.039</td>\n",
              "      <td>-3.011</td>\n",
              "      <td>36.918</td>\n",
              "      <td>0.501</td>\n",
              "      <td>0.103</td>\n",
              "      <td>44.704</td>\n",
              "      <td>-1.916</td>\n",
              "      <td>164.546</td>\n",
              "      <td>1</td>\n",
              "      <td>46.226</td>\n",
              "      <td>0.725</td>\n",
              "      <td>1.158</td>\n",
              "      <td>NaN</td>\n",
              "      <td>NaN</td>\n",
              "      <td>NaN</td>\n",
              "      <td>46.226</td>\n",
              "    </tr>\n",
              "    <tr>\n",
              "      <th>2</th>\n",
              "      <td>NaN</td>\n",
              "      <td>162.172</td>\n",
              "      <td>125.953</td>\n",
              "      <td>35.635</td>\n",
              "      <td>NaN</td>\n",
              "      <td>NaN</td>\n",
              "      <td>NaN</td>\n",
              "      <td>3.148</td>\n",
              "      <td>9.336</td>\n",
              "      <td>197.814</td>\n",
              "      <td>3.776</td>\n",
              "      <td>1.414</td>\n",
              "      <td>NaN</td>\n",
              "      <td>32.154</td>\n",
              "      <td>-0.705</td>\n",
              "      <td>-2.093</td>\n",
              "      <td>121.409</td>\n",
              "      <td>-0.953</td>\n",
              "      <td>1.052</td>\n",
              "      <td>54.283</td>\n",
              "      <td>-2.186</td>\n",
              "      <td>260.414</td>\n",
              "      <td>1</td>\n",
              "      <td>44.251</td>\n",
              "      <td>2.053</td>\n",
              "      <td>-2.028</td>\n",
              "      <td>NaN</td>\n",
              "      <td>NaN</td>\n",
              "      <td>NaN</td>\n",
              "      <td>44.251</td>\n",
              "    </tr>\n",
              "    <tr>\n",
              "      <th>3</th>\n",
              "      <td>143.905</td>\n",
              "      <td>81.417</td>\n",
              "      <td>80.943</td>\n",
              "      <td>0.414</td>\n",
              "      <td>NaN</td>\n",
              "      <td>NaN</td>\n",
              "      <td>NaN</td>\n",
              "      <td>3.310</td>\n",
              "      <td>0.414</td>\n",
              "      <td>75.968</td>\n",
              "      <td>2.354</td>\n",
              "      <td>-1.285</td>\n",
              "      <td>NaN</td>\n",
              "      <td>22.647</td>\n",
              "      <td>-1.655</td>\n",
              "      <td>0.010</td>\n",
              "      <td>53.321</td>\n",
              "      <td>-0.522</td>\n",
              "      <td>-3.100</td>\n",
              "      <td>31.082</td>\n",
              "      <td>0.060</td>\n",
              "      <td>86.062</td>\n",
              "      <td>0</td>\n",
              "      <td>NaN</td>\n",
              "      <td>NaN</td>\n",
              "      <td>NaN</td>\n",
              "      <td>NaN</td>\n",
              "      <td>NaN</td>\n",
              "      <td>NaN</td>\n",
              "      <td>-0.000</td>\n",
              "    </tr>\n",
              "    <tr>\n",
              "      <th>4</th>\n",
              "      <td>175.864</td>\n",
              "      <td>16.915</td>\n",
              "      <td>134.805</td>\n",
              "      <td>16.405</td>\n",
              "      <td>NaN</td>\n",
              "      <td>NaN</td>\n",
              "      <td>NaN</td>\n",
              "      <td>3.891</td>\n",
              "      <td>16.405</td>\n",
              "      <td>57.983</td>\n",
              "      <td>1.056</td>\n",
              "      <td>-1.385</td>\n",
              "      <td>NaN</td>\n",
              "      <td>28.209</td>\n",
              "      <td>-2.197</td>\n",
              "      <td>-2.231</td>\n",
              "      <td>29.774</td>\n",
              "      <td>0.798</td>\n",
              "      <td>1.569</td>\n",
              "      <td>2.723</td>\n",
              "      <td>-0.871</td>\n",
              "      <td>53.131</td>\n",
              "      <td>0</td>\n",
              "      <td>NaN</td>\n",
              "      <td>NaN</td>\n",
              "      <td>NaN</td>\n",
              "      <td>NaN</td>\n",
              "      <td>NaN</td>\n",
              "      <td>NaN</td>\n",
              "      <td>0.000</td>\n",
              "    </tr>\n",
              "  </tbody>\n",
              "</table>\n",
              "</div>"
            ],
            "text/plain": [
              "   DER_mass_MMC  ...  PRI_jet_all_pt\n",
              "0       138.470  ...         113.497\n",
              "1       160.937  ...          46.226\n",
              "2           NaN  ...          44.251\n",
              "3       143.905  ...          -0.000\n",
              "4       175.864  ...           0.000\n",
              "\n",
              "[5 rows x 30 columns]"
            ]
          },
          "metadata": {
            "tags": []
          },
          "execution_count": 68
        }
      ]
    },
    {
      "cell_type": "code",
      "metadata": {
        "colab": {
          "base_uri": "https://localhost:8080/",
          "height": 226
        },
        "id": "Wl8Z-5dD9RJN",
        "outputId": "73010024-be2e-4bb8-8fd2-2f59ab3176bf"
      },
      "source": [
        "datain = datain.dropna(axis=0, how='any')\n",
        "datain.head()"
      ],
      "execution_count": 69,
      "outputs": [
        {
          "output_type": "execute_result",
          "data": {
            "text/html": [
              "<div>\n",
              "<style scoped>\n",
              "    .dataframe tbody tr th:only-of-type {\n",
              "        vertical-align: middle;\n",
              "    }\n",
              "\n",
              "    .dataframe tbody tr th {\n",
              "        vertical-align: top;\n",
              "    }\n",
              "\n",
              "    .dataframe thead th {\n",
              "        text-align: right;\n",
              "    }\n",
              "</style>\n",
              "<table border=\"1\" class=\"dataframe\">\n",
              "  <thead>\n",
              "    <tr style=\"text-align: right;\">\n",
              "      <th></th>\n",
              "      <th>DER_mass_MMC</th>\n",
              "      <th>DER_mass_transverse_met_lep</th>\n",
              "      <th>DER_mass_vis</th>\n",
              "      <th>DER_pt_h</th>\n",
              "      <th>DER_deltaeta_jet_jet</th>\n",
              "      <th>DER_mass_jet_jet</th>\n",
              "      <th>DER_prodeta_jet_jet</th>\n",
              "      <th>DER_deltar_tau_lep</th>\n",
              "      <th>DER_pt_tot</th>\n",
              "      <th>DER_sum_pt</th>\n",
              "      <th>DER_pt_ratio_lep_tau</th>\n",
              "      <th>DER_met_phi_centrality</th>\n",
              "      <th>DER_lep_eta_centrality</th>\n",
              "      <th>PRI_tau_pt</th>\n",
              "      <th>PRI_tau_eta</th>\n",
              "      <th>PRI_tau_phi</th>\n",
              "      <th>PRI_lep_pt</th>\n",
              "      <th>PRI_lep_eta</th>\n",
              "      <th>PRI_lep_phi</th>\n",
              "      <th>PRI_met</th>\n",
              "      <th>PRI_met_phi</th>\n",
              "      <th>PRI_met_sumet</th>\n",
              "      <th>PRI_jet_num</th>\n",
              "      <th>PRI_jet_leading_pt</th>\n",
              "      <th>PRI_jet_leading_eta</th>\n",
              "      <th>PRI_jet_leading_phi</th>\n",
              "      <th>PRI_jet_subleading_pt</th>\n",
              "      <th>PRI_jet_subleading_eta</th>\n",
              "      <th>PRI_jet_subleading_phi</th>\n",
              "      <th>PRI_jet_all_pt</th>\n",
              "    </tr>\n",
              "  </thead>\n",
              "  <tbody>\n",
              "    <tr>\n",
              "      <th>0</th>\n",
              "      <td>138.470</td>\n",
              "      <td>51.655</td>\n",
              "      <td>97.827</td>\n",
              "      <td>27.980</td>\n",
              "      <td>0.910</td>\n",
              "      <td>124.711</td>\n",
              "      <td>2.666</td>\n",
              "      <td>3.064</td>\n",
              "      <td>41.928</td>\n",
              "      <td>197.760</td>\n",
              "      <td>1.582</td>\n",
              "      <td>1.396</td>\n",
              "      <td>0.200</td>\n",
              "      <td>32.638</td>\n",
              "      <td>1.017</td>\n",
              "      <td>0.381</td>\n",
              "      <td>51.626</td>\n",
              "      <td>2.273</td>\n",
              "      <td>-2.414</td>\n",
              "      <td>16.824</td>\n",
              "      <td>-0.277</td>\n",
              "      <td>258.733</td>\n",
              "      <td>2</td>\n",
              "      <td>67.435</td>\n",
              "      <td>2.150</td>\n",
              "      <td>0.444</td>\n",
              "      <td>46.062</td>\n",
              "      <td>1.240</td>\n",
              "      <td>-2.475</td>\n",
              "      <td>113.497</td>\n",
              "    </tr>\n",
              "    <tr>\n",
              "      <th>5</th>\n",
              "      <td>89.744</td>\n",
              "      <td>13.550</td>\n",
              "      <td>59.149</td>\n",
              "      <td>116.344</td>\n",
              "      <td>2.636</td>\n",
              "      <td>284.584</td>\n",
              "      <td>-0.540</td>\n",
              "      <td>1.362</td>\n",
              "      <td>61.619</td>\n",
              "      <td>278.876</td>\n",
              "      <td>0.588</td>\n",
              "      <td>0.479</td>\n",
              "      <td>0.975</td>\n",
              "      <td>53.651</td>\n",
              "      <td>0.371</td>\n",
              "      <td>1.329</td>\n",
              "      <td>31.565</td>\n",
              "      <td>-0.884</td>\n",
              "      <td>1.857</td>\n",
              "      <td>40.735</td>\n",
              "      <td>2.237</td>\n",
              "      <td>282.849</td>\n",
              "      <td>3</td>\n",
              "      <td>90.547</td>\n",
              "      <td>-2.412</td>\n",
              "      <td>-0.653</td>\n",
              "      <td>56.165</td>\n",
              "      <td>0.224</td>\n",
              "      <td>3.106</td>\n",
              "      <td>193.660</td>\n",
              "    </tr>\n",
              "    <tr>\n",
              "      <th>6</th>\n",
              "      <td>148.754</td>\n",
              "      <td>28.862</td>\n",
              "      <td>107.782</td>\n",
              "      <td>106.130</td>\n",
              "      <td>0.733</td>\n",
              "      <td>158.359</td>\n",
              "      <td>0.113</td>\n",
              "      <td>2.941</td>\n",
              "      <td>2.545</td>\n",
              "      <td>305.967</td>\n",
              "      <td>3.371</td>\n",
              "      <td>1.393</td>\n",
              "      <td>0.791</td>\n",
              "      <td>28.850</td>\n",
              "      <td>1.113</td>\n",
              "      <td>2.409</td>\n",
              "      <td>97.240</td>\n",
              "      <td>0.675</td>\n",
              "      <td>-0.966</td>\n",
              "      <td>38.421</td>\n",
              "      <td>-1.443</td>\n",
              "      <td>294.074</td>\n",
              "      <td>2</td>\n",
              "      <td>123.010</td>\n",
              "      <td>0.864</td>\n",
              "      <td>1.450</td>\n",
              "      <td>56.867</td>\n",
              "      <td>0.131</td>\n",
              "      <td>-2.767</td>\n",
              "      <td>179.877</td>\n",
              "    </tr>\n",
              "    <tr>\n",
              "      <th>11</th>\n",
              "      <td>114.744</td>\n",
              "      <td>10.286</td>\n",
              "      <td>75.712</td>\n",
              "      <td>30.816</td>\n",
              "      <td>2.563</td>\n",
              "      <td>252.599</td>\n",
              "      <td>-1.401</td>\n",
              "      <td>2.888</td>\n",
              "      <td>36.745</td>\n",
              "      <td>239.804</td>\n",
              "      <td>1.061</td>\n",
              "      <td>1.364</td>\n",
              "      <td>0.769</td>\n",
              "      <td>35.976</td>\n",
              "      <td>-0.669</td>\n",
              "      <td>-0.342</td>\n",
              "      <td>38.188</td>\n",
              "      <td>-0.165</td>\n",
              "      <td>2.502</td>\n",
              "      <td>22.385</td>\n",
              "      <td>2.148</td>\n",
              "      <td>290.547</td>\n",
              "      <td>3</td>\n",
              "      <td>76.773</td>\n",
              "      <td>-0.790</td>\n",
              "      <td>0.303</td>\n",
              "      <td>56.876</td>\n",
              "      <td>1.773</td>\n",
              "      <td>-2.079</td>\n",
              "      <td>165.640</td>\n",
              "    </tr>\n",
              "    <tr>\n",
              "      <th>23</th>\n",
              "      <td>141.481</td>\n",
              "      <td>0.736</td>\n",
              "      <td>111.581</td>\n",
              "      <td>174.075</td>\n",
              "      <td>1.955</td>\n",
              "      <td>364.344</td>\n",
              "      <td>-0.923</td>\n",
              "      <td>1.335</td>\n",
              "      <td>6.663</td>\n",
              "      <td>440.859</td>\n",
              "      <td>0.652</td>\n",
              "      <td>1.042</td>\n",
              "      <td>0.207</td>\n",
              "      <td>98.565</td>\n",
              "      <td>0.190</td>\n",
              "      <td>-1.506</td>\n",
              "      <td>64.285</td>\n",
              "      <td>1.405</td>\n",
              "      <td>-0.952</td>\n",
              "      <td>17.960</td>\n",
              "      <td>-0.973</td>\n",
              "      <td>454.785</td>\n",
              "      <td>2</td>\n",
              "      <td>195.533</td>\n",
              "      <td>1.156</td>\n",
              "      <td>1.416</td>\n",
              "      <td>82.477</td>\n",
              "      <td>-0.798</td>\n",
              "      <td>-2.785</td>\n",
              "      <td>278.009</td>\n",
              "    </tr>\n",
              "  </tbody>\n",
              "</table>\n",
              "</div>"
            ],
            "text/plain": [
              "    DER_mass_MMC  ...  PRI_jet_all_pt\n",
              "0        138.470  ...         113.497\n",
              "5         89.744  ...         193.660\n",
              "6        148.754  ...         179.877\n",
              "11       114.744  ...         165.640\n",
              "23       141.481  ...         278.009\n",
              "\n",
              "[5 rows x 30 columns]"
            ]
          },
          "metadata": {
            "tags": []
          },
          "execution_count": 69
        }
      ]
    },
    {
      "cell_type": "code",
      "metadata": {
        "id": "al5sOIZIHwLd"
      },
      "source": [
        "datahiggs = datahiggs.dropna(axis=0, how='any')"
      ],
      "execution_count": 70,
      "outputs": []
    },
    {
      "cell_type": "code",
      "metadata": {
        "id": "_-_CRsn76zpk"
      },
      "source": [
        "from sklearn import manifold\n",
        "import matplotlib.pyplot as plt"
      ],
      "execution_count": 71,
      "outputs": []
    },
    {
      "cell_type": "code",
      "metadata": {
        "id": "7yoeTcZp6jfY"
      },
      "source": [
        "#manifold.TSNE?"
      ],
      "execution_count": 72,
      "outputs": []
    },
    {
      "cell_type": "markdown",
      "metadata": {
        "id": "hBvIsWdV9a2S"
      },
      "source": [
        "Provare diverse combinazioni di complexity ed early_exaggeration."
      ]
    },
    {
      "cell_type": "code",
      "metadata": {
        "id": "eJPdtDCt6xq1"
      },
      "source": [
        "#SETTA IL RANDOM STATE\n",
        "X_emb = manifold.TSNE(n_components=2, perplexity=30.0).fit_transform(datain.iloc[::10])"
      ],
      "execution_count": 73,
      "outputs": []
    },
    {
      "cell_type": "code",
      "metadata": {
        "id": "KF0OUeSp9kb7",
        "colab": {
          "base_uri": "https://localhost:8080/"
        },
        "outputId": "679df9cf-f808-4221-fc6b-4ffce09983d2"
      },
      "source": [
        "X_emb"
      ],
      "execution_count": 74,
      "outputs": [
        {
          "output_type": "execute_result",
          "data": {
            "text/plain": [
              "array([[-13.195422, -46.86597 ],\n",
              "       [ 30.49409 ,  11.450333],\n",
              "       [-20.872406,  23.626688],\n",
              "       ...,\n",
              "       [ -4.353485, -52.735863],\n",
              "       [ 53.39836 ,   7.14056 ],\n",
              "       [-24.579363, -60.903355]], dtype=float32)"
            ]
          },
          "metadata": {
            "tags": []
          },
          "execution_count": 74
        }
      ]
    },
    {
      "cell_type": "markdown",
      "metadata": {
        "id": "h6pJeJGD9oDg"
      },
      "source": [
        "Se campioniamo più di ogni datain.iloc[::10], ci dobbiamo aspettare una peggiore visualizzazione."
      ]
    },
    {
      "cell_type": "markdown",
      "metadata": {
        "id": "ykAhtcr_7K2k"
      },
      "source": [
        "**perplexity** = numero di oggetti nello spaizo del neighborhood per creare la porieione: ha enorme impatto sul risultato\n",
        "\n",
        "**early exaggeration** = influenza come i cluster vengono visualizzati, ma in base a questo parametro cambia il risultato\n",
        "\n",
        "Tipicamente con il t-SNE si visualizzano i dati e si vede se le isole rispettano quello che ha trovato il custering. \n",
        "\n"
      ]
    },
    {
      "cell_type": "code",
      "metadata": {
        "id": "8a7fQJWz7_Wa",
        "colab": {
          "base_uri": "https://localhost:8080/",
          "height": 282
        },
        "outputId": "489f462c-d251-42d4-8e9c-56ff39105697"
      },
      "source": [
        "plt.plot(X_emb[:,0], X_emb[:,1], '.')"
      ],
      "execution_count": 75,
      "outputs": [
        {
          "output_type": "execute_result",
          "data": {
            "text/plain": [
              "[<matplotlib.lines.Line2D at 0x7f6fbea1fd10>]"
            ]
          },
          "metadata": {
            "tags": []
          },
          "execution_count": 75
        },
        {
          "output_type": "display_data",
          "data": {
            "image/png": "[encoded data removed]",
            "text/plain": [
              "<Figure size 432x288 with 1 Axes>"
            ]
          },
          "metadata": {
            "tags": [],
            "needs_background": "light"
          }
        }
      ]
    },
    {
      "cell_type": "code",
      "metadata": {
        "id": "xIW5RVz-93kk",
        "colab": {
          "base_uri": "https://localhost:8080/",
          "height": 282
        },
        "outputId": "efaab084-f342-4abf-aa9b-26799a3de553"
      },
      "source": [
        "X_emb = manifold.TSNE(n_components=2, perplexity=30.0, early_exaggeration=12.0).fit_transform(datain.iloc[::10])\n",
        "plt.plot(X_emb[:,0], X_emb[:,1], '.')"
      ],
      "execution_count": 76,
      "outputs": [
        {
          "output_type": "execute_result",
          "data": {
            "text/plain": [
              "[<matplotlib.lines.Line2D at 0x7f6fbbff23d0>]"
            ]
          },
          "metadata": {
            "tags": []
          },
          "execution_count": 76
        },
        {
          "output_type": "display_data",
          "data": {
            "image/png": "[encoded data removed]",
            "text/plain": [
              "<Figure size 432x288 with 1 Axes>"
            ]
          },
          "metadata": {
            "tags": [],
            "needs_background": "light"
          }
        }
      ]
    },
    {
      "cell_type": "code",
      "metadata": {
        "id": "0r-hY6JnFFkS",
        "colab": {
          "base_uri": "https://localhost:8080/",
          "height": 282
        },
        "outputId": "e9391add-9736-4274-9f23-134fa42b3e44"
      },
      "source": [
        "X_emb = manifold.TSNE(n_components=3, perplexity=25.0, \n",
        "                      early_exaggeration=10.0).fit_transform(datain.iloc[::10])\n",
        "plt.plot(X_emb[:,0], X_emb[:,1], '.')"
      ],
      "execution_count": 77,
      "outputs": [
        {
          "output_type": "execute_result",
          "data": {
            "text/plain": [
              "[<matplotlib.lines.Line2D at 0x7f6fbbf6c810>]"
            ]
          },
          "metadata": {
            "tags": []
          },
          "execution_count": 77
        },
        {
          "output_type": "display_data",
          "data": {
            "image/png": "[encoded data removed]",
            "text/plain": [
              "<Figure size 432x288 with 1 Axes>"
            ]
          },
          "metadata": {
            "tags": [],
            "needs_background": "light"
          }
        }
      ]
    },
    {
      "cell_type": "markdown",
      "metadata": {
        "id": "_pZd52phF57w"
      },
      "source": [
        "**Questo plot ha degli assi che non rappresentano niente. È l'unico plot in cui non dobbiamo mettere le label perchè è una proiezione completamente astratta. È solo una combinazione delle diverse dimensioni.**"
      ]
    },
    {
      "cell_type": "markdown",
      "metadata": {
        "id": "bSCCyTIkFhMq"
      },
      "source": [
        "Cambiamo N per i dati campionati ogni N"
      ]
    },
    {
      "cell_type": "code",
      "metadata": {
        "id": "c8sbRAOsL0GO"
      },
      "source": [
        "N = 15"
      ],
      "execution_count": 78,
      "outputs": []
    },
    {
      "cell_type": "code",
      "metadata": {
        "colab": {
          "base_uri": "https://localhost:8080/",
          "height": 282
        },
        "id": "bqdpN8_0FJQN",
        "outputId": "f9e518dc-c2ca-4261-ee9f-3c26270ec02b"
      },
      "source": [
        "X_emb = manifold.TSNE(n_components=3, perplexity=25.0, \n",
        "                      early_exaggeration=10.0, random_state=12).fit_transform(datain.iloc[::N])\n",
        "plt.plot(X_emb[:,0], X_emb[:,1], '.')"
      ],
      "execution_count": 79,
      "outputs": [
        {
          "output_type": "execute_result",
          "data": {
            "text/plain": [
              "[<matplotlib.lines.Line2D at 0x7f6fbbee7790>]"
            ]
          },
          "metadata": {
            "tags": []
          },
          "execution_count": 79
        },
        {
          "output_type": "display_data",
          "data": {
            "image/png": "[encoded data removed]",
            "text/plain": [
              "<Figure size 432x288 with 1 Axes>"
            ]
          },
          "metadata": {
            "tags": [],
            "needs_background": "light"
          }
        }
      ]
    },
    {
      "cell_type": "code",
      "metadata": {
        "id": "gdY_9jRqIXrA",
        "colab": {
          "base_uri": "https://localhost:8080/"
        },
        "outputId": "e38a222d-399f-43a6-b5d5-bfe7874b44c1"
      },
      "source": [
        "X_emb.shape"
      ],
      "execution_count": 80,
      "outputs": [
        {
          "output_type": "execute_result",
          "data": {
            "text/plain": [
              "(4541, 3)"
            ]
          },
          "metadata": {
            "tags": []
          },
          "execution_count": 80
        }
      ]
    },
    {
      "cell_type": "markdown",
      "metadata": {
        "id": "sKKRkgzwF3OJ"
      },
      "source": [
        "Proviamo a plottare i punti di due colori diversi per signal o bakcground"
      ]
    },
    {
      "cell_type": "code",
      "metadata": {
        "id": "VsE_wTBHHLG3",
        "colab": {
          "base_uri": "https://localhost:8080/"
        },
        "outputId": "29bcd74b-3819-4f40-e325-79dc9f100a18"
      },
      "source": [
        "sb = datahiggs['Label'].iloc[::N] == 's'\n",
        "sb"
      ],
      "execution_count": 81,
      "outputs": [
        {
          "output_type": "execute_result",
          "data": {
            "text/plain": [
              "0          True\n",
              "51         True\n",
              "99        False\n",
              "154       False\n",
              "232       False\n",
              "          ...  \n",
              "249730    False\n",
              "249773     True\n",
              "249839    False\n",
              "249896    False\n",
              "249946     True\n",
              "Name: Label, Length: 4541, dtype: bool"
            ]
          },
          "metadata": {
            "tags": []
          },
          "execution_count": 81
        }
      ]
    },
    {
      "cell_type": "markdown",
      "metadata": {
        "id": "yjcZEkLbIsP3"
      },
      "source": [
        "Aggiungiamo ad X_emb i label s o b, presi ogni 15"
      ]
    },
    {
      "cell_type": "code",
      "metadata": {
        "id": "d3q8cKnjIxTa"
      },
      "source": [
        "X_emb_sb = X_emb[sb]"
      ],
      "execution_count": 82,
      "outputs": []
    },
    {
      "cell_type": "code",
      "metadata": {
        "id": "gG7PelVGJHaw",
        "colab": {
          "base_uri": "https://localhost:8080/"
        },
        "outputId": "b6ce083b-572d-435f-be2e-b2975c5daad5"
      },
      "source": [
        "X_emb_sb.shape"
      ],
      "execution_count": 83,
      "outputs": [
        {
          "output_type": "execute_result",
          "data": {
            "text/plain": [
              "(2213, 3)"
            ]
          },
          "metadata": {
            "tags": []
          },
          "execution_count": 83
        }
      ]
    },
    {
      "cell_type": "markdown",
      "metadata": {
        "id": "dA7OGCnqJcSP"
      },
      "source": [
        "Creo una figura in cui disegno tutti i punti di X_emb e poi solo i punti con 's' li sovrascrivo con il rosso"
      ]
    },
    {
      "cell_type": "code",
      "metadata": {
        "id": "wOT5xJKDIEje",
        "colab": {
          "base_uri": "https://localhost:8080/",
          "height": 445
        },
        "outputId": "8a0adcbc-dc33-4818-946f-411bcf2a404c"
      },
      "source": [
        "plt.figure(figsize=(10,7))\n",
        "plt.plot(X_emb[:,0], X_emb[:,1], '.')\n",
        "plt.plot(X_emb_sb[:,0],X_emb_sb[:,1], '.' ,c='red')"
      ],
      "execution_count": 84,
      "outputs": [
        {
          "output_type": "execute_result",
          "data": {
            "text/plain": [
              "[<matplotlib.lines.Line2D at 0x7f6fbbe70650>]"
            ]
          },
          "metadata": {
            "tags": []
          },
          "execution_count": 84
        },
        {
          "output_type": "display_data",
          "data": {
            "image/png": "[encoded data removed]",
            "text/plain": [
              "<Figure size 720x504 with 1 Axes>"
            ]
          },
          "metadata": {
            "tags": [],
            "needs_background": "light"
          }
        }
      ]
    },
    {
      "cell_type": "markdown",
      "metadata": {
        "id": "vVQweuqnMDdV"
      },
      "source": [
        "###**La prof ha eliminato anche una variabile binaria che vedevamo dall'ispeizone delle variabili tipo quella sotto, perchè nel calcolo delle distanze, qusta varibile ha solo valori piccoli o grandi**"
      ]
    },
    {
      "cell_type": "code",
      "metadata": {
        "id": "7xHSLttjNSms",
        "colab": {
          "base_uri": "https://localhost:8080/",
          "height": 352
        },
        "outputId": "666cb28e-571c-4991-996c-b79408757501"
      },
      "source": [
        "pl.pyplot.hist(higgsdata.DER_deltaeta_jet_jet) #questo plot è lo stesso grafico che ho fatto all'nizio"
      ],
      "execution_count": 85,
      "outputs": [
        {
          "output_type": "execute_result",
          "data": {
            "text/plain": [
              "(array([16217., 12386., 10182.,  9097.,  7929.,  6327.,  3792.,  1642.,\n",
              "          481.,    61.]),\n",
              " array([0.    , 0.8503, 1.7006, 2.5509, 3.4012, 4.2515, 5.1018, 5.9521,\n",
              "        6.8024, 7.6527, 8.503 ]),\n",
              " <a list of 10 Patch objects>)"
            ]
          },
          "metadata": {
            "tags": []
          },
          "execution_count": 85
        },
        {
          "output_type": "display_data",
          "data": {
            "image/png": "[encoded data removed]",
            "text/plain": [
              "<Figure size 432x288 with 1 Axes>"
            ]
          },
          "metadata": {
            "tags": [],
            "needs_background": "light"
          }
        }
      ]
    }
  ]
}