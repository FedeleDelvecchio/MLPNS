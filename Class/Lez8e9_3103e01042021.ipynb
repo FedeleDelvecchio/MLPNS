{
  "nbformat": 4,
  "nbformat_minor": 0,
  "metadata": {
    "colab": {
      "name": "Lez8e9 3103e01042021.ipynb",
      "provenance": [],
      "collapsed_sections": [],
      "authorship_tag": "ABX9TyMyWoYahuSGbuxI7hHabcYs",
      "include_colab_link": true
    },
    "kernelspec": {
      "name": "python3",
      "display_name": "Python 3"
    },
    "language_info": {
      "name": "python"
    }
  },
  "cells": [
    {
      "cell_type": "markdown",
      "metadata": {
        "id": "view-in-github",
        "colab_type": "text"
      },
      "source": [
        "<a href=\"https://colab.research.google.com/github/FedeleDelvecchio/MLPNS/blob/main/Class/Lez8e9_3103e01042021.ipynb\" target=\"_parent\"><img src=\"https://colab.research.google.com/assets/colab-badge.svg\" alt=\"Open In Colab\"/></a>"
      ]
    },
    {
      "cell_type": "markdown",
      "metadata": {
        "id": "oKnDH5zKDXnx"
      },
      "source": [
        "**Vediamo come mettiamo un file da colab a GitHub**\n",
        "\n",
        "Prima di fare \"ok\" nella casella che compare facendo \"file-->salva su github\", se cambiamo il nome e scriviamo il percorso dove mettere il file, lo inserisce in quella cartella. E se la cartella non esiste, la crea."
      ]
    },
    {
      "cell_type": "markdown",
      "metadata": {
        "id": "cOyV331ZEnTk"
      },
      "source": [
        "Abbiamo parlato di 2 categorie di ML:\n",
        "\n",
        "- **SUPERVISE LEARNING**: PRETEND THAT FOR SOME OF THE DATA I DONT KNOW THE RESULT AND PREDICT THE RESULT. I HAVE A GROUND TRUTH AND \n",
        "I AM ABLE TO COMPARE MY RESULTH WITH GROUND TRUTH, ABLE TO DETERMINE THE ACCURACY FOR EXAMPLE. I ABLE TO TUNE HYPERPARAMETERS.\n",
        "\n",
        "There exist the **hyperparaeters**: they are parameters those are the choice that I made for the model that are not optimize by the data. This is an entire domain problem. I have to decide this hyperparmeters. I can verify how the model works, calculating the accuracy. \n",
        "\n",
        "**All this things are only for supervise.** \n",
        "\n",
        "Now we repeat unsupervise:\n",
        "\n",
        "- **UNSUPERVISE LEARINNG**: FIND A STRUCTURE IN THE DATA BASED ON ALL OF THE FEATURES OF THE DATA, AND I HAVE NOT A GROUND TRUTH. THIS IS MUCH MORE SPECULATIVE AND HERUSTIC THAN SUPERVISE LEARNING.\n",
        "\n"
      ]
    },
    {
      "cell_type": "markdown",
      "metadata": {
        "id": "cZ8zHjYmF7Wh"
      },
      "source": [
        "In supervise learning there is the train, test and validation for my model.\n",
        "**Read chapter 7 from the book \"elements of stathistical learning\"**, about model selection and model validation, and also for model assessment and selection."
      ]
    },
    {
      "cell_type": "markdown",
      "metadata": {
        "id": "LPOy14-SGpWy"
      },
      "source": [
        "We talked about linear regressiona as entry level model of ML. And we talked about the fact that there are basically 3 step:\n",
        "\n",
        "1. I don't have to choose that I am gonna solve my problem modeling the data. E.g. if I was clustering I am not modeling the data, also in NHRT, also in KS-test I am not to fit a gaussian distributin. I am measuring onyl some quantities.\n",
        "So as first step I am gonoe choose if the data are suite a modeling aproach.\n",
        "\n",
        "2. Choose an appropiate familiy of models to through out my data, e.g. the line.\n",
        "\n",
        "3. Find what are the parameters of the line that are appropriate to represent my data. Remembering the definition of model of ML based on dimesion of dataset, I am choosing the right paramter to get the right representation of my data in a lower dimensional representation of datasets.\n",
        "\n",
        "4. ...\n",
        "\n",
        "\n",
        "**Quando facciamo linear regression, my x and y have uncertainties, so I have to include the uncertainties to make the right assesment.**"
      ]
    },
    {
      "cell_type": "markdown",
      "metadata": {
        "id": "l5Kl2vYHIs95"
      },
      "source": [
        "What we do insted of resolving the analytical solutoin, is define the objective function to find the best model for the data, optimize it. Most of ML rely on this concept of minimizing the objective function. \n",
        "\n",
        "**The objective function** is something that has to include my prediction of the model and  what the data actually is. Must include what my model predicts and what my data is. And it has to describe a sort of distance between the data and model prediction. **THE GOAL IS MINIMIZING THIS DISTANCE**. The higher the power of the distance between one data point and the predicition is, the more the outliers will \"prevail\" (will count more). $\\rightarrow$ See difference between $L_1$ and $L_2$.\n",
        "If I have a lot of scatter in my data and I am not worried about the outliers, I can choose $L_2$.\n",
        "\n",
        "Neither $L_1$ and $L_2$ contains the error, so I can use $\\chi^2$ to include error in my model. This is the weighting factor for my data. "
      ]
    },
    {
      "cell_type": "markdown",
      "metadata": {
        "id": "BVBL-DXpI_Ax"
      },
      "source": [
        "##**EXERCISE ON GAMMA RAY BURST**\n",
        "\n",
        "Notebook: https://github.com/fedhere/MLPNS2021/blob/main/HW3_LinearRegression/FitLineToGRBAfterGlow.ipynb\n",
        "\n",
        "Notebook con soluzioni: https://github.com/fedhere/MLPNS2021/blob/main/HW3_LinearRegression/FitLineToGRBAfterGlow_mcmc.ipynb\n",
        "\n",
        "- read the data form google drive. Mount drive, read the data and\n",
        "manipulate them.\n",
        "- FIT THE DATA with $L_1$, $L_2$, $\\chi^2$ using our code for $L_1$ and $\\chi^2$ and use the prepared code for $L_2$. Then repeat with the sklearn functions."
      ]
    },
    {
      "cell_type": "markdown",
      "metadata": {
        "id": "WoiqeTNIfyAF"
      },
      "source": [
        "**MAGNITUDE is the unit which measure the brightness of the stars. This is a logarithmic scale!** The scale of magnitude is inverse, so smaller magnitude corresponds to brighter objects and vieceversa. This is becasue the brghtness of a gamma ray burst will fade as the time goes by. \n",
        "\n",
        "I can fit the dacay of a GRB with a line, but actually it is a broken power law. \n",
        "\n",
        "In interest of time the goal now is to code one of $L$ distance and $\\chi^2$, and then use linear regression from sklearn."
      ]
    },
    {
      "cell_type": "code",
      "metadata": {
        "id": "AgoX86aVKKor"
      },
      "source": [
        "from google.colab import drive\n",
        "import pandas as pd\n",
        "import pylab as pl\n",
        "import numpy as np"
      ],
      "execution_count": 1,
      "outputs": []
    },
    {
      "cell_type": "code",
      "metadata": {
        "colab": {
          "base_uri": "https://localhost:8080/"
        },
        "id": "0Rv78bcHNQOa",
        "outputId": "b76eccf5-5f20-45ef-aed4-4c55e8f8cd0c"
      },
      "source": [
        "drive.mount(\"/content/drive\")"
      ],
      "execution_count": 2,
      "outputs": [
        {
          "output_type": "stream",
          "text": [
            "Mounted at /content/drive\n"
          ],
          "name": "stdout"
        }
      ]
    },
    {
      "cell_type": "code",
      "metadata": {
        "colab": {
          "base_uri": "https://localhost:8080/"
        },
        "id": "J9hTgl5vNUAV",
        "outputId": "50985bfc-978e-4629-8231-4bd9b48bd902"
      },
      "source": [
        "ls"
      ],
      "execution_count": 3,
      "outputs": [
        {
          "output_type": "stream",
          "text": [
            "\u001b[0m\u001b[01;34mdrive\u001b[0m/  \u001b[01;34msample_data\u001b[0m/\n"
          ],
          "name": "stdout"
        }
      ]
    },
    {
      "cell_type": "code",
      "metadata": {
        "colab": {
          "base_uri": "https://localhost:8080/"
        },
        "id": "uX-FhNvsNqMa",
        "outputId": "558c3686-a3cc-472e-dee6-e65f2535c724"
      },
      "source": [
        "cd drive"
      ],
      "execution_count": 4,
      "outputs": [
        {
          "output_type": "stream",
          "text": [
            "/content/drive\n"
          ],
          "name": "stdout"
        }
      ]
    },
    {
      "cell_type": "code",
      "metadata": {
        "colab": {
          "base_uri": "https://localhost:8080/"
        },
        "id": "uqA9MM7DNrqg",
        "outputId": "21b5d4fb-7228-49fe-b7b0-9f50306c7066"
      },
      "source": [
        "cd /content/drive"
      ],
      "execution_count": 5,
      "outputs": [
        {
          "output_type": "stream",
          "text": [
            "/content/drive\n"
          ],
          "name": "stdout"
        }
      ]
    },
    {
      "cell_type": "code",
      "metadata": {
        "colab": {
          "base_uri": "https://localhost:8080/"
        },
        "id": "67hu16CvNtwj",
        "outputId": "ef14fd6c-49a7-4b0f-ba88-5889658da255"
      },
      "source": [
        "ls"
      ],
      "execution_count": 6,
      "outputs": [
        {
          "output_type": "stream",
          "text": [
            "\u001b[0m\u001b[01;34mMyDrive\u001b[0m/  \u001b[01;34mShareddrives\u001b[0m/\n"
          ],
          "name": "stdout"
        }
      ]
    },
    {
      "cell_type": "code",
      "metadata": {
        "colab": {
          "base_uri": "https://localhost:8080/"
        },
        "id": "axgdH3afNugF",
        "outputId": "c675b0d1-de0e-411b-f9f6-e9388dd47004"
      },
      "source": [
        "cd MyDrive/"
      ],
      "execution_count": 7,
      "outputs": [
        {
          "output_type": "stream",
          "text": [
            "/content/drive/MyDrive\n"
          ],
          "name": "stdout"
        }
      ]
    },
    {
      "cell_type": "code",
      "metadata": {
        "colab": {
          "base_uri": "https://localhost:8080/"
        },
        "id": "cIlIH1B-NxD_",
        "outputId": "28a3ad4c-2afe-4fb2-ff66-f4b1081b0944"
      },
      "source": [
        "ls"
      ],
      "execution_count": 8,
      "outputs": [
        {
          "output_type": "stream",
          "text": [
            " CEDIT_6_5_Friuli_Italy_1976.cpg\n",
            " CEDIT_6_5_Friuli_Italy_1976.dbf\n",
            " CEDIT_6_5_Friuli_Italy_1976.prj\n",
            " CEDIT_6_5_Friuli_Italy_1976.sbn\n",
            " CEDIT_6_5_Friuli_Italy_1976.sbx\n",
            " CEDIT_6_5_Friuli_Italy_1976.shp\n",
            " CEDIT_6_5_Friuli_Italy_1976.shp.xml\n",
            " CEDIT_6_5_Friuli_Italy_1976.shx\n",
            "'CEDIT_6_5_Friuli_Italy_1976.zip?raw=true'\n",
            "\u001b[0m\u001b[01;34m'Colab Notebooks'\u001b[0m/\n",
            " e68ceb0a193e4e378b29255b62ab75e0_0.geojson\n",
            " grb050525A.csv\n",
            " \u001b[01;34mkaggleHiggs\u001b[0m/\n",
            " kaggle.json\n",
            " kalbar_drone_190113-768x512.jpg\n",
            "'lezione giovedi-20210318_123532-Meeting Recording.mp4'\n",
            " \u001b[01;34mMLPNS\u001b[0m/\n",
            " NYC_Women_s_Resource_Network_Database.csv\n",
            "\u001b[01;34m'_OriginPro 8.5.0 SR1'\u001b[0m/\n",
            " \u001b[01;34m__pycache__\u001b[0m/\n",
            " \u001b[01;34mPython\u001b[0m/\n",
            "'Quaderno di Lab.gdoc'\n",
            " ZIP_CODE_040114.dbf\n",
            " ZIP_CODE_040114.prj\n",
            " ZIP_CODE_040114.sbn\n",
            " ZIP_CODE_040114.sbx\n",
            " ZIP_CODE_040114.shp\n",
            " ZIP_CODE_040114.shp.xml\n",
            " ZIP_CODE_040114.shx\n",
            " ZIP_CODE_040114.zip\n",
            "'ZIP_CODE_040114.zip?raw=true'\n",
            "'ZIP_CODE_040114.zip?raw=true.1'\n",
            "'ZIP_CODE_040114.zip?raw=true.2'\n"
          ],
          "name": "stdout"
        }
      ]
    },
    {
      "cell_type": "code",
      "metadata": {
        "id": "qocwIaghNx4S"
      },
      "source": [
        "data = pd.read_csv('grb050525A.csv')"
      ],
      "execution_count": 9,
      "outputs": []
    },
    {
      "cell_type": "code",
      "metadata": {
        "colab": {
          "base_uri": "https://localhost:8080/",
          "height": 424
        },
        "id": "Sz9tT9QuOXbx",
        "outputId": "81e99229-47d8-4e36-d5eb-a57f4a0a0e61"
      },
      "source": [
        "data"
      ],
      "execution_count": 10,
      "outputs": [
        {
          "output_type": "execute_result",
          "data": {
            "text/html": [
              "<div>\n",
              "<style scoped>\n",
              "    .dataframe tbody tr th:only-of-type {\n",
              "        vertical-align: middle;\n",
              "    }\n",
              "\n",
              "    .dataframe tbody tr th {\n",
              "        vertical-align: top;\n",
              "    }\n",
              "\n",
              "    .dataframe thead th {\n",
              "        text-align: right;\n",
              "    }\n",
              "</style>\n",
              "<table border=\"1\" class=\"dataframe\">\n",
              "  <thead>\n",
              "    <tr style=\"text-align: right;\">\n",
              "      <th></th>\n",
              "      <th>filter</th>\n",
              "      <th>time</th>\n",
              "      <th>mag</th>\n",
              "      <th>magerr</th>\n",
              "      <th>upperlimit</th>\n",
              "    </tr>\n",
              "  </thead>\n",
              "  <tbody>\n",
              "    <tr>\n",
              "      <th>0</th>\n",
              "      <td>V</td>\n",
              "      <td>66</td>\n",
              "      <td>13.21</td>\n",
              "      <td>0.24</td>\n",
              "      <td>0</td>\n",
              "    </tr>\n",
              "    <tr>\n",
              "      <th>1</th>\n",
              "      <td>V</td>\n",
              "      <td>67</td>\n",
              "      <td>12.90</td>\n",
              "      <td>0.23</td>\n",
              "      <td>0</td>\n",
              "    </tr>\n",
              "    <tr>\n",
              "      <th>2</th>\n",
              "      <td>V</td>\n",
              "      <td>68</td>\n",
              "      <td>12.86</td>\n",
              "      <td>0.23</td>\n",
              "      <td>0</td>\n",
              "    </tr>\n",
              "    <tr>\n",
              "      <th>3</th>\n",
              "      <td>V</td>\n",
              "      <td>69</td>\n",
              "      <td>13.01</td>\n",
              "      <td>0.23</td>\n",
              "      <td>0</td>\n",
              "    </tr>\n",
              "    <tr>\n",
              "      <th>4</th>\n",
              "      <td>V</td>\n",
              "      <td>70</td>\n",
              "      <td>12.97</td>\n",
              "      <td>0.23</td>\n",
              "      <td>0</td>\n",
              "    </tr>\n",
              "    <tr>\n",
              "      <th>...</th>\n",
              "      <td>...</td>\n",
              "      <td>...</td>\n",
              "      <td>...</td>\n",
              "      <td>...</td>\n",
              "      <td>...</td>\n",
              "    </tr>\n",
              "    <tr>\n",
              "      <th>114</th>\n",
              "      <td>W1</td>\n",
              "      <td>63738</td>\n",
              "      <td>NaN</td>\n",
              "      <td>21.20</td>\n",
              "      <td>1</td>\n",
              "    </tr>\n",
              "    <tr>\n",
              "      <th>115</th>\n",
              "      <td>M2</td>\n",
              "      <td>74798</td>\n",
              "      <td>NaN</td>\n",
              "      <td>21.59</td>\n",
              "      <td>1</td>\n",
              "    </tr>\n",
              "    <tr>\n",
              "      <th>116</th>\n",
              "      <td>U</td>\n",
              "      <td>128928</td>\n",
              "      <td>NaN</td>\n",
              "      <td>20.05</td>\n",
              "      <td>1</td>\n",
              "    </tr>\n",
              "    <tr>\n",
              "      <th>117</th>\n",
              "      <td>V</td>\n",
              "      <td>971360</td>\n",
              "      <td>NaN</td>\n",
              "      <td>22.09</td>\n",
              "      <td>1</td>\n",
              "    </tr>\n",
              "    <tr>\n",
              "      <th>118</th>\n",
              "      <td>V</td>\n",
              "      <td>1171176</td>\n",
              "      <td>NaN</td>\n",
              "      <td>21.16</td>\n",
              "      <td>1</td>\n",
              "    </tr>\n",
              "  </tbody>\n",
              "</table>\n",
              "<p>119 rows × 5 columns</p>\n",
              "</div>"
            ],
            "text/plain": [
              "    filter     time    mag  magerr  upperlimit\n",
              "0        V       66  13.21    0.24           0\n",
              "1        V       67  12.90    0.23           0\n",
              "2        V       68  12.86    0.23           0\n",
              "3        V       69  13.01    0.23           0\n",
              "4        V       70  12.97    0.23           0\n",
              "..     ...      ...    ...     ...         ...\n",
              "114     W1    63738    NaN   21.20           1\n",
              "115     M2    74798    NaN   21.59           1\n",
              "116      U   128928    NaN   20.05           1\n",
              "117      V   971360    NaN   22.09           1\n",
              "118      V  1171176    NaN   21.16           1\n",
              "\n",
              "[119 rows x 5 columns]"
            ]
          },
          "metadata": {
            "tags": []
          },
          "execution_count": 10
        }
      ]
    },
    {
      "cell_type": "markdown",
      "metadata": {
        "id": "Sa5S8qluhxkA"
      },
      "source": [
        "Per fittare creiamo la logtime variable, prendendo il log10 dei valori del tempo, e la inderisco in una nuova colonna del dataframe.\n"
      ]
    },
    {
      "cell_type": "code",
      "metadata": {
        "id": "UZFze89rOYlC"
      },
      "source": [
        "data[\"logtime\"] = pl.log10(data[\"time\"])"
      ],
      "execution_count": 13,
      "outputs": []
    },
    {
      "cell_type": "code",
      "metadata": {
        "colab": {
          "base_uri": "https://localhost:8080/",
          "height": 424
        },
        "id": "aDy2B0JdPTiv",
        "outputId": "80994857-ed35-446f-db47-8bcc8af8ffeb"
      },
      "source": [
        "data"
      ],
      "execution_count": 14,
      "outputs": [
        {
          "output_type": "execute_result",
          "data": {
            "text/html": [
              "<div>\n",
              "<style scoped>\n",
              "    .dataframe tbody tr th:only-of-type {\n",
              "        vertical-align: middle;\n",
              "    }\n",
              "\n",
              "    .dataframe tbody tr th {\n",
              "        vertical-align: top;\n",
              "    }\n",
              "\n",
              "    .dataframe thead th {\n",
              "        text-align: right;\n",
              "    }\n",
              "</style>\n",
              "<table border=\"1\" class=\"dataframe\">\n",
              "  <thead>\n",
              "    <tr style=\"text-align: right;\">\n",
              "      <th></th>\n",
              "      <th>filter</th>\n",
              "      <th>time</th>\n",
              "      <th>mag</th>\n",
              "      <th>magerr</th>\n",
              "      <th>upperlimit</th>\n",
              "      <th>logtime</th>\n",
              "    </tr>\n",
              "  </thead>\n",
              "  <tbody>\n",
              "    <tr>\n",
              "      <th>0</th>\n",
              "      <td>V</td>\n",
              "      <td>66</td>\n",
              "      <td>13.21</td>\n",
              "      <td>0.24</td>\n",
              "      <td>0</td>\n",
              "      <td>1.819544</td>\n",
              "    </tr>\n",
              "    <tr>\n",
              "      <th>1</th>\n",
              "      <td>V</td>\n",
              "      <td>67</td>\n",
              "      <td>12.90</td>\n",
              "      <td>0.23</td>\n",
              "      <td>0</td>\n",
              "      <td>1.826075</td>\n",
              "    </tr>\n",
              "    <tr>\n",
              "      <th>2</th>\n",
              "      <td>V</td>\n",
              "      <td>68</td>\n",
              "      <td>12.86</td>\n",
              "      <td>0.23</td>\n",
              "      <td>0</td>\n",
              "      <td>1.832509</td>\n",
              "    </tr>\n",
              "    <tr>\n",
              "      <th>3</th>\n",
              "      <td>V</td>\n",
              "      <td>69</td>\n",
              "      <td>13.01</td>\n",
              "      <td>0.23</td>\n",
              "      <td>0</td>\n",
              "      <td>1.838849</td>\n",
              "    </tr>\n",
              "    <tr>\n",
              "      <th>4</th>\n",
              "      <td>V</td>\n",
              "      <td>70</td>\n",
              "      <td>12.97</td>\n",
              "      <td>0.23</td>\n",
              "      <td>0</td>\n",
              "      <td>1.845098</td>\n",
              "    </tr>\n",
              "    <tr>\n",
              "      <th>...</th>\n",
              "      <td>...</td>\n",
              "      <td>...</td>\n",
              "      <td>...</td>\n",
              "      <td>...</td>\n",
              "      <td>...</td>\n",
              "      <td>...</td>\n",
              "    </tr>\n",
              "    <tr>\n",
              "      <th>114</th>\n",
              "      <td>W1</td>\n",
              "      <td>63738</td>\n",
              "      <td>NaN</td>\n",
              "      <td>21.20</td>\n",
              "      <td>1</td>\n",
              "      <td>4.804398</td>\n",
              "    </tr>\n",
              "    <tr>\n",
              "      <th>115</th>\n",
              "      <td>M2</td>\n",
              "      <td>74798</td>\n",
              "      <td>NaN</td>\n",
              "      <td>21.59</td>\n",
              "      <td>1</td>\n",
              "      <td>4.873890</td>\n",
              "    </tr>\n",
              "    <tr>\n",
              "      <th>116</th>\n",
              "      <td>U</td>\n",
              "      <td>128928</td>\n",
              "      <td>NaN</td>\n",
              "      <td>20.05</td>\n",
              "      <td>1</td>\n",
              "      <td>5.110347</td>\n",
              "    </tr>\n",
              "    <tr>\n",
              "      <th>117</th>\n",
              "      <td>V</td>\n",
              "      <td>971360</td>\n",
              "      <td>NaN</td>\n",
              "      <td>22.09</td>\n",
              "      <td>1</td>\n",
              "      <td>5.987380</td>\n",
              "    </tr>\n",
              "    <tr>\n",
              "      <th>118</th>\n",
              "      <td>V</td>\n",
              "      <td>1171176</td>\n",
              "      <td>NaN</td>\n",
              "      <td>21.16</td>\n",
              "      <td>1</td>\n",
              "      <td>6.068622</td>\n",
              "    </tr>\n",
              "  </tbody>\n",
              "</table>\n",
              "<p>119 rows × 6 columns</p>\n",
              "</div>"
            ],
            "text/plain": [
              "    filter     time    mag  magerr  upperlimit   logtime\n",
              "0        V       66  13.21    0.24           0  1.819544\n",
              "1        V       67  12.90    0.23           0  1.826075\n",
              "2        V       68  12.86    0.23           0  1.832509\n",
              "3        V       69  13.01    0.23           0  1.838849\n",
              "4        V       70  12.97    0.23           0  1.845098\n",
              "..     ...      ...    ...     ...         ...       ...\n",
              "114     W1    63738    NaN   21.20           1  4.804398\n",
              "115     M2    74798    NaN   21.59           1  4.873890\n",
              "116      U   128928    NaN   20.05           1  5.110347\n",
              "117      V   971360    NaN   22.09           1  5.987380\n",
              "118      V  1171176    NaN   21.16           1  6.068622\n",
              "\n",
              "[119 rows x 6 columns]"
            ]
          },
          "metadata": {
            "tags": []
          },
          "execution_count": 14
        }
      ]
    },
    {
      "cell_type": "code",
      "metadata": {
        "id": "OUD7xWBKbzHf"
      },
      "source": [
        "#data[\"logtime\"] = np.log10(data[\"time\"])"
      ],
      "execution_count": 15,
      "outputs": []
    },
    {
      "cell_type": "code",
      "metadata": {
        "colab": {
          "base_uri": "https://localhost:8080/",
          "height": 615
        },
        "id": "jg52Wkq4PnmO",
        "outputId": "da00fc6b-90ed-46d2-eeb7-06430c3fe4eb"
      },
      "source": [
        "#create a figure container and an axis object inside of it\n",
        "ax = pl.figure(figsize=(10,10)).add_subplot(111)\n",
        "    \n",
        "#loop on every filter to plot - this will give differnt colors naturally. \n",
        "#Use pl.errorbar to plot the uncertainties\n",
        "\n",
        "for f in data[\"filter\"].unique():\n",
        "    pl.errorbar(data.loc[data[\"filter\"] == f, \"logtime\"], \n",
        "                data.loc[data[\"filter\"] == f, \"mag\"], \n",
        "                yerr=data.loc[data[\"filter\"] == f, \"magerr\"], fmt='.', ms=0,\n",
        "                fcolor=None, label=None)\n",
        "    \n",
        "# replot to add a better marker (optional)\n",
        "for f in data[\"filter\"].unique():\n",
        "    pl.scatter(data.loc[data[\"filter\"] == f, \"logtime\"], \n",
        "               data.loc[data[\"filter\"] == f, \"mag\"], \n",
        "               alpha=1, s=100, linewidth=2,\n",
        "               label=f,\n",
        "               edgecolor='#cccccc')\n",
        "    \n",
        "\n",
        "# plot the upperlimits as arrows\n",
        "nuplim = data.mag.isna().sum()\n",
        "for i in data[data.upperlimit == 1].index:\n",
        "    pl.arrow(data.loc[i].logtime, \n",
        "             data.loc[i].magerr, 0, 2, \n",
        "            head_width=0.05, head_length=0.1, ec='k')\n",
        "\n",
        "# I am going to invert the y axis because the \"magnitude\" measurement is an inverse scale: brighter is smaller\n",
        "pl.ylim(24,11.7)          \n",
        "pl.legend()\n",
        "\n",
        "#Always rememebr you axis labels!!\n",
        "pl.ylabel(\"magnitude\", fontsize=20)\n",
        "pl.xlabel(\"log time\", fontsize=20);"
      ],
      "execution_count": 16,
      "outputs": [
        {
          "output_type": "display_data",
          "data": {
            "image/png": "[encoded data removed]",
            "text/plain": [
              "<Figure size 720x720 with 1 Axes>"
            ]
          },
          "metadata": {
            "tags": [],
            "needs_background": "light"
          }
        }
      ]
    },
    {
      "cell_type": "markdown",
      "metadata": {
        "id": "Hp9pvryaskfe"
      },
      "source": [
        "Figure 1: Photometry of the Afterglow of GRB 052505A. All photometry is from the Swift satellite and it is obtained from Table 3 of Blustin et al. 2005 https://arxiv.org/pdf/astro-ph/0507515.pdf. The photometric band for each datapoint is indicated in the legend. Time is relative from the estimated moment of explosion of the stellar progenitor. Upperlimits are indicated by down-pointing arrows.\n"
      ]
    },
    {
      "cell_type": "markdown",
      "metadata": {
        "id": "NWMB0bQU1iJN"
      },
      "source": [
        "\n",
        "N.B. le barre verticali in basso sono gli upeprlimit. Che normalmente non vengono utilizzati perchè sarebbe difficile trattarli."
      ]
    },
    {
      "cell_type": "markdown",
      "metadata": {
        "id": "bkS5_FXdP9Gh"
      },
      "source": [
        "###ADESSO BISOGNA PROCEDERE CON IL FIT. Cerco di scrivere il codice per $L_2$ e lo prendo dalle slides."
      ]
    },
    {
      "cell_type": "code",
      "metadata": {
        "colab": {
          "base_uri": "https://localhost:8080/"
        },
        "id": "TzzJ95BfdRth",
        "outputId": "43f6e2cb-c4b8-4406-97fe-400ace43d6f3"
      },
      "source": [
        "from scipy.optimize import minimize\n",
        "def line(x, b, a):\n",
        "    return a * x + b\n",
        "\t\n",
        "def fitfunc(args, x, y):\n",
        "    a, b = args\n",
        "    return sum((y - line(a, b, x))**2)\n",
        "\t\n",
        "x = data[data.upperlimit == 0].logtime.values\n",
        "y = data.loc[data.upperlimit == 0].mag.values\n",
        "\t\n",
        "initialGuess = (10, 1)\n",
        "\t\n",
        "fitfunc(initialGuess, x, y)\n",
        "l2Solution = minimize(fitfunc, initialGuess, args=(x, y))\n",
        "print(fitfunc)\n",
        "print(\"\")\n",
        "print(\"best fit parameters from the minimization of L2: \" + \n",
        "       \"slope {:.2f}, intercept {:.2f}\".format(*l2Solution.x))"
      ],
      "execution_count": 71,
      "outputs": [
        {
          "output_type": "stream",
          "text": [
            "<function fitfunc at 0x7f21c0c7af80>\n",
            "\n",
            "best fit parameters from the minimization of L2: slope 2.51, intercept 8.58\n"
          ],
          "name": "stdout"
        }
      ]
    },
    {
      "cell_type": "code",
      "metadata": {
        "colab": {
          "base_uri": "https://localhost:8080/"
        },
        "id": "X7n-hm6Hd3Hx",
        "outputId": "cfd3856c-5187-4bc4-9fb0-a1341daf2471"
      },
      "source": [
        "solution.x"
      ],
      "execution_count": 31,
      "outputs": [
        {
          "output_type": "execute_result",
          "data": {
            "text/plain": [
              "array([2.51199977, 8.58266842])"
            ]
          },
          "metadata": {
            "tags": []
          },
          "execution_count": 31
        }
      ]
    },
    {
      "cell_type": "markdown",
      "metadata": {
        "id": "qOlEnDAgeww8"
      },
      "source": [
        "###Adesso facciamo lo stesso fit usando $\\chi^2$"
      ]
    },
    {
      "cell_type": "code",
      "metadata": {
        "colab": {
          "base_uri": "https://localhost:8080/"
        },
        "id": "xFjZzDcje6CZ",
        "outputId": "da5be2e2-5b16-4ec7-c67f-266329212e7a"
      },
      "source": [
        "from scipy.optimize import minimize\n",
        "def line(x, b, a):\n",
        "    return a * x + b\n",
        "def chi2(args, x, y, s):\n",
        "    a, b = args\n",
        "    return sum((y - line(x, b, a))**2 / s**2)\n",
        "\n",
        "x = data[data.upperlimit == 0].logtime.values\n",
        "y = data.loc[data.upperlimit == 0].mag.values\n",
        "s = data.loc[data.upperlimit == 0].magerr.values\n",
        "initialGuess = (10, 1)\n",
        "\n",
        "fitfunc(initialGuess, x, y)\n",
        "solution = minimize(chi2, initialGuess, args=(x, y, s))\n",
        "solution\n",
        "\n",
        "chi2Solution = minimize(chi2, initialGuess, args=(x, y, s))\n",
        "print(chi2Solution)\n",
        "print(\"\")\n",
        "print(\"best fit parameters from the minimization of the chi squared: \" + \n",
        "       \"slope {:.2f}, intercept {:.2f}\".format(*chi2Solution.x))"
      ],
      "execution_count": 36,
      "outputs": [
        {
          "output_type": "stream",
          "text": [
            "      fun: 317.42066980131\n",
            " hess_inv: array([[ 0.00020206, -0.000544  ],\n",
            "       [-0.000544  ,  0.00156203]])\n",
            "      jac: array([1.90734863e-05, 1.14440918e-05])\n",
            "  message: 'Desired error not necessarily achieved due to precision loss.'\n",
            "     nfev: 131\n",
            "      nit: 6\n",
            "     njev: 30\n",
            "   status: 2\n",
            "  success: False\n",
            "        x: array([2.48019101, 8.59948749])\n",
            "\n",
            "best fit parameters from the minimization of the chi squared: slope 2.48, intercept 8.60\n"
          ],
          "name": "stdout"
        }
      ]
    },
    {
      "cell_type": "markdown",
      "metadata": {
        "id": "HQUxtPEhfLhX"
      },
      "source": [
        "###Adesso facciamo il fit usando sklearn"
      ]
    },
    {
      "cell_type": "code",
      "metadata": {
        "colab": {
          "base_uri": "https://localhost:8080/"
        },
        "id": "BEYps3ujfOry",
        "outputId": "67a0cded-15e1-4f5c-8234-59f4967b8f86"
      },
      "source": [
        "#note: imports should be moved to the top cell - follow PEP8 guidelines\n",
        "from sklearn.linear_model import LinearRegression\n",
        "lr = LinearRegression()\n",
        "\n",
        "X = np.c_[np.ones((len(data) - data.upperlimit.sum(), 1)), \n",
        "\tdata[data.upperlimit == 0].logtime]\n",
        "y = data.loc[data.upperlimit == 0].mag.values\n",
        "\n",
        "lr.fit(X, y)\n",
        "print (\"best fit parameters from the sklearn LinearRegression(): \" + \n",
        "       \"intercept {:.2f}, slope {:.2f}\".format(lr.intercept_, lr.coef_[1]))"
      ],
      "execution_count": 47,
      "outputs": [
        {
          "output_type": "stream",
          "text": [
            "best fit parameters from the sklearn LinearRegression(): intercept 8.58, slope 2.51\n"
          ],
          "name": "stdout"
        }
      ]
    },
    {
      "cell_type": "markdown",
      "metadata": {
        "id": "12Ae0BoBmw9H"
      },
      "source": [
        "###Adesso risolviamo invece la **normal equation**"
      ]
    },
    {
      "cell_type": "code",
      "metadata": {
        "id": "IkLnsqmoQRCV",
        "colab": {
          "base_uri": "https://localhost:8080/"
        },
        "outputId": "a6d4fec9-102c-4919-c8e9-794d78261441"
      },
      "source": [
        "#DI SEGUITO IL FIT DELLA PROF:\n",
        "\n",
        "#creo le variabili esogene ed endogene\n",
        "X = np.c_[np.ones((len(data) - data.upperlimit.sum(), 1)), \n",
        "\tdata[data.upperlimit == 0].logtime]\n",
        "y = data.loc[data.upperlimit == 0].mag\n",
        "\n",
        "#e fitto usando linalg:\n",
        "theta_best = np.linalg.inv(X.T.dot(X)).dot(X.T).dot(y)\n",
        "print (\"best fit parameters from the linlag(): \" + \n",
        "      \"intercept {:.2f}, slope {:.2f}\".format(theta_best[0], theta_best[1]))\n",
        "\n",
        "#per fittare ci basta fare linalg.inv perchè ci risolve il prodotto tra le \n",
        "#matrici, ovvero ci trova il vettore colonna (a b) che abbiamo nelle slide.\n",
        "\n",
        "#UN ALTRO MODO DI FARE QUESTO PRINT È USARE L'ASTERISCO. VEDI QUI SOTTO:\n",
        "print (\"best fit parameters from the linlag(): \" + \n",
        "      \"intercept {:.2f}, slope {:.2f}\".format(*theta_best))\n",
        "\n",
        "#anzichè usare linalg, devo creare io il codice implementando la normal\n",
        "#equation"
      ],
      "execution_count": 65,
      "outputs": [
        {
          "output_type": "stream",
          "text": [
            "best fit parameters from the linlag(): intercept 8.58, slope 2.51\n",
            "best fit parameters from the linlag(): intercept 8.58, slope 2.51\n"
          ],
          "name": "stdout"
        }
      ]
    },
    {
      "cell_type": "markdown",
      "metadata": {
        "id": "FnGGtA9sqHex"
      },
      "source": [
        "La X della normal equation ha una colonna di 1 perchè la soluzione è per froza bidimensionale con questo modello. Infatti se guardiamo la normal equation, \n",
        "l'incognita x si becca il coefficiente **a**, mentre l'intercetta **b** non moltiplica niente, quindi abbiamo un 1."
      ]
    },
    {
      "cell_type": "code",
      "metadata": {
        "colab": {
          "base_uri": "https://localhost:8080/"
        },
        "id": "Iz9NB-IpqBko",
        "outputId": "70591048-46b4-4bb0-ebad-b8e5664c0963"
      },
      "source": [
        "X"
      ],
      "execution_count": 64,
      "outputs": [
        {
          "output_type": "execute_result",
          "data": {
            "text/plain": [
              "array([[1.        , 1.81954394],\n",
              "       [1.        , 1.8260748 ],\n",
              "       [1.        , 1.83250891],\n",
              "       [1.        , 1.83884909],\n",
              "       [1.        , 1.84509804],\n",
              "       [1.        , 1.85125835],\n",
              "       [1.        , 1.8573325 ],\n",
              "       [1.        , 1.86332286],\n",
              "       [1.        , 1.8920946 ],\n",
              "       [1.        , 1.91907809],\n",
              "       [1.        , 1.94448267],\n",
              "       [1.        , 1.96848295],\n",
              "       [1.        , 1.99122608],\n",
              "       [1.        , 2.01283722],\n",
              "       [1.        , 2.03342376],\n",
              "       [1.        , 2.05307844],\n",
              "       [1.        , 2.07188201],\n",
              "       [1.        , 2.08990511],\n",
              "       [1.        , 2.10720997],\n",
              "       [1.        , 2.12385164],\n",
              "       [1.        , 2.13987909],\n",
              "       [1.        , 2.15533604],\n",
              "       [1.        , 2.17026172],\n",
              "       [1.        , 2.18469143],\n",
              "       [1.        , 2.19865709],\n",
              "       [1.        , 2.2121876 ],\n",
              "       [1.        , 2.22530928],\n",
              "       [1.        , 2.2380461 ],\n",
              "       [1.        , 2.27184161],\n",
              "       [1.        , 2.30535137],\n",
              "       [1.        , 2.33243846],\n",
              "       [1.        , 2.35983548],\n",
              "       [1.        , 2.38916608],\n",
              "       [1.        , 2.41161971],\n",
              "       [1.        , 2.4345689 ],\n",
              "       [1.        , 2.45636603],\n",
              "       [1.        , 2.47567119],\n",
              "       [1.        , 2.49554434],\n",
              "       [1.        , 2.5171959 ],\n",
              "       [1.        , 2.53402611],\n",
              "       [1.        , 2.55145   ],\n",
              "       [1.        , 2.56820172],\n",
              "       [1.        , 2.59879051],\n",
              "       [1.        , 2.61595005],\n",
              "       [1.        , 2.62221402],\n",
              "       [1.        , 2.6294096 ],\n",
              "       [1.        , 2.64345268],\n",
              "       [1.        , 2.6580114 ],\n",
              "       [1.        , 2.67024585],\n",
              "       [1.        , 2.68304704],\n",
              "       [1.        , 2.69722934],\n",
              "       [1.        , 2.7084209 ],\n",
              "       [1.        , 2.7201593 ],\n",
              "       [1.        , 2.73158877],\n",
              "       [1.        , 2.74193908],\n",
              "       [1.        , 2.75663611],\n",
              "       [1.        , 2.76492298],\n",
              "       [1.        , 2.77451697],\n",
              "       [1.        , 2.78461729],\n",
              "       [1.        , 2.79518459],\n",
              "       [1.        , 2.80413943],\n",
              "       [1.        , 2.81358099],\n",
              "       [1.        , 2.82347423],\n",
              "       [1.        , 2.83250891],\n",
              "       [1.        , 2.84135947],\n",
              "       [1.        , 2.85003326],\n",
              "       [1.        , 2.85793526],\n",
              "       [1.        , 2.86628734],\n",
              "       [1.        , 2.87563994],\n",
              "       [1.        , 2.88309336],\n",
              "       [1.        , 2.8909796 ],\n",
              "       [1.        , 2.89872518],\n",
              "       [1.        , 2.90579588],\n",
              "       [1.        , 2.91381385],\n",
              "       [1.        , 2.92168648],\n",
              "       [1.        , 2.92890769],\n",
              "       [1.        , 2.9360108 ],\n",
              "       [1.        , 2.94299959],\n",
              "       [1.        , 2.94939001],\n",
              "       [1.        , 2.95616843],\n",
              "       [1.        , 2.96378783],\n",
              "       [1.        , 2.96988164],\n",
              "       [1.        , 2.97634998],\n",
              "       [1.        , 2.98272339],\n",
              "       [1.        , 2.98900462],\n",
              "       [1.        , 3.01452054],\n",
              "       [1.        , 3.05690485],\n",
              "       [1.        , 3.09447113],\n",
              "       [1.        , 3.77699158],\n",
              "       [1.        , 3.83001094],\n",
              "       [1.        , 4.07986834],\n",
              "       [1.        , 4.10281089],\n",
              "       [1.        , 4.2090322 ],\n",
              "       [1.        , 4.25462057],\n",
              "       [1.        , 4.26892882],\n",
              "       [1.        , 4.34562855],\n",
              "       [1.        , 4.38033789],\n",
              "       [1.        , 4.4488763 ],\n",
              "       [1.        , 4.4573368 ],\n",
              "       [1.        , 4.46805179],\n",
              "       [1.        , 4.47756979],\n",
              "       [1.        , 4.53017408],\n",
              "       [1.        , 4.54165412],\n",
              "       [1.        , 4.55191332],\n",
              "       [1.        , 4.5986045 ],\n",
              "       [1.        , 4.60836555],\n",
              "       [1.        , 4.61320735],\n",
              "       [1.        , 4.70975318]])"
            ]
          },
          "metadata": {
            "tags": []
          },
          "execution_count": 64
        }
      ]
    },
    {
      "cell_type": "code",
      "metadata": {
        "id": "qFf4CEAzRIrS"
      },
      "source": [
        "#when we use the chisq we are minimizing the likelihood of the function."
      ],
      "execution_count": null,
      "outputs": []
    },
    {
      "cell_type": "markdown",
      "metadata": {
        "id": "EWrIs0YDon24"
      },
      "source": [
        "Gli **UPPERLIMIT** non sono utilizzati dal punto di vista statistico. Gli upperlimit provengono dall'apparato di misura e noi li rimuoviamo perchè utilizzarli sarebbe molto difficile. \n",
        "\n"
      ]
    },
    {
      "cell_type": "markdown",
      "metadata": {
        "id": "AJqkPNl_rldX"
      },
      "source": [
        "##DOCKSTRING\n",
        "\n",
        "Quando scriviamo una funzione possiamo/dobbiamo inserire una dockstring che spieghi cosa fa la funzione, quali sono gli input e cosa ritorna. Per creare la dockstring, nella funzione inseriamo:\n",
        "\n",
        "'''\n",
        "\n",
        "QUI TUTTE LE SPIEGAZIONI\n",
        "\n",
        "'''\n",
        "\n",
        "Infatti quando facciamo \"funzione?\" quello che facciamo è invocare la dockstring scritta dall'autore della funzione."
      ]
    },
    {
      "cell_type": "markdown",
      "metadata": {
        "id": "46CsfcAiz8aA"
      },
      "source": [
        "##PLOT DI TUTTE LE SOLUZIONI"
      ]
    },
    {
      "cell_type": "markdown",
      "metadata": {
        "id": "mfpGEfeM1oCW"
      },
      "source": [
        "Create a function that uses the parameters you input and plots a line. Add a legend that describes which line corresponds to what."
      ]
    },
    {
      "cell_type": "code",
      "metadata": {
        "colab": {
          "base_uri": "https://localhost:8080/",
          "height": 615
        },
        "id": "amr7cPGV1pBI",
        "outputId": "1aacb165-2fd0-4794-ba24-1560151457fd"
      },
      "source": [
        "def plotline(pars, x, color='k', symbol='-', label='model', ax=ax):\n",
        "    slope, intercept = pars\n",
        "    y = line(x, intercept, slope)\n",
        "    ax.plot(x, y, ls=symbol, c=color, label=label)\n",
        "\n",
        "\n",
        "ax = pl.figure(figsize=(10,10)).add_subplot(111)\n",
        "\n",
        "for f in data[\"filter\"].unique():\n",
        "    pl.errorbar(data.loc[data[\"filter\"] == f, \"logtime\"], \n",
        "                data.loc[data[\"filter\"] == f, \"mag\"], \n",
        "                yerr=data.loc[data[\"filter\"] == f, \"magerr\"], fmt='.', ms=0,\n",
        "                fcolor=None, label=None)\n",
        "    \n",
        "# replot to add a better marker (optional)\n",
        "for f in data[\"filter\"].unique():\n",
        "    pl.scatter(data.loc[data[\"filter\"] == f, \"logtime\"], \n",
        "               data.loc[data[\"filter\"] == f, \"mag\"], \n",
        "               alpha=1, s=100, linewidth=2,\n",
        "               edgecolor='#cccccc', label=None)\n",
        "    \n",
        "\n",
        "# plot the upperlimits as arrows\n",
        "nuplim = data.mag.isna().sum()\n",
        "for i in data[data.upperlimit == 1].index:\n",
        "    pl.arrow(data.loc[i].logtime, \n",
        "             data.loc[i].magerr, 0, 2, \n",
        "            head_width=0.05, head_length=0.1, ec='k')\n",
        "    \n",
        "#plotting models\n",
        "#use Kelley colors for maximum readability\n",
        "#https://gist.github.com/ollieglass/f6ddd781eeae1d24e391265432297538\n",
        "colors = ['C2B280', '848482', '008856', 'E68FAC', '0067A5', 'F99379', \n",
        "          '604E97', 'F6A600', 'B3446C', \n",
        "          'DCD300', '882D17', '8DB600', '654522', 'E25822', '2B3D26',\n",
        "          '222222', 'F3C300', '875692', 'F38400', 'A1CAF1', 'BE0032', ]\n",
        "#normal equation\n",
        "plotline((lr.coef_[1], lr.intercept_), data.logtime.values, \n",
        "         color='#'+colors[0], \n",
        "         label=\"Normal Equation\", ax=ax)\n",
        "#sklearn\n",
        "plotline((theta_best[::-1]), data.logtime,  \n",
        "         color='#'+colors[2], symbol='-',\n",
        "         label=\"sklearn LinearRegression\", ax=ax)\n",
        "#minimize L1\n",
        "#plotline((l1Solution.x), data.logtime,  \n",
        "#        symbol=':',\n",
        "#       label=\"L1 minimization\", ax=ax)\n",
        "\n",
        "#minimize L2\n",
        "plotline((l2Solution.x), data.logtime,  \n",
        "         symbol='--',\n",
        "         label=\"L2 minimization\", ax=ax)\n",
        "#minimize chi2\n",
        "plotline((chi2Solution.x), data.logtime, \n",
        "         color='#'+colors[3], symbol='-.',\n",
        "         label=r\"$\\chi^2$ minimization\", ax=ax)\n",
        "\n",
        "pl.legend()\n",
        "\n",
        "#with the LinearRegression object I can also do\n",
        "#pl.plot(grbAG.logtime, lr.predict(np.c_[np.ones((len(grbAG), 1)), grbAG.logtime]), 'k-')\n",
        "\n",
        "pl.ylim(24.5,11.7)\n",
        "pl.xlim(1.5, 6.5)\n",
        "pl.ylabel(\"magnitude\", fontsize=20)\n",
        "pl.xlabel(\"log time\", fontsize=20);"
      ],
      "execution_count": 72,
      "outputs": [
        {
          "output_type": "display_data",
          "data": {
            "image/png": "[encoded data removed]",
            "text/plain": [
              "<Figure size 720x720 with 1 Axes>"
            ]
          },
          "metadata": {
            "tags": [],
            "needs_background": "light"
          }
        }
      ]
    },
    {
      "cell_type": "markdown",
      "metadata": {
        "id": "Lau013Ui2hUl"
      },
      "source": [
        "Figure 2: Same as Figure 1, but with linear regression models plotted. The models correspond to the best fit line to the data (excluding upper limits) calculated analytically by solving the normal equation, by solving the fit analysitcally with sklearn.LinearRegression(), and by minimizing the objective functions L1 and Chi squared. The models are indicated in the legend. Scrivere anche che sono in log-log scale. \n",
        "\n",
        "\n",
        "Nella caption avremmo dovuto anche scrivere che la $L_2$ ha una slope maggiore della $L_1$ perchè nella L2 diamo più importanza agli errori. I dati che hanno una luminosità minore hanno più incertezza perchè è più difficile la misura dallo sturmento. Quando inserisco gli errori quindi la slope del $\\chi^2$ diminuisce perchè ho dato meno importanza ai punti che sono meno luminosi.\n",
        "\n"
      ]
    },
    {
      "cell_type": "markdown",
      "metadata": {
        "id": "MuJ4pCam2114"
      },
      "source": [
        "Colons can be used to align columns.\n",
        "\n",
        "| Tables        | Are           | Cool  |\n",
        "| ------------- |:-------------:| -----:|\n",
        "| col 3 is      | right-aligned | $1600 |\n",
        "| col 2 is      | centered      |   $12 |\n",
        "| zebra stripes | are neat      |    $1 |\n",
        "\n",
        "There must be at least 3 dashes separating each header cell.\n",
        "The outer pipes (|) are optional, and you don't need to make the \n",
        "raw Markdown line up prettily. You can also use inline Markdown.\n",
        "\n",
        "Markdown | Less | Pretty\n",
        "--- | --- | ---\n",
        "*Still* | `renders` | **nicely**\n",
        "1 | 2 | 3"
      ]
    },
    {
      "cell_type": "markdown",
      "metadata": {
        "id": "1TNlpIBK6bzG"
      },
      "source": [
        "##INIZIAMO A PARLARE DEI MONTECARLO METHODS"
      ]
    },
    {
      "cell_type": "markdown",
      "metadata": {
        "id": "6OqBScbs6iMp"
      },
      "source": [
        "Stiamo parlando di minimizzazione: stiamo ottimizzando L1 ed L2 e stiamo settando una target function e staimo cercando di ottmizzarla. Stiamo cercando i migliori parametri che mi ottimizzano la target function. \n",
        "\n",
        "What we did, especially in $\\chi^2$, is MAXIMIZING the likelihood, changing the paraeter of the function.\n",
        "\n",
        "Theroretically we are searching the minimum, but exerimentally this is very difficult. \n",
        "\n",
        "####**When we use the chisq, we are definig the likelihood of the model, i.e. the probability of the data given the model**\n",
        "\n",
        "Maximizing the likelihood we seek the parameters that maximize the probability of the observed data under the chosen model.\n",
        "\n",
        "\n",
        "\n",
        "IF I KNOW THE PROCESS, AND IF I KNOW HOW UNCERTANTIES ARE GENERATED, THAT MEANS THAT I CAN KNOW THE PROBAB OF GETTING A GIVEN VALUE FOR MODEL PARAMETERS. \n",
        "THE SAME WITH 1D DISTRUBTION (IN THE PAST), BUT NOW SIGMA AND MU CHANGE FOLLOWING THE EXOGENOUS VARIABLE. \n",
        "\n",
        "For every point in time I believe that there is a generative process that produces data at that point, following some known distribution, i.e. I know sigma and mu and depend on the point on axis. So I have a probability of what number I shold get for my data. \n",
        "\n",
        "**THE LIKELIHHOD** si the opposite: in this case I know the data and I am trying to find the probability of sigma and mu given the data. But the model is the same."
      ]
    },
    {
      "cell_type": "markdown",
      "metadata": {
        "id": "9N25E8H56hPf"
      },
      "source": [
        "In the exercise we did optimization, so we were trying to find mu and sigma, believing that my generative process were a line. \n",
        "And the probability will be maximum when the model is right, because the probab is maximum with that mu and sigma. \n",
        "\n",
        "\n",
        "**Vedendo la forma dela likelihhod, la funzione cresce al crescere della funzione. Allora, siccome l'esponente è il $\\chi^2$, quando la likelihood raggiunge il massimo, $\\chi^2$ raggiunge il minimo.**\n",
        "\n",
        "$\\rightarrow$ Minimizing the $\\chi^2$, means maximize the likelihood. "
      ]
    },
    {
      "cell_type": "markdown",
      "metadata": {
        "id": "ZUS0iyzd-mBs"
      },
      "source": [
        "###**GRADIENT DESCENT**\n",
        "\n",
        "Take large step if derivative is large, and small step if derivative is small, to have computational efficience.\n",
        "\n",
        "Sudo code (GRADIENT DESCENT algorithm)\n",
        "\n",
        "\n",
        "1. Choose a target function Q(p) of the parameters p (for example $L_1$)\n",
        "     \n",
        "2. Choose a (random) initial value for the parameters: (e.g. p0 = (a0, b0))\n",
        "     \n",
        "3. Choose a learning rate η (this could be a multidimensional vector ηi setting a different learning rate for different features)\n",
        "\n",
        "   **Repeat steps 4, 5, 6 until \"convergence\":**\n",
        "     \n",
        "4. Calculate the gradient Q' of the target function for the current parameter values calculating it over all observations in the training set\n",
        "     \n",
        "5. Calculate the next step sizes for each feature: **stepsize = Q'(p_now) * η**\n",
        "     \n",
        "6. Calculate the new parameters p_new as : p_new = p_now - stepsize\n"
      ]
    },
    {
      "cell_type": "markdown",
      "metadata": {
        "id": "WU385mT5_8IF"
      },
      "source": [
        "The problem that I may have a function with more minimum, with local minimum. **To avoid to get stuck in local minimum I add some stochasticity: \"I am gonna take this step, even if the gradient is negative, with some probability\".**\n",
        "\n",
        "So I add the best size: what subset of data I am using to calculate gradint descent. \n",
        "\n",
        "So the difference when I add stochasticity is that I am taking the step even if the gradient is negative, and also that I calculate gradient in a subset of data, to get multiple solution. \n",
        "\n",
        "Since I am using such a subset, I can run the code in parallel and start from a different point, to improve cmoputational efficiency. "
      ]
    },
    {
      "cell_type": "markdown",
      "metadata": {
        "id": "-8R2NIz7bkA6"
      },
      "source": [
        "# **LEZIONE 9 01042021**"
      ]
    },
    {
      "cell_type": "code",
      "metadata": {
        "id": "Q0OsOyjYqmTE"
      },
      "source": [
        "from sklearn.linear_model import LinearRegression\n",
        "import scipy as sc\n",
        "from scipy.optimize import minimize"
      ],
      "execution_count": null,
      "outputs": []
    },
    {
      "cell_type": "code",
      "metadata": {
        "colab": {
          "base_uri": "https://localhost:8080/"
        },
        "id": "X7kTGKmSvtNu",
        "outputId": "a3f342a2-0665-46c3-e0e5-4af86c20bdcd"
      },
      "source": [
        "def line(intercept, slope, x):\n",
        "    return slope * x + intercept\n",
        "def l1(args, x, y):\n",
        "    a, b = args\n",
        "    return sum(np.abs(y - line(a, b, x)))\n",
        "\n",
        "\n",
        "initialGuess = (10, 1)\n",
        "\n",
        "l1Solution = minimize(l1, initialGuess, args=(x, y))\n",
        "print(l1Solution)\n",
        "print(\"\")\n",
        "print(\"best fit parameters from the minimization of L1: \" + \n",
        "       \"slope {:.2f}, intercept {:.2f}\".format(*l1Solution.x))"
      ],
      "execution_count": null,
      "outputs": [
        {
          "output_type": "stream",
          "text": [
            "      fun: 26.303319250460245\n",
            " hess_inv: array([[ 3.72424367e-04, -8.83687028e-05],\n",
            "       [-8.83687028e-05,  2.09754501e-05]])\n",
            "      jac: array([-0.25146294, -2.20956945])\n",
            "  message: 'Desired error not necessarily achieved due to precision loss.'\n",
            "     nfev: 712\n",
            "      nit: 20\n",
            "     njev: 175\n",
            "   status: 2\n",
            "  success: False\n",
            "        x: array([8.22524041, 2.64075474])\n",
            "\n",
            "best fit parameters from the minimization of L1: slope 8.23, intercept 2.64\n"
          ],
          "name": "stdout"
        }
      ]
    },
    {
      "cell_type": "code",
      "metadata": {
        "colab": {
          "base_uri": "https://localhost:8080/"
        },
        "id": "MhuqmcnPqVVj",
        "outputId": "b2dda5f8-c701-4212-e597-e76f4904eeee"
      },
      "source": [
        "def chi2(args, x, y, s):\n",
        "    a, b = args\n",
        "    return sum((y - line(a, b, x))**2 / s**2)\n",
        "\n",
        "x = data[data.upperlimit == 0].logtime.values\n",
        "y = data.loc[data.upperlimit == 0].mag.values\n",
        "s = data.loc[data.upperlimit == 0].magerr.values\n",
        "\n",
        "initialGuess = (10, 1)\n",
        "\n",
        "chi2Solution = minimize(chi2, initialGuess, args=(x, y, s))\n",
        "print(chi2Solution)\n",
        "print(\"\")\n",
        "print(\"best fit parameters from the minimization of the chi squared: \" + \n",
        "       \"slope {:.2f}, intercept {:.2f}\".format(*chi2Solution.x))"
      ],
      "execution_count": null,
      "outputs": [
        {
          "output_type": "stream",
          "text": [
            "      fun: 317.4206698013084\n",
            " hess_inv: array([[ 4.23050895e-04, -1.33046572e-04],\n",
            "       [-1.33046572e-04,  5.38581176e-05]])\n",
            "      jac: array([0.00000000e+00, 1.90734863e-05])\n",
            "  message: 'Desired error not necessarily achieved due to precision loss.'\n",
            "     nfev: 258\n",
            "      nit: 5\n",
            "     njev: 62\n",
            "   status: 2\n",
            "  success: False\n",
            "        x: array([8.59948748, 2.48019102])\n",
            "\n",
            "best fit parameters from the minimization of the chi squared: slope 8.60, intercept 2.48\n"
          ],
          "name": "stdout"
        }
      ]
    },
    {
      "cell_type": "code",
      "metadata": {
        "colab": {
          "base_uri": "https://localhost:8080/"
        },
        "id": "B-mJMOXcmRid",
        "outputId": "a9305dda-1b77-4493-e106-348334494d69"
      },
      "source": [
        "!pip install emcee  #this is a package that can be pip installed"
      ],
      "execution_count": null,
      "outputs": [
        {
          "output_type": "stream",
          "text": [
            "Collecting emcee\n",
            "\u001b[?25l  Downloading https://files.pythonhosted.org/packages/97/f4/00151f5f843088337c6a53edd6cbb2df340f1044d23080c662f95219cc3f/emcee-3.0.2-py2.py3-none-any.whl (41kB)\n",
            "\r\u001b[K     |███████▉                        | 10kB 13.4MB/s eta 0:00:01\r\u001b[K     |███████████████▋                | 20kB 14.7MB/s eta 0:00:01\r\u001b[K     |███████████████████████▌        | 30kB 10.2MB/s eta 0:00:01\r\u001b[K     |███████████████████████████████▎| 40kB 7.6MB/s eta 0:00:01\r\u001b[K     |████████████████████████████████| 51kB 2.7MB/s \n",
            "\u001b[?25hRequirement already satisfied: numpy in /usr/local/lib/python3.7/dist-packages (from emcee) (1.19.5)\n",
            "Installing collected packages: emcee\n",
            "Successfully installed emcee-3.0.2\n"
          ],
          "name": "stdout"
        }
      ]
    },
    {
      "cell_type": "code",
      "metadata": {
        "id": "4sZ--5pBmR3u"
      },
      "source": [
        "import emcee"
      ],
      "execution_count": null,
      "outputs": []
    },
    {
      "cell_type": "code",
      "metadata": {
        "id": "mbmTCW15mTlx"
      },
      "source": [
        "def log_prior(theta): #the prior should come frome knowledge that has nothing to do with data\n",
        "  slope, intercept = theta\n",
        "  if slope > 0 and intercept > 0:\n",
        "    return 0\n",
        "  return -np.inf"
      ],
      "execution_count": null,
      "outputs": []
    },
    {
      "cell_type": "markdown",
      "metadata": {
        "id": "FoZW5ljJmVKc"
      },
      "source": [
        "def log_likelihood(intercept, a, x, y, yerr):\n",
        "  #assume a gaussian distirbution of uncertanties\n",
        "  #remember a model is a line\n",
        "  #the likelihood is a chi squared\n",
        "  return -np.sum(((y - line(intercept, slope, x))**2) /yerr**2)"
      ]
    },
    {
      "cell_type": "code",
      "metadata": {
        "id": "ep-MBaJL1iA_"
      },
      "source": [
        "def log_likelihood(theta, x, y, yerr):\n",
        "    return - np.sum(((y - line(theta[0], theta[1], x)) ** 2 )/ yerr**2)"
      ],
      "execution_count": null,
      "outputs": []
    },
    {
      "cell_type": "code",
      "metadata": {
        "id": "Zjv0VRwxmW_r"
      },
      "source": [
        "def log_probability(theta, x, y, yerr):\n",
        "  lp = log_prior(theta)\n",
        "  if not np.isfinite(lp):\n",
        "    return -np.inf\n",
        "  \n",
        "  return lp + log_likelihood(theta, x, y, yerr)"
      ],
      "execution_count": null,
      "outputs": []
    },
    {
      "cell_type": "code",
      "metadata": {
        "id": "xLoAJV3TmsTQ"
      },
      "source": [
        "#I want an initial guess\n",
        "ig = [10,1]"
      ],
      "execution_count": null,
      "outputs": []
    },
    {
      "cell_type": "code",
      "metadata": {
        "id": "rLujHW7Am7eV"
      },
      "source": [
        "#initialize all walkers\n",
        "nwalkers = 32\n",
        "ndim = len(ig)\n",
        "pos = np.array(ig) + 1e-4 * np.random.randn(nwalkers, ndim) #i wanna start w\\ 32 walkers\n"
      ],
      "execution_count": null,
      "outputs": []
    },
    {
      "cell_type": "code",
      "metadata": {
        "colab": {
          "base_uri": "https://localhost:8080/"
        },
        "id": "CroS2KylnVw8",
        "outputId": "78cbd477-d6c1-4d2d-d0d1-00d2cfe39c14"
      },
      "source": [
        "pos.shape"
      ],
      "execution_count": null,
      "outputs": [
        {
          "output_type": "execute_result",
          "data": {
            "text/plain": [
              "(32, 2)"
            ]
          },
          "metadata": {
            "tags": []
          },
          "execution_count": 118
        }
      ]
    },
    {
      "cell_type": "code",
      "metadata": {
        "id": "VWnD_zwun34Y"
      },
      "source": [
        "sampler = emcee.EnsembleSampler( nwalkers, ndim, log_probability, args=(x, y, s) )"
      ],
      "execution_count": null,
      "outputs": []
    },
    {
      "cell_type": "markdown",
      "metadata": {
        "id": "aVf2uWiHxYe1"
      },
      "source": [
        "|method \t                  |slope |\tintercept|\n",
        "| ------------- |:-------------:| -----:|\n",
        "|Normal Equation \t          | 2.51 |  8.58     |\n",
        "|sklearn.LinearRegression() | 2.51 |\t8.58     |\n",
        "|minimize L2 \t              | 2.51 |\t8.58     |\n",
        "|minimize chi2 \t            | 2.50 |\t8.58     |"
      ]
    },
    {
      "cell_type": "code",
      "metadata": {
        "colab": {
          "base_uri": "https://localhost:8080/"
        },
        "id": "9gUJOe4pocpF",
        "outputId": "91e0b3c4-de3c-4be0-c797-0ef99799b975"
      },
      "source": [
        "sampler.run_mcmc(pos, 5000, progress = True)"
      ],
      "execution_count": null,
      "outputs": [
        {
          "output_type": "stream",
          "text": [
            "100%|██████████| 5000/5000 [00:06<00:00, 723.91it/s]\n"
          ],
          "name": "stderr"
        },
        {
          "output_type": "execute_result",
          "data": {
            "text/plain": [
              "State([[8.61327903 2.48224026]\n",
              " [8.60180427 2.47764799]\n",
              " [8.55953386 2.49422281]\n",
              " [8.61627915 2.47455604]\n",
              " [8.65434264 2.46114273]\n",
              " [8.5547897  2.4932335 ]\n",
              " [8.54535909 2.50445662]\n",
              " [8.62839496 2.46919042]\n",
              " [8.51351887 2.51059907]\n",
              " [8.58225567 2.47853855]\n",
              " [8.58934077 2.48163401]\n",
              " [8.63493503 2.46425337]\n",
              " [8.62528998 2.47578904]\n",
              " [8.51822828 2.50792841]\n",
              " [8.57232353 2.49068725]\n",
              " [8.60447848 2.48315385]\n",
              " [8.59346394 2.48088067]\n",
              " [8.64400687 2.46199881]\n",
              " [8.57067858 2.49151329]\n",
              " [8.58580466 2.48429381]\n",
              " [8.63429767 2.46103763]\n",
              " [8.58476726 2.48757255]\n",
              " [8.57572124 2.48386502]\n",
              " [8.64528148 2.46887937]\n",
              " [8.58341293 2.49120877]\n",
              " [8.59645085 2.48370416]\n",
              " [8.58993123 2.48501148]\n",
              " [8.65269525 2.46140228]\n",
              " [8.53397962 2.50144196]\n",
              " [8.6266848  2.46836145]\n",
              " [8.59381619 2.48384344]\n",
              " [8.6209278  2.47810655]], log_prob=[-319.34490805 -317.54194537 -317.93330347 -317.51294954 -318.38618786\n",
              " -318.31502867 -319.52195998 -317.72315031 -319.80016244 -319.84049985\n",
              " -317.62722567 -318.33504197 -318.46856752 -319.55184693 -317.69980541\n",
              " -318.30547827 -317.51101697 -318.34239844 -317.75264286 -317.49819243\n",
              " -319.76865051 -317.69171241 -318.44299015 -318.94756912 -318.66821834\n",
              " -317.66278951 -317.53823299 -318.33150244 -318.89489992 -317.87812584\n",
              " -317.5425376  -318.71806213], blobs=None, random_state=('MT19937', array([1653957849, 4216038194, 1578770811, 1145277299, 2999061142,\n",
              "        395936031, 1094923544, 2010919231, 1429510029, 1607263326,\n",
              "        832163701, 2199505716, 3837471841, 2556191544,  842108412,\n",
              "       3563608134, 1056703265, 4073705394,  703011380, 2368183300,\n",
              "       3978532174,   93693405,  216461522, 2087613816, 1749033779,\n",
              "        809130039, 2495641319, 2615833157,  109817288, 3268565912,\n",
              "       2134821425,  618957329, 3280379558, 4074522698,  188450351,\n",
              "       4252297814, 2608050301,  654048386, 1278623303, 3229411332,\n",
              "        246090601, 1922848106, 4181479922,   41022389,  953817608,\n",
              "        707677176,  564328316,  868814488, 4205678243, 1174161131,\n",
              "       2181493866, 3351861444,  528508661,  365453974, 1016507312,\n",
              "         84735021, 3755436285, 2888736847, 3496362093, 2560828693,\n",
              "        900715291, 2388594357, 1878362035, 1533283433, 3536163187,\n",
              "       1792121672, 2205440024, 2240394081, 3785621654, 2646696300,\n",
              "       1435462090, 2792588796, 3405858627, 1904285145, 1287912884,\n",
              "       2495955463, 1082142995, 2436417602, 4242839931, 2361159869,\n",
              "        814195084, 2579653083,  721601488, 1753803606, 1945057558,\n",
              "       1177405603, 2652546968, 1590925216, 1287020514, 3843585957,\n",
              "        454053546, 2116610139, 1255221404, 1653223039, 3993963004,\n",
              "       1645887687, 3634469624, 3285997002, 3464327957, 1219776335,\n",
              "       1833486456, 1234147827, 1546108348, 2589694646, 2160516667,\n",
              "        731090625, 3475603922,  135721631, 3840967436,  998892490,\n",
              "       1981062511, 3763716721,  837159807,  886584433, 3189252480,\n",
              "       1427566441, 2450817175,  519266088, 1397022446, 1521745331,\n",
              "       3895657101, 1010176781, 2723599174, 1482869409, 1442782545,\n",
              "       1555282501, 4052690868, 3877412471, 1449822550, 3543519443,\n",
              "        236091997, 3127755987, 3080579510, 4053028824,  200295473,\n",
              "       4201003888, 2618337264, 3554116898, 2452280397,  690909456,\n",
              "       2676299696, 1057201653, 3248089465, 1602905589, 1750557071,\n",
              "       3095327828,  788515104, 2273805784,  338309365,  235402353,\n",
              "       3566404624, 2791347409, 2310181361, 2215949103, 1535741389,\n",
              "       3739305579, 1500373230, 1777597690, 3083586745, 4271754591,\n",
              "       3871683619, 1280274830,  131961028, 1012832947, 1229609267,\n",
              "       3455543738, 2143326743, 1119702101, 1641949166, 3194564941,\n",
              "       3952552154, 2441972979,  543117703, 2869090955, 1761062047,\n",
              "       3624965951,  366271781,   34541233, 3436306035, 3300281772,\n",
              "       4052577403, 1705584558,   38194268, 4235009686,  571485541,\n",
              "       2694207487, 2558327647, 1562352034,  434058759, 2683341691,\n",
              "       3781846632, 3642514354, 1430244690, 2522202163, 2680466487,\n",
              "        399758406, 3115256354, 3169846047,  541796288, 2379346647,\n",
              "       1201838948, 3557722057, 4121175906, 2397926989, 2282481197,\n",
              "       1926153418, 2300320163, 3864652544, 1740203596, 3843609666,\n",
              "       2119880127, 2823148468, 4129105431,  208521877, 2157191320,\n",
              "        153140747, 1550756554,  755008055,  673484779,  155047925,\n",
              "       1054026562, 3755541263,  332629874,  937187704, 3524251630,\n",
              "        131504749, 3724314556, 2849302321, 2318423060, 3392042079,\n",
              "       2273154549, 3607933148, 1304907452, 4164396996, 4223574200,\n",
              "       2986308941, 1003566471, 3143726928,  764033764, 2219476006,\n",
              "       2324370256,  722456715, 3932347664, 2561622824, 2823931650,\n",
              "       3122019516, 4034603718, 1433999516, 3265274041, 1920546196,\n",
              "       1671060752, 3653885489, 2591622580, 2830436128, 1841938495,\n",
              "        329524306, 2461750099, 3218823129, 1232581768, 2858711859,\n",
              "       1859899232,  594410400, 1464718114, 1676353934,   14659507,\n",
              "       3089505001,  610745794, 2286618651,  916080466,   38714485,\n",
              "       1745862820,  620952994, 2140854458,  452580318, 1772095564,\n",
              "       2854295169, 3962472360, 4004682323, 3269696286, 2072735011,\n",
              "       3058766705, 2979420572, 2227480412, 1155725863, 2170498090,\n",
              "       2084020399, 2349049686,  830367557, 2330869403, 2791527648,\n",
              "       1664387288, 1783875707, 2182563853,  973463918,  779024316,\n",
              "       3010434932, 2086697500, 2453974703, 3341183773,  927643253,\n",
              "       3191204776, 1282362577, 1508750601, 3039466348, 3272000890,\n",
              "       4162169768, 3661291698,  708178214,  320900960, 2802452740,\n",
              "       1591189873, 4061543571, 1360009402,  878308628, 3819592349,\n",
              "        947309312,  803020902, 2224443711,  315124945, 1549754745,\n",
              "       3884391540, 1049791171,  439573877,  140782480,  699665643,\n",
              "       3922762686, 1586002781,   89299658, 1377996737, 3114577131,\n",
              "       3646694943, 3527193530, 3768604009, 2361387004, 3392639390,\n",
              "       3481896870, 3252831222, 2038185040,  169639900, 3912660023,\n",
              "       1669151315, 1397849424, 2010718492, 3734229972, 2827425168,\n",
              "        852804763, 3286881107,  962828987, 1591395694, 2727994334,\n",
              "       1777894468,   65568650, 2594043354, 4124243807,  124597980,\n",
              "       2615311754, 1858736656, 3561270806, 2823456572, 2877278003,\n",
              "       3026082357, 1808484588, 3698054918, 1656676935, 1251099204,\n",
              "       2382473198, 2612112712, 4272900102, 2816622024, 2693760068,\n",
              "        144389758,  226563932, 1855974444, 2337460536, 2538722959,\n",
              "       2312458191, 2476973765, 3553438464, 3968867945, 3580897375,\n",
              "        764409099, 3884815898, 1843538988, 1820866393,  856562809,\n",
              "       3882656740,  402468610,  344060460, 2730306129, 2057602950,\n",
              "       3750337101, 3773923881, 2694762422, 2773570114, 3500751588,\n",
              "       2755004246,  218527623, 1633014999,  602748953,  195242365,\n",
              "        538038725,  216564857,  511934931, 3956649043,  746864735,\n",
              "       2916426511,  403656550, 1694723870, 1506001796, 3774971220,\n",
              "       3140190613, 2206582696, 2211175617, 1554869758, 1254275644,\n",
              "        641494320, 1425734479,  145525902, 1056595800,  223256553,\n",
              "       3880617474, 3905641392, 1971601528, 2041546017, 1282984391,\n",
              "        124346359, 3056626103, 3107451891,  437669188, 1021619868,\n",
              "       2624239570,  466950662, 1817808378, 2671055245, 2997339500,\n",
              "        134399219, 3613723735,  861616424, 2785460505,   22813128,\n",
              "       4210696840,  291565672, 2782589245, 2162968656, 3878440329,\n",
              "       4280252701, 1191977440, 1304317966,  682046073, 1738516108,\n",
              "       4271878713, 1223904489,  461419124, 1441898105, 1088389961,\n",
              "       2611554794, 1662351178, 2362444303,  900301994,  176754172,\n",
              "       2485138078, 1389638352, 1739508769, 2507021122,  759088862,\n",
              "       2457755101, 3635039502, 3110334965,  851427836, 2694574888,\n",
              "       3640048873, 2531501805, 1494293734,  197066932, 3992156656,\n",
              "       4047764669,  772017123,    6591235, 2204352217,  455035086,\n",
              "       2150418459, 1661150536, 3524349900, 2540920549, 1242065871,\n",
              "         92093710, 3190921009,  907606844, 1415261118, 3842531673,\n",
              "       3478592081, 1210213016, 3486623818, 2682573633, 1556672012,\n",
              "        627757753, 2553130698, 1277258647,   60522897, 2642577164,\n",
              "       3160796476, 3095118119, 2175420140, 1858869790,  850413986,\n",
              "        360871592, 3474197433,  617427154, 1449592443, 1516866727,\n",
              "        158617606,  815713971, 3772922024, 1985849625, 2138461495,\n",
              "        588514496,  600296897, 1771357881,   53806451, 4133824945,\n",
              "       1316604039, 2359063896, 3852807702, 3309708655, 3980113021,\n",
              "        831917760, 2784701204, 1618725384,   62587306, 3912687711,\n",
              "       2002703438,  828376194, 3224573246, 4205169545, 3187382319,\n",
              "       2225524787, 2900765646, 1702882945, 2857758786, 2679750305,\n",
              "       1212611199, 3356716738, 1156732627, 1159250429, 2421570708,\n",
              "       1564388018,  339363215, 2642220073, 2305123319, 3867773609,\n",
              "       3545515783, 3051860130,  906407884, 4105363653, 1413111235,\n",
              "        293480508, 3691278641,  392956745, 3372299088, 3016767536,\n",
              "       2008404751, 3282847399, 3421576728, 4272225794, 3882431945,\n",
              "        703497731, 4228769277, 2187399338,   21165862, 4276819818,\n",
              "        461300882, 2163142693, 1019179476, 2923132558, 2504565976,\n",
              "        207451474, 2491886138, 3833865450, 3752118431, 1393620790,\n",
              "        985595181,  651313755, 1963644110, 2979981251, 2330064094,\n",
              "        913561991, 2750808060,  438837150, 1607412394, 2685233038,\n",
              "       1724397195, 1769392545, 2595615275,  955288504, 1525804996,\n",
              "       1532159812, 1250167205, 3625519123, 1303888163, 3077747360,\n",
              "       1952407107,  647749611, 1970599365,  335097949, 1886684858,\n",
              "       3182939515, 3983361126, 1446593684, 1342648568, 2246107975,\n",
              "       1230683435, 2057447740, 1634267082, 2534350037, 3738310991,\n",
              "       2408384502, 2302220611, 2934675162, 2472545857, 3799439733,\n",
              "       3302559810, 3884317674,  231625533, 3846468916], dtype=uint32), 578, 0, 0.0))"
            ]
          },
          "metadata": {
            "tags": []
          },
          "execution_count": 120
        }
      ]
    },
    {
      "cell_type": "code",
      "metadata": {
        "id": "dv4kHHlZpGja"
      },
      "source": [
        "samples = sampler.get_chain()"
      ],
      "execution_count": null,
      "outputs": []
    },
    {
      "cell_type": "code",
      "metadata": {
        "id": "gUOfxnX9pMl5"
      },
      "source": [
        "#if I wanna know the location taht is most common I can take the mean\n",
        "#or the median of all of the chains"
      ],
      "execution_count": null,
      "outputs": []
    },
    {
      "cell_type": "code",
      "metadata": {
        "colab": {
          "base_uri": "https://localhost:8080/",
          "height": 205
        },
        "id": "saJxp08Qp1Jt",
        "outputId": "f8e8c02b-9627-49d1-b601-a6b0e83a8fb8"
      },
      "source": [
        "flat_samples = samples.reshape(50000*32, 2)"
      ],
      "execution_count": null,
      "outputs": [
        {
          "output_type": "error",
          "ename": "ValueError",
          "evalue": "ignored",
          "traceback": [
            "\u001b[0;31m---------------------------------------------------------------------------\u001b[0m",
            "\u001b[0;31mValueError\u001b[0m                                Traceback (most recent call last)",
            "\u001b[0;32m<ipython-input-126-1bd06259a4e4>\u001b[0m in \u001b[0;36m<module>\u001b[0;34m()\u001b[0m\n\u001b[0;32m----> 1\u001b[0;31m \u001b[0mflat_samples\u001b[0m \u001b[0;34m=\u001b[0m \u001b[0msamples\u001b[0m\u001b[0;34m.\u001b[0m\u001b[0mreshape\u001b[0m\u001b[0;34m(\u001b[0m\u001b[0;36m50000\u001b[0m\u001b[0;34m*\u001b[0m\u001b[0;36m32\u001b[0m\u001b[0;34m,\u001b[0m \u001b[0;36m2\u001b[0m\u001b[0;34m)\u001b[0m\u001b[0;34m\u001b[0m\u001b[0;34m\u001b[0m\u001b[0m\n\u001b[0m",
            "\u001b[0;31mValueError\u001b[0m: cannot reshape array of size 320000 into shape (1600000,2)"
          ]
        }
      ]
    },
    {
      "cell_type": "markdown",
      "metadata": {
        "id": "9kWJKpZfqEO0"
      },
      "source": [
        "PER CONTINUARE QUESTO ESERCIZIO C'È UN COMMENTO SU SLACK DEL \n",
        "31/03 ALLE 16:12. "
      ]
    },
    {
      "cell_type": "code",
      "metadata": {
        "id": "xmAOKhqiUsfA"
      },
      "source": [
        ""
      ],
      "execution_count": null,
      "outputs": []
    }
  ]
}