{
  "nbformat": 4,
  "nbformat_minor": 0,
  "metadata": {
    "colab": {
      "name": "Lez23032021.ipynb",
      "provenance": [],
      "authorship_tag": "ABX9TyNjTHsgnTtRCu9e7c4EJEqC",
      "include_colab_link": true
    },
    "kernelspec": {
      "name": "python3",
      "display_name": "Python 3"
    },
    "language_info": {
      "name": "python"
    }
  },
  "cells": [
    {
      "cell_type": "markdown",
      "metadata": {
        "id": "view-in-github",
        "colab_type": "text"
      },
      "source": [
        "<a href=\"https://colab.research.google.com/github/FedeleDelvecchio/MLPNS_fed/blob/main/Lez23032021.ipynb\" target=\"_parent\"><img src=\"https://colab.research.google.com/assets/colab-badge.svg\" alt=\"Open In Colab\"/></a>"
      ]
    },
    {
      "cell_type": "code",
      "metadata": {
        "id": "0RhKzpjmGgsm"
      },
      "source": [
        "#MLPNS2021_classstats for teacher"
      ],
      "execution_count": 60,
      "outputs": []
    },
    {
      "cell_type": "code",
      "metadata": {
        "colab": {
          "base_uri": "https://localhost:8080/"
        },
        "id": "eeiImSnAMJIV",
        "outputId": "1bb5bcb4-6cbc-408e-bc6a-6f91cbb15b5d"
      },
      "source": [
        "import numpy as np\n",
        "import pylab as plt\n",
        "\n",
        "#forward compatibility between python2 and python3\n",
        "from __future__ import print_function, division\n",
        "#plotting imports\n",
        "import pylab as pl\n",
        "import matplotlib \n",
        "from matplotlib import animation\n",
        "from IPython.display import HTML\n",
        "%pylab inline\n",
        "pl.style.use(\"https://raw.githubusercontent.com/fedhere/DSPS/master/fbb.mplstyle\")"
      ],
      "execution_count": 61,
      "outputs": [
        {
          "output_type": "stream",
          "text": [
            "Populating the interactive namespace from numpy and matplotlib\n"
          ],
          "name": "stdout"
        },
        {
          "output_type": "stream",
          "text": [
            "/usr/local/lib/python3.7/dist-packages/IPython/core/magics/pylab.py:161: UserWarning: pylab import has clobbered these variables: ['plt']\n",
            "`%matplotlib` prevents importing * from pylab and numpy\n",
            "  \"\\n`%matplotlib` prevents importing * from pylab and numpy\"\n"
          ],
          "name": "stderr"
        }
      ]
    },
    {
      "cell_type": "code",
      "metadata": {
        "colab": {
          "base_uri": "https://localhost:8080/"
        },
        "id": "74Y5th0mMKm0",
        "outputId": "e99aa481-3d9b-4b30-91b2-2c969c38e606"
      },
      "source": [
        "np.random.rand(10,2) #this is a container"
      ],
      "execution_count": 62,
      "outputs": [
        {
          "output_type": "execute_result",
          "data": {
            "text/plain": [
              "array([[0.29824539, 0.41862686],\n",
              "       [0.45308892, 0.93235066],\n",
              "       [0.58749375, 0.94825237],\n",
              "       [0.55603475, 0.50056142],\n",
              "       [0.00353221, 0.48088904],\n",
              "       [0.927455  , 0.19836569],\n",
              "       [0.05209113, 0.40677889],\n",
              "       [0.37239648, 0.85715306],\n",
              "       [0.02661112, 0.92014923],\n",
              "       [0.680903  , 0.90422599]])"
            ]
          },
          "metadata": {
            "tags": []
          },
          "execution_count": 62
        }
      ]
    },
    {
      "cell_type": "code",
      "metadata": {
        "colab": {
          "base_uri": "https://localhost:8080/"
        },
        "id": "5uWYaeZfMS_s",
        "outputId": "bcdbe7d7-e018-4a12-9707-5249c6b62c27"
      },
      "source": [
        "np.random.rand(10,2).mean()"
      ],
      "execution_count": 63,
      "outputs": [
        {
          "output_type": "execute_result",
          "data": {
            "text/plain": [
              "0.5603417368080775"
            ]
          },
          "metadata": {
            "tags": []
          },
          "execution_count": 63
        }
      ]
    },
    {
      "cell_type": "code",
      "metadata": {
        "colab": {
          "base_uri": "https://localhost:8080/"
        },
        "id": "RP65hbkJNKB0",
        "outputId": "79891374-5040-46cc-aa81-38cd0c43f82e"
      },
      "source": [
        "np.random.rand(10,2).mean(axis=0) #mean along a given axis"
      ],
      "execution_count": 64,
      "outputs": [
        {
          "output_type": "execute_result",
          "data": {
            "text/plain": [
              "array([0.48224963, 0.37605959])"
            ]
          },
          "metadata": {
            "tags": []
          },
          "execution_count": 64
        }
      ]
    },
    {
      "cell_type": "code",
      "metadata": {
        "colab": {
          "base_uri": "https://localhost:8080/"
        },
        "id": "60_wFJunNrf2",
        "outputId": "6c4ef4be-009a-438a-9368-557ad9caf3c4"
      },
      "source": [
        "def mygauss(x, mu, sig):\n",
        "  return 1/np.sqrt(2*np.pi)/sig * (np.exp(-(x-mu)**2/2/sig**2))\n",
        "\n",
        "x = np.arange(100)\n",
        "mu = 50.\n",
        "sig = 10.\n",
        "mygauss(x, mu, sig).dtype #dtype is an attribute so he doesnt require parentesis"
      ],
      "execution_count": 65,
      "outputs": [
        {
          "output_type": "execute_result",
          "data": {
            "text/plain": [
              "dtype('float64')"
            ]
          },
          "metadata": {
            "tags": []
          },
          "execution_count": 65
        }
      ]
    },
    {
      "cell_type": "code",
      "metadata": {
        "colab": {
          "base_uri": "https://localhost:8080/"
        },
        "id": "mNHl4luoNU-J",
        "outputId": "aafd4a07-7948-4e7e-bf46-ff4f50545443"
      },
      "source": [
        "np.random.randn(100)\n",
        "#random number froma a normalized gaussian distribution"
      ],
      "execution_count": 66,
      "outputs": [
        {
          "output_type": "execute_result",
          "data": {
            "text/plain": [
              "array([ 0.76505485, -0.82898883, -0.65915131,  0.61112355, -0.14401335,\n",
              "        1.3166056 , -0.70434215,  0.75060992,  0.34263798, -0.12643756,\n",
              "        1.17591077,  0.68007153, -1.00496715,  0.64021868,  1.37499063,\n",
              "       -0.13044469, -0.24865585, -0.66964715, -0.01360389,  0.68620069,\n",
              "       -0.8176683 , -1.34635756, -0.37574991, -1.37972498,  0.52321844,\n",
              "       -0.42668977, -1.75540184, -0.34860751, -0.19261499,  0.44913561,\n",
              "       -0.14536354,  1.86872646, -0.51870385, -0.06239855, -0.10291061,\n",
              "       -0.28262838,  0.14242559,  0.5412313 ,  1.3400987 , -1.56925613,\n",
              "       -0.51034287, -0.44777143,  0.9378503 , -0.35666306, -1.89517559,\n",
              "        0.08773046, -0.03368923,  0.17975157, -1.04016288,  1.71903468,\n",
              "       -0.32385978, -0.18829686, -0.90000857, -0.931002  , -1.22273696,\n",
              "       -0.39331085, -0.95758184,  2.05646734, -1.88849238, -1.12833055,\n",
              "       -0.40141443,  0.67349128, -0.41375688,  0.67596339, -0.98680389,\n",
              "        0.05929113,  1.74404109, -0.9677444 ,  0.41956768,  0.20692752,\n",
              "       -2.25153499, -0.58897055,  1.13115191,  0.13507767, -1.21226896,\n",
              "        0.69077727, -0.47912295,  0.36005073,  0.37692011, -1.1186956 ,\n",
              "        0.78982803, -1.0075088 , -1.30578587, -0.88282899, -0.34609003,\n",
              "        0.10940316, -0.77258373,  0.74481931,  0.25146418, -0.69479822,\n",
              "        0.88899292,  1.16106836, -0.0986847 , -0.21498304, -1.77377135,\n",
              "       -0.40751259, -0.29150671,  0.24537941, -0.16842643,  0.24402694])"
            ]
          },
          "metadata": {
            "tags": []
          },
          "execution_count": 66
        }
      ]
    },
    {
      "cell_type": "code",
      "metadata": {
        "id": "IYEPH2zZNeAd"
      },
      "source": [
        "#plt.plot(x, np.random.randn)"
      ],
      "execution_count": 67,
      "outputs": []
    },
    {
      "cell_type": "code",
      "metadata": {
        "id": "2JOqquTDPQhi"
      },
      "source": [
        "import scipy as sp\n",
        "from scipy import stats"
      ],
      "execution_count": 68,
      "outputs": []
    },
    {
      "cell_type": "code",
      "metadata": {
        "colab": {
          "base_uri": "https://localhost:8080/"
        },
        "id": "e09F0tyPPbGf",
        "outputId": "4604216e-a1db-4636-d5c7-deecd1504a72"
      },
      "source": [
        "sp.stats.norm.rvs(100,size =(100,2)) #stanard normal disribution object in this package"
      ],
      "execution_count": 69,
      "outputs": [
        {
          "output_type": "execute_result",
          "data": {
            "text/plain": [
              "array([[101.53409029,  99.4700859 ],\n",
              "       [ 99.50902772,  98.69083469],\n",
              "       [ 99.99133953, 100.97681298],\n",
              "       [ 98.24892965,  99.33414303],\n",
              "       [100.0359405 , 100.85010288],\n",
              "       [100.38287024, 100.32546363],\n",
              "       [ 99.77568721, 100.48187426],\n",
              "       [101.01430388,  98.29100822],\n",
              "       [100.7285354 ,  99.90124019],\n",
              "       [ 99.47001114,  97.55692421],\n",
              "       [ 98.61964868, 101.69805899],\n",
              "       [ 99.31145147,  98.91523123],\n",
              "       [ 99.54357404,  99.25485278],\n",
              "       [100.12435863, 101.51697368],\n",
              "       [ 99.41338405, 100.15429005],\n",
              "       [ 98.85276286, 101.52016644],\n",
              "       [100.18904344,  98.91818088],\n",
              "       [100.90430622, 101.19998765],\n",
              "       [100.16145636,  98.36060303],\n",
              "       [101.78516881, 100.31012252],\n",
              "       [101.1704543 ,  99.44910679],\n",
              "       [ 99.60137608, 100.11045311],\n",
              "       [101.11340168, 100.14299003],\n",
              "       [ 98.74316619, 100.2619892 ],\n",
              "       [101.62953419, 100.06580628],\n",
              "       [100.12938552,  98.73745626],\n",
              "       [ 98.59701091,  99.36230786],\n",
              "       [ 99.67348235, 100.10406074],\n",
              "       [100.16595697, 101.60190765],\n",
              "       [100.05868744, 101.06442269],\n",
              "       [ 99.96067067, 101.44890361],\n",
              "       [ 98.12960252,  99.40126823],\n",
              "       [100.9830334 ,  99.82840399],\n",
              "       [100.93152961, 100.3850661 ],\n",
              "       [100.94587698, 100.61306773],\n",
              "       [100.67364893, 101.49245539],\n",
              "       [100.98647402, 100.99380671],\n",
              "       [100.02041876,  99.41814979],\n",
              "       [ 99.34043991, 100.7509446 ],\n",
              "       [ 97.56153944,  98.69282181],\n",
              "       [ 99.03674631,  99.75237862],\n",
              "       [ 97.36856196, 101.2587213 ],\n",
              "       [100.60017524, 101.9845824 ],\n",
              "       [101.06221447, 101.03037933],\n",
              "       [102.25067603,  99.42904191],\n",
              "       [ 98.4965416 ,  99.7676426 ],\n",
              "       [ 99.17500795,  99.74315464],\n",
              "       [ 98.94978101, 100.56788007],\n",
              "       [100.51298285,  99.97307741],\n",
              "       [100.3115815 ,  99.85794927],\n",
              "       [100.75203367, 100.06964075],\n",
              "       [ 99.73455438, 100.92958447],\n",
              "       [101.26082127, 101.33745383],\n",
              "       [ 99.00972531,  99.46555279],\n",
              "       [ 98.29850391,  99.76143498],\n",
              "       [100.41612381,  99.86719883],\n",
              "       [101.93085087,  99.59415662],\n",
              "       [ 98.91149144, 100.56850421],\n",
              "       [100.14993383, 100.5496426 ],\n",
              "       [100.30378793, 100.24376576],\n",
              "       [ 97.87770112,  99.27388597],\n",
              "       [ 99.40967508,  99.65203566],\n",
              "       [ 99.55160836, 100.41281876],\n",
              "       [100.60088251,  98.86835907],\n",
              "       [100.68680441, 100.58576814],\n",
              "       [100.46577007,  98.58210551],\n",
              "       [100.4405823 , 100.08259542],\n",
              "       [100.96088008, 101.7843568 ],\n",
              "       [101.58806789, 100.11264417],\n",
              "       [ 99.99812531, 100.63194828],\n",
              "       [ 98.88496005,  98.54931686],\n",
              "       [ 99.52746941, 101.22056891],\n",
              "       [ 99.6688717 , 101.50258091],\n",
              "       [ 97.21188712,  98.41279357],\n",
              "       [ 99.87631127, 100.88819454],\n",
              "       [ 99.9303769 ,  99.90434726],\n",
              "       [ 99.8782585 ,  98.23710227],\n",
              "       [101.15806887,  99.31723528],\n",
              "       [101.08953266,  99.92947658],\n",
              "       [101.06816039, 100.34325798],\n",
              "       [ 99.89332551, 100.22626165],\n",
              "       [ 98.52702239, 100.00602933],\n",
              "       [101.71604032, 101.30819356],\n",
              "       [ 99.01497642, 100.50568585],\n",
              "       [100.24797988, 100.81718828],\n",
              "       [100.09415289,  99.76649601],\n",
              "       [101.33063078, 100.21639657],\n",
              "       [101.25546432, 100.9743862 ],\n",
              "       [ 99.67551276,  99.83299973],\n",
              "       [101.92983243, 100.19148233],\n",
              "       [ 99.24137158,  98.79995672],\n",
              "       [100.97413244, 100.16029372],\n",
              "       [ 99.20790805, 100.67458483],\n",
              "       [100.1597487 ,  98.33952493],\n",
              "       [100.58868555, 101.3331907 ],\n",
              "       [102.55985023, 100.03490256],\n",
              "       [100.23264966, 101.60659681],\n",
              "       [100.16872227, 100.27534186],\n",
              "       [ 99.36938161,  98.60562489],\n",
              "       [100.91268794,  98.72642976]])"
            ]
          },
          "metadata": {
            "tags": []
          },
          "execution_count": 69
        }
      ]
    },
    {
      "cell_type": "code",
      "metadata": {
        "colab": {
          "base_uri": "https://localhost:8080/",
          "height": 363
        },
        "id": "pFcubvRIPqgA",
        "outputId": "4912ad61-72d5-478d-b9b3-7f33d6c9d32c"
      },
      "source": [
        "plt.hist(np.random.randn(100)* 10 + 100) #normal distribution with standard deviation of 10"
      ],
      "execution_count": 70,
      "outputs": [
        {
          "output_type": "execute_result",
          "data": {
            "text/plain": [
              "(array([ 3.,  5.,  6., 15., 17., 16., 11., 16.,  3.,  8.]),\n",
              " array([ 78.12914069,  82.30298966,  86.47683863,  90.6506876 ,\n",
              "         94.82453656,  98.99838553, 103.1722345 , 107.34608347,\n",
              "        111.51993244, 115.6937814 , 119.86763037]),\n",
              " <a list of 10 Patch objects>)"
            ]
          },
          "metadata": {
            "tags": []
          },
          "execution_count": 70
        },
        {
          "output_type": "display_data",
          "data": {
            "image/png": "[encoded data removed]",
            "text/plain": [
              "<Figure size 432x288 with 1 Axes>"
            ]
          },
          "metadata": {
            "tags": []
          }
        }
      ]
    },
    {
      "cell_type": "code",
      "metadata": {
        "colab": {
          "base_uri": "https://localhost:8080/",
          "height": 363
        },
        "id": "uZSxfg9XQUPa",
        "outputId": "0ae5ba29-333c-4072-e372-ed769706dd13"
      },
      "source": [
        "plt.hist(sp.stats.norm.rvs(100,size =100))"
      ],
      "execution_count": 71,
      "outputs": [
        {
          "output_type": "execute_result",
          "data": {
            "text/plain": [
              "(array([ 4.,  6., 13., 20., 28., 13., 12.,  2.,  1.,  1.]),\n",
              " array([ 97.2055277 ,  97.84213285,  98.478738  ,  99.11534316,\n",
              "         99.75194831, 100.38855346, 101.02515861, 101.66176376,\n",
              "        102.29836891, 102.93497407, 103.57157922]),\n",
              " <a list of 10 Patch objects>)"
            ]
          },
          "metadata": {
            "tags": []
          },
          "execution_count": 71
        },
        {
          "output_type": "display_data",
          "data": {
            "image/png": "[encoded data removed]",
            "text/plain": [
              "<Figure size 432x288 with 1 Axes>"
            ]
          },
          "metadata": {
            "tags": []
          }
        }
      ]
    },
    {
      "cell_type": "code",
      "metadata": {
        "colab": {
          "base_uri": "https://localhost:8080/",
          "height": 363
        },
        "id": "W-mSWdrBQljv",
        "outputId": "b6369907-fee1-438a-8ba7-7bf0387279b5"
      },
      "source": [
        "np.random.seed(123) #sequence of number to generate random numbers\n",
        "plt.hist(np.random.randn(100)*10 + 100)"
      ],
      "execution_count": 72,
      "outputs": [
        {
          "output_type": "execute_result",
          "data": {
            "text/plain": [
              "(array([ 2.,  2.,  9., 17., 16., 14., 11., 16.,  8.,  5.]),\n",
              " array([ 72.01410895,  77.20506332,  82.39601769,  87.58697206,\n",
              "         92.77792643,  97.9688808 , 103.15983517, 108.35078955,\n",
              "        113.54174392, 118.73269829, 123.92365266]),\n",
              " <a list of 10 Patch objects>)"
            ]
          },
          "metadata": {
            "tags": []
          },
          "execution_count": 72
        },
        {
          "output_type": "display_data",
          "data": {
            "image/png": "[encoded data removed]",
            "text/plain": [
              "<Figure size 432x288 with 1 Axes>"
            ]
          },
          "metadata": {
            "tags": []
          }
        }
      ]
    },
    {
      "cell_type": "code",
      "metadata": {
        "id": "LceZfvSSQz7g"
      },
      "source": [
        "#THE LESOSN IS ALWAYS SEED THE RANDOM DISTRUBUTION TO COMPLY REPRODUCIBILITY\n",
        "# EVERY DISTRIBUTION CALLED AFTER IS DETERMINED BY THE SEED CHOSEN BEFORE"
      ],
      "execution_count": 73,
      "outputs": []
    },
    {
      "cell_type": "code",
      "metadata": {
        "id": "fI1MiIDiRJYl"
      },
      "source": [
        "#IN MACHINE LEARNING THERE ARE FUNCTION THAT ALLOW RANDOM STATE, FOR EXAMPLE TO SIMULATE\n",
        "#NEURON TO AVOID FIT OVER IT"
      ],
      "execution_count": 74,
      "outputs": []
    },
    {
      "cell_type": "markdown",
      "metadata": {
        "id": "B_bzxYhKtBAh"
      },
      "source": [
        "Homework 2 (guarda guida notebook dal link sotto):\n",
        "\n",
        "https://github.com/fedhere/MLPNS2021/blob/main/HW2_distributions/centralLimitTheorem.*ipynb*"
      ]
    },
    {
      "cell_type": "code",
      "metadata": {
        "colab": {
          "base_uri": "https://localhost:8080/"
        },
        "id": "B-7NpQsccIOG",
        "outputId": "f540a312-fce0-482f-e974-d332c7a91a54"
      },
      "source": [
        "from __future__ import print_function\n",
        "__author__= 'fbb'\n",
        "\n",
        "import pylab as pl\n",
        "from scipy.optimize import curve_fit, minimize\n",
        "    \n",
        "%pylab inline\n",
        "# this package sets up pretty plots\n",
        "import seaborn\n",
        "seaborn.set_style(\"darkgrid\")\n"
      ],
      "execution_count": 77,
      "outputs": [
        {
          "output_type": "stream",
          "text": [
            "Populating the interactive namespace from numpy and matplotlib\n"
          ],
          "name": "stdout"
        }
      ]
    },
    {
      "cell_type": "code",
      "metadata": {
        "id": "OV6NFXzVip9t"
      },
      "source": [
        "distributions = ['binomial']"
      ],
      "execution_count": 107,
      "outputs": []
    },
    {
      "cell_type": "code",
      "metadata": {
        "colab": {
          "base_uri": "https://localhost:8080/",
          "height": 282
        },
        "id": "cdc-ZpqRjc-O",
        "outputId": "77836dec-861f-4106-d7fa-594650a883a8"
      },
      "source": [
        "np.random.seed(456)\n",
        "md = {}\n",
        "df = 20\n",
        "# md is an empty disctionary; \n",
        "# if you are not familiar with python dictionaries see https://www.pythonforbeginners.com/dictionary/how-to-use-dictionaries-in-python\n",
        "md['binomial'] = np.random.binomial(100, 0.5, size=500)\n",
        "# md now is a dictionary with one object: an array by the key 'chisq'\n",
        "pl.hist(md['binomial'], bins = 30)\n",
        "pl.ylabel('N')\n",
        "pl.xlabel('x');\n"
      ],
      "execution_count": 112,
      "outputs": [
        {
          "output_type": "display_data",
          "data": {
            "image/png": "[encoded data removed]",
            "text/plain": [
              "<Figure size 432x288 with 1 Axes>"
            ]
          },
          "metadata": {
            "tags": []
          }
        }
      ]
    },
    {
      "cell_type": "code",
      "metadata": {
        "colab": {
          "base_uri": "https://localhost:8080/"
        },
        "id": "UNp87rnJkrub",
        "outputId": "58d99b93-d5c9-4deb-c887-72cb41672a0f"
      },
      "source": [
        "#let numpy calculate what the mean and stdev of this distribution are\n",
        "print(\"binomial mean: %.2f, standard deviation: %.2f\"%(md['binomial'].mean(), md['binomial'].std()))"
      ],
      "execution_count": 97,
      "outputs": [
        {
          "output_type": "stream",
          "text": [
            "binomial mean: 49.69, standard deviation: 5.47\n"
          ],
          "name": "stdout"
        }
      ]
    },
    {
      "cell_type": "code",
      "metadata": {
        "colab": {
          "base_uri": "https://localhost:8080/"
        },
        "id": "YgR7NSO4ph5F",
        "outputId": "003e4fc1-5a81-48d9-a0db-c67a2ca7fe26"
      },
      "source": [
        "mysize = (2000 / (np.array(range(1, 100)))).astype(int)\n",
        "# mysize = 1000 / (np.array(range(1, 100) + [10]))\n",
        "# mysize = (np.random.rand(100) * 1000).astype(int)\n",
        "print (\"shape of the 'size' list that contains the size of each distribution\", mysize.shape)"
      ],
      "execution_count": 99,
      "outputs": [
        {
          "output_type": "stream",
          "text": [
            "shape of the 'size' list that contains the size of each distribution (99,)\n"
          ],
          "name": "stdout"
        }
      ]
    },
    {
      "cell_type": "code",
      "metadata": {
        "colab": {
          "base_uri": "https://localhost:8080/",
          "height": 299
        },
        "id": "mIsKk_BKpi7q",
        "outputId": "cc134084-3009-441c-eac6-3203a3f7e282"
      },
      "source": [
        "pl.plot(mysize, '.')\n",
        "pl.xlabel(\"index\")\n",
        "pl.ylabel(\"size of the array\")"
      ],
      "execution_count": 100,
      "outputs": [
        {
          "output_type": "execute_result",
          "data": {
            "text/plain": [
              "Text(0, 0.5, 'size of the array')"
            ]
          },
          "metadata": {
            "tags": []
          },
          "execution_count": 100
        },
        {
          "output_type": "display_data",
          "data": {
            "image/png": "[encoded data removed]",
            "text/plain": [
              "<Figure size 432x288 with 1 Axes>"
            ]
          },
          "metadata": {
            "tags": []
          }
        }
      ]
    },
    {
      "cell_type": "code",
      "metadata": {
        "colab": {
          "base_uri": "https://localhost:8080/",
          "height": 1000
        },
        "id": "zfhpNmaCmShV",
        "outputId": "c7f5fbe2-268e-4520-ee27-c14579b6117e"
      },
      "source": [
        "# I am gonna overwrite the disctionary entry created into a nested dictionary \n",
        "# the outside dictionary hosts the distributions as dictionary, \n",
        "# and each distribution dictionary contains the 100 distribution (arrays of diferent sizes)\n",
        "\n",
        "md['binomial'] = {} \n",
        "\n",
        "#and do it in a for loop. not pythonic, but easily readable\n",
        "\n",
        "for n in mysize:\n",
        "    md['binomial'][n] = np.random.chisquare(df, size = n)\n",
        "    \n",
        "# save the means for plotting later    \n",
        "\n",
        "md['binomial']['means'] = {}\n",
        "axchisq_mu_n = pl.figure(figsize=(10,6)).add_subplot(111)\n",
        "\n",
        "for nn in md['binomial']:\n",
        "    if not type(nn) == str:\n",
        "        md['binomial']['means'][nn] = md['binomial'][nn].mean()\n",
        "        #and plot it\n",
        "        axchisq_mu_n.plot(nn, md['binomial']['means'][nn], 'o')\n",
        "        axchisq_mu_n.set_xlabel('sample size', fontsize=18)\n",
        "        axchisq_mu_n.set_ylabel('sample mean', fontsize=18)\n",
        "        axchisq_mu_n.set_title('binomial', fontsize=18)\n",
        "        axchisq_mu_n.plot([min(mysize), max(mysize)], [df, df], 'k')\n",
        "axchisq_mu_n.text(axchisq_mu_n.get_xlim()[1] * .6, 100, \"expected mean\", \n",
        "                  va=\"bottom\", fontsize=20)"
      ],
      "execution_count": 102,
      "outputs": [
        {
          "output_type": "execute_result",
          "data": {
            "text/plain": [
              "Text(1259.3999999999999, 100, 'expected mean')"
            ]
          },
          "metadata": {
            "tags": []
          },
          "execution_count": 102
        },
        {
          "output_type": "display_data",
          "data": {
            "image/png": "[encoded data removed]",
            "text/plain": [
              "<Figure size 720x432 with 1 Axes>"
            ]
          },
          "metadata": {
            "tags": []
          }
        }
      ]
    },
    {
      "cell_type": "markdown",
      "metadata": {
        "id": "oKlGg9MhqGjU"
      },
      "source": [
        "**now the histogram of the mean of all samples**:\n",
        "\n",
        "\n",
        "this requires some data wrangling, since i put the data in a dictionary which is a user friendly data structure, but perhaps not the most machine friendly one "
      ]
    },
    {
      "cell_type": "code",
      "metadata": {
        "colab": {
          "base_uri": "https://localhost:8080/",
          "height": 634
        },
        "id": "wO6so4yYqK-G",
        "outputId": "5a13146f-2756-4162-8f40-c1b2e5b590e2"
      },
      "source": [
        "allmeans = list(md['binomial']['means'].values())\n",
        "\n",
        "pl.figure(figsize=(10, 10))\n",
        "pl.hist(allmeans,bins=30)\n",
        "pl.xlabel('sample mean', fontsize = 18)\n",
        "pl.ylabel('N', fontsize = 18)"
      ],
      "execution_count": 106,
      "outputs": [
        {
          "output_type": "execute_result",
          "data": {
            "text/plain": [
              "Text(0, 0.5, 'N')"
            ]
          },
          "metadata": {
            "tags": []
          },
          "execution_count": 106
        },
        {
          "output_type": "display_data",
          "data": {
            "image/png": "[encoded data removed]",
            "text/plain": [
              "<Figure size 720x720 with 1 Axes>"
            ]
          },
          "metadata": {
            "tags": []
          }
        }
      ]
    },
    {
      "cell_type": "code",
      "metadata": {
        "id": "Yb5vhxdyqp09"
      },
      "source": [
        ""
      ],
      "execution_count": null,
      "outputs": []
    }
  ]
}